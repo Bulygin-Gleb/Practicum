{
 "cells": [
  {
   "cell_type": "markdown",
   "metadata": {},
   "source": [
    "Привет, меня зовут Артем Хуршудов. Сегодня я проверю твой проект.\n",
    "<br> Дальнейшее общение будет происходить на \"ты\" если это не вызывает никаких проблем.\n",
    "<br> Желательно реагировать на каждый мой комментарий ('исправил', 'не понятно как исправить ошибку', ...)\n",
    "<br> Пожалуйста, не удаляй комментарии ревьюера, так как они повышают качество повторного ревью.\n",
    "\n",
    "Комментарии будут в <font color='green'>зеленой</font>, <font color='blue'>синей</font> или <font color='red'>красной</font> рамках:\n",
    "\n",
    "<div class=\"alert alert-block alert-success\">\n",
    "<b>Успех:</b> Если все сделано отлично\n",
    "</div>\n",
    "\n",
    "<div class=\"alert alert-block alert-info\">\n",
    "<b>Совет: </b> Если можно немного улучшить\n",
    "</div>\n",
    "\n",
    "<div class=\"alert alert-block alert-danger\">\n",
    "<b>Ошибка:</b> Если требуются исправления. Работа не может быть принята с красными комментариями.\n",
    "</div>\n",
    "\n",
    "-------------------\n",
    "\n",
    "Будет очень хорошо, если ты будешь помечать свои действия следующим образом:\n",
    "<div class=\"alert alert-block alert-warning\">\n",
    "<b>Комментарий студента:</b> ...\n",
    "</div>\n",
    "\n",
    "<div class=\"alert alert-block alert-warning\">\n",
    "<b>Изменения:</b> Были внесены следующие изменения ...\n",
    "</div>\n",
    "\n",
    "### <font color='orange'>Общее впечатление</font>\n",
    "* Большое спасибо за проделанную работу. Видно, что приложено много усилий.\n",
    "* Выводы и рассуждения получились содержательными, их было интересно читать.\n",
    "* Отлично, что доверительный интервал и риск убытков посчитаны верно.\n",
    "* Над этим проектом нужно будет еще немного поработать. Однако, изменения не должны занять много времени.\n",
    "* В работе я оставил несколько советов. Буду рад, если ты учтешь их.\n",
    "* С радостью отвечу на твои вопросы, если они есть. Лучше всего их собрать в следующей ячейке. Жду новую версию проекта.\n",
    "\n",
    "### <font color='orange'>Общее впечатление (ревью 2)</font>\n",
    "* После исправлений проект улучшился и теперь он может быть зачтен.\n",
    "* Для удобства все новые комментарии обозначены фразой \"ревью 2\".\n",
    "* Удачи в дальнейшем обучении и следующих работах!"
   ]
  },
  {
   "cell_type": "markdown",
   "metadata": {},
   "source": [
    "# Выбор локации для скважины"
   ]
  },
  {
   "cell_type": "markdown",
   "metadata": {},
   "source": [
    "Допустим, вы работаете в добывающей компании «ГлавРосГосНефть». Нужно решить, где бурить новую скважину.\n",
    "\n",
    "Вам предоставлены пробы нефти в трёх регионах: в каждом 10 000 месторождений, где измерили качество нефти и объём её запасов. Постройте модель машинного обучения, которая поможет определить регион, где добыча принесёт наибольшую прибыль. Проанализируйте возможную прибыль и риски техникой *Bootstrap.*\n",
    "\n",
    "Шаги для выбора локации:\n",
    "\n",
    "- В избранном регионе ищут месторождения, для каждого определяют значения признаков;\n",
    "- Строят модель и оценивают объём запасов;\n",
    "- Выбирают месторождения с самым высокими оценками значений. Количество месторождений зависит от бюджета компании и стоимости разработки одной скважины;\n",
    "- Прибыль равна суммарной прибыли отобранных месторождений."
   ]
  },
  {
   "cell_type": "markdown",
   "metadata": {},
   "source": [
    "## Загрузка и подготовка данных"
   ]
  },
  {
   "cell_type": "markdown",
   "metadata": {},
   "source": [
    " ###  Подключение библиотек"
   ]
  },
  {
   "cell_type": "code",
   "execution_count": 1,
   "metadata": {},
   "outputs": [],
   "source": [
    "import pandas as pd\n",
    "import math \n",
    "import numpy as np\n",
    "from sklearn.model_selection import train_test_split\n",
    "from sklearn.linear_model import LinearRegression\n",
    "from sklearn.metrics import mean_squared_error"
   ]
  },
  {
   "cell_type": "markdown",
   "metadata": {},
   "source": [
    "<div class=\"alert alert-block alert-success\">\n",
    "<b>Успех:</b> Отлично, что все импорты собраны в первой ячейке ноутбука! Если у того, кто будет запускать твой ноутбук будут отсутствовать некоторые библиотеки, то он это увидит сразу, а не в процессе!\n",
    "</div>"
   ]
  },
  {
   "cell_type": "markdown",
   "metadata": {},
   "source": [
    " ###  Загрузка файла"
   ]
  },
  {
   "cell_type": "code",
   "execution_count": 2,
   "metadata": {},
   "outputs": [
    {
     "name": "stdout",
     "output_type": "stream",
     "text": [
      "Index(['id', 'f0', 'f1', 'f2', 'product'], dtype='object')\n",
      "Index(['id', 'f0', 'f1', 'f2', 'product'], dtype='object')\n",
      "Index(['id', 'f0', 'f1', 'f2', 'product'], dtype='object')\n"
     ]
    }
   ],
   "source": [
    "try:\n",
    "    data = pd.read_csv('C:/Users/elve/Desktop/Обучение/Churn_Modelling.csv')\n",
    "except:\n",
    "    data_0 = pd.read_csv('/datasets/geo_data_0.csv')\n",
    "    data_1 = pd.read_csv('/datasets/geo_data_1.csv')\n",
    "    data_2 = pd.read_csv('/datasets/geo_data_2.csv')\n",
    "print(data_0.columns)\n",
    "print(data_1.columns)\n",
    "print(data_2.columns)    "
   ]
  },
  {
   "cell_type": "markdown",
   "metadata": {},
   "source": [
    " ###  Проверка данных\n",
    " * Проверим на дубликаты\n",
    " * Проверим на пропуски данных\n",
    " * Проверим верность типов данных"
   ]
  },
  {
   "cell_type": "code",
   "execution_count": 3,
   "metadata": {},
   "outputs": [],
   "source": [
    "def check_data (data_i):\n",
    "    temp = data_i.copy() \n",
    "# проверяем дубликаты\n",
    "    print('Кол-во дубликатов:',temp.duplicated().sum())\n",
    "    list_c=['id', 'f0', 'f1', 'f2', 'product']\n",
    "    print(temp.info())\n",
    "    for col_l in list_c:\n",
    "        print('-------------------------')\n",
    "        print(col_l, temp[col_l].sort_values().unique())\n",
    "        print(col_l,': кол-во NaN',temp[col_l].isna().sum(),\n",
    "        ', процент NaN', round(temp[col_l].isna().sum()/len(temp)*100, 2),'%')"
   ]
  },
  {
   "cell_type": "code",
   "execution_count": 4,
   "metadata": {
    "scrolled": true
   },
   "outputs": [
    {
     "name": "stdout",
     "output_type": "stream",
     "text": [
      "Кол-во дубликатов: 0\n",
      "<class 'pandas.core.frame.DataFrame'>\n",
      "RangeIndex: 100000 entries, 0 to 99999\n",
      "Data columns (total 5 columns):\n",
      " #   Column   Non-Null Count   Dtype  \n",
      "---  ------   --------------   -----  \n",
      " 0   id       100000 non-null  object \n",
      " 1   f0       100000 non-null  float64\n",
      " 2   f1       100000 non-null  float64\n",
      " 3   f2       100000 non-null  float64\n",
      " 4   product  100000 non-null  float64\n",
      "dtypes: float64(4), object(1)\n",
      "memory usage: 3.8+ MB\n",
      "None\n",
      "-------------------------\n",
      "id ['006OJ' '009eY' '00AfQ' ... 'zztWK' 'zzyhQ' 'zzzLH']\n",
      "id : кол-во NaN 0 , процент NaN 0.0 %\n",
      "-------------------------\n",
      "f0 [-1.40860531 -1.35177299 -1.30222711 ...  2.33375269  2.33707957\n",
      "  2.36233081]\n",
      "f0 : кол-во NaN 0 , процент NaN 0.0 %\n",
      "-------------------------\n",
      "f1 [-0.8482185  -0.84490792 -0.8205609  ...  1.33334561  1.33482762\n",
      "  1.34376933]\n",
      "f1 : кол-во NaN 0 , процент NaN 0.0 %\n",
      "-------------------------\n",
      "f2 [-12.08832812 -10.13834135 -10.13817115 ...  15.23032159  15.42837187\n",
      "  16.00379001]\n",
      "f2 : кол-во NaN 0 , процент NaN 0.0 %\n",
      "-------------------------\n",
      "product [0.00000000e+00 4.02152316e-03 6.11363631e-03 ... 1.85355615e+02\n",
      " 1.85362690e+02 1.85364347e+02]\n",
      "product : кол-во NaN 0 , процент NaN 0.0 %\n"
     ]
    }
   ],
   "source": [
    "check_data (data_0)"
   ]
  },
  {
   "cell_type": "code",
   "execution_count": 5,
   "metadata": {
    "scrolled": true
   },
   "outputs": [
    {
     "name": "stdout",
     "output_type": "stream",
     "text": [
      "Кол-во дубликатов: 0\n",
      "<class 'pandas.core.frame.DataFrame'>\n",
      "RangeIndex: 100000 entries, 0 to 99999\n",
      "Data columns (total 5 columns):\n",
      " #   Column   Non-Null Count   Dtype  \n",
      "---  ------   --------------   -----  \n",
      " 0   id       100000 non-null  object \n",
      " 1   f0       100000 non-null  float64\n",
      " 2   f1       100000 non-null  float64\n",
      " 3   f2       100000 non-null  float64\n",
      " 4   product  100000 non-null  float64\n",
      "dtypes: float64(4), object(1)\n",
      "memory usage: 3.8+ MB\n",
      "None\n",
      "-------------------------\n",
      "id ['0022J' '003Gl' '003Vx' ... 'zzv4E' 'zzy2c' 'zzzvI']\n",
      "id : кол-во NaN 0 , процент NaN 0.0 %\n",
      "-------------------------\n",
      "f0 [-31.60957602 -27.82961614 -26.64625507 ...  28.93082879  29.25906208\n",
      "  29.42175461]\n",
      "f0 : кол-во NaN 0 , процент NaN 0.0 %\n",
      "-------------------------\n",
      "f1 [-26.35859801 -25.38962242 -25.2915177  ...  16.0268693   16.7371962\n",
      "  18.73406263]\n",
      "f1 : кол-во NaN 0 , процент NaN 0.0 %\n",
      "-------------------------\n",
      "f2 [-0.01814409 -0.01788668 -0.01768626 ...  5.01750345  5.01909142\n",
      "  5.01972056]\n",
      "f2 : кол-во NaN 0 , процент NaN 0.0 %\n",
      "-------------------------\n",
      "product [  0.           3.17910258  26.95326103  30.13236361  53.90652206\n",
      "  57.08562465  80.85978309  84.03888568 107.81304413 110.99214671\n",
      " 134.76630516 137.94540774]\n",
      "product : кол-во NaN 0 , процент NaN 0.0 %\n"
     ]
    }
   ],
   "source": [
    "check_data (data_1)"
   ]
  },
  {
   "cell_type": "code",
   "execution_count": 6,
   "metadata": {
    "scrolled": true
   },
   "outputs": [
    {
     "name": "stdout",
     "output_type": "stream",
     "text": [
      "Кол-во дубликатов: 0\n",
      "<class 'pandas.core.frame.DataFrame'>\n",
      "RangeIndex: 100000 entries, 0 to 99999\n",
      "Data columns (total 5 columns):\n",
      " #   Column   Non-Null Count   Dtype  \n",
      "---  ------   --------------   -----  \n",
      " 0   id       100000 non-null  object \n",
      " 1   f0       100000 non-null  float64\n",
      " 2   f1       100000 non-null  float64\n",
      " 3   f2       100000 non-null  float64\n",
      " 4   product  100000 non-null  float64\n",
      "dtypes: float64(4), object(1)\n",
      "memory usage: 3.8+ MB\n",
      "None\n",
      "-------------------------\n",
      "id ['009Gl' '00AuD' '00CaL' ... 'zzqqy' 'zzsKd' 'zzz9h']\n",
      "id : кол-во NaN 0 , процент NaN 0.0 %\n",
      "-------------------------\n",
      "f0 [-8.76000362 -7.45058711 -7.18949804 ...  7.19461485  7.21552717\n",
      "  7.23826248]\n",
      "f0 : кол-во NaN 0 , процент NaN 0.0 %\n",
      "-------------------------\n",
      "f1 [-7.08401976 -6.74835677 -6.73299712 ...  7.10161842  7.76185714\n",
      "  7.84480127]\n",
      "f1 : кол-во NaN 0 , процент NaN 0.0 %\n",
      "-------------------------\n",
      "f2 [-11.97033454 -11.61169048 -11.40724351 ...  16.31301122  16.35764509\n",
      "  16.73940206]\n",
      "f2 : кол-во NaN 0 , процент NaN 0.0 %\n",
      "-------------------------\n",
      "product [0.00000000e+00 4.60600004e-03 9.20411196e-03 ... 1.90011722e+02\n",
      " 1.90013589e+02 1.90029838e+02]\n",
      "product : кол-во NaN 0 , процент NaN 0.0 %\n"
     ]
    }
   ],
   "source": [
    "check_data (data_2)"
   ]
  },
  {
   "cell_type": "code",
   "execution_count": 7,
   "metadata": {},
   "outputs": [],
   "source": [
    "data_0=data_0.drop('id', axis=1)\n",
    "data_1=data_1.drop('id', axis=1)\n",
    "data_2=data_2.drop('id', axis=1)"
   ]
  },
  {
   "cell_type": "markdown",
   "metadata": {},
   "source": [
    "<b>Вывод:</b> Данные не имеют пропусков и дубликатов. Убран столбец ID так как не влияет на результаты модели."
   ]
  },
  {
   "cell_type": "markdown",
   "metadata": {},
   "source": [
    "<div class=\"alert alert-block alert-success\">\n",
    "<b>Успех:</b> Данные загружены и осмотрены корректно. Согласен, что колонка id нам не нужна.\n",
    "</div>"
   ]
  },
  {
   "cell_type": "markdown",
   "metadata": {},
   "source": [
    "## Обучение и проверка модели"
   ]
  },
  {
   "cell_type": "code",
   "execution_count": 16,
   "metadata": {},
   "outputs": [],
   "source": [
    "def change_reg (data_i):\n",
    "    target = data_i['product']\n",
    "    features = data_i.drop('product', axis=1)\n",
    "    features_train, features_valid,target_train, target_valid = train_test_split(features,target, train_size=0.75, random_state=12345)\n",
    "    model = LinearRegression()\n",
    "    model.fit(features_train,target_train)\n",
    "    predicted_valid = model.predict(features_valid)\n",
    "    data = {'target': target_valid, 'predict': predicted_valid}\n",
    "    df = pd.DataFrame(data, columns = ['target', 'predict'] )\n",
    "    mean_predict=predicted_valid.mean()\n",
    "    sum_predict=sum(predicted_valid)\n",
    "    mse = mean_squared_error(target_valid, predicted_valid)\n",
    "    rmse = math.sqrt(mse)\n",
    "\n",
    "    return df,mean_predict,sum_predict,mse,rmse"
   ]
  },
  {
   "cell_type": "code",
   "execution_count": 17,
   "metadata": {},
   "outputs": [
    {
     "name": "stdout",
     "output_type": "stream",
     "text": [
      "Результат по региону 0:\n",
      "Cредний запас предсказанного сырья  = 92.59\n",
      "Общий запас предсказанного сырья  =  2,314,814.19\n",
      "RSME = 37.58\n",
      "           target    predict\n",
      "71751   10.038645  95.894952\n",
      "80493  114.551489  77.572583\n",
      "2655   132.603635  77.892640\n",
      "\n",
      "Результат по региону 1:\n",
      "Cредний запас предсказанного сырья  = 68.73\n",
      "Общий запас предсказанного сырья  =  1,718,213.67\n",
      "RSME = 0.89\n",
      "          target    predict\n",
      "71751  80.859783  82.663314\n",
      "80493  53.906522  54.431786\n",
      "2655   30.132364  29.748760\n",
      "\n",
      "Результат по региону 2:\n",
      "Cредний запас предсказанного сырья  = 94.97\n",
      "Общий запас предсказанного сырья  =  2,374,126.15\n",
      "RSME = 40.03\n",
      "          target    predict\n",
      "71751  61.212375  93.599633\n",
      "80493  41.850118  75.105159\n",
      "2655   57.776581  90.066809\n",
      "\n"
     ]
    }
   ],
   "source": [
    "\n",
    "df_0,mp_0,sp_0,mse_0,rmse_0=change_reg (data_0)\n",
    "print (\"Результат по региону 0:\")\n",
    "print('Cредний запас предсказанного сырья  = {:.2f}'.format(mp_0))\n",
    "print('Общий запас предсказанного сырья  = {: ,.2f}'.format(sp_0))\n",
    "print('RSME = {:.2f}'.format(rmse_0))\n",
    "print(df_0.head(3))\n",
    "print()\n",
    "\n",
    "df_1,mp_1,sp_1,mse_1,rmse_1=change_reg (data_1)\n",
    "print (\"Результат по региону 1:\")\n",
    "print('Cредний запас предсказанного сырья  = {:.2f}'.format(mp_1))\n",
    "print('Общий запас предсказанного сырья  = {: ,.2f}'.format(sp_1))\n",
    "print('RSME = {:.2f}'.format(rmse_1))\n",
    "print(df_1.head(3))\n",
    "print()\n",
    "\n",
    "df_2,mp_2,sp_2,mse_2,rmse_2=change_reg (data_2)\n",
    "print (\"Результат по региону 2:\")\n",
    "print('Cредний запас предсказанного сырья  = {:.2f}'.format(mp_2))\n",
    "print('Общий запас предсказанного сырья  = {: ,.2f}'.format(sp_2))\n",
    "print('RSME = {:.2f}'.format(rmse_2))\n",
    "print(df_2.head(3))\n",
    "print()"
   ]
  },
  {
   "cell_type": "markdown",
   "metadata": {},
   "source": [
    "<b>Вывод:</b> Для каждого региона проведено моделирования целевого показателя [product] с помощью модели линейной регрессии.\n",
    "Полученные показатели RSMEв случае 0 и 2 региона имеет допустимое значение (40 и 37).  Результат RSME 1 региона стримиться к 0, но при этом в регионе наименьшие средние запасы нефти. \n"
   ]
  },
  {
   "cell_type": "markdown",
   "metadata": {},
   "source": [
    "<div class=\"alert alert-block alert-success\">\n",
    "<b>Успех:</b> Модели обучены корректно. Радует, что ты активно используешь функции. Это помогает избежать дублирования кода, а значит уменьшает вероятность совершить ошибку/опечатку!\n",
    "</div>\n",
    "\n",
    "<div class=\"alert alert-block alert-info\">\n",
    "<b>Совет: </b> Внутри функции переменные лучше называть маленькими буквами, так как это не константы.\n",
    "</div>"
   ]
  },
  {
   "cell_type": "markdown",
   "metadata": {},
   "source": [
    "<div class=\"alert alert-block alert-warning\">\n",
    "<b>Изменения:</b> Убрал большие буквы\n",
    "</div>"
   ]
  },
  {
   "cell_type": "markdown",
   "metadata": {},
   "source": [
    "<div class=\"alert alert-block alert-success\">\n",
    "<b>Успех (ревью 2):</b> ОК.\n",
    "</div>"
   ]
  },
  {
   "cell_type": "markdown",
   "metadata": {},
   "source": [
    "## Подготовка к расчёту прибыли"
   ]
  },
  {
   "cell_type": "code",
   "execution_count": 18,
   "metadata": {},
   "outputs": [
    {
     "name": "stdout",
     "output_type": "stream",
     "text": [
      "Минимальное среднее количество продукта = 111.11\n",
      "Cреднее количество продукта в регионе 0 = 92.50\n",
      "Cреднее количество продукта в регионе 1 = 68.83\n",
      "Cреднее количество продукта в регионе 2 = 95.00\n"
     ]
    }
   ],
   "source": [
    "INVEST_COST=10000000000\n",
    "ALL_POINT=500\n",
    "BEST_POINT=200\n",
    "REV_FOR_1BARL=450000\n",
    "avg_rev_for_1point=INVEST_COST/BEST_POINT\n",
    "avg_product_for_1point=avg_rev_for_1point/REV_FOR_1BARL\n",
    "print('Минимальное среднее количество продукта = {:.2f}'.format(avg_product_for_1point))\n",
    "print('Cреднее количество продукта в регионе 0 = {:.2f}'.format(data_0['product'].mean()))\n",
    "print('Cреднее количество продукта в регионе 1 = {:.2f}'.format(data_1['product'].mean()))\n",
    "print('Cреднее количество продукта в регионе 2 = {:.2f}'.format(data_2['product'].mean()))\n",
    "\n"
   ]
  },
  {
   "cell_type": "markdown",
   "metadata": {},
   "source": [
    "<div class=\"alert alert-block alert-info\">\n",
    "\n",
    "<b>Совет: </b> В названиях константных переменных лучше использовать только БОЛЬШИЕ буквы. Это соглашение между программистами: https://pythonworld.ru/osnovy/pep-8-rukovodstvo-po-napisaniyu-koda-na-python.html#id29 .\n",
    "</div>"
   ]
  },
  {
   "cell_type": "markdown",
   "metadata": {},
   "source": [
    "<div class=\"alert alert-block alert-warning\">\n",
    "<b>Изменения:</b> Перевел  константы в верхний регистр\n",
    "</div>"
   ]
  },
  {
   "cell_type": "markdown",
   "metadata": {},
   "source": [
    "<div class=\"alert alert-block alert-success\">\n",
    "<b>Успех (ревью 2):</b> Спасибо!\n",
    "</div>"
   ]
  },
  {
   "cell_type": "markdown",
   "metadata": {},
   "source": [
    "<b>Выводы:</b>  \n",
    "    Хотя среднее значение запаса сырья по регионом меньше, чем минимально допустимое, мы видим, что регионы 1 и 3 совсем немного не добирают, следовательно при дальнейшей выборке наилучших месторождений можно прогнозировать запас выше минимального среднего. Для региона 2 так же сохраняется вероятность обеспечить средней запас выше минимального значения. \n"
   ]
  },
  {
   "cell_type": "code",
   "execution_count": 11,
   "metadata": {},
   "outputs": [],
   "source": [
    "def d(data_t,data_p):\n",
    "    data_p=data_p.sort_values(ascending=False)\n",
    "    data=data_t[data_p.index].head(200)\n",
    "    all_rev_in_top200 =sum(data)*rev_for_1barl-invest_cost\n",
    "    barl_in_top200= data.mean()\n",
    "   # print('Cреднее количество продукта = {:.2f}'.format(data_i.mean()))\n",
    "   # print('Cреднее количество продукта(топ 200) = {:.2f}'.format(barl_in_top200))\n",
    "   # print('Прибыль = ${:,.2f}'.format(  all_rev_in_top200))\n",
    "    return all_rev_in_top200"
   ]
  },
  {
   "cell_type": "markdown",
   "metadata": {},
   "source": [
    "<div class=\"alert alert-block alert-danger\">\n",
    "<b>Ошибка:</b> Для выбора 200 лучших скважин нужно использовать предсказанные значения. А вот для подсчета прибыли должны использоваться настоящие значения соответствующих ячеек.\n",
    "</div>"
   ]
  },
  {
   "cell_type": "markdown",
   "metadata": {},
   "source": [
    "<div class=\"alert alert-block alert-warning\">\n",
    "<b>Изменения:</b> Добавил индексы из  выборки предсказаний.\n",
    "</div>"
   ]
  },
  {
   "cell_type": "markdown",
   "metadata": {},
   "source": [
    "<div class=\"alert alert-block alert-success\">\n",
    "<b>Успех (ревью 2):</b> Верно.\n",
    "</div>"
   ]
  },
  {
   "cell_type": "markdown",
   "metadata": {},
   "source": [
    "## Расчёт прибыли и рисков "
   ]
  },
  {
   "cell_type": "code",
   "execution_count": 12,
   "metadata": {},
   "outputs": [],
   "source": [
    "\n",
    "state = np.random.RandomState(12345)\n",
    "def d2(target,predict):\n",
    "    values = []\n",
    "    negativ=0\n",
    "    for i in range(1000):\n",
    "        target_subsample = target.sample(n=all_point, replace=True, random_state=state)\n",
    "        predict_subsample= predict[target_subsample.index]\n",
    "        rezult =d(target_subsample,predict_subsample)\n",
    "        if rezult<0:\n",
    "            negativ+=1\n",
    "        values.append(rezult)\n",
    "    values=pd.Series(values)\n",
    "    lower =  values.quantile(0.025)\n",
    "    upper =  values.quantile(0.975)\n",
    "    mean = values.mean()\n",
    "    risk=negativ/1000*100\n",
    "    print('Cредняя прибыль  = ${:,.2f}'.format(mean))\n",
    "    print(' 95%-й доверительный интервал  от ${:,.2f} до ${:,.2f} тыс.руб.'.format(lower,upper))\n",
    "    print('Риск убытка от {:,.1f}%'.format(risk) )\n",
    "    print()\n",
    "    return\n",
    "  \n"
   ]
  },
  {
   "cell_type": "markdown",
   "metadata": {},
   "source": [
    "<div class=\"alert alert-block alert-success\">\n",
    "<b>Успех:</b> Отлично, что для подсчета доверительного интервала использовался именно метод квантилей!\n",
    "</div>\n",
    "\n",
    "\n",
    "<div class=\"alert alert-block alert-info\">\n",
    "\n",
    "<b>Совет: </b> Риск можно было найти чуть проще: `(values < 0).mean()`, если объект типа pandas Series или numpy array.\n",
    "</div>"
   ]
  },
  {
   "cell_type": "code",
   "execution_count": 14,
   "metadata": {},
   "outputs": [
    {
     "name": "stdout",
     "output_type": "stream",
     "text": [
      "Результат по региону 0:\n",
      "Cредняя прибыль  = $425,938,526.91\n",
      " 95%-й доверительный интервал  от $-102,090,094.84 до $947,976,353.36 тыс.руб.\n",
      "Риск убытка от 6.0%\n",
      "\n",
      "Результат по региону 1:\n",
      "Cредняя прибыль  = $518,259,493.70\n",
      " 95%-й доверительный интервал  от $128,123,231.43 до $953,612,982.07 тыс.руб.\n",
      "Риск убытка от 0.3%\n",
      "\n",
      "Результат по региону 2:\n",
      "Cредняя прибыль  = $420,194,005.34\n",
      " 95%-й доверительный интервал  от $-115,852,609.16 до $989,629,939.84 тыс.руб.\n",
      "Риск убытка от 6.2%\n",
      "\n"
     ]
    }
   ],
   "source": [
    "  print (\"Результат по региону 0:\")\n",
    "d2(df_0['target'],df_0['predict'])\n",
    "  print (\"Результат по региону 1:\")\n",
    "d2(df_1['target'],df_1['predict'])\n",
    "  print (\"Результат по региону 2:\")\n",
    "d2(df_2['target'],df_2['predict'])\n"
   ]
  },
  {
   "cell_type": "markdown",
   "metadata": {},
   "source": [
    "<s><b>Выводы</b> Регионы 0 и 2 остаются наиболее перспективными для разработки.  Регион 1 также показывает возможность получения прибыли, но возникают риски убытка и уровень прибыли ниже относительно двух других регионов. \n",
    "Выбираем регион 2</s>"
   ]
  },
  {
   "cell_type": "markdown",
   "metadata": {},
   "source": [
    "<div class=\"alert alert-block alert-warning\">\n",
    "<b>Выводы:</b> Результаты повтроного анализа (после исправления ошибки) приводят к тому, что только регион 1 окупит  инвестициию. По региону 0 и 2 риски убытка высокие. Выбираем регион №1 \n",
    "</div>"
   ]
  },
  {
   "cell_type": "markdown",
   "metadata": {},
   "source": [
    "<div class=\"alert alert-block alert-success\">\n",
    "<b>Успех (ревью 2):</b> Теперь все статистики посчитаны верно. С выбором региона согласен.\n",
    "</div>"
   ]
  },
  {
   "cell_type": "markdown",
   "metadata": {},
   "source": [
    "## Чек-лист готовности проекта"
   ]
  },
  {
   "cell_type": "markdown",
   "metadata": {},
   "source": [
    "Поставьте 'x' в выполненных пунктах. Далее нажмите Shift+Enter."
   ]
  },
  {
   "cell_type": "markdown",
   "metadata": {},
   "source": [
    "- [x]  Jupyter Notebook открыт\n",
    "- [x]  Весь код выполняется без ошибок\n",
    "- [x]  Ячейки с кодом расположены в порядке исполнения\n",
    "- [x]  Выполнен шаг 1: данные подготовлены\n",
    "- [x]  Выполнен шаг 2: модели обучены и проверены\n",
    "    - [X]  Данные корректно разбиты на обучающую и валидационную выборки\n",
    "    - [X]  Модели обучены, предсказания сделаны\n",
    "    - [X]  Предсказания и правильные ответы на валидационной выборке сохранены\n",
    "    - [X]  На экране напечатаны результаты\n",
    "    - [X]  Сделаны выводы\n",
    "- [ ]  Выполнен шаг 3: проведена подготовка к расчёту прибыли\n",
    "    - [X]  Для всех ключевых значений созданы константы Python\n",
    "    - [X]  Посчитано минимальное среднее количество продукта в месторождениях региона, достаточное для разработки\n",
    "    - [X]  По предыдущему пункту сделаны выводы\n",
    "    - [X]  Написана функция расчёта прибыли\n",
    "- [ ]  Выполнен шаг 4: посчитаны риски и прибыль\n",
    "    - [X]  Проведена процедура *Bootstrap*\n",
    "    - [X]  Все параметры бутстрепа соответствуют условию\n",
    "    - [X]  Найдены все нужные величины\n",
    "    - [x]  Предложен регион для разработки месторождения\n",
    "    - [x]  Выбор региона обоснован"
   ]
  }
 ],
 "metadata": {
  "ExecuteTimeLog": [
   {
    "duration": 51,
    "start_time": "2022-06-23T06:15:29.348Z"
   },
   {
    "duration": 387,
    "start_time": "2022-06-23T06:15:39.869Z"
   },
   {
    "duration": 404,
    "start_time": "2022-06-23T06:15:52.127Z"
   },
   {
    "duration": 466,
    "start_time": "2022-06-23T06:15:52.533Z"
   },
   {
    "duration": 775,
    "start_time": "2022-06-23T06:16:58.510Z"
   },
   {
    "duration": 69,
    "start_time": "2022-06-23T07:30:49.862Z"
   },
   {
    "duration": 1048,
    "start_time": "2022-06-23T07:31:19.462Z"
   },
   {
    "duration": 426,
    "start_time": "2022-06-23T07:31:20.512Z"
   },
   {
    "duration": 37,
    "start_time": "2022-06-23T07:31:20.939Z"
   },
   {
    "duration": 22,
    "start_time": "2022-06-23T07:31:38.195Z"
   },
   {
    "duration": 1034,
    "start_time": "2022-06-23T07:34:38.372Z"
   },
   {
    "duration": 458,
    "start_time": "2022-06-23T07:34:39.408Z"
   },
   {
    "duration": 151,
    "start_time": "2022-06-23T07:34:39.867Z"
   },
   {
    "duration": 54,
    "start_time": "2022-06-23T07:35:47.885Z"
   },
   {
    "duration": 54,
    "start_time": "2022-06-23T07:36:07.947Z"
   },
   {
    "duration": 31,
    "start_time": "2022-06-23T07:41:17.366Z"
   },
   {
    "duration": 1014,
    "start_time": "2022-06-23T07:41:24.799Z"
   },
   {
    "duration": 461,
    "start_time": "2022-06-23T07:41:25.815Z"
   },
   {
    "duration": 142,
    "start_time": "2022-06-23T07:41:26.278Z"
   },
   {
    "duration": 59,
    "start_time": "2022-06-23T07:43:23.278Z"
   },
   {
    "duration": 22,
    "start_time": "2022-06-23T07:48:14.392Z"
   },
   {
    "duration": 19,
    "start_time": "2022-06-23T07:51:21.772Z"
   },
   {
    "duration": 27,
    "start_time": "2022-06-23T07:52:05.912Z"
   },
   {
    "duration": 29,
    "start_time": "2022-06-23T07:52:28.038Z"
   },
   {
    "duration": 31,
    "start_time": "2022-06-23T07:52:35.726Z"
   },
   {
    "duration": 4,
    "start_time": "2022-06-23T08:02:47.197Z"
   },
   {
    "duration": 273,
    "start_time": "2022-06-23T08:03:06.311Z"
   },
   {
    "duration": 248,
    "start_time": "2022-06-23T08:03:42.493Z"
   },
   {
    "duration": 8,
    "start_time": "2022-06-23T08:07:17.308Z"
   },
   {
    "duration": 272,
    "start_time": "2022-06-23T08:07:22.416Z"
   },
   {
    "duration": 18,
    "start_time": "2022-06-23T08:12:23.248Z"
   },
   {
    "duration": 431,
    "start_time": "2022-06-23T08:12:44.416Z"
   },
   {
    "duration": 411,
    "start_time": "2022-06-23T08:13:13.503Z"
   },
   {
    "duration": 434,
    "start_time": "2022-06-23T08:13:42.714Z"
   },
   {
    "duration": 25,
    "start_time": "2022-06-23T08:14:02.171Z"
   },
   {
    "duration": 17,
    "start_time": "2022-06-23T08:49:48.544Z"
   },
   {
    "duration": 38,
    "start_time": "2022-06-23T08:52:42.102Z"
   },
   {
    "duration": 74,
    "start_time": "2022-06-23T08:53:01.573Z"
   },
   {
    "duration": 14,
    "start_time": "2022-06-23T08:53:23.783Z"
   },
   {
    "duration": 1107,
    "start_time": "2022-06-23T08:53:42.314Z"
   },
   {
    "duration": 509,
    "start_time": "2022-06-23T08:53:43.423Z"
   },
   {
    "duration": 8,
    "start_time": "2022-06-23T08:53:43.933Z"
   },
   {
    "duration": 316,
    "start_time": "2022-06-23T08:53:43.944Z"
   },
   {
    "duration": 297,
    "start_time": "2022-06-23T08:53:44.262Z"
   },
   {
    "duration": 295,
    "start_time": "2022-06-23T08:53:44.561Z"
   },
   {
    "duration": 17,
    "start_time": "2022-06-23T08:53:44.858Z"
   },
   {
    "duration": 271,
    "start_time": "2022-06-23T08:53:44.876Z"
   },
   {
    "duration": 58,
    "start_time": "2022-06-23T09:02:58.377Z"
   },
   {
    "duration": 33,
    "start_time": "2022-06-23T09:03:04.538Z"
   },
   {
    "duration": 77,
    "start_time": "2022-06-23T09:03:46.254Z"
   },
   {
    "duration": 115,
    "start_time": "2022-06-23T09:03:57.917Z"
   },
   {
    "duration": 56,
    "start_time": "2022-06-23T09:04:05.276Z"
   },
   {
    "duration": 120,
    "start_time": "2022-06-23T09:04:23.707Z"
   },
   {
    "duration": 42,
    "start_time": "2022-06-23T09:05:13.811Z"
   },
   {
    "duration": 71,
    "start_time": "2022-06-23T09:06:33.117Z"
   },
   {
    "duration": 129,
    "start_time": "2022-06-23T09:06:37.011Z"
   },
   {
    "duration": 1071,
    "start_time": "2022-06-23T09:06:46.742Z"
   },
   {
    "duration": 428,
    "start_time": "2022-06-23T09:06:47.815Z"
   },
   {
    "duration": 5,
    "start_time": "2022-06-23T09:06:48.245Z"
   },
   {
    "duration": 274,
    "start_time": "2022-06-23T09:06:48.252Z"
   },
   {
    "duration": 248,
    "start_time": "2022-06-23T09:06:48.528Z"
   },
   {
    "duration": 269,
    "start_time": "2022-06-23T09:06:48.777Z"
   },
   {
    "duration": 14,
    "start_time": "2022-06-23T09:06:49.048Z"
   },
   {
    "duration": 282,
    "start_time": "2022-06-23T09:06:49.064Z"
   },
   {
    "duration": 1093,
    "start_time": "2022-06-23T09:07:27.143Z"
   },
   {
    "duration": 438,
    "start_time": "2022-06-23T09:07:28.238Z"
   },
   {
    "duration": 5,
    "start_time": "2022-06-23T09:07:28.678Z"
   },
   {
    "duration": 283,
    "start_time": "2022-06-23T09:07:28.685Z"
   },
   {
    "duration": 243,
    "start_time": "2022-06-23T09:07:28.969Z"
   },
   {
    "duration": 276,
    "start_time": "2022-06-23T09:07:29.214Z"
   },
   {
    "duration": 18,
    "start_time": "2022-06-23T09:07:29.492Z"
   },
   {
    "duration": 61,
    "start_time": "2022-06-23T09:07:29.512Z"
   },
   {
    "duration": 94,
    "start_time": "2022-06-23T09:22:10.450Z"
   },
   {
    "duration": 38,
    "start_time": "2022-06-23T09:26:14.823Z"
   },
   {
    "duration": 39,
    "start_time": "2022-06-23T09:27:55.505Z"
   },
   {
    "duration": 4,
    "start_time": "2022-06-23T09:32:10.277Z"
   },
   {
    "duration": 4,
    "start_time": "2022-06-23T09:32:22.759Z"
   },
   {
    "duration": 355,
    "start_time": "2022-06-23T09:32:47.777Z"
   },
   {
    "duration": 10,
    "start_time": "2022-06-23T09:33:08.526Z"
   },
   {
    "duration": 259,
    "start_time": "2022-06-23T09:33:13.876Z"
   },
   {
    "duration": 19,
    "start_time": "2022-06-23T10:36:09.869Z"
   },
   {
    "duration": 17,
    "start_time": "2022-06-23T10:36:15.152Z"
   },
   {
    "duration": 36,
    "start_time": "2022-06-23T10:36:32.116Z"
   },
   {
    "duration": 16,
    "start_time": "2022-06-23T10:36:42.278Z"
   },
   {
    "duration": 116,
    "start_time": "2022-06-23T10:38:51.033Z"
   },
   {
    "duration": 26,
    "start_time": "2022-06-23T10:38:59.979Z"
   },
   {
    "duration": 21,
    "start_time": "2022-06-23T10:39:56.321Z"
   },
   {
    "duration": 55,
    "start_time": "2022-06-23T10:40:43.558Z"
   },
   {
    "duration": 18,
    "start_time": "2022-06-23T10:40:52.551Z"
   },
   {
    "duration": 18,
    "start_time": "2022-06-23T10:41:40.246Z"
   },
   {
    "duration": 18,
    "start_time": "2022-06-23T10:41:48.657Z"
   },
   {
    "duration": 21,
    "start_time": "2022-06-23T10:41:56.125Z"
   },
   {
    "duration": 40,
    "start_time": "2022-06-23T10:43:03.319Z"
   },
   {
    "duration": 40,
    "start_time": "2022-06-23T10:44:06.715Z"
   },
   {
    "duration": 42,
    "start_time": "2022-06-23T11:05:45.254Z"
   },
   {
    "duration": 41,
    "start_time": "2022-06-23T11:06:04.203Z"
   },
   {
    "duration": 41,
    "start_time": "2022-06-23T11:08:03.859Z"
   },
   {
    "duration": 291,
    "start_time": "2022-06-23T11:10:00.555Z"
   },
   {
    "duration": 324,
    "start_time": "2022-06-23T11:10:17.708Z"
   },
   {
    "duration": 4,
    "start_time": "2022-06-23T11:10:28.023Z"
   },
   {
    "duration": 392,
    "start_time": "2022-06-23T11:10:30.538Z"
   },
   {
    "duration": 1094,
    "start_time": "2022-06-23T11:20:33.414Z"
   },
   {
    "duration": 416,
    "start_time": "2022-06-23T11:20:34.510Z"
   },
   {
    "duration": 5,
    "start_time": "2022-06-23T11:20:34.928Z"
   },
   {
    "duration": 265,
    "start_time": "2022-06-23T11:20:34.935Z"
   },
   {
    "duration": 261,
    "start_time": "2022-06-23T11:20:35.202Z"
   },
   {
    "duration": 284,
    "start_time": "2022-06-23T11:20:35.465Z"
   },
   {
    "duration": 15,
    "start_time": "2022-06-23T11:20:35.751Z"
   },
   {
    "duration": 7,
    "start_time": "2022-06-23T11:20:35.767Z"
   },
   {
    "duration": 371,
    "start_time": "2022-06-23T11:20:35.775Z"
   },
   {
    "duration": 214,
    "start_time": "2022-06-23T11:20:36.147Z"
   },
   {
    "duration": 41,
    "start_time": "2022-06-23T11:24:50.193Z"
   },
   {
    "duration": 40,
    "start_time": "2022-06-23T11:26:41.351Z"
   },
   {
    "duration": 4,
    "start_time": "2022-06-23T11:44:15.792Z"
   },
   {
    "duration": 383,
    "start_time": "2022-06-23T11:44:55.162Z"
   },
   {
    "duration": 4,
    "start_time": "2022-06-23T11:45:50.167Z"
   },
   {
    "duration": 4,
    "start_time": "2022-06-23T11:45:54.968Z"
   },
   {
    "duration": 451,
    "start_time": "2022-06-23T11:45:56.776Z"
   },
   {
    "duration": 99,
    "start_time": "2022-06-23T12:21:23.928Z"
   },
   {
    "duration": 6,
    "start_time": "2022-06-23T12:24:44.393Z"
   },
   {
    "duration": 4,
    "start_time": "2022-06-23T12:24:49.806Z"
   },
   {
    "duration": 483,
    "start_time": "2022-06-23T12:24:51.846Z"
   },
   {
    "duration": 5,
    "start_time": "2022-06-23T12:27:32.503Z"
   },
   {
    "duration": 5,
    "start_time": "2022-06-23T13:45:10.082Z"
   },
   {
    "duration": 5,
    "start_time": "2022-06-23T13:45:35.982Z"
   },
   {
    "duration": 370,
    "start_time": "2022-06-23T13:45:38.763Z"
   },
   {
    "duration": 5,
    "start_time": "2022-06-23T13:45:48.449Z"
   },
   {
    "duration": 409,
    "start_time": "2022-06-23T13:45:50.343Z"
   },
   {
    "duration": 5,
    "start_time": "2022-06-23T13:46:40.217Z"
   },
   {
    "duration": 443,
    "start_time": "2022-06-23T13:46:42.804Z"
   },
   {
    "duration": 5,
    "start_time": "2022-06-23T13:48:32.509Z"
   },
   {
    "duration": 801,
    "start_time": "2022-06-23T13:48:36.139Z"
   },
   {
    "duration": 6,
    "start_time": "2022-06-23T13:49:10.338Z"
   },
   {
    "duration": 701,
    "start_time": "2022-06-23T13:49:12.638Z"
   },
   {
    "duration": 547,
    "start_time": "2022-06-23T13:49:45.387Z"
   },
   {
    "duration": 879,
    "start_time": "2022-06-23T13:51:30.270Z"
   },
   {
    "duration": 281,
    "start_time": "2022-06-23T13:54:23.361Z"
   },
   {
    "duration": 267,
    "start_time": "2022-06-23T13:55:01.270Z"
   },
   {
    "duration": 4,
    "start_time": "2022-06-23T13:56:42.808Z"
   },
   {
    "duration": 652,
    "start_time": "2022-06-23T13:56:47.177Z"
   },
   {
    "duration": 267,
    "start_time": "2022-06-23T13:57:28.873Z"
   },
   {
    "duration": 45,
    "start_time": "2022-06-23T13:57:54.803Z"
   },
   {
    "duration": 129,
    "start_time": "2022-06-23T13:58:32.319Z"
   },
   {
    "duration": 122,
    "start_time": "2022-06-23T13:58:52.613Z"
   },
   {
    "duration": 120,
    "start_time": "2022-06-23T13:59:04.020Z"
   },
   {
    "duration": 69,
    "start_time": "2022-06-23T13:59:16.867Z"
   },
   {
    "duration": 75,
    "start_time": "2022-06-23T13:59:31.160Z"
   },
   {
    "duration": 121,
    "start_time": "2022-06-24T06:38:41.979Z"
   },
   {
    "duration": 1148,
    "start_time": "2022-06-24T06:38:56.437Z"
   },
   {
    "duration": 925,
    "start_time": "2022-06-24T06:38:57.587Z"
   },
   {
    "duration": 5,
    "start_time": "2022-06-24T06:38:58.514Z"
   },
   {
    "duration": 351,
    "start_time": "2022-06-24T06:38:58.521Z"
   },
   {
    "duration": 333,
    "start_time": "2022-06-24T06:38:58.874Z"
   },
   {
    "duration": 326,
    "start_time": "2022-06-24T06:38:59.208Z"
   },
   {
    "duration": 33,
    "start_time": "2022-06-24T06:38:59.535Z"
   },
   {
    "duration": 7,
    "start_time": "2022-06-24T06:38:59.571Z"
   },
   {
    "duration": 0,
    "start_time": "2022-06-24T06:38:59.580Z"
   },
   {
    "duration": 0,
    "start_time": "2022-06-24T06:38:59.582Z"
   },
   {
    "duration": 0,
    "start_time": "2022-06-24T06:38:59.583Z"
   },
   {
    "duration": 0,
    "start_time": "2022-06-24T06:38:59.585Z"
   },
   {
    "duration": 1208,
    "start_time": "2022-06-24T06:39:18.499Z"
   },
   {
    "duration": 578,
    "start_time": "2022-06-24T06:39:19.710Z"
   },
   {
    "duration": 11,
    "start_time": "2022-06-24T06:39:20.290Z"
   },
   {
    "duration": 383,
    "start_time": "2022-06-24T06:39:20.303Z"
   },
   {
    "duration": 378,
    "start_time": "2022-06-24T06:39:20.688Z"
   },
   {
    "duration": 424,
    "start_time": "2022-06-24T06:39:21.068Z"
   },
   {
    "duration": 23,
    "start_time": "2022-06-24T06:39:21.496Z"
   },
   {
    "duration": 15,
    "start_time": "2022-06-24T06:39:21.521Z"
   },
   {
    "duration": 485,
    "start_time": "2022-06-24T06:39:21.538Z"
   },
   {
    "duration": 155,
    "start_time": "2022-06-24T06:39:22.027Z"
   },
   {
    "duration": 145,
    "start_time": "2022-06-24T06:39:22.185Z"
   },
   {
    "duration": 0,
    "start_time": "2022-06-24T06:39:22.332Z"
   },
   {
    "duration": 9,
    "start_time": "2022-06-24T07:52:36.406Z"
   },
   {
    "duration": 10,
    "start_time": "2022-06-24T07:52:51.190Z"
   },
   {
    "duration": 51,
    "start_time": "2022-06-24T08:04:13.267Z"
   },
   {
    "duration": 58,
    "start_time": "2022-06-24T08:04:35.121Z"
   },
   {
    "duration": 19,
    "start_time": "2022-06-24T08:07:20.038Z"
   },
   {
    "duration": 89,
    "start_time": "2022-06-24T08:13:10.590Z"
   },
   {
    "duration": 24,
    "start_time": "2022-06-24T08:13:21.990Z"
   },
   {
    "duration": 37,
    "start_time": "2022-06-24T08:14:12.945Z"
   },
   {
    "duration": 21,
    "start_time": "2022-06-24T08:14:21.073Z"
   },
   {
    "duration": 6,
    "start_time": "2022-06-24T08:14:40.795Z"
   },
   {
    "duration": 23,
    "start_time": "2022-06-24T08:14:44.738Z"
   },
   {
    "duration": 371,
    "start_time": "2022-06-24T08:15:07.474Z"
   },
   {
    "duration": 491,
    "start_time": "2022-06-24T08:16:49.751Z"
   },
   {
    "duration": 229,
    "start_time": "2022-06-24T08:17:19.221Z"
   },
   {
    "duration": 274,
    "start_time": "2022-06-24T08:17:38.581Z"
   },
   {
    "duration": 205,
    "start_time": "2022-06-24T08:18:25.390Z"
   },
   {
    "duration": 49,
    "start_time": "2022-06-24T08:19:24.370Z"
   },
   {
    "duration": 638,
    "start_time": "2022-06-24T08:26:04.062Z"
   },
   {
    "duration": 500,
    "start_time": "2022-06-24T08:27:08.252Z"
   },
   {
    "duration": 422,
    "start_time": "2022-06-24T08:27:18.664Z"
   },
   {
    "duration": 424,
    "start_time": "2022-06-24T08:27:36.689Z"
   },
   {
    "duration": 23,
    "start_time": "2022-06-24T08:29:46.373Z"
   },
   {
    "duration": 119,
    "start_time": "2022-06-24T08:29:55.121Z"
   },
   {
    "duration": 4,
    "start_time": "2022-06-24T08:31:40.601Z"
   },
   {
    "duration": 184,
    "start_time": "2022-06-24T08:31:43.497Z"
   },
   {
    "duration": 16,
    "start_time": "2022-06-24T08:31:59.565Z"
   },
   {
    "duration": 15,
    "start_time": "2022-06-24T08:32:46.451Z"
   },
   {
    "duration": 53,
    "start_time": "2022-06-24T08:33:36.042Z"
   },
   {
    "duration": 8,
    "start_time": "2022-06-24T08:33:47.707Z"
   },
   {
    "duration": 7,
    "start_time": "2022-06-24T08:34:02.727Z"
   },
   {
    "duration": 18,
    "start_time": "2022-06-24T08:34:51.475Z"
   },
   {
    "duration": 4,
    "start_time": "2022-06-24T08:35:20.706Z"
   },
   {
    "duration": 1204,
    "start_time": "2022-06-24T08:35:25.466Z"
   },
   {
    "duration": 6,
    "start_time": "2022-06-24T08:35:56.604Z"
   },
   {
    "duration": 1532,
    "start_time": "2022-06-24T08:35:59.676Z"
   },
   {
    "duration": 4,
    "start_time": "2022-06-24T08:36:42.202Z"
   },
   {
    "duration": 11,
    "start_time": "2022-06-24T08:36:47.413Z"
   },
   {
    "duration": 7,
    "start_time": "2022-06-24T08:37:09.603Z"
   },
   {
    "duration": 7,
    "start_time": "2022-06-24T08:37:18.059Z"
   },
   {
    "duration": 1015,
    "start_time": "2022-06-24T08:40:49.872Z"
   },
   {
    "duration": 3,
    "start_time": "2022-06-24T08:41:08.110Z"
   },
   {
    "duration": 423,
    "start_time": "2022-06-24T08:41:10.714Z"
   },
   {
    "duration": 94,
    "start_time": "2022-06-24T09:00:44.026Z"
   },
   {
    "duration": 122,
    "start_time": "2022-06-24T09:02:14.698Z"
   },
   {
    "duration": 107,
    "start_time": "2022-06-24T09:02:36.581Z"
   },
   {
    "duration": 5,
    "start_time": "2022-06-24T09:02:50.256Z"
   },
   {
    "duration": 543,
    "start_time": "2022-06-24T09:06:02.217Z"
   },
   {
    "duration": 611,
    "start_time": "2022-06-24T09:06:24.126Z"
   },
   {
    "duration": 665,
    "start_time": "2022-06-24T09:06:58.450Z"
   },
   {
    "duration": 551,
    "start_time": "2022-06-24T09:07:21.417Z"
   },
   {
    "duration": 773,
    "start_time": "2022-06-24T09:08:24.491Z"
   },
   {
    "duration": 769,
    "start_time": "2022-06-24T09:08:36.827Z"
   },
   {
    "duration": 510,
    "start_time": "2022-06-24T09:10:13.870Z"
   },
   {
    "duration": 543,
    "start_time": "2022-06-24T09:10:45.904Z"
   },
   {
    "duration": 668,
    "start_time": "2022-06-24T09:10:59.387Z"
   },
   {
    "duration": 1658,
    "start_time": "2022-06-24T09:17:30.612Z"
   },
   {
    "duration": 8,
    "start_time": "2022-06-24T09:20:41.213Z"
   },
   {
    "duration": 1791,
    "start_time": "2022-06-24T09:20:44.010Z"
   },
   {
    "duration": 1036,
    "start_time": "2022-06-24T09:49:15.628Z"
   },
   {
    "duration": 427,
    "start_time": "2022-06-24T09:49:16.669Z"
   },
   {
    "duration": 4,
    "start_time": "2022-06-24T09:49:17.097Z"
   },
   {
    "duration": 297,
    "start_time": "2022-06-24T09:49:17.103Z"
   },
   {
    "duration": 278,
    "start_time": "2022-06-24T09:49:17.402Z"
   },
   {
    "duration": 268,
    "start_time": "2022-06-24T09:49:17.682Z"
   },
   {
    "duration": 26,
    "start_time": "2022-06-24T09:49:17.952Z"
   },
   {
    "duration": 14,
    "start_time": "2022-06-24T09:49:17.983Z"
   },
   {
    "duration": 363,
    "start_time": "2022-06-24T09:49:17.999Z"
   },
   {
    "duration": 94,
    "start_time": "2022-06-24T09:49:18.367Z"
   },
   {
    "duration": 24,
    "start_time": "2022-06-24T09:49:18.466Z"
   },
   {
    "duration": 7,
    "start_time": "2022-06-24T09:49:18.492Z"
   },
   {
    "duration": 1294,
    "start_time": "2022-06-24T09:49:18.502Z"
   },
   {
    "duration": 9,
    "start_time": "2022-06-26T12:17:49.591Z"
   },
   {
    "duration": 45,
    "start_time": "2022-06-26T12:17:56.251Z"
   },
   {
    "duration": 8,
    "start_time": "2022-06-26T12:18:21.882Z"
   },
   {
    "duration": 1123,
    "start_time": "2022-06-26T12:18:28.585Z"
   },
   {
    "duration": 809,
    "start_time": "2022-06-26T12:18:29.710Z"
   },
   {
    "duration": 4,
    "start_time": "2022-06-26T12:18:30.521Z"
   },
   {
    "duration": 346,
    "start_time": "2022-06-26T12:18:30.527Z"
   },
   {
    "duration": 304,
    "start_time": "2022-06-26T12:18:30.876Z"
   },
   {
    "duration": 288,
    "start_time": "2022-06-26T12:18:31.182Z"
   },
   {
    "duration": 39,
    "start_time": "2022-06-26T12:18:31.472Z"
   },
   {
    "duration": 15,
    "start_time": "2022-06-26T12:18:31.513Z"
   },
   {
    "duration": 366,
    "start_time": "2022-06-26T12:18:31.529Z"
   },
   {
    "duration": 11,
    "start_time": "2022-06-26T12:18:31.901Z"
   },
   {
    "duration": 83,
    "start_time": "2022-06-26T12:18:31.914Z"
   },
   {
    "duration": 23,
    "start_time": "2022-06-26T12:18:31.999Z"
   },
   {
    "duration": 119,
    "start_time": "2022-06-26T12:18:32.024Z"
   },
   {
    "duration": 4031,
    "start_time": "2022-06-26T12:19:16.565Z"
   },
   {
    "duration": 119,
    "start_time": "2022-06-26T12:21:32.973Z"
   },
   {
    "duration": 5,
    "start_time": "2022-06-26T12:23:01.999Z"
   },
   {
    "duration": 463,
    "start_time": "2022-06-26T12:23:08.832Z"
   },
   {
    "duration": 6,
    "start_time": "2022-06-26T12:29:00.869Z"
   }
  ],
  "kernelspec": {
   "display_name": "Python 3 (ipykernel)",
   "language": "python",
   "name": "python3"
  },
  "language_info": {
   "codemirror_mode": {
    "name": "ipython",
    "version": 3
   },
   "file_extension": ".py",
   "mimetype": "text/x-python",
   "name": "python",
   "nbconvert_exporter": "python",
   "pygments_lexer": "ipython3",
   "version": "3.9.5"
  },
  "toc": {
   "base_numbering": 1,
   "nav_menu": {},
   "number_sections": true,
   "sideBar": true,
   "skip_h1_title": true,
   "title_cell": "Table of Contents",
   "title_sidebar": "Contents",
   "toc_cell": false,
   "toc_position": {},
   "toc_section_display": true,
   "toc_window_display": false
  }
 },
 "nbformat": 4,
 "nbformat_minor": 2
}
