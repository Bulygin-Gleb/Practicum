{
 "cells": [
  {
   "cell_type": "markdown",
   "metadata": {},
   "source": [
    "<div style=\"border:solid Chocolate 2px; padding: 40px\">\n",
    "\n",
    "<b>Глеб,\n",
    "привет!👋</b>\n",
    "\n",
    "Меня зовут Александр Куимов, я буду ревьюером твоего проекта. Ты можешь обращаться ко мне на \"ты\"😏 Надеюсь, тебя также не смутит, если я буду обращаться к тебе на \"ты\", но если это неудобно, обязательно скажи об этом!\n",
    "\n",
    "Пожалуйста, не удаляй мои комментарии, они будут особенно полезны для нашей работы в случае повторной проверки проекта. \n",
    "\n",
    "Ты также можешь реагировать на мои комментарии своими, выделяя их цветами и наиболее понравившимся тебе способом оформления, но явно  отличающимся от моих комментариев. Это нужно, чтобы не создавалась путаница😉\n",
    "\n",
    "Ты можешь найти мои комментарии, обозначенные <font color='green'>зеленым</font>, <font color='gold'>желтым</font> и <font color='red'>красным</font> цветами, например:\n",
    "\n",
    "<br/>\n",
    "\n",
    "<div class=\"alert alert-success\">\n",
    "<h2> Комментарий ревьюера <a class=\"tocSkip\"> </h2>\n",
    "\n",
    "<b>Все отлично!👍:</b> В случае, если решение на отдельном шаге является полностью правильным.\n",
    "</div>\n",
    "\n",
    "<br/>\n",
    "\n",
    "<div class=\"alert alert-warning\">\n",
    "    <h2> Комментарий ревьюера <a class=\"tocSkip\"> </h2>\n",
    "    \n",
    "<b>Некоторые замечания и рекомендации💡:</b> В случае, когда решение на отдельном шаге станет еще лучше, если внести небольшие коррективы.\n",
    "</div>\n",
    "\n",
    "\n",
    "<br/>\n",
    "<div class=\"alert alert-block alert-danger\">\n",
    "<h2> Комментарий ревьюера <a class=\"tocSkip\"></h2>\n",
    "\n",
    "    \n",
    "<b>На доработку🤔:</b>\n",
    " В случае, когда решение на отдельном шаге требует существенной переработки и внесения правок. Напоминаю, что проект не может быть принят с первого раза, если ревью содержит комментарии, рекомендующие доработать шаги.\n",
    "</div>\n",
    "    \n",
    "    \n",
    "<br/>    \n",
    "<div class=\"alert alert-info\">\n",
    "<h2> Комментарий студента: <a class=\"tocSkip\"> </h2>\n",
    "\n",
    "<b>👋:</b> В такой цветовой ячейке я прошу тебя оставлять свои комментарии. Если исправляешь проект на второй итерации и выше, не забывай пожалуйста указывать номер итерации, например, \"Комментарий студента v.2\".\n",
    "</div> \n",
    "\n",
    "<br/>    \n",
    "    \n",
    "Увидев у тебя неточность, в первый раз я лишь укажу на ее наличие и дам тебе возможность самому найти и исправить ее. На реальной работе твой руководитель будет поступать также, и я пытаюсь подготовить тебя именно к работе датасаентистом. Но если ты пока не справишься с такой задачей - при следующей проверке я дам более точную подсказку!🤓"
   ]
  },
  {
   "cell_type": "markdown",
   "metadata": {},
   "source": [
    "# Определение стоимости автомобилей"
   ]
  },
  {
   "cell_type": "markdown",
   "metadata": {},
   "source": [
    "Сервис по продаже автомобилей с пробегом «Не бит, не крашен» разрабатывает приложение для привлечения новых клиентов. В нём можно быстро узнать рыночную стоимость своего автомобиля. В вашем распоряжении исторические данные: технические характеристики, комплектации и цены автомобилей. Вам нужно построить модель для определения стоимости. \n",
    "\n",
    "Заказчику важны:\n",
    "\n",
    "- качество предсказания;\n",
    "- скорость предсказания;\n",
    "- время обучения."
   ]
  },
  {
   "cell_type": "markdown",
   "metadata": {},
   "source": [
    "<div class=\"alert alert-success\">\n",
    "<h2> Комментарий ревьюера <a class=\"tocSkip\"> </h2>\n",
    "\n",
    "<b>Все отлично!👍:</b> \n",
    "    \n",
    "Вижу твое добавленное описание проекта. Молодец! Это поможет тебе расставлять акценты в выводах."
   ]
  },
  {
   "cell_type": "markdown",
   "metadata": {},
   "source": [
    "## Подготовка данных"
   ]
  },
  {
   "cell_type": "code",
   "execution_count": 1,
   "metadata": {},
   "outputs": [],
   "source": [
    "import pandas as pd\n",
    "import numpy as np\n",
    "from sklearn.model_selection import train_test_split\n",
    "import lightgbm as lgb\n",
    "from sklearn.ensemble import RandomForestRegressor\n",
    "from sklearn.metrics import mean_squared_error\n",
    "import matplotlib.pyplot as plt\n",
    "from sklearn.metrics import roc_auc_score\n",
    "import time\n",
    "import warnings\n",
    "warnings.filterwarnings(\"ignore\", category=DeprecationWarning) \n"
   ]
  },
  {
   "cell_type": "markdown",
   "metadata": {},
   "source": [
    "<div class=\"alert alert-success\">\n",
    "<h2> Комментарий ревьюера <a class=\"tocSkip\"> </h2>\n",
    "\n",
    "<b>Все отлично!👍:</b> \n",
    "    \n",
    " Молодец, что собираешь импорты в одну ячейку и помещаешь ее в начале проекта!"
   ]
  },
  {
   "cell_type": "code",
   "execution_count": 2,
   "metadata": {},
   "outputs": [
    {
     "name": "stdout",
     "output_type": "stream",
     "text": [
      "<class 'pandas.core.frame.DataFrame'>\n",
      "RangeIndex: 354369 entries, 0 to 354368\n",
      "Data columns (total 16 columns):\n",
      " #   Column             Non-Null Count   Dtype \n",
      "---  ------             --------------   ----- \n",
      " 0   DateCrawled        354369 non-null  object\n",
      " 1   Price              354369 non-null  int64 \n",
      " 2   VehicleType        316879 non-null  object\n",
      " 3   RegistrationYear   354369 non-null  int64 \n",
      " 4   Gearbox            334536 non-null  object\n",
      " 5   Power              354369 non-null  int64 \n",
      " 6   Model              334664 non-null  object\n",
      " 7   Kilometer          354369 non-null  int64 \n",
      " 8   RegistrationMonth  354369 non-null  int64 \n",
      " 9   FuelType           321474 non-null  object\n",
      " 10  Brand              354369 non-null  object\n",
      " 11  NotRepaired        283215 non-null  object\n",
      " 12  DateCreated        354369 non-null  object\n",
      " 13  NumberOfPictures   354369 non-null  int64 \n",
      " 14  PostalCode         354369 non-null  int64 \n",
      " 15  LastSeen           354369 non-null  object\n",
      "dtypes: int64(7), object(9)\n",
      "memory usage: 43.3+ MB\n"
     ]
    }
   ],
   "source": [
    "data=pd.read_csv('/datasets/autos.csv')\n",
    "data.info()"
   ]
  },
  {
   "cell_type": "code",
   "execution_count": 3,
   "metadata": {},
   "outputs": [],
   "source": [
    "def check_data (data_i):\n",
    "    temp = data_i.copy() \n",
    "    # проверяем дубликаты\n",
    "    print('Кол-во дубликатов:',temp.duplicated().sum())\n",
    "    list_c=data_i.columns\n",
    "    for col_l in list_c:\n",
    "        print('-------------------------')\n",
    "        #print(col_l, temp[col_l].sort_values().unique())\n",
    "        print(col_l,'|кол-во строк',len(temp),'| кол-во NaN',temp[col_l].isna().sum(),\n",
    "        '| процент NaN', round(temp[col_l].isna().sum()/len(temp)*100, 2),'%')"
   ]
  },
  {
   "cell_type": "code",
   "execution_count": 4,
   "metadata": {},
   "outputs": [
    {
     "name": "stdout",
     "output_type": "stream",
     "text": [
      "Кол-во дубликатов: 4\n",
      "-------------------------\n",
      "DateCrawled |кол-во строк 354369 | кол-во NaN 0 | процент NaN 0.0 %\n",
      "-------------------------\n",
      "Price |кол-во строк 354369 | кол-во NaN 0 | процент NaN 0.0 %\n",
      "-------------------------\n",
      "VehicleType |кол-во строк 354369 | кол-во NaN 37490 | процент NaN 10.58 %\n",
      "-------------------------\n",
      "RegistrationYear |кол-во строк 354369 | кол-во NaN 0 | процент NaN 0.0 %\n",
      "-------------------------\n",
      "Gearbox |кол-во строк 354369 | кол-во NaN 19833 | процент NaN 5.6 %\n",
      "-------------------------\n",
      "Power |кол-во строк 354369 | кол-во NaN 0 | процент NaN 0.0 %\n",
      "-------------------------\n",
      "Model |кол-во строк 354369 | кол-во NaN 19705 | процент NaN 5.56 %\n",
      "-------------------------\n",
      "Kilometer |кол-во строк 354369 | кол-во NaN 0 | процент NaN 0.0 %\n",
      "-------------------------\n",
      "RegistrationMonth |кол-во строк 354369 | кол-во NaN 0 | процент NaN 0.0 %\n",
      "-------------------------\n",
      "FuelType |кол-во строк 354369 | кол-во NaN 32895 | процент NaN 9.28 %\n",
      "-------------------------\n",
      "Brand |кол-во строк 354369 | кол-во NaN 0 | процент NaN 0.0 %\n",
      "-------------------------\n",
      "NotRepaired |кол-во строк 354369 | кол-во NaN 71154 | процент NaN 20.08 %\n",
      "-------------------------\n",
      "DateCreated |кол-во строк 354369 | кол-во NaN 0 | процент NaN 0.0 %\n",
      "-------------------------\n",
      "NumberOfPictures |кол-во строк 354369 | кол-во NaN 0 | процент NaN 0.0 %\n",
      "-------------------------\n",
      "PostalCode |кол-во строк 354369 | кол-во NaN 0 | процент NaN 0.0 %\n",
      "-------------------------\n",
      "LastSeen |кол-во строк 354369 | кол-во NaN 0 | процент NaN 0.0 %\n"
     ]
    }
   ],
   "source": [
    "check_data (data)"
   ]
  },
  {
   "cell_type": "markdown",
   "metadata": {},
   "source": [
    "<div class=\"alert alert-success\">\n",
    "<h2> Комментарий ревьюера <a class=\"tocSkip\"> </h2>\n",
    "\n",
    "<b>Все отлично!👍:  </b> \n",
    "    \n",
    "С данными познакомились, первичный аналитический осмотр проведен. Полученная информация поможет нам в дальнейшем с предобработкой данных. \n",
    "</div>"
   ]
  },
  {
   "cell_type": "code",
   "execution_count": 5,
   "metadata": {},
   "outputs": [
    {
     "name": "stdout",
     "output_type": "stream",
     "text": [
      "['no' 'yes' nan]\n"
     ]
    }
   ],
   "source": [
    "print(data['NotRepaired'].sort_values().unique())"
   ]
  },
  {
   "cell_type": "code",
   "execution_count": 6,
   "metadata": {},
   "outputs": [],
   "source": [
    "data['NotRepaired']=data['NotRepaired'].fillna('no')"
   ]
  },
  {
   "cell_type": "code",
   "execution_count": 7,
   "metadata": {},
   "outputs": [
    {
     "name": "stdout",
     "output_type": "stream",
     "text": [
      "['no' 'yes']\n"
     ]
    }
   ],
   "source": [
    "print(data['NotRepaired'].sort_values().unique())"
   ]
  },
  {
   "cell_type": "code",
   "execution_count": 8,
   "metadata": {},
   "outputs": [
    {
     "name": "stdout",
     "output_type": "stream",
     "text": [
      "['cng' 'electric' 'gasoline' 'hybrid' 'lpg' 'other' 'petrol' nan]\n"
     ]
    }
   ],
   "source": [
    "print(data['FuelType'].sort_values().unique())"
   ]
  },
  {
   "cell_type": "code",
   "execution_count": 9,
   "metadata": {},
   "outputs": [],
   "source": [
    "data['FuelType']=data['FuelType'].fillna('other')"
   ]
  },
  {
   "cell_type": "code",
   "execution_count": 10,
   "metadata": {},
   "outputs": [
    {
     "name": "stdout",
     "output_type": "stream",
     "text": [
      "['bus' 'convertible' 'coupe' 'other' 'sedan' 'small' 'suv' 'wagon' nan]\n"
     ]
    }
   ],
   "source": [
    "print(data['VehicleType'].sort_values().unique())"
   ]
  },
  {
   "cell_type": "code",
   "execution_count": 11,
   "metadata": {},
   "outputs": [],
   "source": [
    "data['VehicleType']=data['VehicleType'].fillna('other')"
   ]
  },
  {
   "cell_type": "code",
   "execution_count": 12,
   "metadata": {
    "scrolled": true
   },
   "outputs": [
    {
     "name": "stdout",
     "output_type": "stream",
     "text": [
      "['100' '145' '147' '156' '159' '1_reihe' '1er' '200' '2_reihe' '300c'\n",
      " '3_reihe' '3er' '4_reihe' '500' '5_reihe' '5er' '601' '6_reihe' '6er'\n",
      " '7er' '80' '850' '90' '900' '9000' '911' 'a1' 'a2' 'a3' 'a4' 'a5' 'a6'\n",
      " 'a8' 'a_klasse' 'accord' 'agila' 'alhambra' 'almera' 'altea' 'amarok'\n",
      " 'antara' 'arosa' 'astra' 'auris' 'avensis' 'aveo' 'aygo' 'b_klasse'\n",
      " 'b_max' 'beetle' 'berlingo' 'bora' 'boxster' 'bravo' 'c1' 'c2' 'c3' 'c4'\n",
      " 'c5' 'c_klasse' 'c_max' 'c_reihe' 'caddy' 'calibra' 'captiva' 'carisma'\n",
      " 'carnival' 'cayenne' 'cc' 'ceed' 'charade' 'cherokee' 'citigo' 'civic'\n",
      " 'cl' 'clio' 'clk' 'clubman' 'colt' 'combo' 'cooper' 'cordoba' 'corolla'\n",
      " 'corsa' 'cr_reihe' 'croma' 'crossfire' 'cuore' 'cx_reihe' 'defender'\n",
      " 'delta' 'discovery' 'doblo' 'ducato' 'duster' 'e_klasse' 'elefantino'\n",
      " 'eos' 'escort' 'espace' 'exeo' 'fabia' 'fiesta' 'focus' 'forester'\n",
      " 'forfour' 'fortwo' 'fox' 'freelander' 'fusion' 'g_klasse' 'galant'\n",
      " 'galaxy' 'getz' 'gl' 'glk' 'golf' 'grand' 'i3' 'i_reihe' 'ibiza'\n",
      " 'impreza' 'insignia' 'jazz' 'jetta' 'jimny' 'juke' 'justy' 'ka' 'kadett'\n",
      " 'kaefer' 'kalina' 'kalos' 'kangoo' 'kappa' 'kuga' 'laguna' 'lancer'\n",
      " 'lanos' 'legacy' 'leon' 'lodgy' 'logan' 'lupo' 'lybra' 'm_klasse'\n",
      " 'm_reihe' 'materia' 'matiz' 'megane' 'meriva' 'micra' 'mii' 'modus'\n",
      " 'mondeo' 'move' 'musa' 'mustang' 'mx_reihe' 'navara' 'niva' 'note'\n",
      " 'nubira' 'octavia' 'omega' 'one' 'other' 'outlander' 'pajero' 'panda'\n",
      " 'passat' 'phaeton' 'picanto' 'polo' 'primera' 'ptcruiser' 'punto' 'q3'\n",
      " 'q5' 'q7' 'qashqai' 'r19' 'range_rover' 'range_rover_evoque'\n",
      " 'range_rover_sport' 'rangerover' 'rav' 'rio' 'roadster' 'roomster'\n",
      " 'rx_reihe' 's60' 's_klasse' 's_max' 's_type' 'samara' 'sandero' 'santa'\n",
      " 'scenic' 'scirocco' 'seicento' 'serie_1' 'serie_2' 'serie_3' 'sharan'\n",
      " 'signum' 'sirion' 'sl' 'slk' 'sorento' 'spark' 'spider' 'sportage'\n",
      " 'sprinter' 'stilo' 'superb' 'swift' 'terios' 'tigra' 'tiguan' 'toledo'\n",
      " 'touareg' 'touran' 'transit' 'transporter' 'tt' 'tucson' 'twingo' 'up'\n",
      " 'v40' 'v50' 'v60' 'v70' 'v_klasse' 'vectra' 'verso' 'viano' 'vito'\n",
      " 'vivaro' 'voyager' 'wrangler' 'x_reihe' 'x_trail' 'x_type' 'xc_reihe'\n",
      " 'yaris' 'yeti' 'ypsilon' 'z_reihe' 'zafira' nan]\n"
     ]
    }
   ],
   "source": [
    "print(data['Model'].sort_values().unique())"
   ]
  },
  {
   "cell_type": "code",
   "execution_count": 13,
   "metadata": {},
   "outputs": [],
   "source": [
    "data['Model']=data['Model'].fillna('other')"
   ]
  },
  {
   "cell_type": "markdown",
   "metadata": {},
   "source": [
    "<div class=\"alert alert-success\">\n",
    "<h2> Комментарий ревьюера <a class=\"tocSkip\"> </h2>\n",
    "\n",
    "<b>Все отлично!👍:  </b>\n",
    "        \n",
    "Допустимый способ заполнения пропусков. Молодец, что используешь заглушки."
   ]
  },
  {
   "cell_type": "code",
   "execution_count": 14,
   "metadata": {},
   "outputs": [
    {
     "name": "stdout",
     "output_type": "stream",
     "text": [
      "['auto' 'manual' nan]\n"
     ]
    }
   ],
   "source": [
    "print(data['Gearbox'].sort_values().unique())\n"
   ]
  },
  {
   "cell_type": "code",
   "execution_count": 15,
   "metadata": {},
   "outputs": [
    {
     "name": "stdout",
     "output_type": "stream",
     "text": [
      "2000.0\n",
      "119.03386293183567\n",
      "1.0\n"
     ]
    },
    {
     "data": {
      "text/plain": [
       "{'whiskers': [<matplotlib.lines.Line2D at 0x7f195f6a4100>,\n",
       "  <matplotlib.lines.Line2D at 0x7f195f6a4460>],\n",
       " 'caps': [<matplotlib.lines.Line2D at 0x7f195f6a47c0>,\n",
       "  <matplotlib.lines.Line2D at 0x7f195f6a4b20>],\n",
       " 'boxes': [<matplotlib.lines.Line2D at 0x7f195f689d60>],\n",
       " 'medians': [<matplotlib.lines.Line2D at 0x7f195f6a4e80>],\n",
       " 'fliers': [<matplotlib.lines.Line2D at 0x7f195f6af220>],\n",
       " 'means': []}"
      ]
     },
     "execution_count": 15,
     "metadata": {},
     "output_type": "execute_result"
    },
    {
     "data": {
      "image/png": "[encoded data removed]",
      "text/plain": [
       "<Figure size 1080x360 with 1 Axes>"
      ]
     },
     "metadata": {
      "needs_background": "light"
     },
     "output_type": "display_data"
    }
   ],
   "source": [
    "\n",
    "data['Power']= np.where(data['Power']>1000, data['Power']/10, data['Power'])\n",
    "data['Power']= np.where(data['Power']==0, data['Power'].mean(), data['Power'])\n",
    "print(data['Power'].max())\n",
    "print(data['Power'].mean())\n",
    "print(data['Power'].min())\n",
    "plt.figure(figsize=(15, 5))\n",
    "plt.boxplot(x=data['Power'] ,vert=0)"
   ]
  },
  {
   "cell_type": "code",
   "execution_count": 16,
   "metadata": {},
   "outputs": [
    {
     "name": "stdout",
     "output_type": "stream",
     "text": [
      "<class 'pandas.core.frame.DataFrame'>\n",
      "Int64Index: 346339 entries, 0 to 354368\n",
      "Data columns (total 16 columns):\n",
      " #   Column             Non-Null Count   Dtype  \n",
      "---  ------             --------------   -----  \n",
      " 0   DateCrawled        346339 non-null  object \n",
      " 1   Price              346339 non-null  int64  \n",
      " 2   VehicleType        346339 non-null  object \n",
      " 3   RegistrationYear   346339 non-null  int64  \n",
      " 4   Gearbox            326632 non-null  object \n",
      " 5   Power              346339 non-null  float64\n",
      " 6   Model              346339 non-null  object \n",
      " 7   Kilometer          346339 non-null  int64  \n",
      " 8   RegistrationMonth  346339 non-null  int64  \n",
      " 9   FuelType           346339 non-null  object \n",
      " 10  Brand              346339 non-null  object \n",
      " 11  NotRepaired        346339 non-null  object \n",
      " 12  DateCreated        346339 non-null  object \n",
      " 13  NumberOfPictures   346339 non-null  int64  \n",
      " 14  PostalCode         346339 non-null  int64  \n",
      " 15  LastSeen           346339 non-null  object \n",
      "dtypes: float64(1), int64(6), object(9)\n",
      "memory usage: 44.9+ MB\n"
     ]
    }
   ],
   "source": [
    "data=data[data['Power']<250]\n",
    "data.info()"
   ]
  },
  {
   "cell_type": "markdown",
   "metadata": {},
   "source": [
    "    \n",
    "<br/>    \n",
    "<div class=\"alert alert-info\">\n",
    "<h2> Комментарий студента: <a class=\"tocSkip\"> </h2>\n",
    "\n",
    "* Для столбца 'Power' предположил, что значения больше 1000 это ошибка заполняющего и позволил  разделить  данные значения на 10 ( вместо 2500 представить данные как 250 л.с., что  кажется боллее правдоподобно)  \n",
    "* Обрабатывая значения 0 заменил его на среднее,  так как скорей всего  данные были не заполнены.  \n",
    "* По Усам определи границу выбросов, решил  оставить все значения ниже 250 л.с.\n",
    "    \n",
    "</div> "
   ]
  },
  {
   "cell_type": "markdown",
   "metadata": {},
   "source": [
    " <div class=\"alert alert-success\">\n",
    "<h2> Комментарий ревьюера v.2 <a class=\"tocSkip\"> </h2>\n",
    "\n",
    "<b>Все отлично!👍:</b>"
   ]
  },
  {
   "cell_type": "code",
   "execution_count": 17,
   "metadata": {},
   "outputs": [
    {
     "name": "stdout",
     "output_type": "stream",
     "text": [
      "20000.0\n",
      "4403.774218882788\n",
      "1.0\n"
     ]
    },
    {
     "data": {
      "text/plain": [
       "{'whiskers': [<matplotlib.lines.Line2D at 0x7f195f58b4c0>,\n",
       "  <matplotlib.lines.Line2D at 0x7f195f58b820>],\n",
       " 'caps': [<matplotlib.lines.Line2D at 0x7f195f58bb80>,\n",
       "  <matplotlib.lines.Line2D at 0x7f195f58bee0>],\n",
       " 'boxes': [<matplotlib.lines.Line2D at 0x7f195f58b160>],\n",
       " 'medians': [<matplotlib.lines.Line2D at 0x7f195f592280>],\n",
       " 'fliers': [<matplotlib.lines.Line2D at 0x7f195f5925e0>],\n",
       " 'means': []}"
      ]
     },
     "execution_count": 17,
     "metadata": {},
     "output_type": "execute_result"
    },
    {
     "data": {
      "image/png": "[encoded data removed]",
      "text/plain": [
       "<Figure size 1080x360 with 1 Axes>"
      ]
     },
     "metadata": {
      "needs_background": "light"
     },
     "output_type": "display_data"
    }
   ],
   "source": [
    "\n",
    "#data['Price']= np.where(data['']>1000, data['Power']/10, data['Power'])\n",
    "data['Price']= np.where(data['Price']==0, data['Price'].mean(), data['Price'])\n",
    "print(data['Price'].max())\n",
    "print(data['Price'].mean())\n",
    "print(data['Price'].min())\n",
    "plt.figure(figsize=(15, 5))\n",
    "plt.boxplot(x=data['Price'] ,vert=0)"
   ]
  },
  {
   "cell_type": "code",
   "execution_count": 18,
   "metadata": {},
   "outputs": [
    {
     "name": "stdout",
     "output_type": "stream",
     "text": [
      "<class 'pandas.core.frame.DataFrame'>\n",
      "Int64Index: 323946 entries, 0 to 354368\n",
      "Data columns (total 16 columns):\n",
      " #   Column             Non-Null Count   Dtype  \n",
      "---  ------             --------------   -----  \n",
      " 0   DateCrawled        323946 non-null  object \n",
      " 1   Price              323946 non-null  float64\n",
      " 2   VehicleType        323946 non-null  object \n",
      " 3   RegistrationYear   323946 non-null  int64  \n",
      " 4   Gearbox            304592 non-null  object \n",
      " 5   Power              323946 non-null  float64\n",
      " 6   Model              323946 non-null  object \n",
      " 7   Kilometer          323946 non-null  int64  \n",
      " 8   RegistrationMonth  323946 non-null  int64  \n",
      " 9   FuelType           323946 non-null  object \n",
      " 10  Brand              323946 non-null  object \n",
      " 11  NotRepaired        323946 non-null  object \n",
      " 12  DateCreated        323946 non-null  object \n",
      " 13  NumberOfPictures   323946 non-null  int64  \n",
      " 14  PostalCode         323946 non-null  int64  \n",
      " 15  LastSeen           323946 non-null  object \n",
      "dtypes: float64(2), int64(5), object(9)\n",
      "memory usage: 42.0+ MB\n"
     ]
    }
   ],
   "source": [
    "data=data[data['Price']<13000]\n",
    "data.info()"
   ]
  },
  {
   "cell_type": "markdown",
   "metadata": {},
   "source": [
    "<br/>    \n",
    "<div class=\"alert alert-info\">\n",
    "<h2> Комментарий студента: <a class=\"tocSkip\"> </h2>\n",
    "\n",
    "* Для столбца 'Price' граница верхних выбросов 13000 \n",
    "* Обрабатывая значения 0 заменил его на среднее,  так как скорей всего  данные были не заполнены.  \n",
    "* Сократил выборку\n",
    "    \n",
    "</div> "
   ]
  },
  {
   "cell_type": "markdown",
   "metadata": {},
   "source": [
    " <div class=\"alert alert-success\">\n",
    "<h2> Комментарий ревьюера v.2 <a class=\"tocSkip\"> </h2>\n",
    "\n",
    "<b>Все отлично!👍:</b>"
   ]
  },
  {
   "cell_type": "code",
   "execution_count": 19,
   "metadata": {},
   "outputs": [
    {
     "name": "stdout",
     "output_type": "stream",
     "text": [
      "2002.1709521779899\n",
      "1989\n"
     ]
    },
    {
     "data": {
      "text/plain": [
       "{'whiskers': [<matplotlib.lines.Line2D at 0x7f195f55dc70>,\n",
       "  <matplotlib.lines.Line2D at 0x7f195f55dfd0>],\n",
       " 'caps': [<matplotlib.lines.Line2D at 0x7f195f568370>,\n",
       "  <matplotlib.lines.Line2D at 0x7f195f5686d0>],\n",
       " 'boxes': [<matplotlib.lines.Line2D at 0x7f195f55d910>],\n",
       " 'medians': [<matplotlib.lines.Line2D at 0x7f195f568a30>],\n",
       " 'fliers': [<matplotlib.lines.Line2D at 0x7f195f568d90>],\n",
       " 'means': []}"
      ]
     },
     "execution_count": 19,
     "metadata": {},
     "output_type": "execute_result"
    },
    {
     "data": {
      "image/png": "[encoded data removed]",
      "text/plain": [
       "<Figure size 1080x360 with 1 Axes>"
      ]
     },
     "metadata": {
      "needs_background": "light"
     },
     "output_type": "display_data"
    }
   ],
   "source": [
    "\n",
    "data=data[data['RegistrationYear']<2016]\n",
    "data=data[data['RegistrationYear']>1988]\n",
    "\n",
    "print(data['RegistrationYear'].mean())\n",
    "print(data['RegistrationYear'].min())\n",
    "plt.figure(figsize=(15, 5))\n",
    "plt.boxplot(x=data['RegistrationYear'] ,vert=0)"
   ]
  },
  {
   "cell_type": "code",
   "execution_count": 20,
   "metadata": {},
   "outputs": [],
   "source": [
    "data = data.drop('PostalCode', axis=1)\n",
    "data = data.drop('LastSeen', axis=1)\n",
    "data = data.drop('DateCrawled', axis=1)\n",
    "data = data.drop('DateCreated', axis=1)\n",
    "data = data.drop('NumberOfPictures', axis=1)\n",
    "\n"
   ]
  },
  {
   "cell_type": "markdown",
   "metadata": {},
   "source": [
    "<div class=\"alert alert-success\">\n",
    "<h2> Комментарий ревьюера <a class=\"tocSkip\"> </h2>\n",
    "\n",
    "<b>Все отлично!👍:</b> \n",
    "        \n",
    "Молодец, что замечаешь неважные, константный признаки и удаляешь их."
   ]
  },
  {
   "cell_type": "code",
   "execution_count": 21,
   "metadata": {},
   "outputs": [
    {
     "name": "stdout",
     "output_type": "stream",
     "text": [
      "Кол-во дубликатов: 24943\n",
      "Кол-во дубликатов: 0\n"
     ]
    }
   ],
   "source": [
    "data.dropna(inplace=True)\n",
    "print('Кол-во дубликатов:',data.duplicated().sum())\n",
    "data.drop_duplicates(keep=False, inplace=True)\n",
    "print('Кол-во дубликатов:',data.duplicated().sum())"
   ]
  },
  {
   "cell_type": "markdown",
   "metadata": {},
   "source": [
    "<div class=\"alert alert-warning\">\n",
    "    <h2> Комментарий ревьюера <a class=\"tocSkip\"> </h2>\n",
    "    \n",
    "<b>Некоторые замечания и рекомендации💡:</b> \n",
    "        \n",
    "Можно было также использовать заглушки для заполнения пропусков в остальных кат. признаках."
   ]
  },
  {
   "cell_type": "code",
   "execution_count": 22,
   "metadata": {
    "scrolled": false
   },
   "outputs": [
    {
     "name": "stdout",
     "output_type": "stream",
     "text": [
      "Кол-во дубликатов: 0\n",
      "-------------------------\n",
      "Price |кол-во строк 233186 | кол-во NaN 0 | процент NaN 0.0 %\n",
      "-------------------------\n",
      "VehicleType |кол-во строк 233186 | кол-во NaN 0 | процент NaN 0.0 %\n",
      "-------------------------\n",
      "RegistrationYear |кол-во строк 233186 | кол-во NaN 0 | процент NaN 0.0 %\n",
      "-------------------------\n",
      "Gearbox |кол-во строк 233186 | кол-во NaN 0 | процент NaN 0.0 %\n",
      "-------------------------\n",
      "Power |кол-во строк 233186 | кол-во NaN 0 | процент NaN 0.0 %\n",
      "-------------------------\n",
      "Model |кол-во строк 233186 | кол-во NaN 0 | процент NaN 0.0 %\n",
      "-------------------------\n",
      "Kilometer |кол-во строк 233186 | кол-во NaN 0 | процент NaN 0.0 %\n",
      "-------------------------\n",
      "RegistrationMonth |кол-во строк 233186 | кол-во NaN 0 | процент NaN 0.0 %\n",
      "-------------------------\n",
      "FuelType |кол-во строк 233186 | кол-во NaN 0 | процент NaN 0.0 %\n",
      "-------------------------\n",
      "Brand |кол-во строк 233186 | кол-во NaN 0 | процент NaN 0.0 %\n",
      "-------------------------\n",
      "NotRepaired |кол-во строк 233186 | кол-во NaN 0 | процент NaN 0.0 %\n",
      "CPU times: user 210 ms, sys: 257 µs, total: 210 ms\n",
      "Wall time: 211 ms\n"
     ]
    }
   ],
   "source": [
    "%%time\n",
    "check_data (data)"
   ]
  },
  {
   "cell_type": "code",
   "execution_count": 23,
   "metadata": {},
   "outputs": [
    {
     "data": {
      "text/html": [
       "<div>\n",
       "<style scoped>\n",
       "    .dataframe tbody tr th:only-of-type {\n",
       "        vertical-align: middle;\n",
       "    }\n",
       "\n",
       "    .dataframe tbody tr th {\n",
       "        vertical-align: top;\n",
       "    }\n",
       "\n",
       "    .dataframe thead th {\n",
       "        text-align: right;\n",
       "    }\n",
       "</style>\n",
       "<table border=\"1\" class=\"dataframe\">\n",
       "  <thead>\n",
       "    <tr style=\"text-align: right;\">\n",
       "      <th></th>\n",
       "      <th>Price</th>\n",
       "      <th>RegistrationYear</th>\n",
       "      <th>Power</th>\n",
       "      <th>Kilometer</th>\n",
       "      <th>RegistrationMonth</th>\n",
       "    </tr>\n",
       "  </thead>\n",
       "  <tbody>\n",
       "    <tr>\n",
       "      <th>Price</th>\n",
       "      <td>1.000000</td>\n",
       "      <td>0.662624</td>\n",
       "      <td>0.418732</td>\n",
       "      <td>-0.302929</td>\n",
       "      <td>0.082795</td>\n",
       "    </tr>\n",
       "    <tr>\n",
       "      <th>RegistrationYear</th>\n",
       "      <td>0.662624</td>\n",
       "      <td>1.000000</td>\n",
       "      <td>0.107489</td>\n",
       "      <td>-0.347565</td>\n",
       "      <td>0.073250</td>\n",
       "    </tr>\n",
       "    <tr>\n",
       "      <th>Power</th>\n",
       "      <td>0.418732</td>\n",
       "      <td>0.107489</td>\n",
       "      <td>1.000000</td>\n",
       "      <td>0.174445</td>\n",
       "      <td>0.031673</td>\n",
       "    </tr>\n",
       "    <tr>\n",
       "      <th>Kilometer</th>\n",
       "      <td>-0.302929</td>\n",
       "      <td>-0.347565</td>\n",
       "      <td>0.174445</td>\n",
       "      <td>1.000000</td>\n",
       "      <td>-0.012387</td>\n",
       "    </tr>\n",
       "    <tr>\n",
       "      <th>RegistrationMonth</th>\n",
       "      <td>0.082795</td>\n",
       "      <td>0.073250</td>\n",
       "      <td>0.031673</td>\n",
       "      <td>-0.012387</td>\n",
       "      <td>1.000000</td>\n",
       "    </tr>\n",
       "  </tbody>\n",
       "</table>\n",
       "</div>"
      ],
      "text/plain": [
       "                      Price  RegistrationYear     Power  Kilometer  \\\n",
       "Price              1.000000          0.662624  0.418732  -0.302929   \n",
       "RegistrationYear   0.662624          1.000000  0.107489  -0.347565   \n",
       "Power              0.418732          0.107489  1.000000   0.174445   \n",
       "Kilometer         -0.302929         -0.347565  0.174445   1.000000   \n",
       "RegistrationMonth  0.082795          0.073250  0.031673  -0.012387   \n",
       "\n",
       "                   RegistrationMonth  \n",
       "Price                       0.082795  \n",
       "RegistrationYear            0.073250  \n",
       "Power                       0.031673  \n",
       "Kilometer                  -0.012387  \n",
       "RegistrationMonth           1.000000  "
      ]
     },
     "execution_count": 23,
     "metadata": {},
     "output_type": "execute_result"
    }
   ],
   "source": [
    "data.corr()"
   ]
  },
  {
   "cell_type": "markdown",
   "metadata": {},
   "source": [
    "<b>Выводы:</b>  \n",
    "В данных присутствовали пропуски:  \n",
    "* Для столбцов VehicleType, Model, FuelType все пропуски заменены на \"other\", чтобы не сокращать выборку.  \n",
    "* Для столбца NotRepaired заменены на \"no\". Предполагаю что пропуск может означать отсутсвие.\n",
    "* Пропуски по столбцу Gearbox убрал из выборки, так как определить тип невозможно.\n",
    "\n",
    "Из выборки убрано 25145 дубликатов.  \n",
    "\n",
    "Тип данных столбцов соответсвует содержимому и не требует коррекции.  \n",
    "После обработки выборка сократилась на 33% \n",
    "\n",
    "\n",
    "Удалены столбцы 'DateCreated','DateCrawled','NumberOfPictures','PostalCode' и 'LastSeen', так как данные признаки не информативны для модели.\n",
    "\n",
    "Из матрицы корреляции видно, что наибольшое влияние на Цену оказывает Мощность и Пробег автомобиля."
   ]
  },
  {
   "cell_type": "markdown",
   "metadata": {},
   "source": [
    "<div class=\"alert alert-warning\">\n",
    "    <h2> Комментарий ревьюера <a class=\"tocSkip\"> </h2>\n",
    "    \n",
    "<b>Некоторые замечания и рекомендации💡:</b> \n",
    "    \n",
    "Проверь, сколько уникальных значений в месяце регистрации, с этим что-то придется сделать."
   ]
  },
  {
   "cell_type": "markdown",
   "metadata": {},
   "source": [
    "<br/>\n",
    "<div class=\"alert alert-block alert-danger\">\n",
    "<h2> Комментарий ревьюера <a class=\"tocSkip\"></h2>\n",
    "    \n",
    "<b>На доработку🤔:</b>\n",
    "    \n",
    "- Узнай пожалуйста год выгрузки данных (через макс. значение признака `DateCreated`) и сделай вывод о верхнем диапазоне выбросов.\n",
    "- Построй ящик с усами, чтобы посмотреть от какого значения начинаются выбросы (нижний диапазон выбросов). Проведи очистку этого признака от аномалий, пожалуйста.\n",
    " </div>\n",
    "    <br/>    \n",
    "<div class=\"alert alert-info\">\n",
    "<h2> Комментарий студента: <a class=\"tocSkip\"> </h2>\n",
    "Данное поле удалено и не требует обработки.\n",
    "</div> "
   ]
  },
  {
   "cell_type": "markdown",
   "metadata": {},
   "source": [
    "<br/>\n",
    "<div class=\"alert alert-block alert-danger\">\n",
    "<h2> Комментарий ревьюера v.2 <a class=\"tocSkip\"></h2>\n",
    "    \n",
    "<b>На доработку🤔:</b> \n",
    "        \n",
    "\n",
    "В целом, ты прав, но у нас еще есть признак RegistrationYear, там есть \"авто из будущего\" и слишком старые. Поэтому, год регистрации следует ограничить сверху 2016 годом, а также снизу (по боксплоту). Максимальный год выгрузки - 2016.\n",
    "  </div>  \n",
    "<div class=\"alert alert-info\">\n",
    "<h2> Комментарий студентаv.2: <a class=\"tocSkip\"> </h2>\n",
    "Убрал все значения лежащие в выбросах по усам.Итоговый период выпуска авто 1988-2016. Для массового сегмента рынка допустимы диапазон.\n",
    "</div>  "
   ]
  },
  {
   "cell_type": "markdown",
   "metadata": {},
   "source": [
    "<div class=\"alert alert-success\">\n",
    "<h2> Комментарий ревьюера v.3 <a class=\"tocSkip\"> </h2>\n",
    "\n",
    "<b>Все отлично!👍:</b> Супер!"
   ]
  },
  {
   "cell_type": "markdown",
   "metadata": {},
   "source": [
    "<div class=\"alert alert-block alert-danger\">\n",
    "<h2> Комментарий ревьюера <a class=\"tocSkip\"></h2>\n",
    "\n",
    "<b>На доработку🤔:</b>\n",
    "\n",
    "Здесь еще предполагается удалить объекты с неккоректными значениями у мощности и цены.\n",
    "        \n",
    "Рекомендую построить ящики с усами для корректного отсечения аномалий. \n",
    "</div>\n",
    "    <br/>    \n",
    "<div class=\"alert alert-info\">\n",
    "<h2> Комментарий студента: <a class=\"tocSkip\"> </h2>\n",
    "\n",
    "Внес иправления выше\n",
    "</div> "
   ]
  },
  {
   "cell_type": "markdown",
   "metadata": {},
   "source": [
    "<div class=\"alert alert-success\">\n",
    "<h2> Комментарий ревьюера v.2 <a class=\"tocSkip\"> </h2>\n",
    "\n",
    "<b>Все отлично!👍:</b> Вижу, хорошо."
   ]
  },
  {
   "cell_type": "markdown",
   "metadata": {},
   "source": [
    "## Обучение моделей"
   ]
  },
  {
   "cell_type": "code",
   "execution_count": 24,
   "metadata": {},
   "outputs": [
    {
     "data": {
      "text/html": [
       "<div>\n",
       "<style scoped>\n",
       "    .dataframe tbody tr th:only-of-type {\n",
       "        vertical-align: middle;\n",
       "    }\n",
       "\n",
       "    .dataframe tbody tr th {\n",
       "        vertical-align: top;\n",
       "    }\n",
       "\n",
       "    .dataframe thead th {\n",
       "        text-align: right;\n",
       "    }\n",
       "</style>\n",
       "<table border=\"1\" class=\"dataframe\">\n",
       "  <thead>\n",
       "    <tr style=\"text-align: right;\">\n",
       "      <th></th>\n",
       "      <th>Price</th>\n",
       "      <th>RegistrationYear</th>\n",
       "      <th>Power</th>\n",
       "      <th>Kilometer</th>\n",
       "      <th>RegistrationMonth</th>\n",
       "      <th>VehicleType_bus</th>\n",
       "      <th>VehicleType_convertible</th>\n",
       "      <th>VehicleType_coupe</th>\n",
       "      <th>VehicleType_other</th>\n",
       "      <th>VehicleType_sedan</th>\n",
       "      <th>...</th>\n",
       "      <th>Brand_smart</th>\n",
       "      <th>Brand_sonstige_autos</th>\n",
       "      <th>Brand_subaru</th>\n",
       "      <th>Brand_suzuki</th>\n",
       "      <th>Brand_toyota</th>\n",
       "      <th>Brand_trabant</th>\n",
       "      <th>Brand_volkswagen</th>\n",
       "      <th>Brand_volvo</th>\n",
       "      <th>NotRepaired_no</th>\n",
       "      <th>NotRepaired_yes</th>\n",
       "    </tr>\n",
       "  </thead>\n",
       "  <tbody>\n",
       "    <tr>\n",
       "      <th>0</th>\n",
       "      <td>480.0</td>\n",
       "      <td>1993</td>\n",
       "      <td>106.899525</td>\n",
       "      <td>150000</td>\n",
       "      <td>0</td>\n",
       "      <td>0</td>\n",
       "      <td>0</td>\n",
       "      <td>0</td>\n",
       "      <td>1</td>\n",
       "      <td>0</td>\n",
       "      <td>...</td>\n",
       "      <td>0</td>\n",
       "      <td>0</td>\n",
       "      <td>0</td>\n",
       "      <td>0</td>\n",
       "      <td>0</td>\n",
       "      <td>0</td>\n",
       "      <td>1</td>\n",
       "      <td>0</td>\n",
       "      <td>1</td>\n",
       "      <td>0</td>\n",
       "    </tr>\n",
       "    <tr>\n",
       "      <th>2</th>\n",
       "      <td>9800.0</td>\n",
       "      <td>2004</td>\n",
       "      <td>163.000000</td>\n",
       "      <td>125000</td>\n",
       "      <td>8</td>\n",
       "      <td>0</td>\n",
       "      <td>0</td>\n",
       "      <td>0</td>\n",
       "      <td>0</td>\n",
       "      <td>0</td>\n",
       "      <td>...</td>\n",
       "      <td>0</td>\n",
       "      <td>0</td>\n",
       "      <td>0</td>\n",
       "      <td>0</td>\n",
       "      <td>0</td>\n",
       "      <td>0</td>\n",
       "      <td>0</td>\n",
       "      <td>0</td>\n",
       "      <td>1</td>\n",
       "      <td>0</td>\n",
       "    </tr>\n",
       "    <tr>\n",
       "      <th>3</th>\n",
       "      <td>1500.0</td>\n",
       "      <td>2001</td>\n",
       "      <td>75.000000</td>\n",
       "      <td>150000</td>\n",
       "      <td>6</td>\n",
       "      <td>0</td>\n",
       "      <td>0</td>\n",
       "      <td>0</td>\n",
       "      <td>0</td>\n",
       "      <td>0</td>\n",
       "      <td>...</td>\n",
       "      <td>0</td>\n",
       "      <td>0</td>\n",
       "      <td>0</td>\n",
       "      <td>0</td>\n",
       "      <td>0</td>\n",
       "      <td>0</td>\n",
       "      <td>1</td>\n",
       "      <td>0</td>\n",
       "      <td>1</td>\n",
       "      <td>0</td>\n",
       "    </tr>\n",
       "    <tr>\n",
       "      <th>4</th>\n",
       "      <td>3600.0</td>\n",
       "      <td>2008</td>\n",
       "      <td>69.000000</td>\n",
       "      <td>90000</td>\n",
       "      <td>7</td>\n",
       "      <td>0</td>\n",
       "      <td>0</td>\n",
       "      <td>0</td>\n",
       "      <td>0</td>\n",
       "      <td>0</td>\n",
       "      <td>...</td>\n",
       "      <td>0</td>\n",
       "      <td>0</td>\n",
       "      <td>0</td>\n",
       "      <td>0</td>\n",
       "      <td>0</td>\n",
       "      <td>0</td>\n",
       "      <td>0</td>\n",
       "      <td>0</td>\n",
       "      <td>1</td>\n",
       "      <td>0</td>\n",
       "    </tr>\n",
       "    <tr>\n",
       "      <th>5</th>\n",
       "      <td>650.0</td>\n",
       "      <td>1995</td>\n",
       "      <td>102.000000</td>\n",
       "      <td>150000</td>\n",
       "      <td>10</td>\n",
       "      <td>0</td>\n",
       "      <td>0</td>\n",
       "      <td>0</td>\n",
       "      <td>0</td>\n",
       "      <td>1</td>\n",
       "      <td>...</td>\n",
       "      <td>0</td>\n",
       "      <td>0</td>\n",
       "      <td>0</td>\n",
       "      <td>0</td>\n",
       "      <td>0</td>\n",
       "      <td>0</td>\n",
       "      <td>0</td>\n",
       "      <td>0</td>\n",
       "      <td>0</td>\n",
       "      <td>1</td>\n",
       "    </tr>\n",
       "  </tbody>\n",
       "</table>\n",
       "<p>5 rows × 309 columns</p>\n",
       "</div>"
      ],
      "text/plain": [
       "    Price  RegistrationYear       Power  Kilometer  RegistrationMonth  \\\n",
       "0   480.0              1993  106.899525     150000                  0   \n",
       "2  9800.0              2004  163.000000     125000                  8   \n",
       "3  1500.0              2001   75.000000     150000                  6   \n",
       "4  3600.0              2008   69.000000      90000                  7   \n",
       "5   650.0              1995  102.000000     150000                 10   \n",
       "\n",
       "   VehicleType_bus  VehicleType_convertible  VehicleType_coupe  \\\n",
       "0                0                        0                  0   \n",
       "2                0                        0                  0   \n",
       "3                0                        0                  0   \n",
       "4                0                        0                  0   \n",
       "5                0                        0                  0   \n",
       "\n",
       "   VehicleType_other  VehicleType_sedan  ...  Brand_smart  \\\n",
       "0                  1                  0  ...            0   \n",
       "2                  0                  0  ...            0   \n",
       "3                  0                  0  ...            0   \n",
       "4                  0                  0  ...            0   \n",
       "5                  0                  1  ...            0   \n",
       "\n",
       "   Brand_sonstige_autos  Brand_subaru  Brand_suzuki  Brand_toyota  \\\n",
       "0                     0             0             0             0   \n",
       "2                     0             0             0             0   \n",
       "3                     0             0             0             0   \n",
       "4                     0             0             0             0   \n",
       "5                     0             0             0             0   \n",
       "\n",
       "   Brand_trabant  Brand_volkswagen  Brand_volvo  NotRepaired_no  \\\n",
       "0              0                 1            0               1   \n",
       "2              0                 0            0               1   \n",
       "3              0                 1            0               1   \n",
       "4              0                 0            0               1   \n",
       "5              0                 0            0               0   \n",
       "\n",
       "   NotRepaired_yes  \n",
       "0                0  \n",
       "2                0  \n",
       "3                0  \n",
       "4                0  \n",
       "5                1  \n",
       "\n",
       "[5 rows x 309 columns]"
      ]
     },
     "execution_count": 24,
     "metadata": {},
     "output_type": "execute_result"
    }
   ],
   "source": [
    "data_forest=pd.get_dummies(data)\n",
    "data_forest.head()"
   ]
  },
  {
   "cell_type": "markdown",
   "metadata": {},
   "source": [
    "<div class=\"alert alert-warning\">\n",
    "    <h2> Комментарий ревьюера <a class=\"tocSkip\"> </h2>\n",
    "    \n",
    "<b>Некоторые замечания и рекомендации💡:</b> \n",
    "    \n",
    "Чтобы не создавались лишние признаки при кодировании следует указать в аргументе  `drop='first'`.\n",
    " </div>"
   ]
  },
  {
   "cell_type": "code",
   "execution_count": 25,
   "metadata": {},
   "outputs": [
    {
     "name": "stdout",
     "output_type": "stream",
     "text": [
      "(139911, 308) (139911,) (46637, 308) (46637,) (46638, 308) (46638,)\n"
     ]
    }
   ],
   "source": [
    "features_train, features_rem, target_train, target_rem = train_test_split(data_forest.drop('Price', axis=1),data_forest['Price'], train_size=0.6, random_state=12345)\n",
    "features_valid, features_test, target_valid, target_test = train_test_split(features_rem,target_rem,  train_size=0.5, random_state=12345)\n",
    "\n",
    "X_f_train=features_train\n",
    "X_f_test=features_valid\n",
    "y_f_train=target_train \n",
    "y_f_test=target_valid\n",
    "\n",
    "print(X_f_train.shape,y_f_train.shape, X_f_test.shape,  y_f_test.shape,features_test.shape,target_test.shape)"
   ]
  },
  {
   "cell_type": "markdown",
   "metadata": {},
   "source": [
    "<div class=\"alert alert-success\">\n",
    "<h2> Комментарий ревьюера <a class=\"tocSkip\"> </h2>\n",
    "\n",
    "<b>Все отлично!👍:</b> \n",
    "\n",
    "Хорошо, разбиение на выборки корректное."
   ]
  },
  {
   "cell_type": "markdown",
   "metadata": {},
   "source": [
    "<div class=\"alert alert-warning\">\n",
    "    <h2> Комментарий ревьюера v.2 <a class=\"tocSkip\"> </h2>\n",
    "    \n",
    "<b>Некоторые замечания и рекомендации💡:</b> \n",
    "    \n",
    "Не рекомендую тут проводить переименования выборок.\n",
    " </div>\n",
    "    "
   ]
  },
  {
   "cell_type": "code",
   "execution_count": 26,
   "metadata": {},
   "outputs": [
    {
     "name": "stdout",
     "output_type": "stream",
     "text": [
      "max_estimators = 1 : The RMSE of prediction is: 1543.4424388615423\n",
      "max_estimators = 21 : The RMSE of prediction is: 1453.7944640863975\n",
      "max_estimators = 41 : The RMSE of prediction is: 1453.0626306851316\n",
      "max_estimators = 61 : The RMSE of prediction is: 1449.3648652653014\n",
      "max_estimators = 81 : The RMSE of prediction is: 1449.8702790557284\n"
     ]
    }
   ],
   "source": [
    "\n",
    "for est in np.arange(1, 100, 20):\n",
    "    model = RandomForestRegressor(random_state=12345, n_estimators=est ,max_depth = 10,criterion='mse',n_jobs=-1)\n",
    "    model.fit(X_f_train, y_f_train)\n",
    "    y_f_pred = model.predict(X_f_test)\n",
    "    rmse_test = mean_squared_error(y_f_test, y_f_pred) ** 0.5\n",
    "    print(\"max_estimators =\",est, \": \", end='')\n",
    "    print(f'The RMSE of prediction is: {rmse_test}')\n"
   ]
  },
  {
   "cell_type": "code",
   "execution_count": 27,
   "metadata": {},
   "outputs": [
    {
     "name": "stdout",
     "output_type": "stream",
     "text": [
      "max_estimators = 10 : The RMSE of prediction is: 1460.7458987505634\n",
      "max_estimators = 11 : The RMSE of prediction is: 1457.2774156852763\n",
      "max_estimators = 12 : The RMSE of prediction is: 1457.141228647171\n",
      "max_estimators = 13 : The RMSE of prediction is: 1454.6292413484546\n",
      "max_estimators = 14 : The RMSE of prediction is: 1452.3673621658993\n",
      "max_estimators = 15 : The RMSE of prediction is: 1453.2972236958076\n",
      "max_estimators = 16 : The RMSE of prediction is: 1453.2199480768104\n",
      "max_estimators = 17 : The RMSE of prediction is: 1452.8440894484997\n",
      "max_estimators = 18 : The RMSE of prediction is: 1452.7689366779607\n",
      "max_estimators = 19 : The RMSE of prediction is: 1453.1922118337982\n"
     ]
    }
   ],
   "source": [
    "\n",
    "for est in np.arange(10, 20, 1):\n",
    "    model = RandomForestRegressor(random_state=12345, n_estimators=est ,max_depth = 10,criterion='mse',n_jobs=-1)\n",
    "    model.fit(X_f_train, y_f_train)\n",
    "    y_f_pred = model.predict(X_f_test)\n",
    "    rmse_test = mean_squared_error(y_f_test, y_f_pred) ** 0.5\n",
    "    print(\"max_estimators =\",est, \": \", end='')\n",
    "    print(f'The RMSE of prediction is: {rmse_test}')"
   ]
  },
  {
   "cell_type": "markdown",
   "metadata": {},
   "source": [
    "<div class=\"alert alert-info\">\n",
    "<h2> Комментарий студента: <a class=\"tocSkip\"> </h2>\n",
    "Остановимся на минимальном значение в котром достигаеться 1550 . 17 деревьев)\n",
    "</div> "
   ]
  },
  {
   "cell_type": "markdown",
   "metadata": {},
   "source": [
    "<div class=\"alert alert-success\">\n",
    "<h2> Комментарий ревьюера v.2 <a class=\"tocSkip\"> </h2>\n",
    "\n",
    "<b>Все отлично!👍:</b>"
   ]
  },
  {
   "cell_type": "code",
   "execution_count": 28,
   "metadata": {},
   "outputs": [
    {
     "name": "stdout",
     "output_type": "stream",
     "text": [
      "max_depth= 1 : The RMSE of prediction is: 2406.34227006866\n",
      "max_depth= 11 : The RMSE of prediction is: 1417.858939698044\n",
      "max_depth= 21 : The RMSE of prediction is: 1321.1378616142358\n",
      "max_depth= 31 : The RMSE of prediction is: 1344.8261351723918\n",
      "max_depth= 41 : The RMSE of prediction is: 1355.0588331791205\n",
      "max_depth= 51 : The RMSE of prediction is: 1357.532312983796\n",
      "max_depth= 61 : The RMSE of prediction is: 1357.153117531604\n",
      "max_depth= 71 : The RMSE of prediction is: 1356.9993556928907\n",
      "max_depth= 81 : The RMSE of prediction is: 1356.9993556928907\n",
      "max_depth= 91 : The RMSE of prediction is: 1356.9993556928907\n"
     ]
    }
   ],
   "source": [
    "for deph in np.arange(1, 100, 10):\n",
    "    model = RandomForestRegressor(random_state=12345, n_estimators=17 ,max_depth = deph,criterion='mse',n_jobs=-1)\n",
    "    model.fit(X_f_train, y_f_train)\n",
    "    y_f_pred = model.predict(X_f_test)\n",
    "    rmse_test = mean_squared_error(y_f_test, y_f_pred) ** 0.5\n",
    "    print(\"max_depth=\",deph, \": \", end='')\n",
    "    print(f'The RMSE of prediction is: {rmse_test}')"
   ]
  },
  {
   "cell_type": "code",
   "execution_count": 29,
   "metadata": {},
   "outputs": [
    {
     "name": "stdout",
     "output_type": "stream",
     "text": [
      "max_depth= 11 : The RMSE of prediction is: 1417.858939698044\n",
      "max_depth= 12 : The RMSE of prediction is: 1390.1819361759883\n",
      "max_depth= 13 : The RMSE of prediction is: 1367.455735406219\n",
      "max_depth= 14 : The RMSE of prediction is: 1352.5266909492311\n",
      "max_depth= 15 : The RMSE of prediction is: 1338.8554603909515\n",
      "max_depth= 16 : The RMSE of prediction is: 1329.4455939053091\n",
      "max_depth= 17 : The RMSE of prediction is: 1323.7298520860763\n",
      "max_depth= 18 : The RMSE of prediction is: 1321.6348790009656\n",
      "max_depth= 19 : The RMSE of prediction is: 1319.7005905985727\n",
      "max_depth= 20 : The RMSE of prediction is: 1320.3648736569796\n",
      "max_depth= 21 : The RMSE of prediction is: 1321.1378616142358\n",
      "max_depth= 22 : The RMSE of prediction is: 1322.7895349034668\n",
      "max_depth= 23 : The RMSE of prediction is: 1324.886870509226\n",
      "max_depth= 24 : The RMSE of prediction is: 1327.6207973026403\n",
      "max_depth= 25 : The RMSE of prediction is: 1329.6011185198954\n",
      "max_depth= 26 : The RMSE of prediction is: 1333.0891281843656\n",
      "max_depth= 27 : The RMSE of prediction is: 1334.7628305469366\n",
      "max_depth= 28 : The RMSE of prediction is: 1339.2390890503243\n",
      "max_depth= 29 : The RMSE of prediction is: 1341.3781185849543\n"
     ]
    }
   ],
   "source": [
    "for deph in np.arange(11, 30, 1):\n",
    "    model = RandomForestRegressor(random_state=12345, n_estimators=17 ,max_depth = deph,criterion='mse',n_jobs=-1)\n",
    "    model.fit(X_f_train, y_f_train)\n",
    "    y_f_pred = model.predict(X_f_test)\n",
    "    rmse_test = mean_squared_error(y_f_test, y_f_pred) ** 0.5\n",
    "    print(\"max_depth=\",deph, \": \", end='')\n",
    "    print(f'The RMSE of prediction is: {rmse_test}')"
   ]
  },
  {
   "cell_type": "code",
   "execution_count": 30,
   "metadata": {},
   "outputs": [
    {
     "name": "stdout",
     "output_type": "stream",
     "text": [
      "RF_train_time= 36.67 s\n"
     ]
    }
   ],
   "source": [
    "start = time.time()\n",
    "model = RandomForestRegressor(random_state=12345, n_estimators=17,max_depth = 21,criterion='mse',n_jobs=-1)\n",
    "model.fit(X_f_train, y_f_train)\n",
    "end = time.time()\n",
    "RF_train_time = end - start\n",
    "print('RF_train_time= {:.2f} s'.format(RF_train_time))"
   ]
  },
  {
   "cell_type": "code",
   "execution_count": 31,
   "metadata": {},
   "outputs": [
    {
     "name": "stdout",
     "output_type": "stream",
     "text": [
      "The RMSE of prediction is: 1321.1378616142358\n",
      "RF_predict_time = 0.32 s\n"
     ]
    }
   ],
   "source": [
    "\n",
    "\n",
    "start = time.time()\n",
    "y_f_pred = model.predict(X_f_test)\n",
    "rmse_test_f = mean_squared_error(y_f_test, y_f_pred) ** 0.5\n",
    "print(f'The RMSE of prediction is: {rmse_test_f}')\n",
    "end = time.time()\n",
    "RF_predict_time = end - start\n",
    "\n",
    "print('RF_predict_time = {:.2f} s'.format(RF_predict_time))"
   ]
  },
  {
   "cell_type": "markdown",
   "metadata": {},
   "source": [
    "<br/>\n",
    "<div class=\"alert alert-block alert-danger\">\n",
    "<h2> Комментарий ревьюера <a class=\"tocSkip\"></h2>\n",
    "\n",
    "    \n",
    "<b>На доработку🤔:</b>\n",
    "\n",
    "Хотя бы для одной модели следует подбирать не менее двух наборов гиперпараметров."
   ]
  },
  {
   "cell_type": "markdown",
   "metadata": {},
   "source": [
    "<div class=\"alert alert-success\">\n",
    "<h2> Комментарий ревьюера v.2 <a class=\"tocSkip\"> </h2>\n",
    "\n",
    "<b>Все отлично!👍:</b>"
   ]
  },
  {
   "cell_type": "markdown",
   "metadata": {},
   "source": [
    " <br/>\n",
    "<div class=\"alert alert-block alert-danger\">\n",
    "<h2> Комментарий ревьюера  <a class=\"tocSkip\"></h2>\n",
    "    \n",
    "<b>На доработку🤔:</b>\n",
    "\n",
    "</b> При подборе гиперпараметров следует использовать кросс-валидацию. Исправь, пожалуйста."
   ]
  },
  {
   "cell_type": "markdown",
   "metadata": {},
   "source": [
    "<div class=\"alert alert-success\">\n",
    "<h2> Комментарий ревьюера v.2 <a class=\"tocSkip\"> </h2>\n",
    "\n",
    "<b>Все отлично!👍:</b> Использована валидационная выборка."
   ]
  },
  {
   "cell_type": "markdown",
   "metadata": {},
   "source": [
    "<br/>\n",
    "<div class=\"alert alert-block alert-danger\">\n",
    "<h2> Комментарий ревьюера <a class=\"tocSkip\"></h2>\n",
    "    \n",
    "<b>На доработку🤔:</b>\n",
    "    \n",
    "Вижу, что ты сразу проверяешь свои модели на тестовой выборке. Так не стоит делать, т.к. тестовая выборка нужна только для проверки модели-победителя с шага обучения (определи и выпиши ее). Исправь, пожалуйста.\n",
    " </div>\n",
    "      \n",
    "<div class=\"alert alert-info\">\n",
    "<h2> Комментарий студента: <a class=\"tocSkip\"> </h2>\n",
    "    Разбил выборку на 3 части,\n",
    "    Подобрал два Гиперпараметра (n_estimators=17,max_depth = 21)\n",
    "</div> "
   ]
  },
  {
   "cell_type": "markdown",
   "metadata": {},
   "source": [
    "<div class=\"alert alert-success\">\n",
    "<h2> Комментарий ревьюера v.2 <a class=\"tocSkip\"> </h2>\n",
    "\n",
    "<b>Все отлично!👍:</b>"
   ]
  },
  {
   "cell_type": "code",
   "execution_count": 32,
   "metadata": {
    "scrolled": true
   },
   "outputs": [
    {
     "name": "stdout",
     "output_type": "stream",
     "text": [
      "<class 'pandas.core.frame.DataFrame'>\n",
      "Int64Index: 233186 entries, 0 to 354368\n",
      "Data columns (total 11 columns):\n",
      " #   Column             Non-Null Count   Dtype   \n",
      "---  ------             --------------   -----   \n",
      " 0   Price              233186 non-null  float64 \n",
      " 1   VehicleType        233186 non-null  category\n",
      " 2   RegistrationYear   233186 non-null  int64   \n",
      " 3   Gearbox            233186 non-null  category\n",
      " 4   Power              233186 non-null  float64 \n",
      " 5   Model              233186 non-null  category\n",
      " 6   Kilometer          233186 non-null  int64   \n",
      " 7   RegistrationMonth  233186 non-null  int64   \n",
      " 8   FuelType           233186 non-null  category\n",
      " 9   Brand              233186 non-null  category\n",
      " 10  NotRepaired        233186 non-null  category\n",
      "dtypes: category(6), float64(2), int64(3)\n",
      "memory usage: 12.2 MB\n"
     ]
    }
   ],
   "source": [
    "data_lgb=data.copy()\n",
    "obj_feat = list(data_lgb.loc[:, data_lgb.dtypes == 'object'].columns.values) \n",
    "obj_feat\n",
    "for feature in obj_feat:\n",
    "    data_lgb[feature] = pd.Series(data_lgb[feature], dtype=\"category\")\n",
    "    \n",
    "data_lgb.info()   "
   ]
  },
  {
   "cell_type": "markdown",
   "metadata": {},
   "source": [
    "<div class=\"alert alert-success\">\n",
    "<h2> Комментарий ревьюера <a class=\"tocSkip\"> </h2>\n",
    "\n",
    "<b>Все отлично!👍:</b> \n",
    "    \n",
    "Молодец, что готовишь сырые данные для  бустинговой модели."
   ]
  },
  {
   "cell_type": "code",
   "execution_count": 33,
   "metadata": {},
   "outputs": [
    {
     "name": "stdout",
     "output_type": "stream",
     "text": [
      "(139911, 10) (139911,) (46637, 10) (46637,) (46638, 10) (46638,)\n"
     ]
    }
   ],
   "source": [
    "\n",
    "X_train, X_test, y_train, y_test = train_test_split(data_lgb.drop('Price', axis=1),data['Price'], \n",
    "                                                            train_size=0.25, random_state=12345)\n",
    "features_train, features_rem, target_train, target_rem = train_test_split(data_lgb.drop('Price', axis=1),data['Price'], train_size=0.6, random_state=12345)\n",
    "features_valid, features_test, target_valid, target_test = train_test_split(features_rem,target_rem,  train_size=0.5, random_state=12345)\n",
    "\n",
    "X_train=features_train\n",
    "X_test=features_valid\n",
    "y_train=target_train \n",
    "y_test=target_valid\n",
    "\n",
    "print(X_train.shape,y_train.shape,X_test.shape,y_test.shape,features_test.shape,target_test.shape)"
   ]
  },
  {
   "cell_type": "code",
   "execution_count": 34,
   "metadata": {},
   "outputs": [],
   "source": [
    "\n",
    "\n",
    "# create dataset for lightgbm\n",
    "lgb_train = lgb.Dataset(X_train, y_train)\n",
    "lgb_eval = lgb.Dataset(X_test, y_test, reference=lgb_train)\n",
    "\n"
   ]
  },
  {
   "cell_type": "code",
   "execution_count": null,
   "metadata": {},
   "outputs": [],
   "source": []
  },
  {
   "cell_type": "code",
   "execution_count": 35,
   "metadata": {},
   "outputs": [
    {
     "name": "stdout",
     "output_type": "stream",
     "text": [
      "[LightGBM] [Warning] Accuracy may be bad since you didn't explicitly set num_leaves OR 2^max_depth > num_leaves. (num_leaves=31).\n",
      "[LightGBM] [Warning] Accuracy may be bad since you didn't explicitly set num_leaves OR 2^max_depth > num_leaves. (num_leaves=31).\n",
      "[LightGBM] [Warning] Auto-choosing row-wise multi-threading, the overhead of testing was 0.298690 seconds.\n",
      "You can set `force_row_wise=true` to remove the overhead.\n",
      "And if memory is not enough, you can set `force_col_wise=true`.\n",
      "[LightGBM] [Info] Total Bins 531\n",
      "[LightGBM] [Info] Number of data points in the train set: 139911, number of used features: 10\n",
      "[LightGBM] [Warning] Accuracy may be bad since you didn't explicitly set num_leaves OR 2^max_depth > num_leaves. (num_leaves=31).\n"
     ]
    },
    {
     "name": "stderr",
     "output_type": "stream",
     "text": [
      "/opt/conda/lib/python3.9/site-packages/lightgbm/basic.py:1780: UserWarning: Overriding the parameters from Reference Dataset.\n",
      "  _log_warning('Overriding the parameters from Reference Dataset.')\n",
      "/opt/conda/lib/python3.9/site-packages/lightgbm/basic.py:1513: UserWarning: categorical_column in param dict is overridden.\n",
      "  _log_warning(f'{cat_alias} in param dict is overridden.')\n"
     ]
    },
    {
     "name": "stdout",
     "output_type": "stream",
     "text": [
      "[LightGBM] [Info] Start training from score 3689.531481\n",
      "LGB_train_time= 33.55 s\n"
     ]
    }
   ],
   "source": [
    "start = time.time()\n",
    "params = {\n",
    "   'metric': '12',\"max_depth\":10 ,\"random_state\": 12345,\"learning_rate\":0.1\n",
    "}\n",
    "\n",
    "gbm = lgb.train(params, lgb_train,num_boost_round=100,valid_sets=lgb_eval)\n",
    "end = time.time()\n",
    "LGB_train_time = end - start\n",
    "print('LGB_train_time= {:.2f} s'.format(LGB_train_time))\n"
   ]
  },
  {
   "cell_type": "code",
   "execution_count": 36,
   "metadata": {},
   "outputs": [
    {
     "name": "stdout",
     "output_type": "stream",
     "text": [
      "The RMSE of prediction is: 1276.0110138802593\n",
      "LGB_test_time= 0.50 s\n"
     ]
    }
   ],
   "source": [
    "start = time.time()\n",
    "y_pred = gbm.predict(X_test, num_iteration=gbm.best_iteration)\n",
    "# eval\n",
    "rmse_test = mean_squared_error(y_test, y_pred) ** 0.5\n",
    "print(f'The RMSE of prediction is: {rmse_test}')\n",
    "end = time.time()\n",
    "LGB_predict_time = end - start\n",
    "print('LGB_test_time= {:.2f} s'.format(LGB_predict_time)) "
   ]
  },
  {
   "cell_type": "markdown",
   "metadata": {},
   "source": [
    "## Анализ моделей"
   ]
  },
  {
   "cell_type": "markdown",
   "metadata": {},
   "source": [
    "<br/>\n",
    "<div class=\"alert alert-block alert-danger\">\n",
    "<h2> Комментарий ревьюера <a class=\"tocSkip\"></h2>\n",
    "    \n",
    "<b>На доработку🤔:</b>\n",
    "    \n",
    "Нам следует выбрать лучшую модель по соотношению время/качество, основываясь на обучающей выборке, а для этого нужно получить как время обучения (без учета времени на подбор гиперпараметров/ кросс-валидации), так и время предсказания на обучающей выборке  и RMSE на кросс-валидации, занести всё в табличку и выбрать лучшую модель.\n",
    "    \n",
    "    \n",
    "Если валидациционной выборки нет, то анализ моделей должен выглядеть так:\n",
    "\n",
    "1. RMSE вычисляется с помощью кросс-валидации на тренировочной выборке\n",
    "2. Время обучения = время model.fit(X_train, y_train)\n",
    "3. Время предсказания = model.predict(X_train)\n",
    "</div>"
   ]
  },
  {
   "cell_type": "markdown",
   "metadata": {},
   "source": [
    "<div class=\"alert alert-success\">\n",
    "<h2> Комментарий ревьюера v.2 <a class=\"tocSkip\"> </h2>\n",
    "\n",
    "<b>Все отлично!👍:</b>"
   ]
  },
  {
   "cell_type": "markdown",
   "metadata": {},
   "source": [
    "<div class=\"alert alert-success\">\n",
    "<h2> Комментарий ревьюера <a class=\"tocSkip\"> </h2>\n",
    "\n",
    "<b>Все отлично!👍:</b> \n",
    "    \n",
    "Чтобы не вводить время вручную для таблицы, можно воспользоваться модулем `time`:\n",
    "    \n",
    "Код ревьюера:\n",
    "```python\n",
    "start = time.time()\n",
    "lgbm_predict = lgbm_model.predict(features_test)\n",
    "end = time.time()\n",
    "lgbm_predict_time = end - start\n",
    "```"
   ]
  },
  {
   "cell_type": "code",
   "execution_count": 37,
   "metadata": {},
   "outputs": [
    {
     "data": {
      "text/html": [
       "<div>\n",
       "<style scoped>\n",
       "    .dataframe tbody tr th:only-of-type {\n",
       "        vertical-align: middle;\n",
       "    }\n",
       "\n",
       "    .dataframe tbody tr th {\n",
       "        vertical-align: top;\n",
       "    }\n",
       "\n",
       "    .dataframe thead th {\n",
       "        text-align: right;\n",
       "    }\n",
       "</style>\n",
       "<table border=\"1\" class=\"dataframe\">\n",
       "  <thead>\n",
       "    <tr style=\"text-align: right;\">\n",
       "      <th></th>\n",
       "      <th>Параметры</th>\n",
       "      <th>RF</th>\n",
       "      <th>LGBM</th>\n",
       "    </tr>\n",
       "  </thead>\n",
       "  <tbody>\n",
       "    <tr>\n",
       "      <th>0</th>\n",
       "      <td>RMSE</td>\n",
       "      <td>1321.137862</td>\n",
       "      <td>1276.011014</td>\n",
       "    </tr>\n",
       "    <tr>\n",
       "      <th>1</th>\n",
       "      <td>Train_time</td>\n",
       "      <td>36.669076</td>\n",
       "      <td>33.551004</td>\n",
       "    </tr>\n",
       "    <tr>\n",
       "      <th>2</th>\n",
       "      <td>Predict_time</td>\n",
       "      <td>0.316429</td>\n",
       "      <td>0.503051</td>\n",
       "    </tr>\n",
       "  </tbody>\n",
       "</table>\n",
       "</div>"
      ],
      "text/plain": [
       "      Параметры           RF         LGBM\n",
       "0          RMSE  1321.137862  1276.011014\n",
       "1    Train_time    36.669076    33.551004\n",
       "2  Predict_time     0.316429     0.503051"
      ]
     },
     "execution_count": 37,
     "metadata": {},
     "output_type": "execute_result"
    }
   ],
   "source": [
    "rezult = pd.DataFrame({ 'Параметры': ['RMSE','Train_time','Predict_time'],\n",
    "                       'RF':[rmse_test_f,RF_train_time,RF_predict_time], 'LGBM': [rmse_test,LGB_train_time,LGB_predict_time]})\n",
    "rezult.head()"
   ]
  },
  {
   "cell_type": "markdown",
   "metadata": {},
   "source": [
    "<br/>\n",
    "<div class=\"alert alert-block alert-danger\">\n",
    "<h2> Комментарий ревьюера v.2 <a class=\"tocSkip\"></h2>\n",
    "\n",
    "    \n",
    "<b>На доработку🤔:</b>\n",
    "    \n",
    "Проверь корректность вводимых значений в таблицу. Исправь, пожалуйста.\n",
    "</div>"
   ]
  },
  {
   "cell_type": "markdown",
   "metadata": {},
   "source": [
    "<div class=\"alert alert-success\">\n",
    "<h2> Комментарий ревьюера v.3 <a class=\"tocSkip\"> </h2>\n",
    "\n",
    "<b>Все отлично!👍:</b> Молодец)"
   ]
  },
  {
   "cell_type": "markdown",
   "metadata": {},
   "source": [
    "Вывод:\n",
    "Рассмотрели применимость двух моделей RandomForestRegressor и LightGBM\n",
    "\n",
    " \n",
    "Выбираем модель  построеную с использованием LightGBM"
   ]
  },
  {
   "cell_type": "code",
   "execution_count": 38,
   "metadata": {},
   "outputs": [
    {
     "name": "stdout",
     "output_type": "stream",
     "text": [
      "The RMSE of prediction is: 1267.1674815492925\n",
      "LGB_train_time= 0.47 s\n"
     ]
    }
   ],
   "source": [
    "start = time.time()\n",
    "pred = gbm.predict(features_test, num_iteration=gbm.best_iteration)\n",
    "# eval\n",
    "rmse_test_t = mean_squared_error(target_test, pred) ** 0.5\n",
    "print(f'The RMSE of prediction is: {rmse_test_t}')\n",
    "end = time.time()\n",
    "LGB_test_time_t = end - start\n",
    "print('LGB_train_time= {:.2f} s'.format(LGB_test_time_t))"
   ]
  },
  {
   "cell_type": "markdown",
   "metadata": {},
   "source": [
    " <br/>\n",
    "<div class=\"alert alert-block alert-danger\">\n",
    "<h2> Комментарий ревьюера v.3 <a class=\"tocSkip\"></h2>\n",
    "    \n",
    "<b>На доработку🤔:</b>\n",
    "\n",
    "</b> Ячейка выше не отработала. Перед отправкой проекта стоит проверять работоспособность кода - это можно сделать, нажав на панели Jupiter Hub `Kernel` и `Restart & Run All`. Исправь, пожалуйста."
   ]
  },
  {
   "cell_type": "markdown",
   "metadata": {},
   "source": [
    "<div class=\"alert alert-info\">\n",
    "<h2> Комментарий студента v3: <a class=\"tocSkip\"> </h2>\n",
    "Исправил ошибку\n",
    "</div> "
   ]
  },
  {
   "cell_type": "markdown",
   "metadata": {},
   "source": [
    "<div class=\"alert alert-success\">\n",
    "<h2> Комментарий ревьюера v.4 <a class=\"tocSkip\"> </h2>\n",
    "\n",
    "<b>Все отлично!👍:</b> Молодец)"
   ]
  },
  {
   "cell_type": "markdown",
   "metadata": {},
   "source": [
    "<div class=\"alert alert-block alert-danger\">\n",
    "<h2> Комментарий ревьюера <a class=\"tocSkip\"></h2>\n",
    "    \n",
    "<b>На доработку🤔:</b>\n",
    "    \n",
    "Лучшую модель следует затем проверить на тестовой выборке, получить ее метрику и скорость. Выпиши в выводах в явном виде, какая модель достигает наилучшего качества."
   ]
  },
  {
   "cell_type": "markdown",
   "metadata": {},
   "source": [
    "<div class=\"alert alert-success\">\n",
    "<h2> Комментарий ревьюера v.2 <a class=\"tocSkip\"> </h2>\n",
    "\n",
    "<b>Все отлично!👍:</b> Вижу, хорошо."
   ]
  },
  {
   "cell_type": "markdown",
   "metadata": {},
   "source": [
    "## Чек-лист проверки"
   ]
  },
  {
   "cell_type": "markdown",
   "metadata": {},
   "source": [
    "Поставьте 'x' в выполненных пунктах. Далее нажмите Shift+Enter."
   ]
  },
  {
   "cell_type": "markdown",
   "metadata": {},
   "source": [
    "- [x]  Jupyter Notebook открыт\n",
    "- [ ]  Весь код выполняется без ошибок\n",
    "- [ ]  Ячейки с кодом расположены в порядке исполнения\n",
    "- [ ]  Выполнена загрузка и подготовка данных\n",
    "- [ ]  Выполнено обучение моделей\n",
    "- [ ]  Есть анализ скорости работы и качества моделей"
   ]
  },
  {
   "cell_type": "markdown",
   "metadata": {},
   "source": [
    "<div style=\"border:solid Chocolate 2px; padding: 40px\">\n",
    "\n",
    "\n",
    "<h2> Итоговый комментарий ревьюера v.1 <a class=\"tocSkip\"> </h2>    \n",
    "    \n",
    "  \n",
    "У меня сложилось хорошее общее впечатление о проекте, тебе удалось неплохо справиться с таким сложным проектом. Молодец! Подготовлены данные для анализа и проанализированы, изучен каждый параметр. Построено несколько моделей регрессии, оценены их качество и скорость работы. Осмысленная аналитика и дельная модельная работа - многое удалось как надо)\n",
    "    \n",
    "Отмечу отдельные положительные моменты проекта🙂:\n",
    "    \n",
    "- используется кодирование категориальных признаков;\n",
    "- обучены 2 различные модели.\n",
    "- в проекте использованы заглушки при заполнении пропусков.\n",
    "    \n",
    "\n",
    "    \n",
    "Есть несколько моментов всего, на которые стоит ещё раз взглянуть, их я обзначил тебе в комментариях по ходу проекта. \n",
    "Предлагаю тебе доработать проект по моим комментариям, чтобы довести его до совершенства.\n",
    "\n",
    "    \n",
    "Если будут вопросы, обращайся, с удовольствием на них отвечу.  \n",
    "</div>"
   ]
  },
  {
   "cell_type": "markdown",
   "metadata": {},
   "source": [
    "<div style=\"border:solid Chocolate 2px; padding: 40px\">\n",
    "\n",
    "\n",
    "<h2> Итоговый комментарий ревьюера v.2 <a class=\"tocSkip\"> </h2>    \n",
    "    \n",
    "\n",
    "Есть несколько моментов всего, на которые стоит ещё раз взглянуть:\n",
    "    \n",
    "- В целом, ты прав, но у нас еще есть признак RegistrationYear, там есть \"авто из будущего\" и слишком старые. Поэтому, год регистрации следует ограничить сверху 2016 годом, а также снизу (по боксплоту). Максимальный год выгрузки - 2016.\n",
    "- Проверь корректность вводимых значений в таблицу. Исправь, пожалуйста.   \n",
    "    \n",
    "Предлагаю тебе доработать проект по моим комментариям, чтобы довести его до совершенства.\n",
    "\n",
    "    \n",
    "Если будут вопросы, обращайся, с удовольствием на них отвечу.  \n",
    "</div>"
   ]
  },
  {
   "cell_type": "markdown",
   "metadata": {},
   "source": [
    "<div style=\"border:solid Chocolate 2px; padding: 40px\">\n",
    "\n",
    "\n",
    "<h2> Итоговый комментарий ревьюера v.3 <a class=\"tocSkip\"> </h2>    \n",
    "    \n",
    "\n",
    "Есть несколько моментов всего, на которые стоит ещё раз взглянуть:\n",
    "    \n",
    "- Ячейка выше не отработала. Перед отправкой проекта стоит проверять работоспособность кода - это можно сделать, нажав на панели Jupiter Hub `Kernel` и `Restart & Run All`. Исправь, пожалуйста.\n",
    "    \n",
    "Предлагаю тебе доработать проект по моим комментариям, чтобы довести его до совершенства.\n",
    "\n",
    "    \n",
    "Если будут вопросы, обращайся, с удовольствием на них отвечу.  \n",
    "</div>"
   ]
  },
  {
   "cell_type": "markdown",
   "metadata": {},
   "source": [
    "<div class=\"alert alert-success\">\n",
    "<h2> Комментарий ревьюера v.4 <a class=\"tocSkip\"> </h2>\n",
    "\n",
    "<b>Все отлично!👍:</b> \n",
    "\n",
    "Если хочешь лучше разобраться в спринте, то могу посоветовать тебе учебник по ML от ШАД: https://ml-handbook.ru/chapters/grad_boost/intro\n",
    "    \n",
    "статью на Хабре: https://habr.com/ru/company/ods/blog/327250/\n",
    "    \n",
    "и видео: https://www.youtube.com/watch?v=xl1fwCza9C8\n",
    "    \n",
    "а также статью про подбор гиперпараметров с Optuna: https://www.kaggle.com/code/hamzaghanmi/lgbm-hyperparameter-tuning-using-optuna/notebook"
   ]
  },
  {
   "cell_type": "markdown",
   "metadata": {},
   "source": [
    "<div style=\"border:solid Chocolate 2px; padding: 40px\">\n",
    "\n",
    "\n",
    "<h2> Итоговый комментарий ревьюера v.4 <a class=\"tocSkip\"> </h2>    \n",
    "    \n",
    "     \n",
    "  \n",
    "Теперь почти идеально, молодец! Принимаю твой проект)\n",
    "    \n",
    "    \n",
    "В этом проекте много шагов отработано. С интересом читал твои размышления, код и выводы. Что ещё для дальнейшего улучшения качества/скорости моделирования возможно сделать?\n",
    "    \n",
    "Опишу здесь некоторые идеи:\n",
    "    \n",
    "1. Качество данных на входе: ещё раз оценить аномалии, пропуски, проверить согласованность временных признаков.\n",
    "2. Генерация новых полезных признаков (features engineering), например категории возраста автомобиля и т.д.  \n",
    "3. Оценить важность признаков при моделировании, например с использованием feature_importances_, вывести график.    \n",
    "4. Оптимизация подбора гиперпараметров (OptunaSearchCV, RandomizedSearchCV, BayesSearchCV и т.д.)\n",
    "5. Изменение типов данных признаков для ускорения вычислений.\n",
    "6. Анализ остатков (разницы между прогнозом и фактом): выявить, в каких случаях чаще всего ошибается, а в каких выдает наиболее точный результат... \n",
    "    \n",
    "Но цель нашего проекта достигнута: пройдены основные этапы построения модели с учетом ее качества и скорости работы.\n",
    "    \n",
    "Рад был тебе помочь)\n",
    "\n",
    "Преподаватель в Slack будет рад помочь, если у тебя появятся вопросы. Удачи!\n",
    "  \n",
    "</div>"
   ]
  },
  {
   "cell_type": "code",
   "execution_count": null,
   "metadata": {},
   "outputs": [],
   "source": []
  }
 ],
 "metadata": {
  "ExecuteTimeLog": [
   {
    "duration": 43,
    "start_time": "2022-09-05T06:53:11.423Z"
   },
   {
    "duration": 422,
    "start_time": "2022-09-05T06:53:15.855Z"
   },
   {
    "duration": 995,
    "start_time": "2022-09-05T06:53:17.145Z"
   },
   {
    "duration": 881,
    "start_time": "2022-09-05T06:54:00.099Z"
   },
   {
    "duration": 4,
    "start_time": "2022-09-05T06:57:08.548Z"
   },
   {
    "duration": 4,
    "start_time": "2022-09-05T06:57:13.429Z"
   },
   {
    "duration": 3,
    "start_time": "2022-09-05T06:57:38.630Z"
   },
   {
    "duration": 713,
    "start_time": "2022-09-05T06:58:12.363Z"
   },
   {
    "duration": 158,
    "start_time": "2022-09-05T07:05:09.276Z"
   },
   {
    "duration": 18,
    "start_time": "2022-09-05T07:05:54.332Z"
   },
   {
    "duration": 211,
    "start_time": "2022-09-05T07:06:07.469Z"
   },
   {
    "duration": 187,
    "start_time": "2022-09-05T07:06:44.301Z"
   },
   {
    "duration": 222,
    "start_time": "2022-09-05T07:08:16.393Z"
   },
   {
    "duration": 236,
    "start_time": "2022-09-05T07:09:07.878Z"
   },
   {
    "duration": 115,
    "start_time": "2022-09-05T07:10:43.320Z"
   },
   {
    "duration": 34,
    "start_time": "2022-09-05T07:10:49.890Z"
   },
   {
    "duration": 644,
    "start_time": "2022-09-05T07:11:08.275Z"
   },
   {
    "duration": 139,
    "start_time": "2022-09-05T07:12:52.950Z"
   },
   {
    "duration": 575,
    "start_time": "2022-09-05T07:12:55.538Z"
   },
   {
    "duration": 354,
    "start_time": "2022-09-05T07:14:17.296Z"
   },
   {
    "duration": 839,
    "start_time": "2022-09-05T07:14:17.652Z"
   },
   {
    "duration": 4,
    "start_time": "2022-09-05T07:14:18.493Z"
   },
   {
    "duration": 713,
    "start_time": "2022-09-05T07:14:18.498Z"
   },
   {
    "duration": 181,
    "start_time": "2022-09-05T07:14:19.213Z"
   },
   {
    "duration": 18,
    "start_time": "2022-09-05T07:14:19.396Z"
   },
   {
    "duration": 219,
    "start_time": "2022-09-05T07:14:19.416Z"
   },
   {
    "duration": 199,
    "start_time": "2022-09-05T07:14:19.637Z"
   },
   {
    "duration": 223,
    "start_time": "2022-09-05T07:14:19.837Z"
   },
   {
    "duration": 263,
    "start_time": "2022-09-05T07:14:20.061Z"
   },
   {
    "duration": 688,
    "start_time": "2022-09-05T07:14:20.325Z"
   },
   {
    "duration": 22,
    "start_time": "2022-09-05T07:18:15.752Z"
   },
   {
    "duration": 191,
    "start_time": "2022-09-05T07:18:41.832Z"
   },
   {
    "duration": 375,
    "start_time": "2022-09-05T07:19:01.387Z"
   },
   {
    "duration": 878,
    "start_time": "2022-09-05T07:19:01.763Z"
   },
   {
    "duration": 3,
    "start_time": "2022-09-05T07:19:02.643Z"
   },
   {
    "duration": 766,
    "start_time": "2022-09-05T07:19:02.648Z"
   },
   {
    "duration": 175,
    "start_time": "2022-09-05T07:19:03.417Z"
   },
   {
    "duration": 21,
    "start_time": "2022-09-05T07:19:03.594Z"
   },
   {
    "duration": 240,
    "start_time": "2022-09-05T07:19:03.616Z"
   },
   {
    "duration": 207,
    "start_time": "2022-09-05T07:19:03.857Z"
   },
   {
    "duration": 17,
    "start_time": "2022-09-05T07:19:04.066Z"
   },
   {
    "duration": 241,
    "start_time": "2022-09-05T07:19:04.085Z"
   },
   {
    "duration": 17,
    "start_time": "2022-09-05T07:19:04.328Z"
   },
   {
    "duration": 269,
    "start_time": "2022-09-05T07:19:04.346Z"
   },
   {
    "duration": 17,
    "start_time": "2022-09-05T07:19:04.617Z"
   },
   {
    "duration": 206,
    "start_time": "2022-09-05T07:19:04.636Z"
   },
   {
    "duration": 775,
    "start_time": "2022-09-05T07:19:04.844Z"
   },
   {
    "duration": 678,
    "start_time": "2022-09-05T07:19:53.386Z"
   },
   {
    "duration": 61,
    "start_time": "2022-09-05T07:19:56.598Z"
   },
   {
    "duration": 149,
    "start_time": "2022-09-05T07:20:08.547Z"
   },
   {
    "duration": 645,
    "start_time": "2022-09-05T07:20:11.837Z"
   },
   {
    "duration": 9,
    "start_time": "2022-09-05T07:24:10.925Z"
   },
   {
    "duration": 430,
    "start_time": "2022-09-05T07:24:22.650Z"
   },
   {
    "duration": 536,
    "start_time": "2022-09-05T07:24:52.142Z"
   },
   {
    "duration": 626,
    "start_time": "2022-09-05T07:24:57.278Z"
   },
   {
    "duration": 613,
    "start_time": "2022-09-05T07:25:11.287Z"
   },
   {
    "duration": 562,
    "start_time": "2022-09-05T07:26:59.821Z"
   },
   {
    "duration": 547,
    "start_time": "2022-09-05T07:27:04.551Z"
   },
   {
    "duration": 614,
    "start_time": "2022-09-05T07:27:07.507Z"
   },
   {
    "duration": 71,
    "start_time": "2022-09-05T07:46:51.820Z"
   },
   {
    "duration": 7,
    "start_time": "2022-09-05T07:47:13.652Z"
   },
   {
    "duration": 6,
    "start_time": "2022-09-05T07:47:20.184Z"
   },
   {
    "duration": 401,
    "start_time": "2022-09-05T07:48:02.049Z"
   },
   {
    "duration": 882,
    "start_time": "2022-09-05T07:48:02.452Z"
   },
   {
    "duration": 4,
    "start_time": "2022-09-05T07:48:03.336Z"
   },
   {
    "duration": 735,
    "start_time": "2022-09-05T07:48:03.342Z"
   },
   {
    "duration": 164,
    "start_time": "2022-09-05T07:48:04.079Z"
   },
   {
    "duration": 23,
    "start_time": "2022-09-05T07:48:04.244Z"
   },
   {
    "duration": 207,
    "start_time": "2022-09-05T07:48:04.268Z"
   },
   {
    "duration": 200,
    "start_time": "2022-09-05T07:48:04.477Z"
   },
   {
    "duration": 18,
    "start_time": "2022-09-05T07:48:04.679Z"
   },
   {
    "duration": 231,
    "start_time": "2022-09-05T07:48:04.698Z"
   },
   {
    "duration": 16,
    "start_time": "2022-09-05T07:48:04.931Z"
   },
   {
    "duration": 275,
    "start_time": "2022-09-05T07:48:04.949Z"
   },
   {
    "duration": 21,
    "start_time": "2022-09-05T07:48:05.227Z"
   },
   {
    "duration": 252,
    "start_time": "2022-09-05T07:48:05.260Z"
   },
   {
    "duration": 586,
    "start_time": "2022-09-05T07:48:05.514Z"
   },
   {
    "duration": 593,
    "start_time": "2022-09-05T07:48:06.102Z"
   },
   {
    "duration": 81,
    "start_time": "2022-09-05T07:48:06.696Z"
   },
   {
    "duration": 62,
    "start_time": "2022-09-05T07:48:06.779Z"
   },
   {
    "duration": 6,
    "start_time": "2022-09-05T07:48:27.583Z"
   },
   {
    "duration": 22,
    "start_time": "2022-09-05T07:51:58.850Z"
   },
   {
    "duration": 7,
    "start_time": "2022-09-05T07:52:43.465Z"
   },
   {
    "duration": 10,
    "start_time": "2022-09-05T07:52:47.532Z"
   },
   {
    "duration": 38,
    "start_time": "2022-09-05T07:52:56.671Z"
   },
   {
    "duration": 8,
    "start_time": "2022-09-05T07:52:58.334Z"
   },
   {
    "duration": 638,
    "start_time": "2022-09-05T07:53:42.678Z"
   },
   {
    "duration": 1040,
    "start_time": "2022-09-05T07:53:47.566Z"
   },
   {
    "duration": 837,
    "start_time": "2022-09-05T07:53:48.608Z"
   },
   {
    "duration": 4,
    "start_time": "2022-09-05T07:53:49.446Z"
   },
   {
    "duration": 702,
    "start_time": "2022-09-05T07:53:49.456Z"
   },
   {
    "duration": 169,
    "start_time": "2022-09-05T07:53:50.161Z"
   },
   {
    "duration": 28,
    "start_time": "2022-09-05T07:53:50.332Z"
   },
   {
    "duration": 206,
    "start_time": "2022-09-05T07:53:50.362Z"
   },
   {
    "duration": 197,
    "start_time": "2022-09-05T07:53:50.571Z"
   },
   {
    "duration": 17,
    "start_time": "2022-09-05T07:53:50.770Z"
   },
   {
    "duration": 222,
    "start_time": "2022-09-05T07:53:50.788Z"
   },
   {
    "duration": 16,
    "start_time": "2022-09-05T07:53:51.012Z"
   },
   {
    "duration": 264,
    "start_time": "2022-09-05T07:53:51.030Z"
   },
   {
    "duration": 19,
    "start_time": "2022-09-05T07:53:51.296Z"
   },
   {
    "duration": 200,
    "start_time": "2022-09-05T07:53:51.319Z"
   },
   {
    "duration": 598,
    "start_time": "2022-09-05T07:53:51.521Z"
   },
   {
    "duration": 612,
    "start_time": "2022-09-05T07:53:52.121Z"
   },
   {
    "duration": 85,
    "start_time": "2022-09-05T07:53:52.734Z"
   },
   {
    "duration": 22,
    "start_time": "2022-09-05T07:53:52.821Z"
   },
   {
    "duration": 161,
    "start_time": "2022-09-05T07:53:52.857Z"
   },
   {
    "duration": 19,
    "start_time": "2022-09-05T07:53:53.020Z"
   },
   {
    "duration": 4,
    "start_time": "2022-09-05T07:54:11.203Z"
   },
   {
    "duration": 564,
    "start_time": "2022-09-05T08:08:15.782Z"
   },
   {
    "duration": 1058,
    "start_time": "2022-09-05T08:09:57.162Z"
   },
   {
    "duration": 873,
    "start_time": "2022-09-05T08:09:58.222Z"
   },
   {
    "duration": 4,
    "start_time": "2022-09-05T08:09:59.097Z"
   },
   {
    "duration": 710,
    "start_time": "2022-09-05T08:09:59.102Z"
   },
   {
    "duration": 179,
    "start_time": "2022-09-05T08:09:59.814Z"
   },
   {
    "duration": 20,
    "start_time": "2022-09-05T08:09:59.994Z"
   },
   {
    "duration": 232,
    "start_time": "2022-09-05T08:10:00.016Z"
   },
   {
    "duration": 208,
    "start_time": "2022-09-05T08:10:00.249Z"
   },
   {
    "duration": 18,
    "start_time": "2022-09-05T08:10:00.459Z"
   },
   {
    "duration": 244,
    "start_time": "2022-09-05T08:10:00.479Z"
   },
   {
    "duration": 16,
    "start_time": "2022-09-05T08:10:00.725Z"
   },
   {
    "duration": 259,
    "start_time": "2022-09-05T08:10:00.743Z"
   },
   {
    "duration": 16,
    "start_time": "2022-09-05T08:10:01.003Z"
   },
   {
    "duration": 208,
    "start_time": "2022-09-05T08:10:01.021Z"
   },
   {
    "duration": 102,
    "start_time": "2022-09-05T08:10:01.231Z"
   },
   {
    "duration": 947,
    "start_time": "2022-09-05T08:10:01.334Z"
   },
   {
    "duration": 491,
    "start_time": "2022-09-05T08:10:02.283Z"
   },
   {
    "duration": 21,
    "start_time": "2022-09-05T08:10:02.776Z"
   },
   {
    "duration": 182,
    "start_time": "2022-09-05T08:10:02.798Z"
   },
   {
    "duration": 4,
    "start_time": "2022-09-05T08:10:02.982Z"
   },
   {
    "duration": 144,
    "start_time": "2022-09-05T08:22:02.194Z"
   },
   {
    "duration": 1102,
    "start_time": "2022-09-05T08:22:07.820Z"
   },
   {
    "duration": 889,
    "start_time": "2022-09-05T08:22:08.923Z"
   },
   {
    "duration": 4,
    "start_time": "2022-09-05T08:22:09.813Z"
   },
   {
    "duration": 754,
    "start_time": "2022-09-05T08:22:09.818Z"
   },
   {
    "duration": 168,
    "start_time": "2022-09-05T08:22:10.575Z"
   },
   {
    "duration": 26,
    "start_time": "2022-09-05T08:22:10.745Z"
   },
   {
    "duration": 244,
    "start_time": "2022-09-05T08:22:10.773Z"
   },
   {
    "duration": 219,
    "start_time": "2022-09-05T08:22:11.019Z"
   },
   {
    "duration": 23,
    "start_time": "2022-09-05T08:22:11.240Z"
   },
   {
    "duration": 237,
    "start_time": "2022-09-05T08:22:11.265Z"
   },
   {
    "duration": 29,
    "start_time": "2022-09-05T08:22:11.505Z"
   },
   {
    "duration": 268,
    "start_time": "2022-09-05T08:22:11.535Z"
   },
   {
    "duration": 17,
    "start_time": "2022-09-05T08:22:11.805Z"
   },
   {
    "duration": 201,
    "start_time": "2022-09-05T08:22:11.825Z"
   },
   {
    "duration": 101,
    "start_time": "2022-09-05T08:22:12.028Z"
   },
   {
    "duration": 1017,
    "start_time": "2022-09-05T08:22:12.130Z"
   },
   {
    "duration": 510,
    "start_time": "2022-09-05T08:22:13.149Z"
   },
   {
    "duration": 22,
    "start_time": "2022-09-05T08:22:13.660Z"
   },
   {
    "duration": 184,
    "start_time": "2022-09-05T08:22:13.684Z"
   },
   {
    "duration": 5,
    "start_time": "2022-09-05T08:22:13.869Z"
   },
   {
    "duration": 241,
    "start_time": "2022-09-05T08:22:13.875Z"
   },
   {
    "duration": 1125,
    "start_time": "2022-09-05T08:23:54.042Z"
   },
   {
    "duration": 985,
    "start_time": "2022-09-05T08:23:55.170Z"
   },
   {
    "duration": 5,
    "start_time": "2022-09-05T08:23:56.157Z"
   },
   {
    "duration": 704,
    "start_time": "2022-09-05T08:23:56.164Z"
   },
   {
    "duration": 163,
    "start_time": "2022-09-05T08:23:56.871Z"
   },
   {
    "duration": 21,
    "start_time": "2022-09-05T08:23:57.036Z"
   },
   {
    "duration": 220,
    "start_time": "2022-09-05T08:23:57.058Z"
   },
   {
    "duration": 199,
    "start_time": "2022-09-05T08:23:57.279Z"
   },
   {
    "duration": 16,
    "start_time": "2022-09-05T08:23:57.480Z"
   },
   {
    "duration": 233,
    "start_time": "2022-09-05T08:23:57.498Z"
   },
   {
    "duration": 24,
    "start_time": "2022-09-05T08:23:57.733Z"
   },
   {
    "duration": 242,
    "start_time": "2022-09-05T08:23:57.759Z"
   },
   {
    "duration": 16,
    "start_time": "2022-09-05T08:23:58.003Z"
   },
   {
    "duration": 201,
    "start_time": "2022-09-05T08:23:58.022Z"
   },
   {
    "duration": 123,
    "start_time": "2022-09-05T08:23:58.225Z"
   },
   {
    "duration": 660,
    "start_time": "2022-09-05T08:23:58.350Z"
   },
   {
    "duration": 350,
    "start_time": "2022-09-05T08:23:59.012Z"
   },
   {
    "duration": 20,
    "start_time": "2022-09-05T08:23:59.364Z"
   },
   {
    "duration": 123,
    "start_time": "2022-09-05T08:23:59.386Z"
   },
   {
    "duration": 5,
    "start_time": "2022-09-05T08:23:59.510Z"
   },
   {
    "duration": 219,
    "start_time": "2022-09-05T08:23:59.516Z"
   },
   {
    "duration": 28,
    "start_time": "2022-09-05T11:46:50.653Z"
   },
   {
    "duration": 151,
    "start_time": "2022-09-05T11:47:35.771Z"
   },
   {
    "duration": 27,
    "start_time": "2022-09-05T11:47:54.003Z"
   },
   {
    "duration": 66,
    "start_time": "2022-09-05T11:49:41.270Z"
   },
   {
    "duration": 1139,
    "start_time": "2022-09-05T11:50:24.512Z"
   },
   {
    "duration": 838,
    "start_time": "2022-09-05T11:50:25.654Z"
   },
   {
    "duration": 4,
    "start_time": "2022-09-05T11:50:26.494Z"
   },
   {
    "duration": 686,
    "start_time": "2022-09-05T11:50:26.500Z"
   },
   {
    "duration": 171,
    "start_time": "2022-09-05T11:50:27.188Z"
   },
   {
    "duration": 18,
    "start_time": "2022-09-05T11:50:27.360Z"
   },
   {
    "duration": 208,
    "start_time": "2022-09-05T11:50:27.379Z"
   },
   {
    "duration": 199,
    "start_time": "2022-09-05T11:50:27.589Z"
   },
   {
    "duration": 16,
    "start_time": "2022-09-05T11:50:27.790Z"
   },
   {
    "duration": 224,
    "start_time": "2022-09-05T11:50:27.808Z"
   },
   {
    "duration": 23,
    "start_time": "2022-09-05T11:50:28.034Z"
   },
   {
    "duration": 247,
    "start_time": "2022-09-05T11:50:28.059Z"
   },
   {
    "duration": 15,
    "start_time": "2022-09-05T11:50:28.308Z"
   },
   {
    "duration": 207,
    "start_time": "2022-09-05T11:50:28.325Z"
   },
   {
    "duration": 126,
    "start_time": "2022-09-05T11:50:28.533Z"
   },
   {
    "duration": 624,
    "start_time": "2022-09-05T11:50:28.661Z"
   },
   {
    "duration": 334,
    "start_time": "2022-09-05T11:50:29.287Z"
   },
   {
    "duration": 19,
    "start_time": "2022-09-05T11:50:29.623Z"
   },
   {
    "duration": 123,
    "start_time": "2022-09-05T11:50:29.644Z"
   },
   {
    "duration": 4,
    "start_time": "2022-09-05T11:50:29.768Z"
   },
   {
    "duration": 30,
    "start_time": "2022-09-05T11:50:29.773Z"
   },
   {
    "duration": 177,
    "start_time": "2022-09-05T11:50:29.804Z"
   },
   {
    "duration": 223,
    "start_time": "2022-09-05T11:50:29.982Z"
   },
   {
    "duration": 27,
    "start_time": "2022-09-05T11:51:57.167Z"
   },
   {
    "duration": 57,
    "start_time": "2022-09-05T11:52:14.428Z"
   },
   {
    "duration": 70,
    "start_time": "2022-09-05T11:53:04.275Z"
   },
   {
    "duration": 236,
    "start_time": "2022-09-05T11:53:34.179Z"
   },
   {
    "duration": 1133,
    "start_time": "2022-09-05T11:54:08.034Z"
   },
   {
    "duration": 875,
    "start_time": "2022-09-05T11:54:09.169Z"
   },
   {
    "duration": 4,
    "start_time": "2022-09-05T11:54:10.045Z"
   },
   {
    "duration": 710,
    "start_time": "2022-09-05T11:54:10.057Z"
   },
   {
    "duration": 163,
    "start_time": "2022-09-05T11:54:10.769Z"
   },
   {
    "duration": 27,
    "start_time": "2022-09-05T11:54:10.933Z"
   },
   {
    "duration": 213,
    "start_time": "2022-09-05T11:54:10.961Z"
   },
   {
    "duration": 196,
    "start_time": "2022-09-05T11:54:11.175Z"
   },
   {
    "duration": 16,
    "start_time": "2022-09-05T11:54:11.373Z"
   },
   {
    "duration": 243,
    "start_time": "2022-09-05T11:54:11.391Z"
   },
   {
    "duration": 21,
    "start_time": "2022-09-05T11:54:11.636Z"
   },
   {
    "duration": 252,
    "start_time": "2022-09-05T11:54:11.659Z"
   },
   {
    "duration": 18,
    "start_time": "2022-09-05T11:54:11.913Z"
   },
   {
    "duration": 218,
    "start_time": "2022-09-05T11:54:11.933Z"
   },
   {
    "duration": 126,
    "start_time": "2022-09-05T11:54:12.153Z"
   },
   {
    "duration": 663,
    "start_time": "2022-09-05T11:54:12.281Z"
   },
   {
    "duration": 358,
    "start_time": "2022-09-05T11:54:12.946Z"
   },
   {
    "duration": 21,
    "start_time": "2022-09-05T11:54:13.306Z"
   },
   {
    "duration": 133,
    "start_time": "2022-09-05T11:54:13.328Z"
   },
   {
    "duration": 4,
    "start_time": "2022-09-05T11:54:13.463Z"
   },
   {
    "duration": 32,
    "start_time": "2022-09-05T11:54:13.469Z"
   },
   {
    "duration": 194,
    "start_time": "2022-09-05T11:54:13.503Z"
   },
   {
    "duration": 251,
    "start_time": "2022-09-05T11:54:13.699Z"
   },
   {
    "duration": 31,
    "start_time": "2022-09-05T12:18:52.358Z"
   },
   {
    "duration": 4,
    "start_time": "2022-09-05T12:22:09.726Z"
   },
   {
    "duration": 23,
    "start_time": "2022-09-05T12:22:25.819Z"
   },
   {
    "duration": 1213,
    "start_time": "2022-09-05T12:22:39.049Z"
   },
   {
    "duration": 918,
    "start_time": "2022-09-05T12:22:40.264Z"
   },
   {
    "duration": 4,
    "start_time": "2022-09-05T12:22:41.184Z"
   },
   {
    "duration": 779,
    "start_time": "2022-09-05T12:22:41.189Z"
   },
   {
    "duration": 185,
    "start_time": "2022-09-05T12:22:41.970Z"
   },
   {
    "duration": 20,
    "start_time": "2022-09-05T12:22:42.158Z"
   },
   {
    "duration": 259,
    "start_time": "2022-09-05T12:22:42.180Z"
   },
   {
    "duration": 257,
    "start_time": "2022-09-05T12:22:42.442Z"
   },
   {
    "duration": 18,
    "start_time": "2022-09-05T12:22:42.700Z"
   },
   {
    "duration": 261,
    "start_time": "2022-09-05T12:22:42.720Z"
   },
   {
    "duration": 19,
    "start_time": "2022-09-05T12:22:42.983Z"
   },
   {
    "duration": 299,
    "start_time": "2022-09-05T12:22:43.004Z"
   },
   {
    "duration": 16,
    "start_time": "2022-09-05T12:22:43.305Z"
   },
   {
    "duration": 209,
    "start_time": "2022-09-05T12:22:43.324Z"
   },
   {
    "duration": 131,
    "start_time": "2022-09-05T12:22:43.535Z"
   },
   {
    "duration": 679,
    "start_time": "2022-09-05T12:22:43.667Z"
   },
   {
    "duration": 350,
    "start_time": "2022-09-05T12:22:44.348Z"
   },
   {
    "duration": 110,
    "start_time": "2022-09-05T12:22:44.700Z"
   },
   {
    "duration": 6,
    "start_time": "2022-09-05T12:22:44.811Z"
   },
   {
    "duration": 53,
    "start_time": "2022-09-05T12:22:44.819Z"
   },
   {
    "duration": 5,
    "start_time": "2022-09-05T12:22:44.873Z"
   },
   {
    "duration": 16,
    "start_time": "2022-09-05T12:22:44.879Z"
   },
   {
    "duration": 17,
    "start_time": "2022-09-05T12:22:44.896Z"
   },
   {
    "duration": 164,
    "start_time": "2022-09-05T12:22:44.914Z"
   },
   {
    "duration": 4,
    "start_time": "2022-09-05T12:26:52.736Z"
   },
   {
    "duration": 3,
    "start_time": "2022-09-05T12:27:15.142Z"
   },
   {
    "duration": 1230,
    "start_time": "2022-09-05T12:29:13.413Z"
   },
   {
    "duration": 1033,
    "start_time": "2022-09-05T12:29:14.645Z"
   },
   {
    "duration": 6,
    "start_time": "2022-09-05T12:29:15.680Z"
   },
   {
    "duration": 815,
    "start_time": "2022-09-05T12:29:15.688Z"
   },
   {
    "duration": 182,
    "start_time": "2022-09-05T12:29:16.505Z"
   },
   {
    "duration": 21,
    "start_time": "2022-09-05T12:29:16.689Z"
   },
   {
    "duration": 234,
    "start_time": "2022-09-05T12:29:16.712Z"
   },
   {
    "duration": 222,
    "start_time": "2022-09-05T12:29:16.948Z"
   },
   {
    "duration": 28,
    "start_time": "2022-09-05T12:29:17.172Z"
   },
   {
    "duration": 293,
    "start_time": "2022-09-05T12:29:17.202Z"
   },
   {
    "duration": 22,
    "start_time": "2022-09-05T12:29:17.497Z"
   },
   {
    "duration": 291,
    "start_time": "2022-09-05T12:29:17.522Z"
   },
   {
    "duration": 17,
    "start_time": "2022-09-05T12:29:17.814Z"
   },
   {
    "duration": 210,
    "start_time": "2022-09-05T12:29:17.834Z"
   },
   {
    "duration": 139,
    "start_time": "2022-09-05T12:29:18.046Z"
   },
   {
    "duration": 661,
    "start_time": "2022-09-05T12:29:18.187Z"
   },
   {
    "duration": 350,
    "start_time": "2022-09-05T12:29:18.850Z"
   },
   {
    "duration": 117,
    "start_time": "2022-09-05T12:29:19.202Z"
   },
   {
    "duration": 5,
    "start_time": "2022-09-05T12:29:19.322Z"
   },
   {
    "duration": 51,
    "start_time": "2022-09-05T12:29:19.329Z"
   },
   {
    "duration": 99,
    "start_time": "2022-09-05T12:29:19.383Z"
   },
   {
    "duration": 0,
    "start_time": "2022-09-05T12:29:19.483Z"
   },
   {
    "duration": 0,
    "start_time": "2022-09-05T12:29:19.484Z"
   },
   {
    "duration": 0,
    "start_time": "2022-09-05T12:29:19.486Z"
   },
   {
    "duration": 0,
    "start_time": "2022-09-05T12:29:19.487Z"
   },
   {
    "duration": 0,
    "start_time": "2022-09-05T12:29:19.488Z"
   },
   {
    "duration": 8,
    "start_time": "2022-09-05T12:30:41.577Z"
   },
   {
    "duration": 1181,
    "start_time": "2022-09-05T12:31:41.835Z"
   },
   {
    "duration": 876,
    "start_time": "2022-09-05T12:31:43.018Z"
   },
   {
    "duration": 5,
    "start_time": "2022-09-05T12:31:43.896Z"
   },
   {
    "duration": 723,
    "start_time": "2022-09-05T12:31:43.903Z"
   },
   {
    "duration": 175,
    "start_time": "2022-09-05T12:31:44.629Z"
   },
   {
    "duration": 19,
    "start_time": "2022-09-05T12:31:44.805Z"
   },
   {
    "duration": 222,
    "start_time": "2022-09-05T12:31:44.825Z"
   },
   {
    "duration": 216,
    "start_time": "2022-09-05T12:31:45.049Z"
   },
   {
    "duration": 21,
    "start_time": "2022-09-05T12:31:45.266Z"
   },
   {
    "duration": 289,
    "start_time": "2022-09-05T12:31:45.290Z"
   },
   {
    "duration": 17,
    "start_time": "2022-09-05T12:31:45.581Z"
   },
   {
    "duration": 290,
    "start_time": "2022-09-05T12:31:45.600Z"
   },
   {
    "duration": 17,
    "start_time": "2022-09-05T12:31:45.892Z"
   },
   {
    "duration": 227,
    "start_time": "2022-09-05T12:31:45.912Z"
   },
   {
    "duration": 131,
    "start_time": "2022-09-05T12:31:46.141Z"
   },
   {
    "duration": 686,
    "start_time": "2022-09-05T12:31:46.274Z"
   },
   {
    "duration": 363,
    "start_time": "2022-09-05T12:31:46.962Z"
   },
   {
    "duration": 117,
    "start_time": "2022-09-05T12:31:47.328Z"
   },
   {
    "duration": 10,
    "start_time": "2022-09-05T12:31:47.447Z"
   },
   {
    "duration": 48,
    "start_time": "2022-09-05T12:31:47.459Z"
   },
   {
    "duration": 100,
    "start_time": "2022-09-05T12:31:47.509Z"
   },
   {
    "duration": 0,
    "start_time": "2022-09-05T12:31:47.611Z"
   },
   {
    "duration": 0,
    "start_time": "2022-09-05T12:31:47.613Z"
   },
   {
    "duration": 0,
    "start_time": "2022-09-05T12:31:47.614Z"
   },
   {
    "duration": 0,
    "start_time": "2022-09-05T12:31:47.615Z"
   },
   {
    "duration": 0,
    "start_time": "2022-09-05T12:31:47.617Z"
   },
   {
    "duration": 0,
    "start_time": "2022-09-05T12:31:47.618Z"
   },
   {
    "duration": 9,
    "start_time": "2022-09-05T12:33:02.061Z"
   },
   {
    "duration": 9,
    "start_time": "2022-09-05T12:33:07.560Z"
   },
   {
    "duration": 9,
    "start_time": "2022-09-05T12:33:13.009Z"
   },
   {
    "duration": 5,
    "start_time": "2022-09-05T12:33:16.628Z"
   },
   {
    "duration": 3,
    "start_time": "2022-09-05T12:33:19.751Z"
   },
   {
    "duration": 587688,
    "start_time": "2022-09-05T12:33:22.786Z"
   },
   {
    "duration": 6,
    "start_time": "2022-09-05T14:05:57.422Z"
   },
   {
    "duration": 39,
    "start_time": "2022-09-05T14:05:58.774Z"
   },
   {
    "duration": 9,
    "start_time": "2022-09-05T14:05:59.473Z"
   },
   {
    "duration": 40,
    "start_time": "2022-09-05T14:09:38.305Z"
   },
   {
    "duration": 5,
    "start_time": "2022-09-05T14:09:40.090Z"
   },
   {
    "duration": 1087,
    "start_time": "2022-09-05T14:09:47.792Z"
   },
   {
    "duration": 900,
    "start_time": "2022-09-05T14:09:48.881Z"
   },
   {
    "duration": 4,
    "start_time": "2022-09-05T14:09:49.783Z"
   },
   {
    "duration": 733,
    "start_time": "2022-09-05T14:09:49.788Z"
   },
   {
    "duration": 182,
    "start_time": "2022-09-05T14:09:50.523Z"
   },
   {
    "duration": 19,
    "start_time": "2022-09-05T14:09:50.707Z"
   },
   {
    "duration": 230,
    "start_time": "2022-09-05T14:09:50.727Z"
   },
   {
    "duration": 211,
    "start_time": "2022-09-05T14:09:50.959Z"
   },
   {
    "duration": 18,
    "start_time": "2022-09-05T14:09:51.172Z"
   },
   {
    "duration": 247,
    "start_time": "2022-09-05T14:09:51.192Z"
   },
   {
    "duration": 21,
    "start_time": "2022-09-05T14:09:51.441Z"
   },
   {
    "duration": 261,
    "start_time": "2022-09-05T14:09:51.464Z"
   },
   {
    "duration": 16,
    "start_time": "2022-09-05T14:09:51.727Z"
   },
   {
    "duration": 213,
    "start_time": "2022-09-05T14:09:51.745Z"
   },
   {
    "duration": 131,
    "start_time": "2022-09-05T14:09:51.960Z"
   },
   {
    "duration": 659,
    "start_time": "2022-09-05T14:09:52.093Z"
   },
   {
    "duration": 361,
    "start_time": "2022-09-05T14:09:52.757Z"
   },
   {
    "duration": 16,
    "start_time": "2022-09-05T14:09:53.120Z"
   },
   {
    "duration": 128,
    "start_time": "2022-09-05T14:09:53.157Z"
   },
   {
    "duration": 4,
    "start_time": "2022-09-05T14:09:53.287Z"
   },
   {
    "duration": 40,
    "start_time": "2022-09-05T14:09:53.293Z"
   },
   {
    "duration": 191,
    "start_time": "2022-09-05T14:09:53.335Z"
   },
   {
    "duration": 4,
    "start_time": "2022-09-05T14:09:53.528Z"
   },
   {
    "duration": 5,
    "start_time": "2022-09-05T14:09:53.534Z"
   },
   {
    "duration": 106,
    "start_time": "2022-09-05T14:09:53.541Z"
   },
   {
    "duration": 0,
    "start_time": "2022-09-05T14:09:53.648Z"
   },
   {
    "duration": 3,
    "start_time": "2022-09-05T14:13:58.172Z"
   },
   {
    "duration": 95,
    "start_time": "2022-09-05T14:14:18.586Z"
   },
   {
    "duration": 50,
    "start_time": "2022-09-05T14:14:44.602Z"
   },
   {
    "duration": 5,
    "start_time": "2022-09-05T14:15:00.681Z"
   },
   {
    "duration": 70,
    "start_time": "2022-09-05T14:15:50.622Z"
   },
   {
    "duration": 97,
    "start_time": "2022-09-05T14:24:08.256Z"
   },
   {
    "duration": 107,
    "start_time": "2022-09-05T14:24:34.002Z"
   },
   {
    "duration": 68,
    "start_time": "2022-09-05T14:26:33.166Z"
   },
   {
    "duration": 858,
    "start_time": "2022-09-05T14:27:53.603Z"
   },
   {
    "duration": 552,
    "start_time": "2022-09-05T14:27:55.144Z"
   },
   {
    "duration": 4,
    "start_time": "2022-09-05T14:27:55.779Z"
   },
   {
    "duration": 5,
    "start_time": "2022-09-05T14:27:56.846Z"
   },
   {
    "duration": 20,
    "start_time": "2022-09-05T14:27:58.215Z"
   },
   {
    "duration": 3,
    "start_time": "2022-09-05T14:28:00.399Z"
   },
   {
    "duration": 2314,
    "start_time": "2022-09-05T14:28:01.845Z"
   },
   {
    "duration": 10,
    "start_time": "2022-09-05T14:28:56.931Z"
   },
   {
    "duration": 147,
    "start_time": "2022-09-05T14:29:16.790Z"
   },
   {
    "duration": 490,
    "start_time": "2022-09-05T14:29:17.967Z"
   },
   {
    "duration": 4,
    "start_time": "2022-09-05T14:29:19.297Z"
   },
   {
    "duration": 6,
    "start_time": "2022-09-05T14:29:20.469Z"
   },
   {
    "duration": 3,
    "start_time": "2022-09-05T14:29:22.666Z"
   },
   {
    "duration": 10,
    "start_time": "2022-09-05T14:29:23.568Z"
   },
   {
    "duration": 17,
    "start_time": "2022-09-05T14:29:24.404Z"
   },
   {
    "duration": 1117,
    "start_time": "2022-09-05T14:29:29.851Z"
   },
   {
    "duration": 915,
    "start_time": "2022-09-05T14:29:30.970Z"
   },
   {
    "duration": 4,
    "start_time": "2022-09-05T14:29:31.886Z"
   },
   {
    "duration": 694,
    "start_time": "2022-09-05T14:29:31.891Z"
   },
   {
    "duration": 167,
    "start_time": "2022-09-05T14:29:32.587Z"
   },
   {
    "duration": 18,
    "start_time": "2022-09-05T14:29:32.758Z"
   },
   {
    "duration": 209,
    "start_time": "2022-09-05T14:29:32.777Z"
   },
   {
    "duration": 211,
    "start_time": "2022-09-05T14:29:32.988Z"
   },
   {
    "duration": 20,
    "start_time": "2022-09-05T14:29:33.201Z"
   },
   {
    "duration": 263,
    "start_time": "2022-09-05T14:29:33.223Z"
   },
   {
    "duration": 18,
    "start_time": "2022-09-05T14:29:33.489Z"
   },
   {
    "duration": 284,
    "start_time": "2022-09-05T14:29:33.509Z"
   },
   {
    "duration": 16,
    "start_time": "2022-09-05T14:29:33.795Z"
   },
   {
    "duration": 220,
    "start_time": "2022-09-05T14:29:33.814Z"
   },
   {
    "duration": 117,
    "start_time": "2022-09-05T14:29:34.036Z"
   },
   {
    "duration": 687,
    "start_time": "2022-09-05T14:29:34.157Z"
   },
   {
    "duration": 400,
    "start_time": "2022-09-05T14:29:34.846Z"
   },
   {
    "duration": 24,
    "start_time": "2022-09-05T14:29:35.256Z"
   },
   {
    "duration": 143,
    "start_time": "2022-09-05T14:29:35.282Z"
   },
   {
    "duration": 4,
    "start_time": "2022-09-05T14:29:35.427Z"
   },
   {
    "duration": 40,
    "start_time": "2022-09-05T14:29:35.432Z"
   },
   {
    "duration": 3,
    "start_time": "2022-09-05T14:29:35.474Z"
   },
   {
    "duration": 202,
    "start_time": "2022-09-05T14:29:35.479Z"
   },
   {
    "duration": 30,
    "start_time": "2022-09-05T14:29:35.683Z"
   },
   {
    "duration": 166,
    "start_time": "2022-09-05T14:29:35.715Z"
   },
   {
    "duration": 11,
    "start_time": "2022-09-05T14:29:35.883Z"
   },
   {
    "duration": 0,
    "start_time": "2022-09-05T14:29:35.895Z"
   },
   {
    "duration": 0,
    "start_time": "2022-09-05T14:29:35.896Z"
   },
   {
    "duration": 1197,
    "start_time": "2022-09-05T14:30:04.470Z"
   },
   {
    "duration": 889,
    "start_time": "2022-09-05T14:30:05.670Z"
   },
   {
    "duration": 5,
    "start_time": "2022-09-05T14:30:06.561Z"
   },
   {
    "duration": 706,
    "start_time": "2022-09-05T14:30:06.567Z"
   },
   {
    "duration": 171,
    "start_time": "2022-09-05T14:30:07.275Z"
   },
   {
    "duration": 24,
    "start_time": "2022-09-05T14:30:07.448Z"
   },
   {
    "duration": 225,
    "start_time": "2022-09-05T14:30:07.473Z"
   },
   {
    "duration": 205,
    "start_time": "2022-09-05T14:30:07.700Z"
   },
   {
    "duration": 17,
    "start_time": "2022-09-05T14:30:07.906Z"
   },
   {
    "duration": 242,
    "start_time": "2022-09-05T14:30:07.925Z"
   },
   {
    "duration": 17,
    "start_time": "2022-09-05T14:30:08.168Z"
   },
   {
    "duration": 264,
    "start_time": "2022-09-05T14:30:08.187Z"
   },
   {
    "duration": 17,
    "start_time": "2022-09-05T14:30:08.457Z"
   },
   {
    "duration": 210,
    "start_time": "2022-09-05T14:30:08.477Z"
   },
   {
    "duration": 116,
    "start_time": "2022-09-05T14:30:08.689Z"
   },
   {
    "duration": 663,
    "start_time": "2022-09-05T14:30:08.807Z"
   },
   {
    "duration": 340,
    "start_time": "2022-09-05T14:30:09.472Z"
   },
   {
    "duration": 24,
    "start_time": "2022-09-05T14:30:09.814Z"
   },
   {
    "duration": 198,
    "start_time": "2022-09-05T14:30:09.839Z"
   },
   {
    "duration": 6,
    "start_time": "2022-09-05T14:30:10.038Z"
   },
   {
    "duration": 72,
    "start_time": "2022-09-05T14:30:10.046Z"
   },
   {
    "duration": 4,
    "start_time": "2022-09-05T14:30:10.120Z"
   },
   {
    "duration": 8,
    "start_time": "2022-09-05T14:30:10.125Z"
   },
   {
    "duration": 32,
    "start_time": "2022-09-05T14:30:10.134Z"
   },
   {
    "duration": 46393,
    "start_time": "2022-09-05T14:30:10.168Z"
   },
   {
    "duration": 110,
    "start_time": "2022-09-05T14:30:56.563Z"
   },
   {
    "duration": 0,
    "start_time": "2022-09-05T14:30:56.675Z"
   },
   {
    "duration": 0,
    "start_time": "2022-09-05T14:30:56.676Z"
   },
   {
    "duration": 1587,
    "start_time": "2022-09-05T14:34:48.975Z"
   },
   {
    "duration": 16623,
    "start_time": "2022-09-05T14:36:17.440Z"
   },
   {
    "duration": 13491,
    "start_time": "2022-09-05T14:37:03.780Z"
   },
   {
    "duration": 1714,
    "start_time": "2022-09-05T15:06:58.343Z"
   },
   {
    "duration": 1666,
    "start_time": "2022-09-05T15:07:53.196Z"
   },
   {
    "duration": 1141,
    "start_time": "2022-09-05T15:08:01.817Z"
   },
   {
    "duration": 871,
    "start_time": "2022-09-05T15:08:02.960Z"
   },
   {
    "duration": 4,
    "start_time": "2022-09-05T15:08:03.833Z"
   },
   {
    "duration": 703,
    "start_time": "2022-09-05T15:08:03.838Z"
   },
   {
    "duration": 178,
    "start_time": "2022-09-05T15:08:04.543Z"
   },
   {
    "duration": 19,
    "start_time": "2022-09-05T15:08:04.722Z"
   },
   {
    "duration": 240,
    "start_time": "2022-09-05T15:08:04.743Z"
   },
   {
    "duration": 242,
    "start_time": "2022-09-05T15:08:04.986Z"
   },
   {
    "duration": 29,
    "start_time": "2022-09-05T15:08:05.231Z"
   },
   {
    "duration": 262,
    "start_time": "2022-09-05T15:08:05.263Z"
   },
   {
    "duration": 18,
    "start_time": "2022-09-05T15:08:05.527Z"
   },
   {
    "duration": 303,
    "start_time": "2022-09-05T15:08:05.557Z"
   },
   {
    "duration": 17,
    "start_time": "2022-09-05T15:08:05.862Z"
   },
   {
    "duration": 227,
    "start_time": "2022-09-05T15:08:05.882Z"
   },
   {
    "duration": 126,
    "start_time": "2022-09-05T15:08:06.111Z"
   },
   {
    "duration": 681,
    "start_time": "2022-09-05T15:08:06.239Z"
   },
   {
    "duration": 348,
    "start_time": "2022-09-05T15:08:06.922Z"
   },
   {
    "duration": 24,
    "start_time": "2022-09-05T15:08:07.272Z"
   },
   {
    "duration": 195,
    "start_time": "2022-09-05T15:08:07.298Z"
   },
   {
    "duration": 7,
    "start_time": "2022-09-05T15:08:07.495Z"
   },
   {
    "duration": 75,
    "start_time": "2022-09-05T15:08:07.504Z"
   },
   {
    "duration": 4,
    "start_time": "2022-09-05T15:08:07.581Z"
   },
   {
    "duration": 43,
    "start_time": "2022-09-05T15:08:07.587Z"
   },
   {
    "duration": 37,
    "start_time": "2022-09-05T15:08:07.632Z"
   },
   {
    "duration": 15196,
    "start_time": "2022-09-05T15:08:07.671Z"
   },
   {
    "duration": 1589,
    "start_time": "2022-09-05T15:08:22.869Z"
   },
   {
    "duration": 113,
    "start_time": "2022-09-05T15:08:24.460Z"
   },
   {
    "duration": 0,
    "start_time": "2022-09-05T15:08:24.574Z"
   },
   {
    "duration": 16248,
    "start_time": "2022-09-05T15:10:30.821Z"
   },
   {
    "duration": 59,
    "start_time": "2022-09-05T15:11:31.115Z"
   },
   {
    "duration": 54,
    "start_time": "2022-09-05T15:11:38.182Z"
   },
   {
    "duration": 15338,
    "start_time": "2022-09-05T15:11:45.932Z"
   },
   {
    "duration": 9,
    "start_time": "2022-09-05T18:38:29.856Z"
   },
   {
    "duration": 1223,
    "start_time": "2022-09-05T18:38:36.279Z"
   },
   {
    "duration": 0,
    "start_time": "2022-09-05T18:38:37.505Z"
   },
   {
    "duration": 0,
    "start_time": "2022-09-05T18:38:37.507Z"
   },
   {
    "duration": 0,
    "start_time": "2022-09-05T18:38:37.508Z"
   },
   {
    "duration": 0,
    "start_time": "2022-09-05T18:38:37.510Z"
   },
   {
    "duration": 0,
    "start_time": "2022-09-05T18:38:37.511Z"
   },
   {
    "duration": 0,
    "start_time": "2022-09-05T18:38:37.512Z"
   },
   {
    "duration": 0,
    "start_time": "2022-09-05T18:38:37.513Z"
   },
   {
    "duration": 0,
    "start_time": "2022-09-05T18:38:37.514Z"
   },
   {
    "duration": 0,
    "start_time": "2022-09-05T18:38:37.516Z"
   },
   {
    "duration": 0,
    "start_time": "2022-09-05T18:38:37.517Z"
   },
   {
    "duration": 0,
    "start_time": "2022-09-05T18:38:37.518Z"
   },
   {
    "duration": 0,
    "start_time": "2022-09-05T18:38:37.519Z"
   },
   {
    "duration": 0,
    "start_time": "2022-09-05T18:38:37.520Z"
   },
   {
    "duration": 0,
    "start_time": "2022-09-05T18:38:37.521Z"
   },
   {
    "duration": 0,
    "start_time": "2022-09-05T18:38:37.522Z"
   },
   {
    "duration": 0,
    "start_time": "2022-09-05T18:38:37.523Z"
   },
   {
    "duration": 0,
    "start_time": "2022-09-05T18:38:37.524Z"
   },
   {
    "duration": 0,
    "start_time": "2022-09-05T18:38:37.525Z"
   },
   {
    "duration": 0,
    "start_time": "2022-09-05T18:38:37.557Z"
   },
   {
    "duration": 0,
    "start_time": "2022-09-05T18:38:37.558Z"
   },
   {
    "duration": 0,
    "start_time": "2022-09-05T18:38:37.559Z"
   },
   {
    "duration": 0,
    "start_time": "2022-09-05T18:38:37.560Z"
   },
   {
    "duration": 0,
    "start_time": "2022-09-05T18:38:37.562Z"
   },
   {
    "duration": 0,
    "start_time": "2022-09-05T18:38:37.563Z"
   },
   {
    "duration": 0,
    "start_time": "2022-09-05T18:38:37.564Z"
   },
   {
    "duration": 0,
    "start_time": "2022-09-05T18:38:37.564Z"
   },
   {
    "duration": 935,
    "start_time": "2022-09-05T18:43:09.306Z"
   },
   {
    "duration": 0,
    "start_time": "2022-09-05T18:43:10.243Z"
   },
   {
    "duration": 0,
    "start_time": "2022-09-05T18:43:10.251Z"
   },
   {
    "duration": 0,
    "start_time": "2022-09-05T18:43:10.256Z"
   },
   {
    "duration": 0,
    "start_time": "2022-09-05T18:43:10.258Z"
   },
   {
    "duration": 0,
    "start_time": "2022-09-05T18:43:10.259Z"
   },
   {
    "duration": 0,
    "start_time": "2022-09-05T18:43:10.260Z"
   },
   {
    "duration": 0,
    "start_time": "2022-09-05T18:43:10.263Z"
   },
   {
    "duration": 0,
    "start_time": "2022-09-05T18:43:10.264Z"
   },
   {
    "duration": 0,
    "start_time": "2022-09-05T18:43:10.264Z"
   },
   {
    "duration": 0,
    "start_time": "2022-09-05T18:43:10.266Z"
   },
   {
    "duration": 0,
    "start_time": "2022-09-05T18:43:10.267Z"
   },
   {
    "duration": 0,
    "start_time": "2022-09-05T18:43:10.268Z"
   },
   {
    "duration": 0,
    "start_time": "2022-09-05T18:43:10.271Z"
   },
   {
    "duration": 0,
    "start_time": "2022-09-05T18:43:10.272Z"
   },
   {
    "duration": 0,
    "start_time": "2022-09-05T18:43:10.273Z"
   },
   {
    "duration": 0,
    "start_time": "2022-09-05T18:43:10.274Z"
   },
   {
    "duration": 0,
    "start_time": "2022-09-05T18:43:10.275Z"
   },
   {
    "duration": 0,
    "start_time": "2022-09-05T18:43:10.276Z"
   },
   {
    "duration": 0,
    "start_time": "2022-09-05T18:43:10.277Z"
   },
   {
    "duration": 0,
    "start_time": "2022-09-05T18:43:10.278Z"
   },
   {
    "duration": 0,
    "start_time": "2022-09-05T18:43:10.280Z"
   },
   {
    "duration": 0,
    "start_time": "2022-09-05T18:43:10.281Z"
   },
   {
    "duration": 0,
    "start_time": "2022-09-05T18:43:10.282Z"
   },
   {
    "duration": 0,
    "start_time": "2022-09-05T18:43:10.283Z"
   },
   {
    "duration": 0,
    "start_time": "2022-09-05T18:43:10.284Z"
   },
   {
    "duration": 0,
    "start_time": "2022-09-05T18:43:10.286Z"
   },
   {
    "duration": 1135,
    "start_time": "2022-09-05T18:52:41.776Z"
   },
   {
    "duration": 796,
    "start_time": "2022-09-05T18:52:42.913Z"
   },
   {
    "duration": 3,
    "start_time": "2022-09-05T18:52:43.711Z"
   },
   {
    "duration": 665,
    "start_time": "2022-09-05T18:52:43.716Z"
   },
   {
    "duration": 165,
    "start_time": "2022-09-05T18:52:44.383Z"
   },
   {
    "duration": 19,
    "start_time": "2022-09-05T18:52:44.550Z"
   },
   {
    "duration": 222,
    "start_time": "2022-09-05T18:52:44.571Z"
   },
   {
    "duration": 188,
    "start_time": "2022-09-05T18:52:44.794Z"
   },
   {
    "duration": 16,
    "start_time": "2022-09-05T18:52:44.984Z"
   },
   {
    "duration": 228,
    "start_time": "2022-09-05T18:52:45.002Z"
   },
   {
    "duration": 16,
    "start_time": "2022-09-05T18:52:45.232Z"
   },
   {
    "duration": 302,
    "start_time": "2022-09-05T18:52:45.257Z"
   },
   {
    "duration": 19,
    "start_time": "2022-09-05T18:52:45.561Z"
   },
   {
    "duration": 226,
    "start_time": "2022-09-05T18:52:45.581Z"
   },
   {
    "duration": 110,
    "start_time": "2022-09-05T18:52:45.809Z"
   },
   {
    "duration": 628,
    "start_time": "2022-09-05T18:52:45.921Z"
   },
   {
    "duration": 346,
    "start_time": "2022-09-05T18:52:46.551Z"
   },
   {
    "duration": 22,
    "start_time": "2022-09-05T18:52:46.899Z"
   },
   {
    "duration": 191,
    "start_time": "2022-09-05T18:52:46.923Z"
   },
   {
    "duration": 6,
    "start_time": "2022-09-05T18:52:47.115Z"
   },
   {
    "duration": 56,
    "start_time": "2022-09-05T18:52:47.123Z"
   },
   {
    "duration": 4,
    "start_time": "2022-09-05T18:52:47.180Z"
   },
   {
    "duration": 13,
    "start_time": "2022-09-05T18:52:47.185Z"
   },
   {
    "duration": 28,
    "start_time": "2022-09-05T18:52:47.199Z"
   },
   {
    "duration": 15440,
    "start_time": "2022-09-05T18:52:47.230Z"
   },
   {
    "duration": 1601,
    "start_time": "2022-09-05T18:53:02.671Z"
   },
   {
    "duration": 124,
    "start_time": "2022-09-05T18:53:04.274Z"
   },
   {
    "duration": 56,
    "start_time": "2022-09-05T18:53:40.119Z"
   },
   {
    "duration": 4,
    "start_time": "2022-09-06T05:50:45.334Z"
   },
   {
    "duration": 67,
    "start_time": "2022-09-06T05:51:05.828Z"
   },
   {
    "duration": 1383,
    "start_time": "2022-09-06T05:51:10.633Z"
   },
   {
    "duration": 1002,
    "start_time": "2022-09-06T05:51:12.018Z"
   },
   {
    "duration": 5,
    "start_time": "2022-09-06T05:51:13.022Z"
   },
   {
    "duration": 918,
    "start_time": "2022-09-06T05:51:13.029Z"
   },
   {
    "duration": 222,
    "start_time": "2022-09-06T05:51:13.958Z"
   },
   {
    "duration": 24,
    "start_time": "2022-09-06T05:51:14.182Z"
   },
   {
    "duration": 276,
    "start_time": "2022-09-06T05:51:14.208Z"
   },
   {
    "duration": 283,
    "start_time": "2022-09-06T05:51:14.489Z"
   },
   {
    "duration": 19,
    "start_time": "2022-09-06T05:51:14.773Z"
   },
   {
    "duration": 239,
    "start_time": "2022-09-06T05:51:14.794Z"
   },
   {
    "duration": 27,
    "start_time": "2022-09-06T05:51:15.035Z"
   },
   {
    "duration": 483,
    "start_time": "2022-09-06T05:51:15.065Z"
   },
   {
    "duration": 46,
    "start_time": "2022-09-06T05:51:15.551Z"
   },
   {
    "duration": 348,
    "start_time": "2022-09-06T05:51:15.601Z"
   },
   {
    "duration": 127,
    "start_time": "2022-09-06T05:51:15.951Z"
   },
   {
    "duration": 933,
    "start_time": "2022-09-06T05:51:16.080Z"
   },
   {
    "duration": 545,
    "start_time": "2022-09-06T05:51:17.016Z"
   },
   {
    "duration": 26,
    "start_time": "2022-09-06T05:51:17.563Z"
   },
   {
    "duration": 314,
    "start_time": "2022-09-06T05:51:17.592Z"
   },
   {
    "duration": 7,
    "start_time": "2022-09-06T05:51:17.909Z"
   },
   {
    "duration": 110,
    "start_time": "2022-09-06T05:51:17.918Z"
   },
   {
    "duration": 6,
    "start_time": "2022-09-06T05:51:18.030Z"
   },
   {
    "duration": 18,
    "start_time": "2022-09-06T05:51:18.038Z"
   },
   {
    "duration": 39,
    "start_time": "2022-09-06T05:51:18.061Z"
   },
   {
    "duration": 1217,
    "start_time": "2022-09-06T05:55:11.239Z"
   },
   {
    "duration": 907,
    "start_time": "2022-09-06T05:55:12.458Z"
   },
   {
    "duration": 5,
    "start_time": "2022-09-06T05:55:13.366Z"
   },
   {
    "duration": 740,
    "start_time": "2022-09-06T05:55:13.373Z"
   },
   {
    "duration": 189,
    "start_time": "2022-09-06T05:55:14.116Z"
   },
   {
    "duration": 21,
    "start_time": "2022-09-06T05:55:14.307Z"
   },
   {
    "duration": 401,
    "start_time": "2022-09-06T05:55:14.330Z"
   },
   {
    "duration": 278,
    "start_time": "2022-09-06T05:55:14.733Z"
   },
   {
    "duration": 27,
    "start_time": "2022-09-06T05:55:15.014Z"
   },
   {
    "duration": 355,
    "start_time": "2022-09-06T05:55:15.043Z"
   },
   {
    "duration": 28,
    "start_time": "2022-09-06T05:55:15.401Z"
   },
   {
    "duration": 408,
    "start_time": "2022-09-06T05:55:15.431Z"
   },
   {
    "duration": 29,
    "start_time": "2022-09-06T05:55:15.843Z"
   },
   {
    "duration": 230,
    "start_time": "2022-09-06T05:55:15.875Z"
   },
   {
    "duration": 121,
    "start_time": "2022-09-06T05:55:16.107Z"
   },
   {
    "duration": 760,
    "start_time": "2022-09-06T05:55:16.231Z"
   },
   {
    "duration": 420,
    "start_time": "2022-09-06T05:55:16.993Z"
   },
   {
    "duration": 24,
    "start_time": "2022-09-06T05:55:17.415Z"
   },
   {
    "duration": 298,
    "start_time": "2022-09-06T05:55:17.440Z"
   },
   {
    "duration": 7,
    "start_time": "2022-09-06T05:55:17.740Z"
   },
   {
    "duration": 76,
    "start_time": "2022-09-06T05:55:17.758Z"
   },
   {
    "duration": 4,
    "start_time": "2022-09-06T05:55:17.836Z"
   },
   {
    "duration": 30,
    "start_time": "2022-09-06T05:55:17.842Z"
   },
   {
    "duration": 69,
    "start_time": "2022-09-06T05:55:17.874Z"
   },
   {
    "duration": 1488,
    "start_time": "2022-09-06T05:56:42.139Z"
   },
   {
    "duration": 954,
    "start_time": "2022-09-06T05:56:43.630Z"
   },
   {
    "duration": 5,
    "start_time": "2022-09-06T05:56:44.585Z"
   },
   {
    "duration": 909,
    "start_time": "2022-09-06T05:56:44.592Z"
   },
   {
    "duration": 250,
    "start_time": "2022-09-06T05:56:45.503Z"
   },
   {
    "duration": 27,
    "start_time": "2022-09-06T05:56:45.758Z"
   },
   {
    "duration": 274,
    "start_time": "2022-09-06T05:56:45.788Z"
   },
   {
    "duration": 334,
    "start_time": "2022-09-06T05:56:46.064Z"
   },
   {
    "duration": 22,
    "start_time": "2022-09-06T05:56:46.401Z"
   },
   {
    "duration": 264,
    "start_time": "2022-09-06T05:56:46.427Z"
   },
   {
    "duration": 30,
    "start_time": "2022-09-06T05:56:46.693Z"
   },
   {
    "duration": 388,
    "start_time": "2022-09-06T05:56:46.725Z"
   },
   {
    "duration": 17,
    "start_time": "2022-09-06T05:56:47.115Z"
   },
   {
    "duration": 397,
    "start_time": "2022-09-06T05:56:47.134Z"
   },
   {
    "duration": 162,
    "start_time": "2022-09-06T05:56:47.533Z"
   },
   {
    "duration": 827,
    "start_time": "2022-09-06T05:56:47.698Z"
   },
   {
    "duration": 552,
    "start_time": "2022-09-06T05:56:48.528Z"
   },
   {
    "duration": 26,
    "start_time": "2022-09-06T05:56:49.084Z"
   },
   {
    "duration": 282,
    "start_time": "2022-09-06T05:56:49.112Z"
   },
   {
    "duration": 7,
    "start_time": "2022-09-06T05:56:49.396Z"
   },
   {
    "duration": 69,
    "start_time": "2022-09-06T05:56:49.405Z"
   },
   {
    "duration": 5,
    "start_time": "2022-09-06T05:56:49.475Z"
   },
   {
    "duration": 12,
    "start_time": "2022-09-06T05:56:49.482Z"
   },
   {
    "duration": 43,
    "start_time": "2022-09-06T05:56:49.496Z"
   },
   {
    "duration": 25779,
    "start_time": "2022-09-06T05:56:49.541Z"
   },
   {
    "duration": 91,
    "start_time": "2022-09-06T05:57:15.322Z"
   },
   {
    "duration": 73,
    "start_time": "2022-09-06T05:57:15.415Z"
   },
   {
    "duration": 790,
    "start_time": "2022-09-06T06:01:55.634Z"
   },
   {
    "duration": 761,
    "start_time": "2022-09-06T06:02:09.244Z"
   },
   {
    "duration": 771,
    "start_time": "2022-09-06T06:05:46.143Z"
   },
   {
    "duration": 629,
    "start_time": "2022-09-06T06:05:49.539Z"
   },
   {
    "duration": 541,
    "start_time": "2022-09-06T06:05:55.694Z"
   },
   {
    "duration": 21891,
    "start_time": "2022-09-06T06:05:58.583Z"
   },
   {
    "duration": 1222,
    "start_time": "2022-09-06T06:06:48.854Z"
   },
   {
    "duration": 922,
    "start_time": "2022-09-06T06:06:50.078Z"
   },
   {
    "duration": 5,
    "start_time": "2022-09-06T06:06:51.002Z"
   },
   {
    "duration": 789,
    "start_time": "2022-09-06T06:06:51.009Z"
   },
   {
    "duration": 174,
    "start_time": "2022-09-06T06:06:51.800Z"
   },
   {
    "duration": 19,
    "start_time": "2022-09-06T06:06:51.976Z"
   },
   {
    "duration": 235,
    "start_time": "2022-09-06T06:06:51.996Z"
   },
   {
    "duration": 204,
    "start_time": "2022-09-06T06:06:52.232Z"
   },
   {
    "duration": 27,
    "start_time": "2022-09-06T06:06:52.437Z"
   },
   {
    "duration": 257,
    "start_time": "2022-09-06T06:06:52.468Z"
   },
   {
    "duration": 33,
    "start_time": "2022-09-06T06:06:52.727Z"
   },
   {
    "duration": 290,
    "start_time": "2022-09-06T06:06:52.762Z"
   },
   {
    "duration": 22,
    "start_time": "2022-09-06T06:06:53.054Z"
   },
   {
    "duration": 232,
    "start_time": "2022-09-06T06:06:53.078Z"
   },
   {
    "duration": 118,
    "start_time": "2022-09-06T06:06:53.312Z"
   },
   {
    "duration": 738,
    "start_time": "2022-09-06T06:06:53.432Z"
   },
   {
    "duration": 361,
    "start_time": "2022-09-06T06:06:54.171Z"
   },
   {
    "duration": 923,
    "start_time": "2022-09-06T06:06:54.534Z"
   },
   {
    "duration": 670,
    "start_time": "2022-09-06T06:06:55.459Z"
   },
   {
    "duration": 138903,
    "start_time": "2022-09-06T06:06:56.131Z"
   },
   {
    "duration": 0,
    "start_time": "2022-09-06T06:09:15.036Z"
   },
   {
    "duration": 0,
    "start_time": "2022-09-06T06:09:15.037Z"
   },
   {
    "duration": 0,
    "start_time": "2022-09-06T06:09:15.038Z"
   },
   {
    "duration": 0,
    "start_time": "2022-09-06T06:09:15.039Z"
   },
   {
    "duration": 0,
    "start_time": "2022-09-06T06:09:15.040Z"
   },
   {
    "duration": 0,
    "start_time": "2022-09-06T06:09:15.041Z"
   },
   {
    "duration": 0,
    "start_time": "2022-09-06T06:09:15.042Z"
   },
   {
    "duration": 0,
    "start_time": "2022-09-06T06:09:15.043Z"
   },
   {
    "duration": 0,
    "start_time": "2022-09-06T06:09:15.044Z"
   },
   {
    "duration": 1355,
    "start_time": "2022-09-06T06:09:27.242Z"
   },
   {
    "duration": 1014,
    "start_time": "2022-09-06T06:09:28.599Z"
   },
   {
    "duration": 5,
    "start_time": "2022-09-06T06:09:29.616Z"
   },
   {
    "duration": 833,
    "start_time": "2022-09-06T06:09:29.624Z"
   },
   {
    "duration": 180,
    "start_time": "2022-09-06T06:09:30.460Z"
   },
   {
    "duration": 25,
    "start_time": "2022-09-06T06:09:30.642Z"
   },
   {
    "duration": 250,
    "start_time": "2022-09-06T06:09:30.669Z"
   },
   {
    "duration": 211,
    "start_time": "2022-09-06T06:09:30.921Z"
   },
   {
    "duration": 28,
    "start_time": "2022-09-06T06:09:31.134Z"
   },
   {
    "duration": 266,
    "start_time": "2022-09-06T06:09:31.163Z"
   },
   {
    "duration": 32,
    "start_time": "2022-09-06T06:09:31.431Z"
   },
   {
    "duration": 282,
    "start_time": "2022-09-06T06:09:31.465Z"
   },
   {
    "duration": 18,
    "start_time": "2022-09-06T06:09:31.749Z"
   },
   {
    "duration": 214,
    "start_time": "2022-09-06T06:09:31.771Z"
   },
   {
    "duration": 120,
    "start_time": "2022-09-06T06:09:31.986Z"
   },
   {
    "duration": 737,
    "start_time": "2022-09-06T06:09:32.108Z"
   },
   {
    "duration": 428,
    "start_time": "2022-09-06T06:09:32.847Z"
   },
   {
    "duration": 975,
    "start_time": "2022-09-06T06:09:33.277Z"
   },
   {
    "duration": 649,
    "start_time": "2022-09-06T06:09:34.254Z"
   },
   {
    "duration": 23317,
    "start_time": "2022-09-06T06:09:34.905Z"
   },
   {
    "duration": 33,
    "start_time": "2022-09-06T06:09:58.225Z"
   },
   {
    "duration": 194,
    "start_time": "2022-09-06T06:09:58.260Z"
   },
   {
    "duration": 6,
    "start_time": "2022-09-06T06:09:58.458Z"
   },
   {
    "duration": 66,
    "start_time": "2022-09-06T06:09:58.466Z"
   },
   {
    "duration": 4,
    "start_time": "2022-09-06T06:09:58.534Z"
   },
   {
    "duration": 23,
    "start_time": "2022-09-06T06:09:58.539Z"
   },
   {
    "duration": 33,
    "start_time": "2022-09-06T06:09:58.564Z"
   },
   {
    "duration": 1205,
    "start_time": "2022-09-06T06:13:28.834Z"
   },
   {
    "duration": 962,
    "start_time": "2022-09-06T06:13:30.042Z"
   },
   {
    "duration": 5,
    "start_time": "2022-09-06T06:13:31.007Z"
   },
   {
    "duration": 818,
    "start_time": "2022-09-06T06:13:31.014Z"
   },
   {
    "duration": 173,
    "start_time": "2022-09-06T06:13:31.834Z"
   },
   {
    "duration": 22,
    "start_time": "2022-09-06T06:13:32.009Z"
   },
   {
    "duration": 258,
    "start_time": "2022-09-06T06:13:32.033Z"
   },
   {
    "duration": 227,
    "start_time": "2022-09-06T06:13:32.293Z"
   },
   {
    "duration": 18,
    "start_time": "2022-09-06T06:13:32.522Z"
   },
   {
    "duration": 261,
    "start_time": "2022-09-06T06:13:32.541Z"
   },
   {
    "duration": 19,
    "start_time": "2022-09-06T06:13:32.803Z"
   },
   {
    "duration": 319,
    "start_time": "2022-09-06T06:13:32.824Z"
   },
   {
    "duration": 17,
    "start_time": "2022-09-06T06:13:33.145Z"
   },
   {
    "duration": 222,
    "start_time": "2022-09-06T06:13:33.165Z"
   },
   {
    "duration": 128,
    "start_time": "2022-09-06T06:13:33.389Z"
   },
   {
    "duration": 791,
    "start_time": "2022-09-06T06:13:33.519Z"
   },
   {
    "duration": 386,
    "start_time": "2022-09-06T06:13:34.312Z"
   },
   {
    "duration": 1092,
    "start_time": "2022-09-06T06:13:34.700Z"
   },
   {
    "duration": 655,
    "start_time": "2022-09-06T06:13:35.795Z"
   },
   {
    "duration": 24449,
    "start_time": "2022-09-06T06:13:36.452Z"
   },
   {
    "duration": 22,
    "start_time": "2022-09-06T06:14:00.904Z"
   },
   {
    "duration": 284,
    "start_time": "2022-09-06T06:14:00.928Z"
   },
   {
    "duration": 7,
    "start_time": "2022-09-06T06:14:01.214Z"
   },
   {
    "duration": 132,
    "start_time": "2022-09-06T06:14:01.222Z"
   },
   {
    "duration": 13,
    "start_time": "2022-09-06T06:14:01.356Z"
   },
   {
    "duration": 75,
    "start_time": "2022-09-06T06:14:01.371Z"
   },
   {
    "duration": 57,
    "start_time": "2022-09-06T06:14:01.449Z"
   },
   {
    "duration": 1735,
    "start_time": "2022-09-06T06:14:07.849Z"
   },
   {
    "duration": 1149,
    "start_time": "2022-09-06T06:14:09.590Z"
   },
   {
    "duration": 6,
    "start_time": "2022-09-06T06:14:10.742Z"
   },
   {
    "duration": 1012,
    "start_time": "2022-09-06T06:14:10.757Z"
   },
   {
    "duration": 330,
    "start_time": "2022-09-06T06:14:11.772Z"
   },
   {
    "duration": 21,
    "start_time": "2022-09-06T06:14:12.104Z"
   },
   {
    "duration": 365,
    "start_time": "2022-09-06T06:14:12.128Z"
   },
   {
    "duration": 305,
    "start_time": "2022-09-06T06:14:12.495Z"
   },
   {
    "duration": 26,
    "start_time": "2022-09-06T06:14:12.802Z"
   },
   {
    "duration": 278,
    "start_time": "2022-09-06T06:14:12.831Z"
   },
   {
    "duration": 26,
    "start_time": "2022-09-06T06:14:13.111Z"
   },
   {
    "duration": 476,
    "start_time": "2022-09-06T06:14:13.138Z"
   },
   {
    "duration": 27,
    "start_time": "2022-09-06T06:14:13.616Z"
   },
   {
    "duration": 350,
    "start_time": "2022-09-06T06:14:13.657Z"
   },
   {
    "duration": 118,
    "start_time": "2022-09-06T06:14:14.009Z"
   },
   {
    "duration": 807,
    "start_time": "2022-09-06T06:14:14.131Z"
   },
   {
    "duration": 495,
    "start_time": "2022-09-06T06:14:14.940Z"
   },
   {
    "duration": 1270,
    "start_time": "2022-09-06T06:14:15.438Z"
   },
   {
    "duration": 731,
    "start_time": "2022-09-06T06:14:16.711Z"
   },
   {
    "duration": 24207,
    "start_time": "2022-09-06T06:14:17.444Z"
   },
   {
    "duration": 1764,
    "start_time": "2022-09-06T06:14:41.653Z"
   },
   {
    "duration": 23,
    "start_time": "2022-09-06T06:14:43.419Z"
   },
   {
    "duration": 239,
    "start_time": "2022-09-06T06:14:43.444Z"
   },
   {
    "duration": 7,
    "start_time": "2022-09-06T06:14:43.684Z"
   },
   {
    "duration": 72,
    "start_time": "2022-09-06T06:14:43.693Z"
   },
   {
    "duration": 5,
    "start_time": "2022-09-06T06:14:43.766Z"
   },
   {
    "duration": 7,
    "start_time": "2022-09-06T06:14:43.773Z"
   },
   {
    "duration": 36,
    "start_time": "2022-09-06T06:14:43.782Z"
   },
   {
    "duration": 347948,
    "start_time": "2022-09-06T06:14:43.821Z"
   },
   {
    "duration": 710,
    "start_time": "2022-09-06T06:20:31.771Z"
   },
   {
    "duration": 148,
    "start_time": "2022-09-06T06:20:32.484Z"
   },
   {
    "duration": 14,
    "start_time": "2022-09-06T06:21:24.550Z"
   },
   {
    "duration": 31,
    "start_time": "2022-09-06T06:22:08.131Z"
   },
   {
    "duration": 51,
    "start_time": "2022-09-06T06:22:40.777Z"
   },
   {
    "duration": 3,
    "start_time": "2022-09-06T06:22:43.648Z"
   },
   {
    "duration": 356783,
    "start_time": "2022-09-06T06:22:57.679Z"
   },
   {
    "duration": 1193,
    "start_time": "2022-09-07T11:46:23.850Z"
   },
   {
    "duration": 1091,
    "start_time": "2022-09-07T11:46:25.045Z"
   },
   {
    "duration": 3,
    "start_time": "2022-09-07T11:46:26.138Z"
   },
   {
    "duration": 663,
    "start_time": "2022-09-07T11:46:26.143Z"
   },
   {
    "duration": 188,
    "start_time": "2022-09-07T11:46:26.808Z"
   },
   {
    "duration": 20,
    "start_time": "2022-09-07T11:46:26.998Z"
   },
   {
    "duration": 230,
    "start_time": "2022-09-07T11:46:27.019Z"
   },
   {
    "duration": 213,
    "start_time": "2022-09-07T11:46:27.250Z"
   },
   {
    "duration": 18,
    "start_time": "2022-09-07T11:46:27.465Z"
   },
   {
    "duration": 240,
    "start_time": "2022-09-07T11:46:27.485Z"
   },
   {
    "duration": 17,
    "start_time": "2022-09-07T11:46:27.727Z"
   },
   {
    "duration": 277,
    "start_time": "2022-09-07T11:46:27.745Z"
   },
   {
    "duration": 17,
    "start_time": "2022-09-07T11:46:28.023Z"
   },
   {
    "duration": 211,
    "start_time": "2022-09-07T11:46:28.042Z"
   },
   {
    "duration": 146,
    "start_time": "2022-09-07T11:46:28.255Z"
   },
   {
    "duration": 504,
    "start_time": "2022-09-07T11:46:28.403Z"
   },
   {
    "duration": 258,
    "start_time": "2022-09-07T11:46:28.909Z"
   },
   {
    "duration": 447,
    "start_time": "2022-09-07T11:46:29.168Z"
   },
   {
    "duration": 303,
    "start_time": "2022-09-07T11:46:29.616Z"
   },
   {
    "duration": 9935,
    "start_time": "2022-09-07T11:46:29.921Z"
   },
   {
    "duration": 1119,
    "start_time": "2022-09-07T11:46:39.858Z"
   },
   {
    "duration": 179,
    "start_time": "2022-09-07T11:46:40.979Z"
   },
   {
    "duration": 28,
    "start_time": "2022-09-07T11:46:41.160Z"
   },
   {
    "duration": 8,
    "start_time": "2022-09-07T11:46:41.190Z"
   },
   {
    "duration": 1167,
    "start_time": "2022-09-07T11:46:45.765Z"
   },
   {
    "duration": 825,
    "start_time": "2022-09-07T11:46:46.936Z"
   },
   {
    "duration": 3,
    "start_time": "2022-09-07T11:46:47.762Z"
   },
   {
    "duration": 677,
    "start_time": "2022-09-07T11:46:47.766Z"
   },
   {
    "duration": 179,
    "start_time": "2022-09-07T11:46:48.445Z"
   },
   {
    "duration": 20,
    "start_time": "2022-09-07T11:46:48.626Z"
   },
   {
    "duration": 240,
    "start_time": "2022-09-07T11:46:48.647Z"
   },
   {
    "duration": 214,
    "start_time": "2022-09-07T11:46:48.888Z"
   },
   {
    "duration": 18,
    "start_time": "2022-09-07T11:46:49.103Z"
   },
   {
    "duration": 245,
    "start_time": "2022-09-07T11:46:49.123Z"
   },
   {
    "duration": 29,
    "start_time": "2022-09-07T11:46:49.369Z"
   },
   {
    "duration": 276,
    "start_time": "2022-09-07T11:46:49.400Z"
   },
   {
    "duration": 30,
    "start_time": "2022-09-07T11:46:49.677Z"
   },
   {
    "duration": 211,
    "start_time": "2022-09-07T11:46:49.709Z"
   },
   {
    "duration": 200,
    "start_time": "2022-09-07T11:46:49.922Z"
   },
   {
    "duration": 527,
    "start_time": "2022-09-07T11:46:50.123Z"
   },
   {
    "duration": 263,
    "start_time": "2022-09-07T11:46:50.652Z"
   },
   {
    "duration": 470,
    "start_time": "2022-09-07T11:46:50.916Z"
   },
   {
    "duration": 309,
    "start_time": "2022-09-07T11:46:51.388Z"
   },
   {
    "duration": 9920,
    "start_time": "2022-09-07T11:46:51.698Z"
   },
   {
    "duration": 1067,
    "start_time": "2022-09-07T11:47:01.619Z"
   },
   {
    "duration": 174,
    "start_time": "2022-09-07T11:47:02.688Z"
   },
   {
    "duration": 37,
    "start_time": "2022-09-07T11:47:02.863Z"
   },
   {
    "duration": 2,
    "start_time": "2022-09-07T11:47:02.902Z"
   },
   {
    "duration": 6793,
    "start_time": "2022-09-07T11:47:02.905Z"
   },
   {
    "duration": 2115,
    "start_time": "2022-09-07T11:47:09.700Z"
   },
   {
    "duration": 10053,
    "start_time": "2022-09-07T11:51:58.423Z"
   },
   {
    "duration": 100743,
    "start_time": "2022-09-07T11:54:11.379Z"
   },
   {
    "duration": 6134,
    "start_time": "2022-09-07T11:59:32.574Z"
   },
   {
    "duration": 100674,
    "start_time": "2022-09-07T12:00:18.041Z"
   },
   {
    "duration": 47,
    "start_time": "2022-09-07T13:55:30.516Z"
   },
   {
    "duration": 1454,
    "start_time": "2022-09-07T13:55:35.824Z"
   },
   {
    "duration": 1084,
    "start_time": "2022-09-07T13:55:37.281Z"
   },
   {
    "duration": 4,
    "start_time": "2022-09-07T13:55:38.367Z"
   },
   {
    "duration": 652,
    "start_time": "2022-09-07T13:55:38.372Z"
   },
   {
    "duration": 178,
    "start_time": "2022-09-07T13:55:39.027Z"
   },
   {
    "duration": 20,
    "start_time": "2022-09-07T13:55:39.210Z"
   },
   {
    "duration": 264,
    "start_time": "2022-09-07T13:55:39.232Z"
   },
   {
    "duration": 217,
    "start_time": "2022-09-07T13:55:39.498Z"
   },
   {
    "duration": 18,
    "start_time": "2022-09-07T13:55:39.717Z"
   },
   {
    "duration": 248,
    "start_time": "2022-09-07T13:55:39.736Z"
   },
   {
    "duration": 27,
    "start_time": "2022-09-07T13:55:39.986Z"
   },
   {
    "duration": 274,
    "start_time": "2022-09-07T13:55:40.014Z"
   },
   {
    "duration": 22,
    "start_time": "2022-09-07T13:55:40.289Z"
   },
   {
    "duration": 215,
    "start_time": "2022-09-07T13:55:40.314Z"
   },
   {
    "duration": 127,
    "start_time": "2022-09-07T13:55:40.531Z"
   },
   {
    "duration": 144,
    "start_time": "2022-09-07T13:55:40.660Z"
   },
   {
    "duration": 514,
    "start_time": "2022-09-07T13:55:40.806Z"
   },
   {
    "duration": 260,
    "start_time": "2022-09-07T13:55:41.321Z"
   },
   {
    "duration": 437,
    "start_time": "2022-09-07T13:55:41.583Z"
   },
   {
    "duration": 313,
    "start_time": "2022-09-07T13:55:42.022Z"
   },
   {
    "duration": 99986,
    "start_time": "2022-09-07T13:55:42.336Z"
   },
   {
    "duration": 8132,
    "start_time": "2022-09-07T13:57:22.323Z"
   },
   {
    "duration": 178,
    "start_time": "2022-09-07T13:57:30.457Z"
   },
   {
    "duration": 28,
    "start_time": "2022-09-07T13:57:30.636Z"
   },
   {
    "duration": 107,
    "start_time": "2022-09-07T13:57:30.666Z"
   },
   {
    "duration": 11244,
    "start_time": "2022-09-07T13:57:30.774Z"
   },
   {
    "duration": 2191,
    "start_time": "2022-09-07T13:57:42.021Z"
   },
   {
    "duration": 119,
    "start_time": "2022-09-07T13:57:59.276Z"
   },
   {
    "duration": 105,
    "start_time": "2022-09-07T13:58:38.758Z"
   },
   {
    "duration": 105,
    "start_time": "2022-09-07T13:59:06.535Z"
   },
   {
    "duration": 278,
    "start_time": "2022-09-07T14:12:33.141Z"
   },
   {
    "duration": 105,
    "start_time": "2022-09-07T14:12:42.811Z"
   },
   {
    "duration": 119,
    "start_time": "2022-09-07T14:12:56.464Z"
   },
   {
    "duration": 120,
    "start_time": "2022-09-07T14:14:26.021Z"
   },
   {
    "duration": 122,
    "start_time": "2022-09-07T14:14:37.265Z"
   },
   {
    "duration": 126,
    "start_time": "2022-09-07T18:06:27.577Z"
   },
   {
    "duration": 144,
    "start_time": "2022-09-07T18:06:41.069Z"
   },
   {
    "duration": 138,
    "start_time": "2022-09-07T18:06:57.345Z"
   },
   {
    "duration": 49,
    "start_time": "2022-09-07T18:15:19.717Z"
   },
   {
    "duration": 119,
    "start_time": "2022-09-07T18:15:30.596Z"
   },
   {
    "duration": 1391,
    "start_time": "2022-09-07T18:16:11.076Z"
   },
   {
    "duration": 849,
    "start_time": "2022-09-07T18:16:12.468Z"
   },
   {
    "duration": 4,
    "start_time": "2022-09-07T18:16:13.318Z"
   },
   {
    "duration": 639,
    "start_time": "2022-09-07T18:16:13.323Z"
   },
   {
    "duration": 181,
    "start_time": "2022-09-07T18:16:13.964Z"
   },
   {
    "duration": 21,
    "start_time": "2022-09-07T18:16:14.146Z"
   },
   {
    "duration": 238,
    "start_time": "2022-09-07T18:16:14.168Z"
   },
   {
    "duration": 209,
    "start_time": "2022-09-07T18:16:14.411Z"
   },
   {
    "duration": 18,
    "start_time": "2022-09-07T18:16:14.622Z"
   },
   {
    "duration": 242,
    "start_time": "2022-09-07T18:16:14.642Z"
   },
   {
    "duration": 26,
    "start_time": "2022-09-07T18:16:14.885Z"
   },
   {
    "duration": 252,
    "start_time": "2022-09-07T18:16:14.912Z"
   },
   {
    "duration": 16,
    "start_time": "2022-09-07T18:16:15.166Z"
   },
   {
    "duration": 217,
    "start_time": "2022-09-07T18:16:15.184Z"
   },
   {
    "duration": 137,
    "start_time": "2022-09-07T18:16:15.403Z"
   },
   {
    "duration": 0,
    "start_time": "2022-09-07T18:16:15.542Z"
   },
   {
    "duration": 0,
    "start_time": "2022-09-07T18:16:15.543Z"
   },
   {
    "duration": 0,
    "start_time": "2022-09-07T18:16:15.544Z"
   },
   {
    "duration": 0,
    "start_time": "2022-09-07T18:16:15.544Z"
   },
   {
    "duration": 0,
    "start_time": "2022-09-07T18:16:15.546Z"
   },
   {
    "duration": 0,
    "start_time": "2022-09-07T18:16:15.546Z"
   },
   {
    "duration": 0,
    "start_time": "2022-09-07T18:16:15.547Z"
   },
   {
    "duration": 0,
    "start_time": "2022-09-07T18:16:15.548Z"
   },
   {
    "duration": 0,
    "start_time": "2022-09-07T18:16:15.549Z"
   },
   {
    "duration": 0,
    "start_time": "2022-09-07T18:16:15.550Z"
   },
   {
    "duration": 0,
    "start_time": "2022-09-07T18:16:15.551Z"
   },
   {
    "duration": 0,
    "start_time": "2022-09-07T18:16:15.552Z"
   },
   {
    "duration": 145,
    "start_time": "2022-09-07T18:17:16.308Z"
   },
   {
    "duration": 121,
    "start_time": "2022-09-07T18:18:54.685Z"
   },
   {
    "duration": 50,
    "start_time": "2022-09-07T18:22:52.132Z"
   },
   {
    "duration": 470,
    "start_time": "2022-09-07T18:22:57.519Z"
   },
   {
    "duration": 140,
    "start_time": "2022-09-07T18:23:28.496Z"
   },
   {
    "duration": 100,
    "start_time": "2022-09-07T18:28:11.125Z"
   },
   {
    "duration": 93,
    "start_time": "2022-09-07T18:30:14.809Z"
   },
   {
    "duration": 1794,
    "start_time": "2022-09-07T18:30:49.261Z"
   },
   {
    "duration": 804,
    "start_time": "2022-09-07T18:30:51.057Z"
   },
   {
    "duration": 5,
    "start_time": "2022-09-07T18:30:51.862Z"
   },
   {
    "duration": 664,
    "start_time": "2022-09-07T18:30:51.869Z"
   },
   {
    "duration": 232,
    "start_time": "2022-09-07T18:30:52.535Z"
   },
   {
    "duration": 23,
    "start_time": "2022-09-07T18:30:52.769Z"
   },
   {
    "duration": 233,
    "start_time": "2022-09-07T18:30:52.793Z"
   },
   {
    "duration": 210,
    "start_time": "2022-09-07T18:30:53.028Z"
   },
   {
    "duration": 17,
    "start_time": "2022-09-07T18:30:53.240Z"
   },
   {
    "duration": 249,
    "start_time": "2022-09-07T18:30:53.259Z"
   },
   {
    "duration": 16,
    "start_time": "2022-09-07T18:30:53.511Z"
   },
   {
    "duration": 266,
    "start_time": "2022-09-07T18:30:53.529Z"
   },
   {
    "duration": 19,
    "start_time": "2022-09-07T18:30:53.797Z"
   },
   {
    "duration": 215,
    "start_time": "2022-09-07T18:30:53.819Z"
   },
   {
    "duration": 124,
    "start_time": "2022-09-07T18:30:54.035Z"
   },
   {
    "duration": 153,
    "start_time": "2022-09-07T18:30:54.160Z"
   },
   {
    "duration": 133,
    "start_time": "2022-09-07T18:30:54.314Z"
   },
   {
    "duration": 483,
    "start_time": "2022-09-07T18:30:54.448Z"
   },
   {
    "duration": 236,
    "start_time": "2022-09-07T18:30:54.932Z"
   },
   {
    "duration": 421,
    "start_time": "2022-09-07T18:30:55.170Z"
   },
   {
    "duration": 309,
    "start_time": "2022-09-07T18:30:55.593Z"
   },
   {
    "duration": 1318,
    "start_time": "2022-09-07T18:31:38.520Z"
   },
   {
    "duration": 821,
    "start_time": "2022-09-07T18:31:39.840Z"
   },
   {
    "duration": 4,
    "start_time": "2022-09-07T18:31:40.663Z"
   },
   {
    "duration": 653,
    "start_time": "2022-09-07T18:31:40.669Z"
   },
   {
    "duration": 179,
    "start_time": "2022-09-07T18:31:41.324Z"
   },
   {
    "duration": 19,
    "start_time": "2022-09-07T18:31:41.505Z"
   },
   {
    "duration": 225,
    "start_time": "2022-09-07T18:31:41.526Z"
   },
   {
    "duration": 214,
    "start_time": "2022-09-07T18:31:41.752Z"
   },
   {
    "duration": 17,
    "start_time": "2022-09-07T18:31:41.967Z"
   },
   {
    "duration": 238,
    "start_time": "2022-09-07T18:31:41.986Z"
   },
   {
    "duration": 17,
    "start_time": "2022-09-07T18:31:42.226Z"
   },
   {
    "duration": 312,
    "start_time": "2022-09-07T18:31:42.244Z"
   },
   {
    "duration": 18,
    "start_time": "2022-09-07T18:31:42.560Z"
   },
   {
    "duration": 260,
    "start_time": "2022-09-07T18:31:42.581Z"
   },
   {
    "duration": 170,
    "start_time": "2022-09-07T18:31:42.842Z"
   },
   {
    "duration": 156,
    "start_time": "2022-09-07T18:31:43.014Z"
   },
   {
    "duration": 134,
    "start_time": "2022-09-07T18:31:43.172Z"
   },
   {
    "duration": 491,
    "start_time": "2022-09-07T18:31:43.307Z"
   },
   {
    "duration": 236,
    "start_time": "2022-09-07T18:31:43.800Z"
   },
   {
    "duration": 386,
    "start_time": "2022-09-07T18:31:44.037Z"
   },
   {
    "duration": 302,
    "start_time": "2022-09-07T18:31:44.424Z"
   },
   {
    "duration": 1295,
    "start_time": "2022-09-07T18:32:01.234Z"
   },
   {
    "duration": 904,
    "start_time": "2022-09-07T18:32:02.531Z"
   },
   {
    "duration": 4,
    "start_time": "2022-09-07T18:32:03.437Z"
   },
   {
    "duration": 693,
    "start_time": "2022-09-07T18:32:03.443Z"
   },
   {
    "duration": 174,
    "start_time": "2022-09-07T18:32:04.137Z"
   },
   {
    "duration": 20,
    "start_time": "2022-09-07T18:32:04.312Z"
   },
   {
    "duration": 243,
    "start_time": "2022-09-07T18:32:04.333Z"
   },
   {
    "duration": 209,
    "start_time": "2022-09-07T18:32:04.577Z"
   },
   {
    "duration": 18,
    "start_time": "2022-09-07T18:32:04.788Z"
   },
   {
    "duration": 277,
    "start_time": "2022-09-07T18:32:04.808Z"
   },
   {
    "duration": 24,
    "start_time": "2022-09-07T18:32:05.087Z"
   },
   {
    "duration": 259,
    "start_time": "2022-09-07T18:32:05.113Z"
   },
   {
    "duration": 16,
    "start_time": "2022-09-07T18:32:05.374Z"
   },
   {
    "duration": 218,
    "start_time": "2022-09-07T18:32:05.392Z"
   },
   {
    "duration": 178,
    "start_time": "2022-09-07T18:32:05.612Z"
   },
   {
    "duration": 168,
    "start_time": "2022-09-07T18:32:05.791Z"
   },
   {
    "duration": 142,
    "start_time": "2022-09-07T18:32:05.961Z"
   },
   {
    "duration": 515,
    "start_time": "2022-09-07T18:32:06.105Z"
   },
   {
    "duration": 245,
    "start_time": "2022-09-07T18:32:06.622Z"
   },
   {
    "duration": 414,
    "start_time": "2022-09-07T18:32:06.868Z"
   },
   {
    "duration": 312,
    "start_time": "2022-09-07T18:32:07.283Z"
   },
   {
    "duration": 94509,
    "start_time": "2022-09-07T18:32:07.597Z"
   },
   {
    "duration": 7844,
    "start_time": "2022-09-07T18:33:42.107Z"
   },
   {
    "duration": 176,
    "start_time": "2022-09-07T18:33:49.953Z"
   },
   {
    "duration": 28,
    "start_time": "2022-09-07T18:33:50.131Z"
   },
   {
    "duration": 2,
    "start_time": "2022-09-07T18:33:50.161Z"
   },
   {
    "duration": 6351,
    "start_time": "2022-09-07T18:33:50.164Z"
   },
   {
    "duration": 2104,
    "start_time": "2022-09-07T18:33:56.519Z"
   },
   {
    "duration": 1462,
    "start_time": "2022-09-07T18:35:01.510Z"
   },
   {
    "duration": 865,
    "start_time": "2022-09-07T18:35:02.974Z"
   },
   {
    "duration": 4,
    "start_time": "2022-09-07T18:35:03.840Z"
   },
   {
    "duration": 667,
    "start_time": "2022-09-07T18:35:03.845Z"
   },
   {
    "duration": 176,
    "start_time": "2022-09-07T18:35:04.514Z"
   },
   {
    "duration": 24,
    "start_time": "2022-09-07T18:35:04.692Z"
   },
   {
    "duration": 232,
    "start_time": "2022-09-07T18:35:04.718Z"
   },
   {
    "duration": 215,
    "start_time": "2022-09-07T18:35:04.952Z"
   },
   {
    "duration": 17,
    "start_time": "2022-09-07T18:35:05.169Z"
   },
   {
    "duration": 235,
    "start_time": "2022-09-07T18:35:05.187Z"
   },
   {
    "duration": 16,
    "start_time": "2022-09-07T18:35:05.424Z"
   },
   {
    "duration": 262,
    "start_time": "2022-09-07T18:35:05.442Z"
   },
   {
    "duration": 16,
    "start_time": "2022-09-07T18:35:05.710Z"
   },
   {
    "duration": 210,
    "start_time": "2022-09-07T18:35:05.729Z"
   },
   {
    "duration": 159,
    "start_time": "2022-09-07T18:35:05.940Z"
   },
   {
    "duration": 163,
    "start_time": "2022-09-07T18:35:06.100Z"
   },
   {
    "duration": 153,
    "start_time": "2022-09-07T18:35:06.264Z"
   },
   {
    "duration": 496,
    "start_time": "2022-09-07T18:35:06.418Z"
   },
   {
    "duration": 270,
    "start_time": "2022-09-07T18:35:06.915Z"
   },
   {
    "duration": 404,
    "start_time": "2022-09-07T18:35:07.189Z"
   },
   {
    "duration": 304,
    "start_time": "2022-09-07T18:35:07.595Z"
   },
   {
    "duration": 95179,
    "start_time": "2022-09-07T18:35:07.900Z"
   },
   {
    "duration": 7983,
    "start_time": "2022-09-07T18:36:43.081Z"
   },
   {
    "duration": 181,
    "start_time": "2022-09-07T18:36:51.065Z"
   },
   {
    "duration": 28,
    "start_time": "2022-09-07T18:36:51.248Z"
   },
   {
    "duration": 3,
    "start_time": "2022-09-07T18:36:51.277Z"
   },
   {
    "duration": 6236,
    "start_time": "2022-09-07T18:36:51.281Z"
   },
   {
    "duration": 2094,
    "start_time": "2022-09-07T18:36:57.520Z"
   },
   {
    "duration": 133,
    "start_time": "2022-09-07T18:41:39.625Z"
   },
   {
    "duration": 127,
    "start_time": "2022-09-07T18:42:45.631Z"
   },
   {
    "duration": 152,
    "start_time": "2022-09-07T18:43:37.469Z"
   },
   {
    "duration": 128,
    "start_time": "2022-09-07T18:43:54.359Z"
   },
   {
    "duration": 170,
    "start_time": "2022-09-07T18:47:21.707Z"
   },
   {
    "duration": 1257,
    "start_time": "2022-09-07T18:47:28.143Z"
   },
   {
    "duration": 853,
    "start_time": "2022-09-07T18:47:29.402Z"
   },
   {
    "duration": 3,
    "start_time": "2022-09-07T18:47:30.257Z"
   },
   {
    "duration": 666,
    "start_time": "2022-09-07T18:47:30.262Z"
   },
   {
    "duration": 209,
    "start_time": "2022-09-07T18:47:30.930Z"
   },
   {
    "duration": 22,
    "start_time": "2022-09-07T18:47:31.141Z"
   },
   {
    "duration": 243,
    "start_time": "2022-09-07T18:47:31.165Z"
   },
   {
    "duration": 218,
    "start_time": "2022-09-07T18:47:31.409Z"
   },
   {
    "duration": 18,
    "start_time": "2022-09-07T18:47:31.628Z"
   },
   {
    "duration": 263,
    "start_time": "2022-09-07T18:47:31.648Z"
   },
   {
    "duration": 17,
    "start_time": "2022-09-07T18:47:31.913Z"
   },
   {
    "duration": 262,
    "start_time": "2022-09-07T18:47:31.932Z"
   },
   {
    "duration": 21,
    "start_time": "2022-09-07T18:47:32.196Z"
   },
   {
    "duration": 210,
    "start_time": "2022-09-07T18:47:32.219Z"
   },
   {
    "duration": 190,
    "start_time": "2022-09-07T18:47:32.430Z"
   },
   {
    "duration": 192,
    "start_time": "2022-09-07T18:47:32.622Z"
   },
   {
    "duration": 150,
    "start_time": "2022-09-07T18:47:32.816Z"
   },
   {
    "duration": 147,
    "start_time": "2022-09-07T18:47:32.968Z"
   },
   {
    "duration": 517,
    "start_time": "2022-09-07T18:47:33.117Z"
   },
   {
    "duration": 252,
    "start_time": "2022-09-07T18:47:33.635Z"
   },
   {
    "duration": 425,
    "start_time": "2022-09-07T18:47:33.889Z"
   },
   {
    "duration": 320,
    "start_time": "2022-09-07T18:47:34.315Z"
   },
   {
    "duration": 1301,
    "start_time": "2022-09-07T18:48:39.702Z"
   },
   {
    "duration": 833,
    "start_time": "2022-09-07T18:48:41.005Z"
   },
   {
    "duration": 4,
    "start_time": "2022-09-07T18:48:41.839Z"
   },
   {
    "duration": 709,
    "start_time": "2022-09-07T18:48:41.844Z"
   },
   {
    "duration": 247,
    "start_time": "2022-09-07T18:48:42.556Z"
   },
   {
    "duration": 25,
    "start_time": "2022-09-07T18:48:42.805Z"
   },
   {
    "duration": 230,
    "start_time": "2022-09-07T18:48:42.831Z"
   },
   {
    "duration": 220,
    "start_time": "2022-09-07T18:48:43.063Z"
   },
   {
    "duration": 18,
    "start_time": "2022-09-07T18:48:43.285Z"
   },
   {
    "duration": 248,
    "start_time": "2022-09-07T18:48:43.310Z"
   },
   {
    "duration": 18,
    "start_time": "2022-09-07T18:48:43.559Z"
   },
   {
    "duration": 279,
    "start_time": "2022-09-07T18:48:43.579Z"
   },
   {
    "duration": 16,
    "start_time": "2022-09-07T18:48:43.859Z"
   },
   {
    "duration": 217,
    "start_time": "2022-09-07T18:48:43.877Z"
   },
   {
    "duration": 163,
    "start_time": "2022-09-07T18:48:44.095Z"
   },
   {
    "duration": 163,
    "start_time": "2022-09-07T18:48:44.261Z"
   },
   {
    "duration": 151,
    "start_time": "2022-09-07T18:48:44.426Z"
   },
   {
    "duration": 154,
    "start_time": "2022-09-07T18:48:44.579Z"
   },
   {
    "duration": 130,
    "start_time": "2022-09-07T18:48:44.735Z"
   },
   {
    "duration": 488,
    "start_time": "2022-09-07T18:48:44.867Z"
   },
   {
    "duration": 260,
    "start_time": "2022-09-07T18:48:45.356Z"
   },
   {
    "duration": 380,
    "start_time": "2022-09-07T18:48:45.617Z"
   },
   {
    "duration": 289,
    "start_time": "2022-09-07T18:48:45.999Z"
   },
   {
    "duration": 85404,
    "start_time": "2022-09-07T18:48:46.289Z"
   },
   {
    "duration": 7443,
    "start_time": "2022-09-07T18:50:11.694Z"
   },
   {
    "duration": 164,
    "start_time": "2022-09-07T18:50:19.139Z"
   },
   {
    "duration": 31,
    "start_time": "2022-09-07T18:50:19.304Z"
   },
   {
    "duration": 3,
    "start_time": "2022-09-07T18:50:19.337Z"
   },
   {
    "duration": 6376,
    "start_time": "2022-09-07T18:50:19.342Z"
   },
   {
    "duration": 2190,
    "start_time": "2022-09-07T18:50:25.721Z"
   },
   {
    "duration": 341,
    "start_time": "2022-09-07T18:56:34.768Z"
   },
   {
    "duration": 234,
    "start_time": "2022-09-07T18:57:46.571Z"
   },
   {
    "duration": 226,
    "start_time": "2022-09-07T18:58:08.934Z"
   },
   {
    "duration": 222,
    "start_time": "2022-09-07T18:59:29.777Z"
   },
   {
    "duration": 515,
    "start_time": "2022-09-07T19:07:09.187Z"
   },
   {
    "duration": 281,
    "start_time": "2022-09-07T19:10:40.004Z"
   },
   {
    "duration": 318,
    "start_time": "2022-09-07T19:11:32.479Z"
   },
   {
    "duration": 62,
    "start_time": "2022-09-07T19:18:30.973Z"
   },
   {
    "duration": 4,
    "start_time": "2022-09-07T19:28:54.118Z"
   },
   {
    "duration": 1150069,
    "start_time": "2022-09-07T19:29:02.658Z"
   },
   {
    "duration": 1647,
    "start_time": "2022-09-08T06:53:25.406Z"
   },
   {
    "duration": 1318,
    "start_time": "2022-09-08T06:53:32.807Z"
   },
   {
    "duration": 881,
    "start_time": "2022-09-08T06:53:34.127Z"
   },
   {
    "duration": 3,
    "start_time": "2022-09-08T06:53:35.011Z"
   },
   {
    "duration": 708,
    "start_time": "2022-09-08T06:53:35.016Z"
   },
   {
    "duration": 191,
    "start_time": "2022-09-08T06:53:35.726Z"
   },
   {
    "duration": 21,
    "start_time": "2022-09-08T06:53:35.918Z"
   },
   {
    "duration": 251,
    "start_time": "2022-09-08T06:53:35.940Z"
   },
   {
    "duration": 215,
    "start_time": "2022-09-08T06:53:36.193Z"
   },
   {
    "duration": 18,
    "start_time": "2022-09-08T06:53:36.410Z"
   },
   {
    "duration": 243,
    "start_time": "2022-09-08T06:53:36.430Z"
   },
   {
    "duration": 16,
    "start_time": "2022-09-08T06:53:36.674Z"
   },
   {
    "duration": 267,
    "start_time": "2022-09-08T06:53:36.692Z"
   },
   {
    "duration": 17,
    "start_time": "2022-09-08T06:53:36.960Z"
   },
   {
    "duration": 222,
    "start_time": "2022-09-08T06:53:36.979Z"
   },
   {
    "duration": 168,
    "start_time": "2022-09-08T06:53:37.202Z"
   },
   {
    "duration": 161,
    "start_time": "2022-09-08T06:53:37.372Z"
   },
   {
    "duration": 144,
    "start_time": "2022-09-08T06:53:37.534Z"
   },
   {
    "duration": 152,
    "start_time": "2022-09-08T06:53:37.679Z"
   },
   {
    "duration": 127,
    "start_time": "2022-09-08T06:53:37.832Z"
   },
   {
    "duration": 486,
    "start_time": "2022-09-08T06:53:37.960Z"
   },
   {
    "duration": 249,
    "start_time": "2022-09-08T06:53:38.448Z"
   },
   {
    "duration": 370,
    "start_time": "2022-09-08T06:53:38.699Z"
   },
   {
    "duration": 350,
    "start_time": "2022-09-08T06:53:39.070Z"
   },
   {
    "duration": 1766,
    "start_time": "2022-09-08T06:53:39.422Z"
   },
   {
    "duration": 0,
    "start_time": "2022-09-08T06:53:41.190Z"
   },
   {
    "duration": 0,
    "start_time": "2022-09-08T06:53:41.190Z"
   },
   {
    "duration": 0,
    "start_time": "2022-09-08T06:53:41.191Z"
   },
   {
    "duration": 0,
    "start_time": "2022-09-08T06:53:41.192Z"
   },
   {
    "duration": 0,
    "start_time": "2022-09-08T06:53:41.193Z"
   },
   {
    "duration": 0,
    "start_time": "2022-09-08T06:53:41.194Z"
   },
   {
    "duration": 0,
    "start_time": "2022-09-08T06:53:41.194Z"
   },
   {
    "duration": 1005339,
    "start_time": "2022-09-08T08:41:42.498Z"
   },
   {
    "duration": 108148,
    "start_time": "2022-09-08T08:59:07.233Z"
   },
   {
    "duration": 286495,
    "start_time": "2022-09-08T09:01:02.753Z"
   },
   {
    "duration": 192845,
    "start_time": "2022-09-08T10:26:11.588Z"
   },
   {
    "duration": 199342,
    "start_time": "2022-09-08T10:49:23.211Z"
   },
   {
    "duration": 202896,
    "start_time": "2022-09-08T10:58:18.569Z"
   },
   {
    "duration": 147,
    "start_time": "2022-09-08T11:05:07.827Z"
   },
   {
    "duration": 49,
    "start_time": "2022-09-08T11:05:58.964Z"
   },
   {
    "duration": 24785,
    "start_time": "2022-09-08T11:08:52.764Z"
   },
   {
    "duration": 363994,
    "start_time": "2022-09-08T11:10:33.542Z"
   },
   {
    "duration": 694872,
    "start_time": "2022-09-08T11:21:24.648Z"
   },
   {
    "duration": 38552,
    "start_time": "2022-09-08T11:40:52.509Z"
   },
   {
    "duration": 337,
    "start_time": "2022-09-08T11:41:31.063Z"
   },
   {
    "duration": 85,
    "start_time": "2022-09-08T11:43:51.289Z"
   },
   {
    "duration": 4,
    "start_time": "2022-09-08T11:45:18.294Z"
   },
   {
    "duration": 325,
    "start_time": "2022-09-08T11:45:24.069Z"
   },
   {
    "duration": 37576,
    "start_time": "2022-09-08T11:47:33.844Z"
   },
   {
    "duration": 312,
    "start_time": "2022-09-08T11:48:11.422Z"
   },
   {
    "duration": 37687,
    "start_time": "2022-09-08T11:49:02.639Z"
   },
   {
    "duration": 118,
    "start_time": "2022-09-08T12:03:49.769Z"
   },
   {
    "duration": 8,
    "start_time": "2022-09-08T12:03:57.449Z"
   },
   {
    "duration": 10,
    "start_time": "2022-09-08T12:04:02.397Z"
   },
   {
    "duration": 211,
    "start_time": "2022-09-08T12:04:17.716Z"
   },
   {
    "duration": 89,
    "start_time": "2022-09-08T12:04:21.040Z"
   },
   {
    "duration": 81,
    "start_time": "2022-09-08T12:04:38.872Z"
   },
   {
    "duration": 2,
    "start_time": "2022-09-08T12:04:41.424Z"
   },
   {
    "duration": 104071,
    "start_time": "2022-09-08T12:04:48.941Z"
   },
   {
    "duration": 1213340,
    "start_time": "2022-09-08T12:12:53.373Z"
   },
   {
    "duration": 38723,
    "start_time": "2022-09-08T12:44:24.850Z"
   },
   {
    "duration": 323,
    "start_time": "2022-09-08T12:45:38.757Z"
   },
   {
    "duration": 323,
    "start_time": "2022-09-08T12:47:45.846Z"
   },
   {
    "duration": 364,
    "start_time": "2022-09-08T12:48:03.952Z"
   },
   {
    "duration": 361,
    "start_time": "2022-09-08T12:48:10.123Z"
   },
   {
    "duration": 38151,
    "start_time": "2022-09-08T12:48:27.913Z"
   },
   {
    "duration": 11597,
    "start_time": "2022-09-08T12:50:47.038Z"
   },
   {
    "duration": 1397,
    "start_time": "2022-09-08T12:52:44.923Z"
   },
   {
    "duration": 1002,
    "start_time": "2022-09-08T12:52:46.322Z"
   },
   {
    "duration": 4,
    "start_time": "2022-09-08T12:52:47.326Z"
   },
   {
    "duration": 795,
    "start_time": "2022-09-08T12:52:47.332Z"
   },
   {
    "duration": 234,
    "start_time": "2022-09-08T12:52:48.129Z"
   },
   {
    "duration": 21,
    "start_time": "2022-09-08T12:52:48.365Z"
   },
   {
    "duration": 278,
    "start_time": "2022-09-08T12:52:48.388Z"
   },
   {
    "duration": 258,
    "start_time": "2022-09-08T12:52:48.667Z"
   },
   {
    "duration": 23,
    "start_time": "2022-09-08T12:52:48.927Z"
   },
   {
    "duration": 285,
    "start_time": "2022-09-08T12:52:48.954Z"
   },
   {
    "duration": 71,
    "start_time": "2022-09-08T12:52:49.240Z"
   },
   {
    "duration": 623,
    "start_time": "2022-09-08T12:52:49.313Z"
   },
   {
    "duration": 85,
    "start_time": "2022-09-08T12:52:49.938Z"
   },
   {
    "duration": 609,
    "start_time": "2022-09-08T12:52:50.033Z"
   },
   {
    "duration": 393,
    "start_time": "2022-09-08T12:52:50.643Z"
   },
   {
    "duration": 399,
    "start_time": "2022-09-08T12:52:51.038Z"
   },
   {
    "duration": 410,
    "start_time": "2022-09-08T12:52:51.440Z"
   },
   {
    "duration": 379,
    "start_time": "2022-09-08T12:52:51.852Z"
   },
   {
    "duration": 286,
    "start_time": "2022-09-08T12:52:52.233Z"
   },
   {
    "duration": 861,
    "start_time": "2022-09-08T12:52:52.521Z"
   },
   {
    "duration": 275,
    "start_time": "2022-09-08T12:52:53.383Z"
   },
   {
    "duration": 37,
    "start_time": "2022-09-08T12:52:53.660Z"
   },
   {
    "duration": 430,
    "start_time": "2022-09-08T12:52:53.699Z"
   },
   {
    "duration": 494,
    "start_time": "2022-09-08T12:52:54.130Z"
   },
   {
    "duration": 315345,
    "start_time": "2022-09-08T12:52:54.626Z"
   },
   {
    "duration": 222931,
    "start_time": "2022-09-08T12:58:09.973Z"
   },
   {
    "duration": 389969,
    "start_time": "2022-09-08T13:01:52.905Z"
   },
   {
    "duration": 702547,
    "start_time": "2022-09-08T13:08:22.878Z"
   },
   {
    "duration": 39401,
    "start_time": "2022-09-08T13:20:05.427Z"
   },
   {
    "duration": 332,
    "start_time": "2022-09-08T13:20:44.830Z"
   },
   {
    "duration": 177,
    "start_time": "2022-09-08T13:20:45.164Z"
   },
   {
    "duration": 82,
    "start_time": "2022-09-08T13:20:45.342Z"
   },
   {
    "duration": 3,
    "start_time": "2022-09-08T13:20:45.426Z"
   },
   {
    "duration": 0,
    "start_time": "2022-09-08T13:30:08.825Z"
   },
   {
    "duration": 0,
    "start_time": "2022-09-08T13:30:08.826Z"
   },
   {
    "duration": 1359,
    "start_time": "2022-09-08T14:07:58.995Z"
   },
   {
    "duration": 898,
    "start_time": "2022-09-08T14:08:00.356Z"
   },
   {
    "duration": 3,
    "start_time": "2022-09-08T14:08:01.256Z"
   },
   {
    "duration": 736,
    "start_time": "2022-09-08T14:08:01.262Z"
   },
   {
    "duration": 195,
    "start_time": "2022-09-08T14:08:01.999Z"
   },
   {
    "duration": 24,
    "start_time": "2022-09-08T14:08:02.195Z"
   },
   {
    "duration": 250,
    "start_time": "2022-09-08T14:08:02.221Z"
   },
   {
    "duration": 269,
    "start_time": "2022-09-08T14:08:02.472Z"
   },
   {
    "duration": 22,
    "start_time": "2022-09-08T14:08:02.742Z"
   },
   {
    "duration": 285,
    "start_time": "2022-09-08T14:08:02.766Z"
   },
   {
    "duration": 17,
    "start_time": "2022-09-08T14:08:03.053Z"
   },
   {
    "duration": 290,
    "start_time": "2022-09-08T14:08:03.071Z"
   },
   {
    "duration": 17,
    "start_time": "2022-09-08T14:08:03.362Z"
   },
   {
    "duration": 245,
    "start_time": "2022-09-08T14:08:03.381Z"
   },
   {
    "duration": 163,
    "start_time": "2022-09-08T14:08:03.627Z"
   },
   {
    "duration": 185,
    "start_time": "2022-09-08T14:08:03.792Z"
   },
   {
    "duration": 166,
    "start_time": "2022-09-08T14:08:03.978Z"
   },
   {
    "duration": 175,
    "start_time": "2022-09-08T14:08:04.145Z"
   },
   {
    "duration": 141,
    "start_time": "2022-09-08T14:08:04.322Z"
   },
   {
    "duration": 534,
    "start_time": "2022-09-08T14:08:04.465Z"
   },
   {
    "duration": 275,
    "start_time": "2022-09-08T14:08:05.000Z"
   },
   {
    "duration": 56,
    "start_time": "2022-09-08T14:08:05.276Z"
   },
   {
    "duration": 503,
    "start_time": "2022-09-08T14:08:05.334Z"
   },
   {
    "duration": 382,
    "start_time": "2022-09-08T14:08:05.838Z"
   },
   {
    "duration": 1417,
    "start_time": "2022-09-08T14:08:34.079Z"
   },
   {
    "duration": 971,
    "start_time": "2022-09-08T14:08:35.498Z"
   },
   {
    "duration": 6,
    "start_time": "2022-09-08T14:08:36.471Z"
   },
   {
    "duration": 899,
    "start_time": "2022-09-08T14:08:36.478Z"
   },
   {
    "duration": 190,
    "start_time": "2022-09-08T14:08:37.379Z"
   },
   {
    "duration": 21,
    "start_time": "2022-09-08T14:08:37.571Z"
   },
   {
    "duration": 306,
    "start_time": "2022-09-08T14:08:37.594Z"
   },
   {
    "duration": 251,
    "start_time": "2022-09-08T14:08:37.901Z"
   },
   {
    "duration": 19,
    "start_time": "2022-09-08T14:08:38.154Z"
   },
   {
    "duration": 278,
    "start_time": "2022-09-08T14:08:38.175Z"
   },
   {
    "duration": 21,
    "start_time": "2022-09-08T14:08:38.454Z"
   },
   {
    "duration": 307,
    "start_time": "2022-09-08T14:08:38.477Z"
   },
   {
    "duration": 67,
    "start_time": "2022-09-08T14:08:38.786Z"
   },
   {
    "duration": 290,
    "start_time": "2022-09-08T14:08:38.857Z"
   },
   {
    "duration": 181,
    "start_time": "2022-09-08T14:08:39.149Z"
   },
   {
    "duration": 223,
    "start_time": "2022-09-08T14:08:39.331Z"
   },
   {
    "duration": 160,
    "start_time": "2022-09-08T14:08:39.555Z"
   },
   {
    "duration": 172,
    "start_time": "2022-09-08T14:08:39.725Z"
   },
   {
    "duration": 143,
    "start_time": "2022-09-08T14:08:39.899Z"
   },
   {
    "duration": 560,
    "start_time": "2022-09-08T14:08:40.044Z"
   },
   {
    "duration": 298,
    "start_time": "2022-09-08T14:08:40.606Z"
   },
   {
    "duration": 38,
    "start_time": "2022-09-08T14:08:40.919Z"
   },
   {
    "duration": 404,
    "start_time": "2022-09-08T14:08:40.958Z"
   },
   {
    "duration": 416,
    "start_time": "2022-09-08T14:08:41.364Z"
   },
   {
    "duration": 40947,
    "start_time": "2022-09-08T14:08:41.782Z"
   },
   {
    "duration": 355,
    "start_time": "2022-09-08T14:09:22.731Z"
   },
   {
    "duration": 193,
    "start_time": "2022-09-08T14:09:23.088Z"
   },
   {
    "duration": 75,
    "start_time": "2022-09-08T14:09:23.282Z"
   },
   {
    "duration": 2,
    "start_time": "2022-09-08T14:09:23.359Z"
   },
   {
    "duration": 0,
    "start_time": "2022-09-08T14:17:08.673Z"
   },
   {
    "duration": 0,
    "start_time": "2022-09-08T14:17:08.674Z"
   },
   {
    "duration": 0,
    "start_time": "2022-09-08T14:17:08.677Z"
   },
   {
    "duration": 1323,
    "start_time": "2022-09-08T14:17:10.897Z"
   },
   {
    "duration": 966,
    "start_time": "2022-09-08T14:17:12.226Z"
   },
   {
    "duration": 4,
    "start_time": "2022-09-08T14:17:13.193Z"
   },
   {
    "duration": 734,
    "start_time": "2022-09-08T14:17:13.199Z"
   },
   {
    "duration": 207,
    "start_time": "2022-09-08T14:17:13.936Z"
   },
   {
    "duration": 21,
    "start_time": "2022-09-08T14:17:14.144Z"
   },
   {
    "duration": 264,
    "start_time": "2022-09-08T14:17:14.167Z"
   },
   {
    "duration": 226,
    "start_time": "2022-09-08T14:17:14.433Z"
   },
   {
    "duration": 18,
    "start_time": "2022-09-08T14:17:14.661Z"
   },
   {
    "duration": 273,
    "start_time": "2022-09-08T14:17:14.681Z"
   },
   {
    "duration": 17,
    "start_time": "2022-09-08T14:17:14.955Z"
   },
   {
    "duration": 280,
    "start_time": "2022-09-08T14:17:14.973Z"
   },
   {
    "duration": 16,
    "start_time": "2022-09-08T14:17:15.254Z"
   },
   {
    "duration": 225,
    "start_time": "2022-09-08T14:17:15.273Z"
   },
   {
    "duration": 166,
    "start_time": "2022-09-08T14:17:15.500Z"
   },
   {
    "duration": 168,
    "start_time": "2022-09-08T14:17:15.667Z"
   },
   {
    "duration": 150,
    "start_time": "2022-09-08T14:17:15.837Z"
   },
   {
    "duration": 173,
    "start_time": "2022-09-08T14:17:15.989Z"
   },
   {
    "duration": 136,
    "start_time": "2022-09-08T14:17:16.164Z"
   },
   {
    "duration": 512,
    "start_time": "2022-09-08T14:17:16.302Z"
   },
   {
    "duration": 270,
    "start_time": "2022-09-08T14:17:16.824Z"
   },
   {
    "duration": 45,
    "start_time": "2022-09-08T14:17:17.095Z"
   },
   {
    "duration": 386,
    "start_time": "2022-09-08T14:17:17.142Z"
   },
   {
    "duration": 369,
    "start_time": "2022-09-08T14:17:17.530Z"
   },
   {
    "duration": 38214,
    "start_time": "2022-09-08T14:17:17.901Z"
   },
   {
    "duration": 314,
    "start_time": "2022-09-08T14:17:56.117Z"
   },
   {
    "duration": 191,
    "start_time": "2022-09-08T14:17:56.433Z"
   },
   {
    "duration": 80,
    "start_time": "2022-09-08T14:17:56.626Z"
   },
   {
    "duration": 14,
    "start_time": "2022-09-08T14:17:56.708Z"
   },
   {
    "duration": 1311,
    "start_time": "2022-09-08T14:18:57.525Z"
   },
   {
    "duration": 888,
    "start_time": "2022-09-08T14:18:58.838Z"
   },
   {
    "duration": 4,
    "start_time": "2022-09-08T14:18:59.728Z"
   },
   {
    "duration": 732,
    "start_time": "2022-09-08T14:18:59.733Z"
   },
   {
    "duration": 201,
    "start_time": "2022-09-08T14:19:00.467Z"
   },
   {
    "duration": 21,
    "start_time": "2022-09-08T14:19:00.669Z"
   },
   {
    "duration": 278,
    "start_time": "2022-09-08T14:19:00.692Z"
   },
   {
    "duration": 230,
    "start_time": "2022-09-08T14:19:00.971Z"
   },
   {
    "duration": 26,
    "start_time": "2022-09-08T14:19:01.208Z"
   },
   {
    "duration": 319,
    "start_time": "2022-09-08T14:19:01.236Z"
   },
   {
    "duration": 18,
    "start_time": "2022-09-08T14:19:01.557Z"
   },
   {
    "duration": 289,
    "start_time": "2022-09-08T14:19:01.577Z"
   },
   {
    "duration": 17,
    "start_time": "2022-09-08T14:19:01.868Z"
   },
   {
    "duration": 272,
    "start_time": "2022-09-08T14:19:01.888Z"
   },
   {
    "duration": 164,
    "start_time": "2022-09-08T14:19:02.162Z"
   },
   {
    "duration": 175,
    "start_time": "2022-09-08T14:19:02.328Z"
   },
   {
    "duration": 211,
    "start_time": "2022-09-08T14:19:02.509Z"
   },
   {
    "duration": 164,
    "start_time": "2022-09-08T14:19:02.724Z"
   },
   {
    "duration": 134,
    "start_time": "2022-09-08T14:19:02.890Z"
   },
   {
    "duration": 506,
    "start_time": "2022-09-08T14:19:03.026Z"
   },
   {
    "duration": 257,
    "start_time": "2022-09-08T14:19:03.533Z"
   },
   {
    "duration": 51,
    "start_time": "2022-09-08T14:19:03.792Z"
   },
   {
    "duration": 422,
    "start_time": "2022-09-08T14:19:03.845Z"
   },
   {
    "duration": 374,
    "start_time": "2022-09-08T14:19:04.269Z"
   },
   {
    "duration": 38523,
    "start_time": "2022-09-08T14:19:04.644Z"
   },
   {
    "duration": 325,
    "start_time": "2022-09-08T14:19:43.169Z"
   },
   {
    "duration": 180,
    "start_time": "2022-09-08T14:19:43.496Z"
   },
   {
    "duration": 84,
    "start_time": "2022-09-08T14:19:43.678Z"
   },
   {
    "duration": 3,
    "start_time": "2022-09-08T14:19:43.763Z"
   },
   {
    "duration": 524090,
    "start_time": "2022-09-08T14:19:43.767Z"
   },
   {
    "duration": 0,
    "start_time": "2022-09-08T14:28:27.859Z"
   },
   {
    "duration": 0,
    "start_time": "2022-09-08T14:28:27.861Z"
   },
   {
    "duration": 0,
    "start_time": "2022-09-08T14:28:27.863Z"
   },
   {
    "duration": 3,
    "start_time": "2022-09-08T14:28:30.324Z"
   },
   {
    "duration": 9,
    "start_time": "2022-09-08T14:28:52.346Z"
   },
   {
    "duration": 70,
    "start_time": "2022-09-08T14:29:09.371Z"
   },
   {
    "duration": 3,
    "start_time": "2022-09-08T14:29:11.657Z"
   },
   {
    "duration": 91033,
    "start_time": "2022-09-08T14:29:20.379Z"
   },
   {
    "duration": 1353,
    "start_time": "2022-09-08T14:32:55.171Z"
   },
   {
    "duration": 869,
    "start_time": "2022-09-08T14:32:56.526Z"
   },
   {
    "duration": 3,
    "start_time": "2022-09-08T14:32:57.397Z"
   },
   {
    "duration": 732,
    "start_time": "2022-09-08T14:32:57.402Z"
   },
   {
    "duration": 197,
    "start_time": "2022-09-08T14:32:58.136Z"
   },
   {
    "duration": 27,
    "start_time": "2022-09-08T14:32:58.335Z"
   },
   {
    "duration": 263,
    "start_time": "2022-09-08T14:32:58.364Z"
   },
   {
    "duration": 230,
    "start_time": "2022-09-08T14:32:58.629Z"
   },
   {
    "duration": 18,
    "start_time": "2022-09-08T14:32:58.860Z"
   },
   {
    "duration": 259,
    "start_time": "2022-09-08T14:32:58.880Z"
   },
   {
    "duration": 18,
    "start_time": "2022-09-08T14:32:59.141Z"
   },
   {
    "duration": 290,
    "start_time": "2022-09-08T14:32:59.160Z"
   },
   {
    "duration": 17,
    "start_time": "2022-09-08T14:32:59.452Z"
   },
   {
    "duration": 267,
    "start_time": "2022-09-08T14:32:59.471Z"
   },
   {
    "duration": 163,
    "start_time": "2022-09-08T14:32:59.739Z"
   },
   {
    "duration": 174,
    "start_time": "2022-09-08T14:32:59.904Z"
   },
   {
    "duration": 166,
    "start_time": "2022-09-08T14:33:00.080Z"
   },
   {
    "duration": 175,
    "start_time": "2022-09-08T14:33:00.248Z"
   },
   {
    "duration": 150,
    "start_time": "2022-09-08T14:33:00.425Z"
   },
   {
    "duration": 525,
    "start_time": "2022-09-08T14:33:00.576Z"
   },
   {
    "duration": 268,
    "start_time": "2022-09-08T14:33:01.103Z"
   },
   {
    "duration": 49,
    "start_time": "2022-09-08T14:33:01.372Z"
   },
   {
    "duration": 402,
    "start_time": "2022-09-08T14:33:01.424Z"
   },
   {
    "duration": 370,
    "start_time": "2022-09-08T14:33:01.828Z"
   },
   {
    "duration": 310650,
    "start_time": "2022-09-08T14:33:02.199Z"
   },
   {
    "duration": 216664,
    "start_time": "2022-09-08T14:38:12.851Z"
   },
   {
    "duration": 377649,
    "start_time": "2022-09-08T14:41:49.517Z"
   },
   {
    "duration": 700032,
    "start_time": "2022-09-08T14:48:07.168Z"
   },
   {
    "duration": 38018,
    "start_time": "2022-09-08T14:59:47.201Z"
   },
   {
    "duration": 325,
    "start_time": "2022-09-08T15:00:25.221Z"
   },
   {
    "duration": 180,
    "start_time": "2022-09-08T15:00:25.548Z"
   },
   {
    "duration": 67,
    "start_time": "2022-09-08T15:00:25.730Z"
   },
   {
    "duration": 21,
    "start_time": "2022-09-08T15:00:25.799Z"
   },
   {
    "duration": 565693,
    "start_time": "2022-09-08T15:00:25.822Z"
   },
   {
    "duration": 860,
    "start_time": "2022-09-08T15:09:51.520Z"
   },
   {
    "duration": 0,
    "start_time": "2022-09-08T15:09:52.382Z"
   },
   {
    "duration": 678,
    "start_time": "2022-09-08T15:23:58.349Z"
   },
   {
    "duration": 5,
    "start_time": "2022-09-08T15:24:13.093Z"
   },
   {
    "duration": 4,
    "start_time": "2022-09-08T15:24:40.228Z"
   },
   {
    "duration": 4,
    "start_time": "2022-09-08T15:24:43.759Z"
   },
   {
    "duration": 9,
    "start_time": "2022-09-08T15:24:56.891Z"
   },
   {
    "duration": 73,
    "start_time": "2022-09-09T11:28:22.054Z"
   },
   {
    "duration": 46,
    "start_time": "2022-09-10T07:57:43.387Z"
   },
   {
    "duration": 2824,
    "start_time": "2022-09-10T07:57:46.743Z"
   },
   {
    "duration": 3052,
    "start_time": "2022-09-10T07:57:49.570Z"
   },
   {
    "duration": 4,
    "start_time": "2022-09-10T07:57:52.623Z"
   },
   {
    "duration": 767,
    "start_time": "2022-09-10T07:57:52.630Z"
   },
   {
    "duration": 176,
    "start_time": "2022-09-10T07:57:53.398Z"
   },
   {
    "duration": 19,
    "start_time": "2022-09-10T07:57:53.575Z"
   },
   {
    "duration": 216,
    "start_time": "2022-09-10T07:57:53.596Z"
   },
   {
    "duration": 205,
    "start_time": "2022-09-10T07:57:53.813Z"
   },
   {
    "duration": 17,
    "start_time": "2022-09-10T07:57:54.020Z"
   },
   {
    "duration": 234,
    "start_time": "2022-09-10T07:57:54.039Z"
   },
   {
    "duration": 16,
    "start_time": "2022-09-10T07:57:54.275Z"
   },
   {
    "duration": 248,
    "start_time": "2022-09-10T07:57:54.293Z"
   },
   {
    "duration": 28,
    "start_time": "2022-09-10T07:57:54.543Z"
   },
   {
    "duration": 195,
    "start_time": "2022-09-10T07:57:54.573Z"
   },
   {
    "duration": 176,
    "start_time": "2022-09-10T07:57:54.769Z"
   },
   {
    "duration": 165,
    "start_time": "2022-09-10T07:57:54.946Z"
   },
   {
    "duration": 158,
    "start_time": "2022-09-10T07:57:55.112Z"
   },
   {
    "duration": 158,
    "start_time": "2022-09-10T07:57:55.271Z"
   },
   {
    "duration": 149,
    "start_time": "2022-09-10T07:57:55.431Z"
   },
   {
    "duration": 476,
    "start_time": "2022-09-10T07:57:55.582Z"
   },
   {
    "duration": 253,
    "start_time": "2022-09-10T07:57:56.060Z"
   },
   {
    "duration": 34,
    "start_time": "2022-09-10T07:57:56.315Z"
   },
   {
    "duration": 75,
    "start_time": "2022-09-10T07:57:56.350Z"
   },
   {
    "duration": 1490,
    "start_time": "2022-09-11T09:14:15.362Z"
   },
   {
    "duration": 1119,
    "start_time": "2022-09-11T09:14:16.854Z"
   },
   {
    "duration": 4,
    "start_time": "2022-09-11T09:14:17.975Z"
   },
   {
    "duration": 670,
    "start_time": "2022-09-11T09:14:17.980Z"
   },
   {
    "duration": 184,
    "start_time": "2022-09-11T09:14:18.652Z"
   },
   {
    "duration": 19,
    "start_time": "2022-09-11T09:14:18.838Z"
   },
   {
    "duration": 234,
    "start_time": "2022-09-11T09:14:18.858Z"
   },
   {
    "duration": 226,
    "start_time": "2022-09-11T09:14:19.093Z"
   },
   {
    "duration": 23,
    "start_time": "2022-09-11T09:14:19.321Z"
   },
   {
    "duration": 243,
    "start_time": "2022-09-11T09:14:19.346Z"
   },
   {
    "duration": 18,
    "start_time": "2022-09-11T09:14:19.591Z"
   },
   {
    "duration": 263,
    "start_time": "2022-09-11T09:14:19.610Z"
   },
   {
    "duration": 16,
    "start_time": "2022-09-11T09:14:19.874Z"
   },
   {
    "duration": 227,
    "start_time": "2022-09-11T09:14:19.892Z"
   },
   {
    "duration": 158,
    "start_time": "2022-09-11T09:14:20.121Z"
   },
   {
    "duration": 159,
    "start_time": "2022-09-11T09:14:20.281Z"
   },
   {
    "duration": 151,
    "start_time": "2022-09-11T09:14:20.441Z"
   },
   {
    "duration": 149,
    "start_time": "2022-09-11T09:14:20.594Z"
   },
   {
    "duration": 152,
    "start_time": "2022-09-11T09:14:20.745Z"
   },
   {
    "duration": 121,
    "start_time": "2022-09-11T09:14:20.899Z"
   },
   {
    "duration": 432,
    "start_time": "2022-09-11T09:14:21.022Z"
   },
   {
    "duration": 223,
    "start_time": "2022-09-11T09:14:21.455Z"
   },
   {
    "duration": 45,
    "start_time": "2022-09-11T09:14:21.679Z"
   },
   {
    "duration": 334,
    "start_time": "2022-09-11T09:14:21.725Z"
   },
   {
    "duration": 320,
    "start_time": "2022-09-11T09:14:22.060Z"
   },
   {
    "duration": 1290,
    "start_time": "2022-09-11T09:15:30.437Z"
   },
   {
    "duration": 821,
    "start_time": "2022-09-11T09:15:31.728Z"
   },
   {
    "duration": 4,
    "start_time": "2022-09-11T09:15:32.551Z"
   },
   {
    "duration": 663,
    "start_time": "2022-09-11T09:15:32.558Z"
   },
   {
    "duration": 179,
    "start_time": "2022-09-11T09:15:33.223Z"
   },
   {
    "duration": 20,
    "start_time": "2022-09-11T09:15:33.409Z"
   },
   {
    "duration": 232,
    "start_time": "2022-09-11T09:15:33.430Z"
   },
   {
    "duration": 209,
    "start_time": "2022-09-11T09:15:33.664Z"
   },
   {
    "duration": 18,
    "start_time": "2022-09-11T09:15:33.874Z"
   },
   {
    "duration": 249,
    "start_time": "2022-09-11T09:15:33.894Z"
   },
   {
    "duration": 17,
    "start_time": "2022-09-11T09:15:34.144Z"
   },
   {
    "duration": 290,
    "start_time": "2022-09-11T09:15:34.162Z"
   },
   {
    "duration": 21,
    "start_time": "2022-09-11T09:15:34.454Z"
   },
   {
    "duration": 253,
    "start_time": "2022-09-11T09:15:34.477Z"
   },
   {
    "duration": 162,
    "start_time": "2022-09-11T09:15:34.732Z"
   },
   {
    "duration": 159,
    "start_time": "2022-09-11T09:15:34.895Z"
   },
   {
    "duration": 156,
    "start_time": "2022-09-11T09:15:35.055Z"
   },
   {
    "duration": 148,
    "start_time": "2022-09-11T09:15:35.212Z"
   },
   {
    "duration": 196,
    "start_time": "2022-09-11T09:15:35.362Z"
   },
   {
    "duration": 130,
    "start_time": "2022-09-11T09:15:35.560Z"
   },
   {
    "duration": 458,
    "start_time": "2022-09-11T09:15:35.692Z"
   },
   {
    "duration": 233,
    "start_time": "2022-09-11T09:15:36.152Z"
   },
   {
    "duration": 48,
    "start_time": "2022-09-11T09:15:36.387Z"
   },
   {
    "duration": 376,
    "start_time": "2022-09-11T09:15:36.437Z"
   },
   {
    "duration": 339,
    "start_time": "2022-09-11T09:15:36.815Z"
   },
   {
    "duration": 39942,
    "start_time": "2022-09-11T09:15:37.156Z"
   },
   {
    "duration": 0,
    "start_time": "2022-09-11T09:16:17.100Z"
   },
   {
    "duration": 0,
    "start_time": "2022-09-11T09:16:17.101Z"
   },
   {
    "duration": 0,
    "start_time": "2022-09-11T09:16:17.102Z"
   },
   {
    "duration": 0,
    "start_time": "2022-09-11T09:16:17.108Z"
   },
   {
    "duration": 0,
    "start_time": "2022-09-11T09:16:17.110Z"
   },
   {
    "duration": 0,
    "start_time": "2022-09-11T09:16:17.110Z"
   },
   {
    "duration": 0,
    "start_time": "2022-09-11T09:16:17.112Z"
   },
   {
    "duration": 0,
    "start_time": "2022-09-11T09:16:17.113Z"
   },
   {
    "duration": 0,
    "start_time": "2022-09-11T09:16:17.114Z"
   },
   {
    "duration": 0,
    "start_time": "2022-09-11T09:16:17.114Z"
   },
   {
    "duration": 0,
    "start_time": "2022-09-11T09:16:17.115Z"
   },
   {
    "duration": 0,
    "start_time": "2022-09-11T09:16:17.116Z"
   },
   {
    "duration": 0,
    "start_time": "2022-09-11T09:16:17.117Z"
   },
   {
    "duration": 1326,
    "start_time": "2022-09-11T09:16:20.411Z"
   },
   {
    "duration": 810,
    "start_time": "2022-09-11T09:16:21.739Z"
   },
   {
    "duration": 4,
    "start_time": "2022-09-11T09:16:22.551Z"
   },
   {
    "duration": 643,
    "start_time": "2022-09-11T09:16:22.557Z"
   },
   {
    "duration": 186,
    "start_time": "2022-09-11T09:16:23.202Z"
   },
   {
    "duration": 21,
    "start_time": "2022-09-11T09:16:23.390Z"
   },
   {
    "duration": 256,
    "start_time": "2022-09-11T09:16:23.413Z"
   },
   {
    "duration": 215,
    "start_time": "2022-09-11T09:16:23.670Z"
   },
   {
    "duration": 28,
    "start_time": "2022-09-11T09:16:23.886Z"
   },
   {
    "duration": 234,
    "start_time": "2022-09-11T09:16:23.916Z"
   },
   {
    "duration": 16,
    "start_time": "2022-09-11T09:16:24.151Z"
   },
   {
    "duration": 279,
    "start_time": "2022-09-11T09:16:24.169Z"
   },
   {
    "duration": 21,
    "start_time": "2022-09-11T09:16:24.450Z"
   },
   {
    "duration": 247,
    "start_time": "2022-09-11T09:16:24.472Z"
   },
   {
    "duration": 158,
    "start_time": "2022-09-11T09:16:24.721Z"
   },
   {
    "duration": 162,
    "start_time": "2022-09-11T09:16:24.880Z"
   },
   {
    "duration": 150,
    "start_time": "2022-09-11T09:16:25.044Z"
   },
   {
    "duration": 149,
    "start_time": "2022-09-11T09:16:25.196Z"
   },
   {
    "duration": 194,
    "start_time": "2022-09-11T09:16:25.347Z"
   },
   {
    "duration": 116,
    "start_time": "2022-09-11T09:16:25.543Z"
   },
   {
    "duration": 464,
    "start_time": "2022-09-11T09:16:25.661Z"
   },
   {
    "duration": 250,
    "start_time": "2022-09-11T09:16:26.127Z"
   },
   {
    "duration": 47,
    "start_time": "2022-09-11T09:16:26.379Z"
   },
   {
    "duration": 349,
    "start_time": "2022-09-11T09:16:26.427Z"
   },
   {
    "duration": 328,
    "start_time": "2022-09-11T09:16:26.777Z"
   },
   {
    "duration": 46183,
    "start_time": "2022-09-11T09:16:27.109Z"
   },
   {
    "duration": 0,
    "start_time": "2022-09-11T09:17:13.293Z"
   },
   {
    "duration": 0,
    "start_time": "2022-09-11T09:17:13.294Z"
   },
   {
    "duration": 0,
    "start_time": "2022-09-11T09:17:13.295Z"
   },
   {
    "duration": 0,
    "start_time": "2022-09-11T09:17:13.296Z"
   },
   {
    "duration": 0,
    "start_time": "2022-09-11T09:17:13.297Z"
   },
   {
    "duration": 0,
    "start_time": "2022-09-11T09:17:13.298Z"
   },
   {
    "duration": 0,
    "start_time": "2022-09-11T09:17:13.309Z"
   },
   {
    "duration": 0,
    "start_time": "2022-09-11T09:17:13.309Z"
   },
   {
    "duration": 0,
    "start_time": "2022-09-11T09:17:13.311Z"
   },
   {
    "duration": 0,
    "start_time": "2022-09-11T09:17:13.311Z"
   },
   {
    "duration": 0,
    "start_time": "2022-09-11T09:17:13.312Z"
   },
   {
    "duration": 0,
    "start_time": "2022-09-11T09:17:13.313Z"
   },
   {
    "duration": 0,
    "start_time": "2022-09-11T09:17:13.314Z"
   },
   {
    "duration": 140,
    "start_time": "2022-09-11T09:17:15.223Z"
   },
   {
    "duration": 1420,
    "start_time": "2022-09-11T09:23:12.542Z"
   },
   {
    "duration": 877,
    "start_time": "2022-09-11T09:23:13.963Z"
   },
   {
    "duration": 4,
    "start_time": "2022-09-11T09:23:14.841Z"
   },
   {
    "duration": 702,
    "start_time": "2022-09-11T09:23:14.847Z"
   },
   {
    "duration": 199,
    "start_time": "2022-09-11T09:23:15.550Z"
   },
   {
    "duration": 21,
    "start_time": "2022-09-11T09:23:15.750Z"
   },
   {
    "duration": 244,
    "start_time": "2022-09-11T09:23:15.773Z"
   },
   {
    "duration": 230,
    "start_time": "2022-09-11T09:23:16.019Z"
   },
   {
    "duration": 19,
    "start_time": "2022-09-11T09:23:16.251Z"
   },
   {
    "duration": 269,
    "start_time": "2022-09-11T09:23:16.274Z"
   },
   {
    "duration": 21,
    "start_time": "2022-09-11T09:23:16.545Z"
   },
   {
    "duration": 287,
    "start_time": "2022-09-11T09:23:16.567Z"
   },
   {
    "duration": 17,
    "start_time": "2022-09-11T09:23:16.856Z"
   },
   {
    "duration": 224,
    "start_time": "2022-09-11T09:23:16.875Z"
   },
   {
    "duration": 163,
    "start_time": "2022-09-11T09:23:17.100Z"
   },
   {
    "duration": 168,
    "start_time": "2022-09-11T09:23:17.265Z"
   },
   {
    "duration": 156,
    "start_time": "2022-09-11T09:23:17.435Z"
   },
   {
    "duration": 155,
    "start_time": "2022-09-11T09:23:17.592Z"
   },
   {
    "duration": 176,
    "start_time": "2022-09-11T09:23:17.749Z"
   },
   {
    "duration": 118,
    "start_time": "2022-09-11T09:23:17.927Z"
   },
   {
    "duration": 437,
    "start_time": "2022-09-11T09:23:18.046Z"
   },
   {
    "duration": 230,
    "start_time": "2022-09-11T09:23:18.485Z"
   },
   {
    "duration": 31,
    "start_time": "2022-09-11T09:23:18.716Z"
   },
   {
    "duration": 336,
    "start_time": "2022-09-11T09:23:18.749Z"
   },
   {
    "duration": 319,
    "start_time": "2022-09-11T09:23:19.086Z"
   },
   {
    "duration": 246915,
    "start_time": "2022-09-11T09:23:19.406Z"
   },
   {
    "duration": 176603,
    "start_time": "2022-09-11T09:27:26.323Z"
   },
   {
    "duration": 310998,
    "start_time": "2022-09-11T09:30:22.928Z"
   },
   {
    "duration": 560105,
    "start_time": "2022-09-11T09:35:33.928Z"
   },
   {
    "duration": 30793,
    "start_time": "2022-09-11T09:44:54.034Z"
   },
   {
    "duration": 281,
    "start_time": "2022-09-11T09:45:24.828Z"
   },
   {
    "duration": 161,
    "start_time": "2022-09-11T09:45:25.111Z"
   },
   {
    "duration": 70,
    "start_time": "2022-09-11T09:45:25.274Z"
   },
   {
    "duration": 3,
    "start_time": "2022-09-11T09:45:25.346Z"
   },
   {
    "duration": 4659,
    "start_time": "2022-09-11T09:45:25.350Z"
   },
   {
    "duration": 504,
    "start_time": "2022-09-11T09:45:30.011Z"
   },
   {
    "duration": 92,
    "start_time": "2022-09-11T09:45:30.517Z"
   },
   {
    "duration": 680,
    "start_time": "2022-09-11T09:45:30.611Z"
   },
   {
    "duration": 42,
    "start_time": "2022-09-12T06:01:17.709Z"
   },
   {
    "duration": 1537,
    "start_time": "2022-09-12T06:01:30.035Z"
   },
   {
    "duration": 3020,
    "start_time": "2022-09-12T06:01:31.574Z"
   },
   {
    "duration": 4,
    "start_time": "2022-09-12T06:01:34.595Z"
   },
   {
    "duration": 703,
    "start_time": "2022-09-12T06:01:34.600Z"
   },
   {
    "duration": 171,
    "start_time": "2022-09-12T06:01:35.306Z"
   },
   {
    "duration": 18,
    "start_time": "2022-09-12T06:01:35.478Z"
   },
   {
    "duration": 213,
    "start_time": "2022-09-12T06:01:35.498Z"
   },
   {
    "duration": 193,
    "start_time": "2022-09-12T06:01:35.713Z"
   },
   {
    "duration": 17,
    "start_time": "2022-09-12T06:01:35.907Z"
   },
   {
    "duration": 216,
    "start_time": "2022-09-12T06:01:35.925Z"
   },
   {
    "duration": 18,
    "start_time": "2022-09-12T06:01:36.142Z"
   },
   {
    "duration": 239,
    "start_time": "2022-09-12T06:01:36.162Z"
   },
   {
    "duration": 18,
    "start_time": "2022-09-12T06:01:36.403Z"
   },
   {
    "duration": 192,
    "start_time": "2022-09-12T06:01:36.424Z"
   },
   {
    "duration": 167,
    "start_time": "2022-09-12T06:01:36.618Z"
   },
   {
    "duration": 151,
    "start_time": "2022-09-12T06:01:36.787Z"
   },
   {
    "duration": 146,
    "start_time": "2022-09-12T06:01:36.941Z"
   },
   {
    "duration": 143,
    "start_time": "2022-09-12T06:01:37.089Z"
   },
   {
    "duration": 206,
    "start_time": "2022-09-12T06:01:37.234Z"
   },
   {
    "duration": 114,
    "start_time": "2022-09-12T06:01:37.441Z"
   },
   {
    "duration": 401,
    "start_time": "2022-09-12T06:01:37.557Z"
   },
   {
    "duration": 215,
    "start_time": "2022-09-12T06:01:37.959Z"
   },
   {
    "duration": 29,
    "start_time": "2022-09-12T06:01:38.175Z"
   },
   {
    "duration": 420,
    "start_time": "2022-09-12T06:01:38.206Z"
   },
   {
    "duration": 423,
    "start_time": "2022-09-12T06:01:38.627Z"
   },
   {
    "duration": 291512,
    "start_time": "2022-09-12T06:01:39.051Z"
   },
   {
    "duration": 215247,
    "start_time": "2022-09-12T06:06:30.565Z"
   },
   {
    "duration": 361553,
    "start_time": "2022-09-12T06:10:05.814Z"
   },
   {
    "duration": 652871,
    "start_time": "2022-09-12T06:16:07.369Z"
   },
   {
    "duration": 36673,
    "start_time": "2022-09-12T06:27:00.242Z"
   },
   {
    "duration": 320,
    "start_time": "2022-09-12T06:27:36.916Z"
   },
   {
    "duration": 151,
    "start_time": "2022-09-12T06:27:37.237Z"
   },
   {
    "duration": 99,
    "start_time": "2022-09-12T06:27:37.390Z"
   },
   {
    "duration": 4,
    "start_time": "2022-09-12T06:27:37.491Z"
   },
   {
    "duration": 33561,
    "start_time": "2022-09-12T06:27:37.497Z"
   },
   {
    "duration": 507,
    "start_time": "2022-09-12T06:28:11.060Z"
   },
   {
    "duration": 9,
    "start_time": "2022-09-12T06:28:11.568Z"
   },
   {
    "duration": 488,
    "start_time": "2022-09-12T06:28:11.578Z"
   }
  ],
  "kernelspec": {
   "display_name": "Python 3 (ipykernel)",
   "language": "python",
   "name": "python3"
  },
  "language_info": {
   "codemirror_mode": {
    "name": "ipython",
    "version": 3
   },
   "file_extension": ".py",
   "mimetype": "text/x-python",
   "name": "python",
   "nbconvert_exporter": "python",
   "pygments_lexer": "ipython3",
   "version": "3.9.5"
  },
  "toc": {
   "base_numbering": 1,
   "nav_menu": {},
   "number_sections": true,
   "sideBar": true,
   "skip_h1_title": true,
   "title_cell": "Table of Contents",
   "title_sidebar": "Contents",
   "toc_cell": false,
   "toc_position": {
    "height": "calc(100% - 180px)",
    "left": "10px",
    "top": "150px",
    "width": "165px"
   },
   "toc_section_display": true,
   "toc_window_display": true
  }
 },
 "nbformat": 4,
 "nbformat_minor": 2
}
