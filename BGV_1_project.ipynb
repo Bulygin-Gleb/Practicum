{
 "cells": [
  {
   "cell_type": "markdown",
   "metadata": {
    "id": "E0vqbgi9ay0H"
   },
   "source": [
    "# Яндекс.Музыка"
   ]
  },
  {
   "cell_type": "markdown",
   "metadata": {
    "id": "VUC88oWjTJw2"
   },
   "source": [
    "Сравнение Москвы и Петербурга окружено мифами. Например:\n",
    " * Москва — мегаполис, подчинённый жёсткому ритму рабочей недели;\n",
    " * Петербург — культурная столица, со своими вкусами.\n",
    "\n",
    "На данных Яндекс.Музыки вы сравните поведение пользователей двух столиц.\n",
    "\n",
    "**Цель исследования** — проверьте три гипотезы:\n",
    "1. Активность пользователей зависит от дня недели. Причём в Москве и Петербурге это проявляется по-разному.\n",
    "2. В понедельник утром в Москве преобладают одни жанры, а в Петербурге — другие. Так же и вечером пятницы преобладают разные жанры — в зависимости от города. \n",
    "3. Москва и Петербург предпочитают разные жанры музыки. В Москве чаще слушают поп-музыку, в Петербурге — русский рэп.\n",
    "\n",
    "**Ход исследования**\n",
    "\n",
    "Данные о поведении пользователей вы получите из файла `yandex_music_project.csv`. О качестве данных ничего не известно. Поэтому перед проверкой гипотез понадобится обзор данных. \n",
    "\n",
    "Вы проверите данные на ошибки и оцените их влияние на исследование. Затем, на этапе предобработки вы поищете возможность исправить самые критичные ошибки данных.\n",
    " \n",
    "Таким образом, исследование пройдёт в три этапа:\n",
    " 1. Обзор данных.\n",
    " 2. Предобработка данных.\n",
    " 3. Проверка гипотез.\n",
    "\n"
   ]
  },
  {
   "cell_type": "markdown",
   "metadata": {
    "id": "Ml1hmfXC_Zcs"
   },
   "source": [
    "## Обзор данных\n",
    "\n",
    "Составьте первое представление о данных Яндекс.Музыки.\n",
    "\n",
    "\n"
   ]
  },
  {
   "cell_type": "markdown",
   "metadata": {
    "id": "57eAOGIz_Zcs"
   },
   "source": [
    "Основной инструмент аналитика — `pandas`. Импортируйте эту библиотеку."
   ]
  },
  {
   "cell_type": "code",
   "execution_count": 1,
   "metadata": {
    "id": "AXN7PHPN_Zcs"
   },
   "outputs": [],
   "source": [
    "import pandas as pd # импорт библиотеки pandas"
   ]
  },
  {
   "cell_type": "markdown",
   "metadata": {
    "id": "SG23P8tt_Zcs"
   },
   "source": [
    "Прочитайте файл `yandex_music_project.csv` из папки `/datasets` и сохраните его в переменной `df`:"
   ]
  },
  {
   "cell_type": "code",
   "execution_count": 2,
   "metadata": {
    "id": "fFVu7vqh_Zct"
   },
   "outputs": [],
   "source": [
    "df=pd.read_csv('/datasets/yandex_music_project.csv')# чтение файла с данными и сохранение в df"
   ]
  },
  {
   "cell_type": "markdown",
   "metadata": {
    "id": "rDoOMd3uTqnZ"
   },
   "source": [
    "Выведите на экран первые десять строк таблицы:"
   ]
  },
  {
   "cell_type": "code",
   "execution_count": 3,
   "metadata": {
    "id": "oWTVX3gW_Zct"
   },
   "outputs": [
    {
     "data": {
      "text/html": [
       "<div>\n",
       "<style scoped>\n",
       "    .dataframe tbody tr th:only-of-type {\n",
       "        vertical-align: middle;\n",
       "    }\n",
       "\n",
       "    .dataframe tbody tr th {\n",
       "        vertical-align: top;\n",
       "    }\n",
       "\n",
       "    .dataframe thead th {\n",
       "        text-align: right;\n",
       "    }\n",
       "</style>\n",
       "<table border=\"1\" class=\"dataframe\">\n",
       "  <thead>\n",
       "    <tr style=\"text-align: right;\">\n",
       "      <th></th>\n",
       "      <th>userID</th>\n",
       "      <th>Track</th>\n",
       "      <th>artist</th>\n",
       "      <th>genre</th>\n",
       "      <th>City</th>\n",
       "      <th>time</th>\n",
       "      <th>Day</th>\n",
       "    </tr>\n",
       "  </thead>\n",
       "  <tbody>\n",
       "    <tr>\n",
       "      <th>0</th>\n",
       "      <td>FFB692EC</td>\n",
       "      <td>Kamigata To Boots</td>\n",
       "      <td>The Mass Missile</td>\n",
       "      <td>rock</td>\n",
       "      <td>Saint-Petersburg</td>\n",
       "      <td>20:28:33</td>\n",
       "      <td>Wednesday</td>\n",
       "    </tr>\n",
       "    <tr>\n",
       "      <th>1</th>\n",
       "      <td>55204538</td>\n",
       "      <td>Delayed Because of Accident</td>\n",
       "      <td>Andreas Rönnberg</td>\n",
       "      <td>rock</td>\n",
       "      <td>Moscow</td>\n",
       "      <td>14:07:09</td>\n",
       "      <td>Friday</td>\n",
       "    </tr>\n",
       "    <tr>\n",
       "      <th>2</th>\n",
       "      <td>20EC38</td>\n",
       "      <td>Funiculì funiculà</td>\n",
       "      <td>Mario Lanza</td>\n",
       "      <td>pop</td>\n",
       "      <td>Saint-Petersburg</td>\n",
       "      <td>20:58:07</td>\n",
       "      <td>Wednesday</td>\n",
       "    </tr>\n",
       "    <tr>\n",
       "      <th>3</th>\n",
       "      <td>A3DD03C9</td>\n",
       "      <td>Dragons in the Sunset</td>\n",
       "      <td>Fire + Ice</td>\n",
       "      <td>folk</td>\n",
       "      <td>Saint-Petersburg</td>\n",
       "      <td>08:37:09</td>\n",
       "      <td>Monday</td>\n",
       "    </tr>\n",
       "    <tr>\n",
       "      <th>4</th>\n",
       "      <td>E2DC1FAE</td>\n",
       "      <td>Soul People</td>\n",
       "      <td>Space Echo</td>\n",
       "      <td>dance</td>\n",
       "      <td>Moscow</td>\n",
       "      <td>08:34:34</td>\n",
       "      <td>Monday</td>\n",
       "    </tr>\n",
       "    <tr>\n",
       "      <th>5</th>\n",
       "      <td>842029A1</td>\n",
       "      <td>Преданная</td>\n",
       "      <td>IMPERVTOR</td>\n",
       "      <td>rusrap</td>\n",
       "      <td>Saint-Petersburg</td>\n",
       "      <td>13:09:41</td>\n",
       "      <td>Friday</td>\n",
       "    </tr>\n",
       "    <tr>\n",
       "      <th>6</th>\n",
       "      <td>4CB90AA5</td>\n",
       "      <td>True</td>\n",
       "      <td>Roman Messer</td>\n",
       "      <td>dance</td>\n",
       "      <td>Moscow</td>\n",
       "      <td>13:00:07</td>\n",
       "      <td>Wednesday</td>\n",
       "    </tr>\n",
       "    <tr>\n",
       "      <th>7</th>\n",
       "      <td>F03E1C1F</td>\n",
       "      <td>Feeling This Way</td>\n",
       "      <td>Polina Griffith</td>\n",
       "      <td>dance</td>\n",
       "      <td>Moscow</td>\n",
       "      <td>20:47:49</td>\n",
       "      <td>Wednesday</td>\n",
       "    </tr>\n",
       "    <tr>\n",
       "      <th>8</th>\n",
       "      <td>8FA1D3BE</td>\n",
       "      <td>И вновь продолжается бой</td>\n",
       "      <td>NaN</td>\n",
       "      <td>ruspop</td>\n",
       "      <td>Moscow</td>\n",
       "      <td>09:17:40</td>\n",
       "      <td>Friday</td>\n",
       "    </tr>\n",
       "    <tr>\n",
       "      <th>9</th>\n",
       "      <td>E772D5C0</td>\n",
       "      <td>Pessimist</td>\n",
       "      <td>NaN</td>\n",
       "      <td>dance</td>\n",
       "      <td>Saint-Petersburg</td>\n",
       "      <td>21:20:49</td>\n",
       "      <td>Wednesday</td>\n",
       "    </tr>\n",
       "  </tbody>\n",
       "</table>\n",
       "</div>"
      ],
      "text/plain": [
       "     userID                        Track            artist   genre  \\\n",
       "0  FFB692EC            Kamigata To Boots  The Mass Missile    rock   \n",
       "1  55204538  Delayed Because of Accident  Andreas Rönnberg    rock   \n",
       "2    20EC38            Funiculì funiculà       Mario Lanza     pop   \n",
       "3  A3DD03C9        Dragons in the Sunset        Fire + Ice    folk   \n",
       "4  E2DC1FAE                  Soul People        Space Echo   dance   \n",
       "5  842029A1                    Преданная         IMPERVTOR  rusrap   \n",
       "6  4CB90AA5                         True      Roman Messer   dance   \n",
       "7  F03E1C1F             Feeling This Way   Polina Griffith   dance   \n",
       "8  8FA1D3BE     И вновь продолжается бой               NaN  ruspop   \n",
       "9  E772D5C0                    Pessimist               NaN   dance   \n",
       "\n",
       "             City        time        Day  \n",
       "0  Saint-Petersburg  20:28:33  Wednesday  \n",
       "1            Moscow  14:07:09     Friday  \n",
       "2  Saint-Petersburg  20:58:07  Wednesday  \n",
       "3  Saint-Petersburg  08:37:09     Monday  \n",
       "4            Moscow  08:34:34     Monday  \n",
       "5  Saint-Petersburg  13:09:41     Friday  \n",
       "6            Moscow  13:00:07  Wednesday  \n",
       "7            Moscow  20:47:49  Wednesday  \n",
       "8            Moscow  09:17:40     Friday  \n",
       "9  Saint-Petersburg  21:20:49  Wednesday  "
      ]
     },
     "execution_count": 3,
     "metadata": {},
     "output_type": "execute_result"
    }
   ],
   "source": [
    "df.head(10)# получение первых 10 строк таблицы df"
   ]
  },
  {
   "cell_type": "markdown",
   "metadata": {
    "id": "EO73Kwic_Zct"
   },
   "source": [
    "Одной командой получить общую информацию о таблице:"
   ]
  },
  {
   "cell_type": "code",
   "execution_count": 4,
   "metadata": {
    "id": "DSf2kIb-_Zct"
   },
   "outputs": [
    {
     "name": "stdout",
     "output_type": "stream",
     "text": [
      "<class 'pandas.core.frame.DataFrame'>\n",
      "RangeIndex: 65079 entries, 0 to 65078\n",
      "Data columns (total 7 columns):\n",
      " #   Column    Non-Null Count  Dtype \n",
      "---  ------    --------------  ----- \n",
      " 0     userID  65079 non-null  object\n",
      " 1   Track     63848 non-null  object\n",
      " 2   artist    57876 non-null  object\n",
      " 3   genre     63881 non-null  object\n",
      " 4     City    65079 non-null  object\n",
      " 5   time      65079 non-null  object\n",
      " 6   Day       65079 non-null  object\n",
      "dtypes: object(7)\n",
      "memory usage: 3.5+ MB\n"
     ]
    }
   ],
   "source": [
    "df.info()# получение общей информации о данных в таблице df"
   ]
  },
  {
   "cell_type": "markdown",
   "metadata": {
    "id": "TaQ2Iwbr_Zct"
   },
   "source": [
    "Итак, в таблице семь столбцов. Тип данных во всех столбцах — `object`.\n",
    "\n",
    "Согласно документации к данным:\n",
    "* `userID` — идентификатор пользователя;\n",
    "* `Track` — название трека;  \n",
    "* `artist` — имя исполнителя;\n",
    "* `genre` — название жанра;\n",
    "* `City` — город пользователя;\n",
    "* `time` — время начала прослушивания;\n",
    "* `Day` — день недели.\n",
    "\n",
    "В названиях колонок видны три нарушения стиля:\n",
    "1. Строчные буквы сочетаются с прописными.\n",
    "2. Встречаются пробелы.\n",
    "3. Не используется змеиный (_) способ формирование названий перового столбца \n",
    "\n",
    "\n",
    "\n",
    "Количество значений в столбцах различается. Значит, в данных есть пропущенные значения.\n"
   ]
  },
  {
   "cell_type": "markdown",
   "metadata": {
    "id": "MCB6-dXG_Zct"
   },
   "source": [
    "**Выводы**\n",
    "\n",
    "В каждой строке таблицы — данные о прослушанном треке. Часть колонок описывает саму композицию: название, исполнителя и жанр. Остальные данные рассказывают о пользователе: из какого он города, когда он слушал музыку. \n",
    "\n",
    "Предварительно можно утверждать, что, данных достаточно для проверки гипотез. Но встречаются пропуски в данных, а в названиях колонок — расхождения с хорошим стилем.\n",
    "\n",
    "Чтобы двигаться дальше, нужно устранить проблемы в данных."
   ]
  },
  {
   "cell_type": "markdown",
   "metadata": {
    "id": "SjYF6Ub9_Zct"
   },
   "source": [
    "## Предобработка данных\n",
    "Исправьте стиль в заголовках столбцов, исключите пропуски. Затем проверьте данные на дубликаты."
   ]
  },
  {
   "cell_type": "markdown",
   "metadata": {
    "id": "dIaKXr29_Zct"
   },
   "source": [
    "### Стиль заголовков\n",
    "Выведите на экран названия столбцов:"
   ]
  },
  {
   "cell_type": "code",
   "execution_count": 5,
   "metadata": {
    "id": "oKOTdF_Q_Zct"
   },
   "outputs": [
    {
     "data": {
      "text/plain": [
       "Index(['  userID', 'Track', 'artist', 'genre', '  City  ', 'time', 'Day'], dtype='object')"
      ]
     },
     "execution_count": 5,
     "metadata": {},
     "output_type": "execute_result"
    }
   ],
   "source": [
    "df.columns# перечень названий столбцов таблицы df"
   ]
  },
  {
   "cell_type": "markdown",
   "metadata": {
    "id": "zj5534cv_Zct"
   },
   "source": [
    "Приведите названия в соответствие с хорошим стилем:\n",
    "* несколько слов в названии запишите в «змеином_регистре»,\n",
    "* все символы сделайте строчными,\n",
    "* устраните пробелы.\n",
    "\n",
    "Для этого переименуйте колонки так:\n",
    "* `'  userID'` → `'user_id'`;\n",
    "* `'Track'` → `'track'`;\n",
    "* `'  City  '` → `'city'`;\n",
    "* `'Day'` → `'day'`."
   ]
  },
  {
   "cell_type": "code",
   "execution_count": 6,
   "metadata": {
    "id": "ISlFqs5y_Zct"
   },
   "outputs": [],
   "source": [
    "# переименование столбцов\n",
    "\n",
    "df.rename(columns ={'  userID':'user_id','Track':'track','  City  ':'city','Day':'day'}, inplace = True) \n"
   ]
  },
  {
   "cell_type": "markdown",
   "metadata": {
    "id": "1dqbh00J_Zct"
   },
   "source": [
    "Проверьте результат. Для этого ещё раз выведите на экран названия столбцов:"
   ]
  },
  {
   "cell_type": "code",
   "execution_count": 7,
   "metadata": {
    "id": "d4NOAmTW_Zct"
   },
   "outputs": [
    {
     "data": {
      "text/plain": [
       "Index(['user_id', 'track', 'artist', 'genre', 'city', 'time', 'day'], dtype='object')"
      ]
     },
     "execution_count": 7,
     "metadata": {},
     "output_type": "execute_result"
    }
   ],
   "source": [
    "df.columns# проверка результатов - перечень названий столбцов"
   ]
  },
  {
   "cell_type": "markdown",
   "metadata": {
    "id": "5ISfbcfY_Zct"
   },
   "source": [
    "### Пропуски значений\n",
    "Сначала посчитайте, сколько в таблице пропущенных значений. Для этого достаточно двух методов `pandas`:"
   ]
  },
  {
   "cell_type": "code",
   "execution_count": 8,
   "metadata": {
    "id": "RskX29qr_Zct"
   },
   "outputs": [
    {
     "data": {
      "text/plain": [
       "user_id       0\n",
       "track      1231\n",
       "artist     7203\n",
       "genre      1198\n",
       "city          0\n",
       "time          0\n",
       "day           0\n",
       "dtype: int64"
      ]
     },
     "execution_count": 8,
     "metadata": {},
     "output_type": "execute_result"
    }
   ],
   "source": [
    "df.isna().sum()# подсчёт пропусков"
   ]
  },
  {
   "cell_type": "markdown",
   "metadata": {
    "id": "qubhgnlO_Zct"
   },
   "source": [
    "Не все пропущенные значения влияют на исследование. Так в `track` и `artist` пропуски не важны для вашей работы. Достаточно заменить их явными обозначениями.\n",
    "\n",
    "Но пропуски в `genre` могут помешать сравнению музыкальных вкусов в Москве и Санкт-Петербурге. На практике было бы правильно установить причину пропусков и восстановить данные. Такой возможности нет в учебном проекте. Придётся:\n",
    "* заполнить и эти пропуски явными обозначениями,\n",
    "* оценить, насколько они повредят расчётам. "
   ]
  },
  {
   "cell_type": "markdown",
   "metadata": {
    "id": "fSv2laPA_Zct"
   },
   "source": [
    "Замените пропущенные значения в столбцах `track`, `artist` и `genre` на строку `'unknown'`. Для этого создайте список `columns_to_replace`, переберите его элементы циклом `for` и для каждого столбца выполните замену пропущенных значений:"
   ]
  },
  {
   "cell_type": "code",
   "execution_count": 9,
   "metadata": {
    "id": "KplB5qWs_Zct"
   },
   "outputs": [],
   "source": [
    "columns_to_replace=['track','artist','genre']\n",
    "for column in columns_to_replace:\n",
    "    \n",
    "    df[column]=df[column].fillna('unknown')\n",
    "\n",
    "# перебор названий столбцов в цикле и замена пропущенных значений на 'unknown'"
   ]
  },
  {
   "cell_type": "markdown",
   "metadata": {
    "id": "Ilsm-MZo_Zct"
   },
   "source": [
    "Убедитесь, что в таблице не осталось пропусков. Для этого ещё раз посчитайте пропущенные значения."
   ]
  },
  {
   "cell_type": "code",
   "execution_count": 10,
   "metadata": {
    "id": "Tq4nYRX4_Zct"
   },
   "outputs": [
    {
     "data": {
      "text/plain": [
       "user_id    0\n",
       "track      0\n",
       "artist     0\n",
       "genre      0\n",
       "city       0\n",
       "time       0\n",
       "day        0\n",
       "dtype: int64"
      ]
     },
     "execution_count": 10,
     "metadata": {},
     "output_type": "execute_result"
    }
   ],
   "source": [
    "df.isna().sum()# подсчёт пропусков"
   ]
  },
  {
   "cell_type": "markdown",
   "metadata": {
    "id": "BWKRtBJ3_Zct"
   },
   "source": [
    "### Дубликаты\n",
    "Посчитайте явные дубликаты в таблице одной командой:"
   ]
  },
  {
   "cell_type": "code",
   "execution_count": 11,
   "metadata": {
    "id": "36eES_S0_Zct"
   },
   "outputs": [
    {
     "data": {
      "text/plain": [
       "3826"
      ]
     },
     "execution_count": 11,
     "metadata": {},
     "output_type": "execute_result"
    }
   ],
   "source": [
    "df.duplicated().sum()# подсчёт явных дубликатов"
   ]
  },
  {
   "cell_type": "markdown",
   "metadata": {
    "id": "Ot25h6XR_Zct"
   },
   "source": [
    "Вызовите специальный метод `pandas`, чтобы удалить явные дубликаты:"
   ]
  },
  {
   "cell_type": "code",
   "execution_count": 12,
   "metadata": {
    "id": "exFHq6tt_Zct"
   },
   "outputs": [],
   "source": [
    "df = df.drop_duplicates().reset_index(drop=True) # удаление явных дубликатов (с удалением старых индексов и формированием новых)"
   ]
  },
  {
   "cell_type": "markdown",
   "metadata": {
    "id": "Im2YwBEG_Zct"
   },
   "source": [
    "Ещё раз посчитайте явные дубликаты в таблице — убедитесь, что полностью от них избавились:"
   ]
  },
  {
   "cell_type": "code",
   "execution_count": 13,
   "metadata": {
    "id": "-8PuNWQ0_Zct"
   },
   "outputs": [
    {
     "data": {
      "text/plain": [
       "0"
      ]
     },
     "execution_count": 13,
     "metadata": {},
     "output_type": "execute_result"
    }
   ],
   "source": [
    "df.duplicated().sum()# проверка на отсутствие дубликатов"
   ]
  },
  {
   "cell_type": "markdown",
   "metadata": {
    "id": "eSjWwsOh_Zct"
   },
   "source": [
    "Выведите на экран список уникальных названий жанров, отсортированный в алфавитном порядке. Для этого:\n",
    "* извлеките нужный столбец датафрейма, \n",
    "* примените к нему метод сортировки,\n",
    "* для отсортированного столбца вызовите метод, который вернёт уникальные значения из столбца."
   ]
  },
  {
   "cell_type": "code",
   "execution_count": 14,
   "metadata": {
    "id": "JIUcqzZN_Zct"
   },
   "outputs": [
    {
     "data": {
      "text/plain": [
       "array(['acid', 'acoustic', 'action', 'adult', 'africa', 'afrikaans',\n",
       "       'alternative', 'alternativepunk', 'ambient', 'americana',\n",
       "       'animated', 'anime', 'arabesk', 'arabic', 'arena',\n",
       "       'argentinetango', 'art', 'audiobook', 'author', 'avantgarde',\n",
       "       'axé', 'baile', 'balkan', 'beats', 'bigroom', 'black', 'bluegrass',\n",
       "       'blues', 'bollywood', 'bossa', 'brazilian', 'breakbeat', 'breaks',\n",
       "       'broadway', 'cantautori', 'cantopop', 'canzone', 'caribbean',\n",
       "       'caucasian', 'celtic', 'chamber', 'chanson', 'children', 'chill',\n",
       "       'chinese', 'choral', 'christian', 'christmas', 'classical',\n",
       "       'classicmetal', 'club', 'colombian', 'comedy', 'conjazz',\n",
       "       'contemporary', 'country', 'cuban', 'dance', 'dancehall',\n",
       "       'dancepop', 'dark', 'death', 'deep', 'deutschrock', 'deutschspr',\n",
       "       'dirty', 'disco', 'dnb', 'documentary', 'downbeat', 'downtempo',\n",
       "       'drum', 'dub', 'dubstep', 'eastern', 'easy', 'electronic',\n",
       "       'electropop', 'emo', 'entehno', 'epicmetal', 'estrada', 'ethnic',\n",
       "       'eurofolk', 'european', 'experimental', 'extrememetal', 'fado',\n",
       "       'fairytail', 'film', 'fitness', 'flamenco', 'folk', 'folklore',\n",
       "       'folkmetal', 'folkrock', 'folktronica', 'forró', 'frankreich',\n",
       "       'französisch', 'french', 'funk', 'future', 'gangsta', 'garage',\n",
       "       'german', 'ghazal', 'gitarre', 'glitch', 'gospel', 'gothic',\n",
       "       'grime', 'grunge', 'gypsy', 'handsup', \"hard'n'heavy\", 'hardcore',\n",
       "       'hardstyle', 'hardtechno', 'hip', 'hip-hop', 'hiphop',\n",
       "       'historisch', 'holiday', 'hop', 'horror', 'house', 'hymn', 'idm',\n",
       "       'independent', 'indian', 'indie', 'indipop', 'industrial',\n",
       "       'inspirational', 'instrumental', 'international', 'irish', 'jam',\n",
       "       'japanese', 'jazz', 'jewish', 'jpop', 'jungle', 'k-pop',\n",
       "       'karadeniz', 'karaoke', 'kayokyoku', 'korean', 'laiko', 'latin',\n",
       "       'latino', 'leftfield', 'local', 'lounge', 'loungeelectronic',\n",
       "       'lovers', 'malaysian', 'mandopop', 'marschmusik', 'meditative',\n",
       "       'mediterranean', 'melodic', 'metal', 'metalcore', 'mexican',\n",
       "       'middle', 'minimal', 'miscellaneous', 'modern', 'mood', 'mpb',\n",
       "       'muslim', 'native', 'neoklassik', 'neue', 'new', 'newage',\n",
       "       'newwave', 'nu', 'nujazz', 'numetal', 'oceania', 'old', 'opera',\n",
       "       'orchestral', 'other', 'piano', 'podcasts', 'pop', 'popdance',\n",
       "       'popelectronic', 'popeurodance', 'poprussian', 'post',\n",
       "       'posthardcore', 'postrock', 'power', 'progmetal', 'progressive',\n",
       "       'psychedelic', 'punjabi', 'punk', 'quebecois', 'ragga', 'ram',\n",
       "       'rancheras', 'rap', 'rave', 'reggae', 'reggaeton', 'regional',\n",
       "       'relax', 'religious', 'retro', 'rhythm', 'rnb', 'rnr', 'rock',\n",
       "       'rockabilly', 'rockalternative', 'rockindie', 'rockother',\n",
       "       'romance', 'roots', 'ruspop', 'rusrap', 'rusrock', 'russian',\n",
       "       'salsa', 'samba', 'scenic', 'schlager', 'self', 'sertanejo',\n",
       "       'shanson', 'shoegazing', 'showtunes', 'singer', 'ska', 'skarock',\n",
       "       'slow', 'smooth', 'soft', 'soul', 'soulful', 'sound', 'soundtrack',\n",
       "       'southern', 'specialty', 'speech', 'spiritual', 'sport',\n",
       "       'stonerrock', 'surf', 'swing', 'synthpop', 'synthrock',\n",
       "       'sängerportrait', 'tango', 'tanzorchester', 'taraftar', 'tatar',\n",
       "       'tech', 'techno', 'teen', 'thrash', 'top', 'traditional',\n",
       "       'tradjazz', 'trance', 'tribal', 'trip', 'triphop', 'tropical',\n",
       "       'türk', 'türkçe', 'ukrrock', 'unknown', 'urban', 'uzbek',\n",
       "       'variété', 'vi', 'videogame', 'vocal', 'western', 'world',\n",
       "       'worldbeat', 'ïîï', 'электроника'], dtype=object)"
      ]
     },
     "execution_count": 14,
     "metadata": {},
     "output_type": "execute_result"
    }
   ],
   "source": [
    "df['genre'].sort_values().unique()\n",
    "# Просмотр уникальных названий жанров"
   ]
  },
  {
   "cell_type": "markdown",
   "metadata": {
    "id": "qej-Qmuo_Zct"
   },
   "source": [
    "Просмотрите список и найдите неявные дубликаты названия `hiphop`. Это могут быть названия с ошибками или альтернативные названия того же жанра.\n",
    "\n",
    "Вы увидите следующие неявные дубликаты:\n",
    "* *hip*,\n",
    "* *hop*,\n",
    "* *hip-hop*.\n",
    "\n",
    "Чтобы очистить от них таблицу, напишите функцию `replace_wrong_genres()` с двумя параметрами: \n",
    "* `wrong_genres` — список дубликатов,\n",
    "* `correct_genre` — строка с правильным значением.\n",
    "\n",
    "Функция должна исправить колонку `genre` в таблице `df`: заменить каждое значение из списка `wrong_genres` на значение из `correct_genre`."
   ]
  },
  {
   "cell_type": "code",
   "execution_count": 15,
   "metadata": {
    "id": "ErNDkmns_Zct"
   },
   "outputs": [],
   "source": [
    "# Функция для замены неявных дубликатов\n",
    "def replace_wrong_genres(wrong_genres,correct_genre):\n",
    "    for wrong in wrong_genres:\n",
    "        df['genre']= df['genre'].replace(wrong,correct_genre)\n"
   ]
  },
  {
   "cell_type": "markdown",
   "metadata": {
    "id": "aDoBJxbA_Zct"
   },
   "source": [
    "Вызовите `replace_wrong_genres()` и передайте ей такие аргументы, чтобы она устранила неявные дубликаты: вместо `hip`, `hop` и `hip-hop` в таблице должно быть значение `hiphop`:"
   ]
  },
  {
   "cell_type": "code",
   "execution_count": 16,
   "metadata": {
    "id": "YN5i2hpmSo09"
   },
   "outputs": [],
   "source": [
    "replace_wrong_genres(['hip','hop','hip-hop'],'hiphop')\n",
    "# Устранение неявных дубликатов"
   ]
  },
  {
   "cell_type": "markdown",
   "metadata": {
    "id": "zQKF16_RG15m"
   },
   "source": [
    "Проверьте, что заменили неправильные названия:\n",
    "\n",
    "*   hip\n",
    "*   hop\n",
    "*   hip-hop\n",
    "\n",
    "Выведите отсортированный список уникальных значений столбца `genre`:"
   ]
  },
  {
   "cell_type": "code",
   "execution_count": 17,
   "metadata": {
    "id": "wvixALnFG15m"
   },
   "outputs": [
    {
     "data": {
      "text/plain": [
       "array(['acid', 'acoustic', 'action', 'adult', 'africa', 'afrikaans',\n",
       "       'alternative', 'alternativepunk', 'ambient', 'americana',\n",
       "       'animated', 'anime', 'arabesk', 'arabic', 'arena',\n",
       "       'argentinetango', 'art', 'audiobook', 'author', 'avantgarde',\n",
       "       'axé', 'baile', 'balkan', 'beats', 'bigroom', 'black', 'bluegrass',\n",
       "       'blues', 'bollywood', 'bossa', 'brazilian', 'breakbeat', 'breaks',\n",
       "       'broadway', 'cantautori', 'cantopop', 'canzone', 'caribbean',\n",
       "       'caucasian', 'celtic', 'chamber', 'chanson', 'children', 'chill',\n",
       "       'chinese', 'choral', 'christian', 'christmas', 'classical',\n",
       "       'classicmetal', 'club', 'colombian', 'comedy', 'conjazz',\n",
       "       'contemporary', 'country', 'cuban', 'dance', 'dancehall',\n",
       "       'dancepop', 'dark', 'death', 'deep', 'deutschrock', 'deutschspr',\n",
       "       'dirty', 'disco', 'dnb', 'documentary', 'downbeat', 'downtempo',\n",
       "       'drum', 'dub', 'dubstep', 'eastern', 'easy', 'electronic',\n",
       "       'electropop', 'emo', 'entehno', 'epicmetal', 'estrada', 'ethnic',\n",
       "       'eurofolk', 'european', 'experimental', 'extrememetal', 'fado',\n",
       "       'fairytail', 'film', 'fitness', 'flamenco', 'folk', 'folklore',\n",
       "       'folkmetal', 'folkrock', 'folktronica', 'forró', 'frankreich',\n",
       "       'französisch', 'french', 'funk', 'future', 'gangsta', 'garage',\n",
       "       'german', 'ghazal', 'gitarre', 'glitch', 'gospel', 'gothic',\n",
       "       'grime', 'grunge', 'gypsy', 'handsup', \"hard'n'heavy\", 'hardcore',\n",
       "       'hardstyle', 'hardtechno', 'hiphop', 'historisch', 'holiday',\n",
       "       'horror', 'house', 'hymn', 'idm', 'independent', 'indian', 'indie',\n",
       "       'indipop', 'industrial', 'inspirational', 'instrumental',\n",
       "       'international', 'irish', 'jam', 'japanese', 'jazz', 'jewish',\n",
       "       'jpop', 'jungle', 'k-pop', 'karadeniz', 'karaoke', 'kayokyoku',\n",
       "       'korean', 'laiko', 'latin', 'latino', 'leftfield', 'local',\n",
       "       'lounge', 'loungeelectronic', 'lovers', 'malaysian', 'mandopop',\n",
       "       'marschmusik', 'meditative', 'mediterranean', 'melodic', 'metal',\n",
       "       'metalcore', 'mexican', 'middle', 'minimal', 'miscellaneous',\n",
       "       'modern', 'mood', 'mpb', 'muslim', 'native', 'neoklassik', 'neue',\n",
       "       'new', 'newage', 'newwave', 'nu', 'nujazz', 'numetal', 'oceania',\n",
       "       'old', 'opera', 'orchestral', 'other', 'piano', 'podcasts', 'pop',\n",
       "       'popdance', 'popelectronic', 'popeurodance', 'poprussian', 'post',\n",
       "       'posthardcore', 'postrock', 'power', 'progmetal', 'progressive',\n",
       "       'psychedelic', 'punjabi', 'punk', 'quebecois', 'ragga', 'ram',\n",
       "       'rancheras', 'rap', 'rave', 'reggae', 'reggaeton', 'regional',\n",
       "       'relax', 'religious', 'retro', 'rhythm', 'rnb', 'rnr', 'rock',\n",
       "       'rockabilly', 'rockalternative', 'rockindie', 'rockother',\n",
       "       'romance', 'roots', 'ruspop', 'rusrap', 'rusrock', 'russian',\n",
       "       'salsa', 'samba', 'scenic', 'schlager', 'self', 'sertanejo',\n",
       "       'shanson', 'shoegazing', 'showtunes', 'singer', 'ska', 'skarock',\n",
       "       'slow', 'smooth', 'soft', 'soul', 'soulful', 'sound', 'soundtrack',\n",
       "       'southern', 'specialty', 'speech', 'spiritual', 'sport',\n",
       "       'stonerrock', 'surf', 'swing', 'synthpop', 'synthrock',\n",
       "       'sängerportrait', 'tango', 'tanzorchester', 'taraftar', 'tatar',\n",
       "       'tech', 'techno', 'teen', 'thrash', 'top', 'traditional',\n",
       "       'tradjazz', 'trance', 'tribal', 'trip', 'triphop', 'tropical',\n",
       "       'türk', 'türkçe', 'ukrrock', 'unknown', 'urban', 'uzbek',\n",
       "       'variété', 'vi', 'videogame', 'vocal', 'western', 'world',\n",
       "       'worldbeat', 'ïîï', 'электроника'], dtype=object)"
      ]
     },
     "execution_count": 17,
     "metadata": {},
     "output_type": "execute_result"
    }
   ],
   "source": [
    "df.sort_values(by=['genre'], inplace=True)\n",
    "df['genre'].unique()# Проверка на неявные дубликаты"
   ]
  },
  {
   "cell_type": "markdown",
   "metadata": {
    "id": "jz6a9-7HQUDd"
   },
   "source": [
    "**Выводы**\n",
    "\n",
    "Предобработка обнаружила три проблемы в данных:\n",
    "\n",
    "- нарушения в стиле заголовков,\n",
    "- пропущенные значения,\n",
    "- дубликаты — явные и неявные.\n",
    "\n",
    "Вы исправили заголовки, чтобы упростить работу с таблицей. Без дубликатов исследование станет более точным.\n",
    "\n",
    "Пропущенные значения вы заменили на `'unknown'`. Ещё предстоит увидеть, не повредят ли исследованию пропуски в колонке `genre`.\n",
    "\n",
    "Теперь можно перейти к проверке гипотез. "
   ]
  },
  {
   "cell_type": "markdown",
   "metadata": {
    "id": "WttZHXH0SqKk"
   },
   "source": [
    "## Проверка гипотез"
   ]
  },
  {
   "cell_type": "markdown",
   "metadata": {
    "id": "Im936VVi_Zcu"
   },
   "source": [
    "### Сравнение поведения пользователей двух столиц"
   ]
  },
  {
   "cell_type": "markdown",
   "metadata": {
    "id": "nwt_MuaL_Zcu"
   },
   "source": [
    "Первая гипотеза утверждает, что пользователи по-разному слушают музыку в Москве и Санкт-Петербурге. Проверьте это предположение по данным о трёх днях недели — понедельнике, среде и пятнице. Для этого:\n",
    "\n",
    "* Разделите пользователей Москвы и Санкт-Петербурга\n",
    "* Сравните, сколько треков послушала каждая группа пользователей в понедельник, среду и пятницу.\n"
   ]
  },
  {
   "cell_type": "markdown",
   "metadata": {
    "id": "8Dw_YMmT_Zcu"
   },
   "source": [
    "Для тренировки сначала выполните каждый из расчётов по отдельности. \n",
    "\n",
    "Оцените активность пользователей в каждом городе. Сгруппируйте данные по городу и посчитайте прослушивания в каждой группе.\n",
    "\n"
   ]
  },
  {
   "cell_type": "code",
   "execution_count": 18,
   "metadata": {
    "id": "0_Qs96oh_Zcu"
   },
   "outputs": [
    {
     "data": {
      "text/plain": [
       "city\n",
       "Moscow              42741\n",
       "Saint-Petersburg    18512\n",
       "Name: track, dtype: int64"
      ]
     },
     "execution_count": 18,
     "metadata": {},
     "output_type": "execute_result"
    }
   ],
   "source": [
    "\n",
    "df.groupby(['city'])['track'].count() # Подсчёт прослушиваний в каждом городе"
   ]
  },
  {
   "cell_type": "markdown",
   "metadata": {
    "id": "dzli3w8o_Zcu"
   },
   "source": [
    "В Москве прослушиваний больше, чем в Петербурге. Из этого не следует, что московские пользователи чаще слушают музыку. Просто самих пользователей в Москве больше.\n",
    "\n",
    "Теперь сгруппируйте данные по дню недели и подсчитайте прослушивания в понедельник, среду и пятницу. Учтите, что в данных есть информация только о прослушиваниях только за эти дни.\n"
   ]
  },
  {
   "cell_type": "code",
   "execution_count": 45,
   "metadata": {
    "id": "uZMKjiJz_Zcu"
   },
   "outputs": [
    {
     "data": {
      "text/plain": [
       "day\n",
       "Friday       21840\n",
       "Monday       21354\n",
       "Wednesday    18059\n",
       "Name: track, dtype: int64"
      ]
     },
     "execution_count": 45,
     "metadata": {},
     "output_type": "execute_result"
    }
   ],
   "source": [
    "\n",
    "df.groupby(['day'])['track'].count() # Подсчёт прослушиваний в каждый из трёх дней"
   ]
  },
  {
   "cell_type": "markdown",
   "metadata": {
    "id": "cC2tNrlL_Zcu"
   },
   "source": [
    "В среднем пользователи из двух городов менее активны по средам. Но картина может измениться, если рассмотреть каждый город в отдельности."
   ]
  },
  {
   "cell_type": "markdown",
   "metadata": {
    "id": "POzs8bGa_Zcu"
   },
   "source": [
    "Вы видели, как работает группировка по городу и по дням недели. Теперь напишите функцию, которая объединит два эти расчёта.\n",
    "\n",
    "Создайте функцию `number_tracks()`, которая посчитает прослушивания для заданного дня и города. Ей понадобятся два параметра:\n",
    "* день недели,\n",
    "* название города.\n",
    "\n",
    "В функции сохраните в переменную строки исходной таблицы, у которых значение:\n",
    "  * в колонке `day` равно параметру `day`,\n",
    "  * в колонке `city` равно параметру `city`.\n",
    "\n",
    "Для этого примените последовательную фильтрацию с логической индексацией.\n",
    "\n",
    "Затем посчитайте значения в столбце `user_id` получившейся таблицы. Результат сохраните в новую переменную. Верните эту переменную из функции."
   ]
  },
  {
   "cell_type": "code",
   "execution_count": 20,
   "metadata": {
    "id": "Nz3GdQB1_Zcu"
   },
   "outputs": [],
   "source": [
    "# Функция для подсчёта прослушиваний для конкретного города и дня.\n",
    "# С помощью последовательной фильтрации с логической индексацией она \n",
    "# сначала получит из исходной таблицы строки с нужным днём,\n",
    "# затем из результата отфильтрует строки с нужным городом,\n",
    "# методом count() посчитает количество значений в колонке user_id. \n",
    "# Это количество функция вернёт в качестве результата\n",
    "def  number_tracks(day,city):\n",
    "     # В переменной track_list сохраняются те строки таблицы df, для которых\n",
    "    track_list = df[df['day']==day]# значение в столбце 'day' равно параметру day и одновременно значение\n",
    "    track_list =  track_list[ track_list['city']==city]# в столбце 'city' равно параметру city (используйте последовательную фильтрацию с помощью логической индексации).\n",
    "    track_list_count=track_list['user_id'].count() # В переменной track_list_count сохраняется число значений столбца 'user_id',\n",
    "    return track_list_count# Функция возвращает число - значение track_list_count.\n",
    "\n",
    "\n"
   ]
  },
  {
   "cell_type": "markdown",
   "metadata": {
    "id": "ytf7xFrFJQ2r"
   },
   "source": [
    "Вызовите `number_tracks()` шесть раз, меняя значение параметров — так, чтобы получить данные для каждого города в каждый из трёх дней."
   ]
  },
  {
   "cell_type": "code",
   "execution_count": 21,
   "metadata": {
    "id": "rJcRATNQ_Zcu"
   },
   "outputs": [
    {
     "data": {
      "text/plain": [
       "15740"
      ]
     },
     "execution_count": 21,
     "metadata": {},
     "output_type": "execute_result"
    }
   ],
   "source": [
    "number_tracks('Monday','Moscow')# количество прослушиваний в Москве по понедельникам"
   ]
  },
  {
   "cell_type": "code",
   "execution_count": 22,
   "metadata": {
    "id": "hq_ncZ5T_Zcu"
   },
   "outputs": [
    {
     "data": {
      "text/plain": [
       "5614"
      ]
     },
     "execution_count": 22,
     "metadata": {},
     "output_type": "execute_result"
    }
   ],
   "source": [
    "number_tracks('Monday','Saint-Petersburg')# количество прослушиваний в Санкт-Петербурге по понедельникам"
   ]
  },
  {
   "cell_type": "code",
   "execution_count": 23,
   "metadata": {
    "id": "_NTy2VPU_Zcu"
   },
   "outputs": [
    {
     "data": {
      "text/plain": [
       "11056"
      ]
     },
     "execution_count": 23,
     "metadata": {},
     "output_type": "execute_result"
    }
   ],
   "source": [
    " number_tracks('Wednesday','Moscow') # количество прослушиваний в Москве по средам"
   ]
  },
  {
   "cell_type": "code",
   "execution_count": 24,
   "metadata": {
    "id": "j2y3TAwo_Zcu"
   },
   "outputs": [
    {
     "data": {
      "text/plain": [
       "7003"
      ]
     },
     "execution_count": 24,
     "metadata": {},
     "output_type": "execute_result"
    }
   ],
   "source": [
    "number_tracks('Wednesday','Saint-Petersburg')# количество прослушиваний в Санкт-Петербурге по средам"
   ]
  },
  {
   "cell_type": "code",
   "execution_count": 25,
   "metadata": {
    "id": "vYDw5u_K_Zcu"
   },
   "outputs": [
    {
     "data": {
      "text/plain": [
       "15945"
      ]
     },
     "execution_count": 25,
     "metadata": {},
     "output_type": "execute_result"
    }
   ],
   "source": [
    " number_tracks('Friday','Moscow')# количество прослушиваний в Москве по пятницам Friday"
   ]
  },
  {
   "cell_type": "code",
   "execution_count": 26,
   "metadata": {
    "id": "8_yzFtW3_Zcu"
   },
   "outputs": [
    {
     "data": {
      "text/plain": [
       "5895"
      ]
     },
     "execution_count": 26,
     "metadata": {},
     "output_type": "execute_result"
    }
   ],
   "source": [
    "number_tracks('Friday','Saint-Petersburg')# количество прослушиваний в Санкт-Петербурге по пятницам"
   ]
  },
  {
   "cell_type": "markdown",
   "metadata": {
    "id": "7QXffbO-_Zcu"
   },
   "source": [
    "Создайте c помощью конструктора `pd.DataFrame` таблицу, где\n",
    "* названия колонок — `['city', 'monday', 'wednesday', 'friday']`;\n",
    "* данные — результаты, которые вы получили с помощью `number_tracks`."
   ]
  },
  {
   "cell_type": "code",
   "execution_count": 39,
   "metadata": {
    "id": "APAcLpOr_Zcu"
   },
   "outputs": [],
   "source": [
    "# Таблица с результатами\n",
    "df_3_1 = pd.DataFrame({'city': [ 'monday', 'wednesday', 'friday'],\n",
    "                   'Moscow': [15740,11056,15945],\n",
    "                   'Saint-Petersburg':[5614,7003,5895] })"
   ]
  },
  {
   "cell_type": "markdown",
   "metadata": {
    "id": "-EgPIHYu_Zcu"
   },
   "source": [
    "**Выводы**\n",
    "\n",
    "Данные показывают разницу поведения пользователей:\n",
    "\n",
    "- В Москве пик прослушиваний приходится на понедельник и пятницу, а в среду заметен спад.\n",
    "- В Петербурге, наоборот, больше слушают музыку по средам. Активность в понедельник и пятницу здесь почти в равной мере уступает среде.\n",
    "\n",
    "Значит, данные говорят в пользу первой гипотезы."
   ]
  },
  {
   "cell_type": "markdown",
   "metadata": {
    "id": "atZAxtq4_Zcu"
   },
   "source": [
    "### Музыка в начале и в конце недели"
   ]
  },
  {
   "cell_type": "markdown",
   "metadata": {
    "id": "eXrQqXFH_Zcu"
   },
   "source": [
    "Согласно второй гипотезе, утром в понедельник в Москве преобладают одни жанры, а в Петербурге — другие. Так же и вечером пятницы преобладают разные жанры — в зависимости от города."
   ]
  },
  {
   "cell_type": "markdown",
   "metadata": {
    "id": "S8UcW6Hw_Zcu"
   },
   "source": [
    "Сохраните таблицы с данными в две переменные:\n",
    "* по Москве — в `moscow_general`;\n",
    "* по Санкт-Петербургу — в `spb_general`."
   ]
  },
  {
   "cell_type": "code",
   "execution_count": 40,
   "metadata": {
    "id": "qeaFfM_P_Zcu"
   },
   "outputs": [],
   "source": [
    "# получение таблицы moscow_general из тех строк таблицы df, \n",
    "# для которых значение в столбце 'city' равно 'Moscow'\n",
    "\n",
    "moscow_general=df[df['city']=='Moscow']"
   ]
  },
  {
   "cell_type": "code",
   "execution_count": 41,
   "metadata": {
    "id": "ORaVRKto_Zcu"
   },
   "outputs": [],
   "source": [
    "# получение таблицы spb_general из тех строк таблицы df,\n",
    "# для которых значение в столбце 'city' равно 'Saint-Petersburg'\n",
    "spb_general=df[df['city']=='Saint-Petersburg']"
   ]
  },
  {
   "cell_type": "markdown",
   "metadata": {
    "id": "MEJV-CX2_Zcu"
   },
   "source": [
    "Создайте функцию `genre_weekday()` с четырьмя параметрами:\n",
    "* таблица (датафрейм) с данными,\n",
    "* день недели,\n",
    "* начальная временная метка в формате 'hh:mm', \n",
    "* последняя временная метка в формате 'hh:mm'.\n",
    "\n",
    "Функция должна вернуть информацию о топ-10 жанров тех треков, которые прослушивали в указанный день, в промежутке между двумя отметками времени."
   ]
  },
  {
   "cell_type": "code",
   "execution_count": 42,
   "metadata": {
    "id": "laJT9BYl_Zcu"
   },
   "outputs": [],
   "source": [
    "# Объявление функции genre_weekday() с параметрами table, day, time1, time2,\n",
    "# которая возвращает информацию о самых популярных жанрах в указанный день в\n",
    "# заданное время:\n",
    "def genre_weekday(table, day, time1, time2):\n",
    "    genre_df=table[table['day']==day]\n",
    "    genre_df=genre_df[genre_df['time']>time1]\n",
    "    genre_df=genre_df[genre_df['time']<time2]\n",
    "    genre_df_count=genre_df.groupby(['genre'])['user_id'].count().sort_values(ascending= False).head(10)\n",
    "   \n",
    " \n",
    "    return genre_df_count\n",
    "\n",
    "\n",
    "\n",
    "# 1) в переменную genre_df сохраняются те строки переданного датафрейма table, для\n",
    "#    которых одновременно:\n",
    "#    - значение в столбце day равно значению аргумента day\n",
    "#    - значение в столбце time больше значения аргумента time1\n",
    "#    - значение в столбце time меньше значения аргумента time2\n",
    "#    Используйте последовательную фильтрацию с помощью логической индексации.\n",
    "# 2) сгруппировать датафрейм genre_df по столбцу genre, взять один из его\n",
    "#    столбцов и посчитать методом count() количество записей для каждого из\n",
    "#    присутствующих жанров, получившийся Series записать в переменную\n",
    "#    genre_df_count\n",
    "# 3) отсортировать genre_df_count по убыванию встречаемости и сохранить\n",
    "#    в переменную genre_df_sorted\n",
    "# 4) вернуть Series из 10 первых значений genre_df_sorted, это будут топ-10\n",
    "#    популярных жанров (в указанный день, в заданное время)"
   ]
  },
  {
   "cell_type": "markdown",
   "metadata": {
    "id": "la2s2_PF_Zcu"
   },
   "source": [
    "Cравните результаты функции `genre_weekday()` для Москвы и Санкт-Петербурга в понедельник утром (с 7:00 до 11:00) и в пятницу вечером (с 17:00 до 23:00):"
   ]
  },
  {
   "cell_type": "code",
   "execution_count": 31,
   "metadata": {
    "id": "yz7itPUQ_Zcu",
    "scrolled": true
   },
   "outputs": [
    {
     "data": {
      "text/plain": [
       "genre\n",
       "pop            781\n",
       "dance          549\n",
       "electronic     480\n",
       "rock           474\n",
       "hiphop         286\n",
       "ruspop         186\n",
       "world          181\n",
       "rusrap         175\n",
       "alternative    164\n",
       "unknown        161\n",
       "Name: user_id, dtype: int64"
      ]
     },
     "execution_count": 31,
     "metadata": {},
     "output_type": "execute_result"
    }
   ],
   "source": [
    "# вызов функции для утра понедельника в Москве (вместо df — таблица moscow_general)\n",
    "# объекты, хранящие время, являются строками и сравниваются как строки\n",
    "# пример вызова: \n",
    "genre_weekday(moscow_general, 'Monday', '07:00', '11:00')"
   ]
  },
  {
   "cell_type": "code",
   "execution_count": 32,
   "metadata": {
    "id": "kwUcHPdy_Zcu"
   },
   "outputs": [
    {
     "data": {
      "text/plain": [
       "genre\n",
       "pop            218\n",
       "dance          182\n",
       "rock           162\n",
       "electronic     147\n",
       "hiphop          80\n",
       "ruspop          64\n",
       "alternative     58\n",
       "rusrap          55\n",
       "jazz            44\n",
       "classical       40\n",
       "Name: user_id, dtype: int64"
      ]
     },
     "execution_count": 32,
     "metadata": {},
     "output_type": "execute_result"
    }
   ],
   "source": [
    "genre_weekday(spb_general, 'Monday', '07:00', '11:00')# вызов функции для утра понедельника в Петербурге (вместо df — таблица spb_general)"
   ]
  },
  {
   "cell_type": "code",
   "execution_count": 43,
   "metadata": {
    "id": "EzXVRE1o_Zcu"
   },
   "outputs": [
    {
     "data": {
      "text/plain": [
       "genre\n",
       "pop            713\n",
       "rock           517\n",
       "dance          495\n",
       "electronic     482\n",
       "hiphop         273\n",
       "world          208\n",
       "ruspop         170\n",
       "alternative    163\n",
       "classical      163\n",
       "rusrap         142\n",
       "Name: user_id, dtype: int64"
      ]
     },
     "execution_count": 43,
     "metadata": {},
     "output_type": "execute_result"
    }
   ],
   "source": [
    "genre_weekday(moscow_general, 'Friday', '17:00', '23:00')# вызов функции для вечера пятницы в Москве"
   ]
  },
  {
   "cell_type": "code",
   "execution_count": 44,
   "metadata": {
    "id": "JZaEKu5v_Zcu"
   },
   "outputs": [
    {
     "data": {
      "text/plain": [
       "genre\n",
       "pop            256\n",
       "electronic     216\n",
       "rock           216\n",
       "dance          210\n",
       "hiphop          97\n",
       "alternative     63\n",
       "jazz            61\n",
       "classical       60\n",
       "rusrap          59\n",
       "world           54\n",
       "Name: user_id, dtype: int64"
      ]
     },
     "execution_count": 44,
     "metadata": {},
     "output_type": "execute_result"
    }
   ],
   "source": [
    "genre_weekday(spb_general, 'Friday', '17:00', '23:00')# вызов функции для вечера пятницы в Петербурге"
   ]
  },
  {
   "cell_type": "markdown",
   "metadata": {
    "id": "wrCe4MNX_Zcu"
   },
   "source": [
    "**Выводы**\n",
    "\n",
    "Если сравнить топ-10 жанров в понедельник утром, можно сделать такие выводы:\n",
    "\n",
    "1. В Москве и Петербурге слушают похожую музыку. Единственное отличие — в московский рейтинг вошёл жанр “world”, а в петербургский — джаз и классика.\n",
    "\n",
    "2. В Москве пропущенных значений оказалось так много, что значение `'unknown'` заняло десятое место среди самых популярных жанров. Значит, пропущенные значения занимают существенную долю в данных и угрожают достоверности исследования.\n",
    "\n",
    "Вечер пятницы не меняет эту картину. Некоторые жанры поднимаются немного выше, другие спускаются, но в целом топ-10 остаётся тем же самым.\n",
    "\n",
    "Таким образом, вторая гипотеза подтвердилась лишь частично:\n",
    "* Пользователи слушают похожую музыку в начале недели и в конце.\n",
    "* Разница между Москвой и Петербургом не слишком выражена. В Москве чаще слушают русскую популярную музыку, в Петербурге — джаз.\n",
    "\n",
    "Однако пропуски в данных ставят под сомнение этот результат. В Москве их так много, что рейтинг топ-10 мог бы выглядеть иначе, если бы не утерянные  данные о жанрах."
   ]
  },
  {
   "cell_type": "markdown",
   "metadata": {
    "id": "JolODAqr_Zcu"
   },
   "source": [
    "### Жанровые предпочтения в Москве и Петербурге\n",
    "\n",
    "Гипотеза: Петербург — столица рэпа, музыку этого жанра там слушают чаще, чем в Москве.  А Москва — город контрастов, в котором, тем не менее, преобладает поп-музыка."
   ]
  },
  {
   "cell_type": "markdown",
   "metadata": {
    "id": "DlegSvaT_Zcu"
   },
   "source": [
    "Сгруппируйте таблицу `moscow_general` по жанру и посчитайте прослушивания треков каждого жанра методом `count()`. Затем отсортируйте результат в порядке убывания и сохраните его в таблице `moscow_genres`."
   ]
  },
  {
   "cell_type": "code",
   "execution_count": 35,
   "metadata": {
    "id": "r19lIPke_Zcu"
   },
   "outputs": [],
   "source": [
    "# одной строкой: группировка таблицы moscow_general по столбцу 'genre', \n",
    "# подсчёт числа значений 'genre' в этой группировке методом count(), \n",
    "# сортировка получившегося Series в порядке убывания и сохранение в moscow_genres\n",
    "moscow_genres=moscow_general.groupby(['genre'])['genre'].count().sort_values(ascending=False)"
   ]
  },
  {
   "cell_type": "markdown",
   "metadata": {
    "id": "6kMuomxTiIr8"
   },
   "source": [
    "Выведите на экран первые десять строк `moscow_genres`:"
   ]
  },
  {
   "cell_type": "code",
   "execution_count": 36,
   "metadata": {
    "id": "WhCSooF8_Zcv"
   },
   "outputs": [
    {
     "data": {
      "text/plain": [
       "genre\n",
       "pop            5892\n",
       "dance          4435\n",
       "rock           3965\n",
       "electronic     3786\n",
       "hiphop         2096\n",
       "classical      1616\n",
       "world          1432\n",
       "alternative    1379\n",
       "ruspop         1372\n",
       "rusrap         1161\n",
       "Name: genre, dtype: int64"
      ]
     },
     "execution_count": 36,
     "metadata": {},
     "output_type": "execute_result"
    }
   ],
   "source": [
    "moscow_genres.head(10)# просмотр первых 10 строк moscow_genres"
   ]
  },
  {
   "cell_type": "markdown",
   "metadata": {
    "id": "cnPG2vnN_Zcv"
   },
   "source": [
    "Теперь повторите то же и для Петербурга.\n",
    "\n",
    "Сгруппируйте таблицу `spb_general` по жанру. Посчитайте прослушивания треков каждого жанра. Результат отсортируйте в порядке убывания и сохраните в таблице `spb_genres`:\n"
   ]
  },
  {
   "cell_type": "code",
   "execution_count": 37,
   "metadata": {
    "id": "gluLIpE7_Zcv"
   },
   "outputs": [],
   "source": [
    "# одной строкой: группировка таблицы spb_general по столбцу 'genre', \n",
    "# подсчёт числа значений 'genre' в этой группировке методом count(), \n",
    "# сортировка получившегося Series в порядке убывания и сохранение в spb_genres\n",
    "spb_genres=spb_general.groupby(['genre'])['genre'].count().sort_values(ascending=False)"
   ]
  },
  {
   "cell_type": "markdown",
   "metadata": {
    "id": "5Doha_ODgyQ8"
   },
   "source": [
    "Выведите на экран первые десять строк `spb_genres`:"
   ]
  },
  {
   "cell_type": "code",
   "execution_count": 38,
   "metadata": {
    "id": "uaGJHjVU_Zcv"
   },
   "outputs": [
    {
     "data": {
      "text/plain": [
       "genre\n",
       "pop            2431\n",
       "dance          1932\n",
       "rock           1879\n",
       "electronic     1736\n",
       "hiphop          960\n",
       "alternative     649\n",
       "classical       646\n",
       "rusrap          564\n",
       "ruspop          538\n",
       "world           515\n",
       "Name: genre, dtype: int64"
      ]
     },
     "execution_count": 38,
     "metadata": {},
     "output_type": "execute_result"
    }
   ],
   "source": [
    "spb_genres.head(10)# просмотр первых 10 строк spb_genres"
   ]
  },
  {
   "cell_type": "markdown",
   "metadata": {
    "id": "RY51YJYu_Zcv"
   },
   "source": [
    "**Выводы**"
   ]
  },
  {
   "cell_type": "markdown",
   "metadata": {
    "id": "nVhnJEm__Zcv"
   },
   "source": [
    "Гипотеза частично подтвердилась:\n",
    "* Поп-музыка — самый популярный жанр в Москве, как и предполагала гипотеза. Более того, в топ-10 жанров встречается близкий жанр — русская популярная музыка.\n",
    "* Вопреки ожиданиям, рэп одинаково популярен в Москве и Петербурге. \n"
   ]
  },
  {
   "cell_type": "markdown",
   "metadata": {
    "id": "ykKQ0N65_Zcv"
   },
   "source": [
    "## Итоги исследования"
   ]
  },
  {
   "cell_type": "markdown",
   "metadata": {
    "id": "tjUwbHb3_Zcv"
   },
   "source": [
    "Вы проверили три гипотезы и установили:\n",
    "\n",
    "1. День недели по-разному влияет на активность пользователей в Москве и Петербурге. \n",
    "\n",
    "Первая гипотеза полностью подтвердилась.\n",
    "\n",
    "2. Музыкальные предпочтения не сильно меняются в течение недели — будь то Москва или Петербург. Небольшие различия заметны в начале недели, по понедельникам:\n",
    "* в Москве слушают музыку жанра “world”,\n",
    "* в Петербурге — джаз и классику.\n",
    "\n",
    "Таким образом, вторая гипотеза подтвердилась лишь отчасти. Этот результат мог оказаться иным, если бы не пропуски в данных.\n",
    "\n",
    "3. Во вкусах пользователей Москвы и Петербурга больше общего чем различий. Вопреки ожиданиям, предпочтения жанров в Петербурге напоминают московские.\n",
    "\n",
    "Третья гипотеза не подтвердилась. Если различия в предпочтениях и существуют, на основной массе пользователей они незаметны.\n",
    "\n",
    "**На практике исследования содержат проверки статистических гипотез.**\n",
    "Из данных одного сервиса не всегда можно сделать вывод о всех жителях города.\n",
    "Проверки статистических гипотез покажут, насколько они достоверны, исходя из имеющихся данных. \n",
    "С методами проверок гипотез вы ещё познакомитесь в следующих темах."
   ]
  },
  {
   "cell_type": "code",
   "execution_count": null,
   "metadata": {},
   "outputs": [],
   "source": []
  }
 ],
 "metadata": {
  "ExecuteTimeLog": [
   {
    "duration": 761,
    "start_time": "2022-03-13T11:55:58.317Z"
   },
   {
    "duration": 178,
    "start_time": "2022-03-13T11:56:54.684Z"
   },
   {
    "duration": 25,
    "start_time": "2022-03-13T11:57:21.135Z"
   },
   {
    "duration": 33,
    "start_time": "2022-03-13T11:57:46.213Z"
   },
   {
    "duration": 6,
    "start_time": "2022-03-13T12:02:48.194Z"
   },
   {
    "duration": 392,
    "start_time": "2022-03-13T12:21:29.467Z"
   },
   {
    "duration": 103,
    "start_time": "2022-03-13T12:22:03.216Z"
   },
   {
    "duration": 95,
    "start_time": "2022-03-13T12:22:40.536Z"
   },
   {
    "duration": 6,
    "start_time": "2022-03-13T12:23:15.103Z"
   },
   {
    "duration": 93,
    "start_time": "2022-03-13T12:24:00.786Z"
   },
   {
    "duration": 5,
    "start_time": "2022-03-13T12:24:45.086Z"
   },
   {
    "duration": 14,
    "start_time": "2022-03-13T12:25:01.220Z"
   },
   {
    "duration": 5,
    "start_time": "2022-03-13T12:25:10.516Z"
   },
   {
    "duration": 99,
    "start_time": "2022-03-15T07:18:30.311Z"
   },
   {
    "duration": 343,
    "start_time": "2022-03-15T07:18:38.340Z"
   },
   {
    "duration": 280,
    "start_time": "2022-03-15T07:19:18.388Z"
   },
   {
    "duration": 266,
    "start_time": "2022-03-15T07:19:33.638Z"
   },
   {
    "duration": 282,
    "start_time": "2022-03-15T07:19:56.935Z"
   },
   {
    "duration": 285,
    "start_time": "2022-03-15T07:20:08.578Z"
   },
   {
    "duration": 854,
    "start_time": "2022-03-15T07:20:41.062Z"
   },
   {
    "duration": 176,
    "start_time": "2022-03-15T07:20:41.918Z"
   },
   {
    "duration": 28,
    "start_time": "2022-03-15T07:20:42.099Z"
   },
   {
    "duration": 44,
    "start_time": "2022-03-15T07:20:42.129Z"
   },
   {
    "duration": 5,
    "start_time": "2022-03-15T07:20:42.175Z"
   },
   {
    "duration": 13,
    "start_time": "2022-03-15T07:20:42.182Z"
   },
   {
    "duration": 6,
    "start_time": "2022-03-15T07:20:42.198Z"
   },
   {
    "duration": 45,
    "start_time": "2022-03-15T07:20:42.208Z"
   },
   {
    "duration": 96,
    "start_time": "2022-03-15T07:20:42.257Z"
   },
   {
    "duration": -716,
    "start_time": "2022-03-15T07:20:43.073Z"
   },
   {
    "duration": -717,
    "start_time": "2022-03-15T07:20:43.075Z"
   },
   {
    "duration": -718,
    "start_time": "2022-03-15T07:20:43.077Z"
   },
   {
    "duration": -717,
    "start_time": "2022-03-15T07:20:43.078Z"
   },
   {
    "duration": -718,
    "start_time": "2022-03-15T07:20:43.080Z"
   },
   {
    "duration": -722,
    "start_time": "2022-03-15T07:20:43.085Z"
   },
   {
    "duration": -722,
    "start_time": "2022-03-15T07:20:43.087Z"
   },
   {
    "duration": -723,
    "start_time": "2022-03-15T07:20:43.089Z"
   },
   {
    "duration": -724,
    "start_time": "2022-03-15T07:20:43.091Z"
   },
   {
    "duration": -723,
    "start_time": "2022-03-15T07:20:43.092Z"
   },
   {
    "duration": -724,
    "start_time": "2022-03-15T07:20:43.094Z"
   },
   {
    "duration": -725,
    "start_time": "2022-03-15T07:20:43.096Z"
   },
   {
    "duration": -729,
    "start_time": "2022-03-15T07:20:43.101Z"
   },
   {
    "duration": -730,
    "start_time": "2022-03-15T07:20:43.104Z"
   },
   {
    "duration": -731,
    "start_time": "2022-03-15T07:20:43.106Z"
   },
   {
    "duration": -789,
    "start_time": "2022-03-15T07:20:43.165Z"
   },
   {
    "duration": -790,
    "start_time": "2022-03-15T07:20:43.167Z"
   },
   {
    "duration": -791,
    "start_time": "2022-03-15T07:20:43.169Z"
   },
   {
    "duration": -791,
    "start_time": "2022-03-15T07:20:43.171Z"
   },
   {
    "duration": -791,
    "start_time": "2022-03-15T07:20:43.172Z"
   },
   {
    "duration": -791,
    "start_time": "2022-03-15T07:20:43.174Z"
   },
   {
    "duration": -792,
    "start_time": "2022-03-15T07:20:43.176Z"
   },
   {
    "duration": -792,
    "start_time": "2022-03-15T07:20:43.177Z"
   },
   {
    "duration": -799,
    "start_time": "2022-03-15T07:20:43.185Z"
   },
   {
    "duration": -801,
    "start_time": "2022-03-15T07:20:43.189Z"
   },
   {
    "duration": -802,
    "start_time": "2022-03-15T07:20:43.191Z"
   },
   {
    "duration": -805,
    "start_time": "2022-03-15T07:20:43.195Z"
   },
   {
    "duration": -805,
    "start_time": "2022-03-15T07:20:43.197Z"
   },
   {
    "duration": -807,
    "start_time": "2022-03-15T07:20:43.200Z"
   },
   {
    "duration": -807,
    "start_time": "2022-03-15T07:20:43.201Z"
   },
   {
    "duration": 30,
    "start_time": "2022-03-15T07:21:29.032Z"
   },
   {
    "duration": 94,
    "start_time": "2022-03-15T07:21:40.452Z"
   },
   {
    "duration": 86,
    "start_time": "2022-03-15T07:23:40.922Z"
   },
   {
    "duration": 382,
    "start_time": "2022-03-15T07:23:51.511Z"
   },
   {
    "duration": 272,
    "start_time": "2022-03-15T07:25:49.411Z"
   },
   {
    "duration": 268,
    "start_time": "2022-03-15T07:27:36.660Z"
   },
   {
    "duration": 292,
    "start_time": "2022-03-15T07:29:48.028Z"
   },
   {
    "duration": 285,
    "start_time": "2022-03-15T07:30:08.446Z"
   },
   {
    "duration": 5,
    "start_time": "2022-03-15T07:30:32.201Z"
   },
   {
    "duration": 284,
    "start_time": "2022-03-15T07:30:40.057Z"
   },
   {
    "duration": 108,
    "start_time": "2022-03-15T07:31:11.154Z"
   },
   {
    "duration": 25,
    "start_time": "2022-03-15T07:31:17.364Z"
   },
   {
    "duration": 22,
    "start_time": "2022-03-15T07:31:22.380Z"
   },
   {
    "duration": 34,
    "start_time": "2022-03-15T07:31:40.193Z"
   },
   {
    "duration": 84,
    "start_time": "2022-03-15T07:32:33.445Z"
   },
   {
    "duration": 84,
    "start_time": "2022-03-15T07:32:45.250Z"
   },
   {
    "duration": 81,
    "start_time": "2022-03-15T07:39:41.633Z"
   },
   {
    "duration": 3,
    "start_time": "2022-03-15T07:39:43.049Z"
   },
   {
    "duration": 80,
    "start_time": "2022-03-15T07:40:30.808Z"
   },
   {
    "duration": 106,
    "start_time": "2022-03-15T07:40:41.800Z"
   },
   {
    "duration": 75,
    "start_time": "2022-03-15T07:40:49.980Z"
   },
   {
    "duration": 82,
    "start_time": "2022-03-15T07:40:53.089Z"
   },
   {
    "duration": 78,
    "start_time": "2022-03-15T07:41:45.730Z"
   },
   {
    "duration": 114,
    "start_time": "2022-03-15T07:41:49.832Z"
   },
   {
    "duration": 77,
    "start_time": "2022-03-15T07:41:53.782Z"
   },
   {
    "duration": 280,
    "start_time": "2022-03-15T07:42:45.084Z"
   },
   {
    "duration": 307,
    "start_time": "2022-03-15T07:43:02.689Z"
   },
   {
    "duration": 7,
    "start_time": "2022-03-15T07:44:58.805Z"
   },
   {
    "duration": 7,
    "start_time": "2022-03-15T07:45:32.133Z"
   },
   {
    "duration": 347,
    "start_time": "2022-03-15T07:46:55.983Z"
   },
   {
    "duration": 349,
    "start_time": "2022-03-15T07:48:14.661Z"
   },
   {
    "duration": 318,
    "start_time": "2022-03-15T07:48:17.459Z"
   },
   {
    "duration": 350,
    "start_time": "2022-03-15T07:48:25.003Z"
   },
   {
    "duration": 302,
    "start_time": "2022-03-15T07:48:36.333Z"
   },
   {
    "duration": 278,
    "start_time": "2022-03-15T07:48:54.100Z"
   },
   {
    "duration": 279,
    "start_time": "2022-03-15T07:49:16.186Z"
   },
   {
    "duration": 334,
    "start_time": "2022-03-15T07:49:28.508Z"
   },
   {
    "duration": 698,
    "start_time": "2022-03-15T07:49:39.999Z"
   },
   {
    "duration": 231,
    "start_time": "2022-03-15T07:49:44.760Z"
   },
   {
    "duration": 40,
    "start_time": "2022-03-15T07:49:53.033Z"
   },
   {
    "duration": 29,
    "start_time": "2022-03-15T07:49:57.897Z"
   },
   {
    "duration": 91,
    "start_time": "2022-03-15T07:50:01.829Z"
   },
   {
    "duration": 111,
    "start_time": "2022-03-15T07:50:04.489Z"
   },
   {
    "duration": 76,
    "start_time": "2022-03-15T07:50:08.841Z"
   },
   {
    "duration": 33,
    "start_time": "2022-03-15T07:50:11.985Z"
   },
   {
    "duration": 7,
    "start_time": "2022-03-15T07:50:43.536Z"
   },
   {
    "duration": 369,
    "start_time": "2022-03-15T07:50:57.336Z"
   },
   {
    "duration": 6,
    "start_time": "2022-03-15T07:51:07.062Z"
   },
   {
    "duration": 6,
    "start_time": "2022-03-15T07:51:55.223Z"
   },
   {
    "duration": 90,
    "start_time": "2022-03-15T07:52:23.596Z"
   },
   {
    "duration": 6,
    "start_time": "2022-03-15T07:52:27.869Z"
   },
   {
    "duration": 5,
    "start_time": "2022-03-15T07:52:46.259Z"
   },
   {
    "duration": 9,
    "start_time": "2022-03-15T07:54:55.093Z"
   },
   {
    "duration": 101,
    "start_time": "2022-03-15T08:06:17.083Z"
   },
   {
    "duration": 4,
    "start_time": "2022-03-15T08:06:44.313Z"
   },
   {
    "duration": 4,
    "start_time": "2022-03-15T08:11:12.124Z"
   },
   {
    "duration": 351,
    "start_time": "2022-03-15T08:11:50.896Z"
   },
   {
    "duration": 328,
    "start_time": "2022-03-15T08:12:05.465Z"
   },
   {
    "duration": 14,
    "start_time": "2022-03-15T08:12:23.865Z"
   },
   {
    "duration": 278,
    "start_time": "2022-03-15T08:15:18.825Z"
   },
   {
    "duration": 8,
    "start_time": "2022-03-15T08:15:24.575Z"
   },
   {
    "duration": 405,
    "start_time": "2022-03-15T08:15:48.601Z"
   },
   {
    "duration": 280,
    "start_time": "2022-03-15T08:15:58.890Z"
   },
   {
    "duration": 318,
    "start_time": "2022-03-15T08:16:12.301Z"
   },
   {
    "duration": 144,
    "start_time": "2022-03-15T08:16:24.920Z"
   },
   {
    "duration": 301,
    "start_time": "2022-03-15T08:16:32.555Z"
   },
   {
    "duration": 109,
    "start_time": "2022-03-15T08:18:12.311Z"
   },
   {
    "duration": 291,
    "start_time": "2022-03-15T08:18:17.128Z"
   },
   {
    "duration": 73,
    "start_time": "2022-03-15T08:18:30.678Z"
   },
   {
    "duration": 55,
    "start_time": "2022-03-15T08:18:36.236Z"
   },
   {
    "duration": 55,
    "start_time": "2022-03-15T08:18:40.158Z"
   },
   {
    "duration": 351,
    "start_time": "2022-03-15T08:20:14.142Z"
   },
   {
    "duration": 58,
    "start_time": "2022-03-15T08:20:23.586Z"
   },
   {
    "duration": 36,
    "start_time": "2022-03-15T08:22:07.731Z"
   },
   {
    "duration": 356,
    "start_time": "2022-03-15T08:23:44.961Z"
   },
   {
    "duration": 14,
    "start_time": "2022-03-15T08:24:14.786Z"
   },
   {
    "duration": 5,
    "start_time": "2022-03-15T08:24:17.811Z"
   },
   {
    "duration": 53,
    "start_time": "2022-03-15T08:24:27.806Z"
   },
   {
    "duration": 19,
    "start_time": "2022-03-15T08:24:57.313Z"
   },
   {
    "duration": 37,
    "start_time": "2022-03-15T08:25:33.010Z"
   },
   {
    "duration": 42,
    "start_time": "2022-03-15T08:26:27.205Z"
   },
   {
    "duration": 18,
    "start_time": "2022-03-15T08:27:11.167Z"
   },
   {
    "duration": 94,
    "start_time": "2022-03-15T09:26:50.197Z"
   },
   {
    "duration": 5,
    "start_time": "2022-03-15T09:28:05.474Z"
   },
   {
    "duration": 104,
    "start_time": "2022-03-15T09:29:01.796Z"
   },
   {
    "duration": 96,
    "start_time": "2022-03-15T09:31:18.626Z"
   },
   {
    "duration": 107,
    "start_time": "2022-03-15T09:31:24.719Z"
   },
   {
    "duration": 87,
    "start_time": "2022-03-15T09:31:28.878Z"
   },
   {
    "duration": 109,
    "start_time": "2022-03-15T09:31:33.094Z"
   },
   {
    "duration": 605,
    "start_time": "2022-03-15T09:31:40.533Z"
   },
   {
    "duration": 482,
    "start_time": "2022-03-15T09:35:56.630Z"
   },
   {
    "duration": 4,
    "start_time": "2022-03-15T09:36:48.959Z"
   },
   {
    "duration": 4,
    "start_time": "2022-03-15T09:36:52.815Z"
   },
   {
    "duration": 468,
    "start_time": "2022-03-15T09:45:13.537Z"
   },
   {
    "duration": 612,
    "start_time": "2022-03-15T09:45:25.210Z"
   },
   {
    "duration": 519,
    "start_time": "2022-03-15T09:46:00.085Z"
   },
   {
    "duration": 496,
    "start_time": "2022-03-15T09:48:18.783Z"
   },
   {
    "duration": 5,
    "start_time": "2022-03-15T09:49:38.691Z"
   },
   {
    "duration": 4,
    "start_time": "2022-03-15T09:50:20.500Z"
   },
   {
    "duration": 4,
    "start_time": "2022-03-15T09:50:34.523Z"
   },
   {
    "duration": 5,
    "start_time": "2022-03-15T09:50:44.660Z"
   },
   {
    "duration": 5,
    "start_time": "2022-03-15T09:51:01.730Z"
   },
   {
    "duration": 186,
    "start_time": "2022-03-15T09:51:53.525Z"
   },
   {
    "duration": 5,
    "start_time": "2022-03-15T09:52:04.171Z"
   },
   {
    "duration": 96,
    "start_time": "2022-03-15T09:52:30.156Z"
   },
   {
    "duration": 4,
    "start_time": "2022-03-15T09:52:36.422Z"
   },
   {
    "duration": 5,
    "start_time": "2022-03-15T09:53:29.164Z"
   },
   {
    "duration": 4,
    "start_time": "2022-03-15T09:53:30.821Z"
   },
   {
    "duration": 113,
    "start_time": "2022-03-15T09:54:20.328Z"
   },
   {
    "duration": 5,
    "start_time": "2022-03-15T09:54:57.197Z"
   },
   {
    "duration": 105,
    "start_time": "2022-03-15T09:55:08.217Z"
   },
   {
    "duration": 547,
    "start_time": "2022-03-15T09:55:21.439Z"
   },
   {
    "duration": 464,
    "start_time": "2022-03-15T09:55:38.828Z"
   },
   {
    "duration": 475,
    "start_time": "2022-03-15T09:56:03.528Z"
   },
   {
    "duration": 557,
    "start_time": "2022-03-15T09:56:33.806Z"
   },
   {
    "duration": 487,
    "start_time": "2022-03-15T09:56:54.284Z"
   },
   {
    "duration": 18,
    "start_time": "2022-03-15T09:57:07.754Z"
   },
   {
    "duration": 24,
    "start_time": "2022-03-15T09:57:10.925Z"
   },
   {
    "duration": 4,
    "start_time": "2022-03-15T10:07:08.536Z"
   },
   {
    "duration": 481,
    "start_time": "2022-03-15T10:07:46.400Z"
   },
   {
    "duration": 32,
    "start_time": "2022-03-15T10:07:56.362Z"
   },
   {
    "duration": 28,
    "start_time": "2022-03-15T10:08:12.312Z"
   },
   {
    "duration": 3927,
    "start_time": "2022-03-15T10:08:38.103Z"
   },
   {
    "duration": 539,
    "start_time": "2022-03-15T10:09:31.255Z"
   },
   {
    "duration": 525,
    "start_time": "2022-03-15T10:09:35.045Z"
   },
   {
    "duration": 36,
    "start_time": "2022-03-15T10:10:33.841Z"
   },
   {
    "duration": 34,
    "start_time": "2022-03-15T10:10:43.388Z"
   },
   {
    "duration": 29,
    "start_time": "2022-03-15T10:12:10.494Z"
   },
   {
    "duration": 31,
    "start_time": "2022-03-15T10:12:14.452Z"
   },
   {
    "duration": 27,
    "start_time": "2022-03-15T10:12:31.898Z"
   },
   {
    "duration": 31,
    "start_time": "2022-03-15T10:13:58.627Z"
   },
   {
    "duration": 33,
    "start_time": "2022-03-15T10:14:00.724Z"
   },
   {
    "duration": 39,
    "start_time": "2022-03-15T10:14:25.481Z"
   },
   {
    "duration": 5,
    "start_time": "2022-03-15T10:15:19.264Z"
   },
   {
    "duration": 5,
    "start_time": "2022-03-15T10:15:21.874Z"
   },
   {
    "duration": 31,
    "start_time": "2022-03-15T10:15:25.377Z"
   },
   {
    "duration": 27,
    "start_time": "2022-03-15T10:15:27.603Z"
   },
   {
    "duration": 30,
    "start_time": "2022-03-15T10:15:29.611Z"
   },
   {
    "duration": 25,
    "start_time": "2022-03-15T10:15:32.425Z"
   },
   {
    "duration": 69,
    "start_time": "2022-03-15T10:16:23.046Z"
   },
   {
    "duration": 5,
    "start_time": "2022-03-15T10:16:59.889Z"
   },
   {
    "duration": 33,
    "start_time": "2022-03-15T10:17:04.455Z"
   },
   {
    "duration": 33,
    "start_time": "2022-03-15T10:17:18.407Z"
   },
   {
    "duration": 33,
    "start_time": "2022-03-15T10:17:22.624Z"
   },
   {
    "duration": 5,
    "start_time": "2022-03-15T10:17:28.180Z"
   },
   {
    "duration": 24,
    "start_time": "2022-03-15T10:17:31.709Z"
   },
   {
    "duration": 21,
    "start_time": "2022-03-15T10:17:35.060Z"
   },
   {
    "duration": 21,
    "start_time": "2022-03-15T10:17:37.079Z"
   },
   {
    "duration": 20,
    "start_time": "2022-03-15T10:17:39.534Z"
   },
   {
    "duration": 27,
    "start_time": "2022-03-15T10:17:41.563Z"
   },
   {
    "duration": 19,
    "start_time": "2022-03-15T10:17:43.861Z"
   },
   {
    "duration": 20,
    "start_time": "2022-03-15T10:46:08.833Z"
   },
   {
    "duration": 108,
    "start_time": "2022-03-15T10:46:50.889Z"
   },
   {
    "duration": 277,
    "start_time": "2022-03-15T10:47:01.858Z"
   },
   {
    "duration": 281,
    "start_time": "2022-03-15T10:47:07.331Z"
   },
   {
    "duration": 5,
    "start_time": "2022-03-15T10:47:35.840Z"
   },
   {
    "duration": 267,
    "start_time": "2022-03-15T10:49:28.368Z"
   },
   {
    "duration": 7152,
    "start_time": "2022-03-15T10:51:35.651Z"
   },
   {
    "duration": 7077,
    "start_time": "2022-03-15T10:53:31.137Z"
   },
   {
    "duration": 7458,
    "start_time": "2022-03-15T10:54:09.536Z"
   },
   {
    "duration": 6,
    "start_time": "2022-03-15T10:55:54.628Z"
   },
   {
    "duration": 14,
    "start_time": "2022-03-15T10:55:59.848Z"
   },
   {
    "duration": 5,
    "start_time": "2022-03-15T10:56:09.874Z"
   },
   {
    "duration": 5,
    "start_time": "2022-03-15T10:56:19.898Z"
   },
   {
    "duration": 5,
    "start_time": "2022-03-15T10:58:12.719Z"
   },
   {
    "duration": 176,
    "start_time": "2022-03-15T10:58:35.927Z"
   },
   {
    "duration": 6997,
    "start_time": "2022-03-15T10:58:43.633Z"
   },
   {
    "duration": -740,
    "start_time": "2022-03-15T10:58:51.373Z"
   },
   {
    "duration": 5,
    "start_time": "2022-03-15T11:09:00.204Z"
   },
   {
    "duration": 7183,
    "start_time": "2022-03-15T11:09:12.274Z"
   },
   {
    "duration": 6874,
    "start_time": "2022-03-15T11:09:39.681Z"
   },
   {
    "duration": 354,
    "start_time": "2022-03-15T11:10:20.222Z"
   },
   {
    "duration": 294,
    "start_time": "2022-03-15T11:10:34.043Z"
   },
   {
    "duration": 280,
    "start_time": "2022-03-15T11:10:49.053Z"
   },
   {
    "duration": 812,
    "start_time": "2022-03-15T11:10:55.472Z"
   },
   {
    "duration": 329,
    "start_time": "2022-03-15T11:11:09.277Z"
   },
   {
    "duration": 275,
    "start_time": "2022-03-15T11:11:15.449Z"
   },
   {
    "duration": 737,
    "start_time": "2022-03-15T11:11:20.420Z"
   },
   {
    "duration": 171,
    "start_time": "2022-03-15T11:11:23.484Z"
   },
   {
    "duration": 25,
    "start_time": "2022-03-15T11:11:28.737Z"
   },
   {
    "duration": 6,
    "start_time": "2022-03-15T11:11:40.800Z"
   },
   {
    "duration": 14,
    "start_time": "2022-03-15T11:11:43.437Z"
   },
   {
    "duration": 6,
    "start_time": "2022-03-15T11:11:48.199Z"
   },
   {
    "duration": 47,
    "start_time": "2022-03-15T11:12:03.678Z"
   },
   {
    "duration": 18,
    "start_time": "2022-03-15T11:12:32.419Z"
   },
   {
    "duration": 19,
    "start_time": "2022-03-15T11:12:34.588Z"
   },
   {
    "duration": 17,
    "start_time": "2022-03-15T11:12:36.494Z"
   },
   {
    "duration": 19,
    "start_time": "2022-03-15T11:12:39.670Z"
   },
   {
    "duration": 22,
    "start_time": "2022-03-15T11:15:27.627Z"
   },
   {
    "duration": 23,
    "start_time": "2022-03-15T11:15:38.901Z"
   },
   {
    "duration": 6,
    "start_time": "2022-03-15T11:16:03.651Z"
   },
   {
    "duration": 663,
    "start_time": "2022-03-15T11:16:09.600Z"
   },
   {
    "duration": 636,
    "start_time": "2022-03-15T11:16:13.953Z"
   },
   {
    "duration": 467,
    "start_time": "2022-03-15T11:16:23.128Z"
   },
   {
    "duration": 23,
    "start_time": "2022-03-15T11:16:33.148Z"
   },
   {
    "duration": 501,
    "start_time": "2022-03-15T11:16:41.063Z"
   },
   {
    "duration": 99,
    "start_time": "2022-03-15T11:18:18.653Z"
   },
   {
    "duration": 474,
    "start_time": "2022-03-15T11:18:42.312Z"
   },
   {
    "duration": 23,
    "start_time": "2022-03-15T11:18:49.249Z"
   },
   {
    "duration": 22,
    "start_time": "2022-03-15T11:21:51.948Z"
   },
   {
    "duration": 454,
    "start_time": "2022-03-15T11:22:43.991Z"
   },
   {
    "duration": 550,
    "start_time": "2022-03-15T11:24:14.424Z"
   },
   {
    "duration": 106,
    "start_time": "2022-03-15T11:27:49.629Z"
   },
   {
    "duration": 97,
    "start_time": "2022-03-15T11:28:31.453Z"
   },
   {
    "duration": 33,
    "start_time": "2022-03-15T11:28:43.044Z"
   },
   {
    "duration": 484,
    "start_time": "2022-03-15T11:29:04.626Z"
   },
   {
    "duration": 458,
    "start_time": "2022-03-15T11:30:23.123Z"
   },
   {
    "duration": 520,
    "start_time": "2022-03-15T11:30:34.338Z"
   },
   {
    "duration": 489,
    "start_time": "2022-03-15T11:30:46.453Z"
   },
   {
    "duration": 22,
    "start_time": "2022-03-15T11:31:15.856Z"
   },
   {
    "duration": 499,
    "start_time": "2022-03-15T11:32:00.930Z"
   },
   {
    "duration": 460,
    "start_time": "2022-03-15T11:38:12.014Z"
   },
   {
    "duration": 478,
    "start_time": "2022-03-15T11:38:23.597Z"
   },
   {
    "duration": 1132,
    "start_time": "2022-03-15T11:38:38.030Z"
   },
   {
    "duration": 530,
    "start_time": "2022-03-15T11:41:33.650Z"
   },
   {
    "duration": 17,
    "start_time": "2022-03-15T11:41:48.460Z"
   },
   {
    "duration": 21,
    "start_time": "2022-03-15T11:42:10.389Z"
   },
   {
    "duration": 20,
    "start_time": "2022-03-15T11:42:23.259Z"
   },
   {
    "duration": 21,
    "start_time": "2022-03-15T11:42:40.128Z"
   },
   {
    "duration": 23,
    "start_time": "2022-03-15T11:43:19.279Z"
   },
   {
    "duration": 482,
    "start_time": "2022-03-15T11:43:57.752Z"
   },
   {
    "duration": 289,
    "start_time": "2022-03-15T11:44:00.925Z"
   },
   {
    "duration": 12,
    "start_time": "2022-03-15T11:44:33.971Z"
   },
   {
    "duration": 8,
    "start_time": "2022-03-15T11:44:44.722Z"
   },
   {
    "duration": 25,
    "start_time": "2022-03-15T11:44:48.014Z"
   },
   {
    "duration": 19,
    "start_time": "2022-03-15T11:44:50.495Z"
   },
   {
    "duration": 16,
    "start_time": "2022-03-15T11:45:08.574Z"
   },
   {
    "duration": 14,
    "start_time": "2022-03-15T11:45:10.770Z"
   },
   {
    "duration": 6,
    "start_time": "2022-03-15T11:45:14.301Z"
   },
   {
    "duration": 26,
    "start_time": "2022-03-15T11:45:18.349Z"
   },
   {
    "duration": 18,
    "start_time": "2022-03-15T11:45:22.707Z"
   },
   {
    "duration": 30,
    "start_time": "2022-03-15T11:45:44.223Z"
   },
   {
    "duration": 17,
    "start_time": "2022-03-15T11:46:03.959Z"
   },
   {
    "duration": 31,
    "start_time": "2022-03-15T11:50:16.917Z"
   },
   {
    "duration": 35,
    "start_time": "2022-03-15T11:51:02.590Z"
   },
   {
    "duration": 31,
    "start_time": "2022-03-15T11:51:08.204Z"
   },
   {
    "duration": 32,
    "start_time": "2022-03-15T11:51:11.979Z"
   },
   {
    "duration": 85,
    "start_time": "2022-03-15T11:51:15.168Z"
   },
   {
    "duration": 111,
    "start_time": "2022-03-15T11:51:17.212Z"
   },
   {
    "duration": 78,
    "start_time": "2022-03-15T11:51:20.715Z"
   },
   {
    "duration": 11,
    "start_time": "2022-03-15T11:51:25.052Z"
   },
   {
    "duration": 31,
    "start_time": "2022-03-15T11:51:34.734Z"
   },
   {
    "duration": 79,
    "start_time": "2022-03-15T11:51:38.556Z"
   },
   {
    "duration": 927,
    "start_time": "2022-03-15T11:51:50.891Z"
   },
   {
    "duration": 252,
    "start_time": "2022-03-15T11:51:51.822Z"
   },
   {
    "duration": 41,
    "start_time": "2022-03-15T11:51:52.078Z"
   },
   {
    "duration": 64,
    "start_time": "2022-03-15T11:51:52.122Z"
   },
   {
    "duration": 5,
    "start_time": "2022-03-15T11:51:52.189Z"
   },
   {
    "duration": 19,
    "start_time": "2022-03-15T11:51:52.198Z"
   },
   {
    "duration": 35,
    "start_time": "2022-03-15T11:51:52.220Z"
   },
   {
    "duration": 47,
    "start_time": "2022-03-15T11:51:52.258Z"
   },
   {
    "duration": 53,
    "start_time": "2022-03-15T11:51:52.310Z"
   },
   {
    "duration": 32,
    "start_time": "2022-03-15T11:51:52.367Z"
   },
   {
    "duration": 118,
    "start_time": "2022-03-15T11:51:52.402Z"
   },
   {
    "duration": 123,
    "start_time": "2022-03-15T11:51:52.522Z"
   },
   {
    "duration": 83,
    "start_time": "2022-03-15T11:51:52.647Z"
   },
   {
    "duration": 15,
    "start_time": "2022-03-15T11:51:52.752Z"
   },
   {
    "duration": 4,
    "start_time": "2022-03-15T11:51:52.769Z"
   },
   {
    "duration": 22,
    "start_time": "2022-03-15T11:51:52.776Z"
   },
   {
    "duration": 158,
    "start_time": "2022-03-15T11:51:52.801Z"
   },
   {
    "duration": 25,
    "start_time": "2022-03-15T11:51:52.962Z"
   },
   {
    "duration": 36,
    "start_time": "2022-03-15T11:51:52.991Z"
   },
   {
    "duration": 21,
    "start_time": "2022-03-15T11:51:53.030Z"
   },
   {
    "duration": 41,
    "start_time": "2022-03-15T11:51:53.054Z"
   },
   {
    "duration": 25,
    "start_time": "2022-03-15T11:51:53.098Z"
   },
   {
    "duration": 32,
    "start_time": "2022-03-15T11:51:53.126Z"
   },
   {
    "duration": 27,
    "start_time": "2022-03-15T11:51:53.161Z"
   },
   {
    "duration": 32,
    "start_time": "2022-03-15T11:51:53.191Z"
   },
   {
    "duration": 26,
    "start_time": "2022-03-15T11:51:53.252Z"
   },
   {
    "duration": 8,
    "start_time": "2022-03-15T11:51:53.286Z"
   },
   {
    "duration": 36,
    "start_time": "2022-03-15T11:51:53.298Z"
   },
   {
    "duration": 16,
    "start_time": "2022-03-15T11:51:53.352Z"
   },
   {
    "duration": 16,
    "start_time": "2022-03-15T11:51:53.371Z"
   },
   {
    "duration": 44,
    "start_time": "2022-03-15T11:51:53.390Z"
   },
   {
    "duration": 29,
    "start_time": "2022-03-15T11:51:53.437Z"
   },
   {
    "duration": 28,
    "start_time": "2022-03-15T11:51:53.469Z"
   },
   {
    "duration": 53,
    "start_time": "2022-03-15T11:51:53.500Z"
   },
   {
    "duration": 3,
    "start_time": "2022-03-15T11:51:53.555Z"
   },
   {
    "duration": 24,
    "start_time": "2022-03-15T11:51:53.561Z"
   },
   {
    "duration": 41,
    "start_time": "2022-03-15T11:51:53.588Z"
   },
   {
    "duration": 17,
    "start_time": "2022-03-15T11:51:53.631Z"
   },
   {
    "duration": 17,
    "start_time": "2022-03-15T11:58:43.287Z"
   },
   {
    "duration": 8,
    "start_time": "2022-03-15T11:58:58.985Z"
   },
   {
    "duration": 375,
    "start_time": "2022-03-15T11:59:59.003Z"
   },
   {
    "duration": 323,
    "start_time": "2022-03-15T12:00:04.581Z"
   },
   {
    "duration": 11,
    "start_time": "2022-03-15T12:00:08.505Z"
   },
   {
    "duration": 8,
    "start_time": "2022-03-15T12:00:10.804Z"
   },
   {
    "duration": 281,
    "start_time": "2022-03-16T10:32:34.088Z"
   },
   {
    "duration": 580,
    "start_time": "2022-03-16T10:32:52.450Z"
   },
   {
    "duration": 145,
    "start_time": "2022-03-16T10:32:53.031Z"
   },
   {
    "duration": 23,
    "start_time": "2022-03-16T10:32:53.178Z"
   },
   {
    "duration": 34,
    "start_time": "2022-03-16T10:32:53.203Z"
   },
   {
    "duration": 19,
    "start_time": "2022-03-16T10:32:53.238Z"
   },
   {
    "duration": 19,
    "start_time": "2022-03-16T10:32:53.259Z"
   },
   {
    "duration": 25,
    "start_time": "2022-03-16T10:32:53.280Z"
   },
   {
    "duration": 43,
    "start_time": "2022-03-16T10:32:53.307Z"
   },
   {
    "duration": 27,
    "start_time": "2022-03-16T10:32:53.352Z"
   },
   {
    "duration": 27,
    "start_time": "2022-03-16T10:32:53.381Z"
   },
   {
    "duration": 72,
    "start_time": "2022-03-16T10:32:53.410Z"
   },
   {
    "duration": 87,
    "start_time": "2022-03-16T10:32:53.484Z"
   },
   {
    "duration": 58,
    "start_time": "2022-03-16T10:32:55.908Z"
   },
   {
    "duration": 8,
    "start_time": "2022-03-16T10:32:57.285Z"
   },
   {
    "duration": 663,
    "start_time": "2022-03-16T10:46:15.468Z"
   },
   {
    "duration": 149,
    "start_time": "2022-03-16T10:46:16.134Z"
   },
   {
    "duration": 23,
    "start_time": "2022-03-16T10:46:16.286Z"
   },
   {
    "duration": 31,
    "start_time": "2022-03-16T10:46:16.312Z"
   },
   {
    "duration": 8,
    "start_time": "2022-03-16T10:46:16.345Z"
   },
   {
    "duration": 17,
    "start_time": "2022-03-16T10:46:16.355Z"
   },
   {
    "duration": 9,
    "start_time": "2022-03-16T10:46:16.374Z"
   },
   {
    "duration": 26,
    "start_time": "2022-03-16T10:46:16.402Z"
   },
   {
    "duration": 21,
    "start_time": "2022-03-16T10:46:16.430Z"
   },
   {
    "duration": 49,
    "start_time": "2022-03-16T10:46:16.453Z"
   },
   {
    "duration": 68,
    "start_time": "2022-03-16T10:46:16.504Z"
   },
   {
    "duration": 127,
    "start_time": "2022-03-16T10:46:16.574Z"
   },
   {
    "duration": 60,
    "start_time": "2022-03-16T10:46:16.703Z"
   },
   {
    "duration": 7,
    "start_time": "2022-03-16T10:46:16.765Z"
   },
   {
    "duration": 28,
    "start_time": "2022-03-16T10:46:16.773Z"
   },
   {
    "duration": 14,
    "start_time": "2022-03-16T10:46:16.803Z"
   },
   {
    "duration": 60,
    "start_time": "2022-03-16T10:46:16.819Z"
   },
   {
    "duration": 33,
    "start_time": "2022-03-16T10:46:16.881Z"
   },
   {
    "duration": 18,
    "start_time": "2022-03-16T10:46:16.916Z"
   },
   {
    "duration": 4,
    "start_time": "2022-03-16T10:46:16.937Z"
   },
   {
    "duration": 59,
    "start_time": "2022-03-16T10:46:16.944Z"
   },
   {
    "duration": 19,
    "start_time": "2022-03-16T10:46:17.005Z"
   },
   {
    "duration": 19,
    "start_time": "2022-03-16T10:46:17.028Z"
   },
   {
    "duration": 17,
    "start_time": "2022-03-16T10:46:17.049Z"
   },
   {
    "duration": 20,
    "start_time": "2022-03-16T10:46:17.101Z"
   },
   {
    "duration": 18,
    "start_time": "2022-03-16T10:46:17.122Z"
   },
   {
    "duration": 4,
    "start_time": "2022-03-16T10:46:17.141Z"
   },
   {
    "duration": 17,
    "start_time": "2022-03-16T10:46:17.147Z"
   },
   {
    "duration": 41,
    "start_time": "2022-03-16T10:46:17.165Z"
   },
   {
    "duration": 6,
    "start_time": "2022-03-16T10:46:17.208Z"
   },
   {
    "duration": 30,
    "start_time": "2022-03-16T10:46:17.216Z"
   },
   {
    "duration": 18,
    "start_time": "2022-03-16T10:46:17.247Z"
   },
   {
    "duration": 44,
    "start_time": "2022-03-16T10:46:17.267Z"
   },
   {
    "duration": 14,
    "start_time": "2022-03-16T10:46:17.313Z"
   },
   {
    "duration": 9,
    "start_time": "2022-03-16T10:46:17.329Z"
   },
   {
    "duration": 7,
    "start_time": "2022-03-16T10:46:17.340Z"
   },
   {
    "duration": 9,
    "start_time": "2022-03-16T10:46:17.349Z"
   },
   {
    "duration": 5,
    "start_time": "2022-03-16T10:46:17.360Z"
   },
   {
    "duration": 187,
    "start_time": "2022-03-16T11:04:14.711Z"
   },
   {
    "duration": 535,
    "start_time": "2022-03-16T11:04:38.904Z"
   },
   {
    "duration": 291,
    "start_time": "2022-03-16T11:04:39.440Z"
   },
   {
    "duration": 18,
    "start_time": "2022-03-16T11:04:39.733Z"
   },
   {
    "duration": 25,
    "start_time": "2022-03-16T11:04:39.752Z"
   },
   {
    "duration": 4,
    "start_time": "2022-03-16T11:04:39.779Z"
   },
   {
    "duration": 12,
    "start_time": "2022-03-16T11:04:39.785Z"
   },
   {
    "duration": 6,
    "start_time": "2022-03-16T11:04:39.798Z"
   },
   {
    "duration": 24,
    "start_time": "2022-03-16T11:04:39.806Z"
   },
   {
    "duration": 29,
    "start_time": "2022-03-16T11:04:39.861Z"
   },
   {
    "duration": 46,
    "start_time": "2022-03-16T11:04:39.893Z"
   },
   {
    "duration": 75,
    "start_time": "2022-03-16T11:04:39.960Z"
   },
   {
    "duration": 83,
    "start_time": "2022-03-16T11:04:40.037Z"
   },
   {
    "duration": 62,
    "start_time": "2022-03-16T11:04:40.122Z"
   },
   {
    "duration": 7,
    "start_time": "2022-03-16T11:04:40.186Z"
   },
   {
    "duration": 10,
    "start_time": "2022-03-16T11:04:40.195Z"
   },
   {
    "duration": 12,
    "start_time": "2022-03-16T11:04:40.206Z"
   },
   {
    "duration": 87,
    "start_time": "2022-03-16T11:04:40.220Z"
   },
   {
    "duration": 14,
    "start_time": "2022-03-16T11:04:40.308Z"
   },
   {
    "duration": 12,
    "start_time": "2022-03-16T11:04:40.323Z"
   },
   {
    "duration": 3,
    "start_time": "2022-03-16T11:04:40.337Z"
   },
   {
    "duration": 31,
    "start_time": "2022-03-16T11:04:40.360Z"
   },
   {
    "duration": 14,
    "start_time": "2022-03-16T11:04:40.392Z"
   },
   {
    "duration": 14,
    "start_time": "2022-03-16T11:04:40.407Z"
   },
   {
    "duration": 45,
    "start_time": "2022-03-16T11:04:40.422Z"
   },
   {
    "duration": 16,
    "start_time": "2022-03-16T11:04:40.468Z"
   },
   {
    "duration": 18,
    "start_time": "2022-03-16T11:04:40.486Z"
   },
   {
    "duration": 5,
    "start_time": "2022-03-16T11:04:40.508Z"
   },
   {
    "duration": 44,
    "start_time": "2022-03-16T11:04:40.515Z"
   },
   {
    "duration": 10,
    "start_time": "2022-03-16T11:04:40.561Z"
   },
   {
    "duration": 6,
    "start_time": "2022-03-16T11:04:40.573Z"
   },
   {
    "duration": 32,
    "start_time": "2022-03-16T11:04:40.580Z"
   },
   {
    "duration": 15,
    "start_time": "2022-03-16T11:04:40.614Z"
   },
   {
    "duration": 41,
    "start_time": "2022-03-16T11:04:40.631Z"
   },
   {
    "duration": 14,
    "start_time": "2022-03-16T11:04:40.674Z"
   },
   {
    "duration": 9,
    "start_time": "2022-03-16T11:04:40.690Z"
   },
   {
    "duration": 5,
    "start_time": "2022-03-16T11:04:40.701Z"
   },
   {
    "duration": 7,
    "start_time": "2022-03-16T11:04:40.707Z"
   },
   {
    "duration": 45,
    "start_time": "2022-03-16T11:04:40.715Z"
   },
   {
    "duration": 4,
    "start_time": "2022-03-16T11:05:17.088Z"
   },
   {
    "duration": 577,
    "start_time": "2022-03-16T11:05:54.445Z"
   },
   {
    "duration": 126,
    "start_time": "2022-03-16T11:05:55.023Z"
   },
   {
    "duration": 18,
    "start_time": "2022-03-16T11:05:55.151Z"
   },
   {
    "duration": 30,
    "start_time": "2022-03-16T11:05:55.171Z"
   },
   {
    "duration": 4,
    "start_time": "2022-03-16T11:05:55.203Z"
   },
   {
    "duration": 12,
    "start_time": "2022-03-16T11:05:55.208Z"
   },
   {
    "duration": 6,
    "start_time": "2022-03-16T11:05:55.222Z"
   },
   {
    "duration": 51,
    "start_time": "2022-03-16T11:05:55.229Z"
   },
   {
    "duration": 19,
    "start_time": "2022-03-16T11:05:55.282Z"
   },
   {
    "duration": 23,
    "start_time": "2022-03-16T11:05:55.303Z"
   },
   {
    "duration": 87,
    "start_time": "2022-03-16T11:05:55.328Z"
   },
   {
    "duration": 79,
    "start_time": "2022-03-16T11:05:55.417Z"
   },
   {
    "duration": 63,
    "start_time": "2022-03-16T11:05:55.498Z"
   },
   {
    "duration": 7,
    "start_time": "2022-03-16T11:05:55.562Z"
   },
   {
    "duration": 4,
    "start_time": "2022-03-16T11:05:55.570Z"
   },
   {
    "duration": 15,
    "start_time": "2022-03-16T11:05:55.576Z"
   },
   {
    "duration": 82,
    "start_time": "2022-03-16T11:05:55.592Z"
   },
   {
    "duration": 15,
    "start_time": "2022-03-16T11:05:55.675Z"
   },
   {
    "duration": 14,
    "start_time": "2022-03-16T11:05:55.692Z"
   },
   {
    "duration": 5,
    "start_time": "2022-03-16T11:05:55.707Z"
   },
   {
    "duration": 50,
    "start_time": "2022-03-16T11:05:55.714Z"
   },
   {
    "duration": 23,
    "start_time": "2022-03-16T11:05:55.766Z"
   },
   {
    "duration": 13,
    "start_time": "2022-03-16T11:05:55.791Z"
   },
   {
    "duration": 13,
    "start_time": "2022-03-16T11:05:55.806Z"
   },
   {
    "duration": 47,
    "start_time": "2022-03-16T11:05:55.820Z"
   },
   {
    "duration": 14,
    "start_time": "2022-03-16T11:05:55.869Z"
   },
   {
    "duration": 3,
    "start_time": "2022-03-16T11:05:55.887Z"
   },
   {
    "duration": 17,
    "start_time": "2022-03-16T11:05:55.892Z"
   },
   {
    "duration": 10,
    "start_time": "2022-03-16T11:05:55.911Z"
   },
   {
    "duration": 5,
    "start_time": "2022-03-16T11:05:55.923Z"
   },
   {
    "duration": 46,
    "start_time": "2022-03-16T11:05:55.930Z"
   },
   {
    "duration": 12,
    "start_time": "2022-03-16T11:05:55.978Z"
   },
   {
    "duration": 16,
    "start_time": "2022-03-16T11:05:55.992Z"
   },
   {
    "duration": 11,
    "start_time": "2022-03-16T11:05:56.009Z"
   },
   {
    "duration": 43,
    "start_time": "2022-03-16T11:05:56.021Z"
   },
   {
    "duration": 6,
    "start_time": "2022-03-16T11:05:56.066Z"
   },
   {
    "duration": 8,
    "start_time": "2022-03-16T11:05:56.073Z"
   },
   {
    "duration": 5,
    "start_time": "2022-03-16T11:05:56.083Z"
   },
   {
    "duration": 784,
    "start_time": "2022-03-17T08:49:50.129Z"
   },
   {
    "duration": 181,
    "start_time": "2022-03-17T08:49:50.921Z"
   },
   {
    "duration": 25,
    "start_time": "2022-03-17T08:49:51.105Z"
   },
   {
    "duration": 53,
    "start_time": "2022-03-17T08:49:51.132Z"
   },
   {
    "duration": 5,
    "start_time": "2022-03-17T08:49:51.187Z"
   },
   {
    "duration": 13,
    "start_time": "2022-03-17T08:49:51.195Z"
   },
   {
    "duration": 7,
    "start_time": "2022-03-17T08:49:51.213Z"
   },
   {
    "duration": 61,
    "start_time": "2022-03-17T08:49:51.223Z"
   },
   {
    "duration": 23,
    "start_time": "2022-03-17T08:49:51.287Z"
   },
   {
    "duration": 29,
    "start_time": "2022-03-17T08:49:51.312Z"
   },
   {
    "duration": 116,
    "start_time": "2022-03-17T08:49:51.344Z"
   },
   {
    "duration": 129,
    "start_time": "2022-03-17T08:49:51.462Z"
   },
   {
    "duration": 94,
    "start_time": "2022-03-17T08:49:51.593Z"
   },
   {
    "duration": 10,
    "start_time": "2022-03-17T08:49:51.689Z"
   },
   {
    "duration": 4,
    "start_time": "2022-03-17T08:49:51.702Z"
   },
   {
    "duration": 22,
    "start_time": "2022-03-17T08:49:51.708Z"
   },
   {
    "duration": 103,
    "start_time": "2022-03-17T08:49:51.733Z"
   },
   {
    "duration": 18,
    "start_time": "2022-03-17T08:49:51.838Z"
   },
   {
    "duration": 37,
    "start_time": "2022-03-17T08:49:51.859Z"
   },
   {
    "duration": 6,
    "start_time": "2022-03-17T08:49:51.899Z"
   },
   {
    "duration": 39,
    "start_time": "2022-03-17T08:49:51.908Z"
   },
   {
    "duration": 43,
    "start_time": "2022-03-17T08:49:51.950Z"
   },
   {
    "duration": 18,
    "start_time": "2022-03-17T08:49:51.995Z"
   },
   {
    "duration": 16,
    "start_time": "2022-03-17T08:49:52.016Z"
   },
   {
    "duration": 58,
    "start_time": "2022-03-17T08:49:52.037Z"
   },
   {
    "duration": 19,
    "start_time": "2022-03-17T08:49:52.098Z"
   },
   {
    "duration": 5,
    "start_time": "2022-03-17T08:49:52.120Z"
   },
   {
    "duration": 20,
    "start_time": "2022-03-17T08:49:52.128Z"
   },
   {
    "duration": 37,
    "start_time": "2022-03-17T08:49:52.151Z"
   },
   {
    "duration": 7,
    "start_time": "2022-03-17T08:49:52.191Z"
   },
   {
    "duration": 42,
    "start_time": "2022-03-17T08:49:52.201Z"
   },
   {
    "duration": 44,
    "start_time": "2022-03-17T08:49:52.246Z"
   },
   {
    "duration": 22,
    "start_time": "2022-03-17T08:49:52.292Z"
   },
   {
    "duration": 16,
    "start_time": "2022-03-17T08:49:52.316Z"
   },
   {
    "duration": 12,
    "start_time": "2022-03-17T08:49:52.334Z"
   },
   {
    "duration": 39,
    "start_time": "2022-03-17T08:49:52.348Z"
   },
   {
    "duration": 13,
    "start_time": "2022-03-17T08:49:52.390Z"
   },
   {
    "duration": 7,
    "start_time": "2022-03-17T08:49:52.405Z"
   },
   {
    "duration": 58,
    "start_time": "2022-03-17T11:54:31.244Z"
   },
   {
    "duration": 7,
    "start_time": "2022-03-17T11:54:48.751Z"
   },
   {
    "duration": 448,
    "start_time": "2022-03-17T11:54:55.646Z"
   },
   {
    "duration": 1003,
    "start_time": "2022-03-17T11:54:56.096Z"
   },
   {
    "duration": 19,
    "start_time": "2022-03-17T11:54:57.101Z"
   },
   {
    "duration": 41,
    "start_time": "2022-03-17T11:54:57.122Z"
   },
   {
    "duration": 4,
    "start_time": "2022-03-17T11:54:57.165Z"
   },
   {
    "duration": 7,
    "start_time": "2022-03-17T11:54:57.171Z"
   },
   {
    "duration": 9,
    "start_time": "2022-03-17T11:54:57.180Z"
   },
   {
    "duration": 51,
    "start_time": "2022-03-17T11:54:57.192Z"
   },
   {
    "duration": 27,
    "start_time": "2022-03-17T11:54:57.245Z"
   },
   {
    "duration": 29,
    "start_time": "2022-03-17T11:54:57.275Z"
   },
   {
    "duration": 95,
    "start_time": "2022-03-17T11:54:57.305Z"
   },
   {
    "duration": 94,
    "start_time": "2022-03-17T11:54:57.401Z"
   },
   {
    "duration": 82,
    "start_time": "2022-03-17T11:54:57.497Z"
   },
   {
    "duration": 66,
    "start_time": "2022-03-17T11:54:57.582Z"
   },
   {
    "duration": 4,
    "start_time": "2022-03-17T11:54:57.650Z"
   },
   {
    "duration": 18,
    "start_time": "2022-03-17T11:54:57.656Z"
   },
   {
    "duration": 89,
    "start_time": "2022-03-17T11:54:57.676Z"
   },
   {
    "duration": 17,
    "start_time": "2022-03-17T11:54:57.767Z"
   },
   {
    "duration": 22,
    "start_time": "2022-03-17T11:54:57.786Z"
   },
   {
    "duration": 7,
    "start_time": "2022-03-17T11:54:57.810Z"
   },
   {
    "duration": 51,
    "start_time": "2022-03-17T11:54:57.834Z"
   },
   {
    "duration": 35,
    "start_time": "2022-03-17T11:54:57.888Z"
   },
   {
    "duration": 49,
    "start_time": "2022-03-17T11:54:57.926Z"
   },
   {
    "duration": 22,
    "start_time": "2022-03-17T11:54:57.978Z"
   },
   {
    "duration": 28,
    "start_time": "2022-03-17T11:54:58.002Z"
   },
   {
    "duration": 25,
    "start_time": "2022-03-17T11:54:58.034Z"
   },
   {
    "duration": 5,
    "start_time": "2022-03-17T11:54:58.061Z"
   },
   {
    "duration": 19,
    "start_time": "2022-03-17T11:54:58.070Z"
   },
   {
    "duration": 21,
    "start_time": "2022-03-17T11:54:58.091Z"
   },
   {
    "duration": 18,
    "start_time": "2022-03-17T11:54:58.114Z"
   },
   {
    "duration": 93,
    "start_time": "2022-03-17T11:54:58.135Z"
   },
   {
    "duration": 18,
    "start_time": "2022-03-17T11:54:58.229Z"
   },
   {
    "duration": 23,
    "start_time": "2022-03-17T11:54:58.249Z"
   },
   {
    "duration": 16,
    "start_time": "2022-03-17T11:54:58.274Z"
   },
   {
    "duration": 10,
    "start_time": "2022-03-17T11:54:58.292Z"
   },
   {
    "duration": 18,
    "start_time": "2022-03-17T11:54:58.305Z"
   },
   {
    "duration": 27,
    "start_time": "2022-03-17T11:54:58.325Z"
   },
   {
    "duration": 25,
    "start_time": "2022-03-17T11:54:58.354Z"
   },
   {
    "duration": 4,
    "start_time": "2022-03-17T11:58:10.385Z"
   },
   {
    "duration": 17,
    "start_time": "2022-03-17T11:58:18.198Z"
   },
   {
    "duration": 12,
    "start_time": "2022-03-17T11:58:20.205Z"
   },
   {
    "duration": 5,
    "start_time": "2022-03-17T11:58:27.193Z"
   },
   {
    "duration": 20,
    "start_time": "2022-03-17T12:00:42.992Z"
   },
   {
    "duration": 23,
    "start_time": "2022-03-17T12:00:45.826Z"
   },
   {
    "duration": 24,
    "start_time": "2022-03-17T12:04:07.747Z"
   }
  ],
  "colab": {
   "collapsed_sections": [
    "E0vqbgi9ay0H",
    "VUC88oWjTJw2"
   ],
   "name": "yandex_music_project_2021.2.ipynb",
   "provenance": []
  },
  "kernelspec": {
   "display_name": "Python 3 (ipykernel)",
   "language": "python",
   "name": "python3"
  },
  "language_info": {
   "codemirror_mode": {
    "name": "ipython",
    "version": 3
   },
   "file_extension": ".py",
   "mimetype": "text/x-python",
   "name": "python",
   "nbconvert_exporter": "python",
   "pygments_lexer": "ipython3",
   "version": "3.7.8"
  },
  "toc": {
   "base_numbering": 1,
   "nav_menu": {},
   "number_sections": true,
   "sideBar": true,
   "skip_h1_title": true,
   "title_cell": "Table of Contents",
   "title_sidebar": "Contents",
   "toc_cell": false,
   "toc_position": {},
   "toc_section_display": true,
   "toc_window_display": true
  }
 },
 "nbformat": 4,
 "nbformat_minor": 1
}
