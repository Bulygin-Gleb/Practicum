{
 "cells": [
  {
   "cell_type": "markdown",
   "metadata": {},
   "source": [
    "# Рекомендация тарифов"
   ]
  },
  {
   "cell_type": "markdown",
   "metadata": {},
   "source": [
    "В вашем распоряжении данные о поведении клиентов, которые уже перешли на эти тарифы (из проекта курса «Статистический анализ данных»). Нужно построить модель для задачи классификации, которая выберет подходящий тариф. Предобработка данных не понадобится — вы её уже сделали.\n",
    "\n",
    "Постройте модель с максимально большим значением *accuracy*. Чтобы сдать проект успешно, нужно довести долю правильных ответов по крайней мере до 0.75. Проверьте *accuracy* на тестовой выборке самостоятельно."
   ]
  },
  {
   "cell_type": "markdown",
   "metadata": {},
   "source": [
    "## Откройте и изучите файл"
   ]
  },
  {
   "cell_type": "code",
   "execution_count": 1,
   "metadata": {},
   "outputs": [],
   "source": [
    "import pandas as pd\n",
    "from sklearn.model_selection import train_test_split\n",
    "from sklearn.tree import DecisionTreeClassifier\n",
    "from sklearn.ensemble import RandomForestClassifier\n",
    "from sklearn.metrics import accuracy_score"
   ]
  },
  {
   "cell_type": "code",
   "execution_count": 2,
   "metadata": {},
   "outputs": [
    {
     "data": {
      "text/plain": [
       "Index(['calls', 'minutes', 'messages', 'mb_used', 'is_ultra'], dtype='object')"
      ]
     },
     "execution_count": 2,
     "metadata": {},
     "output_type": "execute_result"
    }
   ],
   "source": [
    "df=pd.read_csv('/datasets/users_behavior.csv')\n",
    "df.columns"
   ]
  },
  {
   "cell_type": "code",
   "execution_count": 10,
   "metadata": {},
   "outputs": [
    {
     "name": "stdout",
     "output_type": "stream",
     "text": [
      "Кол-во дубликатов: 0\n",
      "<class 'pandas.core.frame.DataFrame'>\n",
      "RangeIndex: 3214 entries, 0 to 3213\n",
      "Data columns (total 5 columns):\n",
      " #   Column    Non-Null Count  Dtype  \n",
      "---  ------    --------------  -----  \n",
      " 0   calls     3214 non-null   float64\n",
      " 1   minutes   3214 non-null   float64\n",
      " 2   messages  3214 non-null   float64\n",
      " 3   mb_used   3214 non-null   float64\n",
      " 4   is_ultra  3214 non-null   int64  \n",
      "dtypes: float64(4), int64(1)\n",
      "memory usage: 125.7 KB\n",
      "None\n",
      "-------------------------\n",
      "calls [  0.   1.   2.   3.   4.   5.   6.   7.   8.   9.  10.  11.  12.  13.\n",
      "  14.  15.  16.  17.  18.  19.  20.  21.  22.  23.  24.  25.  26.  27.\n",
      "  28.  29.  30.  31.  32.  33.  34.  35.  36.  37.  38.  39.  40.  41.\n",
      "  42.  43.  44.  45.  46.  47.  48.  49.  50.  51.  52.  53.  54.  55.\n",
      "  56.  57.  58.  59.  60.  61.  62.  63.  64.  65.  66.  67.  68.  69.\n",
      "  70.  71.  72.  73.  74.  75.  76.  77.  78.  79.  80.  81.  82.  83.\n",
      "  84.  85.  86.  87.  88.  89.  90.  91.  92.  93.  94.  95.  96.  97.\n",
      "  98.  99. 100. 101. 102. 103. 104. 105. 106. 107. 108. 109. 110. 111.\n",
      " 112. 113. 114. 115. 116. 117. 118. 119. 120. 121. 122. 123. 124. 125.\n",
      " 126. 127. 128. 129. 130. 131. 132. 133. 134. 136. 137. 138. 140. 141.\n",
      " 142. 143. 144. 145. 146. 148. 150. 151. 152. 153. 154. 155. 156. 157.\n",
      " 158. 159. 160. 161. 162. 163. 164. 165. 167. 168. 169. 171. 172. 173.\n",
      " 174. 176. 177. 178. 180. 181. 182. 183. 184. 185. 188. 189. 196. 198.\n",
      " 203. 244.]\n",
      "calls : кол-во NaN 0 , процент NaN 0.0 %\n",
      "-------------------------\n",
      "minutes [0.00000e+00 1.00000e-01 1.00000e+00 ... 1.39022e+03 1.56645e+03\n",
      " 1.63206e+03]\n",
      "minutes : кол-во NaN 0 , процент NaN 0.0 %\n",
      "-------------------------\n",
      "messages [  0.   1.   2.   3.   4.   5.   6.   7.   8.   9.  10.  11.  12.  13.\n",
      "  14.  15.  16.  17.  18.  19.  20.  21.  22.  23.  24.  25.  26.  27.\n",
      "  28.  29.  30.  31.  32.  33.  34.  35.  36.  37.  38.  39.  40.  41.\n",
      "  42.  43.  44.  45.  46.  47.  48.  49.  50.  51.  52.  53.  54.  55.\n",
      "  56.  57.  58.  59.  60.  61.  62.  63.  64.  65.  66.  67.  68.  69.\n",
      "  70.  71.  72.  73.  74.  75.  76.  77.  78.  79.  80.  81.  82.  83.\n",
      "  84.  85.  86.  87.  88.  89.  90.  91.  92.  93.  94.  95.  96.  97.\n",
      "  98.  99. 100. 101. 102. 103. 104. 105. 106. 107. 108. 109. 110. 111.\n",
      " 112. 113. 114. 115. 116. 117. 118. 119. 120. 121. 122. 123. 124. 125.\n",
      " 126. 127. 128. 129. 130. 131. 132. 133. 134. 135. 136. 137. 138. 139.\n",
      " 140. 141. 142. 143. 144. 145. 146. 148. 149. 150. 151. 152. 153. 154.\n",
      " 155. 157. 158. 159. 162. 165. 169. 170. 171. 172. 173. 176. 178. 180.\n",
      " 181. 182. 183. 185. 188. 190. 191. 197. 201. 211. 223. 224.]\n",
      "messages : кол-во NaN 0 , процент NaN 0.0 %\n",
      "-------------------------\n",
      "mb_used [0.000000e+00 1.000000e-02 2.010800e+02 ... 4.518075e+04 4.835161e+04\n",
      " 4.974573e+04]\n",
      "mb_used : кол-во NaN 0 , процент NaN 0.0 %\n",
      "-------------------------\n",
      "is_ultra [0 1]\n",
      "is_ultra : кол-во NaN 0 , процент NaN 0.0 %\n"
     ]
    }
   ],
   "source": [
    "temp = df.copy() \n",
    "# Проверка на явные дубликаты\n",
    "print('Кол-во дубликатов:',temp.duplicated().sum())\n",
    "list_c = ['calls', 'minutes', 'messages', 'mb_used', 'is_ultra']\n",
    "print(temp.info())\n",
    "for col_l in list_c:\n",
    "  print('-------------------------')\n",
    "  print(col_l, temp[col_l].sort_values().unique())\n",
    "  print(col_l,': кол-во NaN',temp[col_l].isna().sum(),\n",
    "        ', процент NaN', round(temp[col_l].isna().sum()/len(temp)*100, 2),'%')"
   ]
  },
  {
   "cell_type": "markdown",
   "metadata": {},
   "source": [
    "<b>Выводы:</b>  \n",
    "* В датафрайме отсутсвуют пробелы.  \n",
    "* Типы данных соответсвуют данным в них.\n",
    "* В сете отсутсвуют дубликаты.\n",
    "* Значения тарифа-бинары."
   ]
  },
  {
   "cell_type": "markdown",
   "metadata": {},
   "source": [
    "## Разбейте данные на выборки"
   ]
  },
  {
   "cell_type": "code",
   "execution_count": 4,
   "metadata": {},
   "outputs": [],
   "source": [
    "features= df.drop(['is_ultra'], axis=1)\n",
    "target= df['is_ultra']\n",
    "features_train, features_rem, target_train, target_rem = train_test_split(features,target, train_size=0.8)\n",
    "\n",
    "features_valid, features_test, target_valid, target_test = train_test_split(features_rem,target_rem, test_size=0.5)\n"
   ]
  },
  {
   "cell_type": "markdown",
   "metadata": {},
   "source": [
    "## Исследуйте модели\n",
    "В данном анализе необходимо построить бинарную классификацию разделение на тарифы.  \n",
    "В исследование использовал две модели: Дерево (гиперпараметры: depth), Случайный Лес ( гиперпараметры: estimators)."
   ]
  },
  {
   "cell_type": "code",
   "execution_count": 8,
   "metadata": {},
   "outputs": [
    {
     "name": "stdout",
     "output_type": "stream",
     "text": [
      "max_depth = 1 : 0.7040498442367601\n",
      "max_depth = 2 : 0.7414330218068536\n",
      "max_depth = 3 : 0.7507788161993769\n",
      "max_depth = 4 : 0.7476635514018691\n",
      "max_depth = 5 : 0.7663551401869159\n",
      "max_depth = 6 : 0.7632398753894081\n",
      "max_depth = 7 : 0.7538940809968847\n",
      "max_depth = 8 : 0.7538940809968847\n",
      "max_depth = 9 : 0.7507788161993769\n"
     ]
    }
   ],
   "source": [
    "\n",
    "for depth in range(1, 10):\n",
    "    model = DecisionTreeClassifier(random_state=12345, max_depth=depth)\n",
    "    model.fit(features_train, target_train)\n",
    "    predictions_valid = model.predict(features_valid)\n",
    "    print(\"max_depth =\", depth, \": \", end='')\n",
    "    print(accuracy_score(target_valid, predictions_valid))"
   ]
  },
  {
   "cell_type": "code",
   "execution_count": 6,
   "metadata": {},
   "outputs": [
    {
     "name": "stdout",
     "output_type": "stream",
     "text": [
      "max_estimators = 1 : 0.719626168224299\n",
      "max_estimators = 2 : 0.7289719626168224\n",
      "max_estimators = 3 : 0.7040498442367601\n",
      "max_estimators = 4 : 0.7445482866043613\n",
      "max_estimators = 5 : 0.7632398753894081\n",
      "max_estimators = 6 : 0.7632398753894081\n",
      "max_estimators = 7 : 0.7632398753894081\n",
      "max_estimators = 8 : 0.7694704049844237\n",
      "max_estimators = 9 : 0.7663551401869159\n",
      "max_estimators = 10 : 0.778816199376947\n",
      "max_estimators = 11 : 0.7725856697819314\n",
      "max_estimators = 12 : 0.7819314641744548\n",
      "max_estimators = 13 : 0.7757009345794392\n",
      "max_estimators = 14 : 0.7757009345794392\n",
      "max_estimators = 15 : 0.778816199376947\n",
      "max_estimators = 16 : 0.778816199376947\n",
      "max_estimators = 17 : 0.7725856697819314\n",
      "max_estimators = 18 : 0.7725856697819314\n",
      "max_estimators = 19 : 0.7725856697819314\n"
     ]
    }
   ],
   "source": [
    "for est in range(1, 20):\n",
    "    model = RandomForestClassifier(random_state=12345, n_estimators=est)\n",
    "    model.fit(features_train,target_train)\n",
    "    predictions_valid = model.predict(features_valid)\n",
    "    print(\"max_estimators =\",est, \": \", end='')\n",
    "    print(accuracy_score(target_valid, predictions_valid))"
   ]
  },
  {
   "cell_type": "markdown",
   "metadata": {},
   "source": [
    "<b>Выводы:</b> Наилучшие показатели по модели мы получили, используя модель Случайный лес с estimators=12"
   ]
  },
  {
   "cell_type": "markdown",
   "metadata": {},
   "source": [
    "## Проверьте модель на тестовой выборке"
   ]
  },
  {
   "cell_type": "code",
   "execution_count": 7,
   "metadata": {},
   "outputs": [
    {
     "name": "stdout",
     "output_type": "stream",
     "text": [
      "0.7670807453416149\n"
     ]
    }
   ],
   "source": [
    "model = RandomForestClassifier(random_state=12345, n_estimators=12)\n",
    "model.fit(features_train,target_train)\n",
    "predictions_test = model.predict(features_test)\n",
    "print(accuracy_score(target_test, predictions_test))"
   ]
  },
  {
   "cell_type": "markdown",
   "metadata": {},
   "source": [
    "<b>Выводы:</b> Применили выбранную модель к тестовой выборке и получили точность (accuracy) =0.76, при допустимом 0.75"
   ]
  },
  {
   "cell_type": "markdown",
   "metadata": {},
   "source": [
    "<b>Общий вывод:</b> Интерпретируя результат исследования, можно сказать, что построенная модель позволит с точностью практически 80% определять какой тариф рекомендовать  пользователю, зная его месячные потребления минут, сообщений, трафика."
   ]
  },
  {
   "cell_type": "markdown",
   "metadata": {},
   "source": [
    "## (бонус) Проверьте модели на адекватность"
   ]
  },
  {
   "cell_type": "code",
   "execution_count": 11,
   "metadata": {},
   "outputs": [
    {
     "data": {
      "text/plain": [
       "0    0.693528\n",
       "1    0.306472\n",
       "Name: is_ultra, dtype: float64"
      ]
     },
     "execution_count": 11,
     "metadata": {},
     "output_type": "execute_result"
    }
   ],
   "source": [
    "df['is_ultra'].value_counts() / df.shape[0]"
   ]
  }
 ],
 "metadata": {
  "ExecuteTimeLog": [
   {
    "duration": 55,
    "start_time": "2022-05-20T08:19:21.439Z"
   },
   {
    "duration": 494,
    "start_time": "2022-05-20T08:19:32.329Z"
   },
   {
    "duration": 125,
    "start_time": "2022-05-20T08:19:34.382Z"
   },
   {
    "duration": 38,
    "start_time": "2022-05-20T08:19:56.129Z"
   },
   {
    "duration": 32,
    "start_time": "2022-05-20T08:30:01.481Z"
   },
   {
    "duration": 984,
    "start_time": "2022-05-20T08:30:09.876Z"
   },
   {
    "duration": 48,
    "start_time": "2022-05-20T08:30:10.861Z"
   },
   {
    "duration": 6,
    "start_time": "2022-05-20T08:30:10.911Z"
   },
   {
    "duration": 112,
    "start_time": "2022-05-20T09:36:30.277Z"
   },
   {
    "duration": 1028,
    "start_time": "2022-05-20T09:36:37.808Z"
   },
   {
    "duration": 46,
    "start_time": "2022-05-20T09:36:38.838Z"
   },
   {
    "duration": 7,
    "start_time": "2022-05-20T09:36:38.886Z"
   },
   {
    "duration": 122,
    "start_time": "2022-05-20T09:36:38.894Z"
   },
   {
    "duration": 3,
    "start_time": "2022-05-20T09:36:53.938Z"
   },
   {
    "duration": 37,
    "start_time": "2022-05-20T09:36:55.977Z"
   },
   {
    "duration": 6,
    "start_time": "2022-05-20T09:36:58.770Z"
   },
   {
    "duration": 14,
    "start_time": "2022-05-20T09:37:01.529Z"
   },
   {
    "duration": 988,
    "start_time": "2022-05-20T09:37:30.645Z"
   },
   {
    "duration": 48,
    "start_time": "2022-05-20T09:37:31.635Z"
   },
   {
    "duration": 6,
    "start_time": "2022-05-20T09:37:31.685Z"
   },
   {
    "duration": 67,
    "start_time": "2022-05-20T09:37:31.693Z"
   },
   {
    "duration": 149,
    "start_time": "2022-05-20T09:46:15.345Z"
   },
   {
    "duration": 17,
    "start_time": "2022-05-20T09:46:39.895Z"
   },
   {
    "duration": 42,
    "start_time": "2022-05-20T09:46:48.616Z"
   },
   {
    "duration": 42,
    "start_time": "2022-05-20T09:47:06.903Z"
   },
   {
    "duration": 39,
    "start_time": "2022-05-20T09:51:43.385Z"
   },
   {
    "duration": 31,
    "start_time": "2022-05-20T09:52:05.231Z"
   },
   {
    "duration": 42,
    "start_time": "2022-05-20T09:52:13.245Z"
   },
   {
    "duration": 11,
    "start_time": "2022-05-20T09:54:02.981Z"
   },
   {
    "duration": 1030,
    "start_time": "2022-05-20T09:54:24.554Z"
   },
   {
    "duration": 44,
    "start_time": "2022-05-20T09:54:25.586Z"
   },
   {
    "duration": 9,
    "start_time": "2022-05-20T09:54:25.632Z"
   },
   {
    "duration": 68,
    "start_time": "2022-05-20T09:54:25.643Z"
   },
   {
    "duration": 384,
    "start_time": "2022-05-20T09:54:25.713Z"
   },
   {
    "duration": 1124,
    "start_time": "2022-05-20T09:54:42.061Z"
   },
   {
    "duration": 72,
    "start_time": "2022-05-20T10:03:02.162Z"
   },
   {
    "duration": 39,
    "start_time": "2022-05-20T10:37:22.975Z"
   },
   {
    "duration": 37,
    "start_time": "2022-05-20T10:42:39.910Z"
   },
   {
    "duration": 132,
    "start_time": "2022-05-20T10:45:45.599Z"
   },
   {
    "duration": 28,
    "start_time": "2022-05-20T11:01:10.971Z"
   },
   {
    "duration": 25,
    "start_time": "2022-05-20T11:01:30.229Z"
   },
   {
    "duration": 37,
    "start_time": "2022-05-20T11:13:40.553Z"
   },
   {
    "duration": 996,
    "start_time": "2022-05-20T11:20:13.212Z"
   },
   {
    "duration": 34,
    "start_time": "2022-05-20T11:20:14.211Z"
   },
   {
    "duration": 24,
    "start_time": "2022-05-20T11:20:14.247Z"
   },
   {
    "duration": 10,
    "start_time": "2022-05-20T11:20:14.273Z"
   },
   {
    "duration": 70,
    "start_time": "2022-05-20T11:20:14.284Z"
   },
   {
    "duration": 1113,
    "start_time": "2022-05-20T11:20:14.356Z"
   },
   {
    "duration": 94,
    "start_time": "2022-05-20T11:20:15.471Z"
   },
   {
    "duration": 934,
    "start_time": "2022-05-20T11:28:09.356Z"
   },
   {
    "duration": 38,
    "start_time": "2022-05-20T11:28:10.292Z"
   },
   {
    "duration": 25,
    "start_time": "2022-05-20T11:28:10.332Z"
   },
   {
    "duration": 6,
    "start_time": "2022-05-20T11:28:10.358Z"
   },
   {
    "duration": 45,
    "start_time": "2022-05-20T11:28:10.367Z"
   },
   {
    "duration": 1023,
    "start_time": "2022-05-20T11:28:10.414Z"
   },
   {
    "duration": 74,
    "start_time": "2022-05-20T11:28:11.438Z"
   },
   {
    "duration": 1081,
    "start_time": "2022-05-20T12:23:14.036Z"
   },
   {
    "duration": 118,
    "start_time": "2022-05-20T12:23:15.120Z"
   },
   {
    "duration": 27,
    "start_time": "2022-05-20T12:23:15.240Z"
   },
   {
    "duration": 6,
    "start_time": "2022-05-20T12:23:15.269Z"
   },
   {
    "duration": 16,
    "start_time": "2022-05-20T12:23:15.278Z"
   },
   {
    "duration": 14,
    "start_time": "2022-05-20T12:23:15.295Z"
   },
   {
    "duration": 39,
    "start_time": "2022-05-20T12:23:15.310Z"
   },
   {
    "duration": 1041,
    "start_time": "2022-05-20T12:23:15.351Z"
   },
   {
    "duration": 66,
    "start_time": "2022-05-20T12:23:16.393Z"
   },
   {
    "duration": 13,
    "start_time": "2022-05-20T12:24:03.710Z"
   },
   {
    "duration": 14,
    "start_time": "2022-05-20T12:25:06.956Z"
   },
   {
    "duration": 13,
    "start_time": "2022-05-20T12:25:14.850Z"
   },
   {
    "duration": 1000,
    "start_time": "2022-05-20T13:04:47.318Z"
   },
   {
    "duration": 118,
    "start_time": "2022-05-20T13:04:48.320Z"
   },
   {
    "duration": 27,
    "start_time": "2022-05-20T13:04:48.440Z"
   },
   {
    "duration": 7,
    "start_time": "2022-05-20T13:04:48.468Z"
   },
   {
    "duration": 50,
    "start_time": "2022-05-20T13:04:48.479Z"
   },
   {
    "duration": 1163,
    "start_time": "2022-05-20T13:04:48.533Z"
   },
   {
    "duration": 100,
    "start_time": "2022-05-20T13:04:49.697Z"
   },
   {
    "duration": 73,
    "start_time": "2022-05-20T13:05:04.277Z"
   },
   {
    "duration": 34,
    "start_time": "2022-05-20T13:07:57.507Z"
   },
   {
    "duration": 25,
    "start_time": "2022-05-20T13:19:33.586Z"
   },
   {
    "duration": 228,
    "start_time": "2022-05-20T13:26:38.951Z"
   }
  ],
  "kernelspec": {
   "display_name": "Python 3 (ipykernel)",
   "language": "python",
   "name": "python3"
  },
  "language_info": {
   "codemirror_mode": {
    "name": "ipython",
    "version": 3
   },
   "file_extension": ".py",
   "mimetype": "text/x-python",
   "name": "python",
   "nbconvert_exporter": "python",
   "pygments_lexer": "ipython3",
   "version": "3.7.8"
  },
  "toc": {
   "base_numbering": 1,
   "nav_menu": {},
   "number_sections": true,
   "sideBar": true,
   "skip_h1_title": true,
   "title_cell": "Table of Contents",
   "title_sidebar": "Contents",
   "toc_cell": false,
   "toc_position": {},
   "toc_section_display": true,
   "toc_window_display": false
  }
 },
 "nbformat": 4,
 "nbformat_minor": 2
}
