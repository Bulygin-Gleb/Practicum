{
 "cells": [
  {
   "cell_type": "markdown",
   "metadata": {},
   "source": [
    "# Определение перспективного тарифа для телеком-компании"
   ]
  },
  {
   "cell_type": "markdown",
   "metadata": {},
   "source": [
    "Проект направлен на анализ поведения клиентов использующих два различных тарифа (Смарт и Ультра)  \n",
    "\n",
    "Основной цель проекта- выбрать наиболее перспективный тариф. Определить какой тариф лучше.  \n",
    "\n",
    "<b>Описание данных:</b>  \n",
    "\n",
    "<b>Таблица users (информация о пользователях):</b>  \n",
    "user_id — уникальный идентификатор пользователя  \n",
    "first_name — имя пользователя  \n",
    "last_name — фамилия пользователя  \n",
    "age — возраст пользователя (годы)  \n",
    "reg_date — дата подключения тарифа (день, месяц, год)  \n",
    "churn_date — дата прекращения пользования тарифом (если значение пропущено, то тариф ещё действовал на момент выгрузки данных)  \n",
    "city — город проживания пользователя  \n",
    "tariff — название тарифного плана  \n",
    "\n",
    "<b>Таблица calls (информация о звонках):</b>  \n",
    "id — уникальный номер звонка  \n",
    "call_date — дата звонка  \n",
    "duration — длительность звонка в минутах  \n",
    "user_id — идентификатор пользователя, сделавшего звонок  \n",
    "\n",
    "<b>Таблица messages (информация о сообщениях):</b>  \n",
    "id — уникальный номер сообщения  \n",
    "message_date — дата сообщения  \n",
    "user_id — идентификатор пользователя, отправившего сообщение  \n",
    "\n",
    "<b>Таблица internet (информация об интернет-сессиях):</b>  \n",
    "id — уникальный номер сессии  \n",
    "mb_used — объём потраченного за сессию интернет-трафика (в мегабайтах)  \n",
    "session_date — дата интернет-сессии  \n",
    "user_id — идентификатор пользователя  \n",
    "\n",
    "<b>Таблица tariffs (информация о тарифах):</b>  \n",
    "tariff_name — название тарифа  \n",
    "rub_monthly_fee — ежемесячная абонентская плата в рублях  \n",
    "minutes_included — количество минут разговора в месяц, включённых в абонентскую плату  \n",
    "messages_included — количество сообщений в месяц, включённых в абонентскую плату  \n",
    "mb_per_month_included — объём интернет-трафика, включённого в абонентскую плату (в мегабайтах)  \n",
    "rub_per_minute — стоимость минуты разговора сверх тарифного пакета (например, если в тарифе 100 минут разговора в месяц, то со 101 минуты будет взиматься плата)  \n",
    "rub_per_message — стоимость отправки сообщения сверх тарифного пакета  \n",
    "rub_per_gb — стоимость дополнительного гигабайта интернет-трафика сверх тарифного пакета (1 гигабайт = 1024 мегабайта)  \n",
    "\n",
    "<b>План работ:</b>\n",
    "   - Импортировать данные\n",
    "   - Проверить каждую таблицу на неверные данные (поиск аномалий и не верных значений) + исправление по возможности\n",
    "   - Коррекция типов данных\n",
    "   - Сведение всех таблиц в общий источник данных\n",
    "   - Оценка ключевых показателей по каждому тарифу\n",
    "   - Проверка гипотез \n",
    "   - Выводы\n"
   ]
  },
  {
   "cell_type": "markdown",
   "metadata": {},
   "source": [
    "<b>Импорт библиотек</b>"
   ]
  },
  {
   "cell_type": "code",
   "execution_count": 1,
   "metadata": {
    "scrolled": false
   },
   "outputs": [],
   "source": [
    "import pandas as pd\n",
    "import matplotlib.pyplot as plt\n",
    "import datetime as dt\n",
    "import math as mt\n",
    "import numpy as np"
   ]
  },
  {
   "cell_type": "markdown",
   "metadata": {},
   "source": [
    "<b>Импорт данных</b>"
   ]
  },
  {
   "cell_type": "code",
   "execution_count": 2,
   "metadata": {},
   "outputs": [],
   "source": [
    "pd.options.display.float_format = '{:.2f}'.format\n",
    "data_users=pd.read_csv('/datasets/users.csv' )\n",
    "data_tariffs=pd.read_csv('/datasets/tariffs.csv' )\n",
    "data_call=pd.read_csv('/datasets/calls.csv' )\n",
    "data_internet=pd.read_csv('/datasets/internet.csv' )\n",
    "data_messages=pd.read_csv('/datasets/messages.csv' )"
   ]
  },
  {
   "cell_type": "markdown",
   "metadata": {},
   "source": [
    "# Первичная обработка таблиц"
   ]
  },
  {
   "cell_type": "markdown",
   "metadata": {},
   "source": [
    "## Таблица Call\n",
    "В данной таблице были проведены следующие изменения:  \n",
    "- Произведено округление звонков вверх до ближайшего целого значения;\n",
    "- Убраны нулевые по длительности звонки, так как они не поглощают \"ресурсы\" тарифа;\n",
    "- Добавлено дополнительное поле МЕСЯЦ для группировки;\n",
    "- Произведена группировка данных и изменены названия столбцов.  "
   ]
  },
  {
   "cell_type": "code",
   "execution_count": 3,
   "metadata": {
    "scrolled": false
   },
   "outputs": [
    {
     "data": {
      "text/html": [
       "<div>\n",
       "<style scoped>\n",
       "    .dataframe tbody tr th:only-of-type {\n",
       "        vertical-align: middle;\n",
       "    }\n",
       "\n",
       "    .dataframe tbody tr th {\n",
       "        vertical-align: top;\n",
       "    }\n",
       "\n",
       "    .dataframe thead th {\n",
       "        text-align: right;\n",
       "    }\n",
       "</style>\n",
       "<table border=\"1\" class=\"dataframe\">\n",
       "  <thead>\n",
       "    <tr style=\"text-align: right;\">\n",
       "      <th></th>\n",
       "      <th>user_id</th>\n",
       "      <th>month_user</th>\n",
       "      <th>count_call</th>\n",
       "      <th>sum_call</th>\n",
       "    </tr>\n",
       "  </thead>\n",
       "  <tbody>\n",
       "    <tr>\n",
       "      <th>0</th>\n",
       "      <td>1000</td>\n",
       "      <td>2018-05</td>\n",
       "      <td>17</td>\n",
       "      <td>159.00</td>\n",
       "    </tr>\n",
       "    <tr>\n",
       "      <th>1</th>\n",
       "      <td>1000</td>\n",
       "      <td>2018-06</td>\n",
       "      <td>28</td>\n",
       "      <td>172.00</td>\n",
       "    </tr>\n",
       "    <tr>\n",
       "      <th>2</th>\n",
       "      <td>1000</td>\n",
       "      <td>2018-07</td>\n",
       "      <td>41</td>\n",
       "      <td>340.00</td>\n",
       "    </tr>\n",
       "    <tr>\n",
       "      <th>3</th>\n",
       "      <td>1000</td>\n",
       "      <td>2018-08</td>\n",
       "      <td>42</td>\n",
       "      <td>408.00</td>\n",
       "    </tr>\n",
       "    <tr>\n",
       "      <th>4</th>\n",
       "      <td>1000</td>\n",
       "      <td>2018-09</td>\n",
       "      <td>46</td>\n",
       "      <td>466.00</td>\n",
       "    </tr>\n",
       "  </tbody>\n",
       "</table>\n",
       "</div>"
      ],
      "text/plain": [
       "   user_id month_user  count_call  sum_call\n",
       "0     1000    2018-05          17    159.00\n",
       "1     1000    2018-06          28    172.00\n",
       "2     1000    2018-07          41    340.00\n",
       "3     1000    2018-08          42    408.00\n",
       "4     1000    2018-09          46    466.00"
      ]
     },
     "metadata": {},
     "output_type": "display_data"
    },
    {
     "name": "stdout",
     "output_type": "stream",
     "text": [
      "<class 'pandas.core.frame.DataFrame'>\n",
      "RangeIndex: 3168 entries, 0 to 3167\n",
      "Data columns (total 4 columns):\n",
      " #   Column      Non-Null Count  Dtype    \n",
      "---  ------      --------------  -----    \n",
      " 0   user_id     3168 non-null   int64    \n",
      " 1   month_user  3168 non-null   period[M]\n",
      " 2   count_call  3168 non-null   int64    \n",
      " 3   sum_call    3168 non-null   float64  \n",
      "dtypes: float64(1), int64(2), period[M](1)\n",
      "memory usage: 99.1 KB\n"
     ]
    }
   ],
   "source": [
    "# обработка таблицы call\n",
    "data_call['duration']=np.ceil(data_call['duration']) # округление звонков\n",
    "data_call=data_call.loc[data_call['duration']!=0] # убираем нулевые звонки\n",
    "data_call['call_date']=pd.to_datetime(data_call['call_date']).dt.to_period('M') # дата для группировки\n",
    "data_call=data_call.groupby(['user_id','call_date']).agg({'duration':['count','sum']}).reset_index()\n",
    "data_call.columns = ['user_id','month_user','count_call','sum_call']\n",
    "display(data_call.head())\n",
    "data_call.info()"
   ]
  },
  {
   "cell_type": "markdown",
   "metadata": {},
   "source": [
    "Данные имеют верные типы данных.  \n",
    "Ниже приведены два графика распределения кол-ва потраченных минут. (визуальная проверка отсутствия выбросов)"
   ]
  },
  {
   "cell_type": "code",
   "execution_count": 4,
   "metadata": {},
   "outputs": [
    {
     "data": {
      "text/plain": [
       "Text(0.5, 1.0, 'Распределение пользователей по кол-ву потребленных минут в месяц')"
      ]
     },
     "execution_count": 4,
     "metadata": {},
     "output_type": "execute_result"
    },
    {
     "data": {
      "image/png": "[encoded data removed]",
      "text/plain": [
       "<Figure size 1080x216 with 1 Axes>"
      ]
     },
     "metadata": {
      "needs_background": "light"
     },
     "output_type": "display_data"
    },
    {
     "data": {
      "image/png": "[encoded data removed]",
      "text/plain": [
       "<Figure size 1080x216 with 1 Axes>"
      ]
     },
     "metadata": {
      "needs_background": "light"
     },
     "output_type": "display_data"
    }
   ],
   "source": [
    "# Проверка\n",
    "data_call_chek=data_call.pivot_table(index='month_user', values=['count_call','sum_call'] ,aggfunc='sum')\n",
    "data_call_chek.plot(y=['count_call','sum_call'],kind='bar',figsize=(15,3))\n",
    "plt.title('Распределение потредленных минут по месяцам')\n",
    "data_call_chek2=data_call.pivot_table(index='user_id', values='sum_call' ,aggfunc='mean')\n",
    "data_call_chek2.plot(y='sum_call',kind='hist',bins=20, figsize=(15,3))\n",
    "plt.title('Распределение пользователей по кол-ву потребленных минут в месяц')\n"
   ]
  },
  {
   "cell_type": "markdown",
   "metadata": {},
   "source": [
    "Выводы:  \n",
    "* На графике по месяцам видно нарастание объема, следовательно, выборка увеличивалась в течение года.  \n",
    "    Это может негативно отразится на анализе, так как каждый месяцам мы видим разный набор по пользователей.  \n",
    "* График распределения потребления минут переделал на среднемесячный показатель. Нормальное распределение. Мат. Ожидание в районе 450 минут.\n"
   ]
  },
  {
   "cell_type": "markdown",
   "metadata": {},
   "source": [
    "## Таблица internet\n",
    "В данной таблице были проведены следующие изменения:  \n",
    "- Произведено округление потребленного интернета вверх до ближайшего целого значения;\n",
    "- Убраны нулевые по длительности сессии, так как они не поглощают \"ресурсы\" тарифа;\n",
    "- Добавлено дополнительное поле МЕСЯЦ для группировки;\n",
    "- Произведена группировка данных и изменены названия столбцов."
   ]
  },
  {
   "cell_type": "code",
   "execution_count": 5,
   "metadata": {
    "scrolled": false
   },
   "outputs": [
    {
     "data": {
      "text/html": [
       "<div>\n",
       "<style scoped>\n",
       "    .dataframe tbody tr th:only-of-type {\n",
       "        vertical-align: middle;\n",
       "    }\n",
       "\n",
       "    .dataframe tbody tr th {\n",
       "        vertical-align: top;\n",
       "    }\n",
       "\n",
       "    .dataframe thead th {\n",
       "        text-align: right;\n",
       "    }\n",
       "</style>\n",
       "<table border=\"1\" class=\"dataframe\">\n",
       "  <thead>\n",
       "    <tr style=\"text-align: right;\">\n",
       "      <th></th>\n",
       "      <th>user_id</th>\n",
       "      <th>month_user</th>\n",
       "      <th>count_int</th>\n",
       "      <th>sum_int</th>\n",
       "    </tr>\n",
       "  </thead>\n",
       "  <tbody>\n",
       "    <tr>\n",
       "      <th>0</th>\n",
       "      <td>1000</td>\n",
       "      <td>2018-05</td>\n",
       "      <td>4</td>\n",
       "      <td>3.00</td>\n",
       "    </tr>\n",
       "    <tr>\n",
       "      <th>1</th>\n",
       "      <td>1000</td>\n",
       "      <td>2018-06</td>\n",
       "      <td>44</td>\n",
       "      <td>23.00</td>\n",
       "    </tr>\n",
       "    <tr>\n",
       "      <th>2</th>\n",
       "      <td>1000</td>\n",
       "      <td>2018-07</td>\n",
       "      <td>28</td>\n",
       "      <td>14.00</td>\n",
       "    </tr>\n",
       "    <tr>\n",
       "      <th>3</th>\n",
       "      <td>1000</td>\n",
       "      <td>2018-08</td>\n",
       "      <td>27</td>\n",
       "      <td>14.00</td>\n",
       "    </tr>\n",
       "    <tr>\n",
       "      <th>4</th>\n",
       "      <td>1000</td>\n",
       "      <td>2018-09</td>\n",
       "      <td>25</td>\n",
       "      <td>15.00</td>\n",
       "    </tr>\n",
       "  </tbody>\n",
       "</table>\n",
       "</div>"
      ],
      "text/plain": [
       "   user_id month_user  count_int  sum_int\n",
       "0     1000    2018-05          4     3.00\n",
       "1     1000    2018-06         44    23.00\n",
       "2     1000    2018-07         28    14.00\n",
       "3     1000    2018-08         27    14.00\n",
       "4     1000    2018-09         25    15.00"
      ]
     },
     "metadata": {},
     "output_type": "display_data"
    },
    {
     "name": "stdout",
     "output_type": "stream",
     "text": [
      "<class 'pandas.core.frame.DataFrame'>\n",
      "RangeIndex: 3201 entries, 0 to 3200\n",
      "Data columns (total 4 columns):\n",
      " #   Column      Non-Null Count  Dtype    \n",
      "---  ------      --------------  -----    \n",
      " 0   user_id     3201 non-null   int64    \n",
      " 1   month_user  3201 non-null   period[M]\n",
      " 2   count_int   3201 non-null   int64    \n",
      " 3   sum_int     3201 non-null   float64  \n",
      "dtypes: float64(1), int64(2), period[M](1)\n",
      "memory usage: 100.2 KB\n"
     ]
    }
   ],
   "source": [
    "# обработка таблицы internet\n",
    "\n",
    "data_internet=data_internet.loc[data_internet['mb_used']!=0]# Убираем нулевые сессии\n",
    "data_internet['session_date']=pd.to_datetime(data_internet['session_date']).dt.to_period('M')# дата группировки\n",
    "data_internet=data_internet.groupby(['user_id','session_date']).agg({'mb_used':['count','sum']}).reset_index()\n",
    "data_internet.columns = ['user_id','month_user','count_int','sum_int']\n",
    "data_internet['sum_int']=np.ceil(data_internet['sum_int']/1024)# округляем потребление трафика и перевел  сразу в гигобайты\n",
    "display(data_internet.head())\n",
    "data_internet.info()"
   ]
  },
  {
   "cell_type": "markdown",
   "metadata": {},
   "source": [
    "Данные имеют верные типы данных.  \n",
    "Ниже приведены два графика распределения кол-ва потраченных минут. (визуальная проверка отсутствия выбросов)"
   ]
  },
  {
   "cell_type": "code",
   "execution_count": 6,
   "metadata": {},
   "outputs": [
    {
     "data": {
      "text/plain": [
       "Text(0.5, 1.0, 'Распределение пользователей по кол-ву потребляемого интернета')"
      ]
     },
     "execution_count": 6,
     "metadata": {},
     "output_type": "execute_result"
    },
    {
     "data": {
      "image/png": "[encoded data removed]",
      "text/plain": [
       "<Figure size 1080x216 with 1 Axes>"
      ]
     },
     "metadata": {
      "needs_background": "light"
     },
     "output_type": "display_data"
    },
    {
     "data": {
      "image/png": "[encoded data removed]",
      "text/plain": [
       "<Figure size 1080x216 with 1 Axes>"
      ]
     },
     "metadata": {
      "needs_background": "light"
     },
     "output_type": "display_data"
    }
   ],
   "source": [
    "# Проверка\n",
    "data_internet_chek=data_internet.pivot_table(index='month_user', values=['count_int','sum_int'] ,aggfunc='sum')\n",
    "data_internet_chek['sum_int']=data_internet_chek['sum_int']\n",
    "data_internet_chek.plot(y=['count_int','sum_int'],kind='bar',figsize=(15,3))\n",
    "plt.title('Распределение потредленных интернета по месяцам')\n",
    "data_internet_chek2=data_internet.pivot_table(index='user_id', values='sum_int' ,aggfunc='mean')\n",
    "data_internet_chek2.plot(y='sum_int',kind='hist',bins=20, figsize=(15,3))\n",
    "plt.title('Распределение пользователей по кол-ву потребляемого интернета')"
   ]
  },
  {
   "cell_type": "markdown",
   "metadata": {},
   "source": [
    "<b>Выводы:</b>  \n",
    "* Потребление трафика также нарастает к концу периода- выборка постоянно увеличивается\n",
    "* График распределения имеет форму нормального распределения с центром потребления 15-16 гигабайт.\n"
   ]
  },
  {
   "cell_type": "markdown",
   "metadata": {},
   "source": [
    "## Таблица messages\n",
    "В данной таблице были проведены следующие изменения:  \n",
    "- Добавлено дополнительное поле МЕСЯЦ для группировки;\n",
    "- Произведена группировка данных и изменены названия столбцов."
   ]
  },
  {
   "cell_type": "code",
   "execution_count": 7,
   "metadata": {},
   "outputs": [
    {
     "data": {
      "text/html": [
       "<div>\n",
       "<style scoped>\n",
       "    .dataframe tbody tr th:only-of-type {\n",
       "        vertical-align: middle;\n",
       "    }\n",
       "\n",
       "    .dataframe tbody tr th {\n",
       "        vertical-align: top;\n",
       "    }\n",
       "\n",
       "    .dataframe thead th {\n",
       "        text-align: right;\n",
       "    }\n",
       "</style>\n",
       "<table border=\"1\" class=\"dataframe\">\n",
       "  <thead>\n",
       "    <tr style=\"text-align: right;\">\n",
       "      <th></th>\n",
       "      <th>user_id</th>\n",
       "      <th>month_user</th>\n",
       "      <th>count_mes</th>\n",
       "    </tr>\n",
       "  </thead>\n",
       "  <tbody>\n",
       "    <tr>\n",
       "      <th>0</th>\n",
       "      <td>1000</td>\n",
       "      <td>2018-05</td>\n",
       "      <td>22</td>\n",
       "    </tr>\n",
       "    <tr>\n",
       "      <th>1</th>\n",
       "      <td>1000</td>\n",
       "      <td>2018-06</td>\n",
       "      <td>60</td>\n",
       "    </tr>\n",
       "    <tr>\n",
       "      <th>2</th>\n",
       "      <td>1000</td>\n",
       "      <td>2018-07</td>\n",
       "      <td>75</td>\n",
       "    </tr>\n",
       "    <tr>\n",
       "      <th>3</th>\n",
       "      <td>1000</td>\n",
       "      <td>2018-08</td>\n",
       "      <td>81</td>\n",
       "    </tr>\n",
       "    <tr>\n",
       "      <th>4</th>\n",
       "      <td>1000</td>\n",
       "      <td>2018-09</td>\n",
       "      <td>57</td>\n",
       "    </tr>\n",
       "  </tbody>\n",
       "</table>\n",
       "</div>"
      ],
      "text/plain": [
       "   user_id month_user  count_mes\n",
       "0     1000    2018-05         22\n",
       "1     1000    2018-06         60\n",
       "2     1000    2018-07         75\n",
       "3     1000    2018-08         81\n",
       "4     1000    2018-09         57"
      ]
     },
     "metadata": {},
     "output_type": "display_data"
    },
    {
     "name": "stdout",
     "output_type": "stream",
     "text": [
      "<class 'pandas.core.frame.DataFrame'>\n",
      "RangeIndex: 2717 entries, 0 to 2716\n",
      "Data columns (total 3 columns):\n",
      " #   Column      Non-Null Count  Dtype    \n",
      "---  ------      --------------  -----    \n",
      " 0   user_id     2717 non-null   int64    \n",
      " 1   month_user  2717 non-null   period[M]\n",
      " 2   count_mes   2717 non-null   int64    \n",
      "dtypes: int64(2), period[M](1)\n",
      "memory usage: 63.8 KB\n"
     ]
    },
    {
     "data": {
      "image/png": "[encoded data removed]",
      "text/plain": [
       "<Figure size 1080x216 with 1 Axes>"
      ]
     },
     "metadata": {
      "needs_background": "light"
     },
     "output_type": "display_data"
    }
   ],
   "source": [
    "# обработка таблицы message\n",
    "data_messages.head()\n",
    "data_messages['message_date']=pd.to_datetime(data_messages['message_date']).dt.to_period('M')\n",
    "data_messages=data_messages.groupby(['user_id','message_date']).agg({'id':'count'}).reset_index()\n",
    "data_messages.columns = ['user_id','month_user','count_mes']\n",
    "data_messages_chek=data_messages.pivot_table(index='month_user', values=['count_mes'] ,aggfunc='sum')\n",
    "data_messages_chek.plot(y=['count_mes'],kind='bar',figsize=(15,3))\n",
    "display(data_messages.head())\n",
    "data_messages.info()"
   ]
  },
  {
   "cell_type": "markdown",
   "metadata": {},
   "source": [
    "## Таблица User"
   ]
  },
  {
   "cell_type": "code",
   "execution_count": 8,
   "metadata": {},
   "outputs": [
    {
     "name": "stdout",
     "output_type": "stream",
     "text": [
      "<class 'pandas.core.frame.DataFrame'>\n",
      "RangeIndex: 500 entries, 0 to 499\n",
      "Data columns (total 8 columns):\n",
      " #   Column      Non-Null Count  Dtype \n",
      "---  ------      --------------  ----- \n",
      " 0   user_id     500 non-null    int64 \n",
      " 1   age         500 non-null    int64 \n",
      " 2   churn_date  38 non-null     object\n",
      " 3   city        500 non-null    object\n",
      " 4   first_name  500 non-null    object\n",
      " 5   last_name   500 non-null    object\n",
      " 6   reg_date    500 non-null    object\n",
      " 7   tariff      500 non-null    object\n",
      "dtypes: int64(2), object(6)\n",
      "memory usage: 31.4+ KB\n"
     ]
    }
   ],
   "source": [
    "data_users.info()"
   ]
  },
  {
   "cell_type": "code",
   "execution_count": 9,
   "metadata": {},
   "outputs": [],
   "source": [
    "# Обработка полей с датой\n",
    "data_users['churn_date']= pd.to_datetime(data_users['churn_date'])\n",
    "data_users['reg_date']= pd.to_datetime(data_users['reg_date'])\n"
   ]
  },
  {
   "cell_type": "markdown",
   "metadata": {},
   "source": [
    "# Сведение общей таблицы и расчёт доп. показателей"
   ]
  },
  {
   "cell_type": "markdown",
   "metadata": {},
   "source": [
    "Последовательно объединяем данные из  таблиц потребления (data_call, data_internet, data_messages) с таблицами User и Tariff  тем самым получаем полную картину потребления всех пользователей и знание к какому тарифу они относятся."
   ]
  },
  {
   "cell_type": "code",
   "execution_count": 10,
   "metadata": {},
   "outputs": [
    {
     "data": {
      "text/html": [
       "<div>\n",
       "<style scoped>\n",
       "    .dataframe tbody tr th:only-of-type {\n",
       "        vertical-align: middle;\n",
       "    }\n",
       "\n",
       "    .dataframe tbody tr th {\n",
       "        vertical-align: top;\n",
       "    }\n",
       "\n",
       "    .dataframe thead th {\n",
       "        text-align: right;\n",
       "    }\n",
       "</style>\n",
       "<table border=\"1\" class=\"dataframe\">\n",
       "  <thead>\n",
       "    <tr style=\"text-align: right;\">\n",
       "      <th></th>\n",
       "      <th>user_id</th>\n",
       "      <th>month_user</th>\n",
       "      <th>count_call</th>\n",
       "      <th>sum_call</th>\n",
       "      <th>count_int</th>\n",
       "      <th>sum_int</th>\n",
       "      <th>count_mes</th>\n",
       "      <th>age</th>\n",
       "      <th>churn_date</th>\n",
       "      <th>city</th>\n",
       "      <th>...</th>\n",
       "      <th>last_name</th>\n",
       "      <th>reg_date</th>\n",
       "      <th>tariff</th>\n",
       "      <th>messages_included</th>\n",
       "      <th>mb_per_month_included</th>\n",
       "      <th>minutes_included</th>\n",
       "      <th>rub_monthly_fee</th>\n",
       "      <th>rub_per_gb</th>\n",
       "      <th>rub_per_message</th>\n",
       "      <th>rub_per_minute</th>\n",
       "    </tr>\n",
       "  </thead>\n",
       "  <tbody>\n",
       "    <tr>\n",
       "      <th>0</th>\n",
       "      <td>1000</td>\n",
       "      <td>2018-05</td>\n",
       "      <td>17.00</td>\n",
       "      <td>159.00</td>\n",
       "      <td>4.00</td>\n",
       "      <td>3.00</td>\n",
       "      <td>22.00</td>\n",
       "      <td>52</td>\n",
       "      <td>NaT</td>\n",
       "      <td>Краснодар</td>\n",
       "      <td>...</td>\n",
       "      <td>Верещагин</td>\n",
       "      <td>2018-05-25</td>\n",
       "      <td>ultra</td>\n",
       "      <td>1000</td>\n",
       "      <td>30720</td>\n",
       "      <td>3000</td>\n",
       "      <td>1950</td>\n",
       "      <td>150</td>\n",
       "      <td>1</td>\n",
       "      <td>1</td>\n",
       "    </tr>\n",
       "    <tr>\n",
       "      <th>1</th>\n",
       "      <td>1000</td>\n",
       "      <td>2018-06</td>\n",
       "      <td>28.00</td>\n",
       "      <td>172.00</td>\n",
       "      <td>44.00</td>\n",
       "      <td>23.00</td>\n",
       "      <td>60.00</td>\n",
       "      <td>52</td>\n",
       "      <td>NaT</td>\n",
       "      <td>Краснодар</td>\n",
       "      <td>...</td>\n",
       "      <td>Верещагин</td>\n",
       "      <td>2018-05-25</td>\n",
       "      <td>ultra</td>\n",
       "      <td>1000</td>\n",
       "      <td>30720</td>\n",
       "      <td>3000</td>\n",
       "      <td>1950</td>\n",
       "      <td>150</td>\n",
       "      <td>1</td>\n",
       "      <td>1</td>\n",
       "    </tr>\n",
       "    <tr>\n",
       "      <th>2</th>\n",
       "      <td>1000</td>\n",
       "      <td>2018-07</td>\n",
       "      <td>41.00</td>\n",
       "      <td>340.00</td>\n",
       "      <td>28.00</td>\n",
       "      <td>14.00</td>\n",
       "      <td>75.00</td>\n",
       "      <td>52</td>\n",
       "      <td>NaT</td>\n",
       "      <td>Краснодар</td>\n",
       "      <td>...</td>\n",
       "      <td>Верещагин</td>\n",
       "      <td>2018-05-25</td>\n",
       "      <td>ultra</td>\n",
       "      <td>1000</td>\n",
       "      <td>30720</td>\n",
       "      <td>3000</td>\n",
       "      <td>1950</td>\n",
       "      <td>150</td>\n",
       "      <td>1</td>\n",
       "      <td>1</td>\n",
       "    </tr>\n",
       "    <tr>\n",
       "      <th>3</th>\n",
       "      <td>1000</td>\n",
       "      <td>2018-08</td>\n",
       "      <td>42.00</td>\n",
       "      <td>408.00</td>\n",
       "      <td>27.00</td>\n",
       "      <td>14.00</td>\n",
       "      <td>81.00</td>\n",
       "      <td>52</td>\n",
       "      <td>NaT</td>\n",
       "      <td>Краснодар</td>\n",
       "      <td>...</td>\n",
       "      <td>Верещагин</td>\n",
       "      <td>2018-05-25</td>\n",
       "      <td>ultra</td>\n",
       "      <td>1000</td>\n",
       "      <td>30720</td>\n",
       "      <td>3000</td>\n",
       "      <td>1950</td>\n",
       "      <td>150</td>\n",
       "      <td>1</td>\n",
       "      <td>1</td>\n",
       "    </tr>\n",
       "    <tr>\n",
       "      <th>4</th>\n",
       "      <td>1000</td>\n",
       "      <td>2018-09</td>\n",
       "      <td>46.00</td>\n",
       "      <td>466.00</td>\n",
       "      <td>25.00</td>\n",
       "      <td>15.00</td>\n",
       "      <td>57.00</td>\n",
       "      <td>52</td>\n",
       "      <td>NaT</td>\n",
       "      <td>Краснодар</td>\n",
       "      <td>...</td>\n",
       "      <td>Верещагин</td>\n",
       "      <td>2018-05-25</td>\n",
       "      <td>ultra</td>\n",
       "      <td>1000</td>\n",
       "      <td>30720</td>\n",
       "      <td>3000</td>\n",
       "      <td>1950</td>\n",
       "      <td>150</td>\n",
       "      <td>1</td>\n",
       "      <td>1</td>\n",
       "    </tr>\n",
       "  </tbody>\n",
       "</table>\n",
       "<p>5 rows × 21 columns</p>\n",
       "</div>"
      ],
      "text/plain": [
       "   user_id month_user  count_call  sum_call  count_int  sum_int  count_mes  \\\n",
       "0     1000    2018-05       17.00    159.00       4.00     3.00      22.00   \n",
       "1     1000    2018-06       28.00    172.00      44.00    23.00      60.00   \n",
       "2     1000    2018-07       41.00    340.00      28.00    14.00      75.00   \n",
       "3     1000    2018-08       42.00    408.00      27.00    14.00      81.00   \n",
       "4     1000    2018-09       46.00    466.00      25.00    15.00      57.00   \n",
       "\n",
       "   age churn_date       city  ...  last_name   reg_date tariff  \\\n",
       "0   52        NaT  Краснодар  ...  Верещагин 2018-05-25  ultra   \n",
       "1   52        NaT  Краснодар  ...  Верещагин 2018-05-25  ultra   \n",
       "2   52        NaT  Краснодар  ...  Верещагин 2018-05-25  ultra   \n",
       "3   52        NaT  Краснодар  ...  Верещагин 2018-05-25  ultra   \n",
       "4   52        NaT  Краснодар  ...  Верещагин 2018-05-25  ultra   \n",
       "\n",
       "  messages_included  mb_per_month_included  minutes_included  rub_monthly_fee  \\\n",
       "0              1000                  30720              3000             1950   \n",
       "1              1000                  30720              3000             1950   \n",
       "2              1000                  30720              3000             1950   \n",
       "3              1000                  30720              3000             1950   \n",
       "4              1000                  30720              3000             1950   \n",
       "\n",
       "   rub_per_gb  rub_per_message  rub_per_minute  \n",
       "0         150                1               1  \n",
       "1         150                1               1  \n",
       "2         150                1               1  \n",
       "3         150                1               1  \n",
       "4         150                1               1  \n",
       "\n",
       "[5 rows x 21 columns]"
      ]
     },
     "execution_count": 10,
     "metadata": {},
     "output_type": "execute_result"
    }
   ],
   "source": [
    "# Объединим таблицы  \n",
    "data_all=data_call.merge(data_internet,on=['user_id','month_user'],how='outer')\n",
    "data_all=data_all.merge(data_messages,on=['user_id','month_user'],how='outer')\n",
    "data_all=data_all.merge(data_users, on='user_id',how='left')\n",
    "data_tariffs=data_tariffs.rename(columns={\"tariff_name\": \"tariff\"})\n",
    "data_all=data_all.merge(data_tariffs, on='tariff',how='left')\n",
    "data_all.head()"
   ]
  },
  {
   "cell_type": "code",
   "execution_count": 11,
   "metadata": {},
   "outputs": [
    {
     "data": {
      "text/plain": [
       "user_id                     0\n",
       "month_user                  0\n",
       "count_call                 46\n",
       "sum_call                   46\n",
       "count_int                  13\n",
       "sum_int                    13\n",
       "count_mes                 497\n",
       "age                         0\n",
       "churn_date               3027\n",
       "city                        0\n",
       "first_name                  0\n",
       "last_name                   0\n",
       "reg_date                    0\n",
       "tariff                      0\n",
       "messages_included           0\n",
       "mb_per_month_included       0\n",
       "minutes_included            0\n",
       "rub_monthly_fee             0\n",
       "rub_per_gb                  0\n",
       "rub_per_message             0\n",
       "rub_per_minute              0\n",
       "dtype: int64"
      ]
     },
     "execution_count": 11,
     "metadata": {},
     "output_type": "execute_result"
    }
   ],
   "source": [
    "# Код ревьюера\n",
    "data_all.isna().sum()"
   ]
  },
  {
   "cell_type": "code",
   "execution_count": 12,
   "metadata": {},
   "outputs": [],
   "source": [
    "\n",
    "data_all=data_all.fillna(0) # заменил пропуск\n",
    "data_all['mb_per_month_included']=data_all['mb_per_month_included']/1024 # преревел значение в гигабайты \n"
   ]
  },
  {
   "cell_type": "markdown",
   "metadata": {},
   "source": [
    "Рассчитываем перерасход потребления для каждого пользователя сверх тарифа "
   ]
  },
  {
   "cell_type": "code",
   "execution_count": 13,
   "metadata": {},
   "outputs": [],
   "source": [
    "\n",
    "# Расчёт перерасхода для каждого клиента\n",
    "data_all['up_sum_call']= np.where(data_all['sum_call']>data_all['minutes_included'],data_all['sum_call']-data_all['minutes_included'],0)   \n",
    "data_all['up_sum_int']=np.where(data_all['sum_int']>data_all['mb_per_month_included'],data_all['sum_int']-data_all['mb_per_month_included'],0)\n",
    "data_all['up_count_mes']=np.where(data_all['count_mes']>data_all['messages_included'],data_all['count_mes']-data_all['messages_included'],0)\n"
   ]
  },
  {
   "cell_type": "markdown",
   "metadata": {},
   "source": [
    "Рассчитываем общую выручку по каждому пользователю.  \n",
    "Рассчитываем выручку по каждому пользователю от перерасхода.  \n",
    "Оцениваем мин/макс показатели.  \n",
    "График распределения выручки."
   ]
  },
  {
   "cell_type": "code",
   "execution_count": 14,
   "metadata": {},
   "outputs": [
    {
     "name": "stdout",
     "output_type": "stream",
     "text": [
      "Минимальная выручка: 550.0\n",
      "Максимальная выручка: 6770.0\n"
     ]
    },
    {
     "data": {
      "text/plain": [
       "Text(0.5, 0, 'Выручка')"
      ]
     },
     "execution_count": 14,
     "metadata": {},
     "output_type": "execute_result"
    },
    {
     "data": {
      "image/png": "[encoded data removed]",
      "text/plain": [
       "<Figure size 1080x216 with 1 Axes>"
      ]
     },
     "metadata": {
      "needs_background": "light"
     },
     "output_type": "display_data"
    }
   ],
   "source": [
    "# Расчёт выручки\n",
    "data_all['revenue_user']=data_all['rub_monthly_fee']+data_all['up_sum_call']*data_all['rub_per_minute']+data_all['up_sum_int']*data_all['rub_per_gb']+data_all['up_count_mes']*data_all['rub_per_message']\n",
    "# Расчёт выручки от перерасхода\n",
    "data_all['up_revenue_user']=data_all['up_sum_call']*data_all['rub_per_minute']+data_all['up_sum_int']*data_all['rub_per_gb']+data_all['up_count_mes']*data_all['rub_per_message']\n",
    "\n",
    "print('Минимальная выручка:',data_all['revenue_user'].min())\n",
    "print('Максимальная выручка:',data_all['revenue_user'].max())\n",
    "\n",
    "data_all.plot(y=['revenue_user'],kind='hist',bins=20,figsize=(15,3))\n",
    "plt.title('Распределение выручки')\n",
    "plt.ylabel('Частота')\n",
    "plt.xlabel('Выручка')\n"
   ]
  },
  {
   "cell_type": "markdown",
   "metadata": {},
   "source": [
    "**Вывод:** Наличие двух пиков в распределение выручки отражает наличие двух тарифов м концентрацией платежей в районе 550 руб. и 2000 руб.  "
   ]
  },
  {
   "cell_type": "markdown",
   "metadata": {},
   "source": [
    "#  Оценка тарифов"
   ]
  },
  {
   "cell_type": "markdown",
   "metadata": {},
   "source": [
    "## Тариф Smart\n",
    "Выбираем тариф smart и оцениваем сколько средне денег уходит у клиента,  что вызывает наибольшую переплату по тарифу.  "
   ]
  },
  {
   "cell_type": "code",
   "execution_count": 15,
   "metadata": {},
   "outputs": [
    {
     "data": {
      "text/html": [
       "<div>\n",
       "<style scoped>\n",
       "    .dataframe tbody tr th:only-of-type {\n",
       "        vertical-align: middle;\n",
       "    }\n",
       "\n",
       "    .dataframe tbody tr th {\n",
       "        vertical-align: top;\n",
       "    }\n",
       "\n",
       "    .dataframe thead th {\n",
       "        text-align: right;\n",
       "    }\n",
       "</style>\n",
       "<table border=\"1\" class=\"dataframe\">\n",
       "  <thead>\n",
       "    <tr style=\"text-align: right;\">\n",
       "      <th></th>\n",
       "      <th>user_id</th>\n",
       "      <th>month_user</th>\n",
       "      <th>count_call</th>\n",
       "      <th>sum_call</th>\n",
       "      <th>count_int</th>\n",
       "      <th>sum_int</th>\n",
       "      <th>count_mes</th>\n",
       "      <th>age</th>\n",
       "      <th>churn_date</th>\n",
       "      <th>city</th>\n",
       "      <th>...</th>\n",
       "      <th>minutes_included</th>\n",
       "      <th>rub_monthly_fee</th>\n",
       "      <th>rub_per_gb</th>\n",
       "      <th>rub_per_message</th>\n",
       "      <th>rub_per_minute</th>\n",
       "      <th>up_sum_call</th>\n",
       "      <th>up_sum_int</th>\n",
       "      <th>up_count_mes</th>\n",
       "      <th>revenue_user</th>\n",
       "      <th>up_revenue_user</th>\n",
       "    </tr>\n",
       "  </thead>\n",
       "  <tbody>\n",
       "    <tr>\n",
       "      <th>8</th>\n",
       "      <td>1001</td>\n",
       "      <td>2018-11</td>\n",
       "      <td>45.00</td>\n",
       "      <td>430.00</td>\n",
       "      <td>47.00</td>\n",
       "      <td>18.00</td>\n",
       "      <td>0.00</td>\n",
       "      <td>41</td>\n",
       "      <td>0</td>\n",
       "      <td>Москва</td>\n",
       "      <td>...</td>\n",
       "      <td>500</td>\n",
       "      <td>550</td>\n",
       "      <td>200</td>\n",
       "      <td>3</td>\n",
       "      <td>3</td>\n",
       "      <td>0.00</td>\n",
       "      <td>3.00</td>\n",
       "      <td>0.00</td>\n",
       "      <td>1150.00</td>\n",
       "      <td>600.00</td>\n",
       "    </tr>\n",
       "    <tr>\n",
       "      <th>9</th>\n",
       "      <td>1001</td>\n",
       "      <td>2018-12</td>\n",
       "      <td>47.00</td>\n",
       "      <td>414.00</td>\n",
       "      <td>35.00</td>\n",
       "      <td>14.00</td>\n",
       "      <td>0.00</td>\n",
       "      <td>41</td>\n",
       "      <td>0</td>\n",
       "      <td>Москва</td>\n",
       "      <td>...</td>\n",
       "      <td>500</td>\n",
       "      <td>550</td>\n",
       "      <td>200</td>\n",
       "      <td>3</td>\n",
       "      <td>3</td>\n",
       "      <td>0.00</td>\n",
       "      <td>0.00</td>\n",
       "      <td>0.00</td>\n",
       "      <td>550.00</td>\n",
       "      <td>0.00</td>\n",
       "    </tr>\n",
       "    <tr>\n",
       "      <th>10</th>\n",
       "      <td>1002</td>\n",
       "      <td>2018-06</td>\n",
       "      <td>14.00</td>\n",
       "      <td>117.00</td>\n",
       "      <td>27.00</td>\n",
       "      <td>11.00</td>\n",
       "      <td>4.00</td>\n",
       "      <td>59</td>\n",
       "      <td>0</td>\n",
       "      <td>Стерлитамак</td>\n",
       "      <td>...</td>\n",
       "      <td>500</td>\n",
       "      <td>550</td>\n",
       "      <td>200</td>\n",
       "      <td>3</td>\n",
       "      <td>3</td>\n",
       "      <td>0.00</td>\n",
       "      <td>0.00</td>\n",
       "      <td>0.00</td>\n",
       "      <td>550.00</td>\n",
       "      <td>0.00</td>\n",
       "    </tr>\n",
       "    <tr>\n",
       "      <th>11</th>\n",
       "      <td>1002</td>\n",
       "      <td>2018-07</td>\n",
       "      <td>21.00</td>\n",
       "      <td>214.00</td>\n",
       "      <td>44.00</td>\n",
       "      <td>18.00</td>\n",
       "      <td>11.00</td>\n",
       "      <td>59</td>\n",
       "      <td>0</td>\n",
       "      <td>Стерлитамак</td>\n",
       "      <td>...</td>\n",
       "      <td>500</td>\n",
       "      <td>550</td>\n",
       "      <td>200</td>\n",
       "      <td>3</td>\n",
       "      <td>3</td>\n",
       "      <td>0.00</td>\n",
       "      <td>3.00</td>\n",
       "      <td>0.00</td>\n",
       "      <td>1150.00</td>\n",
       "      <td>600.00</td>\n",
       "    </tr>\n",
       "    <tr>\n",
       "      <th>12</th>\n",
       "      <td>1002</td>\n",
       "      <td>2018-08</td>\n",
       "      <td>37.00</td>\n",
       "      <td>289.00</td>\n",
       "      <td>50.00</td>\n",
       "      <td>20.00</td>\n",
       "      <td>13.00</td>\n",
       "      <td>59</td>\n",
       "      <td>0</td>\n",
       "      <td>Стерлитамак</td>\n",
       "      <td>...</td>\n",
       "      <td>500</td>\n",
       "      <td>550</td>\n",
       "      <td>200</td>\n",
       "      <td>3</td>\n",
       "      <td>3</td>\n",
       "      <td>0.00</td>\n",
       "      <td>5.00</td>\n",
       "      <td>0.00</td>\n",
       "      <td>1550.00</td>\n",
       "      <td>1000.00</td>\n",
       "    </tr>\n",
       "  </tbody>\n",
       "</table>\n",
       "<p>5 rows × 26 columns</p>\n",
       "</div>"
      ],
      "text/plain": [
       "    user_id month_user  count_call  sum_call  count_int  sum_int  count_mes  \\\n",
       "8      1001    2018-11       45.00    430.00      47.00    18.00       0.00   \n",
       "9      1001    2018-12       47.00    414.00      35.00    14.00       0.00   \n",
       "10     1002    2018-06       14.00    117.00      27.00    11.00       4.00   \n",
       "11     1002    2018-07       21.00    214.00      44.00    18.00      11.00   \n",
       "12     1002    2018-08       37.00    289.00      50.00    20.00      13.00   \n",
       "\n",
       "    age churn_date         city  ... minutes_included rub_monthly_fee  \\\n",
       "8    41          0       Москва  ...              500             550   \n",
       "9    41          0       Москва  ...              500             550   \n",
       "10   59          0  Стерлитамак  ...              500             550   \n",
       "11   59          0  Стерлитамак  ...              500             550   \n",
       "12   59          0  Стерлитамак  ...              500             550   \n",
       "\n",
       "   rub_per_gb rub_per_message  rub_per_minute  up_sum_call  up_sum_int  \\\n",
       "8         200               3               3         0.00        3.00   \n",
       "9         200               3               3         0.00        0.00   \n",
       "10        200               3               3         0.00        0.00   \n",
       "11        200               3               3         0.00        3.00   \n",
       "12        200               3               3         0.00        5.00   \n",
       "\n",
       "    up_count_mes  revenue_user  up_revenue_user  \n",
       "8           0.00       1150.00           600.00  \n",
       "9           0.00        550.00             0.00  \n",
       "10          0.00        550.00             0.00  \n",
       "11          0.00       1150.00           600.00  \n",
       "12          0.00       1550.00          1000.00  \n",
       "\n",
       "[5 rows x 26 columns]"
      ]
     },
     "execution_count": 15,
     "metadata": {},
     "output_type": "execute_result"
    }
   ],
   "source": [
    "data_all_smart=data_all.loc[data_all['tariff']=='smart'] # выбрали тариф  \n",
    "data_all_smart.head()"
   ]
  },
  {
   "cell_type": "code",
   "execution_count": 16,
   "metadata": {},
   "outputs": [
    {
     "name": "stdout",
     "output_type": "stream",
     "text": [
      "Оценка голоса в тарифе Smart\n",
      "Среднее кол-во потраченных минут: 419.6348029272315\n",
      "Макс кол-во потраченных минут: 891.5\n",
      "Средняя перерасход минут: 45.740558647701505\n",
      "Средняя переплата по минутам: 137.22167594310451\n",
      "Средняя доля пользователей тарифа, которые вылетают за лимит по минутам : 0.29397166435427596\n",
      "Стандартное отклонение по минутам: 190.27103471651876\n",
      "Дисперсия минут разговора: 36219.31578434428\n"
     ]
    },
    {
     "data": {
      "text/plain": [
       "Text(0.5, 0, 'Кол-во минут')"
      ]
     },
     "execution_count": 16,
     "metadata": {},
     "output_type": "execute_result"
    },
    {
     "data": {
      "image/png": "[encoded data removed]",
      "text/plain": [
       "<Figure size 720x216 with 1 Axes>"
      ]
     },
     "metadata": {
      "needs_background": "light"
     },
     "output_type": "display_data"
    },
    {
     "data": {
      "image/png": "[encoded data removed]",
      "text/plain": [
       "<Figure size 720x216 with 1 Axes>"
      ]
     },
     "metadata": {
      "needs_background": "light"
     },
     "output_type": "display_data"
    }
   ],
   "source": [
    "# Расчёт по звонкам для тарифа Smart\n",
    "# усредняем показатели для каждого пользователя по месяцам:\n",
    "data_all_smart_p=data_all_smart.pivot_table( index= 'user_id',values=['sum_call','sum_int','count_mes','up_sum_call','up_sum_int','up_count_mes'],aggfunc='mean')\n",
    "\n",
    "print('Оценка голоса в тарифе Smart')\n",
    "print('Среднее кол-во потраченных минут:',data_all_smart_p['sum_call'].mean()) \n",
    "print('Макс кол-во потраченных минут:',data_all_smart_p['sum_call'].max())\n",
    "print('Средняя перерасход минут:',data_all_smart_p['up_sum_call'].mean())\n",
    "print('Средняя переплата по минутам:',data_all_smart_p['up_sum_call'].mean()*3)\n",
    "\n",
    "# Считаем сколько пользователей имеют перерасход по минутам по месяцам.\n",
    "data_all_smart_count_hwo_over_call=data_all_smart.query('up_sum_call>0').pivot_table( index= 'month_user',values='up_sum_call',aggfunc='count')\n",
    "# Считаем сколько пользователей всего в месяце.\n",
    "data_all_smart_count_hwo_call=data_all_smart.pivot_table( index= 'month_user',values='user_id',aggfunc='count')\n",
    "# Соединяем два предыдущих шага.\n",
    "data_all_smart_count_hwo_over_call=pd.merge(data_all_smart_count_hwo_over_call,data_all_smart_count_hwo_call, on='month_user', how='inner')\n",
    "# рассчитываем долю клиентов с перерасходом внутри тарифа по месяцам.\n",
    "data_all_smart_count_hwo_over_call['avg_user_how_over_call']=data_all_smart_count_hwo_over_call['up_sum_call']/data_all_smart_count_hwo_over_call['user_id']\n",
    "\n",
    "print('Средняя доля пользователей тарифа, которые вылетают за лимит по минутам :',data_all_smart_count_hwo_over_call['avg_user_how_over_call'].mean())\n",
    "\n",
    "# Рассчитываем Стандартное отклонение и Дисперсию.\n",
    "\n",
    "print('Стандартное отклонение по минутам:',np.std(data_all_smart['sum_call']))\n",
    "print('Дисперсия минут разговора:',data_all_smart.var()['sum_call']) \n",
    "\n",
    "# Графики распределение\n",
    "data_all_smart_p.plot(y=['sum_call'],kind='hist',bins=50, figsize=(10,3),alpha=0.7,color='green')\n",
    "plt.title('Распределение расхода минут')\n",
    "plt.ylabel('Частота')\n",
    "plt.xlabel('Кол-во минут')\n",
    "data_all_smart_p.plot(y='up_sum_call',kind='hist',bins=20, figsize=(10,3),alpha=0.7, color='green')\n",
    "plt.title('Распределение расхода дополнительных минут')\n",
    "plt.ylabel('Частота')\n",
    "plt.xlabel('Кол-во минут')\n"
   ]
  },
  {
   "cell_type": "code",
   "execution_count": 17,
   "metadata": {},
   "outputs": [
    {
     "name": "stdout",
     "output_type": "stream",
     "text": [
      "Оценка интернета в тарифе Smart\n",
      "Средне-месячное потребление гигабайтов: 16.30851886209029\n",
      "Макс месячное потребление гигабайтов: 27.25\n",
      "Средний перерасход гигабайт: 3.097702432488147\n",
      "Средняя переплата по интернету: 619.5404864976294\n",
      "Средняя доля пользователей тарифа, которые вылетают за лимит по трафику : 0.5156685810429519\n",
      "Стандартное отклонение интернету: 5.745771267187499\n",
      "Дисперсия интернету: 33.02870517811161\n"
     ]
    },
    {
     "data": {
      "text/plain": [
       "Text(0.5, 0, 'Кол-во мегабайт')"
      ]
     },
     "execution_count": 17,
     "metadata": {},
     "output_type": "execute_result"
    },
    {
     "data": {
      "image/png": "[encoded data removed]",
      "text/plain": [
       "<Figure size 720x216 with 1 Axes>"
      ]
     },
     "metadata": {
      "needs_background": "light"
     },
     "output_type": "display_data"
    },
    {
     "data": {
      "image/png": "[encoded data removed]",
      "text/plain": [
       "<Figure size 720x216 with 1 Axes>"
      ]
     },
     "metadata": {
      "needs_background": "light"
     },
     "output_type": "display_data"
    }
   ],
   "source": [
    "# Расчёт по интернету для тарифа Smart\n",
    "print('Оценка интернета в тарифе Smart')\n",
    "print('Средне-месячное потребление гигабайтов:',data_all_smart_p['sum_int'].mean())\n",
    "print('Макс месячное потребление гигабайтов:',data_all_smart_p['sum_int'].max())\n",
    "print('Средний перерасход гигабайт:',data_all_smart_p['up_sum_int'].mean())\n",
    "print('Средняя переплата по интернету:',data_all_smart_p['up_sum_int'].mean()*200)\n",
    "\n",
    "# Считаем сколько пользователей имеют перерасход по интернету по месяцам.\n",
    "data_all_smart_count_hwo_over_int=data_all_smart.query('up_sum_int>0').pivot_table( index= 'month_user',values='up_sum_int',aggfunc='count')\n",
    "# Считаем сколько пользователей всего в месяце.\n",
    "data_all_smart_count_hwo_int=data_all_smart.pivot_table( index= 'month_user',values='user_id',aggfunc='count')\n",
    "# Соединяем два предыдущих шага.\n",
    "data_all_smart_count_hwo_over_int=pd.merge(data_all_smart_count_hwo_over_int,data_all_smart_count_hwo_int, on='month_user', how='inner')\n",
    "# рассчитываем долю клиентов с перерасходом внутри тарифа по месяцам.\n",
    "data_all_smart_count_hwo_over_int['avg_user_how_over_int']=data_all_smart_count_hwo_over_int['up_sum_int']/data_all_smart_count_hwo_over_int['user_id']\n",
    "\n",
    "print('Средняя доля пользователей тарифа, которые вылетают за лимит по трафику :',data_all_smart_count_hwo_over_int['avg_user_how_over_int'].mean())\n",
    "\n",
    "# Рассчитываем Стандартное отклонение и Дисперсию.\n",
    "print('Стандартное отклонение интернету:',np.std(data_all_smart['sum_int']))\n",
    "print('Дисперсия интернету:',(data_all_smart.var()['sum_int']))  \n",
    "\n",
    "# Графики распределение\n",
    "data_all_smart_p.plot(y=['sum_int'],kind='hist',bins=50, figsize=(10,3),alpha=0.7,color='green')\n",
    "plt.title('Распределение потребления интернета')\n",
    "plt.ylabel('Частота')\n",
    "plt.xlabel('Кол-во мегабайт')\n",
    "data_all_smart_p.plot(y='up_sum_int',kind='hist',bins=10, figsize=(10,3),alpha=0.7, color='green')\n",
    "plt.title('Распределение перерасхода интернета')\n",
    "plt.ylabel('Частота')\n",
    "plt.xlabel('Кол-во мегабайт')"
   ]
  },
  {
   "cell_type": "code",
   "execution_count": 18,
   "metadata": {},
   "outputs": [
    {
     "name": "stdout",
     "output_type": "stream",
     "text": [
      "Средне-месячное кол-во сообщений: 32.352078231292516\n",
      "Средний перерасход сообщений: 5.8796189445475155\n",
      "Средняя переплата по сообщениям: 17.638856833642546\n",
      "Средняя доля пользователей тарифа, которые вылетают за лимит по трафику : 0.22339564394656888\n",
      "Стандартное отклонение кол-ва сообщений: 28.221542886898938\n",
      "Дисперсия по кол-ву сообщений: 796.8129584480083\n"
     ]
    },
    {
     "data": {
      "text/plain": [
       "Text(0.5, 0, 'Кол-во минут')"
      ]
     },
     "execution_count": 18,
     "metadata": {},
     "output_type": "execute_result"
    },
    {
     "data": {
      "image/png": "[encoded data removed]",
      "text/plain": [
       "<Figure size 720x216 with 1 Axes>"
      ]
     },
     "metadata": {
      "needs_background": "light"
     },
     "output_type": "display_data"
    },
    {
     "data": {
      "image/png": "[encoded data removed]",
      "text/plain": [
       "<Figure size 720x216 with 1 Axes>"
      ]
     },
     "metadata": {
      "needs_background": "light"
     },
     "output_type": "display_data"
    }
   ],
   "source": [
    "# Расчёт по сообщениям для тарифа Smart\n",
    "\n",
    "print('Средне-месячное кол-во сообщений:',data_all_smart_p['count_mes'].mean())\n",
    "print('Средний перерасход сообщений:',data_all_smart_p['up_count_mes'].mean())\n",
    "print('Средняя переплата по сообщениям:',data_all_smart_p['up_count_mes'].mean()*3)\n",
    "\n",
    "# Считаем сколько пользователей имеют перерасход по сообщениям по месяцам.\n",
    "data_all_smart_count_hwo_over_mes=data_all_smart.query('up_count_mes>0').pivot_table( index= 'month_user',values='up_count_mes',aggfunc='count')\n",
    "# Считаем сколько пользователей всего в месяце.\n",
    "data_all_smart_count_hwo_mes=data_all_smart.pivot_table( index= 'month_user',values='user_id',aggfunc='count')\n",
    "# Соединяем два предыдущих шага.\n",
    "data_all_smart_count_hwo_over_mes=pd.merge(data_all_smart_count_hwo_over_mes,data_all_smart_count_hwo_mes, on='month_user', how='inner')\n",
    "# рассчитываем долю клиентов с перерасходом внутри тарифа по месяцам.\n",
    "data_all_smart_count_hwo_over_mes['avg_user_how_over_mes']=data_all_smart_count_hwo_over_mes['up_count_mes']/data_all_smart_count_hwo_over_mes['user_id']\n",
    "\n",
    "print('Средняя доля пользователей тарифа, которые вылетают за лимит по трафику :',data_all_smart_count_hwo_over_mes['avg_user_how_over_mes'].mean())\n",
    "# Рассчитываем Стандартное отклонение и Дисперсию.\n",
    "\n",
    "print('Стандартное отклонение кол-ва сообщений:',np.std(data_all_smart['count_mes']))\n",
    "print('Дисперсия по кол-ву сообщений:',(data_all_smart.var()['count_mes']))  \n",
    "data_all_smart_p.plot(y=['count_mes'],kind='hist',bins=50, figsize=(10,3),alpha=0.7,color='green')\n",
    "plt.title('Распределение кол-ва сообщения')\n",
    "plt.ylabel('Частота')\n",
    "plt.xlabel('Кол-во минут')\n",
    "data_all_smart_p.plot(y='up_count_mes',kind='hist',bins=20, figsize=(10,3),alpha=0.7, color='green')\n",
    "plt.title('Распределение перерасхода сообщений')\n",
    "plt.ylabel('Частота')\n",
    "plt.xlabel('Кол-во минут')"
   ]
  },
  {
   "cell_type": "code",
   "execution_count": 19,
   "metadata": {},
   "outputs": [
    {
     "name": "stdout",
     "output_type": "stream",
     "text": [
      "Оценка тарифа Smart по деньгам\n",
      "средняя выручка на одного пользователя: 1179.9244237841976\n",
      "Среднее доля пользователей с переплатой: 0.6680239483655392\n",
      "Средняя переплата за пользователя в месяц: 629.9244237841976\n",
      "Максимальная перплата: 6220.0\n"
     ]
    }
   ],
   "source": [
    "# Расчёт  по деньгам для тарифа Smart\n",
    "# Рассчитываем сумму и кол-во пользователей имеющие переплаты по месяцам\n",
    "data_all_smart_count_hwo_over_pay=data_all_smart.query('up_revenue_user>0').pivot_table( index= 'month_user',values='up_revenue_user',aggfunc=['count','sum'])\n",
    "# Рассчитываем сумму и кол-во пользователей имеющие оплат по месяцам\n",
    "data_all_smart_count_hwo_pay=data_all_smart.pivot_table( index= 'month_user',values='revenue_user',aggfunc=['count','sum'])\n",
    "data_all_smart_count_hwo_over_pay.columns=['up_revenue_user_count','up_revenue_user_sum']\n",
    "data_all_smart_count_hwo_pay.columns=['revenue_user_count','revenue_user_sum']\n",
    "data_all_smart_count_hwo_over_pay.head()\n",
    "#объединяем в одну таблицу.\n",
    "data_all_smart_count_hwo_over_pay=pd.merge(data_all_smart_count_hwo_over_pay,data_all_smart_count_hwo_pay, on='month_user', how='inner')\n",
    "# Доля пользователей с переплатой\n",
    "data_all_smart_count_hwo_over_pay['avg_user_how_over_pay']=data_all_smart_count_hwo_over_pay['up_revenue_user_count']/data_all_smart_count_hwo_over_pay['revenue_user_count']\n",
    "# Средний размер переплаты \n",
    "data_all_smart_count_hwo_over_pay['avg_pay_for_user']=data_all_smart_count_hwo_over_pay['up_revenue_user_sum']/data_all_smart_count_hwo_over_pay['revenue_user_count']\n",
    "print('Оценка тарифа Smart по деньгам')\n",
    "print('средняя выручка на одного пользователя:',(data_all_smart_count_hwo_pay['revenue_user_sum']/data_all_smart_count_hwo_pay['revenue_user_count']).mean())\n",
    "print('Среднее доля пользователей с переплатой:',data_all_smart_count_hwo_over_pay['avg_user_how_over_pay'].mean())\n",
    "print('Средняя переплата за пользователя в месяц:',data_all_smart_count_hwo_over_pay['avg_pay_for_user'].mean())\n",
    "print('Максимальная перплата:',data_all_smart['up_revenue_user'].max())"
   ]
  },
  {
   "cell_type": "markdown",
   "metadata": {},
   "source": [
    "<b>Описание тарифа:</b>  \n",
    "Тариф Smart, рассчитан для клиентов из низкого ценового сегмента. Средняя выручка на пользователя не превышает 1179 руб.  \n",
    "67% клиентов имеют переплату по тарифу в основном переплата возникает из-из перерасхода интернет трафика.  \n",
    "Для графиков потребления минут и интернет трафика характерно нормальное распределение.  \n",
    "Среднее-месячное кол-во минут (419) укладывается в лимиты по тарифу (500).    \n",
    "Среднее-месячное кол-во сообщений (32) укладывается в лимиты по тарифу (50).  \n",
    "Среднее-месячное кол-во гигабайт (16) не укладывается в лимиты по тарифу (15).  \n"
   ]
  },
  {
   "cell_type": "markdown",
   "metadata": {},
   "source": [
    "## Тариф Ultra\n",
    "Выбираем тариф Ultra и оцениваем сколько средне денег уходит у клиента, что вызывает наибольшую переплату по тарифу.  "
   ]
  },
  {
   "cell_type": "code",
   "execution_count": 20,
   "metadata": {},
   "outputs": [
    {
     "data": {
      "text/html": [
       "<div>\n",
       "<style scoped>\n",
       "    .dataframe tbody tr th:only-of-type {\n",
       "        vertical-align: middle;\n",
       "    }\n",
       "\n",
       "    .dataframe tbody tr th {\n",
       "        vertical-align: top;\n",
       "    }\n",
       "\n",
       "    .dataframe thead th {\n",
       "        text-align: right;\n",
       "    }\n",
       "</style>\n",
       "<table border=\"1\" class=\"dataframe\">\n",
       "  <thead>\n",
       "    <tr style=\"text-align: right;\">\n",
       "      <th></th>\n",
       "      <th>user_id</th>\n",
       "      <th>month_user</th>\n",
       "      <th>count_call</th>\n",
       "      <th>sum_call</th>\n",
       "      <th>count_int</th>\n",
       "      <th>sum_int</th>\n",
       "      <th>count_mes</th>\n",
       "      <th>age</th>\n",
       "      <th>churn_date</th>\n",
       "      <th>city</th>\n",
       "      <th>...</th>\n",
       "      <th>minutes_included</th>\n",
       "      <th>rub_monthly_fee</th>\n",
       "      <th>rub_per_gb</th>\n",
       "      <th>rub_per_message</th>\n",
       "      <th>rub_per_minute</th>\n",
       "      <th>up_sum_call</th>\n",
       "      <th>up_sum_int</th>\n",
       "      <th>up_count_mes</th>\n",
       "      <th>revenue_user</th>\n",
       "      <th>up_revenue_user</th>\n",
       "    </tr>\n",
       "  </thead>\n",
       "  <tbody>\n",
       "    <tr>\n",
       "      <th>0</th>\n",
       "      <td>1000</td>\n",
       "      <td>2018-05</td>\n",
       "      <td>17.00</td>\n",
       "      <td>159.00</td>\n",
       "      <td>4.00</td>\n",
       "      <td>3.00</td>\n",
       "      <td>22.00</td>\n",
       "      <td>52</td>\n",
       "      <td>0</td>\n",
       "      <td>Краснодар</td>\n",
       "      <td>...</td>\n",
       "      <td>3000</td>\n",
       "      <td>1950</td>\n",
       "      <td>150</td>\n",
       "      <td>1</td>\n",
       "      <td>1</td>\n",
       "      <td>0.00</td>\n",
       "      <td>0.00</td>\n",
       "      <td>0.00</td>\n",
       "      <td>1950.00</td>\n",
       "      <td>0.00</td>\n",
       "    </tr>\n",
       "    <tr>\n",
       "      <th>1</th>\n",
       "      <td>1000</td>\n",
       "      <td>2018-06</td>\n",
       "      <td>28.00</td>\n",
       "      <td>172.00</td>\n",
       "      <td>44.00</td>\n",
       "      <td>23.00</td>\n",
       "      <td>60.00</td>\n",
       "      <td>52</td>\n",
       "      <td>0</td>\n",
       "      <td>Краснодар</td>\n",
       "      <td>...</td>\n",
       "      <td>3000</td>\n",
       "      <td>1950</td>\n",
       "      <td>150</td>\n",
       "      <td>1</td>\n",
       "      <td>1</td>\n",
       "      <td>0.00</td>\n",
       "      <td>0.00</td>\n",
       "      <td>0.00</td>\n",
       "      <td>1950.00</td>\n",
       "      <td>0.00</td>\n",
       "    </tr>\n",
       "    <tr>\n",
       "      <th>2</th>\n",
       "      <td>1000</td>\n",
       "      <td>2018-07</td>\n",
       "      <td>41.00</td>\n",
       "      <td>340.00</td>\n",
       "      <td>28.00</td>\n",
       "      <td>14.00</td>\n",
       "      <td>75.00</td>\n",
       "      <td>52</td>\n",
       "      <td>0</td>\n",
       "      <td>Краснодар</td>\n",
       "      <td>...</td>\n",
       "      <td>3000</td>\n",
       "      <td>1950</td>\n",
       "      <td>150</td>\n",
       "      <td>1</td>\n",
       "      <td>1</td>\n",
       "      <td>0.00</td>\n",
       "      <td>0.00</td>\n",
       "      <td>0.00</td>\n",
       "      <td>1950.00</td>\n",
       "      <td>0.00</td>\n",
       "    </tr>\n",
       "    <tr>\n",
       "      <th>3</th>\n",
       "      <td>1000</td>\n",
       "      <td>2018-08</td>\n",
       "      <td>42.00</td>\n",
       "      <td>408.00</td>\n",
       "      <td>27.00</td>\n",
       "      <td>14.00</td>\n",
       "      <td>81.00</td>\n",
       "      <td>52</td>\n",
       "      <td>0</td>\n",
       "      <td>Краснодар</td>\n",
       "      <td>...</td>\n",
       "      <td>3000</td>\n",
       "      <td>1950</td>\n",
       "      <td>150</td>\n",
       "      <td>1</td>\n",
       "      <td>1</td>\n",
       "      <td>0.00</td>\n",
       "      <td>0.00</td>\n",
       "      <td>0.00</td>\n",
       "      <td>1950.00</td>\n",
       "      <td>0.00</td>\n",
       "    </tr>\n",
       "    <tr>\n",
       "      <th>4</th>\n",
       "      <td>1000</td>\n",
       "      <td>2018-09</td>\n",
       "      <td>46.00</td>\n",
       "      <td>466.00</td>\n",
       "      <td>25.00</td>\n",
       "      <td>15.00</td>\n",
       "      <td>57.00</td>\n",
       "      <td>52</td>\n",
       "      <td>0</td>\n",
       "      <td>Краснодар</td>\n",
       "      <td>...</td>\n",
       "      <td>3000</td>\n",
       "      <td>1950</td>\n",
       "      <td>150</td>\n",
       "      <td>1</td>\n",
       "      <td>1</td>\n",
       "      <td>0.00</td>\n",
       "      <td>0.00</td>\n",
       "      <td>0.00</td>\n",
       "      <td>1950.00</td>\n",
       "      <td>0.00</td>\n",
       "    </tr>\n",
       "  </tbody>\n",
       "</table>\n",
       "<p>5 rows × 26 columns</p>\n",
       "</div>"
      ],
      "text/plain": [
       "   user_id month_user  count_call  sum_call  count_int  sum_int  count_mes  \\\n",
       "0     1000    2018-05       17.00    159.00       4.00     3.00      22.00   \n",
       "1     1000    2018-06       28.00    172.00      44.00    23.00      60.00   \n",
       "2     1000    2018-07       41.00    340.00      28.00    14.00      75.00   \n",
       "3     1000    2018-08       42.00    408.00      27.00    14.00      81.00   \n",
       "4     1000    2018-09       46.00    466.00      25.00    15.00      57.00   \n",
       "\n",
       "   age churn_date       city  ... minutes_included rub_monthly_fee rub_per_gb  \\\n",
       "0   52          0  Краснодар  ...             3000            1950        150   \n",
       "1   52          0  Краснодар  ...             3000            1950        150   \n",
       "2   52          0  Краснодар  ...             3000            1950        150   \n",
       "3   52          0  Краснодар  ...             3000            1950        150   \n",
       "4   52          0  Краснодар  ...             3000            1950        150   \n",
       "\n",
       "  rub_per_message  rub_per_minute  up_sum_call  up_sum_int  up_count_mes  \\\n",
       "0               1               1         0.00        0.00          0.00   \n",
       "1               1               1         0.00        0.00          0.00   \n",
       "2               1               1         0.00        0.00          0.00   \n",
       "3               1               1         0.00        0.00          0.00   \n",
       "4               1               1         0.00        0.00          0.00   \n",
       "\n",
       "   revenue_user  up_revenue_user  \n",
       "0       1950.00             0.00  \n",
       "1       1950.00             0.00  \n",
       "2       1950.00             0.00  \n",
       "3       1950.00             0.00  \n",
       "4       1950.00             0.00  \n",
       "\n",
       "[5 rows x 26 columns]"
      ]
     },
     "execution_count": 20,
     "metadata": {},
     "output_type": "execute_result"
    }
   ],
   "source": [
    "data_all_ultra=data_all.loc[data_all['tariff']=='ultra']\n",
    "data_all_ultra.head()"
   ]
  },
  {
   "cell_type": "code",
   "execution_count": 21,
   "metadata": {},
   "outputs": [
    {
     "name": "stdout",
     "output_type": "stream",
     "text": [
      "Оценка тарифа  Ultra по звонкам. Перерасход отсутствует.\n",
      "\n",
      "Среднее кол-во потраченных минут: 527.8218193030694\n",
      "Максимальное кол-во потраченных минут: 1179.3636363636363\n",
      "Среднее кол-во сообщений: 54.03074324324324\n",
      "Максимальное кол-во потраченных сообщений: 224.0\n",
      "Стандартное отклонение по минутам: 317.44483554974113\n",
      "Стандартное отклонение по сообщениям: 47.78018496610161\n",
      "Дисперсия минут разговора: 100873.63339730098\n",
      "Дисперсия  сообщений: 2285.2661425446736\n"
     ]
    },
    {
     "data": {
      "text/plain": [
       "Text(0.5, 0, 'Кол-во минут')"
      ]
     },
     "execution_count": 21,
     "metadata": {},
     "output_type": "execute_result"
    },
    {
     "data": {
      "image/png": "[encoded data removed]",
      "text/plain": [
       "<Figure size 720x216 with 1 Axes>"
      ]
     },
     "metadata": {
      "needs_background": "light"
     },
     "output_type": "display_data"
    }
   ],
   "source": [
    "# усредняем показатели для каждого пользователя по месяцам:\n",
    "data_all_ultra_p=data_all_ultra.pivot_table( index= 'user_id',values=['sum_call','sum_int','count_mes','up_sum_call','up_sum_int','up_count_mes'],aggfunc='mean')\n",
    "print('Оценка тарифа  Ultra по звонкам. Перерасход отсутствует.')\n",
    "print()\n",
    "print('Среднее кол-во потраченных минут:',data_all_ultra_p['sum_call'].mean())\n",
    "print('Максимальное кол-во потраченных минут:',data_all_ultra_p['sum_call'].max())\n",
    "print('Среднее кол-во сообщений:',data_all_ultra_p['count_mes'].mean())\n",
    "print('Максимальное кол-во потраченных сообщений:',data_all_ultra['count_mes'].max())\n",
    "print('Стандартное отклонение по минутам:',np.std(data_all_ultra['sum_call']))\n",
    "print('Стандартное отклонение по сообщениям:',np.std(data_all_ultra['count_mes']))\n",
    "print('Дисперсия минут разговора:',data_all_ultra.var()['sum_call']) \n",
    "print('Дисперсия  сообщений:',data_all_ultra.var()['count_mes'])\n",
    "\n",
    "data_all_ultra_p.plot(y=['sum_call'],kind='hist',bins=50, figsize=(10,3),alpha=0.7,color='blue')\n",
    "plt.title('Распределение расхода минут')\n",
    "plt.ylabel('Частота')\n",
    "plt.xlabel('Кол-во минут')\n",
    "\n",
    "\n"
   ]
  },
  {
   "cell_type": "code",
   "execution_count": 22,
   "metadata": {},
   "outputs": [
    {
     "name": "stdout",
     "output_type": "stream",
     "text": [
      "Средне месячный трафик: 19.588446238446238\n",
      "Средняя перерасход гигабайт: 0.9097643910143912\n",
      "Средняя переплата по интернету: 136.46465865215868\n",
      "Средняя доля пользователей тарифа, которые вылетают за лимит по трафику : 0.12801146498255334\n",
      "Стандартное отклонение интернету: 9.848508314957495\n",
      "Дисперсия интернету: 97.09168626965459\n"
     ]
    },
    {
     "data": {
      "text/plain": [
       "Text(0.5, 0, 'Кол-во минут')"
      ]
     },
     "execution_count": 22,
     "metadata": {},
     "output_type": "execute_result"
    },
    {
     "data": {
      "image/png": "[encoded data removed]",
      "text/plain": [
       "<Figure size 720x216 with 1 Axes>"
      ]
     },
     "metadata": {
      "needs_background": "light"
     },
     "output_type": "display_data"
    },
    {
     "data": {
      "image/png": "[encoded data removed]",
      "text/plain": [
       "<Figure size 720x216 with 1 Axes>"
      ]
     },
     "metadata": {
      "needs_background": "light"
     },
     "output_type": "display_data"
    }
   ],
   "source": [
    "# Расчёт по интернету\n",
    "print('Средне месячный трафик:',data_all_ultra_p['sum_int'].mean())\n",
    "print('Средняя перерасход гигабайт:',data_all_ultra_p['up_sum_int'].mean())\n",
    "print('Средняя переплата по интернету:',data_all_ultra_p['up_sum_int'].mean()*150)\n",
    "# Считаем сколько пользователей имеют перерасход по интернету по месяцам.\n",
    "data_all_ultra_count_hwo_over_int=data_all_ultra.query('up_sum_int>0').pivot_table( index= 'month_user',values='up_sum_int',aggfunc='count')\n",
    "# Считаем сколько пользователей всего в месяце.\n",
    "data_all_ultra_count_hwo_int=data_all_ultra.pivot_table( index= 'month_user',values='user_id',aggfunc='count')\n",
    "# Соединяем два предыдущих шага.\n",
    "data_all_ultra_count_hwo_over_int=pd.merge(data_all_ultra_count_hwo_over_int,data_all_ultra_count_hwo_int, on='month_user', how='inner')\n",
    "# рассчитываем долю клиентов с перерасходом внутри тарифа по месяцам.\n",
    "data_all_ultra_count_hwo_over_int['avg_user_how_over_int']=data_all_ultra_count_hwo_over_int['up_sum_int']/data_all_ultra_count_hwo_over_int['user_id']\n",
    "\n",
    "print('Средняя доля пользователей тарифа, которые вылетают за лимит по трафику :',data_all_ultra_count_hwo_over_int['avg_user_how_over_int'].mean())\n",
    "# Рассчитываем Стандартное отклонение и Дисперсию.\n",
    "print('Стандартное отклонение интернету:',np.std(data_all_ultra['sum_int']))\n",
    "print('Дисперсия интернету:',(data_all_ultra.var()['sum_int']))  \n",
    "\n",
    "data_all_ultra_p.plot(y=['sum_int'],kind='hist',bins=50, figsize=(10,3),alpha=0.5,color='blue')\n",
    "plt.title('Распределение потребления интернета')\n",
    "plt.ylabel('Частота')\n",
    "plt.xlabel('Кол-во минут')\n",
    "data_all_ultra_p.plot(y=['up_sum_int'],kind='hist',bins=10, figsize=(10,3),alpha=0.5, color='blue')\n",
    "plt.title('Распределение перерасхода интернета')\n",
    "plt.ylabel('Частота')\n",
    "plt.xlabel('Кол-во минут')"
   ]
  },
  {
   "cell_type": "code",
   "execution_count": 23,
   "metadata": {
    "scrolled": true
   },
   "outputs": [
    {
     "name": "stdout",
     "output_type": "stream",
     "text": [
      "средняя выручка на одного пользователя: 2046.9328563602276\n",
      "Среднее доля пользователей с переплатой: 0.12801146498255334\n",
      "Средняя переплата за пользователя в месяц: 105.74493421115722\n",
      "Максимальная перплата: 2850.0\n"
     ]
    }
   ],
   "source": [
    "# Расчёт перерасхода по деньгам\n",
    "data_all_ultra_count_hwo_over_pay=data_all_ultra.query('up_revenue_user>0').pivot_table( index= 'month_user',values='up_revenue_user',aggfunc=['count','sum'])\n",
    "data_all_ultra_count_hwo_pay=data_all_ultra.pivot_table( index= 'month_user',values='revenue_user',aggfunc=['count','sum'])\n",
    "data_all_ultra_count_hwo_over_pay.columns=['up_revenue_user_count','up_revenue_user_sum']\n",
    "data_all_ultra_count_hwo_pay.columns=['revenue_user_count','revenue_user_sum']\n",
    "data_all_ultra_count_hwo_over_pay.head()\n",
    "data_all_ultra_count_hwo_over_pay=pd.merge(data_all_ultra_count_hwo_over_pay,data_all_ultra_count_hwo_pay, on='month_user', how='inner')\n",
    "data_all_ultra_count_hwo_over_pay['avg_user_how_over_pay']=data_all_ultra_count_hwo_over_pay['up_revenue_user_count']/data_all_ultra_count_hwo_over_pay['revenue_user_count']\n",
    "data_all_ultra_count_hwo_over_pay['avg_pay_for_user']=data_all_ultra_count_hwo_over_pay['up_revenue_user_sum']/data_all_ultra_count_hwo_over_pay['revenue_user_count']\n",
    "print('средняя выручка на одного пользователя:',(data_all_ultra_count_hwo_pay['revenue_user_sum']/data_all_ultra_count_hwo_pay['revenue_user_count']).mean())\n",
    "print('Среднее доля пользователей с переплатой:',data_all_ultra_count_hwo_over_pay['avg_user_how_over_pay'].mean())\n",
    "print('Средняя переплата за пользователя в месяц:',data_all_ultra_count_hwo_over_pay['avg_pay_for_user'].mean())\n",
    "print('Максимальная перплата:',data_all_ultra['up_revenue_user'].max())"
   ]
  },
  {
   "cell_type": "markdown",
   "metadata": {},
   "source": [
    "<b>Описание тарифа:</b>  \n",
    "Тариф Ultra, рассчитан для клиентов не готовых переплачивать за тариф. Средняя выручка на пользователя не превышает 2046 руб.  \n",
    "12% клиентов имеют переплату по тарифу в основном переплата возникает из-из перерасхода интернет трафика.  \n",
    "Клиенты данного тарифа в среднем не выбирают лимиты. Особенно это заметно в звонках (потребление несильно больше, чем у Smart)\n",
    "Для графиков потребления минут и интернет трафика характерно нормальное распределение.  \n",
    "Среднее-месячное кол-во минут (527) укладывается в лимиты по тарифу (3000).    \n",
    "Среднее-месячное кол-во сообщений (54) укладывается в лимиты по тарифу (1000).  \n",
    "Среднее-месячное кол-во гигабайт (19) не укладывается в лимиты по тарифу (30).  \n",
    "Данный тариф выбирают пользователи, которым явно не хватает 15 гигабайт интернета на тарифе Smart.\n"
   ]
  },
  {
   "cell_type": "markdown",
   "metadata": {},
   "source": [
    "# Проверка гипотез"
   ]
  },
  {
   "cell_type": "markdown",
   "metadata": {},
   "source": [
    "## Средняя выручка пользователей тарифов «Ультра» и «Смарт» различаются"
   ]
  },
  {
   "cell_type": "markdown",
   "metadata": {},
   "source": [
    "Нулевая гипотеза: Средняя выручка тарифа \"Ультра\" равна  средней выручке по тарифу «Смарт»\n",
    "\n",
    "Альтернативная гипотеза: Средняя выручка тарифа \"Ультра\" не равна  средней выручке по тарифу «Смарт» "
   ]
  },
  {
   "cell_type": "code",
   "execution_count": 24,
   "metadata": {},
   "outputs": [
    {
     "name": "stdout",
     "output_type": "stream",
     "text": [
      "P-value: 4.2606313931076085e-250\n",
      "Средняя выручка по Smart: 1289.9735307312696\n",
      "Средняя выручка по Ultra: 2070.1522842639592\n",
      "Отвергаем нулевую гипотезу\n"
     ]
    }
   ],
   "source": [
    "from scipy import stats as st\n",
    "alpha = 0.05\n",
    "results = st.ttest_ind(data_all_smart['revenue_user'],data_all_ultra['revenue_user'], equal_var = False)\n",
    "print('P-value:', results.pvalue)\n",
    "print('Средняя выручка по Smart:',data_all_smart['revenue_user'].mean())\n",
    "print('Средняя выручка по Ultra:',data_all_ultra['revenue_user'].mean())\n",
    "if (results.pvalue < alpha):\n",
    "    print(\"Отвергаем нулевую гипотезу\")\n",
    "else:\n",
    "    print(\"Не получилось отвергнуть нулевую гипотезу\")"
   ]
  },
  {
   "cell_type": "markdown",
   "metadata": {},
   "source": [
    "Выводы: Нулевая гипотеза не подтвердилась. Выручка по тарифам не равна с уровнем значимости 5%."
   ]
  },
  {
   "cell_type": "markdown",
   "metadata": {},
   "source": [
    "## Средняя выручка пользователей из Москвы отличается от выручки пользователей из других регионов"
   ]
  },
  {
   "cell_type": "markdown",
   "metadata": {},
   "source": [
    "Нулевая гипотеза: Средняя выручка в Москве равна средней выручке по тарифу в остальных регионах\n",
    "\n",
    "Альтернативная гипотеза: Средняя выручка в Москве не равна средней выручке в остальных регионах"
   ]
  },
  {
   "cell_type": "code",
   "execution_count": 25,
   "metadata": {},
   "outputs": [
    {
     "name": "stdout",
     "output_type": "stream",
     "text": [
      "P-value: 0.5257376663729298\n",
      "Средняя выручка по Москве: 1546.7135842880523\n",
      "Средняя выручка не по Москве: 1524.9362274298885\n",
      "Не получилось отвергнуть нулевую гипотезу\n"
     ]
    }
   ],
   "source": [
    "Moscow=data_all.loc[data_all['city']=='Москва']\n",
    "unMoscow=data_all.loc[data_all['city']!='Москва']\n",
    "\n",
    "\n",
    "from scipy import stats as st\n",
    "alpha = 0.05\n",
    "results = st.ttest_ind(Moscow['revenue_user'],unMoscow['revenue_user'], equal_var = False)\n",
    "print('P-value:', results.pvalue)\n",
    "print('Средняя выручка по Москве:',Moscow['revenue_user'].mean())\n",
    "print('Средняя выручка не по Москве:',unMoscow['revenue_user'].mean())\n",
    "if (results.pvalue < alpha):\n",
    "    print(\"Отвергаем нулевую гипотезу\")\n",
    "else:\n",
    "    print(\"Не получилось отвергнуть нулевую гипотезу\")"
   ]
  },
  {
   "cell_type": "markdown",
   "metadata": {},
   "source": [
    "Выводы: Нулевая гипотеза подтвердилась. Следовательно, можно утверждать, что выручка в Москве и за ее пределами равны."
   ]
  },
  {
   "cell_type": "markdown",
   "metadata": {},
   "source": [
    "# Выводы"
   ]
  },
  {
   "cell_type": "markdown",
   "metadata": {},
   "source": [
    "В процессе анализа данных были изучены клиентское поведение двух Тарифов:\n",
    "\n",
    "Для тарифа Смарт характерна ежемесячная переплата по тарифу соизмеримая с самой стоимостью тарифа. Средняя переплата по тарифу составляет 591 руб и 67% клиентов имеют переплаты. Так же мы видим, что основным источником переплат является нехватка интернета. (в среднем клиенты тратят на 2.8 гигабайт больше лимита)\n",
    "\n",
    "Для клиентов тарифа Ультра не свойственна переплата (только 12% пользователей имеют переплату в среднем 100 руб.)\n",
    "При этом выручка с одно клиента в два раза выше, чем у тарифа Смарт (с учетом переплат)\n",
    "Потребление голоса в среднем выше только 30%, а потребление интернета на 20%\n",
    "\n",
    "Гипотеза о равенстве среднего выручки тарифов не подтвердилась.  \n",
    "Гипотеза о равенстве выручки Москвы и других городов подтвердилась. \n",
    "\n",
    "\n",
    "Объективно мы видим что средняя выручка по тарифу Ultra выше Smart практически в два раза. Следовательно тариф Ultra выгоднее. Но оставлять один тариф для клиентов — это потенциальная угроза потери клиентов с низким ценником. \n",
    "\n"
   ]
  }
 ],
 "metadata": {
  "ExecuteTimeLog": [
   {
    "duration": 1085,
    "start_time": "2022-04-29T13:56:35.708Z"
   },
   {
    "duration": 199,
    "start_time": "2022-04-29T13:57:18.681Z"
   },
   {
    "duration": 1775,
    "start_time": "2022-04-29T18:57:26.152Z"
   },
   {
    "duration": 15,
    "start_time": "2022-04-29T19:12:54.386Z"
   },
   {
    "duration": 106,
    "start_time": "2022-04-29T19:19:44.759Z"
   },
   {
    "duration": 9,
    "start_time": "2022-04-29T19:19:54.256Z"
   },
   {
    "duration": 14,
    "start_time": "2022-04-29T19:20:17.370Z"
   },
   {
    "duration": 10,
    "start_time": "2022-04-29T19:20:22.806Z"
   },
   {
    "duration": 13,
    "start_time": "2022-04-29T19:20:43.168Z"
   },
   {
    "duration": 10,
    "start_time": "2022-04-29T19:22:00.574Z"
   },
   {
    "duration": 14,
    "start_time": "2022-04-29T19:22:11.201Z"
   },
   {
    "duration": 11,
    "start_time": "2022-04-29T19:22:27.433Z"
   },
   {
    "duration": 14,
    "start_time": "2022-04-29T19:23:42.175Z"
   },
   {
    "duration": 1441,
    "start_time": "2022-04-29T19:23:46.804Z"
   },
   {
    "duration": 14,
    "start_time": "2022-04-29T19:23:48.248Z"
   },
   {
    "duration": 127,
    "start_time": "2022-04-29T19:23:48.265Z"
   },
   {
    "duration": 11,
    "start_time": "2022-04-29T19:24:56.869Z"
   },
   {
    "duration": 14,
    "start_time": "2022-04-29T19:28:35.448Z"
   },
   {
    "duration": 1494,
    "start_time": "2022-04-29T19:28:56.452Z"
   },
   {
    "duration": 16,
    "start_time": "2022-04-29T19:28:57.948Z"
   },
   {
    "duration": 126,
    "start_time": "2022-04-29T19:28:57.966Z"
   },
   {
    "duration": 13,
    "start_time": "2022-04-29T19:29:06.170Z"
   },
   {
    "duration": 13,
    "start_time": "2022-04-29T19:29:30.488Z"
   },
   {
    "duration": 6,
    "start_time": "2022-04-29T19:30:49.730Z"
   },
   {
    "duration": 6,
    "start_time": "2022-04-29T19:31:01.281Z"
   },
   {
    "duration": 15,
    "start_time": "2022-04-29T19:31:08.056Z"
   },
   {
    "duration": 6,
    "start_time": "2022-04-29T19:31:31.289Z"
   },
   {
    "duration": 5,
    "start_time": "2022-04-29T19:31:34.668Z"
   },
   {
    "duration": 17,
    "start_time": "2022-04-29T19:31:37.256Z"
   },
   {
    "duration": 15,
    "start_time": "2022-04-29T19:32:19.191Z"
   },
   {
    "duration": 12,
    "start_time": "2022-04-29T19:33:32.053Z"
   },
   {
    "duration": 9,
    "start_time": "2022-04-29T19:34:39.164Z"
   },
   {
    "duration": 9,
    "start_time": "2022-04-29T19:35:24.739Z"
   },
   {
    "duration": 17,
    "start_time": "2022-04-29T19:35:27.853Z"
   },
   {
    "duration": 11,
    "start_time": "2022-04-29T19:35:31.136Z"
   },
   {
    "duration": 8,
    "start_time": "2022-04-29T19:40:32.940Z"
   },
   {
    "duration": 11,
    "start_time": "2022-04-29T19:45:32.184Z"
   },
   {
    "duration": 44,
    "start_time": "2022-04-29T19:45:43.209Z"
   },
   {
    "duration": 38,
    "start_time": "2022-04-29T19:46:18.511Z"
   },
   {
    "duration": 22,
    "start_time": "2022-04-29T19:47:20.687Z"
   },
   {
    "duration": 32,
    "start_time": "2022-04-29T19:47:40.072Z"
   },
   {
    "duration": 15,
    "start_time": "2022-04-29T19:48:13.650Z"
   },
   {
    "duration": 17,
    "start_time": "2022-04-29T19:49:28.417Z"
   },
   {
    "duration": 15,
    "start_time": "2022-04-29T19:49:46.961Z"
   },
   {
    "duration": 685,
    "start_time": "2022-04-29T19:50:49.406Z"
   },
   {
    "duration": 12,
    "start_time": "2022-04-29T19:51:45.853Z"
   },
   {
    "duration": 16,
    "start_time": "2022-04-29T19:51:57.124Z"
   },
   {
    "duration": 7,
    "start_time": "2022-04-29T19:53:17.450Z"
   },
   {
    "duration": 26,
    "start_time": "2022-04-29T19:53:22.590Z"
   },
   {
    "duration": 27,
    "start_time": "2022-04-29T19:55:16.386Z"
   },
   {
    "duration": 10,
    "start_time": "2022-04-29T19:58:12.890Z"
   },
   {
    "duration": 193,
    "start_time": "2022-04-29T19:58:41.820Z"
   },
   {
    "duration": 11,
    "start_time": "2022-04-29T19:58:53.666Z"
   },
   {
    "duration": 6,
    "start_time": "2022-04-29T20:00:39.052Z"
   },
   {
    "duration": 10,
    "start_time": "2022-04-29T20:02:08.047Z"
   },
   {
    "duration": 6,
    "start_time": "2022-04-29T20:02:30.540Z"
   },
   {
    "duration": 8,
    "start_time": "2022-04-29T20:03:59.486Z"
   },
   {
    "duration": 1381,
    "start_time": "2022-04-29T20:05:39.515Z"
   },
   {
    "duration": 6,
    "start_time": "2022-04-29T20:05:40.899Z"
   },
   {
    "duration": 28,
    "start_time": "2022-04-29T20:05:40.907Z"
   },
   {
    "duration": 12,
    "start_time": "2022-04-29T20:05:40.937Z"
   },
   {
    "duration": 9,
    "start_time": "2022-04-29T20:05:40.952Z"
   },
   {
    "duration": 38,
    "start_time": "2022-04-29T20:05:40.963Z"
   },
   {
    "duration": 25,
    "start_time": "2022-04-29T20:06:02.524Z"
   },
   {
    "duration": 8,
    "start_time": "2022-04-29T20:10:01.953Z"
   },
   {
    "duration": 143,
    "start_time": "2022-04-29T20:12:29.152Z"
   },
   {
    "duration": 22,
    "start_time": "2022-04-29T20:12:49.407Z"
   },
   {
    "duration": 25,
    "start_time": "2022-04-29T20:14:48.409Z"
   },
   {
    "duration": 23,
    "start_time": "2022-04-29T20:14:55.633Z"
   },
   {
    "duration": 25,
    "start_time": "2022-04-29T20:16:15.048Z"
   },
   {
    "duration": 25,
    "start_time": "2022-04-29T20:17:26.219Z"
   },
   {
    "duration": 1471,
    "start_time": "2022-04-29T20:17:36.296Z"
   },
   {
    "duration": 6,
    "start_time": "2022-04-29T20:17:37.769Z"
   },
   {
    "duration": 31,
    "start_time": "2022-04-29T20:17:37.777Z"
   },
   {
    "duration": 25,
    "start_time": "2022-04-29T20:17:37.810Z"
   },
   {
    "duration": 8,
    "start_time": "2022-04-29T20:17:37.839Z"
   },
   {
    "duration": 55,
    "start_time": "2022-04-29T20:17:37.850Z"
   },
   {
    "duration": 25,
    "start_time": "2022-04-29T20:18:10.073Z"
   },
   {
    "duration": 100,
    "start_time": "2022-04-29T20:20:53.357Z"
   },
   {
    "duration": 217,
    "start_time": "2022-04-29T20:22:23.271Z"
   },
   {
    "duration": 844,
    "start_time": "2022-04-29T20:25:00.958Z"
   },
   {
    "duration": 678,
    "start_time": "2022-04-29T20:25:28.663Z"
   },
   {
    "duration": 164,
    "start_time": "2022-04-29T20:28:14.556Z"
   },
   {
    "duration": 599,
    "start_time": "2022-04-29T20:33:57.503Z"
   },
   {
    "duration": 20,
    "start_time": "2022-04-29T20:34:15.869Z"
   },
   {
    "duration": 16,
    "start_time": "2022-04-29T20:37:06.496Z"
   },
   {
    "duration": 68,
    "start_time": "2022-04-29T20:38:30.501Z"
   },
   {
    "duration": 66,
    "start_time": "2022-04-29T20:38:41.644Z"
   },
   {
    "duration": 13,
    "start_time": "2022-04-29T20:38:43.413Z"
   },
   {
    "duration": 158,
    "start_time": "2022-04-29T20:50:40.332Z"
   },
   {
    "duration": 607,
    "start_time": "2022-04-29T20:50:45.581Z"
   },
   {
    "duration": 650,
    "start_time": "2022-04-29T20:51:49.244Z"
   },
   {
    "duration": 450,
    "start_time": "2022-04-29T20:52:15.037Z"
   },
   {
    "duration": 3498,
    "start_time": "2022-04-29T20:53:10.460Z"
   },
   {
    "duration": 686,
    "start_time": "2022-04-29T20:53:26.602Z"
   },
   {
    "duration": 851,
    "start_time": "2022-04-29T20:56:32.929Z"
   },
   {
    "duration": 1472,
    "start_time": "2022-04-29T20:56:47.757Z"
   },
   {
    "duration": 6,
    "start_time": "2022-04-29T20:56:49.231Z"
   },
   {
    "duration": 23,
    "start_time": "2022-04-29T20:56:49.240Z"
   },
   {
    "duration": 40,
    "start_time": "2022-04-29T20:56:49.265Z"
   },
   {
    "duration": 10,
    "start_time": "2022-04-29T20:56:49.307Z"
   },
   {
    "duration": 21,
    "start_time": "2022-04-29T20:56:49.319Z"
   },
   {
    "duration": 93,
    "start_time": "2022-04-29T20:56:49.342Z"
   },
   {
    "duration": 619,
    "start_time": "2022-04-29T20:56:49.437Z"
   },
   {
    "duration": 18,
    "start_time": "2022-04-29T20:56:50.058Z"
   },
   {
    "duration": 723,
    "start_time": "2022-04-29T20:59:09.971Z"
   },
   {
    "duration": 653,
    "start_time": "2022-04-29T20:59:17.084Z"
   },
   {
    "duration": 631,
    "start_time": "2022-04-29T20:59:38.141Z"
   },
   {
    "duration": 606,
    "start_time": "2022-04-29T20:59:43.205Z"
   },
   {
    "duration": 100,
    "start_time": "2022-04-29T21:02:49.231Z"
   },
   {
    "duration": 23,
    "start_time": "2022-04-29T21:02:55.805Z"
   },
   {
    "duration": 16,
    "start_time": "2022-04-29T21:03:26.099Z"
   },
   {
    "duration": 14,
    "start_time": "2022-04-29T21:04:01.603Z"
   },
   {
    "duration": 14,
    "start_time": "2022-04-29T21:04:08.908Z"
   },
   {
    "duration": 15,
    "start_time": "2022-04-29T21:04:19.259Z"
   },
   {
    "duration": 2733,
    "start_time": "2022-04-29T21:04:21.632Z"
   },
   {
    "duration": 1486,
    "start_time": "2022-04-29T21:04:29.893Z"
   },
   {
    "duration": 12,
    "start_time": "2022-04-29T21:04:31.381Z"
   },
   {
    "duration": 33,
    "start_time": "2022-04-29T21:04:31.395Z"
   },
   {
    "duration": 19,
    "start_time": "2022-04-29T21:04:31.431Z"
   },
   {
    "duration": 9,
    "start_time": "2022-04-29T21:04:31.453Z"
   },
   {
    "duration": 36,
    "start_time": "2022-04-29T21:04:31.464Z"
   },
   {
    "duration": 69,
    "start_time": "2022-04-29T21:04:31.503Z"
   },
   {
    "duration": 101,
    "start_time": "2022-04-29T21:04:31.574Z"
   },
   {
    "duration": 34,
    "start_time": "2022-04-29T21:04:31.678Z"
   },
   {
    "duration": 1428,
    "start_time": "2022-04-29T21:04:50.071Z"
   },
   {
    "duration": 6,
    "start_time": "2022-04-29T21:04:51.502Z"
   },
   {
    "duration": 28,
    "start_time": "2022-04-29T21:04:51.510Z"
   },
   {
    "duration": 19,
    "start_time": "2022-04-29T21:04:51.541Z"
   },
   {
    "duration": 37,
    "start_time": "2022-04-29T21:04:51.564Z"
   },
   {
    "duration": 29,
    "start_time": "2022-04-29T21:04:51.604Z"
   },
   {
    "duration": 76,
    "start_time": "2022-04-29T21:04:51.635Z"
   },
   {
    "duration": 98,
    "start_time": "2022-04-29T21:04:51.713Z"
   },
   {
    "duration": 22,
    "start_time": "2022-04-29T21:04:51.814Z"
   },
   {
    "duration": 1425,
    "start_time": "2022-04-29T21:05:03.872Z"
   },
   {
    "duration": 6,
    "start_time": "2022-04-29T21:05:05.299Z"
   },
   {
    "duration": 24,
    "start_time": "2022-04-29T21:05:05.308Z"
   },
   {
    "duration": 20,
    "start_time": "2022-04-29T21:05:05.335Z"
   },
   {
    "duration": 36,
    "start_time": "2022-04-29T21:05:05.359Z"
   },
   {
    "duration": 17,
    "start_time": "2022-04-29T21:05:05.398Z"
   },
   {
    "duration": 94,
    "start_time": "2022-04-29T21:05:05.417Z"
   },
   {
    "duration": 100,
    "start_time": "2022-04-29T21:05:05.514Z"
   },
   {
    "duration": 23,
    "start_time": "2022-04-29T21:05:05.616Z"
   },
   {
    "duration": 1493,
    "start_time": "2022-04-29T21:06:30.026Z"
   },
   {
    "duration": 7,
    "start_time": "2022-04-29T21:06:31.522Z"
   },
   {
    "duration": 29,
    "start_time": "2022-04-29T21:06:31.531Z"
   },
   {
    "duration": 40,
    "start_time": "2022-04-29T21:06:31.562Z"
   },
   {
    "duration": 16,
    "start_time": "2022-04-29T21:06:31.606Z"
   },
   {
    "duration": 22,
    "start_time": "2022-04-29T21:06:31.625Z"
   },
   {
    "duration": 88,
    "start_time": "2022-04-29T21:06:31.650Z"
   },
   {
    "duration": 113,
    "start_time": "2022-04-29T21:06:31.741Z"
   },
   {
    "duration": 0,
    "start_time": "2022-04-29T21:06:31.856Z"
   },
   {
    "duration": 1403,
    "start_time": "2022-04-29T21:10:40.285Z"
   },
   {
    "duration": 6,
    "start_time": "2022-04-29T21:10:41.694Z"
   },
   {
    "duration": 21,
    "start_time": "2022-04-29T21:10:41.703Z"
   },
   {
    "duration": 20,
    "start_time": "2022-04-29T21:10:41.727Z"
   },
   {
    "duration": 6,
    "start_time": "2022-04-29T21:10:41.749Z"
   },
   {
    "duration": 55,
    "start_time": "2022-04-29T21:10:41.757Z"
   },
   {
    "duration": 83,
    "start_time": "2022-04-29T21:10:41.814Z"
   },
   {
    "duration": 100,
    "start_time": "2022-04-29T21:10:41.899Z"
   },
   {
    "duration": 9,
    "start_time": "2022-04-29T21:10:42.001Z"
   },
   {
    "duration": 13,
    "start_time": "2022-04-29T21:11:15.769Z"
   },
   {
    "duration": 1686,
    "start_time": "2022-04-29T21:13:29.542Z"
   },
   {
    "duration": 7,
    "start_time": "2022-04-29T21:13:31.231Z"
   },
   {
    "duration": 26,
    "start_time": "2022-04-29T21:13:31.240Z"
   },
   {
    "duration": 36,
    "start_time": "2022-04-29T21:13:31.269Z"
   },
   {
    "duration": 7,
    "start_time": "2022-04-29T21:13:31.308Z"
   },
   {
    "duration": 24,
    "start_time": "2022-04-29T21:13:31.317Z"
   },
   {
    "duration": 103,
    "start_time": "2022-04-29T21:13:31.343Z"
   },
   {
    "duration": 653,
    "start_time": "2022-04-29T21:13:31.448Z"
   },
   {
    "duration": 0,
    "start_time": "2022-04-29T21:13:32.103Z"
   },
   {
    "duration": 1602,
    "start_time": "2022-04-29T21:13:58.945Z"
   },
   {
    "duration": 6,
    "start_time": "2022-04-29T21:14:00.550Z"
   },
   {
    "duration": 47,
    "start_time": "2022-04-29T21:14:00.559Z"
   },
   {
    "duration": 26,
    "start_time": "2022-04-29T21:14:00.609Z"
   },
   {
    "duration": 23,
    "start_time": "2022-04-29T21:14:00.638Z"
   },
   {
    "duration": 56,
    "start_time": "2022-04-29T21:14:00.664Z"
   },
   {
    "duration": 119,
    "start_time": "2022-04-29T21:14:00.723Z"
   },
   {
    "duration": 185,
    "start_time": "2022-04-29T21:14:00.845Z"
   },
   {
    "duration": 19,
    "start_time": "2022-04-29T21:14:01.034Z"
   },
   {
    "duration": 1454,
    "start_time": "2022-04-29T21:16:11.546Z"
   },
   {
    "duration": 6,
    "start_time": "2022-04-29T21:16:13.003Z"
   },
   {
    "duration": 23,
    "start_time": "2022-04-29T21:16:13.011Z"
   },
   {
    "duration": 20,
    "start_time": "2022-04-29T21:16:13.037Z"
   },
   {
    "duration": 6,
    "start_time": "2022-04-29T21:16:13.093Z"
   },
   {
    "duration": 23,
    "start_time": "2022-04-29T21:16:13.102Z"
   },
   {
    "duration": 100,
    "start_time": "2022-04-29T21:16:13.127Z"
   },
   {
    "duration": 195,
    "start_time": "2022-04-29T21:16:13.229Z"
   },
   {
    "duration": 0,
    "start_time": "2022-04-29T21:16:13.426Z"
   },
   {
    "duration": 1387,
    "start_time": "2022-04-29T21:18:52.932Z"
   },
   {
    "duration": 7,
    "start_time": "2022-04-29T21:18:54.322Z"
   },
   {
    "duration": 26,
    "start_time": "2022-04-29T21:18:54.331Z"
   },
   {
    "duration": 36,
    "start_time": "2022-04-29T21:18:54.359Z"
   },
   {
    "duration": 13,
    "start_time": "2022-04-29T21:18:54.397Z"
   },
   {
    "duration": 23,
    "start_time": "2022-04-29T21:18:54.412Z"
   },
   {
    "duration": 91,
    "start_time": "2022-04-29T21:18:54.437Z"
   },
   {
    "duration": 200,
    "start_time": "2022-04-29T21:18:54.530Z"
   },
   {
    "duration": 0,
    "start_time": "2022-04-29T21:18:54.732Z"
   },
   {
    "duration": 2006,
    "start_time": "2022-04-29T21:19:10.748Z"
   },
   {
    "duration": 14,
    "start_time": "2022-04-29T21:19:12.759Z"
   },
   {
    "duration": 32,
    "start_time": "2022-04-29T21:19:12.799Z"
   },
   {
    "duration": 28,
    "start_time": "2022-04-29T21:19:12.836Z"
   },
   {
    "duration": 56,
    "start_time": "2022-04-29T21:19:12.869Z"
   },
   {
    "duration": 54,
    "start_time": "2022-04-29T21:19:12.928Z"
   },
   {
    "duration": 119,
    "start_time": "2022-04-29T21:19:12.985Z"
   },
   {
    "duration": 334,
    "start_time": "2022-04-29T21:19:13.107Z"
   },
   {
    "duration": 0,
    "start_time": "2022-04-29T21:19:13.444Z"
   },
   {
    "duration": 1455,
    "start_time": "2022-04-29T21:20:10.659Z"
   },
   {
    "duration": 6,
    "start_time": "2022-04-29T21:20:12.116Z"
   },
   {
    "duration": 26,
    "start_time": "2022-04-29T21:20:12.124Z"
   },
   {
    "duration": 19,
    "start_time": "2022-04-29T21:20:12.152Z"
   },
   {
    "duration": 7,
    "start_time": "2022-04-29T21:20:12.195Z"
   },
   {
    "duration": 26,
    "start_time": "2022-04-29T21:20:12.204Z"
   },
   {
    "duration": 95,
    "start_time": "2022-04-29T21:20:12.232Z"
   },
   {
    "duration": 1391,
    "start_time": "2022-04-29T21:20:12.329Z"
   },
   {
    "duration": 0,
    "start_time": "2022-04-29T21:20:13.722Z"
   },
   {
    "duration": 1494,
    "start_time": "2022-04-29T21:20:34.409Z"
   },
   {
    "duration": 6,
    "start_time": "2022-04-29T21:20:35.906Z"
   },
   {
    "duration": 26,
    "start_time": "2022-04-29T21:20:35.915Z"
   },
   {
    "duration": 49,
    "start_time": "2022-04-29T21:20:35.944Z"
   },
   {
    "duration": 8,
    "start_time": "2022-04-29T21:20:35.995Z"
   },
   {
    "duration": 29,
    "start_time": "2022-04-29T21:20:36.004Z"
   },
   {
    "duration": 90,
    "start_time": "2022-04-29T21:20:36.036Z"
   },
   {
    "duration": 494,
    "start_time": "2022-04-29T21:20:36.128Z"
   },
   {
    "duration": 0,
    "start_time": "2022-04-29T21:20:36.624Z"
   },
   {
    "duration": 1295,
    "start_time": "2022-04-30T07:09:35.217Z"
   },
   {
    "duration": 2829,
    "start_time": "2022-04-30T07:09:36.514Z"
   },
   {
    "duration": 0,
    "start_time": "2022-04-30T07:09:39.345Z"
   },
   {
    "duration": 0,
    "start_time": "2022-04-30T07:09:39.346Z"
   },
   {
    "duration": 0,
    "start_time": "2022-04-30T07:09:39.348Z"
   },
   {
    "duration": 0,
    "start_time": "2022-04-30T07:09:39.349Z"
   },
   {
    "duration": 0,
    "start_time": "2022-04-30T07:09:39.350Z"
   },
   {
    "duration": 0,
    "start_time": "2022-04-30T07:09:39.351Z"
   },
   {
    "duration": 0,
    "start_time": "2022-04-30T07:09:39.352Z"
   },
   {
    "duration": 0,
    "start_time": "2022-04-30T07:09:39.353Z"
   },
   {
    "duration": 12,
    "start_time": "2022-04-30T07:09:53.287Z"
   },
   {
    "duration": 11,
    "start_time": "2022-04-30T07:10:35.132Z"
   },
   {
    "duration": 7,
    "start_time": "2022-04-30T07:12:48.270Z"
   },
   {
    "duration": 8,
    "start_time": "2022-04-30T07:12:57.434Z"
   },
   {
    "duration": 683,
    "start_time": "2022-04-30T07:21:15.388Z"
   },
   {
    "duration": 92,
    "start_time": "2022-04-30T07:26:31.935Z"
   },
   {
    "duration": 137,
    "start_time": "2022-04-30T07:26:52.027Z"
   },
   {
    "duration": 94,
    "start_time": "2022-04-30T07:26:58.298Z"
   },
   {
    "duration": 87,
    "start_time": "2022-04-30T07:27:23.115Z"
   },
   {
    "duration": 91,
    "start_time": "2022-04-30T07:27:38.543Z"
   },
   {
    "duration": 1114,
    "start_time": "2022-04-30T07:27:44.253Z"
   },
   {
    "duration": 99,
    "start_time": "2022-04-30T07:27:45.369Z"
   },
   {
    "duration": 5,
    "start_time": "2022-04-30T07:27:45.469Z"
   },
   {
    "duration": 12,
    "start_time": "2022-04-30T07:27:45.476Z"
   },
   {
    "duration": 15,
    "start_time": "2022-04-30T07:27:45.500Z"
   },
   {
    "duration": 7,
    "start_time": "2022-04-30T07:27:45.519Z"
   },
   {
    "duration": 14,
    "start_time": "2022-04-30T07:27:45.528Z"
   },
   {
    "duration": 62,
    "start_time": "2022-04-30T07:27:45.543Z"
   },
   {
    "duration": 613,
    "start_time": "2022-04-30T07:27:45.607Z"
   },
   {
    "duration": 0,
    "start_time": "2022-04-30T07:27:46.222Z"
   },
   {
    "duration": 2779,
    "start_time": "2022-04-30T07:30:45.517Z"
   },
   {
    "duration": 1174,
    "start_time": "2022-04-30T07:32:46.683Z"
   },
   {
    "duration": 115,
    "start_time": "2022-04-30T07:32:47.859Z"
   },
   {
    "duration": 4,
    "start_time": "2022-04-30T07:32:47.976Z"
   },
   {
    "duration": 20,
    "start_time": "2022-04-30T07:32:47.981Z"
   },
   {
    "duration": 22,
    "start_time": "2022-04-30T07:32:48.006Z"
   },
   {
    "duration": 7,
    "start_time": "2022-04-30T07:32:48.029Z"
   },
   {
    "duration": 12,
    "start_time": "2022-04-30T07:32:48.038Z"
   },
   {
    "duration": 48,
    "start_time": "2022-04-30T07:32:48.052Z"
   },
   {
    "duration": 345,
    "start_time": "2022-04-30T07:32:48.108Z"
   },
   {
    "duration": 0,
    "start_time": "2022-04-30T07:32:48.455Z"
   },
   {
    "duration": 2675,
    "start_time": "2022-04-30T07:34:38.063Z"
   },
   {
    "duration": 1245,
    "start_time": "2022-04-30T07:34:46.685Z"
   },
   {
    "duration": 227,
    "start_time": "2022-04-30T07:34:47.932Z"
   },
   {
    "duration": 5,
    "start_time": "2022-04-30T07:34:48.160Z"
   },
   {
    "duration": 16,
    "start_time": "2022-04-30T07:34:48.167Z"
   },
   {
    "duration": 26,
    "start_time": "2022-04-30T07:34:48.184Z"
   },
   {
    "duration": 12,
    "start_time": "2022-04-30T07:34:48.211Z"
   },
   {
    "duration": 16,
    "start_time": "2022-04-30T07:34:48.225Z"
   },
   {
    "duration": 79,
    "start_time": "2022-04-30T07:34:48.242Z"
   },
   {
    "duration": 0,
    "start_time": "2022-04-30T07:34:48.323Z"
   },
   {
    "duration": 0,
    "start_time": "2022-04-30T07:34:48.325Z"
   },
   {
    "duration": 185,
    "start_time": "2022-04-30T07:37:20.690Z"
   },
   {
    "duration": 4,
    "start_time": "2022-04-30T07:37:57.828Z"
   },
   {
    "duration": 1130,
    "start_time": "2022-04-30T07:38:53.399Z"
   },
   {
    "duration": 194,
    "start_time": "2022-04-30T07:38:54.531Z"
   },
   {
    "duration": 0,
    "start_time": "2022-04-30T07:38:54.727Z"
   },
   {
    "duration": 0,
    "start_time": "2022-04-30T07:38:54.729Z"
   },
   {
    "duration": 0,
    "start_time": "2022-04-30T07:38:54.729Z"
   },
   {
    "duration": 0,
    "start_time": "2022-04-30T07:38:54.730Z"
   },
   {
    "duration": 0,
    "start_time": "2022-04-30T07:38:54.731Z"
   },
   {
    "duration": 0,
    "start_time": "2022-04-30T07:38:54.732Z"
   },
   {
    "duration": 0,
    "start_time": "2022-04-30T07:38:54.733Z"
   },
   {
    "duration": 0,
    "start_time": "2022-04-30T07:38:54.735Z"
   },
   {
    "duration": 1198,
    "start_time": "2022-04-30T07:39:40.076Z"
   },
   {
    "duration": 174,
    "start_time": "2022-04-30T07:39:41.276Z"
   },
   {
    "duration": 4,
    "start_time": "2022-04-30T07:39:41.452Z"
   },
   {
    "duration": 15,
    "start_time": "2022-04-30T07:39:41.458Z"
   },
   {
    "duration": 29,
    "start_time": "2022-04-30T07:39:41.475Z"
   },
   {
    "duration": 8,
    "start_time": "2022-04-30T07:39:41.505Z"
   },
   {
    "duration": 12,
    "start_time": "2022-04-30T07:39:41.515Z"
   },
   {
    "duration": 126,
    "start_time": "2022-04-30T07:39:41.529Z"
   },
   {
    "duration": 0,
    "start_time": "2022-04-30T07:39:41.657Z"
   },
   {
    "duration": 0,
    "start_time": "2022-04-30T07:39:41.658Z"
   },
   {
    "duration": 124,
    "start_time": "2022-04-30T07:40:05.559Z"
   },
   {
    "duration": 1257,
    "start_time": "2022-04-30T07:40:18.981Z"
   },
   {
    "duration": 166,
    "start_time": "2022-04-30T07:40:20.241Z"
   },
   {
    "duration": 4,
    "start_time": "2022-04-30T07:40:20.409Z"
   },
   {
    "duration": 12,
    "start_time": "2022-04-30T07:40:20.415Z"
   },
   {
    "duration": 15,
    "start_time": "2022-04-30T07:40:20.429Z"
   },
   {
    "duration": 5,
    "start_time": "2022-04-30T07:40:20.446Z"
   },
   {
    "duration": 12,
    "start_time": "2022-04-30T07:40:20.453Z"
   },
   {
    "duration": 93,
    "start_time": "2022-04-30T07:40:20.466Z"
   },
   {
    "duration": 0,
    "start_time": "2022-04-30T07:40:20.560Z"
   },
   {
    "duration": 0,
    "start_time": "2022-04-30T07:40:20.562Z"
   },
   {
    "duration": 133,
    "start_time": "2022-04-30T07:43:32.600Z"
   },
   {
    "duration": 1407,
    "start_time": "2022-04-30T07:43:38.427Z"
   },
   {
    "duration": 254,
    "start_time": "2022-04-30T07:43:39.836Z"
   },
   {
    "duration": 9,
    "start_time": "2022-04-30T07:43:40.092Z"
   },
   {
    "duration": 14,
    "start_time": "2022-04-30T07:43:40.103Z"
   },
   {
    "duration": 19,
    "start_time": "2022-04-30T07:43:40.118Z"
   },
   {
    "duration": 6,
    "start_time": "2022-04-30T07:43:40.138Z"
   },
   {
    "duration": 13,
    "start_time": "2022-04-30T07:43:40.146Z"
   },
   {
    "duration": 128,
    "start_time": "2022-04-30T07:43:40.160Z"
   },
   {
    "duration": 0,
    "start_time": "2022-04-30T07:43:40.290Z"
   },
   {
    "duration": 0,
    "start_time": "2022-04-30T07:43:40.300Z"
   },
   {
    "duration": 1100,
    "start_time": "2022-04-30T07:44:04.181Z"
   },
   {
    "duration": 157,
    "start_time": "2022-04-30T07:44:05.283Z"
   },
   {
    "duration": 4,
    "start_time": "2022-04-30T07:44:05.441Z"
   },
   {
    "duration": 12,
    "start_time": "2022-04-30T07:44:05.447Z"
   },
   {
    "duration": 13,
    "start_time": "2022-04-30T07:44:05.460Z"
   },
   {
    "duration": 26,
    "start_time": "2022-04-30T07:44:05.474Z"
   },
   {
    "duration": 10,
    "start_time": "2022-04-30T07:44:05.502Z"
   },
   {
    "duration": 73,
    "start_time": "2022-04-30T07:44:05.513Z"
   },
   {
    "duration": 0,
    "start_time": "2022-04-30T07:44:05.588Z"
   },
   {
    "duration": 0,
    "start_time": "2022-04-30T07:44:05.600Z"
   },
   {
    "duration": 1451,
    "start_time": "2022-04-30T07:44:23.396Z"
   },
   {
    "duration": 266,
    "start_time": "2022-04-30T07:44:24.849Z"
   },
   {
    "duration": 5,
    "start_time": "2022-04-30T07:44:25.117Z"
   },
   {
    "duration": 21,
    "start_time": "2022-04-30T07:44:25.124Z"
   },
   {
    "duration": 21,
    "start_time": "2022-04-30T07:44:25.146Z"
   },
   {
    "duration": 9,
    "start_time": "2022-04-30T07:44:25.169Z"
   },
   {
    "duration": 20,
    "start_time": "2022-04-30T07:44:25.180Z"
   },
   {
    "duration": 116,
    "start_time": "2022-04-30T07:44:25.202Z"
   },
   {
    "duration": 0,
    "start_time": "2022-04-30T07:44:25.320Z"
   },
   {
    "duration": 0,
    "start_time": "2022-04-30T07:44:25.321Z"
   },
   {
    "duration": 130,
    "start_time": "2022-04-30T07:44:36.999Z"
   },
   {
    "duration": 1020,
    "start_time": "2022-04-30T07:44:42.152Z"
   },
   {
    "duration": 164,
    "start_time": "2022-04-30T07:44:43.174Z"
   },
   {
    "duration": 4,
    "start_time": "2022-04-30T07:44:43.340Z"
   },
   {
    "duration": 12,
    "start_time": "2022-04-30T07:44:43.345Z"
   },
   {
    "duration": 13,
    "start_time": "2022-04-30T07:44:43.358Z"
   },
   {
    "duration": 4,
    "start_time": "2022-04-30T07:44:43.372Z"
   },
   {
    "duration": 30,
    "start_time": "2022-04-30T07:44:43.378Z"
   },
   {
    "duration": 68,
    "start_time": "2022-04-30T07:44:43.409Z"
   },
   {
    "duration": 0,
    "start_time": "2022-04-30T07:44:43.479Z"
   },
   {
    "duration": 0,
    "start_time": "2022-04-30T07:44:43.480Z"
   },
   {
    "duration": 1068,
    "start_time": "2022-04-30T07:55:38.539Z"
   },
   {
    "duration": 172,
    "start_time": "2022-04-30T07:55:39.609Z"
   },
   {
    "duration": 4,
    "start_time": "2022-04-30T07:55:39.782Z"
   },
   {
    "duration": 20,
    "start_time": "2022-04-30T07:55:39.787Z"
   },
   {
    "duration": 12,
    "start_time": "2022-04-30T07:55:39.809Z"
   },
   {
    "duration": 4,
    "start_time": "2022-04-30T07:55:39.822Z"
   },
   {
    "duration": 11,
    "start_time": "2022-04-30T07:55:39.828Z"
   },
   {
    "duration": 92,
    "start_time": "2022-04-30T07:55:39.840Z"
   },
   {
    "duration": 0,
    "start_time": "2022-04-30T07:55:39.934Z"
   },
   {
    "duration": 0,
    "start_time": "2022-04-30T07:55:39.935Z"
   },
   {
    "duration": 77,
    "start_time": "2022-04-30T07:55:50.605Z"
   },
   {
    "duration": 1111,
    "start_time": "2022-04-30T07:55:56.863Z"
   },
   {
    "duration": 177,
    "start_time": "2022-04-30T07:55:57.976Z"
   },
   {
    "duration": 4,
    "start_time": "2022-04-30T07:55:58.154Z"
   },
   {
    "duration": 12,
    "start_time": "2022-04-30T07:55:58.159Z"
   },
   {
    "duration": 27,
    "start_time": "2022-04-30T07:55:58.173Z"
   },
   {
    "duration": 5,
    "start_time": "2022-04-30T07:55:58.201Z"
   },
   {
    "duration": 11,
    "start_time": "2022-04-30T07:55:58.207Z"
   },
   {
    "duration": 94,
    "start_time": "2022-04-30T07:55:58.219Z"
   },
   {
    "duration": 0,
    "start_time": "2022-04-30T07:55:58.314Z"
   },
   {
    "duration": 0,
    "start_time": "2022-04-30T07:55:58.315Z"
   },
   {
    "duration": 1037,
    "start_time": "2022-04-30T07:59:32.947Z"
   },
   {
    "duration": 271,
    "start_time": "2022-04-30T07:59:33.986Z"
   },
   {
    "duration": 4,
    "start_time": "2022-04-30T07:59:34.259Z"
   },
   {
    "duration": 15,
    "start_time": "2022-04-30T07:59:34.264Z"
   },
   {
    "duration": 28,
    "start_time": "2022-04-30T07:59:34.281Z"
   },
   {
    "duration": 8,
    "start_time": "2022-04-30T07:59:34.311Z"
   },
   {
    "duration": 12,
    "start_time": "2022-04-30T07:59:34.321Z"
   },
   {
    "duration": 2581,
    "start_time": "2022-04-30T07:59:34.334Z"
   },
   {
    "duration": 0,
    "start_time": "2022-04-30T07:59:36.917Z"
   },
   {
    "duration": 0,
    "start_time": "2022-04-30T07:59:36.918Z"
   },
   {
    "duration": 2910,
    "start_time": "2022-04-30T08:00:19.660Z"
   },
   {
    "duration": 1056,
    "start_time": "2022-04-30T08:00:27.023Z"
   },
   {
    "duration": 170,
    "start_time": "2022-04-30T08:00:28.081Z"
   },
   {
    "duration": 5,
    "start_time": "2022-04-30T08:00:28.252Z"
   },
   {
    "duration": 12,
    "start_time": "2022-04-30T08:00:28.259Z"
   },
   {
    "duration": 29,
    "start_time": "2022-04-30T08:00:28.273Z"
   },
   {
    "duration": 14,
    "start_time": "2022-04-30T08:00:28.304Z"
   },
   {
    "duration": 15,
    "start_time": "2022-04-30T08:00:28.320Z"
   },
   {
    "duration": 2798,
    "start_time": "2022-04-30T08:00:28.337Z"
   },
   {
    "duration": 0,
    "start_time": "2022-04-30T08:00:31.137Z"
   },
   {
    "duration": 0,
    "start_time": "2022-04-30T08:00:31.138Z"
   },
   {
    "duration": 2906,
    "start_time": "2022-04-30T08:00:57.250Z"
   },
   {
    "duration": 2804,
    "start_time": "2022-04-30T08:01:07.975Z"
   },
   {
    "duration": 356,
    "start_time": "2022-04-30T08:01:10.781Z"
   },
   {
    "duration": 5,
    "start_time": "2022-04-30T08:01:11.138Z"
   },
   {
    "duration": 14,
    "start_time": "2022-04-30T08:01:11.144Z"
   },
   {
    "duration": 11,
    "start_time": "2022-04-30T08:01:11.160Z"
   },
   {
    "duration": 6,
    "start_time": "2022-04-30T08:01:11.173Z"
   },
   {
    "duration": 10,
    "start_time": "2022-04-30T08:01:11.199Z"
   },
   {
    "duration": 2540,
    "start_time": "2022-04-30T08:01:11.211Z"
   },
   {
    "duration": 0,
    "start_time": "2022-04-30T08:01:13.753Z"
   },
   {
    "duration": 0,
    "start_time": "2022-04-30T08:01:13.753Z"
   },
   {
    "duration": 1469,
    "start_time": "2022-04-30T08:01:41.257Z"
   },
   {
    "duration": 764,
    "start_time": "2022-04-30T08:01:42.728Z"
   },
   {
    "duration": 7,
    "start_time": "2022-04-30T08:01:43.494Z"
   },
   {
    "duration": 15,
    "start_time": "2022-04-30T08:01:43.504Z"
   },
   {
    "duration": 16,
    "start_time": "2022-04-30T08:01:43.520Z"
   },
   {
    "duration": 6,
    "start_time": "2022-04-30T08:01:43.538Z"
   },
   {
    "duration": 13,
    "start_time": "2022-04-30T08:01:43.546Z"
   },
   {
    "duration": 2675,
    "start_time": "2022-04-30T08:01:43.561Z"
   },
   {
    "duration": 0,
    "start_time": "2022-04-30T08:01:46.237Z"
   },
   {
    "duration": 0,
    "start_time": "2022-04-30T08:01:46.238Z"
   },
   {
    "duration": 2564,
    "start_time": "2022-04-30T08:03:03.930Z"
   },
   {
    "duration": 1106,
    "start_time": "2022-04-30T08:03:12.800Z"
   },
   {
    "duration": 1532,
    "start_time": "2022-04-30T08:03:13.908Z"
   },
   {
    "duration": 5,
    "start_time": "2022-04-30T08:03:15.442Z"
   },
   {
    "duration": 32,
    "start_time": "2022-04-30T08:03:15.449Z"
   },
   {
    "duration": 13,
    "start_time": "2022-04-30T08:03:15.483Z"
   },
   {
    "duration": 6,
    "start_time": "2022-04-30T08:03:15.498Z"
   },
   {
    "duration": 11,
    "start_time": "2022-04-30T08:03:15.506Z"
   },
   {
    "duration": 2594,
    "start_time": "2022-04-30T08:03:15.518Z"
   },
   {
    "duration": 0,
    "start_time": "2022-04-30T08:03:18.113Z"
   },
   {
    "duration": 0,
    "start_time": "2022-04-30T08:03:18.115Z"
   },
   {
    "duration": 1110,
    "start_time": "2022-04-30T08:03:54.470Z"
   },
   {
    "duration": 2741,
    "start_time": "2022-04-30T08:03:55.581Z"
   },
   {
    "duration": 0,
    "start_time": "2022-04-30T08:03:58.324Z"
   },
   {
    "duration": 0,
    "start_time": "2022-04-30T08:03:58.325Z"
   },
   {
    "duration": 0,
    "start_time": "2022-04-30T08:03:58.326Z"
   },
   {
    "duration": 0,
    "start_time": "2022-04-30T08:03:58.327Z"
   },
   {
    "duration": 0,
    "start_time": "2022-04-30T08:03:58.328Z"
   },
   {
    "duration": 0,
    "start_time": "2022-04-30T08:03:58.328Z"
   },
   {
    "duration": 0,
    "start_time": "2022-04-30T08:03:58.329Z"
   },
   {
    "duration": 0,
    "start_time": "2022-04-30T08:03:58.330Z"
   },
   {
    "duration": 1255,
    "start_time": "2022-04-30T08:04:37.588Z"
   },
   {
    "duration": 2798,
    "start_time": "2022-04-30T08:04:38.847Z"
   },
   {
    "duration": 0,
    "start_time": "2022-04-30T08:04:41.647Z"
   },
   {
    "duration": 0,
    "start_time": "2022-04-30T08:04:41.648Z"
   },
   {
    "duration": 0,
    "start_time": "2022-04-30T08:04:41.649Z"
   },
   {
    "duration": 0,
    "start_time": "2022-04-30T08:04:41.650Z"
   },
   {
    "duration": 0,
    "start_time": "2022-04-30T08:04:41.650Z"
   },
   {
    "duration": 0,
    "start_time": "2022-04-30T08:04:41.651Z"
   },
   {
    "duration": 0,
    "start_time": "2022-04-30T08:04:41.652Z"
   },
   {
    "duration": 0,
    "start_time": "2022-04-30T08:04:41.653Z"
   },
   {
    "duration": 1099,
    "start_time": "2022-04-30T08:05:54.693Z"
   },
   {
    "duration": 332,
    "start_time": "2022-04-30T08:05:55.794Z"
   },
   {
    "duration": 4,
    "start_time": "2022-04-30T08:05:56.127Z"
   },
   {
    "duration": 14,
    "start_time": "2022-04-30T08:05:56.133Z"
   },
   {
    "duration": 11,
    "start_time": "2022-04-30T08:05:56.149Z"
   },
   {
    "duration": 9,
    "start_time": "2022-04-30T08:05:56.162Z"
   },
   {
    "duration": 32,
    "start_time": "2022-04-30T08:05:56.173Z"
   },
   {
    "duration": 2805,
    "start_time": "2022-04-30T08:05:56.207Z"
   },
   {
    "duration": 0,
    "start_time": "2022-04-30T08:05:59.014Z"
   },
   {
    "duration": 0,
    "start_time": "2022-04-30T08:05:59.015Z"
   },
   {
    "duration": 2516,
    "start_time": "2022-04-30T08:06:17.134Z"
   },
   {
    "duration": 1104,
    "start_time": "2022-04-30T08:06:23.605Z"
   },
   {
    "duration": 357,
    "start_time": "2022-04-30T08:06:24.711Z"
   },
   {
    "duration": 4,
    "start_time": "2022-04-30T08:06:25.070Z"
   },
   {
    "duration": 16,
    "start_time": "2022-04-30T08:06:25.076Z"
   },
   {
    "duration": 11,
    "start_time": "2022-04-30T08:06:25.100Z"
   },
   {
    "duration": 7,
    "start_time": "2022-04-30T08:06:25.113Z"
   },
   {
    "duration": 13,
    "start_time": "2022-04-30T08:06:25.121Z"
   },
   {
    "duration": 2856,
    "start_time": "2022-04-30T08:06:25.135Z"
   },
   {
    "duration": 0,
    "start_time": "2022-04-30T08:06:27.993Z"
   },
   {
    "duration": 0,
    "start_time": "2022-04-30T08:06:27.995Z"
   },
   {
    "duration": 1067,
    "start_time": "2022-04-30T08:07:04.124Z"
   },
   {
    "duration": 351,
    "start_time": "2022-04-30T08:07:05.193Z"
   },
   {
    "duration": 4,
    "start_time": "2022-04-30T08:07:05.546Z"
   },
   {
    "duration": 13,
    "start_time": "2022-04-30T08:07:05.552Z"
   },
   {
    "duration": 11,
    "start_time": "2022-04-30T08:07:05.567Z"
   },
   {
    "duration": 4,
    "start_time": "2022-04-30T08:07:05.600Z"
   },
   {
    "duration": 11,
    "start_time": "2022-04-30T08:07:05.606Z"
   },
   {
    "duration": 2658,
    "start_time": "2022-04-30T08:07:05.618Z"
   },
   {
    "duration": 0,
    "start_time": "2022-04-30T08:07:08.278Z"
   },
   {
    "duration": 0,
    "start_time": "2022-04-30T08:07:08.279Z"
   },
   {
    "duration": 1078,
    "start_time": "2022-04-30T08:07:35.555Z"
   },
   {
    "duration": 340,
    "start_time": "2022-04-30T08:07:36.635Z"
   },
   {
    "duration": 4,
    "start_time": "2022-04-30T08:07:36.977Z"
   },
   {
    "duration": 20,
    "start_time": "2022-04-30T08:07:36.983Z"
   },
   {
    "duration": 12,
    "start_time": "2022-04-30T08:07:37.006Z"
   },
   {
    "duration": 7,
    "start_time": "2022-04-30T08:07:37.020Z"
   },
   {
    "duration": 15,
    "start_time": "2022-04-30T08:07:37.029Z"
   },
   {
    "duration": 2863,
    "start_time": "2022-04-30T08:07:37.045Z"
   },
   {
    "duration": 0,
    "start_time": "2022-04-30T08:07:39.910Z"
   },
   {
    "duration": 1,
    "start_time": "2022-04-30T08:07:39.911Z"
   },
   {
    "duration": 8,
    "start_time": "2022-04-30T08:33:19.910Z"
   },
   {
    "duration": 63,
    "start_time": "2022-04-30T08:33:37.324Z"
   },
   {
    "duration": 1316,
    "start_time": "2022-04-30T08:33:52.708Z"
   },
   {
    "duration": 340,
    "start_time": "2022-04-30T08:33:54.026Z"
   },
   {
    "duration": 70,
    "start_time": "2022-04-30T08:33:54.368Z"
   },
   {
    "duration": 4,
    "start_time": "2022-04-30T08:33:54.439Z"
   },
   {
    "duration": 13,
    "start_time": "2022-04-30T08:33:54.445Z"
   },
   {
    "duration": 15,
    "start_time": "2022-04-30T08:33:54.460Z"
   },
   {
    "duration": 4,
    "start_time": "2022-04-30T08:33:54.477Z"
   },
   {
    "duration": 26,
    "start_time": "2022-04-30T08:33:54.482Z"
   },
   {
    "duration": 2606,
    "start_time": "2022-04-30T08:33:54.510Z"
   },
   {
    "duration": 0,
    "start_time": "2022-04-30T08:33:57.118Z"
   },
   {
    "duration": 0,
    "start_time": "2022-04-30T08:33:57.119Z"
   },
   {
    "duration": 1082,
    "start_time": "2022-04-30T08:37:44.898Z"
   },
   {
    "duration": 349,
    "start_time": "2022-04-30T08:37:45.982Z"
   },
   {
    "duration": 289,
    "start_time": "2022-04-30T08:37:46.333Z"
   },
   {
    "duration": 4,
    "start_time": "2022-04-30T08:37:46.624Z"
   },
   {
    "duration": 12,
    "start_time": "2022-04-30T08:37:46.630Z"
   },
   {
    "duration": 12,
    "start_time": "2022-04-30T08:37:46.643Z"
   },
   {
    "duration": 10,
    "start_time": "2022-04-30T08:37:46.656Z"
   },
   {
    "duration": 18,
    "start_time": "2022-04-30T08:37:46.667Z"
   },
   {
    "duration": 2904,
    "start_time": "2022-04-30T08:37:46.686Z"
   },
   {
    "duration": 0,
    "start_time": "2022-04-30T08:37:49.592Z"
   },
   {
    "duration": 0,
    "start_time": "2022-04-30T08:37:49.593Z"
   },
   {
    "duration": 2920,
    "start_time": "2022-04-30T08:38:24.220Z"
   },
   {
    "duration": 1241,
    "start_time": "2022-04-30T08:38:51.194Z"
   },
   {
    "duration": 336,
    "start_time": "2022-04-30T08:38:52.438Z"
   },
   {
    "duration": 272,
    "start_time": "2022-04-30T08:38:52.776Z"
   },
   {
    "duration": 5,
    "start_time": "2022-04-30T08:38:53.050Z"
   },
   {
    "duration": 12,
    "start_time": "2022-04-30T08:38:53.057Z"
   },
   {
    "duration": 30,
    "start_time": "2022-04-30T08:38:53.071Z"
   },
   {
    "duration": 7,
    "start_time": "2022-04-30T08:38:53.103Z"
   },
   {
    "duration": 10,
    "start_time": "2022-04-30T08:38:53.112Z"
   },
   {
    "duration": 2850,
    "start_time": "2022-04-30T08:38:53.124Z"
   },
   {
    "duration": 0,
    "start_time": "2022-04-30T08:38:55.976Z"
   },
   {
    "duration": 0,
    "start_time": "2022-04-30T08:38:55.977Z"
   },
   {
    "duration": 2593,
    "start_time": "2022-04-30T08:39:34.768Z"
   },
   {
    "duration": 1114,
    "start_time": "2022-04-30T08:39:41.378Z"
   },
   {
    "duration": 352,
    "start_time": "2022-04-30T08:39:42.495Z"
   },
   {
    "duration": 301,
    "start_time": "2022-04-30T08:39:42.849Z"
   },
   {
    "duration": 4,
    "start_time": "2022-04-30T08:39:43.152Z"
   },
   {
    "duration": 14,
    "start_time": "2022-04-30T08:39:43.158Z"
   },
   {
    "duration": 12,
    "start_time": "2022-04-30T08:39:43.173Z"
   },
   {
    "duration": 5,
    "start_time": "2022-04-30T08:39:43.200Z"
   },
   {
    "duration": 10,
    "start_time": "2022-04-30T08:39:43.206Z"
   },
   {
    "duration": 2598,
    "start_time": "2022-04-30T08:39:43.218Z"
   },
   {
    "duration": 0,
    "start_time": "2022-04-30T08:39:45.818Z"
   },
   {
    "duration": 0,
    "start_time": "2022-04-30T08:39:45.819Z"
   },
   {
    "duration": 1029,
    "start_time": "2022-04-30T08:40:07.538Z"
   },
   {
    "duration": 339,
    "start_time": "2022-04-30T08:40:08.568Z"
   },
   {
    "duration": 194,
    "start_time": "2022-04-30T08:40:08.908Z"
   },
   {
    "duration": 0,
    "start_time": "2022-04-30T08:40:09.104Z"
   },
   {
    "duration": 0,
    "start_time": "2022-04-30T08:40:09.105Z"
   },
   {
    "duration": 0,
    "start_time": "2022-04-30T08:40:09.106Z"
   },
   {
    "duration": 0,
    "start_time": "2022-04-30T08:40:09.107Z"
   },
   {
    "duration": 0,
    "start_time": "2022-04-30T08:40:09.108Z"
   },
   {
    "duration": 0,
    "start_time": "2022-04-30T08:40:09.109Z"
   },
   {
    "duration": 0,
    "start_time": "2022-04-30T08:40:09.110Z"
   },
   {
    "duration": 0,
    "start_time": "2022-04-30T08:40:09.111Z"
   },
   {
    "duration": 1065,
    "start_time": "2022-04-30T08:40:27.110Z"
   },
   {
    "duration": 340,
    "start_time": "2022-04-30T08:40:28.177Z"
   },
   {
    "duration": 194,
    "start_time": "2022-04-30T08:40:28.518Z"
   },
   {
    "duration": 0,
    "start_time": "2022-04-30T08:40:28.715Z"
   },
   {
    "duration": 0,
    "start_time": "2022-04-30T08:40:28.716Z"
   },
   {
    "duration": 0,
    "start_time": "2022-04-30T08:40:28.717Z"
   },
   {
    "duration": 0,
    "start_time": "2022-04-30T08:40:28.719Z"
   },
   {
    "duration": 0,
    "start_time": "2022-04-30T08:40:28.720Z"
   },
   {
    "duration": 0,
    "start_time": "2022-04-30T08:40:28.721Z"
   },
   {
    "duration": 0,
    "start_time": "2022-04-30T08:40:28.722Z"
   },
   {
    "duration": 0,
    "start_time": "2022-04-30T08:40:28.723Z"
   },
   {
    "duration": 1093,
    "start_time": "2022-04-30T08:41:15.888Z"
   },
   {
    "duration": 342,
    "start_time": "2022-04-30T08:41:16.983Z"
   },
   {
    "duration": 297,
    "start_time": "2022-04-30T08:41:17.327Z"
   },
   {
    "duration": 4,
    "start_time": "2022-04-30T08:41:17.626Z"
   },
   {
    "duration": 14,
    "start_time": "2022-04-30T08:41:17.632Z"
   },
   {
    "duration": 13,
    "start_time": "2022-04-30T08:41:17.648Z"
   },
   {
    "duration": 6,
    "start_time": "2022-04-30T08:41:17.663Z"
   },
   {
    "duration": 35,
    "start_time": "2022-04-30T08:41:17.671Z"
   },
   {
    "duration": 3747,
    "start_time": "2022-04-30T08:41:17.707Z"
   },
   {
    "duration": 0,
    "start_time": "2022-04-30T08:41:21.455Z"
   },
   {
    "duration": 0,
    "start_time": "2022-04-30T08:41:21.456Z"
   },
   {
    "duration": 7,
    "start_time": "2022-04-30T08:47:14.176Z"
   },
   {
    "duration": 7,
    "start_time": "2022-04-30T08:47:33.469Z"
   },
   {
    "duration": 1083,
    "start_time": "2022-04-30T08:50:51.977Z"
   },
   {
    "duration": 340,
    "start_time": "2022-04-30T08:50:53.062Z"
   },
   {
    "duration": 298,
    "start_time": "2022-04-30T08:50:53.403Z"
   },
   {
    "duration": 104,
    "start_time": "2022-04-30T08:50:53.703Z"
   },
   {
    "duration": 0,
    "start_time": "2022-04-30T08:50:53.809Z"
   },
   {
    "duration": 0,
    "start_time": "2022-04-30T08:50:53.810Z"
   },
   {
    "duration": 0,
    "start_time": "2022-04-30T08:50:53.811Z"
   },
   {
    "duration": 0,
    "start_time": "2022-04-30T08:50:53.812Z"
   },
   {
    "duration": 0,
    "start_time": "2022-04-30T08:50:53.813Z"
   },
   {
    "duration": 0,
    "start_time": "2022-04-30T08:50:53.814Z"
   },
   {
    "duration": 0,
    "start_time": "2022-04-30T08:50:53.815Z"
   },
   {
    "duration": 0,
    "start_time": "2022-04-30T08:50:53.816Z"
   },
   {
    "duration": 1136,
    "start_time": "2022-04-30T08:52:59.686Z"
   },
   {
    "duration": 367,
    "start_time": "2022-04-30T08:53:00.824Z"
   },
   {
    "duration": 301,
    "start_time": "2022-04-30T08:53:01.193Z"
   },
   {
    "duration": 210,
    "start_time": "2022-04-30T08:53:01.500Z"
   },
   {
    "duration": 4,
    "start_time": "2022-04-30T08:53:01.713Z"
   },
   {
    "duration": 15,
    "start_time": "2022-04-30T08:53:01.719Z"
   },
   {
    "duration": 26,
    "start_time": "2022-04-30T08:53:01.736Z"
   },
   {
    "duration": 10,
    "start_time": "2022-04-30T08:53:01.764Z"
   },
   {
    "duration": 17,
    "start_time": "2022-04-30T08:53:01.776Z"
   },
   {
    "duration": 2896,
    "start_time": "2022-04-30T08:53:01.794Z"
   },
   {
    "duration": 0,
    "start_time": "2022-04-30T08:53:04.692Z"
   },
   {
    "duration": 0,
    "start_time": "2022-04-30T08:53:04.693Z"
   },
   {
    "duration": 2,
    "start_time": "2022-04-30T09:01:25.841Z"
   },
   {
    "duration": 10,
    "start_time": "2022-04-30T09:04:48.005Z"
   },
   {
    "duration": 7,
    "start_time": "2022-04-30T09:05:20.943Z"
   },
   {
    "duration": 12,
    "start_time": "2022-04-30T09:05:45.149Z"
   },
   {
    "duration": 10,
    "start_time": "2022-04-30T09:06:24.470Z"
   },
   {
    "duration": 19,
    "start_time": "2022-04-30T09:06:35.920Z"
   },
   {
    "duration": 20,
    "start_time": "2022-04-30T09:09:51.981Z"
   },
   {
    "duration": 18,
    "start_time": "2022-04-30T09:10:27.327Z"
   },
   {
    "duration": 21,
    "start_time": "2022-04-30T09:11:15.817Z"
   },
   {
    "duration": 24,
    "start_time": "2022-04-30T09:12:35.617Z"
   },
   {
    "duration": 6,
    "start_time": "2022-04-30T09:13:23.179Z"
   },
   {
    "duration": 1083,
    "start_time": "2022-04-30T09:13:44.853Z"
   },
   {
    "duration": 350,
    "start_time": "2022-04-30T09:13:45.938Z"
   },
   {
    "duration": 292,
    "start_time": "2022-04-30T09:13:46.289Z"
   },
   {
    "duration": 277,
    "start_time": "2022-04-30T09:13:46.582Z"
   },
   {
    "duration": 7,
    "start_time": "2022-04-30T09:13:46.861Z"
   },
   {
    "duration": 44,
    "start_time": "2022-04-30T09:13:46.870Z"
   },
   {
    "duration": 6,
    "start_time": "2022-04-30T09:13:46.916Z"
   },
   {
    "duration": 13,
    "start_time": "2022-04-30T09:13:46.924Z"
   },
   {
    "duration": 4,
    "start_time": "2022-04-30T09:13:46.939Z"
   },
   {
    "duration": 9,
    "start_time": "2022-04-30T09:13:46.946Z"
   },
   {
    "duration": 2772,
    "start_time": "2022-04-30T09:13:46.957Z"
   },
   {
    "duration": 0,
    "start_time": "2022-04-30T09:13:49.731Z"
   },
   {
    "duration": 0,
    "start_time": "2022-04-30T09:13:49.732Z"
   },
   {
    "duration": 18,
    "start_time": "2022-04-30T09:13:57.413Z"
   },
   {
    "duration": 1057,
    "start_time": "2022-04-30T09:14:10.949Z"
   },
   {
    "duration": 344,
    "start_time": "2022-04-30T09:14:12.008Z"
   },
   {
    "duration": 307,
    "start_time": "2022-04-30T09:14:12.353Z"
   },
   {
    "duration": 201,
    "start_time": "2022-04-30T09:14:12.661Z"
   },
   {
    "duration": 5,
    "start_time": "2022-04-30T09:14:12.864Z"
   },
   {
    "duration": 31,
    "start_time": "2022-04-30T09:14:12.871Z"
   },
   {
    "duration": 5,
    "start_time": "2022-04-30T09:14:12.903Z"
   },
   {
    "duration": 12,
    "start_time": "2022-04-30T09:14:12.909Z"
   },
   {
    "duration": 4,
    "start_time": "2022-04-30T09:14:12.923Z"
   },
   {
    "duration": 12,
    "start_time": "2022-04-30T09:14:12.929Z"
   },
   {
    "duration": 2632,
    "start_time": "2022-04-30T09:14:12.943Z"
   },
   {
    "duration": 0,
    "start_time": "2022-04-30T09:14:15.576Z"
   },
   {
    "duration": 0,
    "start_time": "2022-04-30T09:14:15.578Z"
   },
   {
    "duration": 23,
    "start_time": "2022-04-30T09:14:46.765Z"
   },
   {
    "duration": 29,
    "start_time": "2022-04-30T09:17:14.629Z"
   },
   {
    "duration": 36,
    "start_time": "2022-04-30T09:18:20.453Z"
   },
   {
    "duration": 34,
    "start_time": "2022-04-30T09:19:24.804Z"
   },
   {
    "duration": 282,
    "start_time": "2022-04-30T09:20:24.729Z"
   },
   {
    "duration": 43,
    "start_time": "2022-04-30T09:20:32.612Z"
   },
   {
    "duration": 39,
    "start_time": "2022-04-30T09:20:48.936Z"
   },
   {
    "duration": 30,
    "start_time": "2022-04-30T09:21:27.662Z"
   },
   {
    "duration": 165,
    "start_time": "2022-04-30T09:23:50.994Z"
   },
   {
    "duration": 30,
    "start_time": "2022-04-30T09:23:54.868Z"
   },
   {
    "duration": 24,
    "start_time": "2022-04-30T09:30:19.456Z"
   },
   {
    "duration": 28,
    "start_time": "2022-04-30T09:31:25.525Z"
   },
   {
    "duration": 34,
    "start_time": "2022-04-30T09:31:57.790Z"
   },
   {
    "duration": 40,
    "start_time": "2022-04-30T09:32:28.997Z"
   },
   {
    "duration": 39,
    "start_time": "2022-04-30T09:39:01.559Z"
   },
   {
    "duration": 53,
    "start_time": "2022-04-30T09:39:30.413Z"
   },
   {
    "duration": 40,
    "start_time": "2022-04-30T09:40:21.663Z"
   },
   {
    "duration": 1143,
    "start_time": "2022-04-30T09:41:32.966Z"
   },
   {
    "duration": 336,
    "start_time": "2022-04-30T09:41:34.111Z"
   },
   {
    "duration": 298,
    "start_time": "2022-04-30T09:41:34.449Z"
   },
   {
    "duration": 200,
    "start_time": "2022-04-30T09:41:34.749Z"
   },
   {
    "duration": 5,
    "start_time": "2022-04-30T09:41:34.951Z"
   },
   {
    "duration": 52,
    "start_time": "2022-04-30T09:41:34.957Z"
   },
   {
    "duration": 5,
    "start_time": "2022-04-30T09:41:35.010Z"
   },
   {
    "duration": 22,
    "start_time": "2022-04-30T09:41:35.016Z"
   },
   {
    "duration": 8,
    "start_time": "2022-04-30T09:41:35.039Z"
   },
   {
    "duration": 20,
    "start_time": "2022-04-30T09:41:35.049Z"
   },
   {
    "duration": 2950,
    "start_time": "2022-04-30T09:41:35.070Z"
   },
   {
    "duration": 0,
    "start_time": "2022-04-30T09:41:38.022Z"
   },
   {
    "duration": 0,
    "start_time": "2022-04-30T09:41:38.023Z"
   },
   {
    "duration": 15,
    "start_time": "2022-04-30T10:49:29.540Z"
   },
   {
    "duration": 14,
    "start_time": "2022-04-30T10:51:26.292Z"
   },
   {
    "duration": 11,
    "start_time": "2022-04-30T10:53:19.068Z"
   },
   {
    "duration": 14,
    "start_time": "2022-04-30T10:54:04.264Z"
   },
   {
    "duration": 16,
    "start_time": "2022-04-30T10:54:28.247Z"
   },
   {
    "duration": 16,
    "start_time": "2022-04-30T10:55:33.190Z"
   },
   {
    "duration": 17,
    "start_time": "2022-04-30T10:55:53.331Z"
   },
   {
    "duration": 11,
    "start_time": "2022-04-30T10:55:54.706Z"
   },
   {
    "duration": 16,
    "start_time": "2022-04-30T10:56:11.422Z"
   },
   {
    "duration": 15,
    "start_time": "2022-04-30T10:56:26.897Z"
   },
   {
    "duration": 245,
    "start_time": "2022-04-30T10:57:09.646Z"
   },
   {
    "duration": 157,
    "start_time": "2022-04-30T10:57:34.400Z"
   },
   {
    "duration": 123,
    "start_time": "2022-04-30T10:57:44.412Z"
   },
   {
    "duration": 125,
    "start_time": "2022-04-30T10:58:01.436Z"
   },
   {
    "duration": 128,
    "start_time": "2022-04-30T10:58:44.891Z"
   },
   {
    "duration": 157,
    "start_time": "2022-04-30T11:03:07.798Z"
   },
   {
    "duration": 149,
    "start_time": "2022-04-30T11:03:17.582Z"
   },
   {
    "duration": 25,
    "start_time": "2022-04-30T11:14:39.250Z"
   },
   {
    "duration": 23,
    "start_time": "2022-04-30T11:14:57.930Z"
   },
   {
    "duration": 205,
    "start_time": "2022-04-30T11:19:19.415Z"
   },
   {
    "duration": 23,
    "start_time": "2022-04-30T11:19:37.612Z"
   },
   {
    "duration": 1095,
    "start_time": "2022-04-30T11:21:16.663Z"
   },
   {
    "duration": 335,
    "start_time": "2022-04-30T11:21:17.760Z"
   },
   {
    "duration": 289,
    "start_time": "2022-04-30T11:21:18.099Z"
   },
   {
    "duration": 190,
    "start_time": "2022-04-30T11:21:18.389Z"
   },
   {
    "duration": 5,
    "start_time": "2022-04-30T11:21:18.581Z"
   },
   {
    "duration": 32628,
    "start_time": "2022-04-30T11:21:18.588Z"
   },
   {
    "duration": 155,
    "start_time": "2022-04-30T11:21:51.218Z"
   },
   {
    "duration": 11,
    "start_time": "2022-04-30T11:21:51.374Z"
   },
   {
    "duration": 15,
    "start_time": "2022-04-30T11:21:51.386Z"
   },
   {
    "duration": 11,
    "start_time": "2022-04-30T11:21:51.402Z"
   },
   {
    "duration": 2600,
    "start_time": "2022-04-30T11:21:51.414Z"
   },
   {
    "duration": 0,
    "start_time": "2022-04-30T11:21:54.016Z"
   },
   {
    "duration": 0,
    "start_time": "2022-04-30T11:21:54.017Z"
   },
   {
    "duration": 447,
    "start_time": "2022-04-30T11:22:26.412Z"
   },
   {
    "duration": 156,
    "start_time": "2022-04-30T11:22:26.861Z"
   },
   {
    "duration": 26,
    "start_time": "2022-04-30T11:23:46.704Z"
   },
   {
    "duration": 23,
    "start_time": "2022-04-30T11:25:49.976Z"
   },
   {
    "duration": 25,
    "start_time": "2022-04-30T11:27:02.958Z"
   },
   {
    "duration": 651,
    "start_time": "2022-04-30T11:30:51.083Z"
   },
   {
    "duration": 2586,
    "start_time": "2022-04-30T11:46:08.261Z"
   },
   {
    "duration": 20,
    "start_time": "2022-04-30T11:46:33.574Z"
   },
   {
    "duration": 21,
    "start_time": "2022-04-30T11:46:45.871Z"
   },
   {
    "duration": 30,
    "start_time": "2022-04-30T11:55:16.584Z"
   },
   {
    "duration": 826,
    "start_time": "2022-04-30T11:56:01.518Z"
   },
   {
    "duration": 27,
    "start_time": "2022-04-30T11:56:46.449Z"
   },
   {
    "duration": 28,
    "start_time": "2022-04-30T11:57:11.244Z"
   },
   {
    "duration": 24,
    "start_time": "2022-04-30T12:21:16.991Z"
   },
   {
    "duration": 25,
    "start_time": "2022-04-30T12:21:33.107Z"
   },
   {
    "duration": 24,
    "start_time": "2022-04-30T12:21:55.164Z"
   },
   {
    "duration": 197,
    "start_time": "2022-04-30T12:28:34.773Z"
   },
   {
    "duration": 23,
    "start_time": "2022-04-30T12:29:00.370Z"
   },
   {
    "duration": 158,
    "start_time": "2022-04-30T12:30:50.485Z"
   },
   {
    "duration": 25,
    "start_time": "2022-04-30T12:31:09.441Z"
   },
   {
    "duration": 24,
    "start_time": "2022-04-30T12:31:32.941Z"
   },
   {
    "duration": 27,
    "start_time": "2022-04-30T12:36:11.132Z"
   },
   {
    "duration": 26,
    "start_time": "2022-04-30T12:39:06.186Z"
   },
   {
    "duration": 1714,
    "start_time": "2022-04-30T12:39:19.484Z"
   },
   {
    "duration": 343,
    "start_time": "2022-04-30T12:39:21.200Z"
   },
   {
    "duration": 299,
    "start_time": "2022-04-30T12:39:21.545Z"
   },
   {
    "duration": 197,
    "start_time": "2022-04-30T12:39:21.846Z"
   },
   {
    "duration": 5,
    "start_time": "2022-04-30T12:39:22.045Z"
   },
   {
    "duration": 22,
    "start_time": "2022-04-30T12:39:22.051Z"
   },
   {
    "duration": 154,
    "start_time": "2022-04-30T12:39:22.075Z"
   },
   {
    "duration": 11,
    "start_time": "2022-04-30T12:39:22.230Z"
   },
   {
    "duration": 4,
    "start_time": "2022-04-30T12:39:22.243Z"
   },
   {
    "duration": 13,
    "start_time": "2022-04-30T12:39:22.249Z"
   },
   {
    "duration": 2634,
    "start_time": "2022-04-30T12:39:22.263Z"
   },
   {
    "duration": 0,
    "start_time": "2022-04-30T12:39:24.899Z"
   },
   {
    "duration": 0,
    "start_time": "2022-04-30T12:39:24.901Z"
   },
   {
    "duration": 64,
    "start_time": "2022-04-30T12:45:41.705Z"
   },
   {
    "duration": 23,
    "start_time": "2022-04-30T12:48:47.814Z"
   },
   {
    "duration": 270,
    "start_time": "2022-04-30T12:49:05.421Z"
   },
   {
    "duration": 141,
    "start_time": "2022-04-30T13:38:17.918Z"
   },
   {
    "duration": 136,
    "start_time": "2022-04-30T13:40:10.738Z"
   },
   {
    "duration": 134,
    "start_time": "2022-04-30T13:41:59.211Z"
   },
   {
    "duration": 147,
    "start_time": "2022-04-30T13:42:14.578Z"
   },
   {
    "duration": 140,
    "start_time": "2022-04-30T13:43:13.535Z"
   },
   {
    "duration": 16,
    "start_time": "2022-04-30T13:43:34.885Z"
   },
   {
    "duration": 18,
    "start_time": "2022-04-30T13:44:11.112Z"
   },
   {
    "duration": 16,
    "start_time": "2022-04-30T13:44:29.925Z"
   },
   {
    "duration": 16,
    "start_time": "2022-04-30T13:46:20.383Z"
   },
   {
    "duration": 16,
    "start_time": "2022-04-30T13:48:17.822Z"
   },
   {
    "duration": 33,
    "start_time": "2022-04-30T13:48:28.376Z"
   },
   {
    "duration": 26,
    "start_time": "2022-04-30T13:49:16.975Z"
   },
   {
    "duration": 28,
    "start_time": "2022-04-30T13:51:46.220Z"
   },
   {
    "duration": 143,
    "start_time": "2022-04-30T13:52:09.296Z"
   },
   {
    "duration": 143,
    "start_time": "2022-04-30T13:52:58.625Z"
   },
   {
    "duration": 143,
    "start_time": "2022-04-30T13:53:12.508Z"
   },
   {
    "duration": 131,
    "start_time": "2022-04-30T13:55:14.613Z"
   },
   {
    "duration": 369,
    "start_time": "2022-04-30T13:56:21.602Z"
   },
   {
    "duration": 294,
    "start_time": "2022-04-30T13:56:34.998Z"
   },
   {
    "duration": 52,
    "start_time": "2022-05-01T17:32:18.845Z"
   },
   {
    "duration": 1295,
    "start_time": "2022-05-01T17:32:29.282Z"
   },
   {
    "duration": 423,
    "start_time": "2022-05-01T17:32:30.579Z"
   },
   {
    "duration": 373,
    "start_time": "2022-05-01T17:32:31.003Z"
   },
   {
    "duration": 258,
    "start_time": "2022-05-01T17:32:31.378Z"
   },
   {
    "duration": 6,
    "start_time": "2022-05-01T17:32:31.637Z"
   },
   {
    "duration": 411,
    "start_time": "2022-05-01T17:32:31.645Z"
   },
   {
    "duration": 158,
    "start_time": "2022-05-01T17:32:32.057Z"
   },
   {
    "duration": 197,
    "start_time": "2022-05-01T17:32:32.216Z"
   },
   {
    "duration": 21,
    "start_time": "2022-05-01T17:32:32.414Z"
   },
   {
    "duration": 7,
    "start_time": "2022-05-01T17:32:32.437Z"
   },
   {
    "duration": 14,
    "start_time": "2022-05-01T17:32:32.445Z"
   },
   {
    "duration": 2335,
    "start_time": "2022-05-01T17:32:32.460Z"
   },
   {
    "duration": 0,
    "start_time": "2022-05-01T17:32:34.796Z"
   },
   {
    "duration": 0,
    "start_time": "2022-05-01T17:32:34.798Z"
   },
   {
    "duration": 323,
    "start_time": "2022-05-01T17:32:56.682Z"
   },
   {
    "duration": 317,
    "start_time": "2022-05-01T17:33:08.175Z"
   },
   {
    "duration": 324,
    "start_time": "2022-05-01T17:33:31.613Z"
   },
   {
    "duration": 130,
    "start_time": "2022-05-01T17:51:18.446Z"
   },
   {
    "duration": 2174,
    "start_time": "2022-05-01T17:51:36.138Z"
   },
   {
    "duration": 1270,
    "start_time": "2022-05-01T17:55:01.299Z"
   },
   {
    "duration": 428,
    "start_time": "2022-05-01T17:55:02.571Z"
   },
   {
    "duration": 7038,
    "start_time": "2022-05-01T17:55:03.000Z"
   },
   {
    "duration": 255,
    "start_time": "2022-05-01T17:55:10.040Z"
   },
   {
    "duration": 5,
    "start_time": "2022-05-01T17:55:10.298Z"
   },
   {
    "duration": 338,
    "start_time": "2022-05-01T17:55:10.305Z"
   },
   {
    "duration": 183,
    "start_time": "2022-05-01T17:55:10.646Z"
   },
   {
    "duration": 198,
    "start_time": "2022-05-01T17:55:10.833Z"
   },
   {
    "duration": 12,
    "start_time": "2022-05-01T17:55:11.033Z"
   },
   {
    "duration": 9,
    "start_time": "2022-05-01T17:55:11.046Z"
   },
   {
    "duration": 16,
    "start_time": "2022-05-01T17:55:11.056Z"
   },
   {
    "duration": 2962,
    "start_time": "2022-05-01T17:55:11.074Z"
   },
   {
    "duration": 0,
    "start_time": "2022-05-01T17:55:14.038Z"
   },
   {
    "duration": 0,
    "start_time": "2022-05-01T17:55:14.039Z"
   },
   {
    "duration": 2315,
    "start_time": "2022-05-01T17:56:05.093Z"
   },
   {
    "duration": 1133,
    "start_time": "2022-05-01T17:56:16.494Z"
   },
   {
    "duration": 391,
    "start_time": "2022-05-01T17:56:17.634Z"
   },
   {
    "duration": 668,
    "start_time": "2022-05-01T17:56:18.027Z"
   },
   {
    "duration": 305,
    "start_time": "2022-05-01T17:56:18.697Z"
   },
   {
    "duration": 6,
    "start_time": "2022-05-01T17:56:19.004Z"
   },
   {
    "duration": 334,
    "start_time": "2022-05-01T17:56:19.012Z"
   },
   {
    "duration": 155,
    "start_time": "2022-05-01T17:56:19.348Z"
   },
   {
    "duration": 198,
    "start_time": "2022-05-01T17:56:19.505Z"
   },
   {
    "duration": 11,
    "start_time": "2022-05-01T17:56:19.704Z"
   },
   {
    "duration": 17,
    "start_time": "2022-05-01T17:56:19.717Z"
   },
   {
    "duration": 12,
    "start_time": "2022-05-01T17:56:19.735Z"
   },
   {
    "duration": 2520,
    "start_time": "2022-05-01T17:56:19.749Z"
   },
   {
    "duration": 0,
    "start_time": "2022-05-01T17:56:22.270Z"
   },
   {
    "duration": 0,
    "start_time": "2022-05-01T17:56:22.272Z"
   },
   {
    "duration": 2105,
    "start_time": "2022-05-01T17:58:35.726Z"
   },
   {
    "duration": 1167,
    "start_time": "2022-05-01T17:58:42.918Z"
   },
   {
    "duration": 400,
    "start_time": "2022-05-01T17:58:44.087Z"
   },
   {
    "duration": 646,
    "start_time": "2022-05-01T17:58:44.489Z"
   },
   {
    "duration": 285,
    "start_time": "2022-05-01T17:58:45.137Z"
   },
   {
    "duration": 11,
    "start_time": "2022-05-01T17:58:45.424Z"
   },
   {
    "duration": 318,
    "start_time": "2022-05-01T17:58:45.437Z"
   },
   {
    "duration": 161,
    "start_time": "2022-05-01T17:58:45.757Z"
   },
   {
    "duration": 201,
    "start_time": "2022-05-01T17:58:45.920Z"
   },
   {
    "duration": 16,
    "start_time": "2022-05-01T17:58:46.123Z"
   },
   {
    "duration": 6,
    "start_time": "2022-05-01T17:58:46.141Z"
   },
   {
    "duration": 17,
    "start_time": "2022-05-01T17:58:46.149Z"
   },
   {
    "duration": 2800,
    "start_time": "2022-05-01T17:58:46.168Z"
   },
   {
    "duration": 0,
    "start_time": "2022-05-01T17:58:48.970Z"
   },
   {
    "duration": 0,
    "start_time": "2022-05-01T17:58:48.971Z"
   },
   {
    "duration": 315,
    "start_time": "2022-05-01T17:59:25.338Z"
   },
   {
    "duration": 321,
    "start_time": "2022-05-01T17:59:57.399Z"
   },
   {
    "duration": 1815,
    "start_time": "2022-05-01T18:00:16.799Z"
   },
   {
    "duration": 192,
    "start_time": "2022-05-01T18:00:22.914Z"
   },
   {
    "duration": 2542,
    "start_time": "2022-05-01T18:54:49.772Z"
   },
   {
    "duration": 1132,
    "start_time": "2022-05-01T18:55:03.784Z"
   },
   {
    "duration": 407,
    "start_time": "2022-05-01T18:55:04.918Z"
   },
   {
    "duration": 509,
    "start_time": "2022-05-01T18:55:05.326Z"
   },
   {
    "duration": 240,
    "start_time": "2022-05-01T18:55:05.837Z"
   },
   {
    "duration": 6,
    "start_time": "2022-05-01T18:55:06.079Z"
   },
   {
    "duration": 257,
    "start_time": "2022-05-01T18:55:06.086Z"
   },
   {
    "duration": 155,
    "start_time": "2022-05-01T18:55:06.345Z"
   },
   {
    "duration": 199,
    "start_time": "2022-05-01T18:55:06.502Z"
   },
   {
    "duration": 11,
    "start_time": "2022-05-01T18:55:06.703Z"
   },
   {
    "duration": 18,
    "start_time": "2022-05-01T18:55:06.716Z"
   },
   {
    "duration": 16,
    "start_time": "2022-05-01T18:55:06.736Z"
   },
   {
    "duration": 2362,
    "start_time": "2022-05-01T18:55:06.754Z"
   },
   {
    "duration": 0,
    "start_time": "2022-05-01T18:55:09.118Z"
   },
   {
    "duration": 0,
    "start_time": "2022-05-01T18:55:09.119Z"
   },
   {
    "duration": 198,
    "start_time": "2022-05-01T18:58:31.434Z"
   },
   {
    "duration": 41,
    "start_time": "2022-05-01T18:58:52.853Z"
   },
   {
    "duration": 40,
    "start_time": "2022-05-01T19:00:24.720Z"
   },
   {
    "duration": 44,
    "start_time": "2022-05-01T19:00:51.893Z"
   },
   {
    "duration": 2644,
    "start_time": "2022-05-01T19:02:30.189Z"
   },
   {
    "duration": 1124,
    "start_time": "2022-05-01T19:02:35.475Z"
   },
   {
    "duration": 391,
    "start_time": "2022-05-01T19:02:36.601Z"
   },
   {
    "duration": 520,
    "start_time": "2022-05-01T19:02:36.994Z"
   },
   {
    "duration": 237,
    "start_time": "2022-05-01T19:02:37.516Z"
   },
   {
    "duration": 5,
    "start_time": "2022-05-01T19:02:37.756Z"
   },
   {
    "duration": 111,
    "start_time": "2022-05-01T19:02:37.763Z"
   },
   {
    "duration": 150,
    "start_time": "2022-05-01T19:02:37.876Z"
   },
   {
    "duration": 213,
    "start_time": "2022-05-01T19:02:38.034Z"
   },
   {
    "duration": 11,
    "start_time": "2022-05-01T19:02:38.249Z"
   },
   {
    "duration": 9,
    "start_time": "2022-05-01T19:02:38.261Z"
   },
   {
    "duration": 18,
    "start_time": "2022-05-01T19:02:38.272Z"
   },
   {
    "duration": 2377,
    "start_time": "2022-05-01T19:02:38.292Z"
   },
   {
    "duration": 0,
    "start_time": "2022-05-01T19:02:40.671Z"
   },
   {
    "duration": 0,
    "start_time": "2022-05-01T19:02:40.673Z"
   },
   {
    "duration": 175,
    "start_time": "2022-05-01T19:03:53.363Z"
   },
   {
    "duration": 198,
    "start_time": "2022-05-01T19:04:42.365Z"
   },
   {
    "duration": 202,
    "start_time": "2022-05-01T19:10:36.919Z"
   },
   {
    "duration": 197,
    "start_time": "2022-05-01T19:12:04.559Z"
   },
   {
    "duration": 30,
    "start_time": "2022-05-01T19:12:36.886Z"
   },
   {
    "duration": 189,
    "start_time": "2022-05-01T19:13:22.238Z"
   },
   {
    "duration": 27,
    "start_time": "2022-05-01T19:13:44.810Z"
   },
   {
    "duration": 193,
    "start_time": "2022-05-01T19:14:40.589Z"
   },
   {
    "duration": 27,
    "start_time": "2022-05-01T19:15:49.255Z"
   },
   {
    "duration": 10,
    "start_time": "2022-05-01T19:18:48.123Z"
   },
   {
    "duration": 43,
    "start_time": "2022-05-01T19:19:08.979Z"
   },
   {
    "duration": 16,
    "start_time": "2022-05-01T19:19:41.715Z"
   },
   {
    "duration": 10,
    "start_time": "2022-05-01T19:19:46.594Z"
   },
   {
    "duration": 15,
    "start_time": "2022-05-01T19:20:14.249Z"
   },
   {
    "duration": 18,
    "start_time": "2022-05-01T19:20:51.535Z"
   },
   {
    "duration": 11,
    "start_time": "2022-05-01T19:21:27.084Z"
   },
   {
    "duration": 20,
    "start_time": "2022-05-01T19:21:38.375Z"
   },
   {
    "duration": 140,
    "start_time": "2022-05-01T19:22:24.383Z"
   },
   {
    "duration": 203,
    "start_time": "2022-05-01T19:23:15.826Z"
   },
   {
    "duration": 548,
    "start_time": "2022-05-01T19:25:38.362Z"
   },
   {
    "duration": 645,
    "start_time": "2022-05-01T19:28:03.572Z"
   },
   {
    "duration": 665,
    "start_time": "2022-05-01T19:30:20.612Z"
   },
   {
    "duration": 656,
    "start_time": "2022-05-01T19:31:51.677Z"
   },
   {
    "duration": 815,
    "start_time": "2022-05-01T19:35:36.804Z"
   },
   {
    "duration": 736,
    "start_time": "2022-05-01T19:37:59.083Z"
   },
   {
    "duration": 125,
    "start_time": "2022-05-01T19:39:10.708Z"
   },
   {
    "duration": 20,
    "start_time": "2022-05-01T19:39:33.041Z"
   },
   {
    "duration": 860,
    "start_time": "2022-05-01T19:43:23.431Z"
   },
   {
    "duration": 20,
    "start_time": "2022-05-01T19:43:44.306Z"
   },
   {
    "duration": 22,
    "start_time": "2022-05-01T19:44:02.444Z"
   },
   {
    "duration": 21,
    "start_time": "2022-05-01T19:44:38.532Z"
   },
   {
    "duration": 26,
    "start_time": "2022-05-01T19:50:56.932Z"
   },
   {
    "duration": 27,
    "start_time": "2022-05-01T19:54:22.060Z"
   },
   {
    "duration": 27,
    "start_time": "2022-05-01T19:55:54.504Z"
   },
   {
    "duration": 35,
    "start_time": "2022-05-01T20:02:07.169Z"
   },
   {
    "duration": 25,
    "start_time": "2022-05-01T20:04:13.970Z"
   },
   {
    "duration": 27,
    "start_time": "2022-05-01T20:04:48.231Z"
   },
   {
    "duration": 136,
    "start_time": "2022-05-01T20:08:57.568Z"
   },
   {
    "duration": 34,
    "start_time": "2022-05-01T20:09:16.726Z"
   },
   {
    "duration": 29,
    "start_time": "2022-05-01T20:09:33.590Z"
   },
   {
    "duration": 29,
    "start_time": "2022-05-01T20:12:37.189Z"
   },
   {
    "duration": 28,
    "start_time": "2022-05-01T20:12:53.358Z"
   },
   {
    "duration": 2185,
    "start_time": "2022-05-01T20:13:25.339Z"
   },
   {
    "duration": 31,
    "start_time": "2022-05-01T20:14:03.619Z"
   },
   {
    "duration": 31,
    "start_time": "2022-05-01T20:15:53.143Z"
   },
   {
    "duration": 445,
    "start_time": "2022-05-01T20:18:47.188Z"
   },
   {
    "duration": 137,
    "start_time": "2022-05-01T20:22:22.440Z"
   },
   {
    "duration": 550,
    "start_time": "2022-05-01T20:22:38.231Z"
   },
   {
    "duration": 441,
    "start_time": "2022-05-01T20:23:38.906Z"
   },
   {
    "duration": 383,
    "start_time": "2022-05-01T20:23:57.100Z"
   },
   {
    "duration": 137,
    "start_time": "2022-05-01T20:27:02.520Z"
   },
   {
    "duration": 529,
    "start_time": "2022-05-01T20:27:13.365Z"
   },
   {
    "duration": 377,
    "start_time": "2022-05-01T20:27:22.448Z"
   },
   {
    "duration": 9191,
    "start_time": "2022-05-01T20:35:13.396Z"
   },
   {
    "duration": 1403,
    "start_time": "2022-05-01T20:35:39.532Z"
   },
   {
    "duration": 397,
    "start_time": "2022-05-01T20:35:40.938Z"
   },
   {
    "duration": 501,
    "start_time": "2022-05-01T20:35:41.337Z"
   },
   {
    "duration": 239,
    "start_time": "2022-05-01T20:35:41.840Z"
   },
   {
    "duration": 6,
    "start_time": "2022-05-01T20:35:42.081Z"
   },
   {
    "duration": 257,
    "start_time": "2022-05-01T20:35:42.089Z"
   },
   {
    "duration": 20,
    "start_time": "2022-05-01T20:35:42.348Z"
   },
   {
    "duration": 397,
    "start_time": "2022-05-01T20:35:42.370Z"
   },
   {
    "duration": 407,
    "start_time": "2022-05-01T20:35:42.769Z"
   },
   {
    "duration": 151,
    "start_time": "2022-05-01T20:35:43.178Z"
   },
   {
    "duration": 187,
    "start_time": "2022-05-01T20:35:43.333Z"
   },
   {
    "duration": 21,
    "start_time": "2022-05-01T20:35:43.521Z"
   },
   {
    "duration": 8,
    "start_time": "2022-05-01T20:35:43.543Z"
   },
   {
    "duration": 433,
    "start_time": "2022-05-01T20:36:12.534Z"
   },
   {
    "duration": 417,
    "start_time": "2022-05-01T20:37:20.855Z"
   },
   {
    "duration": 1203,
    "start_time": "2022-05-01T20:40:39.240Z"
   },
   {
    "duration": 392,
    "start_time": "2022-05-01T20:40:40.445Z"
   },
   {
    "duration": 496,
    "start_time": "2022-05-01T20:40:40.839Z"
   },
   {
    "duration": 237,
    "start_time": "2022-05-01T20:40:41.337Z"
   },
   {
    "duration": 5,
    "start_time": "2022-05-01T20:40:41.576Z"
   },
   {
    "duration": 253,
    "start_time": "2022-05-01T20:40:41.582Z"
   },
   {
    "duration": 20,
    "start_time": "2022-05-01T20:40:41.837Z"
   },
   {
    "duration": 403,
    "start_time": "2022-05-01T20:40:41.859Z"
   },
   {
    "duration": 412,
    "start_time": "2022-05-01T20:40:42.264Z"
   },
   {
    "duration": 403,
    "start_time": "2022-05-01T20:40:42.678Z"
   },
   {
    "duration": 154,
    "start_time": "2022-05-01T20:40:43.083Z"
   },
   {
    "duration": 188,
    "start_time": "2022-05-01T20:40:43.239Z"
   },
   {
    "duration": 11,
    "start_time": "2022-05-01T20:40:43.433Z"
   },
   {
    "duration": 7,
    "start_time": "2022-05-01T20:40:43.446Z"
   },
   {
    "duration": 1146,
    "start_time": "2022-05-01T20:41:10.779Z"
   },
   {
    "duration": 396,
    "start_time": "2022-05-01T20:41:11.927Z"
   },
   {
    "duration": 505,
    "start_time": "2022-05-01T20:41:12.325Z"
   },
   {
    "duration": 237,
    "start_time": "2022-05-01T20:41:12.833Z"
   },
   {
    "duration": 6,
    "start_time": "2022-05-01T20:41:13.072Z"
   },
   {
    "duration": 264,
    "start_time": "2022-05-01T20:41:13.080Z"
   },
   {
    "duration": 22,
    "start_time": "2022-05-01T20:41:13.346Z"
   },
   {
    "duration": 412,
    "start_time": "2022-05-01T20:41:13.370Z"
   },
   {
    "duration": 410,
    "start_time": "2022-05-01T20:41:13.784Z"
   },
   {
    "duration": 415,
    "start_time": "2022-05-01T20:41:14.197Z"
   },
   {
    "duration": 156,
    "start_time": "2022-05-01T20:41:14.613Z"
   },
   {
    "duration": 190,
    "start_time": "2022-05-01T20:41:14.771Z"
   },
   {
    "duration": 12,
    "start_time": "2022-05-01T20:41:14.963Z"
   },
   {
    "duration": 6,
    "start_time": "2022-05-01T20:41:14.977Z"
   },
   {
    "duration": 1154,
    "start_time": "2022-05-01T20:43:56.043Z"
   },
   {
    "duration": 392,
    "start_time": "2022-05-01T20:43:57.199Z"
   },
   {
    "duration": 523,
    "start_time": "2022-05-01T20:43:57.593Z"
   },
   {
    "duration": 239,
    "start_time": "2022-05-01T20:43:58.117Z"
   },
   {
    "duration": 5,
    "start_time": "2022-05-01T20:43:58.359Z"
   },
   {
    "duration": 265,
    "start_time": "2022-05-01T20:43:58.366Z"
   },
   {
    "duration": 24,
    "start_time": "2022-05-01T20:43:58.633Z"
   },
   {
    "duration": 411,
    "start_time": "2022-05-01T20:43:58.658Z"
   },
   {
    "duration": 444,
    "start_time": "2022-05-01T20:43:59.071Z"
   },
   {
    "duration": 105,
    "start_time": "2022-05-01T20:43:59.517Z"
   },
   {
    "duration": 0,
    "start_time": "2022-05-01T20:43:59.624Z"
   },
   {
    "duration": 0,
    "start_time": "2022-05-01T20:43:59.634Z"
   },
   {
    "duration": 0,
    "start_time": "2022-05-01T20:43:59.635Z"
   },
   {
    "duration": 0,
    "start_time": "2022-05-01T20:43:59.636Z"
   },
   {
    "duration": 37,
    "start_time": "2022-05-01T20:49:08.085Z"
   },
   {
    "duration": 422,
    "start_time": "2022-05-01T20:49:46.268Z"
   },
   {
    "duration": 1227,
    "start_time": "2022-05-01T20:54:09.202Z"
   },
   {
    "duration": 413,
    "start_time": "2022-05-01T20:54:10.431Z"
   },
   {
    "duration": 541,
    "start_time": "2022-05-01T20:54:10.846Z"
   },
   {
    "duration": 233,
    "start_time": "2022-05-01T20:54:11.389Z"
   },
   {
    "duration": 11,
    "start_time": "2022-05-01T20:54:11.624Z"
   },
   {
    "duration": 257,
    "start_time": "2022-05-01T20:54:11.637Z"
   },
   {
    "duration": 22,
    "start_time": "2022-05-01T20:54:11.896Z"
   },
   {
    "duration": 430,
    "start_time": "2022-05-01T20:54:11.920Z"
   },
   {
    "duration": 427,
    "start_time": "2022-05-01T20:54:12.353Z"
   },
   {
    "duration": 446,
    "start_time": "2022-05-01T20:54:12.784Z"
   },
   {
    "duration": 156,
    "start_time": "2022-05-01T20:54:13.233Z"
   },
   {
    "duration": 192,
    "start_time": "2022-05-01T20:54:13.391Z"
   },
   {
    "duration": 11,
    "start_time": "2022-05-01T20:54:13.585Z"
   },
   {
    "duration": 8,
    "start_time": "2022-05-01T20:54:13.597Z"
   },
   {
    "duration": 28,
    "start_time": "2022-05-01T20:59:18.212Z"
   },
   {
    "duration": 90,
    "start_time": "2022-05-01T21:00:25.436Z"
   },
   {
    "duration": 28,
    "start_time": "2022-05-01T21:01:18.363Z"
   },
   {
    "duration": 25,
    "start_time": "2022-05-01T21:01:42.081Z"
   },
   {
    "duration": 26,
    "start_time": "2022-05-01T21:02:23.189Z"
   },
   {
    "duration": 26,
    "start_time": "2022-05-01T21:03:32.063Z"
   },
   {
    "duration": 29,
    "start_time": "2022-05-01T21:04:59.993Z"
   },
   {
    "duration": 27,
    "start_time": "2022-05-01T21:05:33.681Z"
   },
   {
    "duration": 27,
    "start_time": "2022-05-01T21:07:03.992Z"
   },
   {
    "duration": 33,
    "start_time": "2022-05-01T21:11:01.952Z"
   },
   {
    "duration": 28,
    "start_time": "2022-05-01T21:11:16.890Z"
   },
   {
    "duration": 64,
    "start_time": "2022-05-02T18:54:25.723Z"
   },
   {
    "duration": 1524,
    "start_time": "2022-05-02T18:54:32.282Z"
   },
   {
    "duration": 503,
    "start_time": "2022-05-02T18:54:33.808Z"
   },
   {
    "duration": 641,
    "start_time": "2022-05-02T18:54:34.313Z"
   },
   {
    "duration": 286,
    "start_time": "2022-05-02T18:54:34.957Z"
   },
   {
    "duration": 13,
    "start_time": "2022-05-02T18:54:35.247Z"
   },
   {
    "duration": 308,
    "start_time": "2022-05-02T18:54:35.262Z"
   },
   {
    "duration": 23,
    "start_time": "2022-05-02T18:54:35.574Z"
   },
   {
    "duration": 527,
    "start_time": "2022-05-02T18:54:35.599Z"
   },
   {
    "duration": 555,
    "start_time": "2022-05-02T18:54:36.133Z"
   },
   {
    "duration": 509,
    "start_time": "2022-05-02T18:54:36.691Z"
   },
   {
    "duration": 61,
    "start_time": "2022-05-02T18:54:37.202Z"
   },
   {
    "duration": 21,
    "start_time": "2022-05-02T18:54:37.265Z"
   },
   {
    "duration": 202,
    "start_time": "2022-05-02T18:54:37.291Z"
   },
   {
    "duration": 219,
    "start_time": "2022-05-02T18:54:37.494Z"
   },
   {
    "duration": 24,
    "start_time": "2022-05-02T18:54:37.716Z"
   },
   {
    "duration": 6,
    "start_time": "2022-05-02T18:54:37.743Z"
   },
   {
    "duration": 206,
    "start_time": "2022-05-02T19:10:29.699Z"
   },
   {
    "duration": 219,
    "start_time": "2022-05-02T19:10:51.299Z"
   },
   {
    "duration": 361,
    "start_time": "2022-05-02T19:11:19.794Z"
   },
   {
    "duration": 734,
    "start_time": "2022-05-02T19:11:34.266Z"
   },
   {
    "duration": 197,
    "start_time": "2022-05-02T19:12:01.659Z"
   },
   {
    "duration": 153,
    "start_time": "2022-05-02T19:13:08.350Z"
   },
   {
    "duration": 10,
    "start_time": "2022-05-02T19:15:01.615Z"
   },
   {
    "duration": 9,
    "start_time": "2022-05-02T19:15:21.357Z"
   },
   {
    "duration": 169,
    "start_time": "2022-05-02T19:15:35.814Z"
   },
   {
    "duration": 8,
    "start_time": "2022-05-02T19:18:41.984Z"
   },
   {
    "duration": 135,
    "start_time": "2022-05-02T19:30:28.408Z"
   },
   {
    "duration": 36,
    "start_time": "2022-05-02T19:31:04.170Z"
   },
   {
    "duration": 35,
    "start_time": "2022-05-02T19:31:40.375Z"
   },
   {
    "duration": 7,
    "start_time": "2022-05-02T19:31:41.831Z"
   },
   {
    "duration": 48,
    "start_time": "2022-05-02T19:31:50.557Z"
   },
   {
    "duration": 37,
    "start_time": "2022-05-02T19:32:10.501Z"
   },
   {
    "duration": 476,
    "start_time": "2022-05-02T19:33:19.411Z"
   },
   {
    "duration": 21,
    "start_time": "2022-05-02T19:35:27.902Z"
   },
   {
    "duration": 2597,
    "start_time": "2022-05-02T19:38:52.792Z"
   },
   {
    "duration": 2417,
    "start_time": "2022-05-02T19:41:25.396Z"
   },
   {
    "duration": 2334,
    "start_time": "2022-05-02T19:42:17.863Z"
   },
   {
    "duration": 2327,
    "start_time": "2022-05-02T19:42:31.601Z"
   },
   {
    "duration": 2433,
    "start_time": "2022-05-02T19:43:03.661Z"
   },
   {
    "duration": 2639,
    "start_time": "2022-05-02T19:44:01.157Z"
   },
   {
    "duration": 33,
    "start_time": "2022-05-02T19:44:26.618Z"
   },
   {
    "duration": 27,
    "start_time": "2022-05-02T19:44:48.942Z"
   },
   {
    "duration": 31,
    "start_time": "2022-05-02T19:45:06.010Z"
   },
   {
    "duration": 23,
    "start_time": "2022-05-02T19:45:26.357Z"
   },
   {
    "duration": 26,
    "start_time": "2022-05-02T19:45:29.180Z"
   },
   {
    "duration": 28,
    "start_time": "2022-05-02T19:47:38.213Z"
   },
   {
    "duration": 28,
    "start_time": "2022-05-02T19:48:00.813Z"
   },
   {
    "duration": 30,
    "start_time": "2022-05-02T19:48:41.090Z"
   },
   {
    "duration": 25,
    "start_time": "2022-05-02T19:51:01.220Z"
   },
   {
    "duration": 19,
    "start_time": "2022-05-02T19:53:11.765Z"
   },
   {
    "duration": 394,
    "start_time": "2022-05-02T19:54:27.728Z"
   },
   {
    "duration": 235,
    "start_time": "2022-05-02T19:56:42.180Z"
   },
   {
    "duration": 247,
    "start_time": "2022-05-02T19:57:29.177Z"
   },
   {
    "duration": 411,
    "start_time": "2022-05-02T20:00:13.214Z"
   },
   {
    "duration": 416,
    "start_time": "2022-05-02T20:00:39.873Z"
   },
   {
    "duration": 408,
    "start_time": "2022-05-02T20:01:18.683Z"
   },
   {
    "duration": 32,
    "start_time": "2022-05-02T20:02:24.784Z"
   },
   {
    "duration": 31,
    "start_time": "2022-05-02T20:02:50.782Z"
   },
   {
    "duration": 557,
    "start_time": "2022-05-02T20:03:02.707Z"
   },
   {
    "duration": 20,
    "start_time": "2022-05-02T20:06:08.191Z"
   },
   {
    "duration": 248,
    "start_time": "2022-05-02T20:06:28.048Z"
   },
   {
    "duration": 19,
    "start_time": "2022-05-02T20:08:06.713Z"
   },
   {
    "duration": 38,
    "start_time": "2022-05-02T20:11:58.693Z"
   },
   {
    "duration": 39,
    "start_time": "2022-05-02T20:13:41.886Z"
   },
   {
    "duration": 39,
    "start_time": "2022-05-02T20:14:23.535Z"
   },
   {
    "duration": 2387,
    "start_time": "2022-05-02T20:14:49.882Z"
   },
   {
    "duration": 39,
    "start_time": "2022-05-02T20:17:05.874Z"
   },
   {
    "duration": 39,
    "start_time": "2022-05-02T20:17:44.714Z"
   },
   {
    "duration": 4947,
    "start_time": "2022-05-03T18:01:30.486Z"
   },
   {
    "duration": 888,
    "start_time": "2022-05-03T18:01:35.436Z"
   },
   {
    "duration": 100,
    "start_time": "2022-05-03T18:01:36.326Z"
   },
   {
    "duration": 776,
    "start_time": "2022-05-03T18:01:36.428Z"
   },
   {
    "duration": 432,
    "start_time": "2022-05-03T18:01:37.207Z"
   },
   {
    "duration": 8,
    "start_time": "2022-05-03T18:01:37.641Z"
   },
   {
    "duration": 326,
    "start_time": "2022-05-03T18:01:37.651Z"
   },
   {
    "duration": 45,
    "start_time": "2022-05-03T18:01:37.979Z"
   },
   {
    "duration": 604,
    "start_time": "2022-05-03T18:01:38.027Z"
   },
   {
    "duration": 623,
    "start_time": "2022-05-03T18:01:38.633Z"
   },
   {
    "duration": 693,
    "start_time": "2022-05-03T18:01:39.260Z"
   },
   {
    "duration": 68,
    "start_time": "2022-05-03T18:01:39.956Z"
   },
   {
    "duration": 10,
    "start_time": "2022-05-03T18:01:40.026Z"
   },
   {
    "duration": 33,
    "start_time": "2022-05-03T18:01:40.040Z"
   },
   {
    "duration": 409,
    "start_time": "2022-05-03T18:01:40.076Z"
   },
   {
    "duration": 653,
    "start_time": "2022-05-03T18:01:40.487Z"
   },
   {
    "duration": 16,
    "start_time": "2022-05-03T18:01:41.142Z"
   },
   {
    "duration": 81,
    "start_time": "2022-05-03T18:01:41.161Z"
   },
   {
    "duration": 394,
    "start_time": "2022-05-03T18:01:41.245Z"
   },
   {
    "duration": 16,
    "start_time": "2022-05-03T18:01:41.641Z"
   },
   {
    "duration": 12,
    "start_time": "2022-05-03T18:01:41.659Z"
   },
   {
    "duration": 2538,
    "start_time": "2022-05-03T18:03:10.821Z"
   },
   {
    "duration": 1375,
    "start_time": "2022-05-03T18:03:29.457Z"
   },
   {
    "duration": 899,
    "start_time": "2022-05-03T18:03:30.834Z"
   },
   {
    "duration": 101,
    "start_time": "2022-05-03T18:03:31.736Z"
   },
   {
    "duration": 911,
    "start_time": "2022-05-03T18:03:31.840Z"
   },
   {
    "duration": 458,
    "start_time": "2022-05-03T18:03:32.753Z"
   },
   {
    "duration": 15,
    "start_time": "2022-05-03T18:03:33.213Z"
   },
   {
    "duration": 333,
    "start_time": "2022-05-03T18:03:33.230Z"
   },
   {
    "duration": 34,
    "start_time": "2022-05-03T18:03:33.566Z"
   },
   {
    "duration": 652,
    "start_time": "2022-05-03T18:03:33.602Z"
   },
   {
    "duration": 645,
    "start_time": "2022-05-03T18:03:34.258Z"
   },
   {
    "duration": 695,
    "start_time": "2022-05-03T18:03:34.905Z"
   },
   {
    "duration": 66,
    "start_time": "2022-05-03T18:03:35.602Z"
   },
   {
    "duration": 9,
    "start_time": "2022-05-03T18:03:35.671Z"
   },
   {
    "duration": 57,
    "start_time": "2022-05-03T18:03:35.682Z"
   },
   {
    "duration": 485,
    "start_time": "2022-05-03T18:03:35.742Z"
   },
   {
    "duration": 643,
    "start_time": "2022-05-03T18:03:36.229Z"
   },
   {
    "duration": 18,
    "start_time": "2022-05-03T18:03:36.874Z"
   },
   {
    "duration": 76,
    "start_time": "2022-05-03T18:03:36.895Z"
   },
   {
    "duration": 428,
    "start_time": "2022-05-03T18:03:36.973Z"
   },
   {
    "duration": 25,
    "start_time": "2022-05-03T18:03:37.403Z"
   },
   {
    "duration": 9,
    "start_time": "2022-05-03T18:03:37.430Z"
   },
   {
    "duration": 2317,
    "start_time": "2022-05-03T18:06:45.962Z"
   },
   {
    "duration": 20,
    "start_time": "2022-05-03T18:07:23.496Z"
   },
   {
    "duration": 1533,
    "start_time": "2022-05-03T18:08:55.212Z"
   },
   {
    "duration": 41,
    "start_time": "2022-05-03T18:08:56.748Z"
   },
   {
    "duration": 952,
    "start_time": "2022-05-03T18:08:56.791Z"
   },
   {
    "duration": 114,
    "start_time": "2022-05-03T18:08:57.746Z"
   },
   {
    "duration": 875,
    "start_time": "2022-05-03T18:08:57.863Z"
   },
   {
    "duration": 468,
    "start_time": "2022-05-03T18:08:58.741Z"
   },
   {
    "duration": 14,
    "start_time": "2022-05-03T18:08:59.211Z"
   },
   {
    "duration": 348,
    "start_time": "2022-05-03T18:08:59.229Z"
   },
   {
    "duration": 47,
    "start_time": "2022-05-03T18:08:59.579Z"
   },
   {
    "duration": 676,
    "start_time": "2022-05-03T18:08:59.630Z"
   },
   {
    "duration": 669,
    "start_time": "2022-05-03T18:09:00.309Z"
   },
   {
    "duration": 1109,
    "start_time": "2022-05-03T18:09:00.981Z"
   },
   {
    "duration": 94,
    "start_time": "2022-05-03T18:09:02.093Z"
   },
   {
    "duration": 10,
    "start_time": "2022-05-03T18:09:02.189Z"
   },
   {
    "duration": 49,
    "start_time": "2022-05-03T18:09:02.202Z"
   },
   {
    "duration": 425,
    "start_time": "2022-05-03T18:09:02.254Z"
   },
   {
    "duration": 796,
    "start_time": "2022-05-03T18:09:02.682Z"
   },
   {
    "duration": 19,
    "start_time": "2022-05-03T18:09:03.481Z"
   },
   {
    "duration": 75,
    "start_time": "2022-05-03T18:09:03.502Z"
   },
   {
    "duration": 351,
    "start_time": "2022-05-03T18:09:03.580Z"
   },
   {
    "duration": 17,
    "start_time": "2022-05-03T18:09:03.935Z"
   },
   {
    "duration": 13,
    "start_time": "2022-05-03T18:09:03.954Z"
   },
   {
    "duration": 4,
    "start_time": "2022-05-03T18:10:10.074Z"
   },
   {
    "duration": 17,
    "start_time": "2022-05-03T18:14:59.128Z"
   },
   {
    "duration": 20,
    "start_time": "2022-05-03T18:15:07.117Z"
   },
   {
    "duration": 1592,
    "start_time": "2022-05-03T18:15:31.427Z"
   },
   {
    "duration": 43,
    "start_time": "2022-05-03T18:15:33.023Z"
   },
   {
    "duration": 968,
    "start_time": "2022-05-03T18:15:33.069Z"
   },
   {
    "duration": 35,
    "start_time": "2022-05-03T18:15:34.040Z"
   },
   {
    "duration": 876,
    "start_time": "2022-05-03T18:15:34.078Z"
   },
   {
    "duration": 88,
    "start_time": "2022-05-03T18:15:34.957Z"
   },
   {
    "duration": 483,
    "start_time": "2022-05-03T18:15:35.048Z"
   },
   {
    "duration": 9,
    "start_time": "2022-05-03T18:15:35.533Z"
   },
   {
    "duration": 450,
    "start_time": "2022-05-03T18:15:35.545Z"
   },
   {
    "duration": 62,
    "start_time": "2022-05-03T18:15:35.998Z"
   },
   {
    "duration": 1024,
    "start_time": "2022-05-03T18:15:36.063Z"
   },
   {
    "duration": 1034,
    "start_time": "2022-05-03T18:15:37.090Z"
   },
   {
    "duration": 1076,
    "start_time": "2022-05-03T18:15:38.131Z"
   },
   {
    "duration": 68,
    "start_time": "2022-05-03T18:15:39.211Z"
   },
   {
    "duration": 11,
    "start_time": "2022-05-03T18:15:39.283Z"
   },
   {
    "duration": 62,
    "start_time": "2022-05-03T18:15:39.297Z"
   },
   {
    "duration": 458,
    "start_time": "2022-05-03T18:15:39.362Z"
   },
   {
    "duration": 837,
    "start_time": "2022-05-03T18:15:39.823Z"
   },
   {
    "duration": 18,
    "start_time": "2022-05-03T18:15:40.662Z"
   },
   {
    "duration": 87,
    "start_time": "2022-05-03T18:15:40.682Z"
   },
   {
    "duration": 459,
    "start_time": "2022-05-03T18:15:40.771Z"
   },
   {
    "duration": 16,
    "start_time": "2022-05-03T18:15:41.233Z"
   },
   {
    "duration": 13,
    "start_time": "2022-05-03T18:15:41.251Z"
   },
   {
    "duration": 16,
    "start_time": "2022-05-03T18:18:32.907Z"
   },
   {
    "duration": 15,
    "start_time": "2022-05-03T18:23:50.701Z"
   },
   {
    "duration": 25,
    "start_time": "2022-05-03T18:24:50.801Z"
   },
   {
    "duration": 1423,
    "start_time": "2022-05-03T18:25:00.647Z"
   },
   {
    "duration": 60,
    "start_time": "2022-05-03T18:25:02.076Z"
   },
   {
    "duration": 907,
    "start_time": "2022-05-03T18:25:02.140Z"
   },
   {
    "duration": 40,
    "start_time": "2022-05-03T18:25:03.050Z"
   },
   {
    "duration": 1267,
    "start_time": "2022-05-03T18:25:03.093Z"
   },
   {
    "duration": 30,
    "start_time": "2022-05-03T18:25:04.363Z"
   },
   {
    "duration": 590,
    "start_time": "2022-05-03T18:25:04.397Z"
   },
   {
    "duration": 16,
    "start_time": "2022-05-03T18:25:04.990Z"
   },
   {
    "duration": 16,
    "start_time": "2022-05-03T18:25:05.025Z"
   },
   {
    "duration": 321,
    "start_time": "2022-05-03T18:25:05.045Z"
   },
   {
    "duration": 35,
    "start_time": "2022-05-03T18:25:05.368Z"
   },
   {
    "duration": 786,
    "start_time": "2022-05-03T18:25:05.426Z"
   },
   {
    "duration": 1040,
    "start_time": "2022-05-03T18:25:06.216Z"
   },
   {
    "duration": 750,
    "start_time": "2022-05-03T18:25:07.259Z"
   },
   {
    "duration": 66,
    "start_time": "2022-05-03T18:25:08.012Z"
   },
   {
    "duration": 11,
    "start_time": "2022-05-03T18:25:08.080Z"
   },
   {
    "duration": 33,
    "start_time": "2022-05-03T18:25:08.126Z"
   },
   {
    "duration": 641,
    "start_time": "2022-05-03T18:25:08.162Z"
   },
   {
    "duration": 782,
    "start_time": "2022-05-03T18:25:08.806Z"
   },
   {
    "duration": 20,
    "start_time": "2022-05-03T18:25:09.595Z"
   },
   {
    "duration": 205,
    "start_time": "2022-05-03T18:25:09.626Z"
   },
   {
    "duration": 343,
    "start_time": "2022-05-03T18:25:09.834Z"
   },
   {
    "duration": 17,
    "start_time": "2022-05-03T18:25:10.180Z"
   },
   {
    "duration": 32,
    "start_time": "2022-05-03T18:25:10.200Z"
   },
   {
    "duration": 3,
    "start_time": "2022-05-03T18:26:36.272Z"
   },
   {
    "duration": 3,
    "start_time": "2022-05-03T18:26:59.733Z"
   },
   {
    "duration": 1833,
    "start_time": "2022-05-03T18:27:12.341Z"
   },
   {
    "duration": 4,
    "start_time": "2022-05-03T18:27:14.178Z"
   },
   {
    "duration": 1395,
    "start_time": "2022-05-03T18:27:14.185Z"
   },
   {
    "duration": 4,
    "start_time": "2022-05-03T18:27:15.583Z"
   },
   {
    "duration": 1128,
    "start_time": "2022-05-03T18:27:15.590Z"
   },
   {
    "duration": 3,
    "start_time": "2022-05-03T18:27:16.724Z"
   },
   {
    "duration": 445,
    "start_time": "2022-05-03T18:27:16.729Z"
   },
   {
    "duration": 4,
    "start_time": "2022-05-03T18:27:17.178Z"
   },
   {
    "duration": 11,
    "start_time": "2022-05-03T18:27:17.185Z"
   },
   {
    "duration": 443,
    "start_time": "2022-05-03T18:27:17.201Z"
   },
   {
    "duration": 34,
    "start_time": "2022-05-03T18:27:17.647Z"
   },
   {
    "duration": 841,
    "start_time": "2022-05-03T18:27:17.683Z"
   },
   {
    "duration": 1013,
    "start_time": "2022-05-03T18:27:18.527Z"
   },
   {
    "duration": 954,
    "start_time": "2022-05-03T18:27:19.543Z"
   },
   {
    "duration": 69,
    "start_time": "2022-05-03T18:27:20.500Z"
   },
   {
    "duration": 18,
    "start_time": "2022-05-03T18:27:20.572Z"
   },
   {
    "duration": 50,
    "start_time": "2022-05-03T18:27:20.593Z"
   },
   {
    "duration": 536,
    "start_time": "2022-05-03T18:27:20.646Z"
   },
   {
    "duration": 1016,
    "start_time": "2022-05-03T18:27:21.185Z"
   },
   {
    "duration": 35,
    "start_time": "2022-05-03T18:27:22.204Z"
   },
   {
    "duration": 94,
    "start_time": "2022-05-03T18:27:22.242Z"
   },
   {
    "duration": 463,
    "start_time": "2022-05-03T18:27:22.339Z"
   },
   {
    "duration": 24,
    "start_time": "2022-05-03T18:27:22.805Z"
   },
   {
    "duration": 18,
    "start_time": "2022-05-03T18:27:22.832Z"
   },
   {
    "duration": 170,
    "start_time": "2022-05-03T18:42:47.877Z"
   },
   {
    "duration": 329,
    "start_time": "2022-05-03T18:42:56.955Z"
   },
   {
    "duration": 3,
    "start_time": "2022-05-03T18:44:34.591Z"
   },
   {
    "duration": 596,
    "start_time": "2022-05-03T19:03:24.254Z"
   },
   {
    "duration": 304,
    "start_time": "2022-05-03T19:05:34.760Z"
   },
   {
    "duration": 626,
    "start_time": "2022-05-03T19:05:44.520Z"
   },
   {
    "duration": 699,
    "start_time": "2022-05-03T19:13:30.339Z"
   },
   {
    "duration": 742,
    "start_time": "2022-05-03T19:13:44.769Z"
   },
   {
    "duration": 829,
    "start_time": "2022-05-03T19:17:23.678Z"
   },
   {
    "duration": 45,
    "start_time": "2022-05-03T19:26:33.550Z"
   },
   {
    "duration": 449,
    "start_time": "2022-05-03T19:35:25.574Z"
   },
   {
    "duration": 682,
    "start_time": "2022-05-03T19:39:31.345Z"
   },
   {
    "duration": 361,
    "start_time": "2022-05-03T19:40:34.158Z"
   },
   {
    "duration": 3,
    "start_time": "2022-05-03T19:47:10.525Z"
   },
   {
    "duration": 665,
    "start_time": "2022-05-03T20:16:45.611Z"
   },
   {
    "duration": 30,
    "start_time": "2022-05-03T20:25:19.224Z"
   },
   {
    "duration": 125,
    "start_time": "2022-05-03T20:32:45.775Z"
   },
   {
    "duration": 419,
    "start_time": "2022-05-03T20:52:02.992Z"
   },
   {
    "duration": 344,
    "start_time": "2022-05-03T20:54:07.322Z"
   },
   {
    "duration": 618,
    "start_time": "2022-05-03T20:56:18.811Z"
   },
   {
    "duration": 1240,
    "start_time": "2022-05-03T20:59:39.760Z"
   },
   {
    "duration": 1446,
    "start_time": "2022-05-03T21:06:54.292Z"
   },
   {
    "duration": 4,
    "start_time": "2022-05-03T21:06:55.740Z"
   },
   {
    "duration": 910,
    "start_time": "2022-05-03T21:06:55.747Z"
   },
   {
    "duration": 3,
    "start_time": "2022-05-03T21:06:56.660Z"
   },
   {
    "duration": 821,
    "start_time": "2022-05-03T21:06:56.665Z"
   },
   {
    "duration": 4,
    "start_time": "2022-05-03T21:06:57.488Z"
   },
   {
    "duration": 435,
    "start_time": "2022-05-03T21:06:57.494Z"
   },
   {
    "duration": 3,
    "start_time": "2022-05-03T21:06:57.932Z"
   },
   {
    "duration": 16,
    "start_time": "2022-05-03T21:06:57.937Z"
   },
   {
    "duration": 361,
    "start_time": "2022-05-03T21:06:57.957Z"
   },
   {
    "duration": 33,
    "start_time": "2022-05-03T21:06:58.324Z"
   },
   {
    "duration": 647,
    "start_time": "2022-05-03T21:06:58.359Z"
   },
   {
    "duration": 653,
    "start_time": "2022-05-03T21:06:59.008Z"
   },
   {
    "duration": 704,
    "start_time": "2022-05-03T21:06:59.664Z"
   },
   {
    "duration": 76,
    "start_time": "2022-05-03T21:07:00.371Z"
   },
   {
    "duration": 33,
    "start_time": "2022-05-03T21:07:00.449Z"
   },
   {
    "duration": 411,
    "start_time": "2022-05-03T21:07:00.485Z"
   },
   {
    "duration": 756,
    "start_time": "2022-05-03T21:07:00.899Z"
   },
   {
    "duration": 69,
    "start_time": "2022-05-03T21:07:01.657Z"
   },
   {
    "duration": 132,
    "start_time": "2022-05-03T21:07:01.728Z"
   },
   {
    "duration": 0,
    "start_time": "2022-05-03T21:07:01.862Z"
   },
   {
    "duration": 1310,
    "start_time": "2022-05-06T16:44:42.663Z"
   },
   {
    "duration": 3,
    "start_time": "2022-05-06T16:44:43.975Z"
   },
   {
    "duration": 789,
    "start_time": "2022-05-06T16:44:43.980Z"
   },
   {
    "duration": 3,
    "start_time": "2022-05-06T16:44:44.771Z"
   },
   {
    "duration": 663,
    "start_time": "2022-05-06T16:44:44.776Z"
   },
   {
    "duration": 3,
    "start_time": "2022-05-06T16:44:45.441Z"
   },
   {
    "duration": 274,
    "start_time": "2022-05-06T16:44:45.446Z"
   },
   {
    "duration": 2,
    "start_time": "2022-05-06T16:44:45.723Z"
   },
   {
    "duration": 10,
    "start_time": "2022-05-06T16:44:45.727Z"
   },
   {
    "duration": 211,
    "start_time": "2022-05-06T16:44:45.741Z"
   },
   {
    "duration": 20,
    "start_time": "2022-05-06T16:44:45.954Z"
   },
   {
    "duration": 477,
    "start_time": "2022-05-06T16:44:45.976Z"
   },
   {
    "duration": 528,
    "start_time": "2022-05-06T16:44:46.455Z"
   },
   {
    "duration": 571,
    "start_time": "2022-05-06T16:44:46.986Z"
   },
   {
    "duration": 47,
    "start_time": "2022-05-06T16:44:47.559Z"
   },
   {
    "duration": 35,
    "start_time": "2022-05-06T16:44:47.607Z"
   },
   {
    "duration": 245,
    "start_time": "2022-05-06T16:44:47.644Z"
   },
   {
    "duration": 446,
    "start_time": "2022-05-06T16:44:47.890Z"
   },
   {
    "duration": 39,
    "start_time": "2022-05-06T16:44:48.338Z"
   },
   {
    "duration": 112,
    "start_time": "2022-05-06T16:44:48.379Z"
   },
   {
    "duration": 0,
    "start_time": "2022-05-06T16:44:48.493Z"
   },
   {
    "duration": 1171,
    "start_time": "2022-05-12T06:16:04.221Z"
   },
   {
    "duration": 116,
    "start_time": "2022-05-12T06:53:07.805Z"
   },
   {
    "duration": 926,
    "start_time": "2022-05-12T06:53:20.196Z"
   },
   {
    "duration": 745,
    "start_time": "2022-05-12T06:53:21.125Z"
   },
   {
    "duration": 4,
    "start_time": "2022-05-12T06:53:21.873Z"
   },
   {
    "duration": 899,
    "start_time": "2022-05-12T06:53:21.880Z"
   },
   {
    "duration": 4,
    "start_time": "2022-05-12T06:53:22.781Z"
   },
   {
    "duration": 781,
    "start_time": "2022-05-12T06:53:22.787Z"
   },
   {
    "duration": 4,
    "start_time": "2022-05-12T06:53:23.570Z"
   },
   {
    "duration": 651,
    "start_time": "2022-05-12T06:53:23.577Z"
   },
   {
    "duration": 4,
    "start_time": "2022-05-12T06:53:24.231Z"
   },
   {
    "duration": 13,
    "start_time": "2022-05-12T06:53:24.240Z"
   },
   {
    "duration": 347,
    "start_time": "2022-05-12T06:53:24.256Z"
   },
   {
    "duration": 40,
    "start_time": "2022-05-12T06:53:24.606Z"
   },
   {
    "duration": 634,
    "start_time": "2022-05-12T06:53:24.649Z"
   },
   {
    "duration": 639,
    "start_time": "2022-05-12T06:53:25.285Z"
   },
   {
    "duration": 680,
    "start_time": "2022-05-12T06:53:25.926Z"
   },
   {
    "duration": 63,
    "start_time": "2022-05-12T06:53:26.608Z"
   },
   {
    "duration": 53,
    "start_time": "2022-05-12T06:53:26.673Z"
   },
   {
    "duration": 382,
    "start_time": "2022-05-12T06:53:26.728Z"
   },
   {
    "duration": 725,
    "start_time": "2022-05-12T06:53:27.112Z"
   },
   {
    "duration": 56,
    "start_time": "2022-05-12T06:53:27.840Z"
   },
   {
    "duration": 160,
    "start_time": "2022-05-12T06:53:27.926Z"
   },
   {
    "duration": 0,
    "start_time": "2022-05-12T06:53:28.088Z"
   },
   {
    "duration": 5,
    "start_time": "2022-05-12T06:54:04.988Z"
   },
   {
    "duration": 921,
    "start_time": "2022-05-12T06:57:24.592Z"
   },
   {
    "duration": 481,
    "start_time": "2022-05-12T06:57:25.516Z"
   },
   {
    "duration": 3,
    "start_time": "2022-05-12T06:57:25.999Z"
   },
   {
    "duration": 269,
    "start_time": "2022-05-12T06:57:26.005Z"
   },
   {
    "duration": 643,
    "start_time": "2022-05-12T06:57:26.277Z"
   },
   {
    "duration": 4,
    "start_time": "2022-05-12T06:57:26.925Z"
   },
   {
    "duration": 775,
    "start_time": "2022-05-12T06:57:26.931Z"
   },
   {
    "duration": 4,
    "start_time": "2022-05-12T06:57:27.708Z"
   },
   {
    "duration": 429,
    "start_time": "2022-05-12T06:57:27.714Z"
   },
   {
    "duration": 4,
    "start_time": "2022-05-12T06:57:28.145Z"
   },
   {
    "duration": 25,
    "start_time": "2022-05-12T06:57:28.151Z"
   },
   {
    "duration": 339,
    "start_time": "2022-05-12T06:57:28.178Z"
   },
   {
    "duration": 32,
    "start_time": "2022-05-12T06:57:28.520Z"
   },
   {
    "duration": 627,
    "start_time": "2022-05-12T06:57:28.556Z"
   },
   {
    "duration": 638,
    "start_time": "2022-05-12T06:57:29.186Z"
   },
   {
    "duration": 684,
    "start_time": "2022-05-12T06:57:29.826Z"
   },
   {
    "duration": 58,
    "start_time": "2022-05-12T06:57:30.512Z"
   },
   {
    "duration": 55,
    "start_time": "2022-05-12T06:57:30.572Z"
   },
   {
    "duration": 379,
    "start_time": "2022-05-12T06:57:30.629Z"
   },
   {
    "duration": 727,
    "start_time": "2022-05-12T06:57:31.010Z"
   },
   {
    "duration": 53,
    "start_time": "2022-05-12T06:57:31.739Z"
   },
   {
    "duration": 123,
    "start_time": "2022-05-12T06:57:31.794Z"
   },
   {
    "duration": 0,
    "start_time": "2022-05-12T06:57:31.919Z"
   },
   {
    "duration": 4781,
    "start_time": "2022-05-12T07:00:37.781Z"
   },
   {
    "duration": 0,
    "start_time": "2022-05-12T07:00:42.565Z"
   },
   {
    "duration": 614,
    "start_time": "2022-05-12T07:00:43.906Z"
   },
   {
    "duration": 1013,
    "start_time": "2022-05-12T07:01:04.378Z"
   },
   {
    "duration": 505,
    "start_time": "2022-05-12T07:01:05.393Z"
   },
   {
    "duration": 4,
    "start_time": "2022-05-12T07:01:05.900Z"
   },
   {
    "duration": 274,
    "start_time": "2022-05-12T07:01:05.906Z"
   },
   {
    "duration": 659,
    "start_time": "2022-05-12T07:01:06.183Z"
   },
   {
    "duration": 4,
    "start_time": "2022-05-12T07:01:06.844Z"
   },
   {
    "duration": 217,
    "start_time": "2022-05-12T07:01:06.850Z"
   },
   {
    "duration": 178,
    "start_time": "2022-05-12T07:01:07.069Z"
   },
   {
    "duration": 0,
    "start_time": "2022-05-12T07:01:07.249Z"
   },
   {
    "duration": 0,
    "start_time": "2022-05-12T07:01:07.251Z"
   },
   {
    "duration": 0,
    "start_time": "2022-05-12T07:01:07.252Z"
   },
   {
    "duration": 0,
    "start_time": "2022-05-12T07:01:07.254Z"
   },
   {
    "duration": 0,
    "start_time": "2022-05-12T07:01:07.255Z"
   },
   {
    "duration": 0,
    "start_time": "2022-05-12T07:01:07.258Z"
   },
   {
    "duration": 0,
    "start_time": "2022-05-12T07:01:07.260Z"
   },
   {
    "duration": 0,
    "start_time": "2022-05-12T07:01:07.261Z"
   },
   {
    "duration": 0,
    "start_time": "2022-05-12T07:01:07.262Z"
   },
   {
    "duration": 0,
    "start_time": "2022-05-12T07:01:07.264Z"
   },
   {
    "duration": 0,
    "start_time": "2022-05-12T07:01:07.265Z"
   },
   {
    "duration": 0,
    "start_time": "2022-05-12T07:01:07.266Z"
   },
   {
    "duration": 0,
    "start_time": "2022-05-12T07:01:07.268Z"
   },
   {
    "duration": 0,
    "start_time": "2022-05-12T07:01:07.269Z"
   },
   {
    "duration": 0,
    "start_time": "2022-05-12T07:01:07.270Z"
   },
   {
    "duration": 0,
    "start_time": "2022-05-12T07:01:07.271Z"
   },
   {
    "duration": 0,
    "start_time": "2022-05-12T07:01:07.273Z"
   },
   {
    "duration": 583,
    "start_time": "2022-05-12T07:01:27.719Z"
   },
   {
    "duration": 3623,
    "start_time": "2022-05-12T07:01:31.591Z"
   },
   {
    "duration": 1038,
    "start_time": "2022-05-12T07:01:56.802Z"
   },
   {
    "duration": 497,
    "start_time": "2022-05-12T07:01:57.843Z"
   },
   {
    "duration": 4,
    "start_time": "2022-05-12T07:01:58.343Z"
   },
   {
    "duration": 277,
    "start_time": "2022-05-12T07:01:58.351Z"
   },
   {
    "duration": 672,
    "start_time": "2022-05-12T07:01:58.630Z"
   },
   {
    "duration": 4,
    "start_time": "2022-05-12T07:01:59.305Z"
   },
   {
    "duration": 216,
    "start_time": "2022-05-12T07:01:59.324Z"
   },
   {
    "duration": 618,
    "start_time": "2022-05-12T07:01:59.543Z"
   },
   {
    "duration": 4,
    "start_time": "2022-05-12T07:02:00.164Z"
   },
   {
    "duration": 460,
    "start_time": "2022-05-12T07:02:00.174Z"
   },
   {
    "duration": 4,
    "start_time": "2022-05-12T07:02:00.637Z"
   },
   {
    "duration": 30,
    "start_time": "2022-05-12T07:02:00.644Z"
   },
   {
    "duration": 359,
    "start_time": "2022-05-12T07:02:00.677Z"
   },
   {
    "duration": 35,
    "start_time": "2022-05-12T07:02:01.038Z"
   },
   {
    "duration": 673,
    "start_time": "2022-05-12T07:02:01.076Z"
   },
   {
    "duration": 678,
    "start_time": "2022-05-12T07:02:01.752Z"
   },
   {
    "duration": 714,
    "start_time": "2022-05-12T07:02:02.433Z"
   },
   {
    "duration": 53,
    "start_time": "2022-05-12T07:02:03.149Z"
   },
   {
    "duration": 49,
    "start_time": "2022-05-12T07:02:03.204Z"
   },
   {
    "duration": 410,
    "start_time": "2022-05-12T07:02:03.255Z"
   },
   {
    "duration": 764,
    "start_time": "2022-05-12T07:02:03.667Z"
   },
   {
    "duration": 59,
    "start_time": "2022-05-12T07:02:04.433Z"
   },
   {
    "duration": 155,
    "start_time": "2022-05-12T07:02:04.494Z"
   },
   {
    "duration": 0,
    "start_time": "2022-05-12T07:02:04.651Z"
   },
   {
    "duration": 3006,
    "start_time": "2022-05-12T07:02:27.235Z"
   },
   {
    "duration": 856,
    "start_time": "2022-05-12T07:02:46.226Z"
   },
   {
    "duration": 506,
    "start_time": "2022-05-12T07:02:47.085Z"
   },
   {
    "duration": 3,
    "start_time": "2022-05-12T07:02:47.593Z"
   },
   {
    "duration": 380,
    "start_time": "2022-05-12T07:02:47.598Z"
   },
   {
    "duration": 796,
    "start_time": "2022-05-12T07:02:47.982Z"
   },
   {
    "duration": 4,
    "start_time": "2022-05-12T07:02:48.780Z"
   },
   {
    "duration": 215,
    "start_time": "2022-05-12T07:02:48.786Z"
   },
   {
    "duration": 601,
    "start_time": "2022-05-12T07:02:49.003Z"
   },
   {
    "duration": 3,
    "start_time": "2022-05-12T07:02:49.607Z"
   },
   {
    "duration": 424,
    "start_time": "2022-05-12T07:02:49.625Z"
   },
   {
    "duration": 4,
    "start_time": "2022-05-12T07:02:50.052Z"
   },
   {
    "duration": 11,
    "start_time": "2022-05-12T07:02:50.058Z"
   },
   {
    "duration": 367,
    "start_time": "2022-05-12T07:02:50.072Z"
   },
   {
    "duration": 31,
    "start_time": "2022-05-12T07:02:50.445Z"
   },
   {
    "duration": 642,
    "start_time": "2022-05-12T07:02:50.479Z"
   },
   {
    "duration": 643,
    "start_time": "2022-05-12T07:02:51.125Z"
   },
   {
    "duration": 703,
    "start_time": "2022-05-12T07:02:51.770Z"
   },
   {
    "duration": 70,
    "start_time": "2022-05-12T07:02:52.475Z"
   },
   {
    "duration": 33,
    "start_time": "2022-05-12T07:02:52.547Z"
   },
   {
    "duration": 426,
    "start_time": "2022-05-12T07:02:52.582Z"
   },
   {
    "duration": 740,
    "start_time": "2022-05-12T07:02:53.011Z"
   },
   {
    "duration": 82,
    "start_time": "2022-05-12T07:02:53.754Z"
   },
   {
    "duration": 144,
    "start_time": "2022-05-12T07:02:53.838Z"
   },
   {
    "duration": 0,
    "start_time": "2022-05-12T07:02:53.984Z"
   },
   {
    "duration": 2237,
    "start_time": "2022-05-12T07:03:27.498Z"
   },
   {
    "duration": 4,
    "start_time": "2022-05-12T07:03:34.368Z"
   },
   {
    "duration": 1011,
    "start_time": "2022-05-12T07:03:48.788Z"
   },
   {
    "duration": 485,
    "start_time": "2022-05-12T07:03:49.802Z"
   },
   {
    "duration": 4,
    "start_time": "2022-05-12T07:03:50.289Z"
   },
   {
    "duration": 281,
    "start_time": "2022-05-12T07:03:50.296Z"
   },
   {
    "duration": 640,
    "start_time": "2022-05-12T07:03:50.579Z"
   },
   {
    "duration": 4,
    "start_time": "2022-05-12T07:03:51.225Z"
   },
   {
    "duration": 222,
    "start_time": "2022-05-12T07:03:51.231Z"
   },
   {
    "duration": 585,
    "start_time": "2022-05-12T07:03:51.456Z"
   },
   {
    "duration": 3,
    "start_time": "2022-05-12T07:03:52.043Z"
   },
   {
    "duration": 481,
    "start_time": "2022-05-12T07:03:52.052Z"
   },
   {
    "duration": 4,
    "start_time": "2022-05-12T07:03:52.535Z"
   },
   {
    "duration": 13,
    "start_time": "2022-05-12T07:03:52.541Z"
   },
   {
    "duration": 367,
    "start_time": "2022-05-12T07:03:52.557Z"
   },
   {
    "duration": 32,
    "start_time": "2022-05-12T07:03:52.927Z"
   },
   {
    "duration": 640,
    "start_time": "2022-05-12T07:03:52.962Z"
   },
   {
    "duration": 620,
    "start_time": "2022-05-12T07:03:53.604Z"
   },
   {
    "duration": 675,
    "start_time": "2022-05-12T07:03:54.226Z"
   },
   {
    "duration": 65,
    "start_time": "2022-05-12T07:03:54.904Z"
   },
   {
    "duration": 29,
    "start_time": "2022-05-12T07:03:54.971Z"
   },
   {
    "duration": 385,
    "start_time": "2022-05-12T07:03:55.024Z"
   },
   {
    "duration": 737,
    "start_time": "2022-05-12T07:03:55.412Z"
   },
   {
    "duration": 79,
    "start_time": "2022-05-12T07:03:56.152Z"
   },
   {
    "duration": 154,
    "start_time": "2022-05-12T07:03:56.234Z"
   },
   {
    "duration": 0,
    "start_time": "2022-05-12T07:03:56.390Z"
   },
   {
    "duration": 2230,
    "start_time": "2022-05-12T07:07:18.438Z"
   },
   {
    "duration": 947,
    "start_time": "2022-05-12T07:07:33.692Z"
   },
   {
    "duration": 553,
    "start_time": "2022-05-12T07:07:34.641Z"
   },
   {
    "duration": 3,
    "start_time": "2022-05-12T07:07:35.197Z"
   },
   {
    "duration": 280,
    "start_time": "2022-05-12T07:07:35.202Z"
   },
   {
    "duration": 672,
    "start_time": "2022-05-12T07:07:35.485Z"
   },
   {
    "duration": 4,
    "start_time": "2022-05-12T07:07:36.159Z"
   },
   {
    "duration": 475,
    "start_time": "2022-05-12T07:07:36.166Z"
   },
   {
    "duration": 1003,
    "start_time": "2022-05-12T07:07:36.643Z"
   },
   {
    "duration": 4,
    "start_time": "2022-05-12T07:07:37.649Z"
   },
   {
    "duration": 459,
    "start_time": "2022-05-12T07:07:37.656Z"
   },
   {
    "duration": 8,
    "start_time": "2022-05-12T07:07:38.118Z"
   },
   {
    "duration": 11,
    "start_time": "2022-05-12T07:07:38.129Z"
   },
   {
    "duration": 350,
    "start_time": "2022-05-12T07:07:38.142Z"
   },
   {
    "duration": 43,
    "start_time": "2022-05-12T07:07:38.496Z"
   },
   {
    "duration": 627,
    "start_time": "2022-05-12T07:07:38.541Z"
   },
   {
    "duration": 667,
    "start_time": "2022-05-12T07:07:39.171Z"
   },
   {
    "duration": 697,
    "start_time": "2022-05-12T07:07:39.841Z"
   },
   {
    "duration": 57,
    "start_time": "2022-05-12T07:07:40.540Z"
   },
   {
    "duration": 52,
    "start_time": "2022-05-12T07:07:40.599Z"
   },
   {
    "duration": 431,
    "start_time": "2022-05-12T07:07:40.653Z"
   },
   {
    "duration": 759,
    "start_time": "2022-05-12T07:07:41.087Z"
   },
   {
    "duration": 78,
    "start_time": "2022-05-12T07:07:41.848Z"
   },
   {
    "duration": 203,
    "start_time": "2022-05-12T07:07:41.929Z"
   },
   {
    "duration": 0,
    "start_time": "2022-05-12T07:07:42.134Z"
   },
   {
    "duration": 1030,
    "start_time": "2022-05-12T07:10:05.922Z"
   },
   {
    "duration": 608,
    "start_time": "2022-05-12T07:10:06.955Z"
   },
   {
    "duration": 310,
    "start_time": "2022-05-12T07:10:07.565Z"
   },
   {
    "duration": 674,
    "start_time": "2022-05-12T07:10:07.878Z"
   },
   {
    "duration": 330,
    "start_time": "2022-05-12T07:10:08.555Z"
   },
   {
    "duration": 640,
    "start_time": "2022-05-12T07:10:08.888Z"
   },
   {
    "duration": 3,
    "start_time": "2022-05-12T07:10:09.532Z"
   },
   {
    "duration": 556,
    "start_time": "2022-05-12T07:10:09.538Z"
   },
   {
    "duration": 4,
    "start_time": "2022-05-12T07:10:10.097Z"
   },
   {
    "duration": 25,
    "start_time": "2022-05-12T07:10:10.107Z"
   },
   {
    "duration": 354,
    "start_time": "2022-05-12T07:10:10.134Z"
   },
   {
    "duration": 51,
    "start_time": "2022-05-12T07:10:10.491Z"
   },
   {
    "duration": 636,
    "start_time": "2022-05-12T07:10:10.546Z"
   },
   {
    "duration": 653,
    "start_time": "2022-05-12T07:10:11.184Z"
   },
   {
    "duration": 690,
    "start_time": "2022-05-12T07:10:11.839Z"
   },
   {
    "duration": 58,
    "start_time": "2022-05-12T07:10:12.531Z"
   },
   {
    "duration": 55,
    "start_time": "2022-05-12T07:10:12.591Z"
   },
   {
    "duration": 396,
    "start_time": "2022-05-12T07:10:12.648Z"
   },
   {
    "duration": 760,
    "start_time": "2022-05-12T07:10:13.046Z"
   },
   {
    "duration": 65,
    "start_time": "2022-05-12T07:10:13.809Z"
   },
   {
    "duration": 134,
    "start_time": "2022-05-12T07:10:13.878Z"
   },
   {
    "duration": 0,
    "start_time": "2022-05-12T07:10:14.015Z"
   },
   {
    "duration": 18,
    "start_time": "2022-05-12T07:10:55.736Z"
   },
   {
    "duration": 976,
    "start_time": "2022-05-12T07:11:12.148Z"
   },
   {
    "duration": 528,
    "start_time": "2022-05-12T07:11:13.127Z"
   },
   {
    "duration": 294,
    "start_time": "2022-05-12T07:11:13.657Z"
   },
   {
    "duration": 689,
    "start_time": "2022-05-12T07:11:13.954Z"
   },
   {
    "duration": 238,
    "start_time": "2022-05-12T07:11:14.647Z"
   },
   {
    "duration": 630,
    "start_time": "2022-05-12T07:11:14.888Z"
   },
   {
    "duration": 453,
    "start_time": "2022-05-12T07:11:15.520Z"
   },
   {
    "duration": 16,
    "start_time": "2022-05-12T07:11:15.975Z"
   },
   {
    "duration": 32,
    "start_time": "2022-05-12T07:11:15.994Z"
   },
   {
    "duration": 352,
    "start_time": "2022-05-12T07:11:16.028Z"
   },
   {
    "duration": 45,
    "start_time": "2022-05-12T07:11:16.382Z"
   },
   {
    "duration": 624,
    "start_time": "2022-05-12T07:11:16.430Z"
   },
   {
    "duration": 639,
    "start_time": "2022-05-12T07:11:17.056Z"
   },
   {
    "duration": 699,
    "start_time": "2022-05-12T07:11:17.699Z"
   },
   {
    "duration": 63,
    "start_time": "2022-05-12T07:11:18.400Z"
   },
   {
    "duration": 30,
    "start_time": "2022-05-12T07:11:18.465Z"
   },
   {
    "duration": 406,
    "start_time": "2022-05-12T07:11:18.498Z"
   },
   {
    "duration": 758,
    "start_time": "2022-05-12T07:11:18.906Z"
   },
   {
    "duration": 72,
    "start_time": "2022-05-12T07:11:19.668Z"
   },
   {
    "duration": 116,
    "start_time": "2022-05-12T07:11:19.743Z"
   },
   {
    "duration": 0,
    "start_time": "2022-05-12T07:11:19.861Z"
   },
   {
    "duration": 88,
    "start_time": "2022-05-12T07:16:38.911Z"
   },
   {
    "duration": 624,
    "start_time": "2022-05-12T07:18:33.106Z"
   },
   {
    "duration": 957,
    "start_time": "2022-05-12T07:26:48.173Z"
   },
   {
    "duration": 501,
    "start_time": "2022-05-12T07:26:49.132Z"
   },
   {
    "duration": 271,
    "start_time": "2022-05-12T07:26:49.636Z"
   },
   {
    "duration": 649,
    "start_time": "2022-05-12T07:26:49.911Z"
   },
   {
    "duration": 355,
    "start_time": "2022-05-12T07:26:50.563Z"
   },
   {
    "duration": 661,
    "start_time": "2022-05-12T07:26:50.921Z"
   },
   {
    "duration": 447,
    "start_time": "2022-05-12T07:26:51.585Z"
   },
   {
    "duration": 18,
    "start_time": "2022-05-12T07:26:52.035Z"
   },
   {
    "duration": 11,
    "start_time": "2022-05-12T07:26:52.056Z"
   },
   {
    "duration": 98,
    "start_time": "2022-05-12T07:26:52.072Z"
   },
   {
    "duration": 122,
    "start_time": "2022-05-12T07:26:52.173Z"
   },
   {
    "duration": 0,
    "start_time": "2022-05-12T07:26:52.298Z"
   },
   {
    "duration": 0,
    "start_time": "2022-05-12T07:26:52.300Z"
   },
   {
    "duration": 0,
    "start_time": "2022-05-12T07:26:52.302Z"
   },
   {
    "duration": 0,
    "start_time": "2022-05-12T07:26:52.303Z"
   },
   {
    "duration": 0,
    "start_time": "2022-05-12T07:26:52.305Z"
   },
   {
    "duration": 0,
    "start_time": "2022-05-12T07:26:52.307Z"
   },
   {
    "duration": 0,
    "start_time": "2022-05-12T07:26:52.308Z"
   },
   {
    "duration": 0,
    "start_time": "2022-05-12T07:26:52.310Z"
   },
   {
    "duration": 0,
    "start_time": "2022-05-12T07:26:52.312Z"
   },
   {
    "duration": 0,
    "start_time": "2022-05-12T07:26:52.313Z"
   },
   {
    "duration": 0,
    "start_time": "2022-05-12T07:26:52.315Z"
   },
   {
    "duration": 0,
    "start_time": "2022-05-12T07:26:52.316Z"
   },
   {
    "duration": 11,
    "start_time": "2022-05-12T07:27:14.866Z"
   },
   {
    "duration": 58,
    "start_time": "2022-05-12T07:27:38.162Z"
   },
   {
    "duration": 12,
    "start_time": "2022-05-12T07:27:41.276Z"
   },
   {
    "duration": 297,
    "start_time": "2022-05-12T07:29:13.012Z"
   },
   {
    "duration": 119,
    "start_time": "2022-05-12T07:30:18.637Z"
   },
   {
    "duration": 33,
    "start_time": "2022-05-12T07:30:27.410Z"
   },
   {
    "duration": 616,
    "start_time": "2022-05-12T07:30:35.696Z"
   },
   {
    "duration": 885,
    "start_time": "2022-05-12T07:31:26.757Z"
   },
   {
    "duration": 507,
    "start_time": "2022-05-12T07:31:27.644Z"
   },
   {
    "duration": 263,
    "start_time": "2022-05-12T07:31:28.153Z"
   },
   {
    "duration": 636,
    "start_time": "2022-05-12T07:31:28.419Z"
   },
   {
    "duration": 221,
    "start_time": "2022-05-12T07:31:29.058Z"
   },
   {
    "duration": 728,
    "start_time": "2022-05-12T07:31:29.281Z"
   },
   {
    "duration": 431,
    "start_time": "2022-05-12T07:31:30.012Z"
   },
   {
    "duration": 17,
    "start_time": "2022-05-12T07:31:30.445Z"
   },
   {
    "duration": 34,
    "start_time": "2022-05-12T07:31:30.464Z"
   },
   {
    "duration": 70,
    "start_time": "2022-05-12T07:31:30.503Z"
   },
   {
    "duration": 12,
    "start_time": "2022-05-12T07:31:30.576Z"
   },
   {
    "duration": 320,
    "start_time": "2022-05-12T07:31:30.591Z"
   },
   {
    "duration": 38,
    "start_time": "2022-05-12T07:31:30.914Z"
   },
   {
    "duration": 629,
    "start_time": "2022-05-12T07:31:30.956Z"
   },
   {
    "duration": 646,
    "start_time": "2022-05-12T07:31:31.588Z"
   },
   {
    "duration": 690,
    "start_time": "2022-05-12T07:31:32.237Z"
   },
   {
    "duration": 54,
    "start_time": "2022-05-12T07:31:32.929Z"
   },
   {
    "duration": 53,
    "start_time": "2022-05-12T07:31:32.986Z"
   },
   {
    "duration": 402,
    "start_time": "2022-05-12T07:31:33.042Z"
   },
   {
    "duration": 832,
    "start_time": "2022-05-12T07:31:33.447Z"
   },
   {
    "duration": 63,
    "start_time": "2022-05-12T07:31:34.282Z"
   },
   {
    "duration": 121,
    "start_time": "2022-05-12T07:31:34.347Z"
   },
   {
    "duration": 0,
    "start_time": "2022-05-12T07:31:34.470Z"
   },
   {
    "duration": 11,
    "start_time": "2022-05-12T07:59:23.198Z"
   },
   {
    "duration": 588,
    "start_time": "2022-05-12T07:59:45.682Z"
   },
   {
    "duration": 911,
    "start_time": "2022-05-12T08:00:44.762Z"
   },
   {
    "duration": 667,
    "start_time": "2022-05-12T08:00:59.983Z"
   },
   {
    "duration": 641,
    "start_time": "2022-05-12T08:07:56.225Z"
   },
   {
    "duration": 851,
    "start_time": "2022-05-12T08:22:44.661Z"
   },
   {
    "duration": 501,
    "start_time": "2022-05-12T08:22:45.514Z"
   },
   {
    "duration": 266,
    "start_time": "2022-05-12T08:22:46.017Z"
   },
   {
    "duration": 650,
    "start_time": "2022-05-12T08:22:46.286Z"
   },
   {
    "duration": 215,
    "start_time": "2022-05-12T08:22:46.939Z"
   },
   {
    "duration": 619,
    "start_time": "2022-05-12T08:22:47.156Z"
   },
   {
    "duration": 426,
    "start_time": "2022-05-12T08:22:47.777Z"
   },
   {
    "duration": 29,
    "start_time": "2022-05-12T08:22:48.205Z"
   },
   {
    "duration": 9,
    "start_time": "2022-05-12T08:22:48.236Z"
   },
   {
    "duration": 79,
    "start_time": "2022-05-12T08:22:48.247Z"
   },
   {
    "duration": 11,
    "start_time": "2022-05-12T08:22:48.328Z"
   },
   {
    "duration": 318,
    "start_time": "2022-05-12T08:22:48.342Z"
   },
   {
    "duration": 31,
    "start_time": "2022-05-12T08:22:48.663Z"
   },
   {
    "duration": 659,
    "start_time": "2022-05-12T08:22:48.698Z"
   },
   {
    "duration": 645,
    "start_time": "2022-05-12T08:22:49.359Z"
   },
   {
    "duration": 701,
    "start_time": "2022-05-12T08:22:50.008Z"
   },
   {
    "duration": 63,
    "start_time": "2022-05-12T08:22:50.713Z"
   },
   {
    "duration": 54,
    "start_time": "2022-05-12T08:22:50.779Z"
   },
   {
    "duration": 392,
    "start_time": "2022-05-12T08:22:50.835Z"
   },
   {
    "duration": 752,
    "start_time": "2022-05-12T08:22:51.230Z"
   },
   {
    "duration": 64,
    "start_time": "2022-05-12T08:22:51.985Z"
   },
   {
    "duration": 115,
    "start_time": "2022-05-12T08:22:52.051Z"
   },
   {
    "duration": 0,
    "start_time": "2022-05-12T08:22:52.169Z"
   },
   {
    "duration": 193,
    "start_time": "2022-05-12T08:30:59.646Z"
   },
   {
    "duration": 387,
    "start_time": "2022-05-12T08:31:13.392Z"
   },
   {
    "duration": 381,
    "start_time": "2022-05-12T08:31:39.235Z"
   },
   {
    "duration": 909,
    "start_time": "2022-05-12T08:36:16.922Z"
   },
   {
    "duration": 549,
    "start_time": "2022-05-12T08:36:17.833Z"
   },
   {
    "duration": 281,
    "start_time": "2022-05-12T08:36:18.385Z"
   },
   {
    "duration": 656,
    "start_time": "2022-05-12T08:36:18.670Z"
   },
   {
    "duration": 222,
    "start_time": "2022-05-12T08:36:19.328Z"
   },
   {
    "duration": 633,
    "start_time": "2022-05-12T08:36:19.552Z"
   },
   {
    "duration": 438,
    "start_time": "2022-05-12T08:36:20.188Z"
   },
   {
    "duration": 16,
    "start_time": "2022-05-12T08:36:20.629Z"
   },
   {
    "duration": 12,
    "start_time": "2022-05-12T08:36:20.648Z"
   },
   {
    "duration": 90,
    "start_time": "2022-05-12T08:36:20.664Z"
   },
   {
    "duration": 11,
    "start_time": "2022-05-12T08:36:20.756Z"
   },
   {
    "duration": 324,
    "start_time": "2022-05-12T08:36:20.769Z"
   },
   {
    "duration": 44,
    "start_time": "2022-05-12T08:36:21.095Z"
   },
   {
    "duration": 643,
    "start_time": "2022-05-12T08:36:21.141Z"
   },
   {
    "duration": 670,
    "start_time": "2022-05-12T08:36:21.786Z"
   },
   {
    "duration": 683,
    "start_time": "2022-05-12T08:36:22.459Z"
   },
   {
    "duration": 57,
    "start_time": "2022-05-12T08:36:23.145Z"
   },
   {
    "duration": 31,
    "start_time": "2022-05-12T08:36:23.226Z"
   },
   {
    "duration": 399,
    "start_time": "2022-05-12T08:36:23.260Z"
   },
   {
    "duration": 735,
    "start_time": "2022-05-12T08:36:23.661Z"
   },
   {
    "duration": 64,
    "start_time": "2022-05-12T08:36:24.399Z"
   },
   {
    "duration": 578,
    "start_time": "2022-05-12T08:36:24.465Z"
   },
   {
    "duration": 34,
    "start_time": "2022-05-12T08:36:25.045Z"
   },
   {
    "duration": 920,
    "start_time": "2022-05-12T08:42:56.306Z"
   },
   {
    "duration": 522,
    "start_time": "2022-05-12T08:42:57.229Z"
   },
   {
    "duration": 283,
    "start_time": "2022-05-12T08:42:57.753Z"
   },
   {
    "duration": 682,
    "start_time": "2022-05-12T08:42:58.038Z"
   },
   {
    "duration": 231,
    "start_time": "2022-05-12T08:42:58.726Z"
   },
   {
    "duration": 677,
    "start_time": "2022-05-12T08:42:58.959Z"
   },
   {
    "duration": 452,
    "start_time": "2022-05-12T08:42:59.639Z"
   },
   {
    "duration": 31,
    "start_time": "2022-05-12T08:43:00.094Z"
   },
   {
    "duration": 13,
    "start_time": "2022-05-12T08:43:00.128Z"
   },
   {
    "duration": 81,
    "start_time": "2022-05-12T08:43:00.143Z"
   },
   {
    "duration": 12,
    "start_time": "2022-05-12T08:43:00.227Z"
   },
   {
    "duration": 352,
    "start_time": "2022-05-12T08:43:00.241Z"
   },
   {
    "duration": 45,
    "start_time": "2022-05-12T08:43:00.596Z"
   },
   {
    "duration": 681,
    "start_time": "2022-05-12T08:43:00.646Z"
   },
   {
    "duration": 968,
    "start_time": "2022-05-12T18:46:29.146Z"
   },
   {
    "duration": 536,
    "start_time": "2022-05-12T18:46:30.117Z"
   },
   {
    "duration": 230,
    "start_time": "2022-05-12T18:46:30.655Z"
   },
   {
    "duration": 492,
    "start_time": "2022-05-12T18:46:30.886Z"
   },
   {
    "duration": 188,
    "start_time": "2022-05-12T18:46:31.381Z"
   },
   {
    "duration": 480,
    "start_time": "2022-05-12T18:46:31.570Z"
   },
   {
    "duration": 346,
    "start_time": "2022-05-12T18:46:32.053Z"
   },
   {
    "duration": 11,
    "start_time": "2022-05-12T18:46:32.401Z"
   },
   {
    "duration": 21,
    "start_time": "2022-05-12T18:46:32.414Z"
   },
   {
    "duration": 61,
    "start_time": "2022-05-12T18:46:32.439Z"
   },
   {
    "duration": 8,
    "start_time": "2022-05-12T18:46:32.501Z"
   },
   {
    "duration": 238,
    "start_time": "2022-05-12T18:46:32.511Z"
   },
   {
    "duration": 21,
    "start_time": "2022-05-12T18:46:32.751Z"
   },
   {
    "duration": 500,
    "start_time": "2022-05-12T18:46:32.775Z"
   },
   {
    "duration": 495,
    "start_time": "2022-05-12T18:46:33.277Z"
   },
   {
    "duration": 525,
    "start_time": "2022-05-12T18:46:33.774Z"
   },
   {
    "duration": 61,
    "start_time": "2022-05-12T18:46:34.302Z"
   },
   {
    "duration": 23,
    "start_time": "2022-05-12T18:46:34.365Z"
   },
   {
    "duration": 312,
    "start_time": "2022-05-12T18:46:34.390Z"
   },
   {
    "duration": 592,
    "start_time": "2022-05-12T18:46:34.705Z"
   },
   {
    "duration": 62,
    "start_time": "2022-05-12T18:46:35.299Z"
   },
   {
    "duration": 492,
    "start_time": "2022-05-12T18:46:35.363Z"
   },
   {
    "duration": 21,
    "start_time": "2022-05-12T18:46:35.857Z"
   },
   {
    "duration": 2700,
    "start_time": "2022-05-12T18:51:26.723Z"
   },
   {
    "duration": 719,
    "start_time": "2022-05-12T18:51:45.661Z"
   },
   {
    "duration": 448,
    "start_time": "2022-05-12T18:51:46.382Z"
   },
   {
    "duration": 207,
    "start_time": "2022-05-12T18:51:46.832Z"
   },
   {
    "duration": 455,
    "start_time": "2022-05-12T18:51:47.042Z"
   },
   {
    "duration": 157,
    "start_time": "2022-05-12T18:51:47.500Z"
   },
   {
    "duration": 422,
    "start_time": "2022-05-12T18:51:47.659Z"
   },
   {
    "duration": 311,
    "start_time": "2022-05-12T18:51:48.082Z"
   },
   {
    "duration": 12,
    "start_time": "2022-05-12T18:51:48.395Z"
   },
   {
    "duration": 14,
    "start_time": "2022-05-12T18:51:48.408Z"
   },
   {
    "duration": 47,
    "start_time": "2022-05-12T18:51:48.425Z"
   },
   {
    "duration": 8,
    "start_time": "2022-05-12T18:51:48.474Z"
   },
   {
    "duration": 211,
    "start_time": "2022-05-12T18:51:48.483Z"
   },
   {
    "duration": 20,
    "start_time": "2022-05-12T18:51:48.696Z"
   },
   {
    "duration": 464,
    "start_time": "2022-05-12T18:51:48.718Z"
   },
   {
    "duration": 428,
    "start_time": "2022-05-12T18:51:49.183Z"
   },
   {
    "duration": 462,
    "start_time": "2022-05-12T18:51:49.612Z"
   },
   {
    "duration": 38,
    "start_time": "2022-05-12T18:51:50.076Z"
   },
   {
    "duration": 37,
    "start_time": "2022-05-12T18:51:50.115Z"
   },
   {
    "duration": 267,
    "start_time": "2022-05-12T18:51:50.154Z"
   },
   {
    "duration": 510,
    "start_time": "2022-05-12T18:51:50.423Z"
   },
   {
    "duration": 39,
    "start_time": "2022-05-12T18:51:50.935Z"
   },
   {
    "duration": 466,
    "start_time": "2022-05-12T18:51:50.976Z"
   },
   {
    "duration": 20,
    "start_time": "2022-05-12T18:51:51.444Z"
   },
   {
    "duration": 747,
    "start_time": "2022-05-12T19:04:30.422Z"
   },
   {
    "duration": 438,
    "start_time": "2022-05-12T19:04:31.171Z"
   },
   {
    "duration": 212,
    "start_time": "2022-05-12T19:04:31.611Z"
   },
   {
    "duration": 446,
    "start_time": "2022-05-12T19:04:31.834Z"
   },
   {
    "duration": 164,
    "start_time": "2022-05-12T19:04:32.282Z"
   },
   {
    "duration": 415,
    "start_time": "2022-05-12T19:04:32.448Z"
   },
   {
    "duration": 311,
    "start_time": "2022-05-12T19:04:32.865Z"
   },
   {
    "duration": 12,
    "start_time": "2022-05-12T19:04:33.178Z"
   },
   {
    "duration": 10,
    "start_time": "2022-05-12T19:04:33.192Z"
   },
   {
    "duration": 63,
    "start_time": "2022-05-12T19:04:33.205Z"
   },
   {
    "duration": 8,
    "start_time": "2022-05-12T19:04:33.270Z"
   },
   {
    "duration": 225,
    "start_time": "2022-05-12T19:04:33.280Z"
   },
   {
    "duration": 27,
    "start_time": "2022-05-12T19:04:33.507Z"
   },
   {
    "duration": 458,
    "start_time": "2022-05-12T19:04:33.536Z"
   },
   {
    "duration": 463,
    "start_time": "2022-05-12T19:04:33.996Z"
   },
   {
    "duration": 500,
    "start_time": "2022-05-12T19:04:34.461Z"
   },
   {
    "duration": 39,
    "start_time": "2022-05-12T19:04:34.963Z"
   },
   {
    "duration": 39,
    "start_time": "2022-05-12T19:04:35.003Z"
   },
   {
    "duration": 280,
    "start_time": "2022-05-12T19:04:35.043Z"
   },
   {
    "duration": 520,
    "start_time": "2022-05-12T19:04:35.325Z"
   },
   {
    "duration": 39,
    "start_time": "2022-05-12T19:04:35.847Z"
   },
   {
    "duration": 453,
    "start_time": "2022-05-12T19:04:35.888Z"
   },
   {
    "duration": 20,
    "start_time": "2022-05-12T19:04:36.343Z"
   },
   {
    "duration": 32,
    "start_time": "2022-05-12T19:17:24.353Z"
   },
   {
    "duration": 26,
    "start_time": "2022-05-12T19:23:03.690Z"
   },
   {
    "duration": 8,
    "start_time": "2022-05-12T19:31:43.809Z"
   },
   {
    "duration": 842,
    "start_time": "2022-05-13T06:42:14.590Z"
   },
   {
    "duration": 383,
    "start_time": "2022-05-13T06:42:15.434Z"
   },
   {
    "duration": 138,
    "start_time": "2022-05-13T06:42:15.819Z"
   },
   {
    "duration": 406,
    "start_time": "2022-05-13T06:42:15.960Z"
   },
   {
    "duration": 163,
    "start_time": "2022-05-13T06:42:16.367Z"
   },
   {
    "duration": 376,
    "start_time": "2022-05-13T06:42:16.532Z"
   },
   {
    "duration": 307,
    "start_time": "2022-05-13T06:42:16.910Z"
   },
   {
    "duration": 12,
    "start_time": "2022-05-13T06:42:17.218Z"
   },
   {
    "duration": 12,
    "start_time": "2022-05-13T06:42:17.243Z"
   },
   {
    "duration": 72,
    "start_time": "2022-05-13T06:42:17.257Z"
   },
   {
    "duration": 15,
    "start_time": "2022-05-13T06:42:17.331Z"
   },
   {
    "duration": 50,
    "start_time": "2022-05-13T06:42:17.347Z"
   },
   {
    "duration": 186,
    "start_time": "2022-05-13T06:42:17.399Z"
   },
   {
    "duration": 18,
    "start_time": "2022-05-13T06:42:17.586Z"
   },
   {
    "duration": 419,
    "start_time": "2022-05-13T06:42:17.606Z"
   },
   {
    "duration": 587,
    "start_time": "2022-05-13T06:42:18.027Z"
   },
   {
    "duration": 558,
    "start_time": "2022-05-13T06:42:18.616Z"
   },
   {
    "duration": 35,
    "start_time": "2022-05-13T06:42:19.177Z"
   },
   {
    "duration": 35,
    "start_time": "2022-05-13T06:42:19.213Z"
   },
   {
    "duration": 219,
    "start_time": "2022-05-13T06:42:19.250Z"
   },
   {
    "duration": 465,
    "start_time": "2022-05-13T06:42:19.471Z"
   },
   {
    "duration": 38,
    "start_time": "2022-05-13T06:42:19.937Z"
   },
   {
    "duration": 462,
    "start_time": "2022-05-13T06:42:19.977Z"
   },
   {
    "duration": 20,
    "start_time": "2022-05-13T06:42:20.442Z"
   },
   {
    "duration": 1873,
    "start_time": "2022-05-13T06:46:49.555Z"
   },
   {
    "duration": 672,
    "start_time": "2022-05-13T06:46:56.435Z"
   },
   {
    "duration": 366,
    "start_time": "2022-05-13T06:46:57.110Z"
   },
   {
    "duration": 109,
    "start_time": "2022-05-13T06:46:57.478Z"
   },
   {
    "duration": 383,
    "start_time": "2022-05-13T06:46:57.589Z"
   },
   {
    "duration": 150,
    "start_time": "2022-05-13T06:46:57.974Z"
   },
   {
    "duration": 358,
    "start_time": "2022-05-13T06:46:58.126Z"
   },
   {
    "duration": 288,
    "start_time": "2022-05-13T06:46:58.486Z"
   },
   {
    "duration": 11,
    "start_time": "2022-05-13T06:46:58.775Z"
   },
   {
    "duration": 17,
    "start_time": "2022-05-13T06:46:58.788Z"
   },
   {
    "duration": 52,
    "start_time": "2022-05-13T06:46:58.808Z"
   },
   {
    "duration": 8,
    "start_time": "2022-05-13T06:46:58.861Z"
   },
   {
    "duration": 8,
    "start_time": "2022-05-13T06:46:58.871Z"
   },
   {
    "duration": 209,
    "start_time": "2022-05-13T06:46:58.880Z"
   },
   {
    "duration": 23,
    "start_time": "2022-05-13T06:46:59.091Z"
   },
   {
    "duration": 388,
    "start_time": "2022-05-13T06:46:59.116Z"
   },
   {
    "duration": 374,
    "start_time": "2022-05-13T06:46:59.506Z"
   },
   {
    "duration": 411,
    "start_time": "2022-05-13T06:46:59.882Z"
   },
   {
    "duration": 34,
    "start_time": "2022-05-13T06:47:00.295Z"
   },
   {
    "duration": 28,
    "start_time": "2022-05-13T06:47:00.331Z"
   },
   {
    "duration": 230,
    "start_time": "2022-05-13T06:47:00.360Z"
   },
   {
    "duration": 468,
    "start_time": "2022-05-13T06:47:00.592Z"
   },
   {
    "duration": 37,
    "start_time": "2022-05-13T06:47:01.062Z"
   },
   {
    "duration": 451,
    "start_time": "2022-05-13T06:47:01.101Z"
   },
   {
    "duration": 18,
    "start_time": "2022-05-13T06:47:01.554Z"
   },
   {
    "duration": 125,
    "start_time": "2022-05-13T06:48:15.250Z"
   },
   {
    "duration": 121,
    "start_time": "2022-05-13T06:53:28.472Z"
   },
   {
    "duration": 404,
    "start_time": "2022-05-13T06:58:20.539Z"
   },
   {
    "duration": 467,
    "start_time": "2022-05-13T07:02:58.119Z"
   },
   {
    "duration": 523,
    "start_time": "2022-05-13T07:03:10.729Z"
   },
   {
    "duration": 404,
    "start_time": "2022-05-13T07:03:21.099Z"
   },
   {
    "duration": 144,
    "start_time": "2022-05-13T07:05:00.368Z"
   },
   {
    "duration": 747,
    "start_time": "2022-05-13T07:08:28.534Z"
   },
   {
    "duration": 415,
    "start_time": "2022-05-13T07:08:29.284Z"
   },
   {
    "duration": 116,
    "start_time": "2022-05-13T07:08:29.701Z"
   },
   {
    "duration": 466,
    "start_time": "2022-05-13T07:08:29.818Z"
   },
   {
    "duration": 99,
    "start_time": "2022-05-13T07:08:30.287Z"
   },
   {
    "duration": 394,
    "start_time": "2022-05-13T07:08:30.388Z"
   },
   {
    "duration": 320,
    "start_time": "2022-05-13T07:08:30.784Z"
   },
   {
    "duration": 11,
    "start_time": "2022-05-13T07:08:31.105Z"
   },
   {
    "duration": 50,
    "start_time": "2022-05-13T07:08:31.118Z"
   },
   {
    "duration": 56,
    "start_time": "2022-05-13T07:08:31.170Z"
   },
   {
    "duration": 8,
    "start_time": "2022-05-13T07:08:31.228Z"
   },
   {
    "duration": 25,
    "start_time": "2022-05-13T07:08:31.238Z"
   },
   {
    "duration": 210,
    "start_time": "2022-05-13T07:08:31.265Z"
   },
   {
    "duration": 21,
    "start_time": "2022-05-13T07:08:31.478Z"
   },
   {
    "duration": 419,
    "start_time": "2022-05-13T07:08:31.502Z"
   },
   {
    "duration": 452,
    "start_time": "2022-05-13T07:08:31.923Z"
   },
   {
    "duration": 614,
    "start_time": "2022-05-13T07:08:32.377Z"
   },
   {
    "duration": 34,
    "start_time": "2022-05-13T07:08:32.993Z"
   },
   {
    "duration": 20,
    "start_time": "2022-05-13T07:08:33.043Z"
   },
   {
    "duration": 237,
    "start_time": "2022-05-13T07:08:33.065Z"
   },
   {
    "duration": 465,
    "start_time": "2022-05-13T07:08:33.304Z"
   },
   {
    "duration": 36,
    "start_time": "2022-05-13T07:08:33.771Z"
   },
   {
    "duration": 468,
    "start_time": "2022-05-13T07:08:33.809Z"
   },
   {
    "duration": 19,
    "start_time": "2022-05-13T07:08:34.279Z"
   },
   {
    "duration": 714,
    "start_time": "2022-05-13T07:09:04.232Z"
   },
   {
    "duration": 401,
    "start_time": "2022-05-13T07:09:04.948Z"
   },
   {
    "duration": 122,
    "start_time": "2022-05-13T07:09:05.351Z"
   },
   {
    "duration": 414,
    "start_time": "2022-05-13T07:09:05.475Z"
   },
   {
    "duration": 99,
    "start_time": "2022-05-13T07:09:05.891Z"
   },
   {
    "duration": 400,
    "start_time": "2022-05-13T07:09:05.991Z"
   },
   {
    "duration": 318,
    "start_time": "2022-05-13T07:09:06.392Z"
   },
   {
    "duration": 12,
    "start_time": "2022-05-13T07:09:06.712Z"
   },
   {
    "duration": 40,
    "start_time": "2022-05-13T07:09:06.726Z"
   },
   {
    "duration": 43,
    "start_time": "2022-05-13T07:09:06.769Z"
   },
   {
    "duration": 8,
    "start_time": "2022-05-13T07:09:06.814Z"
   },
   {
    "duration": 15,
    "start_time": "2022-05-13T07:09:06.824Z"
   },
   {
    "duration": 197,
    "start_time": "2022-05-13T07:09:06.841Z"
   },
   {
    "duration": 27,
    "start_time": "2022-05-13T07:09:07.040Z"
   },
   {
    "duration": 429,
    "start_time": "2022-05-13T07:09:07.069Z"
   },
   {
    "duration": 404,
    "start_time": "2022-05-13T07:09:07.499Z"
   },
   {
    "duration": 430,
    "start_time": "2022-05-13T07:09:07.905Z"
   },
   {
    "duration": 40,
    "start_time": "2022-05-13T07:09:08.337Z"
   },
   {
    "duration": 20,
    "start_time": "2022-05-13T07:09:08.378Z"
   },
   {
    "duration": 276,
    "start_time": "2022-05-13T07:09:08.400Z"
   },
   {
    "duration": 502,
    "start_time": "2022-05-13T07:09:08.679Z"
   },
   {
    "duration": 39,
    "start_time": "2022-05-13T07:09:09.182Z"
   },
   {
    "duration": 441,
    "start_time": "2022-05-13T07:09:09.223Z"
   },
   {
    "duration": 19,
    "start_time": "2022-05-13T07:09:09.666Z"
   },
   {
    "duration": 2357,
    "start_time": "2022-05-13T07:13:00.264Z"
   },
   {
    "duration": 54,
    "start_time": "2022-05-13T07:13:12.986Z"
   },
   {
    "duration": 728,
    "start_time": "2022-05-13T07:13:18.008Z"
   },
   {
    "duration": 432,
    "start_time": "2022-05-13T07:13:18.738Z"
   },
   {
    "duration": 126,
    "start_time": "2022-05-13T07:13:19.172Z"
   },
   {
    "duration": 440,
    "start_time": "2022-05-13T07:13:19.300Z"
   },
   {
    "duration": 119,
    "start_time": "2022-05-13T07:13:19.745Z"
   },
   {
    "duration": 411,
    "start_time": "2022-05-13T07:13:19.865Z"
   },
   {
    "duration": 322,
    "start_time": "2022-05-13T07:13:20.278Z"
   },
   {
    "duration": 11,
    "start_time": "2022-05-13T07:13:20.602Z"
   },
   {
    "duration": 10,
    "start_time": "2022-05-13T07:13:20.615Z"
   },
   {
    "duration": 57,
    "start_time": "2022-05-13T07:13:20.627Z"
   },
   {
    "duration": 9,
    "start_time": "2022-05-13T07:13:20.686Z"
   },
   {
    "duration": 11,
    "start_time": "2022-05-13T07:13:20.696Z"
   },
   {
    "duration": 228,
    "start_time": "2022-05-13T07:13:20.709Z"
   },
   {
    "duration": 25,
    "start_time": "2022-05-13T07:13:20.943Z"
   },
   {
    "duration": 409,
    "start_time": "2022-05-13T07:13:20.970Z"
   },
   {
    "duration": 1985,
    "start_time": "2022-05-13T07:13:21.381Z"
   },
   {
    "duration": 0,
    "start_time": "2022-05-13T07:13:23.368Z"
   },
   {
    "duration": 0,
    "start_time": "2022-05-13T07:13:23.369Z"
   },
   {
    "duration": 0,
    "start_time": "2022-05-13T07:13:23.370Z"
   },
   {
    "duration": 0,
    "start_time": "2022-05-13T07:13:23.372Z"
   },
   {
    "duration": 0,
    "start_time": "2022-05-13T07:13:23.374Z"
   },
   {
    "duration": 0,
    "start_time": "2022-05-13T07:13:23.375Z"
   },
   {
    "duration": 0,
    "start_time": "2022-05-13T07:13:23.376Z"
   },
   {
    "duration": 0,
    "start_time": "2022-05-13T07:13:23.377Z"
   },
   {
    "duration": 166,
    "start_time": "2022-05-13T07:15:41.736Z"
   },
   {
    "duration": 984,
    "start_time": "2022-05-13T07:16:01.190Z"
   },
   {
    "duration": 436,
    "start_time": "2022-05-13T07:16:02.178Z"
   },
   {
    "duration": 139,
    "start_time": "2022-05-13T07:16:02.616Z"
   },
   {
    "duration": 503,
    "start_time": "2022-05-13T07:16:02.760Z"
   },
   {
    "duration": 110,
    "start_time": "2022-05-13T07:16:03.266Z"
   },
   {
    "duration": 605,
    "start_time": "2022-05-13T07:16:03.379Z"
   },
   {
    "duration": 346,
    "start_time": "2022-05-13T07:16:03.986Z"
   },
   {
    "duration": 20,
    "start_time": "2022-05-13T07:16:04.334Z"
   },
   {
    "duration": 31,
    "start_time": "2022-05-13T07:16:04.355Z"
   },
   {
    "duration": 41,
    "start_time": "2022-05-13T07:16:04.388Z"
   },
   {
    "duration": 8,
    "start_time": "2022-05-13T07:16:04.431Z"
   },
   {
    "duration": 13,
    "start_time": "2022-05-13T07:16:04.444Z"
   },
   {
    "duration": 266,
    "start_time": "2022-05-13T07:16:04.459Z"
   },
   {
    "duration": 38,
    "start_time": "2022-05-13T07:16:04.729Z"
   },
   {
    "duration": 472,
    "start_time": "2022-05-13T07:16:04.769Z"
   },
   {
    "duration": 2785,
    "start_time": "2022-05-13T07:16:05.242Z"
   },
   {
    "duration": 0,
    "start_time": "2022-05-13T07:16:08.029Z"
   },
   {
    "duration": 0,
    "start_time": "2022-05-13T07:16:08.030Z"
   },
   {
    "duration": 0,
    "start_time": "2022-05-13T07:16:08.031Z"
   },
   {
    "duration": 0,
    "start_time": "2022-05-13T07:16:08.033Z"
   },
   {
    "duration": 0,
    "start_time": "2022-05-13T07:16:08.034Z"
   },
   {
    "duration": 0,
    "start_time": "2022-05-13T07:16:08.036Z"
   },
   {
    "duration": 0,
    "start_time": "2022-05-13T07:16:08.036Z"
   },
   {
    "duration": 0,
    "start_time": "2022-05-13T07:16:08.038Z"
   },
   {
    "duration": 418,
    "start_time": "2022-05-13T07:16:19.015Z"
   },
   {
    "duration": 439,
    "start_time": "2022-05-13T07:16:33.129Z"
   },
   {
    "duration": 739,
    "start_time": "2022-05-13T07:26:09.059Z"
   },
   {
    "duration": 409,
    "start_time": "2022-05-13T07:26:09.800Z"
   },
   {
    "duration": 114,
    "start_time": "2022-05-13T07:26:10.211Z"
   },
   {
    "duration": 456,
    "start_time": "2022-05-13T07:26:10.327Z"
   },
   {
    "duration": 106,
    "start_time": "2022-05-13T07:26:10.786Z"
   },
   {
    "duration": 422,
    "start_time": "2022-05-13T07:26:10.894Z"
   },
   {
    "duration": 342,
    "start_time": "2022-05-13T07:26:11.318Z"
   },
   {
    "duration": 11,
    "start_time": "2022-05-13T07:26:11.662Z"
   },
   {
    "duration": 9,
    "start_time": "2022-05-13T07:26:11.675Z"
   },
   {
    "duration": 65,
    "start_time": "2022-05-13T07:26:11.686Z"
   },
   {
    "duration": 11,
    "start_time": "2022-05-13T07:26:11.754Z"
   },
   {
    "duration": 8,
    "start_time": "2022-05-13T07:26:11.767Z"
   },
   {
    "duration": 217,
    "start_time": "2022-05-13T07:26:11.777Z"
   },
   {
    "duration": 21,
    "start_time": "2022-05-13T07:26:11.997Z"
   },
   {
    "duration": 425,
    "start_time": "2022-05-13T07:26:12.020Z"
   },
   {
    "duration": 2060,
    "start_time": "2022-05-13T07:26:12.448Z"
   },
   {
    "duration": 0,
    "start_time": "2022-05-13T07:26:14.509Z"
   },
   {
    "duration": 0,
    "start_time": "2022-05-13T07:26:14.511Z"
   },
   {
    "duration": 0,
    "start_time": "2022-05-13T07:26:14.512Z"
   },
   {
    "duration": 0,
    "start_time": "2022-05-13T07:26:14.513Z"
   },
   {
    "duration": 0,
    "start_time": "2022-05-13T07:26:14.513Z"
   },
   {
    "duration": 0,
    "start_time": "2022-05-13T07:26:14.514Z"
   },
   {
    "duration": 0,
    "start_time": "2022-05-13T07:26:14.516Z"
   },
   {
    "duration": 0,
    "start_time": "2022-05-13T07:26:14.516Z"
   },
   {
    "duration": 53,
    "start_time": "2022-05-13T07:28:01.935Z"
   },
   {
    "duration": 27,
    "start_time": "2022-05-13T07:28:12.012Z"
   },
   {
    "duration": 16,
    "start_time": "2022-05-13T07:28:56.076Z"
   },
   {
    "duration": 36,
    "start_time": "2022-05-13T07:31:59.380Z"
   },
   {
    "duration": 10,
    "start_time": "2022-05-13T07:33:39.212Z"
   },
   {
    "duration": 38,
    "start_time": "2022-05-13T07:34:01.893Z"
   },
   {
    "duration": 48,
    "start_time": "2022-05-13T07:34:09.171Z"
   },
   {
    "duration": 6,
    "start_time": "2022-05-13T07:34:19.290Z"
   },
   {
    "duration": 4,
    "start_time": "2022-05-13T07:34:32.415Z"
   },
   {
    "duration": 12,
    "start_time": "2022-05-13T07:34:46.149Z"
   },
   {
    "duration": 64,
    "start_time": "2022-05-13T07:35:38.371Z"
   },
   {
    "duration": 40,
    "start_time": "2022-05-13T07:35:49.388Z"
   },
   {
    "duration": 9,
    "start_time": "2022-05-13T07:35:57.890Z"
   },
   {
    "duration": 2442,
    "start_time": "2022-05-13T07:47:09.952Z"
   },
   {
    "duration": 8,
    "start_time": "2022-05-13T07:54:28.095Z"
   },
   {
    "duration": 7,
    "start_time": "2022-05-13T07:54:30.521Z"
   },
   {
    "duration": 295,
    "start_time": "2022-05-13T07:54:32.222Z"
   },
   {
    "duration": 29,
    "start_time": "2022-05-13T07:54:37.290Z"
   },
   {
    "duration": 654,
    "start_time": "2022-05-13T07:54:38.369Z"
   },
   {
    "duration": 621,
    "start_time": "2022-05-13T07:54:39.081Z"
   },
   {
    "duration": 18,
    "start_time": "2022-05-13T07:55:42.677Z"
   },
   {
    "duration": 13,
    "start_time": "2022-05-13T07:55:45.912Z"
   },
   {
    "duration": 26,
    "start_time": "2022-05-13T07:55:51.604Z"
   },
   {
    "duration": 411,
    "start_time": "2022-05-13T07:55:54.288Z"
   },
   {
    "duration": 653,
    "start_time": "2022-05-13T07:55:58.853Z"
   },
   {
    "duration": 40,
    "start_time": "2022-05-13T07:56:02.981Z"
   },
   {
    "duration": 919,
    "start_time": "2022-05-13T08:01:08.792Z"
   },
   {
    "duration": 592,
    "start_time": "2022-05-13T08:01:09.714Z"
   },
   {
    "duration": 176,
    "start_time": "2022-05-13T08:01:10.309Z"
   },
   {
    "duration": 543,
    "start_time": "2022-05-13T08:01:10.487Z"
   },
   {
    "duration": 126,
    "start_time": "2022-05-13T08:01:11.032Z"
   },
   {
    "duration": 552,
    "start_time": "2022-05-13T08:01:11.160Z"
   },
   {
    "duration": 386,
    "start_time": "2022-05-13T08:01:11.713Z"
   },
   {
    "duration": 15,
    "start_time": "2022-05-13T08:01:12.102Z"
   },
   {
    "duration": 18,
    "start_time": "2022-05-13T08:01:12.119Z"
   },
   {
    "duration": 87,
    "start_time": "2022-05-13T08:01:12.142Z"
   },
   {
    "duration": 15,
    "start_time": "2022-05-13T08:01:12.232Z"
   },
   {
    "duration": 96,
    "start_time": "2022-05-13T08:01:12.251Z"
   },
   {
    "duration": 14,
    "start_time": "2022-05-13T08:01:12.350Z"
   },
   {
    "duration": 324,
    "start_time": "2022-05-13T08:01:12.366Z"
   },
   {
    "duration": 23,
    "start_time": "2022-05-13T08:01:12.694Z"
   },
   {
    "duration": 498,
    "start_time": "2022-05-13T08:01:12.719Z"
   },
   {
    "duration": 521,
    "start_time": "2022-05-13T08:01:13.219Z"
   },
   {
    "duration": 651,
    "start_time": "2022-05-13T08:01:13.743Z"
   },
   {
    "duration": 55,
    "start_time": "2022-05-13T08:01:14.396Z"
   },
   {
    "duration": 35,
    "start_time": "2022-05-13T08:01:14.453Z"
   },
   {
    "duration": 375,
    "start_time": "2022-05-13T08:01:14.490Z"
   },
   {
    "duration": 692,
    "start_time": "2022-05-13T08:01:14.868Z"
   },
   {
    "duration": 50,
    "start_time": "2022-05-13T08:01:15.565Z"
   },
   {
    "duration": 496,
    "start_time": "2022-05-13T08:01:15.617Z"
   },
   {
    "duration": 21,
    "start_time": "2022-05-13T08:01:16.115Z"
   },
   {
    "duration": 763,
    "start_time": "2022-05-13T08:16:27.700Z"
   },
   {
    "duration": 471,
    "start_time": "2022-05-13T08:16:28.465Z"
   },
   {
    "duration": 146,
    "start_time": "2022-05-13T08:16:28.938Z"
   },
   {
    "duration": 616,
    "start_time": "2022-05-13T08:16:29.086Z"
   },
   {
    "duration": 103,
    "start_time": "2022-05-13T08:16:29.704Z"
   },
   {
    "duration": 483,
    "start_time": "2022-05-13T08:16:29.808Z"
   },
   {
    "duration": 364,
    "start_time": "2022-05-13T08:16:30.293Z"
   },
   {
    "duration": 17,
    "start_time": "2022-05-13T08:16:30.659Z"
   },
   {
    "duration": 18,
    "start_time": "2022-05-13T08:16:30.677Z"
   },
   {
    "duration": 51,
    "start_time": "2022-05-13T08:16:30.699Z"
   },
   {
    "duration": 12,
    "start_time": "2022-05-13T08:16:30.752Z"
   },
   {
    "duration": 54,
    "start_time": "2022-05-13T08:16:30.767Z"
   },
   {
    "duration": 9,
    "start_time": "2022-05-13T08:16:30.823Z"
   },
   {
    "duration": 258,
    "start_time": "2022-05-13T08:16:30.834Z"
   },
   {
    "duration": 22,
    "start_time": "2022-05-13T08:16:31.093Z"
   },
   {
    "duration": 549,
    "start_time": "2022-05-13T08:16:31.117Z"
   },
   {
    "duration": 609,
    "start_time": "2022-05-13T08:16:31.668Z"
   },
   {
    "duration": 550,
    "start_time": "2022-05-13T08:16:32.279Z"
   },
   {
    "duration": 67,
    "start_time": "2022-05-13T08:16:32.831Z"
   },
   {
    "duration": 20,
    "start_time": "2022-05-13T08:16:32.900Z"
   },
   {
    "duration": 334,
    "start_time": "2022-05-13T08:16:32.922Z"
   },
   {
    "duration": 716,
    "start_time": "2022-05-13T08:16:33.258Z"
   },
   {
    "duration": 49,
    "start_time": "2022-05-13T08:16:33.976Z"
   },
   {
    "duration": 561,
    "start_time": "2022-05-13T08:16:34.027Z"
   },
   {
    "duration": 28,
    "start_time": "2022-05-13T08:16:34.590Z"
   },
   {
    "duration": 17,
    "start_time": "2022-05-13T09:07:44.171Z"
   },
   {
    "duration": 44,
    "start_time": "2022-05-13T09:08:07.069Z"
   },
   {
    "duration": 18,
    "start_time": "2022-05-13T09:08:20.311Z"
   },
   {
    "duration": 27,
    "start_time": "2022-05-13T09:12:12.433Z"
   },
   {
    "duration": 219,
    "start_time": "2022-05-13T09:14:11.996Z"
   },
   {
    "duration": 6,
    "start_time": "2022-05-13T09:15:19.028Z"
   },
   {
    "duration": 9,
    "start_time": "2022-05-13T09:16:13.024Z"
   },
   {
    "duration": 289,
    "start_time": "2022-05-13T09:18:36.235Z"
   },
   {
    "duration": 923,
    "start_time": "2022-05-13T09:58:30.071Z"
   },
   {
    "duration": 593,
    "start_time": "2022-05-13T09:58:30.998Z"
   },
   {
    "duration": 156,
    "start_time": "2022-05-13T09:58:31.595Z"
   },
   {
    "duration": 560,
    "start_time": "2022-05-13T09:58:31.753Z"
   },
   {
    "duration": 120,
    "start_time": "2022-05-13T09:58:32.315Z"
   },
   {
    "duration": 547,
    "start_time": "2022-05-13T09:58:32.437Z"
   },
   {
    "duration": 418,
    "start_time": "2022-05-13T09:58:32.988Z"
   },
   {
    "duration": 12,
    "start_time": "2022-05-13T09:58:33.410Z"
   },
   {
    "duration": 14,
    "start_time": "2022-05-13T09:58:33.423Z"
   },
   {
    "duration": 100,
    "start_time": "2022-05-13T09:58:33.438Z"
   },
   {
    "duration": 18,
    "start_time": "2022-05-13T09:58:33.539Z"
   },
   {
    "duration": 94,
    "start_time": "2022-05-13T09:58:33.559Z"
   },
   {
    "duration": 19,
    "start_time": "2022-05-13T09:58:33.656Z"
   },
   {
    "duration": 263,
    "start_time": "2022-05-13T09:58:33.678Z"
   },
   {
    "duration": 45,
    "start_time": "2022-05-13T09:58:33.954Z"
   },
   {
    "duration": 500,
    "start_time": "2022-05-13T09:58:34.001Z"
   },
   {
    "duration": 496,
    "start_time": "2022-05-13T09:58:34.507Z"
   },
   {
    "duration": 560,
    "start_time": "2022-05-13T09:58:35.008Z"
   },
   {
    "duration": 47,
    "start_time": "2022-05-13T09:58:35.572Z"
   },
   {
    "duration": 38,
    "start_time": "2022-05-13T09:58:35.621Z"
   },
   {
    "duration": 353,
    "start_time": "2022-05-13T09:58:35.661Z"
   },
   {
    "duration": 608,
    "start_time": "2022-05-13T09:58:36.017Z"
   },
   {
    "duration": 67,
    "start_time": "2022-05-13T09:58:36.627Z"
   },
   {
    "duration": 703,
    "start_time": "2022-05-13T09:58:36.699Z"
   },
   {
    "duration": 0,
    "start_time": "2022-05-13T09:58:37.404Z"
   },
   {
    "duration": 24,
    "start_time": "2022-05-13T09:58:50.532Z"
   },
   {
    "duration": 957,
    "start_time": "2022-05-13T09:59:05.258Z"
   },
   {
    "duration": 573,
    "start_time": "2022-05-13T09:59:06.217Z"
   },
   {
    "duration": 150,
    "start_time": "2022-05-13T09:59:06.798Z"
   },
   {
    "duration": 550,
    "start_time": "2022-05-13T09:59:06.951Z"
   },
   {
    "duration": 120,
    "start_time": "2022-05-13T09:59:07.507Z"
   },
   {
    "duration": 563,
    "start_time": "2022-05-13T09:59:07.629Z"
   },
   {
    "duration": 408,
    "start_time": "2022-05-13T09:59:08.202Z"
   },
   {
    "duration": 18,
    "start_time": "2022-05-13T09:59:08.612Z"
   },
   {
    "duration": 9,
    "start_time": "2022-05-13T09:59:08.632Z"
   },
   {
    "duration": 135,
    "start_time": "2022-05-13T09:59:08.649Z"
   },
   {
    "duration": 28,
    "start_time": "2022-05-13T09:59:08.786Z"
   },
   {
    "duration": 56,
    "start_time": "2022-05-13T09:59:08.818Z"
   },
   {
    "duration": 18,
    "start_time": "2022-05-13T09:59:08.880Z"
   },
   {
    "duration": 285,
    "start_time": "2022-05-13T09:59:08.904Z"
   },
   {
    "duration": 35,
    "start_time": "2022-05-13T09:59:09.191Z"
   },
   {
    "duration": 498,
    "start_time": "2022-05-13T09:59:09.228Z"
   },
   {
    "duration": 511,
    "start_time": "2022-05-13T09:59:09.728Z"
   },
   {
    "duration": 518,
    "start_time": "2022-05-13T09:59:10.253Z"
   },
   {
    "duration": 48,
    "start_time": "2022-05-13T09:59:10.773Z"
   },
   {
    "duration": 44,
    "start_time": "2022-05-13T09:59:10.823Z"
   },
   {
    "duration": 351,
    "start_time": "2022-05-13T09:59:10.871Z"
   },
   {
    "duration": 654,
    "start_time": "2022-05-13T09:59:11.227Z"
   },
   {
    "duration": 49,
    "start_time": "2022-05-13T09:59:11.884Z"
   },
   {
    "duration": 644,
    "start_time": "2022-05-13T09:59:11.934Z"
   },
   {
    "duration": 0,
    "start_time": "2022-05-13T09:59:12.581Z"
   },
   {
    "duration": 11,
    "start_time": "2022-05-13T09:59:38.004Z"
   },
   {
    "duration": 17,
    "start_time": "2022-05-13T10:00:26.969Z"
   },
   {
    "duration": 8,
    "start_time": "2022-05-13T10:00:39.532Z"
   },
   {
    "duration": 932,
    "start_time": "2022-05-13T10:00:58.139Z"
   },
   {
    "duration": 548,
    "start_time": "2022-05-13T10:00:59.073Z"
   },
   {
    "duration": 156,
    "start_time": "2022-05-13T10:00:59.623Z"
   },
   {
    "duration": 549,
    "start_time": "2022-05-13T10:00:59.783Z"
   },
   {
    "duration": 123,
    "start_time": "2022-05-13T10:01:00.334Z"
   },
   {
    "duration": 514,
    "start_time": "2022-05-13T10:01:00.460Z"
   },
   {
    "duration": 415,
    "start_time": "2022-05-13T10:01:00.976Z"
   },
   {
    "duration": 22,
    "start_time": "2022-05-13T10:01:01.397Z"
   },
   {
    "duration": 85,
    "start_time": "2022-05-13T10:01:01.421Z"
   },
   {
    "duration": 103,
    "start_time": "2022-05-13T10:01:01.509Z"
   },
   {
    "duration": 17,
    "start_time": "2022-05-13T10:01:01.614Z"
   },
   {
    "duration": 74,
    "start_time": "2022-05-13T10:01:01.633Z"
   },
   {
    "duration": 10,
    "start_time": "2022-05-13T10:01:01.710Z"
   },
   {
    "duration": 270,
    "start_time": "2022-05-13T10:01:01.722Z"
   },
   {
    "duration": 25,
    "start_time": "2022-05-13T10:01:02.006Z"
   },
   {
    "duration": 538,
    "start_time": "2022-05-13T10:01:02.033Z"
   },
   {
    "duration": 515,
    "start_time": "2022-05-13T10:01:02.575Z"
   },
   {
    "duration": 573,
    "start_time": "2022-05-13T10:01:03.092Z"
   },
   {
    "duration": 50,
    "start_time": "2022-05-13T10:01:03.667Z"
   },
   {
    "duration": 42,
    "start_time": "2022-05-13T10:01:03.719Z"
   },
   {
    "duration": 315,
    "start_time": "2022-05-13T10:01:03.763Z"
   },
   {
    "duration": 617,
    "start_time": "2022-05-13T10:01:04.081Z"
   },
   {
    "duration": 49,
    "start_time": "2022-05-13T10:01:04.704Z"
   },
   {
    "duration": 570,
    "start_time": "2022-05-13T10:01:04.755Z"
   },
   {
    "duration": 11,
    "start_time": "2022-05-13T10:01:05.327Z"
   },
   {
    "duration": 1042,
    "start_time": "2022-05-13T10:05:49.760Z"
   },
   {
    "duration": 712,
    "start_time": "2022-05-13T10:05:50.804Z"
   },
   {
    "duration": 233,
    "start_time": "2022-05-13T10:05:51.523Z"
   },
   {
    "duration": 707,
    "start_time": "2022-05-13T10:05:51.758Z"
   },
   {
    "duration": 151,
    "start_time": "2022-05-13T10:05:52.473Z"
   },
   {
    "duration": 644,
    "start_time": "2022-05-13T10:05:52.631Z"
   },
   {
    "duration": 446,
    "start_time": "2022-05-13T10:05:53.281Z"
   },
   {
    "duration": 30,
    "start_time": "2022-05-13T10:05:53.736Z"
   },
   {
    "duration": 65,
    "start_time": "2022-05-13T10:05:53.772Z"
   },
   {
    "duration": 151,
    "start_time": "2022-05-13T10:05:53.839Z"
   },
   {
    "duration": 22,
    "start_time": "2022-05-13T10:05:53.993Z"
   },
   {
    "duration": 106,
    "start_time": "2022-05-13T10:05:54.020Z"
   },
   {
    "duration": 95,
    "start_time": "2022-05-13T10:05:54.130Z"
   },
   {
    "duration": 276,
    "start_time": "2022-05-13T10:05:54.230Z"
   },
   {
    "duration": 27,
    "start_time": "2022-05-13T10:05:54.511Z"
   },
   {
    "duration": 590,
    "start_time": "2022-05-13T10:05:54.540Z"
   },
   {
    "duration": 660,
    "start_time": "2022-05-13T10:05:55.139Z"
   },
   {
    "duration": 589,
    "start_time": "2022-05-13T10:05:55.811Z"
   },
   {
    "duration": 50,
    "start_time": "2022-05-13T10:05:56.407Z"
   },
   {
    "duration": 116,
    "start_time": "2022-05-13T10:05:56.463Z"
   },
   {
    "duration": 426,
    "start_time": "2022-05-13T10:05:56.582Z"
   },
   {
    "duration": 685,
    "start_time": "2022-05-13T10:05:57.013Z"
   },
   {
    "duration": 60,
    "start_time": "2022-05-13T10:05:57.702Z"
   },
   {
    "duration": 672,
    "start_time": "2022-05-13T10:05:57.765Z"
   },
   {
    "duration": 26,
    "start_time": "2022-05-13T10:05:58.443Z"
   },
   {
    "duration": 918,
    "start_time": "2022-05-13T17:12:01.768Z"
   },
   {
    "duration": 535,
    "start_time": "2022-05-13T17:12:02.689Z"
   },
   {
    "duration": 153,
    "start_time": "2022-05-13T17:12:03.226Z"
   },
   {
    "duration": 598,
    "start_time": "2022-05-13T17:12:03.382Z"
   },
   {
    "duration": 126,
    "start_time": "2022-05-13T17:12:03.982Z"
   },
   {
    "duration": 371,
    "start_time": "2022-05-13T17:12:04.109Z"
   },
   {
    "duration": 297,
    "start_time": "2022-05-13T17:12:04.482Z"
   },
   {
    "duration": 12,
    "start_time": "2022-05-13T17:12:04.781Z"
   },
   {
    "duration": 15,
    "start_time": "2022-05-13T17:12:04.795Z"
   },
   {
    "duration": 54,
    "start_time": "2022-05-13T17:12:04.813Z"
   },
   {
    "duration": 8,
    "start_time": "2022-05-13T17:12:04.869Z"
   },
   {
    "duration": 33,
    "start_time": "2022-05-13T17:12:04.879Z"
   },
   {
    "duration": 8,
    "start_time": "2022-05-13T17:12:04.914Z"
   },
   {
    "duration": 273,
    "start_time": "2022-05-13T17:12:04.923Z"
   },
   {
    "duration": 27,
    "start_time": "2022-05-13T17:12:05.198Z"
   },
   {
    "duration": 575,
    "start_time": "2022-05-13T17:12:05.227Z"
   },
   {
    "duration": 575,
    "start_time": "2022-05-13T17:12:05.804Z"
   },
   {
    "duration": 711,
    "start_time": "2022-05-13T17:12:06.382Z"
   },
   {
    "duration": 48,
    "start_time": "2022-05-13T17:12:07.095Z"
   },
   {
    "duration": 44,
    "start_time": "2022-05-13T17:12:07.145Z"
   },
   {
    "duration": 351,
    "start_time": "2022-05-13T17:12:07.191Z"
   },
   {
    "duration": 648,
    "start_time": "2022-05-13T17:12:07.544Z"
   },
   {
    "duration": 49,
    "start_time": "2022-05-13T17:12:08.195Z"
   },
   {
    "duration": 540,
    "start_time": "2022-05-13T17:12:08.247Z"
   },
   {
    "duration": 14,
    "start_time": "2022-05-13T17:12:08.789Z"
   },
   {
    "duration": 18,
    "start_time": "2022-05-13T17:19:52.778Z"
   },
   {
    "duration": 18,
    "start_time": "2022-05-13T17:20:36.285Z"
   },
   {
    "duration": 833,
    "start_time": "2022-05-13T17:27:31.134Z"
   },
   {
    "duration": 422,
    "start_time": "2022-05-13T17:27:31.969Z"
   },
   {
    "duration": 114,
    "start_time": "2022-05-13T17:27:32.393Z"
   },
   {
    "duration": 426,
    "start_time": "2022-05-13T17:27:32.509Z"
   },
   {
    "duration": 92,
    "start_time": "2022-05-13T17:27:32.937Z"
   },
   {
    "duration": 428,
    "start_time": "2022-05-13T17:27:33.030Z"
   },
   {
    "duration": 317,
    "start_time": "2022-05-13T17:27:33.467Z"
   },
   {
    "duration": 11,
    "start_time": "2022-05-13T17:27:33.786Z"
   },
   {
    "duration": 9,
    "start_time": "2022-05-13T17:27:33.800Z"
   },
   {
    "duration": 69,
    "start_time": "2022-05-13T17:27:33.813Z"
   },
   {
    "duration": 11,
    "start_time": "2022-05-13T17:27:33.884Z"
   },
   {
    "duration": 34,
    "start_time": "2022-05-13T17:27:33.896Z"
   },
   {
    "duration": 8,
    "start_time": "2022-05-13T17:27:33.932Z"
   },
   {
    "duration": 223,
    "start_time": "2022-05-13T17:27:33.942Z"
   },
   {
    "duration": 19,
    "start_time": "2022-05-13T17:27:34.167Z"
   },
   {
    "duration": 421,
    "start_time": "2022-05-13T17:27:34.188Z"
   },
   {
    "duration": 401,
    "start_time": "2022-05-13T17:27:34.612Z"
   },
   {
    "duration": 445,
    "start_time": "2022-05-13T17:27:35.015Z"
   },
   {
    "duration": 35,
    "start_time": "2022-05-13T17:27:35.461Z"
   },
   {
    "duration": 18,
    "start_time": "2022-05-13T17:27:35.497Z"
   },
   {
    "duration": 281,
    "start_time": "2022-05-13T17:27:35.517Z"
   },
   {
    "duration": 461,
    "start_time": "2022-05-13T17:27:35.800Z"
   },
   {
    "duration": 35,
    "start_time": "2022-05-13T17:27:36.266Z"
   },
   {
    "duration": 470,
    "start_time": "2022-05-13T17:27:36.303Z"
   },
   {
    "duration": 12,
    "start_time": "2022-05-13T17:27:36.775Z"
   }
  ],
  "kernelspec": {
   "display_name": "Python 3 (ipykernel)",
   "language": "python",
   "name": "python3"
  },
  "language_info": {
   "codemirror_mode": {
    "name": "ipython",
    "version": 3
   },
   "file_extension": ".py",
   "mimetype": "text/x-python",
   "name": "python",
   "nbconvert_exporter": "python",
   "pygments_lexer": "ipython3",
   "version": "3.7.8"
  },
  "toc": {
   "base_numbering": 1,
   "nav_menu": {
    "height": "164px",
    "width": "273px"
   },
   "number_sections": true,
   "sideBar": true,
   "skip_h1_title": true,
   "title_cell": "Table of Contents",
   "title_sidebar": "Contents",
   "toc_cell": false,
   "toc_position": {},
   "toc_section_display": true,
   "toc_window_display": false
  }
 },
 "nbformat": 4,
 "nbformat_minor": 2
}
