{
 "cells": [
  {
   "cell_type": "markdown",
   "id": "3e107dde",
   "metadata": {},
   "source": [
    "**Описание**\n",
    "\n",
    "Для металлургического комбината ООО «Так закаляем сталь» необходимо провести исследование температуры обработки стали, в зависимости от процессов и компонентов, используемых в подготовки целевого химического состава и оптимальной температуры плавки.\n",
    "\n",
    "Под компонентами мы рассматриваем: данные о проволочных материалах, данные о сыпучих материалах, данные о электродах. Под процессами мы подразумеваем: данные о температуре и данные о продувке сплава газом.\n",
    "\n",
    "Основная цель компании- это сокращение издержек на электроэнергию, путем выбора оптимальной температуры плавления."
   ]
  },
  {
   "cell_type": "markdown",
   "id": "a3e3a84c",
   "metadata": {},
   "source": [
    "**План реализации проекта:**\n",
    "\n",
    "**Подготовка и очистка данных**\n",
    "\n",
    "На данном этапе планируется подготовить данные для построение модели. В этот этап войдут:\n",
    "\n",
    "- Загрузка и сборка общего датасета\n",
    "- Проверка данных на корректность типа данных\n",
    "- Поиск пропущенных данных и дублирующих данных\n",
    "- Оценка распределения данных и выбросов\n",
    "- Определения значимых показателей для модели (возможно поищем корреляцию)\n",
    "- Удаление неинформативных признаков\n",
    "- Подготовка features и target\n",
    "\n",
    "**Обучение модели и тестирование модели**\n",
    "\n",
    "На данном этапе предполагается провести тренировку нескольких моделей с подбором гиперпараметров.  \n",
    "Валидировать модели и провести сравнение с константоной моделью.  \n",
    "Результатом данного этапа- результирующая таблица в основными показателями моделей и результатами полученными при валидации.  \n",
    "После выбора наиболее подходящей модели, провести проверку работоспособности на тестовой выборке.\n",
    "\n",
    "**Отчёт**\n",
    "\n",
    "Описать полученные результаты и подготовить предложение по оптимизации потребления электроэнергии."
   ]
  },
  {
   "cell_type": "markdown",
   "id": "2e7e9842",
   "metadata": {},
   "source": [
    "**Первичный EDA**"
   ]
  },
  {
   "cell_type": "code",
   "execution_count": 1,
   "id": "827f760c",
   "metadata": {},
   "outputs": [],
   "source": [
    "# import pandas as pd\n",
    "# import os\n",
    "\n",
    "# for l in os.listdir('C:/Users/elve/Desktop/Обучение/data/final/'):\n",
    "#      path=os.path.join('C:/Users/elve/Desktop/Обучение/data/final/',l)\n",
    "#      try:\n",
    "#          data=pd.read_csv(path, sep=',')\n",
    "#      except:\n",
    "#          data=pd.read_csv(path, sep=',')\n",
    "        \n",
    "#      data.info()\n",
    "#      print()\n",
    "#      print('Кол-во  уникальных партий:',len(data['key'].unique()))\n",
    "#      print()\n"
   ]
  },
  {
   "cell_type": "markdown",
   "id": "defa07d0",
   "metadata": {},
   "source": [
    "<b>Вывод:</b>  \n",
    "Первичный анализ структуры таблицы выявил явные ошибки:\n",
    "* Формат полей \n",
    "* Название полей\n",
    "* Пропуски данных в полях\n",
    "* Разное кол-во партий (ключевое поле для связывания данных)\n",
    "* Избыточность данных (таблицы отражающие только времменые показатели)"
   ]
  },
  {
   "cell_type": "markdown",
   "id": "3f8371ab",
   "metadata": {},
   "source": [
    "**Подготовка и очистка данных**"
   ]
  },
  {
   "cell_type": "code",
   "execution_count": 2,
   "id": "def821e7",
   "metadata": {},
   "outputs": [
    {
     "name": "stderr",
     "output_type": "stream",
     "text": [
      "\n",
      
     ]
    }
   ],
   "source": [
    "import pandas as pd\n",
    "import matplotlib.pyplot as plt\n",
    "import numpy as np\n",
    "import seaborn as sns\n",
    "import matplotlib.pyplot as plt\n",
    "from datetime import datetime\n",
    "from sklearn.model_selection import train_test_split\n",
    "from sklearn.linear_model import LinearRegression\n",
    "from sklearn.model_selection import GridSearchCV\n",
    "from sklearn.ensemble import RandomForestRegressor\n",
    "from sklearn.metrics import mean_squared_error\n",
    "from sklearn.model_selection import cross_val_score\n",
    "from sklearn.metrics import mean_absolute_error\n",
    "from catboost import CatBoostRegressor\n",
    "from lightgbm import LGBMRegressor\n",
    "from sklearn. linear_model import Ridge\n",
    "from sklearn. linear_model import RidgeCV\n",
    "from sklearn. model_selection import RepeatedKFold\n",
    "from sklearn.preprocessing import StandardScaler\n",
    "import warnings\n",
    "warnings.filterwarnings(\"ignore\")"
   ]
  },
  {
   "cell_type": "code",
   "execution_count": 3,
   "id": "d202cf06",
   "metadata": {},
   "outputs": [],
   "source": [
    "def control_data(data_frame):\n",
    "    print('ОПИСАНИЕ ТАБЛИЦЫ:')\n",
    "    temp = data_frame.copy() \n",
    "# проверяем дубликаты\n",
    "    print('Кол-во дубликатов:',temp.duplicated().sum())\n",
    "    list_c=[f\"{c[1]}\" for c in enumerate(data_frame.columns)]\n",
    "    print('')\n",
    "    print(temp.info())\n",
    "    for col_l in list_c:\n",
    "        print('-------------------------')\n",
    "        print(col_l, temp[col_l].sort_values().unique())\n",
    "        print(col_l,': кол-во NaN',temp[col_l].isna().sum(),', процент NaN', round(temp[col_l].isna().sum()/len(temp)*100, 2),'%')\n",
    "    print('-------------------------')\n",
    "    print('кол-во уникальных ключей',len(data_frame['key'].unique()))\n",
    "    "
   ]
  },
  {
   "cell_type": "code",
   "execution_count": 4,
   "id": "d92a4e4e",
   "metadata": {},
   "outputs": [],
   "source": [
    "\n",
    "try:\n",
    "    data_arc=pd.read_csv('C:/Users/elve/Desktop/Обучение/data/final/data_arc.csv', sep=',')\n",
    "except:\n",
    "    data_arc=pd.read_csv('/datasets/final_steel/data_arc.csv', sep=',')\n"
   ]
  },
  {
   "cell_type": "code",
   "execution_count": 5,
   "id": "379b1650",
   "metadata": {},
   "outputs": [
    {
     "name": "stdout",
     "output_type": "stream",
     "text": [
      "ОПИСАНИЕ ТАБЛИЦЫ:\n",
      "Кол-во дубликатов: 0\n",
      "\n",
      "<class 'pandas.core.frame.DataFrame'>\n",
      "RangeIndex: 14876 entries, 0 to 14875\n",
      "Data columns (total 5 columns):\n",
      " #   Column                Non-Null Count  Dtype  \n",
      "---  ------                --------------  -----  \n",
      " 0   key                   14876 non-null  int64  \n",
      " 1   Начало нагрева дугой  14876 non-null  object \n",
      " 2   Конец нагрева дугой   14876 non-null  object \n",
      " 3   Активная мощность     14876 non-null  float64\n",
      " 4   Реактивная мощность   14876 non-null  float64\n",
      "dtypes: float64(2), int64(1), object(2)\n",
      "memory usage: 581.2+ KB\n",
      "None\n",
      "-------------------------\n",
      "key [   1    2    3 ... 3239 3240 3241]\n",
      "key : кол-во NaN 0 , процент NaN 0.0 %\n",
      "-------------------------\n",
      "Начало нагрева дугой ['2019-05-03 11:02:14' '2019-05-03 11:07:28' '2019-05-03 11:11:44' ...\n",
      " '2019-09-01 04:16:41' '2019-09-01 04:31:51' '2019-09-01 04:34:47']\n",
      "Начало нагрева дугой : кол-во NaN 0 , процент NaN 0.0 %\n",
      "-------------------------\n",
      "Конец нагрева дугой ['2019-05-03 11:06:02' '2019-05-03 11:10:33' '2019-05-03 11:14:36' ...\n",
      " '2019-09-01 04:19:45' '2019-09-01 04:32:48' '2019-09-01 04:36:08']\n",
      "Конец нагрева дугой : кол-во NaN 0 , процент NaN 0.0 %\n",
      "-------------------------\n",
      "Активная мощность [0.03000194 0.03018816 0.0301905  ... 3.15076178 3.15627646 3.73159611]\n",
      "Активная мощность : кол-во NaN 0 , процент NaN 0.0 %\n",
      "-------------------------\n",
      "Реактивная мощность [-7.15504924e+02  2.08063126e-02  2.11541653e-02 ...  2.45995915e+00\n",
      "  2.50420606e+00  2.67638755e+00]\n",
      "Реактивная мощность : кол-во NaN 0 , процент NaN 0.0 %\n",
      "-------------------------\n",
      "кол-во уникальных ключей 3214\n"
     ]
    }
   ],
   "source": [
    "control_data(data_arc)"
   ]
  },
  {
   "cell_type": "markdown",
   "id": "fb9b1eaf",
   "metadata": {},
   "source": [
    "<b>Вывод:</b> В таблице data_arc отсутсвуют пропуски и дубликаты, но есть проблема с типом данных у полей с датами  и необходимо  сделать ренайм столбцов.\n"
   ]
  },
  {
   "cell_type": "code",
   "execution_count": 6,
   "id": "fa378c52",
   "metadata": {},
   "outputs": [],
   "source": [
    "data_arc.rename(columns={'Начало нагрева дугой': 'start_arc_heat', 'Конец нагрева дугой': 'finish_ark_heat',\n",
    "                        'Активная мощность':'activ_power','Реактивная мощность':'reactiv_power'}, inplace=True)\n",
    "data_arc['start_arc_heat']=pd.to_datetime(data_arc['start_arc_heat'])\n",
    "data_arc['finish_ark_heat']=pd.to_datetime(data_arc['finish_ark_heat'])"
   ]
  },
  {
   "cell_type": "code",
   "execution_count": 7,
   "id": "e0449b28",
   "metadata": {},
   "outputs": [
    {
     "name": "stdout",
     "output_type": "stream",
     "text": [
      "<class 'pandas.core.frame.DataFrame'>\n",
      "RangeIndex: 14876 entries, 0 to 14875\n",
      "Data columns (total 5 columns):\n",
      " #   Column           Non-Null Count  Dtype         \n",
      "---  ------           --------------  -----         \n",
      " 0   key              14876 non-null  int64         \n",
      " 1   start_arc_heat   14876 non-null  datetime64[ns]\n",
      " 2   finish_ark_heat  14876 non-null  datetime64[ns]\n",
      " 3   activ_power      14876 non-null  float64       \n",
      " 4   reactiv_power    14876 non-null  float64       \n",
      "dtypes: datetime64[ns](2), float64(2), int64(1)\n",
      "memory usage: 581.2 KB\n"
     ]
    }
   ],
   "source": [
    "data_arc.info()"
   ]
  },
  {
   "cell_type": "code",
   "execution_count": 8,
   "id": "9c4383a1",
   "metadata": {},
   "outputs": [
    {
     "data": {
      "text/plain": [
       "<AxesSubplot:title={'center':'Активная мощность'}, ylabel='Frequency'>"
      ]
     },
     "execution_count": 8,
     "metadata": {},
     "output_type": "execute_result"
    },
    {
     "data": {
      "image/png": "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\n",
      "text/plain": [
       "<Figure size 1080x360 with 1 Axes>"
      ]
     },
     "metadata": {
      "needs_background": "light"
     },
     "output_type": "display_data"
    }
   ],
   "source": [
    "data_arc.plot(y='activ_power',kind='hist',bins=20,figsize=(15,5),title='Активная мощность',color = \"green\", alpha=0.5,density=True)\n"
   ]
  },
  {
   "cell_type": "code",
   "execution_count": 9,
   "id": "503fa229",
   "metadata": {},
   "outputs": [
    {
     "data": {
      "text/plain": [
       "<AxesSubplot:title={'center':'Реактивная мощность'}, ylabel='Frequency'>"
      ]
     },
     "execution_count": 9,
     "metadata": {},
     "output_type": "execute_result"
    },
    {
     "data": {
      "image/png": "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\n",
      "text/plain": [
       "<Figure size 1080x360 with 1 Axes>"
      ]
     },
     "metadata": {
      "needs_background": "light"
     },
     "output_type": "display_data"
    }
   ],
   "source": [
    "data_arc.plot(y='reactiv_power',kind='hist',bins=10,figsize=(15,5),title='Реактивная мощность',color = \"red\", alpha=0.5)"
   ]
  },
  {
   "cell_type": "code",
   "execution_count": 10,
   "id": "b4409cd1",
   "metadata": {},
   "outputs": [
    {
     "data": {
      "text/html": [
       "<div>\n",
       "<style scoped>\n",
       "    .dataframe tbody tr th:only-of-type {\n",
       "        vertical-align: middle;\n",
       "    }\n",
       "\n",
       "    .dataframe tbody tr th {\n",
       "        vertical-align: top;\n",
       "    }\n",
       "\n",
       "    .dataframe thead th {\n",
       "        text-align: right;\n",
       "    }\n",
       "</style>\n",
       "<table border=\"1\" class=\"dataframe\">\n",
       "  <thead>\n",
       "    <tr style=\"text-align: right;\">\n",
       "      <th></th>\n",
       "      <th>key</th>\n",
       "      <th>start_arc_heat</th>\n",
       "      <th>finish_ark_heat</th>\n",
       "      <th>activ_power</th>\n",
       "      <th>reactiv_power</th>\n",
       "    </tr>\n",
       "  </thead>\n",
       "  <tbody>\n",
       "    <tr>\n",
       "      <th>9780</th>\n",
       "      <td>2116</td>\n",
       "      <td>2019-07-24 00:44:48</td>\n",
       "      <td>2019-07-24 00:46:37</td>\n",
       "      <td>0.495782</td>\n",
       "      <td>-715.504924</td>\n",
       "    </tr>\n",
       "  </tbody>\n",
       "</table>\n",
       "</div>"
      ],
      "text/plain": [
       "       key      start_arc_heat     finish_ark_heat  activ_power  reactiv_power\n",
       "9780  2116 2019-07-24 00:44:48 2019-07-24 00:46:37     0.495782    -715.504924"
      ]
     },
     "execution_count": 10,
     "metadata": {},
     "output_type": "execute_result"
    }
   ],
   "source": [
    "data_arc.loc[data_arc['reactiv_power']<0]"
   ]
  },
  {
   "cell_type": "markdown",
   "id": "0960063e",
   "metadata": {},
   "source": [
    "<b>Комментарий:</b> По полю \"Реактивная мощность\" нет нормального распределения и всего одна запись отрицательная.  \n",
    "Предположительно это ошибка. Пропробуем изолировать данный \"выброс\"."
   ]
  },
  {
   "cell_type": "code",
   "execution_count": 11,
   "id": "886fd3fd",
   "metadata": {},
   "outputs": [
    {
     "data": {
      "text/html": [
       "<div>\n",
       "<style scoped>\n",
       "    .dataframe tbody tr th:only-of-type {\n",
       "        vertical-align: middle;\n",
       "    }\n",
       "\n",
       "    .dataframe tbody tr th {\n",
       "        vertical-align: top;\n",
       "    }\n",
       "\n",
       "    .dataframe thead th {\n",
       "        text-align: right;\n",
       "    }\n",
       "</style>\n",
       "<table border=\"1\" class=\"dataframe\">\n",
       "  <thead>\n",
       "    <tr style=\"text-align: right;\">\n",
       "      <th></th>\n",
       "      <th>key</th>\n",
       "      <th>start_arc_heat</th>\n",
       "      <th>finish_ark_heat</th>\n",
       "      <th>activ_power</th>\n",
       "      <th>reactiv_power</th>\n",
       "    </tr>\n",
       "  </thead>\n",
       "  <tbody>\n",
       "    <tr>\n",
       "      <th>9778</th>\n",
       "      <td>2116</td>\n",
       "      <td>2019-07-24 00:29:52</td>\n",
       "      <td>2019-07-24 00:31:54</td>\n",
       "      <td>0.433266</td>\n",
       "      <td>0.306141</td>\n",
       "    </tr>\n",
       "    <tr>\n",
       "      <th>9779</th>\n",
       "      <td>2116</td>\n",
       "      <td>2019-07-24 00:35:50</td>\n",
       "      <td>2019-07-24 00:38:05</td>\n",
       "      <td>0.620265</td>\n",
       "      <td>0.408352</td>\n",
       "    </tr>\n",
       "    <tr>\n",
       "      <th>9780</th>\n",
       "      <td>2116</td>\n",
       "      <td>2019-07-24 00:44:48</td>\n",
       "      <td>2019-07-24 00:46:37</td>\n",
       "      <td>0.495782</td>\n",
       "      <td>-715.504924</td>\n",
       "    </tr>\n",
       "    <tr>\n",
       "      <th>9781</th>\n",
       "      <td>2116</td>\n",
       "      <td>2019-07-24 00:51:51</td>\n",
       "      <td>2019-07-24 00:52:58</td>\n",
       "      <td>0.299368</td>\n",
       "      <td>0.198796</td>\n",
       "    </tr>\n",
       "  </tbody>\n",
       "</table>\n",
       "</div>"
      ],
      "text/plain": [
       "       key      start_arc_heat     finish_ark_heat  activ_power  reactiv_power\n",
       "9778  2116 2019-07-24 00:29:52 2019-07-24 00:31:54     0.433266       0.306141\n",
       "9779  2116 2019-07-24 00:35:50 2019-07-24 00:38:05     0.620265       0.408352\n",
       "9780  2116 2019-07-24 00:44:48 2019-07-24 00:46:37     0.495782    -715.504924\n",
       "9781  2116 2019-07-24 00:51:51 2019-07-24 00:52:58     0.299368       0.198796"
      ]
     },
     "execution_count": 11,
     "metadata": {},
     "output_type": "execute_result"
    }
   ],
   "source": [
    "data_arc.loc[data_arc['key']==2116]"
   ]
  },
  {
   "cell_type": "markdown",
   "id": "e7fc8718",
   "metadata": {},
   "source": [
    "<b>Комментарий:</b> Предположу, что  существует физическая зависимость между Активной и Реактивной мощностью. и на основе этого предположения расчитаю усредненное значение для \"выброса\""
   ]
  },
  {
   "cell_type": "code",
   "execution_count": 12,
   "id": "b8c254be",
   "metadata": {},
   "outputs": [
    {
     "name": "stdout",
     "output_type": "stream",
     "text": [
      "0.4509661245666667 0.30442937216666666 9780    0.334683\n",
      "Name: activ_power, dtype: float64\n"
     ]
    }
   ],
   "source": [
    "data_test=data_arc.loc[data_arc['key']==2116]\n",
    "data_test1=data_test.loc[data_test['reactiv_power']>0]\n",
    "activ=data_test1['activ_power'].mean()\n",
    "reactiv=data_test1['reactiv_power'].mean()\n",
    "x=data_test['activ_power'].loc[data_test['reactiv_power']<0]*reactiv/activ\n",
    "\n",
    "data_arc.loc[data_arc['reactiv_power']<0,['reactiv_power']]=x\n",
    "\n",
    "print(activ,reactiv,x)"
   ]
  },
  {
   "cell_type": "code",
   "execution_count": 13,
   "id": "0980ba4e",
   "metadata": {
    "scrolled": true
   },
   "outputs": [
    {
     "data": {
      "text/html": [
       "<div>\n",
       "<style scoped>\n",
       "    .dataframe tbody tr th:only-of-type {\n",
       "        vertical-align: middle;\n",
       "    }\n",
       "\n",
       "    .dataframe tbody tr th {\n",
       "        vertical-align: top;\n",
       "    }\n",
       "\n",
       "    .dataframe thead th {\n",
       "        text-align: right;\n",
       "    }\n",
       "</style>\n",
       "<table border=\"1\" class=\"dataframe\">\n",
       "  <thead>\n",
       "    <tr style=\"text-align: right;\">\n",
       "      <th></th>\n",
       "      <th>key</th>\n",
       "      <th>start_arc_heat</th>\n",
       "      <th>finish_ark_heat</th>\n",
       "      <th>activ_power</th>\n",
       "      <th>reactiv_power</th>\n",
       "    </tr>\n",
       "  </thead>\n",
       "  <tbody>\n",
       "    <tr>\n",
       "      <th>9778</th>\n",
       "      <td>2116</td>\n",
       "      <td>2019-07-24 00:29:52</td>\n",
       "      <td>2019-07-24 00:31:54</td>\n",
       "      <td>0.433266</td>\n",
       "      <td>0.306141</td>\n",
       "    </tr>\n",
       "    <tr>\n",
       "      <th>9779</th>\n",
       "      <td>2116</td>\n",
       "      <td>2019-07-24 00:35:50</td>\n",
       "      <td>2019-07-24 00:38:05</td>\n",
       "      <td>0.620265</td>\n",
       "      <td>0.408352</td>\n",
       "    </tr>\n",
       "    <tr>\n",
       "      <th>9780</th>\n",
       "      <td>2116</td>\n",
       "      <td>2019-07-24 00:44:48</td>\n",
       "      <td>2019-07-24 00:46:37</td>\n",
       "      <td>0.495782</td>\n",
       "      <td>0.334683</td>\n",
       "    </tr>\n",
       "    <tr>\n",
       "      <th>9781</th>\n",
       "      <td>2116</td>\n",
       "      <td>2019-07-24 00:51:51</td>\n",
       "      <td>2019-07-24 00:52:58</td>\n",
       "      <td>0.299368</td>\n",
       "      <td>0.198796</td>\n",
       "    </tr>\n",
       "  </tbody>\n",
       "</table>\n",
       "</div>"
      ],
      "text/plain": [
       "       key      start_arc_heat     finish_ark_heat  activ_power  reactiv_power\n",
       "9778  2116 2019-07-24 00:29:52 2019-07-24 00:31:54     0.433266       0.306141\n",
       "9779  2116 2019-07-24 00:35:50 2019-07-24 00:38:05     0.620265       0.408352\n",
       "9780  2116 2019-07-24 00:44:48 2019-07-24 00:46:37     0.495782       0.334683\n",
       "9781  2116 2019-07-24 00:51:51 2019-07-24 00:52:58     0.299368       0.198796"
      ]
     },
     "execution_count": 13,
     "metadata": {},
     "output_type": "execute_result"
    }
   ],
   "source": [
    "data_arc.loc[data_arc['key']==2116]"
   ]
  },
  {
   "cell_type": "code",
   "execution_count": 14,
   "id": "6c59803a",
   "metadata": {
    "scrolled": true
   },
   "outputs": [
    {
     "data": {
      "text/plain": [
       "<AxesSubplot:title={'center':'Реактивная мощность'}, ylabel='Frequency'>"
      ]
     },
     "execution_count": 14,
     "metadata": {},
     "output_type": "execute_result"
    },
    {
     "data": {
      "image/png": "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\n",
      "text/plain": [
       "<Figure size 1080x360 with 1 Axes>"
      ]
     },
     "metadata": {
      "needs_background": "light"
     },
     "output_type": "display_data"
    }
   ],
   "source": [
    "data_arc.plot(y='reactiv_power',kind='hist',bins=10,figsize=(15,5),title='Реактивная мощность',color = \"red\",alpha=0.5)"
   ]
  },
  {
   "cell_type": "markdown",
   "id": "7b817d12",
   "metadata": {},
   "source": [
    "<b>Вывод:</b> Проблема в данных устранена.\n",
    "              "
   ]
  },
  {
   "cell_type": "code",
   "execution_count": 15,
   "id": "63a5eee7",
   "metadata": {},
   "outputs": [
    {
     "data": {
      "text/plain": [
       "<AxesSubplot:title={'center':'Кол-во итераций в партии '}, ylabel='Frequency'>"
      ]
     },
     "execution_count": 15,
     "metadata": {},
     "output_type": "execute_result"
    },
    {
     "data": {
      "image/png": "iVBORw0KGgoAAAANSUhEUgAAA4EAAAE/CAYAAAD49cbgAAAAOXRFWHRTb2Z0d2FyZQBNYXRwbG90bGliIHZlcnNpb24zLjUuMywgaHR0cHM6Ly9tYXRwbG90bGliLm9yZy/NK7nSAAAACXBIWXMAAAsTAAALEwEAmpwYAAAiCklEQVR4nO3dfZgedX3v8ffHRBAUCjQBMQkG26ANHK0YKNVjj4oWfAztudRYH1KLjXqoDz1WBLUae5pzqLVqPT3YoqL4UDCiFVrFirRqew4SAz7wJCWKwppIgo9o2yD4PX/MrL1ZdpN7Y+6d3Z3367rua2d+85uZ7+6QLJ/8Zn6TqkKSJEmS1A/36roASZIkSdLMMQRKkiRJUo8YAiVJkiSpRwyBkiRJktQjhkBJkiRJ6hFDoCRJkiT1iCFQkqRZJsnKJE9KsiDJmiQP6LomSdL8YQiUJJHk60keP7C+JMnXkryxy7p6bAfwWuA24HnAd7otR5I0nyzsugBJ0uySZDHwKeATVXV61/X0UVXtAB7ZdR2SpPnJkUBJ0k8lOQj4JLAJOG2gfd8kb02ytf28Ncm+A9uXJ6kkP2w/dyV5wRTnmNj3miSPGdj+yCSfT/L99uuUYWhwBDPJ/ZLcmuSf2/W/bY//ownn+8t2+wOSfDjJjiQ3JXnpwHHXJ7kwyQeT3J7kqiQPG9h+RpKvttuuS/IbA9t+e7yGgbax8e8xyWOSjA1se0Zb3wsm2z/J6e32xzOJJO9Jckf7vX0nyTuTTPqPvBP6/vRnM7D9+Umub7+vryV54cC2x7Tfx6uT3Nb+7J/dbnvmhGv/7+PrAz/P9w8c6+z2e/rFgbr+eGD7x9vt/mO1JI2AIVCSNO5+wCU0d4n8TlXVwLbXACcAvww8DDie5nbFceO/T36uqu4H/NMQ5zsIOADYCLwJIMkhwMeAtwE/D7wZ+FiSnx/ieK8Efjy+UlVPbWs5evx8VXW/qnpRknsBfwt8CVgCnAi8PMlJA8dbDXwIOAT4a+CjSe7dbvsq8Gjg54A3AO9PcvgQNd5Ne7z/AWybYvvBwEuB7+3mUG9sv9eVwJOBk3fXt+3/sAnbtgNPAQ4Eng+8JcmxA9vvDyyi+ZmtBc5J8uCq+uDAMf8J+L2B9Ynf0wrgiVMV14blh+7yu5Uk/UwMgZKkcW8HfggsBR41YduzgT+qqu3trYpvAJ47sH0f4CdVddc0zxlgAfDtdv3JwI1V9b6qurOqzge+Ajx1lwdJDgNOpQmNwzgOWFxVf1RVd1TV14B3AGsG+lxZVRdW1Y/b496HJghTVR+qqq1V9ZOq+iBwI00wnq4XAlcA/zLF9tcA5wLfH/J4C2h+pt/eXcfJVNXHquqr1fgMzajwoyd0+8Oq2tlu/xjwjGme5n/RBN97SBLgjcDrpnlMSdI0GAIlSePGw9bpwLuS7Dew7QHANwbWv9G2jTsE+O5kBx24TfCHSY4Y2HQbTeh8OfAnU5xn/FxLdlP7euB/M/wEKg8EHpDke+Mf4NXAYQN9bhlfqKqfAGNtfSR5XpIvDux7DM0I2dCSHEDzs/7DKbYfQROw/nSIw/1BW8ctwOXA56dTy8A5n5jkc+1tpd8DnsTdv6/vVtWPBtYn/newu+P/CvAQ4LwpujyDJsD+w7QKlyRNiyFQkjRuQ1X9e1W9A7iZu4/WbKUJTuOOaNvGHcUUo1njtwW2n5sHNi2qqv1pbrv8cBs6J55n/Fzf3EXdRwEn0dxCOqxbgJuq6qCBzwFV9aSBPsvGF9rbR5cCW5M8kGbU8PeAn6+qg4BraEbgpuOVwMaqmhh6x/0xza2btw9xrDe1dRxAMyr7ymnWQppnPD9Mc2vuYe3xPs7dv6+Dk9x3YH3ifwe780bgjClGjMdvjX3VdOqWJE2fIVCSNJnfBdYlGb/F8XzgtUkWJ1lEc7ve+wGSLANeBnx0D891F82zdfvQhI6jkvxWkoVJnknznNvf7WL/19Lcqvpv0zjnJuAHSV6VZL807+M7JslxA30ekeQ328lJXg7sBD4H3Bcomtc4kOT5NCOB03EAzTN3G6bY/ovArwB/Nc3j3tXWtnia+0Hz89+X5vu6M8kTgV+fpN8bkuyT5NE0zw9+aMjjPw6oqprqWj4X+H9V9eVp1i1JmiZDoCTpHtpn5F4HvDvJPjSjUpuBLwNXA1e1bQB/D3waeMs0T/O9dvbI9wIvrKrvV9W3aYLFK2huCzwdeEpV3baL43y7PcbQ2pGop9JMdHMTza2p76QJo+MuAp5Jc5vrc4HfrKofV9V1wJ/R3HZ5K/CfgP874RTHtTNpjrUzgd4f+FCSpe32A4G3VdWkt9DS3Jb62vZ5xGGc3v4sv0Xzu/1PdtP/HtoRx5fSTNTzXeC3gIsndPtWu20r8AHgRVX1lSFPcTjN9ZzKwUxxa6wkae/K3Sd/kyRJSdYDv1hVz9mLx/w08NtV9fW9dcyZ1M7a+f6qWrqbrpKkWc6RQEmSZsaVwHRuWZUkaSR8CaskSTOgql7RdQ2SJIG3g0qSJElSr3g7qCRJkiT1iCFQkiRJknpk3j4TuGjRolq+fHnXZUiSJElSJ6688srbquoe746dtyFw+fLlbN68uesyJEmSJKkTSb4xWbu3g0qSJElSjxgCJUmSJKlHDIGSJEmS1COGQEmSJEnqEUOgJEmSJPWIIVCSJEmSesQQKEmSJEk9YgiUJEmSpB4xBEqSJElSjxgCJUmSJKlHDIGSJEmS1CMLuy5A0t6zfn3XFcwt/rwkSVIfORIoSZIkST1iCJQkSZKkHjEESpIkSVKPjCwEJjk3yfYk10xof0mSG5Jcm+SNA+1nJtnSbjtpoP0RSa5ut70tSUZVsyRJkiTNd6McCXwPcPJgQ5LHAquBh1bV0cCb2vaVwBrg6Hafs5MsaHd7O7AOWNF+7nZMSZIkSdLwRhYCq+qzwHcmNL8YOKuqdrZ9trftq4ELqmpnVd0EbAGOT3I4cGBVXV5VBbwXOGVUNUuSJEnSfDfTzwQeBTw6yRVJPpPkuLZ9CXDLQL+xtm1JuzyxXZIkSZK0B2b6PYELgYOBE4DjgI1JHgRM9pxf7aJ9UknW0dw6yhFHHPEzFytJkiRJ881MjwSOAR+pxibgJ8Citn3ZQL+lwNa2fekk7ZOqqnOqalVVrVq8ePFeL16SJEmS5rqZDoEfBR4HkOQoYB/gNuBiYE2SfZMcSTMBzKaq2gbcnuSEdlbQ5wEXzXDNkiRJkjRvjOx20CTnA48BFiUZA14PnAuc27424g5gbTvhy7VJNgLXAXcCp1XVXe2hXkwz0+h+wCXtR5IkSZK0B0YWAqvqWVNses4U/TcAGyZp3wwcsxdLkyRJkqTemunbQSVJkiRJHTIESpIkSVKPGAIlSZIkqUcMgZIkSZLUI4ZASZIkSeoRQ6AkSZIk9YghUJIkSZJ6xBAoSZIkST1iCJQkSZKkHjEESpIkSVKPGAIlSZIkqUcMgZIkSZLUI4ZASZIkSeoRQ6AkSZIk9YghUJIkSZJ6xBAoSZIkST1iCJQkSZKkHjEESpIkSVKPGAIlSZIkqUcMgZIkSZLUI4ZASZIkSeoRQ6AkSZIk9cjIQmCSc5NsT3LNJNv+IEklWTTQdmaSLUluSHLSQPsjklzdbntbkoyqZkmSJEma70Y5Evge4OSJjUmWAU8Abh5oWwmsAY5u9zk7yYJ289uBdcCK9nOPY0qSJEmShjOyEFhVnwW+M8mmtwCnAzXQthq4oKp2VtVNwBbg+CSHAwdW1eVVVcB7gVNGVbMkSZIkzXcz+kxgkqcB36yqL03YtAS4ZWB9rG1b0i5PbJckSZIk7YGFM3WiJPsDrwF+fbLNk7TVLtqnOsc6mltHOeKII/agSkmSJEma32ZyJPAXgCOBLyX5OrAUuCrJ/WlG+JYN9F0KbG3bl07SPqmqOqeqVlXVqsWLF+/l8iVJkiRp7puxEFhVV1fVoVW1vKqW0wS8Y6vqW8DFwJok+yY5kmYCmE1VtQ24PckJ7aygzwMumqmaJUmSJGm+GeUrIs4HLgcenGQsyalT9a2qa4GNwHXAJ4DTququdvOLgXfSTBbzVeCSUdUsSZIkSfPdyJ4JrKpn7Wb78gnrG4ANk/TbDByzV4uTJEmSpJ6a0dlBJUmSJEndMgRKkiRJUo8YAiVJkiSpRwyBkiRJktQjhkBJkiRJ6hFDoCRJkiT1iCFQkiRJknrEEChJkiRJPWIIlCRJkqQeMQRKkiRJUo8YAiVJkiSpRwyBkiRJktQjhkBJkiRJ6hFDoCRJkiT1iCFQkiRJknrEEChJkiRJPWIIlCRJkqQeMQRKkiRJUo8YAiVJkiSpRwyBkiRJktQjhkBJkiRJ6hFDoCRJkiT1iCFQkiRJknpkZCEwyblJtie5ZqDtT5N8JcmXk/xNkoMGtp2ZZEuSG5KcNND+iCRXt9veliSjqlmSJEmS5rtRjgS+Bzh5QtulwDFV9VDgX4AzAZKsBNYAR7f7nJ1kQbvP24F1wIr2M/GYkiRJkqQhjSwEVtVnge9MaPtkVd3Zrn4OWNourwYuqKqdVXUTsAU4PsnhwIFVdXlVFfBe4JRR1SxJkiRJ812XzwT+DnBJu7wEuGVg21jbtqRdntguSZIkSdoDnYTAJK8B7gQ+MN40SbfaRftUx12XZHOSzTt27PjZC5UkSZKkeWbGQ2CStcBTgGe3t3hCM8K3bKDbUmBr2750kvZJVdU5VbWqqlYtXrx47xYuSZIkSfPAjIbAJCcDrwKeVlX/OrDpYmBNkn2THEkzAcymqtoG3J7khHZW0OcBF81kzZIkSZI0nywc1YGTnA88BliUZAx4Pc1soPsCl7ZvevhcVb2oqq5NshG4juY20dOq6q72UC+mmWl0P5pnCC9BkiRJkrRHRhYCq+pZkzS/axf9NwAbJmnfDByzF0uTJEmSpN7qcnZQSZIkSdIMMwRKkiRJUo8YAiVJkiSpRwyBkiRJktQjhkBJkiRJ6hFDoCRJkiT1iCFQkiRJknrEEChJkiRJPWIIlCRJkqQeMQRKkiRJUo8YAiVJkiSpRwyBkiRJktQjhkBJkiRJ6hFDoCRJkiT1iCFQkiRJknrEEChJkiRJPWIIlCRJkqQeMQRKkiRJUo8YAiVJkiSpRwyBkiRJktQjhkBJkiRJ6hFDoCRJkiT1yMhCYJJzk2xPcs1A2yFJLk1yY/v14IFtZybZkuSGJCcNtD8iydXttrclyahqliRJkqT5bqgQmOSYPTj2e4CTJ7SdAVxWVSuAy9p1kqwE1gBHt/ucnWRBu8/bgXXAivYz8ZiSJEmSpCENOxL4l0k2JflvSQ4aZoeq+izwnQnNq4Hz2uXzgFMG2i+oqp1VdROwBTg+yeHAgVV1eVUV8N6BfSRJkiRJ0zRUCKyq/ww8G1gGbE7y10mesAfnO6yqtrXH3AYc2rYvAW4Z6DfWti1plye2S5IkSZL2wNDPBFbVjcBrgVcB/wV4W5KvJPnNvVDHZM/51S7aJz9Isi7J5iSbd+zYsRfKkiRJkqT5ZdhnAh+a5C3A9cDjgKdW1S+1y2+ZxvlubW/xpP26vW0foxllHLcU2Nq2L52kfVJVdU5VraqqVYsXL55GWZIkSZLUD8OOBP4FcBXwsKo6raquAqiqrTSjg8O6GFjbLq8FLhpoX5Nk3yRH0kwAs6m9ZfT2JCe0s4I+b2AfSZIkSdI0LRyy35OAf6uquwCS3Au4T1X9a1W9b7IdkpwPPAZYlGQMeD1wFrAxyanAzcDTAarq2iQbgeuAO4HTxs8FvJhmptH9gEvajyRJkiRpDwwbAj8FPB74Ybu+P/BJ4JFT7VBVz5pi04lT9N8AbJikfTOwJ6+okCRJkiRNMOztoPepqvEASLu8/2hKkiRJkiSNyrAh8EdJjh1fSfII4N9GU5IkSZIkaVSGvR305cCHkozPzHk48MyRVCRJkiRJGpmhQmBVfT7JQ4AH07y77ytV9eORViZJkiRJ2uuGHQkEOA5Y3u7z8CRU1XtHUpUkSZIkaSSGCoFJ3gf8AvBFYPzVDQUYAiVJkiRpDhl2JHAVsLKqapTFSJIkSZJGa9jZQa8B7j/KQiRJkiRJozfsSOAi4Lokm4Cd441V9bSRVCVJkiRJGolhQ+D6URYhSZIkSZoZw74i4jNJHgisqKpPJdkfWDDa0iRJkiRJe9tQzwQm+V3gQuCv2qYlwEdHVJMkSZIkaUSGnRjmNOBRwA8AqupG4NBRFSVJkiRJGo1hQ+DOqrpjfCXJQpr3BEqSJEmS5pBhQ+Bnkrwa2C/JE4APAX87urIkSZIkSaMwbAg8A9gBXA28EPg48NpRFSVJkiRJGo1hZwf9CfCO9iNJkiRJmqOGCoFJbmKSZwCr6kF7vSJJkiRJ0sgM+7L4VQPL9wGeDhyy98uRJEmSJI3SUM8EVtW3Bz7frKq3Ao8bbWmSJEmSpL1t2NtBjx1YvRfNyOABI6lIkiRJkjQyw94O+mcDy3cCXweesderkSRJkiSN1LCzgz521IVIkiRJkkZv2NtB//uutlfVm6dz0iS/D7yAZsbRq4HnA/sDHwSW0440VtV32/5nAqcCdwEvraq/n875JEmSJEmNYV8Wvwp4MbCk/bwIWEnzXOC0ng1MsgR4KbCqqo4BFgBraF5If1lVrQAua9dJsrLdfjRwMnB2kgXTOackSZIkqTHsM4GLgGOr6naAJOuBD1XVC36G8+6X5Mc0I4BbgTOBx7TbzwM+DbwKWA1cUFU7gZuSbAGOBy7fw3NLkiRJUm8NOxJ4BHDHwPodNLdtTltVfRN4E3AzsA34flV9Ejisqra1fbYBh7a7LAFuGTjEWNt2D0nWJdmcZPOOHTv2pDxJkiRJmteGDYHvAzYlWZ/k9cAVwHv35IRJDqYZ3TsSeABw3yTP2dUuk7TVZB2r6pyqWlVVqxYvXrwn5UmSJEnSvDbs7KAbklwCPLpten5VfWEPz/l44Kaq2gGQ5CPAI4FbkxxeVduSHA5sb/uPAcsG9l9Kc/uoJEmSJGmahh0JhObZvR9U1Z8DY0mO3MNz3gyckGT/JAFOBK4HLgbWtn3WAhe1yxcDa5Ls255zBbBpD88tSZIkSb027CsiXk8zQ+iDgXcD9wbeDzxquiesqiuSXAhcRfPi+S8A5wD3AzYmOZUmKD697X9tko3AdW3/06rqrumeV5IkSZI0/OygvwE8nCa4UVVbk0zr1RCDqur1wOsnNO+kGRWcrP8GYMOenk+SJEmS1Bj2dtA7qqpoJ2RJct/RlSRJkiRJGpVhQ+DGJH8FHJTkd4FPAe8YXVmSJEmSpFHY7e2g7eQtHwQeAvyA5rnA11XVpSOuTZIkSZK0l+02BFZVJfloVT0CMPhJkiRJ0hw27O2gn0ty3EgrkSRJkiSN3LCzgz4WeFGSrwM/AkIzSPjQURUmSZIkSdr7dhkCkxxRVTcDT5yheiRJkiRJI7S7kcCPAsdW1TeSfLiq/usM1CRJkiRJGpHdPROYgeUHjbIQSZIkSdLo7S4E1hTLkiRJkqQ5aHe3gz4syQ9oRgT3a5fhPyaGOXCk1UmSJEmS9qpdhsCqWjBThUiSJEmSRm/Y9wRKkiRJkuYBQ6AkSZIk9YghUJIkSZJ6xBAoSZIkST1iCJQkSZKkHjEESpIkSVKPGAIlSZIkqUcMgZIkSZLUI4ZASZIkSeoRQ6AkSZIk9UgnITDJQUkuTPKVJNcn+dUkhyS5NMmN7deDB/qfmWRLkhuSnNRFzZIkSZI0H3Q1EvjnwCeq6iHAw4DrgTOAy6pqBXBZu06SlcAa4GjgZODsJAs6qVqSJEmS5rgZD4FJDgR+DXgXQFXdUVXfA1YD57XdzgNOaZdXAxdU1c6qugnYAhw/kzVLkiRJ0nzRxUjgg4AdwLuTfCHJO5PcFzisqrYBtF8PbfsvAW4Z2H+sbZMkSZIkTVMXIXAhcCzw9qp6OPAj2ls/p5BJ2mrSjsm6JJuTbN6xY8fPXqkkSZIkzTNdhMAxYKyqrmjXL6QJhbcmORyg/bp9oP+ygf2XAlsnO3BVnVNVq6pq1eLFi0dSvCRJkiTNZTMeAqvqW8AtSR7cNp0IXAdcDKxt29YCF7XLFwNrkuyb5EhgBbBpBkuWJEmSpHljYUfnfQnwgST7AF8Dnk8TSDcmORW4GXg6QFVdm2QjTVC8Ezitqu7qpmxJkiRJmts6CYFV9UVg1SSbTpyi/wZgwyhrkiRJkqQ+6Oo9gZIkSZKkDhgCJUmSJKlHDIGSJEmS1COGQEmSJEnqEUOgJEmSJPWIIVCSJEmSesQQKEmSJEk90tXL4qWhrF/fdQWSJEnS/OJIoCRJkiT1iCFQkiRJknrEEChJkiRJPWIIlCRJkqQecWIYSb3lxEPT489LkqT5wZFASZIkSeoRQ6AkSZIk9YghUJIkSZJ6xBAoSZIkST1iCJQkSZKkHjEESpIkSVKPGAIlSZIkqUcMgZIkSZLUI4ZASZIkSeqRzkJgkgVJvpDk79r1Q5JcmuTG9uvBA33PTLIlyQ1JTuqqZkmSJEma67ocCXwZcP3A+hnAZVW1ArisXSfJSmANcDRwMnB2kgUzXKskSZIkzQudhMAkS4EnA+8caF4NnNcunwecMtB+QVXtrKqbgC3A8TNUqiRJkiTNK12NBL4VOB34yUDbYVW1DaD9emjbvgS4ZaDfWNsmSZIkSZqmGQ+BSZ4CbK+qK4fdZZK2muLY65JsTrJ5x44de1yjJEmSJM1XXYwEPgp4WpKvAxcAj0vyfuDWJIcDtF+3t/3HgGUD+y8Ftk524Ko6p6pWVdWqxYsXj6p+SZIkSZqzZjwEVtWZVbW0qpbTTPjyD1X1HOBiYG3bbS1wUbt8MbAmyb5JjgRWAJtmuGxJkiRJmhcWdl3AgLOAjUlOBW4Gng5QVdcm2QhcB9wJnFZVd3VXpiRJkiTNXZ2GwKr6NPDpdvnbwIlT9NsAbJixwiRJkiRpnuryPYGSJEmSpBlmCJQkSZKkHjEESpIkSVKPGAIlSZIkqUcMgZIkSZLUI4ZASZIkSeoRQ6AkSZIk9YghUJIkSZJ6xBAoSZIkST1iCJQkSZKkHjEESpIkSVKPGAIlSZIkqUcWdl2AJGluWL++6wrmFn9ekqTZypFASZIkSeoRQ6AkSZIk9YghUJIkSZJ6xBAoSZIkST1iCJQkSZKkHjEESpIkSVKPGAIlSZIkqUcMgZIkSZLUI4ZASZIkSeoRQ6AkSZIk9ciMh8Aky5L8Y5Lrk1yb5GVt+yFJLk1yY/v14IF9zkyyJckNSU6a6ZolSZIkab5Y2ME57wReUVVXJTkAuDLJpcBvA5dV1VlJzgDOAF6VZCWwBjgaeADwqSRHVdVdHdT+M1u/vusKJEmSJPXZjI8EVtW2qrqqXb4duB5YAqwGzmu7nQec0i6vBi6oqp1VdROwBTh+RouWJEmSpHmi02cCkywHHg5cARxWVdugCYrAoW23JcAtA7uNtW2THW9dks1JNu/YsWNkdUuSJEnSXNVZCExyP+DDwMur6ge76jpJW03WsarOqapVVbVq8eLFe6NMSZIkSZpXOgmBSe5NEwA/UFUfaZtvTXJ4u/1wYHvbPgYsG9h9KbB1pmqVJEmSpPmki9lBA7wLuL6q3jyw6WJgbbu8FrhooH1Nkn2THAmsADbNVL2SJEmSNJ90MTvoo4DnAlcn+WLb9mrgLGBjklOBm4GnA1TVtUk2AtfRzCx62lydGVSSJEmSujbjIbCq/pnJn/MDOHGKfTYAG0ZWlCRJkiT1RKezg0qSJEmSZpYhUJIkSZJ6xBAoSZIkST1iCJQkSZKkHjEESpIkSVKPGAIlSZIkqUcMgZIkSZLUI4ZASZIkSeoRQ6AkSZIk9YghUJIkSZJ6xBAoSZIkST1iCJQkSZKkHjEESpIkSVKPGAIlSZIkqUcMgZIkSZLUI4ZASZIkSeoRQ6AkSZIk9YghUJIkSZJ6xBAoSZIkST1iCJQkSZKkHjEESpIkSVKPLOy6AEmS5qP167uuYG7x5yVJM2fOjAQmOTnJDUm2JDmj63okSZIkaS6aEyEwyQLg/wBPBFYCz0qystuqJEmSJGnumSu3gx4PbKmqrwEkuQBYDVzXaVWSJGmv8HbQ6fHnJelnMVdC4BLgloH1MeBXOqpFkiSpU4ZAaXaZa38m50oIzCRtdY9OyTpgXbv6wyQ3jLSqflsE3NZ1EboHr8vs4zWZnbwus4/XZHbyusw+XpNZ6A1vmLXX5YGTNc6VEDgGLBtYXwpsndipqs4BzpmpovosyeaqWtV1Hbo7r8vs4zWZnbwus4/XZHbyusw+XpPZaa5dlzkxMQzweWBFkiOT7AOsAS7uuCZJkiRJmnPmxEhgVd2Z5PeAvwcWAOdW1bUdlyVJkiRJc86cCIEAVfVx4ONd16Gf8rbb2cnrMvt4TWYnr8vs4zWZnbwus4/XZHaaU9clVfeYX0WSJEmSNE/NlWcCJUmSJEl7gSFQ05JkWZJ/THJ9kmuTvKzrmtRIsiDJF5L8Xde1qJHkoCQXJvlK+2fmV7uuqe+S/H77d9c1Sc5Pcp+ua+qjJOcm2Z7kmoG2Q5JcmuTG9uvBXdbYN1Nckz9t//76cpK/SXJQhyX20mTXZWDbHySpJIu6qK2vpromSV6S5Ib2d8wbu6pvWIZATdedwCuq6peAE4DTkqzsuCY1XgZc33URups/Bz5RVQ8BHobXp1NJlgAvBVZV1TE0E42t6baq3noPcPKEtjOAy6pqBXBZu66Z8x7ueU0uBY6pqocC/wKcOdNFadLrQpJlwBOAm2e6IN3zmiR5LLAaeGhVHQ28qYO6psUQqGmpqm1VdVW7fDvN/9Qu6bYqJVkKPBl4Z9e1qJHkQODXgHcBVNUdVfW9TosSNBOi7ZdkIbA/k7xzVqNXVZ8FvjOheTVwXrt8HnDKTNbUd5Ndk6r6ZFXd2a5+juY9zZpBU/xZAXgLcDrg5B4zbIpr8mLgrKra2fbZPuOFTZMhUHssyXLg4cAVHZcieCvNL4OfdFyH/sODgB3Au9vbdN+Z5L5dF9VnVfVNmn+dvRnYBny/qj7ZbVUacFhVbYPmHxyBQzuuR3f3O8AlXRchSPI04JtV9aWua9FPHQU8OskVST6T5LiuC9odQ6D2SJL7AR8GXl5VP+i6nj5L8hRge1Vd2XUtupuFwLHA26vq4cCP8Pa2TrXPmK0GjgQeANw3yXO6rUqa/ZK8huZxkA90XUvfJdkfeA3wuq5r0d0sBA6meVTqlcDGJOm2pF0zBGraktybJgB+oKo+0nU94lHA05J8HbgAeFyS93dbkoAxYKyqxkfKL6QJherO44GbqmpHVf0Y+AjwyI5r0n+4NcnhAO3XWX87VR8kWQs8BXh2+V6x2eAXaP4h60vt7/2lwFVJ7t9pVRoDPlKNTTR3Zs3qCXsMgZqW9l813gVcX1Vv7roeQVWdWVVLq2o5zSQX/1BVjm50rKq+BdyS5MFt04nAdR2WpOY20BOS7N/+XXYiTtYzm1wMrG2X1wIXdViLgCQnA68CnlZV/9p1PYKqurqqDq2q5e3v/THg2PZ3jrrzUeBxAEmOAvYBbuuyoN0xBGq6HgU8l2a06Yvt50ldFyXNUi8BPpDky8AvA/+z23L6rR2VvRC4Cria5nfgOZ0W1VNJzgcuBx6cZCzJqcBZwBOS3Egz6+FZXdbYN1Nck78ADgAubX/f/2WnRfbQFNdFHZrimpwLPKh9bcQFwNrZPnKeWV6fJEmSJGkvciRQkiRJknrEEChJkiRJPWIIlCRJkqQeMQRKkiRJUo8YAiVJkiSpRwyBkiRJktQjhkBJkiRJ6hFDoCRJkiT1yP8HiqSzIvXxuOoAAAAASUVORK5CYII=\n",
      "text/plain": [
       "<Figure size 1080x360 with 1 Axes>"
      ]
     },
     "metadata": {
      "needs_background": "light"
     },
     "output_type": "display_data"
    }
   ],
   "source": [
    "data_test=data_arc.groupby('key')['activ_power'].count()\n",
    "data_test.plot(kind='hist',figsize=(15,5),title='Кол-во итераций в партии ',color = \"blue\", alpha=0.5)\n",
    "    "
   ]
  },
  {
   "cell_type": "code",
   "execution_count": 16,
   "id": "e39ce587",
   "metadata": {},
   "outputs": [
    {
     "data": {
      "text/html": [
       "<div>\n",
       "<style scoped>\n",
       "    .dataframe tbody tr th:only-of-type {\n",
       "        vertical-align: middle;\n",
       "    }\n",
       "\n",
       "    .dataframe tbody tr th {\n",
       "        vertical-align: top;\n",
       "    }\n",
       "\n",
       "    .dataframe thead th {\n",
       "        text-align: right;\n",
       "    }\n",
       "</style>\n",
       "<table border=\"1\" class=\"dataframe\">\n",
       "  <thead>\n",
       "    <tr style=\"text-align: right;\">\n",
       "      <th></th>\n",
       "      <th>sum_activ_power</th>\n",
       "      <th>sum_reactiv_power</th>\n",
       "    </tr>\n",
       "    <tr>\n",
       "      <th>key</th>\n",
       "      <th></th>\n",
       "      <th></th>\n",
       "    </tr>\n",
       "  </thead>\n",
       "  <tbody>\n",
       "    <tr>\n",
       "      <th>1</th>\n",
       "      <td>4.878147</td>\n",
       "      <td>3.183241</td>\n",
       "    </tr>\n",
       "    <tr>\n",
       "      <th>2</th>\n",
       "      <td>3.052598</td>\n",
       "      <td>1.998112</td>\n",
       "    </tr>\n",
       "    <tr>\n",
       "      <th>3</th>\n",
       "      <td>2.525882</td>\n",
       "      <td>1.599076</td>\n",
       "    </tr>\n",
       "    <tr>\n",
       "      <th>4</th>\n",
       "      <td>3.209250</td>\n",
       "      <td>2.060298</td>\n",
       "    </tr>\n",
       "    <tr>\n",
       "      <th>5</th>\n",
       "      <td>3.347173</td>\n",
       "      <td>2.252643</td>\n",
       "    </tr>\n",
       "  </tbody>\n",
       "</table>\n",
       "</div>"
      ],
      "text/plain": [
       "     sum_activ_power  sum_reactiv_power\n",
       "key                                    \n",
       "1           4.878147           3.183241\n",
       "2           3.052598           1.998112\n",
       "3           2.525882           1.599076\n",
       "4           3.209250           2.060298\n",
       "5           3.347173           2.252643"
      ]
     },
     "execution_count": 16,
     "metadata": {},
     "output_type": "execute_result"
    }
   ],
   "source": [
    "data_arc_rezult = pd.pivot_table(data_arc, index='key',values=['activ_power','reactiv_power'],aggfunc={'activ_power': np.sum,'reactiv_power': np.sum})\n",
    "data_arc_rezult.columns = ['sum_activ_power','sum_reactiv_power']\n",
    "data_arc_rezult.head()"
   ]
  },
  {
   "cell_type": "code",
   "execution_count": 17,
   "id": "42ba93db",
   "metadata": {},
   "outputs": [
    {
     "name": "stdout",
     "output_type": "stream",
     "text": [
      "sum_activ_power\n"
     ]
    },
    {
     "data": {
      "text/plain": [
       "count    3214.000000\n",
       "mean        3.103138\n",
       "std         1.397390\n",
       "min         0.186226\n",
       "25%         2.126339\n",
       "50%         2.990537\n",
       "75%         3.901147\n",
       "max        17.496497\n",
       "Name: sum_activ_power, dtype: float64"
      ]
     },
     "metadata": {},
     "output_type": "display_data"
    },
    {
     "name": "stdout",
     "output_type": "stream",
     "text": [
      "sum_reactiv_power\n"
     ]
    },
    {
     "data": {
      "text/plain": [
       "count    3214.000000\n",
       "mean        2.317546\n",
       "std         1.054194\n",
       "min         0.158247\n",
       "25%         1.599018\n",
       "50%         2.229869\n",
       "75%         2.899141\n",
       "max        12.587990\n",
       "Name: sum_reactiv_power, dtype: float64"
      ]
     },
     "metadata": {},
     "output_type": "display_data"
    },
    {
     "data": {
      "image/png": "iVBORw0KGgoAAAANSUhEUgAAA20AAAEvCAYAAADW/SmEAAAAOXRFWHRTb2Z0d2FyZQBNYXRwbG90bGliIHZlcnNpb24zLjUuMywgaHR0cHM6Ly9tYXRwbG90bGliLm9yZy/NK7nSAAAACXBIWXMAAAsTAAALEwEAmpwYAAAdWUlEQVR4nO3df6ydd30f8PeHxAsFM8UQuDNJ5qAtrQZIDcVJO6Gh69I2KaoaGKEJnVgyPJlOwWulTip0aLCSaHRrqVgKmUyNkg2MyQKMCIW2NKuLkPgRglwgCYwsJMTEsguJCy5RINlnf/jQXpx74+t7z7nnOb6vl3R1z/k+3+d5PlcfP+f6fZ/nPKe6OwAAAAzTU6ZdAAAAAEsT2gAAAAZMaAMAABgwoQ0AAGDAhDYAAIABE9oAAAAG7PRpF5AkZ511Vp933nlT2fff/M3f5OlPf/pU9s3K6dts0rfZpG+zR89mk77NJn2bPUPt2R133PGt7n72YssGEdrOO++8fP7zn5/Kvvft25f5+fmp7JuV07fZpG+zSd9mj57NJn2bTfo2e4bas6q6f6llLo8EAAAYMKENAABgwIQ2AACAARPaAAAABkxoAwAAGDChDQAAYMBOGNqq6qlV9bmq+suqurOq/uNo/K1V9c2q2j/6evmCdd5UVfdU1Ver6uJJ/gAAAACnsuV8TtujSX62u49W1YYkn6qqj4+W/UF3/97CyVX1/CRXJHlBkucm+bOq+vHufnychQMAAKwHJzzT1sccHT3dMPrqJ1nl0iR7u/vR7v56knuSXLTqSgEAANah6n6y/DWaVHVakjuS/OMk7+ru36qqtya5Ksl3knw+yW9298NV9YdJPtPd7xutuzvJx7v75uO2uSPJjiSZm5t78d69e8f2Q52Mo0ePZuPGjVPZNyunb7NJ32aTvs0ePZtN+jab9G32DLVn27Ztu6O7ty62bDmXR2Z0aeMFVXVmko9U1QuTXJ/kbTl21u1tSX4/yeuS1GKbWGSbu5LsSpKtW7f2/Pz8ckoZu3379mVa+2bl9G026dts0rfZo2ezSd9mk77Nnlns2bJC2w9195Gq2pfkkoXvZauq9yT52OjpgSTnLljtnCQPrrJOOKHtN9y+4nV3X3XhGCsBAIDxWc7dI589OsOWqvqxJD+X5CtVtXnBtFcm+fLo8S1JrqiqM6rqeUnOT/K5sVYNAACwTiznTNvmJDeO3tf2lCQ3dffHqup/VNUFOXbp431JXp8k3X1nVd2U5K4kjyW52p0jAQAAVuaEoa27v5jkRYuMv/ZJ1rk2ybWrKw0AAIATXh4JAADA9JzUjUjgVOUmJgAADJUzbQAAAAMmtAEAAAyY0AYAADBgQhsAAMCACW0AAAAD5u6RTM+ey5c/91c/OLk6AABgwJxpAwAAGDChDQAAYMCENgAAgAET2gAAAAbMjUgYr5O5uQgAAHBCzrQBAAAMmNAGAAAwYEIbAADAgAltAAAAAya0AQAADJjQBgAAMGBCGwAAwIAJbQAAAAMmtAEAAAyY0AYAADBgQhsAAMCACW0AAAADdvq0C4Bl2XP5jz5/6sXJnut/ZGjnoSO5bu6aNSwKAAAmT2jjxI4PTAAAwJoR2hiU/Q8cWda8R7Y8vuy5AAAwy04Y2qrqqUk+meSM0fybu/stVfXMJB9Mcl6S+5L8Snc/PFrnTUm2J3k8yb/t7j+ZSPUwANtvuH1V6+++6sIxVQIAwKloOTcieTTJz3b3Tya5IMklVfUzSd6Y5LbuPj/JbaPnqarnJ7kiyQuSXJLk3VV12gRqBwAAOOWdMLT1MUdHTzeMvjrJpUluHI3fmOQVo8eXJtnb3Y9299eT3JPkonEWDQAAsF4s65b/VXVaVe1PcjjJJ7r7s0nmuvtgkoy+P2c0/ewkDyxY/cBoDAAAgJNU3b38yVVnJvlIkp1JPtXdZy5Y9nB3b6qqdyX5dHe/bzS+O8mt3f2h47a1I8mOJJmbm3vx3r17V/mjrMzRo0ezcePGqex7Zjx075rt6pHvP76seT84Y1M2PPrwE8YPb5i9vw9sedbTpl3CmnG8zSZ9mz16Npv0bTbp2+wZas+2bdt2R3dvXWzZSd09sruPVNW+HHuv2qGq2tzdB6tqc46dhUuOnVk7d8Fq5yR5cJFt7UqyK0m2bt3a8/PzJ1PK2Ozbty/T2vfMOO7z0CZpuXeEPLjlsmy+/+YnjN88g5/TtvtV6+dGJI632aRvs0fPZpO+zSZ9mz2z2LMTXh5ZVc8enWFLVf1Ykp9L8pUktyS5cjTtyiQfHT2+JckVVXVGVT0vyflJPjfmugEAANaF5Zxp25zkxtEdIJ+S5Kbu/lhVfTrJTVW1Pck3krw6Sbr7zqq6KcldSR5LcnV3L++aNwAAAH7ECUNbd38xyYsWGf92kpctsc61Sa5ddXUAAADr3LLuHgkAAMB0CG0AAAADJrQBAAAMmNAGAAAwYEIbAADAgAltAAAAAya0AQAADJjQBgAAMGBCGwAAwICdPu0COPXsf+DItEsAAIBThjNtAAAAAya0AQAADJjQBgAAMGDe07Ze7bl82hUAAADL4EwbAADAgAltAAAAAya0AQAADJjQBgAAMGBCGwAAwIAJbQAAAAMmtAEAAAyYz2njlLLz0JuXPfe6uWsmWAkAAIyH0AZTtv2G21e87u6rLhxjJQAADJHLIwEAAAZMaAMAABgwoQ0AAGDAhDYAAIABE9oAAAAG7IShrarOrao/r6q7q+rOqvr10fhbq+qbVbV/9PXyBeu8qaruqaqvVtXFk/wBAAAATmXLueX/Y0l+s7u/UFXPSHJHVX1itOwPuvv3Fk6uqucnuSLJC5I8N8mfVdWPd/fj4ywcAABgPTjhmbbuPtjdXxg9/m6Su5Oc/SSrXJpkb3c/2t1fT3JPkovGUSwAAMB6c1Lvaauq85K8KMlnR0NvqKovVtV7q2rTaOzsJA8sWO1AnjzkAQAAsITq7uVNrNqY5C+SXNvdH66quSTfStJJ3pZkc3e/rqreleTT3f2+0Xq7k9za3R86bns7kuxIkrm5uRfv3bt3XD/TSTl69Gg2btw4lX1P1UP3TmzTj3x/8lfC/uCMTdnw6MOr2sbhDbP/t4Qtz3ratEs4Kev2eJtx+jZ79Gw26dts0rfZM9Sebdu27Y7u3rrYsuW8py1VtSHJh5K8v7s/nCTdfWjB8vck+djo6YEk5y5Y/ZwkDx6/ze7elWRXkmzdurXn5+eXU8rY7du3L9Pa91TtuX5im97/wJGJbfuHDm65LJvvv3lV27h57poxVTM9u1914bRLOCnr9nibcfo2e/RsNunbbNK32TOLPVvO3SMrye4kd3f3OxaMb14w7ZVJvjx6fEuSK6rqjKp6XpLzk3xufCUDAACsH8s50/aSJK9N8qWq2j8a++0kr6mqC3Ls8sj7krw+Sbr7zqq6KcldOXbnyavdORIAAGBlThjauvtTSWqRRbc+yTrXJrl2FXUxRWtxeSMAALA8J3X3SAAAANaW0AYAADBgQhsAAMCACW0AAAADJrQBAAAMmNAGAAAwYEIbAADAgAltAAAAAya0AQAADJjQBgAAMGBCGwAAwIAJbQAAAAMmtAEAAAyY0AYAADBgQhsAAMCACW0AAAADdvq0C2CM9lw+7Qpmys5Db1723OvmrplgJQAAsDRn2gAAAAZMaAMAABgwl0fCDNt+w+0rXnf3VReOsRIAACbFmTYAAIABE9oAAAAGTGgDAAAYMKENAABgwIQ2AACAARPaAAAABkxoAwAAGDChDQAAYMBOGNqq6tyq+vOquruq7qyqXx+NP7OqPlFVXxt937RgnTdV1T1V9dWquniSPwAAAMCpbDln2h5L8pvd/U+S/EySq6vq+UnemOS27j4/yW2j5xktuyLJC5JckuTdVXXaJIoHAAA41Z0wtHX3we7+wujxd5PcneTsJJcmuXE07cYkrxg9vjTJ3u5+tLu/nuSeJBeNuW4AAIB14aTe01ZV5yV5UZLPJpnr7oPJsWCX5DmjaWcneWDBagdGYwAAAJyk6u7lTazamOQvklzb3R+uqiPdfeaC5Q9396aqeleST3f3+0bju5Pc2t0fOm57O5LsSJK5ubkX7927dyw/0Mk6evRoNm7cOJV9j91D945lM498//GxbGeSfnDGpmx49OE129/hDafe3x22POtpa77PU+p4W0f0bfbo2WzSt9mkb7NnqD3btm3bHd29dbFlpy9nA1W1IcmHkry/uz88Gj5UVZu7+2BVbU5yeDR+IMm5C1Y/J8mDx2+zu3cl2ZUkW7du7fn5+eWUMnb79u3LtPY9dnuuH8tm9j9wZCzbmaSDWy7L5vtvXrP93Tx3zZrta63sftWFa77PU+p4W0f0bfbo2WzSt9mkb7NnFnu2nLtHVpLdSe7u7ncsWHRLkitHj69M8tEF41dU1RlV9bwk5yf53PhKBgAAWD+Wc6btJUlem+RLVbV/NPbbSd6e5Kaq2p7kG0lenSTdfWdV3ZTkrhy78+TV3T386+0AAAAG6IShrbs/laSWWPyyJda5Nsm1q6gLAACAnOTdIwEAAFhbQhsAAMCACW0AAAADJrQBAAAMmNAGAAAwYEIbAADAgAltAAAAAya0AQAADJjQBgAAMGBCGwAAwIAJbQAAAAMmtAEAAAyY0AYAADBgQhsAAMCACW0AAAADJrQBAAAMmNAGAAAwYEIbAADAgJ0+7QJgFuw89OZlz71u7poJVgIAwHojtJ2i9j9wZNolAAAAY+DySAAAgAET2gAAAAZMaAMAABgw72kbuj2XT7sCAABgipxpAwAAGDChDQAAYMCENgAAgAET2gAAAAbshKGtqt5bVYer6ssLxt5aVd+sqv2jr5cvWPamqrqnqr5aVRdPqnAAAID1YDln2m5Icski43/Q3ReMvm5Nkqp6fpIrkrxgtM67q+q0cRULAACw3pwwtHX3J5M8tMztXZpkb3c/2t1fT3JPkotWUR8AAMC6tpr3tL2hqr44unxy02js7CQPLJhzYDQGAADAClR3n3hS1XlJPtbdLxw9n0vyrSSd5G1JNnf366rqXUk+3d3vG83bneTW7v7QItvckWRHkszNzb1479694/mJTtLRo0ezcePGqex7WR66d0WrPfL9x8dcyLD84IxN2fDow9MuY1GHN8zG3ym2POtpa77PwR9vLErfZo+ezSZ9m036NnuG2rNt27bd0d1bF1t2+ko22N2Hfvi4qt6T5GOjpweSnLtg6jlJHlxiG7uS7EqSrVu39vz8/EpKWbV9+/ZlWvtelj3Xr2i1/Q8cGW8dA3Nwy2XZfP/N0y5jUTfPXTPtEpZl96suXPN9Dv54Y1H6Nnv0bDbp22zSt9kziz1bUWirqs3dfXD09JVJfnhnyVuS7KmqdyR5bpLzk3xu1VUCY7f9httXvO7uq9Y+8AEArFcnDG1V9YEk80nOqqoDSd6SZL6qLsixyyPvS/L6JOnuO6vqpiR3JXksydXdfWpfpwcAADBBJwxt3f2aRYZ3P8n8a5Ncu5qiAAAAOGY1d48EAABgwoQ2AACAARPaAAAABmxFd49kbWy/4fbsPHRk2mUAAABT5EwbAADAgAltAAAAAya0AQAADJjQBgAAMGBCGwAAwIAJbQAAAAMmtAEAAAyY0AYAADBgQhsAAMCACW0AAAADdvq0C1iX9ly+rGk7Dx2ZbB0AAMDgOdMGAAAwYEIbAADAgAltAAAAAya0AQAADJjQBgAAMGBCGwAAwIAJbQAAAAMmtAEAAAyY0AYAADBgQhsAAMCACW0AAAADJrQBAAAM2OnTLgBONTsPvXnZc6+bu2aClQAAcCpwpg0AAGDAThjaquq9VXW4qr68YOyZVfWJqvra6PumBcveVFX3VNVXq+riSRUOAACwHiznTNsNSS45buyNSW7r7vOT3DZ6nqp6fpIrkrxgtM67q+q0sVULAACwzpwwtHX3J5M8dNzwpUluHD2+MckrFozv7e5Hu/vrSe5JctF4SgUAAFh/qrtPPKnqvCQf6+4Xjp4f6e4zFyx/uLs3VdUfJvlMd79vNL47yce7++ZFtrkjyY4kmZube/HevXvH8OOcvKNHj2bjxo1ru9OH7l3WtEe+//iEC5ldPzhjUzY8+vC0y1i1wxvOnnYJa2rjaY/lWWf+/WmXwUmayuskq6Jns0nfZpO+zZ6h9mzbtm13dPfWxZaN++6RtcjYoqmwu3cl2ZUkW7du7fn5+TGXsjz79u3Lmu97z/XLmrb/gSOTrWOGHdxyWTbf/4S/Bcycm9fZ3SNf+oy/yqumdKyzclN5nWRV9Gw26dts0rfZM4s9W+ndIw9V1eYkGX0/PBo/kOTcBfPOSfLgyssDAABY31Ya2m5JcuXo8ZVJPrpg/IqqOqOqnpfk/CSfW12JAAAA69cJL4+sqg8kmU9yVlUdSPKWJG9PclNVbU/yjSSvTpLuvrOqbkpyV5LHklzd3d6YBQAAsEInDG3d/ZolFr1sifnXJrl2NUUBAABwzLhvRAKchJ2H3rzsudets5uWAABwzErf0wYAAMAaENoAAAAGTGgDAAAYMKENAABgwIQ2AACAARPaAAAABkxoAwAAGDChDQAAYMB8uDawprbfcPuq1t991YVjqgQAYDY40wYAADBgQhsAAMCACW0AAAADJrQBAAAMmNAGAAAwYEIbAADAgAltAAAAAya0AQAADJjQBgAAMGBCGwAAwICdPu0CgOXZeejNy5573dw1E6wEAIC15EwbAADAgAltAAAAA+bySGCmbL/h9hWvu/uqC8dYCQDA2nCmDQAAYMCENgAAgAET2gAAAAbMe9ombLH33+w8dGTtCwEAAGbSqkJbVd2X5LtJHk/yWHdvrapnJvlgkvOS3JfkV7r74dWVCQAAsD6N4/LIbd19QXdvHT1/Y5Lbuvv8JLeNngMAALACk3hP26VJbhw9vjHJKyawDwAAgHVhtaGtk/xpVd1RVTtGY3PdfTBJRt+fs8p9AAAArFvV3Stfueq53f1gVT0nySeS7ExyS3efuWDOw929aZF1dyTZkSRzc3Mv3rt374rrWI2jR49m48aNE9v+/d/+3hPGnvODb05sf+vFD87YlA2PeqvkOBzecPaa7WvjaY/l6OPTu//Rlmc9bWr7nmWTfp1k/PRsNunbbNK32TPUnm3btu2OBW85+xGr+t9Tdz84+n64qj6S5KIkh6pqc3cfrKrNSQ4vse6uJLuSZOvWrT0/P7+aUlZs3759meS+F7975Dsntr/14uCWy7L5/punXcYp4ea5a9ZsXy99xl/lk9999prt73i7X3Xh1PY9yyb9Osn46dls0rfZpG+zZxZ7tuLQVlVPT/KU7v7u6PEvJPmdJLckuTLJ20ffPzqOQgdvz+WLDru9PwAAsBqrOdM2l+QjVfXD7ezp7j+uqtuT3FRV25N8I8mrV18mAADA+rTi0Nbd9yb5yUXGv53kZaspCgAAgGMmcct/AAAAxkRoAwAAGDChDQAAYMCENgAAgAET2gAAAAZMaAMAABiw1XxOG8BM2X7D7VPZ7+6rLpzKfgGAU4PQ9mT2XD7tCgAAgHXO5ZEAAAADJrQBAAAMmMsjl2H/A0emXQJMzM5Db1723OvmrplgJQAALMaZNgAAgAET2gAAAAZMaAMAABgwoQ0AAGDAhDYAAIABE9oAAAAGTGgDAAAYMKENAABgwHy4NrBsPoh7ZbbfcPuK19191YVjrAQAmEVCGzARiwW8g0+9LDsPvfMJ4wIeAMDSXB4JAAAwYEIbAADAgAltAAAAA+Y9bQAD5iYmAIDQBswMd68EANYjl0cCAAAMmDNtwNSdzBk0lm81l1Yu9NJnfO+kt+XSTAAYn4mFtqq6JMk7k5yW5I+6++2T2hfA8VxKCQCcKiYS2qrqtCTvSvLzSQ4kub2qbunuuyaxPwCGxQ1UAGB8JnWm7aIk93T3vUlSVXuTXJpEaAMGZ1Jn5YZw2ed6O4s4rktC19qKg+qeyxcff+rFyZ7rf3TsVz+4sn0AMHWTCm1nJ3lgwfMDSX56QvsCYI1NMpDu/92Vr7tzkbFJBe2hBOL9Dxx5wtgjWx5/wvh1Yw600zwjOotncn9Y85P9G3tky2XZ/7v/6W+fL/w35gw0/KjVvA689rzx1bFWqrvHv9GqVye5uLv/9ej5a5Nc1N07F8zZkWTH6OlPJPnq2AtZnrOSfGtK+2bl9G026dts0rfZo2ezSd9mk77NnqH2bEt3P3uxBZM603YgybkLnp+T5MGFE7p7V5JdE9r/slXV57t767Tr4OTo22zSt9mkb7NHz2aTvs0mfZs9s9izSX1O2+1Jzq+q51XV30tyRZJbJrQvAACAU9ZEzrR192NV9YYkf5Jjt/x/b3ffOYl9AQAAnMom9jlt3X1rklsntf0xmvolmqyIvs0mfZtN+jZ79Gw26dts0rfZM3M9m8iNSAAAABiPSb2nDQAAgDFYN6Gtqi6pqq9W1T1V9cZFlldV/dfR8i9W1U9No07+TlWdW1V/XlV3V9WdVfXri8yZr6q/rqr9o6//MI1a+VFVdV9VfWnUk88vstzxNiBV9RMLjqH9VfWdqvqN4+Y41gagqt5bVYer6ssLxp5ZVZ+oqq+Nvm9aYt0n/T3I5CzRt/9SVV8ZvQZ+pKrOXGLdJ309ZXKW6Ntbq+qbC14LX77Euo63KViiZx9c0K/7qmr/EusO+lhbF5dHVtVpSf5Pkp/PsY8juD3Ja7r7rgVzXp5jn8v68hz7IPB3drcPBJ+iqtqcZHN3f6GqnpHkjiSvOK5v80n+XXf/0nSqZDFVdV+Srd296GegON6Ga/R6+c0kP93d9y8Yn49jbeqq6qVJjib57939wtHYf07yUHe/ffSfw03d/VvHrXfC34NMzhJ9+4Uk/3t087bfTZLj+zaad1+e5PWUyVmib29NcrS7f+9J1nO8TcliPTtu+e8n+evu/p1Flt2XAR9r6+VM20VJ7unue7v7+0n2Jrn0uDmX5liDu7s/k+TMUWhgSrr7YHd/YfT4u0nuTnL2dKtiTBxvw/WyJP93YWBjOLr7k0keOm740iQ3jh7fmOQVi6y6nN+DTMhifevuP+3ux0ZPP5Njn2nLgCxxvC2H421KnqxnVVVJfiXJB9a0qDFZL6Ht7CQPLHh+IE/8z/9y5jAlVXVekhcl+ewii/9pVf1lVX28ql6wtpWxhE7yp1V1R1XtWGS54224rsjSv9Aca8M0190Hk2N/7ErynEXmOOaG7XVJPr7EshO9nrL23jC6rPW9S1yO7Hgbpn+W5FB3f22J5YM+1tZLaKtFxo6/LnQ5c5iCqtqY5ENJfqO7v3Pc4i8k2dLdP5nkuiT/a43LY3Ev6e6fSvKLSa4eXa6wkONtgKrq7yX55ST/c5HFjrXZ5pgbqKr690keS/L+Jaac6PWUtXV9kn+U5IIkB5P8/iJzHG/D9Jo8+Vm2QR9r6yW0HUhy7oLn5yR5cAVzWGNVtSHHAtv7u/vDxy/v7u9099HR41uTbKiqs9a4TI7T3Q+Ovh9O8pEcu1RkIcfbMP1iki9096HjFzjWBu3QDy8vHn0/vMgcx9wAVdWVSX4pyb/oJW4ysIzXU9ZQdx/q7se7+/8leU8W74fjbWCq6vQk/zzJB5eaM/Rjbb2EttuTnF9Vzxv9JfmKJLccN+eWJP/y2E3t6mdy7E2KB9e6UP7O6Nrj3Unu7u53LDHnH4zmpaouyrF/099euyo5XlU9fXTjmFTV05P8QpIvHzfN8TZMS/4V0rE2aLckuXL0+MokH11kznJ+D7KGquqSJL+V5Je7+3tLzFnO6ylr6Lj3X78yi/fD8TY8P5fkK919YLGFs3CsnT7tAtbC6M5Mb0jyJ0lOS/Le7r6zqn5ttPy/Jbk1x+5kd0+S7yX5V9Oql7/1kiSvTfKlBbdn/e0k/zD5275dluTfVNVjSR5JcsVSf61kzcwl+cjo//enJ9nT3X/seBu2qnpajt3p7PULxhb2zLE2AFX1gSTzSc6qqgNJ3pLk7UluqqrtSb6R5NWjuc9N8kfd/fKlfg9O42dYj5bo25uSnJHkE6PXy890968t7FuWeD2dwo+wLi3Rt/mquiDHLne8L6PXTMfbMCzWs+7enUXerz1rx9q6uOU/AADArFovl0cCAADMJKENAABgwIQ2AACAARPaAAAABkxoAwAAGDChDQAAYMCENgAAgAET2gAAAAbs/wMgANuKydhoVAAAAABJRU5ErkJggg==\n",
      "text/plain": [
       "<Figure size 1080x360 with 1 Axes>"
      ]
     },
     "metadata": {
      "needs_background": "light"
     },
     "output_type": "display_data"
    }
   ],
   "source": [
    "for column in data_arc_rezult.columns:\n",
    "        print(column)\n",
    "        display(data_arc_rezult[column].describe())\n",
    "        data_arc_rezult[column].hist(bins=50, figsize=(15,5), alpha=0.7)"
   ]
  },
  {
   "cell_type": "markdown",
   "id": "07d36fd1",
   "metadata": {},
   "source": [
    "<b>Вывод по таблице data_arc и data_arc_rezult:</b>  \n",
    "- Проведена работа по приведению таблицы в нормальный вид (название и формат полей).  \n",
    "- Убран отрицательный выброс в распределение Реактивной мощности.\n",
    "- Подготовлена таблица с суммой по Активной и Реактивной мощности для каждой партии.\n",
    "- Основные метрики таблицы имеют нормальное распределние.  \n",
    "- Среднее кол-во итераций в партии =5.  \n",
    "\n",
    "    "
   ]
  },
  {
   "cell_type": "code",
   "execution_count": 18,
   "id": "4ce5060a",
   "metadata": {},
   "outputs": [],
   "source": [
    "try:\n",
    "    data_bulk=pd.read_csv('C:/Users/elve/Desktop/Обучение/data/final/data_bulk.csv', sep=',')\n",
    "except:\n",
    "    data_bulk=pd.read_csv('/datasets/final_steel/data_bulk.csv', sep=',')\n"
   ]
  },
  {
   "cell_type": "code",
   "execution_count": 19,
   "id": "3ec0f81d",
   "metadata": {
    "scrolled": true
   },
   "outputs": [
    {
     "name": "stdout",
     "output_type": "stream",
     "text": [
      "ОПИСАНИЕ ТАБЛИЦЫ:\n",
      "Кол-во дубликатов: 0\n",
      "\n",
      "<class 'pandas.core.frame.DataFrame'>\n",
      "RangeIndex: 3129 entries, 0 to 3128\n",
      "Data columns (total 16 columns):\n",
      " #   Column   Non-Null Count  Dtype  \n",
      "---  ------   --------------  -----  \n",
      " 0   key      3129 non-null   int64  \n",
      " 1   Bulk 1   252 non-null    float64\n",
      " 2   Bulk 2   22 non-null     float64\n",
      " 3   Bulk 3   1298 non-null   float64\n",
      " 4   Bulk 4   1014 non-null   float64\n",
      " 5   Bulk 5   77 non-null     float64\n",
      " 6   Bulk 6   576 non-null    float64\n",
      " 7   Bulk 7   25 non-null     float64\n",
      " 8   Bulk 8   1 non-null      float64\n",
      " 9   Bulk 9   19 non-null     float64\n",
      " 10  Bulk 10  176 non-null    float64\n",
      " 11  Bulk 11  177 non-null    float64\n",
      " 12  Bulk 12  2450 non-null   float64\n",
      " 13  Bulk 13  18 non-null     float64\n",
      " 14  Bulk 14  2806 non-null   float64\n",
      " 15  Bulk 15  2248 non-null   float64\n",
      "dtypes: float64(15), int64(1)\n",
      "memory usage: 391.2 KB\n",
      "None\n",
      "-------------------------\n",
      "key [   1    2    3 ... 3239 3240 3241]\n",
      "key : кол-во NaN 0 , процент NaN 0.0 %\n",
      "-------------------------\n",
      "Bulk 1 [ 10.  16.  19.  21.  22.  24.  26.  27.  28.  29.  30.  31.  32.  33.\n",
      "  34.  36.  37.  38.  39.  41.  43.  44.  46.  47.  48.  50.  51.  52.\n",
      "  54.  58.  60.  62.  63.  65.  67.  69.  73.  74.  75.  78.  83.  90.\n",
      "  92.  94. 104. 118. 185.  nan]\n",
      "Bulk 1 : кол-во NaN 2877 , процент NaN 91.95 %\n",
      "-------------------------\n",
      "Bulk 2 [228. 232. 233. 236. 242. 246. 247. 248. 249. 254. 257. 258. 270. 282.\n",
      " 325.  nan]\n",
      "Bulk 2 : кол-во NaN 3107 , процент NaN 99.3 %\n",
      "-------------------------\n",
      "Bulk 3 [  6.  17.  18.  19.  20.  21.  22.  23.  24.  25.  26.  27.  28.  29.\n",
      "  30.  31.  32.  34.  36.  37.  38.  39.  40.  41.  42.  43.  44.  45.\n",
      "  46.  47.  48.  49.  50.  51.  52.  53.  54.  55.  56.  57.  58.  59.\n",
      "  60.  61.  62.  63.  64.  65.  66.  67.  68.  69.  70.  71.  72.  73.\n",
      "  74.  75.  76.  77.  78.  79.  80.  81.  82.  83.  84.  85.  86.  87.\n",
      "  88.  89.  90.  91.  92.  93.  94.  95.  96.  97.  98.  99. 100. 101.\n",
      " 102. 103. 104. 105. 106. 107. 108. 109. 110. 111. 112. 113. 114. 115.\n",
      " 116. 117. 118. 119. 120. 121. 122. 123. 124. 125. 126. 127. 128. 129.\n",
      " 130. 131. 132. 133. 134. 135. 136. 137. 138. 139. 140. 141. 142. 143.\n",
      " 144. 145. 146. 147. 148. 149. 150. 151. 152. 153. 154. 155. 156. 157.\n",
      " 158. 159. 162. 163. 164. 165. 166. 167. 168. 169. 170. 171. 172. 173.\n",
      " 174. 175. 176. 177. 178. 180. 181. 182. 183. 184. 185. 186. 187. 188.\n",
      " 189. 190. 191. 193. 194. 196. 197. 198. 199. 200. 201. 202. 203. 204.\n",
      " 206. 207. 208. 209. 210. 211. 212. 213. 214. 215. 220. 221. 222. 224.\n",
      " 225. 226. 227. 230. 231. 232. 234. 235. 236. 237. 239. 240. 242. 243.\n",
      " 244. 245. 246. 248. 249. 250. 251. 252. 255. 256. 258. 259. 260. 261.\n",
      " 262. 263. 264. 265. 266. 267. 268. 269. 270. 272. 278. 280. 282. 284.\n",
      " 285. 286. 289. 290. 291. 292. 294. 295. 297. 298. 300. 301. 302. 303.\n",
      " 304. 305. 308. 310. 315. 316. 323. 324. 334. 335. 341. 342. 343. 349.\n",
      " 352. 353. 354. 356. 358. 372. 379. 395. 405. 421. 445. 454.  nan]\n",
      "Bulk 3 : кол-во NaN 1831 , процент NaN 58.52 %\n",
      "-------------------------\n",
      "Bulk 4 [ 12.  13.  16.  17.  19.  20.  21.  22.  23.  24.  25.  26.  27.  28.\n",
      "  30.  31.  32.  33.  34.  36.  37.  38.  39.  40.  41.  42.  43.  44.\n",
      "  45.  46.  47.  48.  49.  50.  51.  52.  53.  54.  55.  56.  57.  58.\n",
      "  59.  60.  61.  62.  63.  64.  65.  66.  67.  68.  69.  70.  71.  72.\n",
      "  73.  74.  75.  76.  77.  78.  79.  80.  81.  82.  83.  84.  85.  86.\n",
      "  87.  88.  89.  90.  91.  92.  93.  94.  95.  96.  97.  98.  99. 100.\n",
      " 101. 102. 103. 104. 105. 106. 107. 108. 109. 110. 111. 112. 113. 114.\n",
      " 115. 116. 117. 118. 119. 120. 121. 122. 123. 124. 125. 126. 127. 128.\n",
      " 129. 130. 131. 132. 133. 134. 135. 136. 137. 138. 139. 140. 141. 142.\n",
      " 143. 144. 145. 146. 147. 148. 149. 150. 151. 152. 153. 154. 155. 156.\n",
      " 157. 158. 159. 160. 161. 162. 163. 164. 165. 166. 167. 168. 170. 171.\n",
      " 172. 174. 175. 176. 177. 179. 180. 181. 182. 184. 185. 186. 188. 189.\n",
      " 190. 192. 193. 194. 195. 196. 198. 199. 200. 201. 202. 203. 205. 206.\n",
      " 208. 212. 214. 218. 220. 221. 222. 223. 224. 228. 231. 233. 238. 239.\n",
      " 241. 242. 243. 255. 256. 258. 265. 271. 276. 281.  nan]\n",
      "Bulk 4 : кол-во NaN 2115 , процент NaN 67.59 %\n",
      "-------------------------\n",
      "Bulk 5 [ 11.  18.  19.  22.  23.  28.  31.  33.  34.  42.  43.  50.  54.  61.\n",
      "  62.  70.  72.  73.  74.  77.  78.  79.  82.  83.  84.  86.  88.  90.\n",
      "  94. 102. 103. 104. 112. 120. 121. 122. 124. 128. 132. 136. 142. 144.\n",
      " 146. 148. 160. 180. 182. 184. 189. 197. 234. 242. 256. 293. 603.  nan]\n",
      "Bulk 5 : кол-во NaN 3052 , процент NaN 97.54 %\n",
      "-------------------------\n",
      "Bulk 6 [ 17.  23.  24.  25.  26.  27.  28.  30.  32.  34.  36.  37.  38.  40.\n",
      "  42.  43.  44.  45.  46.  47.  48.  49.  50.  51.  53.  54.  55.  56.\n",
      "  57.  58.  59.  60.  61.  62.  63.  64.  65.  66.  67.  68.  69.  70.\n",
      "  71.  72.  73.  74.  75.  76.  77.  78.  79.  80.  81.  82.  83.  84.\n",
      "  85.  86.  87.  88.  89.  90.  91.  92.  93.  94.  95.  96.  97.  98.\n",
      "  99. 100. 101. 102. 103. 104. 105. 106. 107. 108. 109. 110. 111. 112.\n",
      " 114. 115. 116. 117. 118. 120. 121. 123. 124. 125. 126. 127. 128. 130.\n",
      " 131. 132. 134. 135. 136. 137. 138. 139. 140. 141. 142. 143. 144. 145.\n",
      " 146. 149. 150. 151. 152. 153. 155. 156. 157. 158. 159. 160. 162. 163.\n",
      " 164. 165. 166. 167. 168. 170. 172. 173. 174. 175. 176. 177. 178. 179.\n",
      " 180. 181. 182. 184. 185. 186. 187. 189. 190. 193. 194. 195. 196. 198.\n",
      " 202. 203. 204. 206. 208. 211. 212. 215. 218. 219. 220. 224. 226. 230.\n",
      " 231. 232. 234. 236. 240. 247. 250. 252. 254. 255. 261. 262. 264. 265.\n",
      " 266. 271. 272. 278. 280. 283. 284. 285. 288. 294. 295. 297. 321. 325.\n",
      " 326. 330. 350. 357. 359. 407. 414. 498. 503.  nan]\n",
      "Bulk 6 : кол-во NaN 2553 , процент NaN 81.59 %\n",
      "-------------------------\n",
      "Bulk 7 [ 47.  50.  54.  75.  92. 108. 155. 178. 208. 250. 252. 296. 298. 306.\n",
      " 340. 352. 392. 405. 406. 462. 506. 507. 553. 576. 772.  nan]\n",
      "Bulk 7 : кол-во NaN 3104 , процент NaN 99.2 %\n",
      "-------------------------\n",
      "Bulk 8 [49. nan]\n",
      "Bulk 8 : кол-во NaN 3128 , процент NaN 99.97 %\n",
      "-------------------------\n",
      "Bulk 9 [ 63.  65.  66.  68.  70.  71.  74. 108. 111. 147.  nan]\n",
      "Bulk 9 : кол-во NaN 3110 , процент NaN 99.39 %\n",
      "-------------------------\n",
      "Bulk 10 [ 24.  26.  28.  30.  32.  34.  36.  38.  45.  46.  47.  49.  50.  52.\n",
      "  54.  55.  56.  57.  58.  59.  61.  62.  63.  64.  65.  67.  68.  70.\n",
      "  72.  73.  75.  76.  77.  79.  80.  81.  82.  83.  84.  85.  86.  87.\n",
      "  88.  89.  90.  91.  92.  93.  95.  96.  97.  98.  99. 100. 101. 102.\n",
      " 103. 104. 105. 106. 107. 108. 110. 111. 113. 114. 115. 117. 118. 122.\n",
      " 124. 125. 126. 128. 147. 154. 159.  nan]\n",
      "Bulk 10 : кол-во NaN 2953 , процент NaN 94.38 %\n",
      "-------------------------\n",
      "Bulk 11 [  8.  14.  16.  17.  18.  19.  20.  21.  22.  23.  24.  25.  26.  28.\n",
      "  29.  31.  32.  34.  37.  38.  39.  40.  41.  42.  43.  46.  47.  48.\n",
      "  49.  50.  51.  53.  54.  56.  58.  62.  64.  66.  67.  68.  69.  71.\n",
      "  72.  74.  76.  81.  82.  83.  84.  87.  88.  89.  90.  91.  93.  94.\n",
      "  95.  96.  97.  98. 100. 102. 103. 104. 106. 107. 114. 120. 124. 126.\n",
      " 128. 131. 133. 136. 139. 140. 144. 146. 148. 151. 152. 154. 156. 158.\n",
      " 162. 172. 174. 176. 178. 185. 188. 198. 200. 204. 205. 206. 211. 225.\n",
      " 226. 242. 313.  nan]\n",
      "Bulk 11 : кол-во NaN 2952 , процент NaN 94.34 %\n",
      "-------------------------\n",
      "Bulk 12 [  53.   54.   55.   56.   58.   88.  102.  103.  104.  105.  106.  107.\n",
      "  108.  109.  110.  111.  115.  116.  123.  124.  125.  126.  127.  128.\n",
      "  129.  135.  136.  137.  138.  139.  143.  145.  152.  153.  154.  155.\n",
      "  156.  157.  158.  159.  160.  162.  165.  166.  167.  168.  170.  173.\n",
      "  174.  175.  176.  177.  178.  180.  181.  182.  183.  184.  185.  186.\n",
      "  187.  188.  189.  191.  192.  195.  201.  202.  203.  204.  205.  206.\n",
      "  207.  208.  209.  210.  211.  212.  213.  214.  215.  216.  217.  219.\n",
      "  220.  221.  222.  223.  224.  225.  226.  227.  228.  229.  230.  232.\n",
      "  233.  234.  235.  236.  238.  239.  240.  242.  244.  247.  248.  250.\n",
      "  252.  253.  254.  255.  256.  257.  258.  259.  260.  261.  262.  263.\n",
      "  264.  265.  266.  267.  268.  270.  271.  272.  273.  274.  275.  276.\n",
      "  277.  279.  280.  281.  282.  283.  284.  285.  286.  289.  290.  291.\n",
      "  296.  301.  302.  303.  304.  305.  306.  307.  308.  309.  310.  311.\n",
      "  312.  313.  314.  316.  319.  321.  322.  325.  329.  330.  331.  332.\n",
      "  333.  334.  335.  337.  338.  340.  342.  343.  345.  346.  349.  351.\n",
      "  352.  356.  358.  359.  360.  361.  362.  363.  364.  366.  368.  369.\n",
      "  370.  371.  372.  373.  375.  377.  378.  379.  380.  381.  382.  383.\n",
      "  385.  387.  388.  390.  391.  392.  393.  394.  395.  397.  399.  401.\n",
      "  402.  404.  406.  407.  408.  409.  410.  411.  412.  413.  414.  415.\n",
      "  416.  417.  418.  419.  420.  421.  422.  423.  424.  425.  428.  430.\n",
      "  431.  432.  433.  434.  435.  436.  437.  439.  440.  441.  443.  444.\n",
      "  445.  446.  447.  452.  453.  456.  457.  458.  459.  460.  461.  462.\n",
      "  463.  464.  465.  466.  467.  468.  469.  470.  473.  474.  475.  478.\n",
      "  479.  481.  483.  484.  496.  501.  507.  508.  509.  510.  511.  512.\n",
      "  513.  514.  515.  516.  517.  518.  519.  520.  521.  522.  528.  542.\n",
      "  550.  558.  561.  562.  563.  564.  567.  570.  572.  583.  586.  597.\n",
      "  609.  616.  618.  620.  622.  624.  647.  666.  667.  668.  669.  671.\n",
      "  685.  733.  774.  775.  833.  853. 1849.   nan]\n",
      "Bulk 12 : кол-во NaN 679 , процент NaN 21.7 %\n",
      "-------------------------\n",
      "Bulk 13 [151. 152. 153. 154. 155. 156. 157. 159. 202. 204. 206. 214. 278. 305.\n",
      "  nan]\n",
      "Bulk 13 : кол-во NaN 3111 , процент NaN 99.42 %\n",
      "-------------------------\n",
      "Bulk 14 [ 16.  18.  24.  29.  48.  52.  64.  68.  69.  72.  76.  78.  80.  82.\n",
      "  83.  84.  85.  86.  88.  89.  90.  91.  92.  93.  94.  95.  96.  97.\n",
      "  98.  99. 100. 101. 102. 103. 104. 105. 106. 107. 108. 109. 110. 111.\n",
      " 112. 113. 114. 115. 116. 117. 118. 119. 120. 121. 122. 123. 124. 125.\n",
      " 126. 127. 128. 129. 130. 131. 132. 133. 134. 135. 136. 137. 138. 139.\n",
      " 140. 141. 142. 143. 144. 145. 146. 147. 148. 149. 150. 151. 152. 153.\n",
      " 154. 155. 156. 157. 158. 159. 160. 161. 162. 163. 164. 165. 166. 167.\n",
      " 168. 169. 170. 171. 173. 174. 176. 177. 178. 179. 180. 181. 182. 183.\n",
      " 184. 185. 186. 187. 188. 189. 190. 191. 192. 193. 194. 195. 196. 197.\n",
      " 198. 199. 200. 201. 202. 203. 204. 205. 206. 207. 208. 209. 210. 211.\n",
      " 212. 213. 214. 215. 216. 217. 218. 219. 220. 221. 222. 223. 224. 225.\n",
      " 226. 227. 228. 229. 230. 231. 232. 233. 234. 235. 236. 237. 238. 239.\n",
      " 240. 241. 242. 243. 244. 245. 246. 247. 248. 249. 250. 251. 252. 253.\n",
      " 254. 255. 256. 257. 258. 259. 260. 261. 262. 263. 264. 265. 266. 267.\n",
      " 268. 269. 270. 271. 272. 274. 275. 276. 277. 278. 279. 280. 281. 282.\n",
      " 283. 284. 286. 288. 289. 290. 291. 292. 294. 295. 296. 297. 298. 299.\n",
      " 300. 301. 302. 303. 304. 305. 306. 307. 308. 309. 310. 311. 312. 313.\n",
      " 315. 316. 317. 320. 321. 324. 325. 327. 330. 333. 336. 337. 342. 347.\n",
      " 348. 349. 351. 352. 353. 354. 356. 366. 371. 375. 376. 379. 385. 389.\n",
      " 390. 398. 400. 401. 402. 403. 405. 406. 407. 417. 428. 446. 450. 452.\n",
      " 504. 552. 601. 636.  nan]\n",
      "Bulk 14 : кол-во NaN 323 , процент NaN 10.32 %\n",
      "-------------------------\n",
      "Bulk 15 [  1.  10.  44.  50.  51.  52.  53.  54.  55.  56.  58.  59.  63.  64.\n",
      "  65.  69.  70.  72.  73.  74.  75.  85.  86.  87.  88.  99. 100. 101.\n",
      " 102. 103. 104. 105. 106. 107. 108. 109. 110. 111. 112. 113. 114. 115.\n",
      " 116. 117. 118. 123. 124. 125. 126. 127. 128. 134. 136. 137. 145. 147.\n",
      " 148. 149. 150. 151. 152. 153. 154. 155. 156. 157. 158. 159. 160. 161.\n",
      " 163. 164. 166. 167. 168. 169. 170. 171. 172. 174. 175. 176. 177. 178.\n",
      " 179. 181. 183. 185. 186. 187. 188. 189. 190. 191. 192. 193. 194. 196.\n",
      " 197. 198. 199. 200. 201. 202. 203. 204. 205. 206. 207. 208. 209. 210.\n",
      " 211. 212. 213. 214. 215. 216. 217. 218. 219. 220. 221. 222. 223. 224.\n",
      " 225. 226. 227. 228. 229. 230. 231. 232. 233. 234. 235. 236. 237. 238.\n",
      " 239. 240. 246. 251. 258. 260. 261. 262. 264. 266. 290. 295. 320. 322.\n",
      " 337. 405.  nan]\n",
      "Bulk 15 : кол-во NaN 881 , процент NaN 28.16 %\n",
      "-------------------------\n",
      "кол-во уникальных ключей 3129\n"
     ]
    }
   ],
   "source": [
    "control_data(data_bulk)"
   ]
  },
  {
   "cell_type": "markdown",
   "id": "966bf052",
   "metadata": {},
   "source": [
    "<b>Комментарий:</b>  \n",
    "Приведем названия полей к нижнему регистру.  \n",
    "В таблице большая доля пропусков.  \n",
    "Скорей всего это связано с технологическими процессами.  \n",
    "Оставим наиболее часто используемые сыпучие добавки.  \n",
    "Кол-во партий соизмеримо с предыдущей таблицей."
   ]
  },
  {
   "cell_type": "code",
   "execution_count": 20,
   "id": "248c48c5",
   "metadata": {},
   "outputs": [],
   "source": [
    "data_bulk.columns=data_bulk.columns.str.lower()\n",
    "data_bulk.columns=data_bulk.columns.str.replace(\" \", \"_\")"
   ]
  },
  {
   "cell_type": "code",
   "execution_count": 21,
   "id": "b91e4c04",
   "metadata": {},
   "outputs": [
    {
     "data": {
      "text/html": [
       "<div>\n",
       "<style scoped>\n",
       "    .dataframe tbody tr th:only-of-type {\n",
       "        vertical-align: middle;\n",
       "    }\n",
       "\n",
       "    .dataframe tbody tr th {\n",
       "        vertical-align: top;\n",
       "    }\n",
       "\n",
       "    .dataframe thead th {\n",
       "        text-align: right;\n",
       "    }\n",
       "</style>\n",
       "<table border=\"1\" class=\"dataframe\">\n",
       "  <thead>\n",
       "    <tr style=\"text-align: right;\">\n",
       "      <th></th>\n",
       "      <th>name</th>\n",
       "      <th>value</th>\n",
       "    </tr>\n",
       "  </thead>\n",
       "  <tbody>\n",
       "    <tr>\n",
       "      <th>0</th>\n",
       "      <td>key</td>\n",
       "      <td>0.00</td>\n",
       "    </tr>\n",
       "    <tr>\n",
       "      <th>14</th>\n",
       "      <td>bulk_14</td>\n",
       "      <td>10.32</td>\n",
       "    </tr>\n",
       "    <tr>\n",
       "      <th>12</th>\n",
       "      <td>bulk_12</td>\n",
       "      <td>21.70</td>\n",
       "    </tr>\n",
       "    <tr>\n",
       "      <th>15</th>\n",
       "      <td>bulk_15</td>\n",
       "      <td>28.16</td>\n",
       "    </tr>\n",
       "    <tr>\n",
       "      <th>3</th>\n",
       "      <td>bulk_3</td>\n",
       "      <td>58.52</td>\n",
       "    </tr>\n",
       "    <tr>\n",
       "      <th>4</th>\n",
       "      <td>bulk_4</td>\n",
       "      <td>67.59</td>\n",
       "    </tr>\n",
       "    <tr>\n",
       "      <th>6</th>\n",
       "      <td>bulk_6</td>\n",
       "      <td>81.59</td>\n",
       "    </tr>\n",
       "    <tr>\n",
       "      <th>1</th>\n",
       "      <td>bulk_1</td>\n",
       "      <td>91.95</td>\n",
       "    </tr>\n",
       "    <tr>\n",
       "      <th>11</th>\n",
       "      <td>bulk_11</td>\n",
       "      <td>94.34</td>\n",
       "    </tr>\n",
       "    <tr>\n",
       "      <th>10</th>\n",
       "      <td>bulk_10</td>\n",
       "      <td>94.38</td>\n",
       "    </tr>\n",
       "    <tr>\n",
       "      <th>5</th>\n",
       "      <td>bulk_5</td>\n",
       "      <td>97.54</td>\n",
       "    </tr>\n",
       "    <tr>\n",
       "      <th>7</th>\n",
       "      <td>bulk_7</td>\n",
       "      <td>99.20</td>\n",
       "    </tr>\n",
       "    <tr>\n",
       "      <th>2</th>\n",
       "      <td>bulk_2</td>\n",
       "      <td>99.30</td>\n",
       "    </tr>\n",
       "    <tr>\n",
       "      <th>9</th>\n",
       "      <td>bulk_9</td>\n",
       "      <td>99.39</td>\n",
       "    </tr>\n",
       "    <tr>\n",
       "      <th>13</th>\n",
       "      <td>bulk_13</td>\n",
       "      <td>99.42</td>\n",
       "    </tr>\n",
       "    <tr>\n",
       "      <th>8</th>\n",
       "      <td>bulk_8</td>\n",
       "      <td>99.97</td>\n",
       "    </tr>\n",
       "  </tbody>\n",
       "</table>\n",
       "</div>"
      ],
      "text/plain": [
       "       name  value\n",
       "0       key   0.00\n",
       "14  bulk_14  10.32\n",
       "12  bulk_12  21.70\n",
       "15  bulk_15  28.16\n",
       "3    bulk_3  58.52\n",
       "4    bulk_4  67.59\n",
       "6    bulk_6  81.59\n",
       "1    bulk_1  91.95\n",
       "11  bulk_11  94.34\n",
       "10  bulk_10  94.38\n",
       "5    bulk_5  97.54\n",
       "7    bulk_7  99.20\n",
       "2    bulk_2  99.30\n",
       "9    bulk_9  99.39\n",
       "13  bulk_13  99.42\n",
       "8    bulk_8  99.97"
      ]
     },
     "execution_count": 21,
     "metadata": {},
     "output_type": "execute_result"
    }
   ],
   "source": [
    "\n",
    "control_bulk=pd.DataFrame(columns=['name','value'])\n",
    "for col_l in data_bulk.columns:\n",
    "    control_bulk = control_bulk.append({'name': col_l,'value':round(data_bulk[col_l].isna().sum()/len(data_bulk)*100, 2)}, ignore_index=True)\n",
    "    \n",
    "control_bulk.sort_values(by=['value'])"
   ]
  },
  {
   "cell_type": "code",
   "execution_count": 22,
   "id": "217360dc",
   "metadata": {},
   "outputs": [
    {
     "data": {
      "text/plain": [
       "<AxesSubplot:title={'center':'Кол-во NaN значений в bulk '}>"
      ]
     },
     "execution_count": 22,
     "metadata": {},
     "output_type": "execute_result"
    },
    {
     "data": {
      "image/png": "iVBORw0KGgoAAAANSUhEUgAAA20AAAFBCAYAAADkA0euAAAAOXRFWHRTb2Z0d2FyZQBNYXRwbG90bGliIHZlcnNpb24zLjUuMywgaHR0cHM6Ly9tYXRwbG90bGliLm9yZy/NK7nSAAAACXBIWXMAAAsTAAALEwEAmpwYAAAfm0lEQVR4nO3de7ilZX0f/O8PZoQooBwGHBl0qEGNVAM6NSS21RaNJsFD+nqYaCxJNbSXR2zSSKKtY6qJpY1Jer01b6knmhgViQlEUxWJxNc2HkCNgKhYE3FggAF1PFSQw69/rGfIZtjDzOy1Z9az13w+17WvtdZzun/3XjNrr++67+dZ1d0BAABgnA6YdQEAAADsnNAGAAAwYkIbAADAiAltAAAAIya0AQAAjJjQBgAAMGJCGwCMXFX9dFWdWFUHV9VLl/G4f1tVT1rivu+oqtcP959YVZuXqy4A7k5oA1gBdnxzXVXHVtVXq+rsWda1K0PdN1TV/RYse1FVXbKb+2+qqq6qZy9YtmpYtn75Kx6tbyf50ySbkzxotqUAsK8JbQArTFWtSfKRJB/s7l+ddT27YVWSV0yx/zeS/EZVHbhM9aw43f3x7j6hu4/q7l+fdT0A7FtCG8AKUlUPSPLhJJ9K8pIFyw+qqt+tquuGn9+tqoMWrF8/jE59d/i5o6petJM2dtz2iqp64oL1P1FVn66qbcPtT+yi7P+Y5FeG2hdr7/eq6utV9e2quqyq/tEOm3wwyQ+S/Pwu2tl+vHdW1TeH+j5SVccOy+8xha+qPl5VvzDcf2hV/UVV3VxVNw3HecAOv5NVO3l8/6p6a1Vtqaprq+r120NmVf1CVX18h3Y3b/+dDqOJf7hg3ZuHY//w8PiuaYjD4z9f2PYi/f/bqvr+8NxduxvTKf9BVX1h+J29vaoOvpe676rr3lTVy4djrtvVtgDsmtAGsHIckuR/ZDJy9S+6uxese3WSU5KclORHkzwuyWsWrN/+en//7j4kyf+/G+09IMmhSc5L8p+SpKqOSPKBJP85yZFJ3pTkA1V15L0c59IklyT5lZ2s//RQ9xFJ/ijJe7cHh0En+bdJXltVq3ej7t9MckySo5Ncm+Rf78Y+SVJJfiuT6Yc/kuS4JJuGdXcOtzv7u3luktuT/HCSk5P8ZJJFQ/G9FlB1QpKfupf1T0zy6N041NOG5/l5Sf5zVR12L9s+P8lTkjw0ycNy9383e6yq/m2SX0jyhO52nhvAMhDaAFaO30/y3STrkjx+h3XPT/Ib3X1jd29N8rokL1iw/j5J7uzuO/awzUpyYJKbh8c/k+Tq7v6D7r69u9+V5ItJnraL4/y7JC8bpnbeTXf/YXffPBzvt5MclOThO2xzYZKt2Y0g1N1XdvcPhtqT5LO72mfY7yvdfVF33zr8Dt+U5AnD6hsyGe37yR33q6pjMglaZ3b397r7xiS/k2Tj7rS7g99K8u8XW1FVleTsTH6Xu2tVJufD/eBetvl/u/vr3f2NJG9I8nN7cPwdS3xTJgHwnwy/QwCWwaJTKwAYpe3h6AVJ3lpVj+7u7w/rHpTkawu2/VrufsGKI5J8c7GDVtV3Fzx85IL7N2US9m5L8rM7aWd7W8feW+HdfUVVvT/JWUmu2qH9X84kjD0ok1G1w5IctchhXpPk7Un+4N7aGo75/kzCw1VJ3rhg1YOq6lsLHh+S5C3DPkdnMoL4jzIZYTwgw++su2+tqpck+a/DRVUWfuj5kCSrk2yZ5KpkWP/1BducskO79xj5qqofS/KIJM9N8tZFuvWcTMLzX+yk2wv9aVXdmeR+SX6tu2+5l20X1rnjv5s98YAkZyR5bndvW+IxAFiEkTaAleMN3X1Ld/+3JNfk7iMy12USHrZ78LBsu4cl+fJiB+3uQxb8XLNg1VHdfd8kz0jyx1X1Q4u0s72ta3ej/tcm+aUsCHjD+WuvyiSQHN7dD0iyLX83SrawzouSfCXJi3fVUHeflklg+UCSdyxYdV13P2D7T5JPLFj3W5mExkd392GZnEN3Vx3d/ZbuPnbYb+EUxa8nuTWT39f2Yx/W3Scu2OYTO7S78LnZ7uwkZ+1kNHR1Js/3q3bV98Ezhz48OMkrqurH72Xb4xbcX/jv5ntJ7rt9RVU9cBdtfjPJaUneXlU7jgQDMAWhDWBl+qUkZ1TV44bH70rymqpaU1VHZTKF7g+TpKqOy+TqjX+6xLbuSHL/TEbd/jzJw6rqeTW59P5zMxmde/+uDtLdX0nyniQvX7D40EzOBduaZFVV/bssMgq1wKuT7PSKmVV1QE2+z6wy+Rt3UJLv72z7HRyayfTTbw0XL/k3u7NTd2/J5OIwv11Vhw01PLSqnrCrfRf4p5ND9c5+jy9I8r+6+/N7cMxk8twlyT2mpS7wkqpaN5yv+OuZPEdJ8tdJTqyqk4ZzDDftqrHuviSTqbp/MowcArAMhDaAFai7v5pJMHt7Vd0nyeszueDH55NcnuQzw7Ik+VAmFwL5nT1s5lvD1Mn/nuRfdve27r45k9GUX85kqt6vJjmtu2/azWP+RiYjYNt9KJOLq3w5k6l5t+Tu0/Xuprv/ZyZXztyZAzO5KMi2JNcneVSSf7Wbtb0uyWOGfT+Q5H27uV+S/PNMQu0XMhlxOj/J2j3Yf23uJYwmOTyTi7Hsrj8bnrvPZ9KPD9zLtn+USej86vDz+iTp7i9n8nx9JMnVST6+swMsNIyI/mKSC6vqsXtQMwA7UXe/+BgAAABjYqQNAABgxIQ2AACAERPaAAAARkxoAwAAGLFRfLn2UUcd1evXr591GQAAADNx2WWX3dTdi35FyyhC2/r163PppZfOugwAAICZqKqv7Wyd6ZEAAAAjJrQBAACMmNAGAAAwYqM4p20xt912WzZv3pxbbrll1qXscwcffHDWrVuX1atXz7oUAABgxkYb2jZv3pxDDz0069evT1XNupx9prtz8803Z/PmzTn++ONnXQ4AADBjo50eecstt+TII4/crwJbklRVjjzyyP1yhBEAALin0Ya2JPtdYNtuf+03AABwT6MObQAAAPu7XZ7TVlVvS3Jakhu7++8Py45I8p4k65P8bZLndPc3h3W/luSFSe5I8vLu/tByFLpp03IcZe8dL0kOOeSQfPe7313+AwMAAPut3Rlpe0eSp+6w7KwkF3f3CUkuHh6nqh6ZZGOSE4d93lxVBy5btQAAAPuZXYa27v5Ykm/ssPgZSc4d7p+b5JkLlr+7u2/t7r9J8pUkj1ueUve9V73qVXnzm9981+NNmzblda97XU499dQ85jGPyaMe9ahccMEF99jvkksuyWmnnXbX45e+9KV5xzvekSS57LLL8oQnPCGPfexj85SnPCVbtmzZ6/0AAABWrqVe8v+Y7t6SJN29paqOHpYfm+QTC7bbPCy7h6o6I8kZSfLgBz94iWXsXRs3bsyZZ56ZF7/4xUmS8847Lx/84Afzyle+MocddlhuuummnHLKKXn605++WxcPue222/Kyl70sF1xwQdasWZP3vOc9efWrX523ve1te7srAACw39sbp0jti3aW+3vaFksuvdiG3X1OknOSZMOGDYtuM2snn3xybrzxxlx33XXZunVrDj/88KxduzavfOUr87GPfSwHHHBArr322txwww154AMfuMvjfelLX8oVV1yRJz/5yUmSO+64I2vXrt3b3QAAAFawpYa2G6pq7TDKtjbJjcPyzUmOW7DduiTXTVPgrD3rWc/K+eefn+uvvz4bN27MO9/5zmzdujWXXXZZVq9enfXr19/jO9VWrVqVO++8867H29d3d0488cT81V/91T7tAwAwH1bqKIF2Vm5b89bOSrXUS/5fmOT04f7pSS5YsHxjVR1UVccnOSHJp6YrcbY2btyYd7/73Tn//PPzrGc9K9u2bcvRRx+d1atX56Mf/Wi+9rWv3WOfhzzkIfnCF76QW2+9Ndu2bcvFF1+cJHn4wx+erVu33hXabrvttlx55ZX7tD8AAMDKsjuX/H9XkicmOaqqNid5bZI3Jjmvql6Y5Jokz06S7r6yqs5L8oUktyd5SXffsRyFzip9n3jiifnOd76TY489NmvXrs3zn//8PO1pT8uGDRty0kkn5RGPeMQ99jnuuOPynOc8J49+9KNzwgkn5OSTT06S3Oc+98n555+fl7/85dm2bVtuv/32nHnmmTnxxBP3dbcAAIAVYpehrbt/bierTt3J9m9I8oZpihqbyy+//K77Rx111E6nNy78jrazzz47Z5999j22Oemkk/Kxj31s+YsEAADm0nJfiAQAYDScjwPMg6We0wYAAMA+MOrQ1j3KbwLY6/bXfgMAAPc02tB28MEH5+abb97vAkx35+abb87BBx8861IAAIARGO05bevWrcvmzZuzdevWWZeyzx188MFZt27drMsAAABGYLShbfXq1Tn++ONnXQYAAMBMjXZ6JAAAAEIbAADAqAltAAAAIzbac9oAYOzm7Yub560dgHlhpA0AAGDEhDYAAIARE9oAAABGTGgDAAAYMaENAABgxFw9EoB9xtUJAWDPGWkDAAAYMaENAABgxIQ2AACAERPaAAAARkxoAwAAGDGhDQAAYMSENgAAgBET2gAAAEZMaAMAABgxoQ0AAGDEhDYAAIARE9oAAABGTGgDAAAYMaENAABgxIQ2AACAERPaAAAARkxoAwAAGDGhDQAAYMSENgAAgBET2gAAAEZMaAMAABgxoQ0AAGDEhDYAAIARE9oAAABGTGgDAAAYMaENAABgxFbNugAAFrdp03y1AwAszVQjbVX1yqq6sqquqKp3VdXBVXVEVV1UVVcPt4cvV7EAAAD7myWHtqo6NsnLk2zo7r+f5MAkG5OcleTi7j4hycXDYwAAAJZg2nPaViX5oapaleS+Sa5L8owk5w7rz03yzCnbAAAA2G8tObR197VJ/lOSa5JsSbKtuz+c5Jju3jJssyXJ0YvtX1VnVNWlVXXp1q1bl1oGAADAXJtmeuThmYyqHZ/kQUnuV1U/v7v7d/c53b2huzesWbNmqWUAAADMtWmmRz4pyd9099buvi3J+5L8RJIbqmptkgy3N05fJgAAwP5pmtB2TZJTquq+VVVJTk1yVZILk5w+bHN6kgumKxEAAGD/teTvaevuT1bV+Uk+k+T2JJ9Nck6SQ5KcV1UvzCTYPXs5CgUAANgfTfXl2t392iSv3WHxrZmMugEAADClaS/5DwAAwF4ktAEAAIyY0AYAADBiQhsAAMCICW0AAAAjJrQBAACMmNAGAAAwYkIbAADAiAltAAAAIya0AQAAjJjQBgAAMGJCGwAAwIgJbQAAACMmtAEAAIyY0AYAADBiQhsAAMCICW0AAAAjJrQBAACMmNAGAAAwYkIbAADAiAltAAAAIya0AQAAjJjQBgAAMGJCGwAAwIgJbQAAACMmtAEAAIzYqlkXALBcNm2ar3YAABIjbQAAAKMmtAEAAIyY0AYAADBiQhsAAMCICW0AAAAjJrQBAACMmNAGAAAwYkIbAADAiAltAAAAIya0AQAAjJjQBgAAMGJCGwAAwIgJbQAAACMmtAEAAIyY0AYAADBiQhsAAMCITRXaquoBVXV+VX2xqq6qqh+vqiOq6qKqunq4PXy5igUAANjfTDvS9ntJPtjdj0jyo0muSnJWkou7+4QkFw+PAQAAWIIlh7aqOizJP07y1iTp7h9097eSPCPJucNm5yZ55nQlAgAA7L+mGWn7e0m2Jnl7VX22qt5SVfdLckx3b0mS4fboxXauqjOq6tKqunTr1q1TlAEAADC/pgltq5I8Jsnvd/fJSb6XPZgK2d3ndPeG7t6wZs2aKcoAAACYX9OEts1JNnf3J4fH52cS4m6oqrVJMtzeOF2JAAAA+68lh7buvj7J16vq4cOiU5N8IcmFSU4flp2e5IKpKgQAANiPrZpy/5cleWdV3SfJV5P8YiZB8LyqemGSa5I8e8o2gL1k06b5agcAYB5NFdq6+3NJNiyy6tRpjgsAAMDEtN/TBgAAwF4ktAEAAIyY0AYAADBiQhsAAMCICW0AAAAjJrQBAACMmNAGAAAwYkIbAADAiAltAAAAIya0AQAAjJjQBgAAMGJCGwAAwIgJbQAAACMmtAEAAIyY0AYAADBiQhsAAMCICW0AAAAjJrQBAACMmNAGAAAwYkIbAADAiAltAAAAIya0AQAAjJjQBgAAMGJCGwAAwIgJbQAAACMmtAEAAIyY0AYAADBiQhsAAMCICW0AAAAjJrQBAACMmNAGAAAwYkIbAADAiAltAAAAIya0AQAAjJjQBgAAMGJCGwAAwIgJbQAAACMmtAEAAIyY0AYAADBiQhsAAMCICW0AAAAjJrQBAACM2NShraoOrKrPVtX7h8dHVNVFVXX1cHv49GUCAADsn5ZjpO0VSa5a8PisJBd39wlJLh4eAwAAsARThbaqWpfkZ5K8ZcHiZyQ5d7h/bpJnTtMGAADA/mzakbbfTfKrSe5csOyY7t6SJMPt0YvtWFVnVNWlVXXp1q1bpywDAABgPi05tFXVaUlu7O7LlrJ/d5/T3Ru6e8OaNWuWWgYAAMBcWzXFvo9P8vSq+ukkByc5rKr+MMkNVbW2u7dU1dokNy5HoQAAAPujJY+0dfevdfe67l6fZGOSv+jun09yYZLTh81OT3LB1FUCAADsp/bG97S9McmTq+rqJE8eHgMAALAE00yPvEt3X5LkkuH+zUlOXY7jAgAA7O/2xkgbAAAAy0RoAwAAGDGhDQAAYMSENgAAgBET2gAAAEZMaAMAABgxoQ0AAGDEhDYAAIARE9oAAABGTGgDAAAYMaENAABgxIQ2AACAERPaAAAARkxoAwAAGDGhDQAAYMSENgAAgBET2gAAAEZMaAMAABgxoQ0AAGDEhDYAAIARE9oAAABGTGgDAAAYMaENAABgxIQ2AACAERPaAAAARmzVrAuAlWLTpvlqBwCAlcFIGwAAwIgJbQAAACMmtAEAAIyY0AYAADBiQhsAAMCICW0AAAAjJrQBAACMmNAGAAAwYkIbAADAiAltAAAAIya0AQAAjJjQBgAAMGJCGwAAwIgJbQAAACMmtAEAAIyY0AYAADBiq2ZdAPNr06b5agcAAGZhySNtVXVcVX20qq6qqiur6hXD8iOq6qKqunq4PXz5ygUAANi/TDM98vYkv9zdP5LklCQvqapHJjkrycXdfUKSi4fHAAAALMGSQ1t3b+nuzwz3v5PkqiTHJnlGknOHzc5N8swpawQAANhvLcuFSKpqfZKTk3wyyTHdvSWZBLskR+9knzOq6tKqunTr1q3LUQYAAMDcmTq0VdUhSf44yZnd/e3d3a+7z+nuDd29Yc2aNdOWAQAAMJemCm1VtTqTwPbO7n7fsPiGqlo7rF+b5MbpSgQAANh/TXP1yEry1iRXdfebFqy6MMnpw/3Tk1yw9PIAAAD2b9N8T9vjk7wgyeVV9blh2a8neWOS86rqhUmuSfLsqSoEAADYjy05tHX3x5PUTlafutTjAgAA8HeW5eqRAAAA7B1CGwAAwIgJbQAAACMmtAEAAIyY0AYAADBiQhsAAMCICW0AAAAjJrQBAACMmNAGAAAwYkIbAADAiAltAAAAIya0AQAAjJjQBgAAMGJCGwAAwIgJbQAAACMmtAEAAIyY0AYAADBiQhsAAMCICW0AAAAjtmrWBfB3Nm2ar3YAAIDpGWkDAAAYMaENAABgxIQ2AACAERPaAAAARkxoAwAAGDGhDQAAYMSENgAAgBET2gAAAEZMaAMAABgxoQ0AAGDEhDYAAIARE9oAAABGTGgDAAAYMaENAABgxIQ2AACAERPaAAAARkxoAwAAGDGhDQAAYMSENgAAgBET2gAAAEZMaAMAABgxoQ0AAGDEhDYAAIAR22uhraqeWlVfqqqvVNVZe6sdAACAebZXQltVHZjkvyT5qSSPTPJzVfXIvdEWAADAPNtbI22PS/KV7v5qd/8gybuTPGMvtQUAADC3qruX/6BVz0ry1O5+0fD4BUl+rLtfumCbM5KcMTx8eJIvLXsh93RUkpv2QTv70rz1SX/Gb976pD/jN2990p/xm7c+6c/4zVuf9GdpHtLdaxZbsWovNViLLLtbOuzuc5Kcs5faX1RVXdrdG/Zlm3vbvPVJf8Zv3vqkP+M3b33Sn/Gbtz7pz/jNW5/0Z/ntremRm5Mct+DxuiTX7aW2AAAA5tbeCm2fTnJCVR1fVfdJsjHJhXupLQAAgLm1V6ZHdvftVfXSJB9KcmCSt3X3lXujrT20T6dj7iPz1if9Gb9565P+jN+89Ul/xm/e+qQ/4zdvfdKfZbZXLkQCAADA8thrX64NAADA9IQ2AACAERPaAAAARmxvfU/bKFTVI5I8I8mxmXxP3HVJLuzuq2ZaGKwQVfW4JN3dn66qRyZ5apIvdvefz7i0ZVFV/727//ms61iqqvqxJFd197er6oeSnJXkMUm+kOQ3u3vbTAuEFaaq/mGSxyW5ors/POt6lqKqXp7kT7r767OuZbkM7+eOTfLJ7v7uguVP7e4Pzq6ypamqhyb52Uy+Huv2JFcneZfX7HFYcOX767r7I1X1vCQ/keSqJOd0920zqWteL0RSVa9K8nNJ3p3J98Ylk++L25jk3d39xlnVBitBVb02yU9l8uHORUl+LMklSZ6U5EPd/YbZVbfnqmrHrx2pJP8kyV8kSXc/fZ8XNaWqujLJjw5X7D0nyf9Jcn6SU4fl/2ymBS6zqvrF7n77rOtgflTVp7r7ccP9X0rykiR/kuQnk/zZSnyvUFXbknwvyf9O8q4k7+3urbOtaumGEPqSTN4wn5TkFd19wbDuM939mBmWt8eG/jwtyV8m+ekkn0vyzUxC3Iu7+5KZFUeSpKremcl7n/sm+VaSQ5K8L5O/rdXdp8+krjkObV9OcuKOaXhIz1d29wmzqWx5VdXR3X3jrOtg/lTV5Zn8gTwoyfVJ1i0Y0flkdz96lvXtqar6TCYjUG/JZOS9MnlDszFJuvsvZ1fd0lTVVd39I8P9u715qarPdfdJMytuL6iqa7r7wbOug/lRVZ/t7pOH+59O8tPdvbWq7pfkE939qNlWuOeq6rNJHpvJB2zPTfL0JJdl8nr3vu7+zgzL22PD36If7+7vVtX6TD6Y+oPu/r2Fz99Ksf1va3ffUVX3TfLn3f3EqnpwkgtWWn/mUVV9vrsfXVWrklyb5EHD81VJ/npW73/m+Zy2O5M8aJHla4d1K05VHbHDz5FJPlVVh1fVEbOub09V1WFV9VtV9QfD0PPCdW+eVV3TqKqnLrh//6p6a1V9vqr+qKqOmWVtS3B7d9/R3f8nyf/u7m8nSXd/Pyvz/9CGTN64vDrJtuHTzO9391+uxMA2uKKqfnG4/9dVtSFJquphSWYyfWNaw/+XxX4uT7LS/g/dq6r6H7OuYU8Nr2tvrKovVtXNw89Vw7IHzLq+JThg+Bt6ZCYfZG9Nku7+XibT1lai7u47u/vD3f3CTN4LvTmT6e1fnW1pS3Lg9imR3f23SZ6Y5Keq6k2ZfPi2Em0/PemgJIcmSXdfk2T1zCqaQlU9sKp+v6r+S1UdWVWbquryqjqvqtbOur4lOGAY5Dk0k9G2+w/LD8oMn6N5PqftzCQXV9XVSbbP635wkh9O8tJZFTWlm5J8bYdlxyb5TCYjB39vn1c0nbdnMo/7j5P8i6r6f5I8r7tvTXLKTCtbut9Msn1+/W8n2ZLJNIh/luS/JnnmbMpakh9U1X2H0PbY7Qur6v5ZgaGtu+9M8jtV9d7h9oas/NfAFyX5vap6TSavD39VVV/P5DXvRTOtbOmOSfKUTKYLLVRJ/te+L2c6VbWzqVuVyUj2SnNeJlOKn9jd1yeTN2xJTk/y3iRPnmFtS3H/TD7MqSRdVQ/s7uur6pCs3EBwt7qHGUcXJrlwmCmx0lxfVSd19+eSZBhxOy3J25KsuJHQTGZ7fLqqPpHkHyf5D0lSVWuSfGOWhU3hHUk+kOR+ST6a5J1JfiaT60r8f8PtSvLWJF9McmAmH/S+t6q+msl703fPqqi5nR6ZJFV1QCYnFB+byYvY5iSf7u47ZlrYElXVr2Qy3eHfdPflw7K/6e7jZ1vZ0uw4fauqXp3J/O6nJ7lopc1TT+4+RW2R/q2o6WpVddAQoHdcflSStdv/Da5UVfUzSR7f3b8+61qmVVWHZvKhzaokm7v7hhmXtGRV9dYkb+/ujy+y7o+6+3mL7DZaVXVHJueuLBYATunuFfUmuqq+1N0P39N1K80wbe2Y7v6bWdeyp6rqYd395VnXsVyqal0mMz+uX2Td47v7f86grKlU1YlJfiSTC958cdb1TGuHacZ3m8a+0t77bFdVD0qS7r5umEXwpCTXdPenZlbTPIe2eTS8eP1OJp+kvzaTubUrbYQtyeR8nEzOO7xzwbLTk/xqkkO6+yEzK26Jqmpzku1TNl6S5KE9/CfbPkd6lvUB+1ZVXZHkZ7v76kXWfb27j5tBWUtWVR9O8pEk527/cGCY+v0LSZ7c3U+aYXnADFTVX3f3jw73X9/dr1mw7vKVeG7oGM3zOW1zqbs3d/ezMxl+viiTubYr1Z8l+acLF3T3uUl+OckPZlLR9P5bJnOgD0lybpKjkrumD31udmUBM7IpO/9b+7J9WMdyeW6SI5P8ZVV9o6q+kclVZY9I8uxZFgbMzAXDlOLsENh+OMmXZlbVnDHStoINc9Mf2t1X1JxdCnve+pPMZ5+ApZu314R56w8wPa8Ly0domxM7ziFe6eatP8l89glYunl7TZi3/gDT87qwfFb6ldP2K1X1+Z2tygq8FPa89SeZzz4BSzdvrwnz1h9gel4X9g2hbWWZq0thZ/76k8xnn4Clm7fXhHnrDzA9rwv7gNC2srw/k6sqfm7HFVV1yT6vZnrz1p9kPvsELN28vSbMW3+A6Xld2Aec0wYAADBiLvkPAAAwYkIbAADAiAltAAAAIya0AQAAjNj/BfgxT2fCiyufAAAAAElFTkSuQmCC\n",
      "text/plain": [
       "<Figure size 1080x360 with 1 Axes>"
      ]
     },
     "metadata": {
      "needs_background": "light"
     },
     "output_type": "display_data"
    }
   ],
   "source": [
    "control_bulk.sort_values(by=['value']).plot(kind='bar',figsize=(15,5),title='Кол-во NaN значений в bulk ',color = \"blue\",alpha=0.5)"
   ]
  },
  {
   "cell_type": "code",
   "execution_count": 23,
   "id": "ba0079a8",
   "metadata": {},
   "outputs": [
    {
     "name": "stdout",
     "output_type": "stream",
     "text": [
      "       name  value\n",
      "1    bulk_1  91.95\n",
      "2    bulk_2  99.30\n",
      "5    bulk_5  97.54\n",
      "7    bulk_7  99.20\n",
      "8    bulk_8  99.97\n",
      "9    bulk_9  99.39\n",
      "10  bulk_10  94.38\n",
      "11  bulk_11  94.34\n",
      "13  bulk_13  99.42\n"
     ]
    }
   ],
   "source": [
    "# Выберем значимые для выборки сыпучие компоненты\n",
    "control_bulk.sort_values(by=['value'])\n",
    "control_bulk=control_bulk.loc[control_bulk['value']>90]\n",
    "print(control_bulk)"
   ]
  },
  {
   "cell_type": "code",
   "execution_count": 24,
   "id": "5973600e",
   "metadata": {},
   "outputs": [],
   "source": [
    "data_bulk=data_bulk.drop(control_bulk['name'], axis=1)"
   ]
  },
  {
   "cell_type": "code",
   "execution_count": 25,
   "id": "d4a18d90",
   "metadata": {},
   "outputs": [
    {
     "name": "stdout",
     "output_type": "stream",
     "text": [
      "<class 'pandas.core.frame.DataFrame'>\n",
      "RangeIndex: 3129 entries, 0 to 3128\n",
      "Data columns (total 7 columns):\n",
      " #   Column   Non-Null Count  Dtype  \n",
      "---  ------   --------------  -----  \n",
      " 0   key      3129 non-null   int64  \n",
      " 1   bulk_3   1298 non-null   float64\n",
      " 2   bulk_4   1014 non-null   float64\n",
      " 3   bulk_6   576 non-null    float64\n",
      " 4   bulk_12  2450 non-null   float64\n",
      " 5   bulk_14  2806 non-null   float64\n",
      " 6   bulk_15  2248 non-null   float64\n",
      "dtypes: float64(6), int64(1)\n",
      "memory usage: 171.2 KB\n"
     ]
    }
   ],
   "source": [
    "data_bulk.info()"
   ]
  },
  {
   "cell_type": "markdown",
   "id": "20272401",
   "metadata": {},
   "source": [
    "<b>Выводы:</b>  \n",
    "Таблица data_bulk подготовлена к дальнейшему использованию. Оставлены наиболее важные значимые поля."
   ]
  },
  {
   "cell_type": "code",
   "execution_count": 26,
   "id": "dcad81c7",
   "metadata": {},
   "outputs": [],
   "source": [
    "try:\n",
    "    data_wire=pd.read_csv('C:/Users/elve/Desktop/Обучение/data/final/data_wire.csv', sep=',')\n",
    "except:\n",
    "    data_wire=pd.read_csv('/datasets/final_steel/data_wire.csv', sep=',')"
   ]
  },
  {
   "cell_type": "code",
   "execution_count": 27,
   "id": "d047bcc1",
   "metadata": {},
   "outputs": [
    {
     "name": "stdout",
     "output_type": "stream",
     "text": [
      "ОПИСАНИЕ ТАБЛИЦЫ:\n",
      "Кол-во дубликатов: 0\n",
      "\n",
      "<class 'pandas.core.frame.DataFrame'>\n",
      "RangeIndex: 3081 entries, 0 to 3080\n",
      "Data columns (total 10 columns):\n",
      " #   Column  Non-Null Count  Dtype  \n",
      "---  ------  --------------  -----  \n",
      " 0   key     3081 non-null   int64  \n",
      " 1   Wire 1  3055 non-null   float64\n",
      " 2   Wire 2  1079 non-null   float64\n",
      " 3   Wire 3  63 non-null     float64\n",
      " 4   Wire 4  14 non-null     float64\n",
      " 5   Wire 5  1 non-null      float64\n",
      " 6   Wire 6  73 non-null     float64\n",
      " 7   Wire 7  11 non-null     float64\n",
      " 8   Wire 8  19 non-null     float64\n",
      " 9   Wire 9  29 non-null     float64\n",
      "dtypes: float64(9), int64(1)\n",
      "memory usage: 240.8 KB\n",
      "None\n",
      "-------------------------\n",
      "key [   1    2    3 ... 3239 3240 3241]\n",
      "key : кол-во NaN 0 , процент NaN 0.0 %\n",
      "-------------------------\n",
      "Wire 1 [  1.9188     2.09664    3.10128  ... 280.987214 330.314424        nan]\n",
      "Wire 1 : кол-во NaN 26 , процент NaN 0.84 %\n",
      "-------------------------\n",
      "Wire 2 [3.01600000e-02 6.03200000e-02 9.04800000e-02 9.04800000e-02\n",
      " 1.74720000e-01 5.82400000e-01 1.17624000e+00 1.60160000e+00\n",
      " 2.74456000e+00 3.98112000e+00 4.10176000e+00 4.13192000e+00\n",
      " 5.12720000e+00 7.72096000e+00 8.08288000e+00 8.11304000e+00\n",
      " 8.17336000e+00 8.83688000e+00 9.01784000e+00 9.04800000e+00\n",
      " 9.07816000e+00 9.08544100e+00 9.10832000e+00 9.11456000e+00\n",
      " 9.13848000e+00 9.14368100e+00 9.16864000e+00 9.19880000e+00\n",
      " 9.22896000e+00 9.31944000e+00 9.68136000e+00 1.00432800e+01\n",
      " 1.00734400e+01 1.01036000e+01 1.01337590e+01 1.01337600e+01\n",
      " 1.01639190e+01 1.01940790e+01 1.02242400e+01 1.10385600e+01\n",
      " 1.10687200e+01 1.10988800e+01 1.11238400e+01 1.11290400e+01\n",
      " 1.11592000e+01 1.11893600e+01 1.12195200e+01 1.20338400e+01\n",
      " 1.20848000e+01 1.20941600e+01 1.21243200e+01 1.21430400e+01\n",
      " 1.21544800e+01 1.21721600e+01 1.21846410e+01 1.23760000e+01\n",
      " 1.30894400e+01 1.31196000e+01 1.31799200e+01 1.32100800e+01\n",
      " 1.40244000e+01 1.40358410e+01 1.40649600e+01 1.40847200e+01\n",
      " 1.41450400e+01 1.41752000e+01 1.42053590e+01 1.42355200e+01\n",
      " 1.50196790e+01 1.50259210e+01 1.50498400e+01 1.50800000e+01\n",
      " 1.50841610e+01 1.51101600e+01 1.51132800e+01 1.51403200e+01\n",
      " 1.51424010e+01 1.51704800e+01 1.52006400e+01 1.52308000e+01\n",
      " 1.52609600e+01 1.61033610e+01 1.61054400e+01 1.61355990e+01\n",
      " 1.61657600e+01 1.61959190e+01 1.62562390e+01 1.62864000e+01\n",
      " 1.70705600e+01 1.71007200e+01 1.71225610e+01 1.71308800e+01\n",
      " 1.71610390e+01 1.80356810e+01 1.80658400e+01 1.80960000e+01\n",
      " 1.80960010e+01 1.81126400e+01 1.81261600e+01 1.81417600e+01\n",
      " 1.81563210e+01 1.81708810e+01 1.82769600e+01 1.83071190e+01\n",
      " 1.83372800e+01 1.90309600e+01 1.90912800e+01 1.91214410e+01\n",
      " 1.91318420e+01 1.91516000e+01 1.91900810e+01 2.00865590e+01\n",
      " 2.00928000e+01 2.01167200e+01 2.01468790e+01 2.01510410e+01\n",
      " 2.01770400e+01 2.01770410e+01 2.01801610e+01 2.02071990e+01\n",
      " 2.02373590e+01 2.03548800e+01 2.05389600e+01 2.06294400e+01\n",
      " 2.07199190e+01 2.10818390e+01 2.11120000e+01 2.11421590e+01\n",
      " 2.11702400e+01 2.11723190e+01 2.12024780e+01 2.13231200e+01\n",
      " 2.15945600e+01 2.16548800e+01 2.19564780e+01 2.20771200e+01\n",
      " 2.21072810e+01 2.21374400e+01 2.22279210e+01 2.28612800e+01\n",
      " 2.30120810e+01 2.30339200e+01 2.31025600e+01 2.31327210e+01\n",
      " 2.31504000e+01 2.31628800e+01 2.31930390e+01 2.32232000e+01\n",
      " 2.34946400e+01 2.38263990e+01 2.40978390e+01 2.41280000e+01\n",
      " 2.41581590e+01 2.42184790e+01 2.43994390e+01 2.44296020e+01\n",
      " 2.46105590e+01 2.49724790e+01 2.50327990e+01 2.50432010e+01\n",
      " 2.50629600e+01 2.50931190e+01 2.51014400e+01 2.51232800e+01\n",
      " 2.51305600e+01 2.51534390e+01 2.52137580e+01 2.53344000e+01\n",
      " 2.54852010e+01 2.57264800e+01 2.60884000e+01 2.61185610e+01\n",
      " 2.61206400e+01 2.61487200e+01 2.61497590e+01 2.62090400e+01\n",
      " 2.64804790e+01 2.70233610e+01 2.70836790e+01 2.70836800e+01\n",
      " 2.71741600e+01 2.72646410e+01 2.75360790e+01 2.78075190e+01\n",
      " 2.80789580e+01 2.81008000e+01 2.81091190e+01 2.81299210e+01\n",
      " 2.81392800e+01 2.90908810e+01 2.91345600e+01 2.91647190e+01\n",
      " 2.92853600e+01 3.00092010e+01 3.00227200e+01 3.00393580e+01\n",
      " 3.00518420e+01 3.00695210e+01 3.00996800e+01 3.01100810e+01\n",
      " 3.01298400e+01 3.01298410e+01 3.01600000e+01 3.01901610e+01\n",
      " 3.02203200e+01 3.02504810e+01 3.02806390e+01 3.02806400e+01\n",
      " 3.03107990e+01 3.03108010e+01 3.03409600e+01 3.04314410e+01\n",
      " 3.04616010e+01 3.04917600e+01 3.10648000e+01 3.10949590e+01\n",
      " 3.11584000e+01 3.12155990e+01 3.12759210e+01 3.14267200e+01\n",
      " 3.20299220e+01 3.20600810e+01 3.20902400e+01 3.21484870e+01\n",
      " 3.21505620e+01 3.22711990e+01 3.22712020e+01 3.23315200e+01\n",
      " 3.23616790e+01 3.24979210e+01 3.27537580e+01 3.29045600e+01\n",
      " 3.31759990e+01 3.32363210e+01 3.41712800e+01 3.42617570e+01\n",
      " 3.42919190e+01 3.49252780e+01 3.50459180e+01 3.50604820e+01\n",
      " 3.50760800e+01 3.50760800e+01 3.51062390e+01 3.51187210e+01\n",
      " 3.51363980e+01 3.51478390e+01 3.51665570e+01 3.51967200e+01\n",
      " 3.52872010e+01 3.60713620e+01 3.61618390e+01 3.63428000e+01\n",
      " 3.64031180e+01 3.65237580e+01 3.70666390e+01 3.70967980e+01\n",
      " 3.71269610e+01 3.71571240e+01 3.71872830e+01 3.78268810e+01\n",
      " 3.80920790e+01 3.83219180e+01 3.83635180e+01 3.91476780e+01\n",
      " 3.91778410e+01 3.92381630e+01 3.93286400e+01 3.96604000e+01\n",
      " 3.97810400e+01 4.00223160e+01 4.00400010e+01 4.00524790e+01\n",
      " 4.00691220e+01 4.00826420e+01 4.01128010e+01 4.01429560e+01\n",
      " 4.01429630e+01 4.01731190e+01 4.02032810e+01 4.02032820e+01\n",
      " 4.02635970e+01 4.02635990e+01 4.10779230e+01 4.11080780e+01\n",
      " 4.11382410e+01 4.11684000e+01 4.12588810e+01 4.20732000e+01\n",
      " 4.21033590e+01 4.23144800e+01 4.23446380e+01 4.23747990e+01\n",
      " 4.24351190e+01 4.25256000e+01 4.30102420e+01 4.30975990e+01\n",
      " 4.31287990e+01 4.34304020e+01 4.36716770e+01 4.40637590e+01\n",
      " 4.40939220e+01 4.41240810e+01 4.43050380e+01 4.47875990e+01\n",
      " 4.49384000e+01 4.50590400e+01 4.50891990e+01 4.51068840e+01\n",
      " 4.51193580e+01 4.51359980e+01 4.51495210e+01 4.51796800e+01\n",
      " 4.52098390e+01 4.52399980e+01 4.52701610e+01 4.54812790e+01\n",
      " 4.59336770e+01 4.60543170e+01 4.61749570e+01 4.62051200e+01\n",
      " 4.62956040e+01 4.66793630e+01 4.71452830e+01 4.71702380e+01\n",
      " 4.71702390e+01 4.72004010e+01 4.73512000e+01 4.74115220e+01\n",
      " 4.79543980e+01 4.81353600e+01 4.81353610e+01 4.81655200e+01\n",
      " 4.82861590e+01 4.82861600e+01 4.90380820e+01 4.91004790e+01\n",
      " 5.00052800e+01 5.00052820e+01 5.00354420e+01 5.00655980e+01\n",
      " 5.00957600e+01 5.01259190e+01 5.01446380e+01 5.01560820e+01\n",
      " 5.01862370e+01 5.02164000e+01 5.02465590e+01 5.03193630e+01\n",
      " 5.03671950e+01 5.03672030e+01 5.07291220e+01 5.07561610e+01\n",
      " 5.10307200e+01 5.10910420e+01 5.12720030e+01 5.13021620e+01\n",
      " 5.13323170e+01 5.16640820e+01 5.18148770e+01 5.20561560e+01\n",
      " 5.20956800e+01 5.21466410e+01 5.21768000e+01 5.22069590e+01\n",
      " 5.23275990e+01 5.24160030e+01 5.31117590e+01 5.31720810e+01\n",
      " 5.31731180e+01 5.32022400e+01 5.33228830e+01 5.40467220e+01\n",
      " 5.41371990e+01 5.42276810e+01 5.50118370e+01 5.50721590e+01\n",
      " 5.51023220e+01 5.51241650e+01 5.51324770e+01 5.51626400e+01\n",
      " 5.51928020e+01 5.52832800e+01 5.53435970e+01 5.55848770e+01\n",
      " 5.61277620e+01 5.61579210e+01 5.65198360e+01 5.67912810e+01\n",
      " 5.70928800e+01 5.71230390e+01 5.72499200e+01 5.80579990e+01\n",
      " 5.81183200e+01 5.81484790e+01 5.82389570e+01 5.82389600e+01\n",
      " 5.84199150e+01 5.86611970e+01 5.90532770e+01 5.92040830e+01\n",
      " 5.92342410e+01 5.92643970e+01 5.98374410e+01 6.00485610e+01\n",
      " 6.00787160e+01 6.01036830e+01 6.01088790e+01 6.01390420e+01\n",
      " 6.01619220e+01 6.01691970e+01 6.01692010e+01 6.01993600e+01\n",
      " 6.02295190e+01 6.02492790e+01 6.02492830e+01 6.02596820e+01\n",
      " 6.02898410e+01 6.03200010e+01 6.03501590e+01 6.10740010e+01\n",
      " 6.12247980e+01 6.17978400e+01 6.21899190e+01 6.30947190e+01\n",
      " 6.31321600e+01 6.31852000e+01 6.32486420e+01 6.32756770e+01\n",
      " 6.33661580e+01 6.41503220e+01 6.41513570e+01 6.41804810e+01\n",
      " 6.42407990e+01 6.44519170e+01 6.45881570e+01 6.50249560e+01\n",
      " 6.50551200e+01 6.50551220e+01 6.50852810e+01 6.51154400e+01\n",
      " 6.51154410e+01 6.51455990e+01 6.51757560e+01 6.51757580e+01\n",
      " 6.51996840e+01 6.52059190e+01 6.52579190e+01 6.63821560e+01\n",
      " 6.71059990e+01 6.71215980e+01 6.71964800e+01 6.72380820e+01\n",
      " 6.76187210e+01 6.82520830e+01 6.83727190e+01 6.90965580e+01\n",
      " 6.92172010e+01 6.92172020e+01 6.92775190e+01 6.92775200e+01\n",
      " 6.93378380e+01 7.00616840e+01 7.00627210e+01 7.01220020e+01\n",
      " 7.01521610e+01 7.01823200e+01 7.02124790e+01 7.02426370e+01\n",
      " 7.02727960e+01 7.03331150e+01 7.06648790e+01 7.08458410e+01\n",
      " 7.11172790e+01 7.11474380e+01 7.20220790e+01 7.20823940e+01\n",
      " 7.21125560e+01 7.21427230e+01 7.21728820e+01 7.21884840e+01\n",
      " 7.22030410e+01 7.22332000e+01 7.22633590e+01 7.22758400e+01\n",
      " 7.27459180e+01 7.30776830e+01 7.31983180e+01 7.34094370e+01\n",
      " 7.38015210e+01 7.39221590e+01 7.44348760e+01 7.45555200e+01\n",
      " 7.50380790e+01 7.50682450e+01 7.50983960e+01 7.51285550e+01\n",
      " 7.51296000e+01 7.51587140e+01 7.51587150e+01 7.52491990e+01\n",
      " 7.53043220e+01 7.53095170e+01 7.53095250e+01 7.53396760e+01\n",
      " 7.53698350e+01 7.54000010e+01 7.54301600e+01 7.60936740e+01\n",
      " 7.61539990e+01 7.62361660e+01 7.81144030e+01 7.81747140e+01\n",
      " 7.82953560e+01 7.86874390e+01 8.00446320e+01 8.01049580e+01\n",
      " 8.01351170e+01 8.01652830e+01 8.01964870e+01 8.02557600e+01\n",
      " 8.02859270e+01 8.03160860e+01 8.03462430e+01 8.03764000e+01\n",
      " 8.04065630e+01 8.11605610e+01 8.13415220e+01 8.17034380e+01\n",
      " 8.20955200e+01 8.22057650e+01 8.23368000e+01 8.24876010e+01\n",
      " 8.32416000e+01 8.33123250e+01 8.42150420e+01 8.50012740e+01\n",
      " 8.51115190e+01 8.51416780e+01 8.52019960e+01 8.52623140e+01\n",
      " 8.53226390e+01 8.54131210e+01 8.55035940e+01 8.55639190e+01\n",
      " 8.57448760e+01 8.61068040e+01 8.65155250e+01 8.80370410e+01\n",
      " 8.80973590e+01 8.81275170e+01 8.94243920e+01 9.00577620e+01\n",
      " 9.00879190e+01 9.00879210e+01 9.01180800e+01 9.01264040e+01\n",
      " 9.01482380e+01 9.01482390e+01 9.01783980e+01 9.01846470e+01\n",
      " 9.02085570e+01 9.02387240e+01 9.02688750e+01 9.02720110e+01\n",
      " 9.03011170e+01 9.03302390e+01 9.03593520e+01 9.03895110e+01\n",
      " 9.04196780e+01 9.06308060e+01 9.18371960e+01 9.21086350e+01\n",
      " 9.21991190e+01 9.21991200e+01 9.23499150e+01 9.31340790e+01\n",
      " 9.32848740e+01 9.33150410e+01 9.40991970e+01 9.51547930e+01\n",
      " 9.51849670e+01 9.53056030e+01 9.53659210e+01 9.71151960e+01\n",
      " 9.79898330e+01 9.80501550e+01 9.83673630e+01 9.88343260e+01\n",
      " 9.92263950e+01 9.97089570e+01 9.99107210e+01 1.00040726e+02\n",
      " 1.00101036e+02 1.00251839e+02 1.00282005e+02 1.00289276e+02\n",
      " 1.00312157e+02 1.00312164e+02 1.00402641e+02 1.00674072e+02\n",
      " 1.00764565e+02 1.01156639e+02 1.01247119e+02 1.02182076e+02\n",
      " 1.02182083e+02 1.03177353e+02 1.03207520e+02 1.03358322e+02\n",
      " 1.05137756e+02 1.05167923e+02 1.05288566e+02 1.05318718e+02\n",
      " 1.06258888e+02 1.07460075e+02 1.08123596e+02 1.08153756e+02\n",
      " 1.08153763e+02 1.08244240e+02 1.08425198e+02 1.08515679e+02\n",
      " 1.08696634e+02 1.09360160e+02 1.09462082e+02 1.10084000e+02\n",
      " 1.10174484e+02 1.10295120e+02 1.10355438e+02 1.10385599e+02\n",
      " 1.11049118e+02 1.11296654e+02 1.11411034e+02 1.14879433e+02\n",
      " 1.14907524e+02 1.15090560e+02 1.15211197e+02 1.15301681e+02\n",
      " 1.15301682e+02 1.15331833e+02 1.17149767e+02 1.17322395e+02\n",
      " 1.17382725e+02 1.17835120e+02 1.18136719e+02 1.18257354e+02\n",
      " 1.18528805e+02 1.20097122e+02 1.20157432e+02 1.20187599e+02\n",
      " 1.20368553e+02 1.21213043e+02 1.23233764e+02 1.23233765e+02\n",
      " 1.24289360e+02 1.24741764e+02 1.25163997e+02 1.25194160e+02\n",
      " 1.25254471e+02 1.27908561e+02 1.28692722e+02 1.28903839e+02\n",
      " 1.28994324e+02 1.29326080e+02 1.30110245e+02 1.30200714e+02\n",
      " 1.31195999e+02 1.31346802e+02 1.31376957e+02 1.32100800e+02\n",
      " 1.33096076e+02 1.33277046e+02 1.33367524e+02 1.34242157e+02\n",
      " 1.35267593e+02 1.35267593e+02 1.35358078e+02 1.35388229e+02\n",
      " 1.36293045e+02 1.40213837e+02 1.40274154e+02 1.42958401e+02\n",
      " 1.44289596e+02 1.48176082e+02 1.48930079e+02 1.50106322e+02\n",
      " 1.50257128e+02 1.50287293e+02 1.50377756e+02 1.50407913e+02\n",
      " 1.53333448e+02 1.55293831e+02 1.56138321e+02 1.59063842e+02\n",
      " 1.59335282e+02 1.60330566e+02 1.60511520e+02 1.61356003e+02\n",
      " 1.70283356e+02 1.70886566e+02 1.71550073e+02 1.75501037e+02\n",
      " 1.78124955e+02 1.80236161e+02 1.85122086e+02 1.88228550e+02\n",
      " 1.88258724e+02 1.95225677e+02 1.98452789e+02 2.10245362e+02\n",
      " 2.15432892e+02 2.19866410e+02 2.20348953e+02 2.31568481e+02\n",
      " 2.82780152e+02            nan]\n",
      "Wire 2 : кол-во NaN 2002 , процент NaN 64.98 %\n",
      "-------------------------\n",
      "Wire 3 [1.44144000e-01 5.28528000e-01 9.60960000e-01 8.86485670e+01\n",
      " 9.01380540e+01 9.30689770e+01 9.31170270e+01 9.31650770e+01\n",
      " 9.32131270e+01 9.41260380e+01 9.49908980e+01 9.52791900e+01\n",
      " 9.53752820e+01 9.60479510e+01 9.60960010e+01 9.61921010e+01\n",
      " 9.62401500e+01 9.62881930e+01 9.70089110e+01 1.00180092e+02\n",
      " 1.98678491e+02 2.03627441e+02 2.31014801e+02 2.31110901e+02\n",
      " 2.31495285e+02 2.31591369e+02 2.35194977e+02 2.36972740e+02\n",
      " 2.40143906e+02 2.40240005e+02 2.44468246e+02 2.50041794e+02\n",
      " 2.50137894e+02 2.50185944e+02 2.54077850e+02 2.54462219e+02\n",
      " 2.60083832e+02 2.60131897e+02 2.60179932e+02 2.68348081e+02\n",
      " 2.76179963e+02 2.76324066e+02 2.77044769e+02 2.77092834e+02\n",
      " 2.78053802e+02 2.78101837e+02 2.79783508e+02 2.80215942e+02\n",
      " 2.82089813e+02 2.83242963e+02 2.85116821e+02 2.88432144e+02\n",
      " 2.93188919e+02 3.09381073e+02 3.27233753e+02 3.85008668e+02\n",
      "            nan]\n",
      "Wire 3 : кол-во NaN 3018 , процент NaN 97.96 %\n",
      "-------------------------\n",
      "Wire 4 [ 24.148801  25.132641  33.182243  40.069122  43.020641  43.065361\n",
      "  43.244242  47.224323  56.07888   58.046562  82.150638  92.570401\n",
      " 103.034882 113.231044        nan]\n",
      "Wire 4 : кол-во NaN 3067 , процент NaN 99.55 %\n",
      "-------------------------\n",
      "Wire 5 [15.132    nan]\n",
      "Wire 5 : кол-во NaN 3080 , процент NaN 99.97 %\n",
      "-------------------------\n",
      "Wire 6 [3.43200000e-02 1.37280000e-01 9.95280000e-01 3.02015700e+00\n",
      " 8.16816000e+00 9.19776100e+00 1.00557600e+01 1.30759210e+01\n",
      " 1.40712000e+01 1.50664820e+01 1.51694410e+01 1.80866410e+01\n",
      " 2.01458420e+01 2.02144810e+01 2.23080030e+01 2.50536000e+01\n",
      " 2.51565590e+01 2.61518420e+01 2.69755230e+01 2.81080820e+01\n",
      " 3.00643230e+01 3.01672820e+01 3.02016030e+01 3.21235240e+01\n",
      " 3.40111240e+01 3.51780010e+01 3.52123220e+01 3.81981620e+01\n",
      " 3.91591220e+01 4.00514410e+01 4.00857620e+01 4.03260010e+01\n",
      " 4.20763240e+01 4.31745610e+01 4.43071250e+01 4.51994440e+01\n",
      " 4.52337570e+01 5.00728840e+01 5.01072010e+01 5.12054410e+01\n",
      " 5.31960030e+01 5.41226430e+01 5.51865650e+01 5.52208820e+01\n",
      " 5.94765660e+01 6.00256840e+01 6.00943220e+01 6.01972810e+01\n",
      " 6.16387250e+01 6.30458450e+01 6.42127230e+01 6.50364000e+01\n",
      " 6.53109670e+01 6.74388000e+01 6.84340870e+01 7.03560110e+01\n",
      " 7.23122480e+01 7.31702470e+01 7.33075260e+01 7.36164070e+01\n",
      " 7.80780020e+01 8.11324920e+01 9.14284870e+01 9.82238470e+01\n",
      " 9.92191220e+01 1.20188644e+02 1.37142731e+02 1.45139283e+02\n",
      " 1.80454575e+02            nan]\n",
      "Wire 6 : кол-во NaN 3008 , процент NaN 97.63 %\n",
      "-------------------------\n",
      "Wire 7 [ 0.234208  1.053936  5.035472  8.49004   8.490041  9.017009  9.134113\n",
      " 11.417641 12.354473 32.847674       nan]\n",
      "Wire 7 : кол-во NaN 3070 , процент NaN 99.64 %\n",
      "-------------------------\n",
      "Wire 8 [ 45.076721  45.354401  46.002319  46.094879  46.187439  46.279999\n",
      "  48.001202  48.001203  48.089603  53.652562  68.494405  95.244248\n",
      " 102.762401        nan]\n",
      "Wire 8 : кол-во NaN 3062 , процент NaN 99.38 %\n",
      "-------------------------\n",
      "Wire 9 [ 4.6228    7.753203 10.01     10.0464   11.3568   15.0696   17.0352\n",
      " 22.058401 23.5508   25.1888   28.0644   30.030001 30.066399 30.1028\n",
      " 35.0168   35.0532   39.967201 42.0784   43.862003 48.193606 53.071201\n",
      " 55.000397 62.0256   63.0448   90.053604       nan]\n",
      "Wire 9 : кол-во NaN 3052 , процент NaN 99.06 %\n",
      "-------------------------\n",
      "кол-во уникальных ключей 3081\n"
     ]
    }
   ],
   "source": [
    "control_data(data_wire)"
   ]
  },
  {
   "cell_type": "code",
   "execution_count": 28,
   "id": "2fe80254",
   "metadata": {},
   "outputs": [],
   "source": [
    "data_wire.columns=data_wire.columns.str.lower()\n",
    "data_wire.columns=data_wire.columns.str.replace(\" \", \"_\")"
   ]
  },
  {
   "cell_type": "code",
   "execution_count": 29,
   "id": "fb191a54",
   "metadata": {},
   "outputs": [
    {
     "data": {
      "text/html": [
       "<div>\n",
       "<style scoped>\n",
       "    .dataframe tbody tr th:only-of-type {\n",
       "        vertical-align: middle;\n",
       "    }\n",
       "\n",
       "    .dataframe tbody tr th {\n",
       "        vertical-align: top;\n",
       "    }\n",
       "\n",
       "    .dataframe thead th {\n",
       "        text-align: right;\n",
       "    }\n",
       "</style>\n",
       "<table border=\"1\" class=\"dataframe\">\n",
       "  <thead>\n",
       "    <tr style=\"text-align: right;\">\n",
       "      <th></th>\n",
       "      <th>name</th>\n",
       "      <th>value</th>\n",
       "    </tr>\n",
       "  </thead>\n",
       "  <tbody>\n",
       "    <tr>\n",
       "      <th>0</th>\n",
       "      <td>key</td>\n",
       "      <td>0.00</td>\n",
       "    </tr>\n",
       "    <tr>\n",
       "      <th>1</th>\n",
       "      <td>wire_1</td>\n",
       "      <td>0.84</td>\n",
       "    </tr>\n",
       "    <tr>\n",
       "      <th>2</th>\n",
       "      <td>wire_2</td>\n",
       "      <td>64.98</td>\n",
       "    </tr>\n",
       "    <tr>\n",
       "      <th>6</th>\n",
       "      <td>wire_6</td>\n",
       "      <td>97.63</td>\n",
       "    </tr>\n",
       "    <tr>\n",
       "      <th>3</th>\n",
       "      <td>wire_3</td>\n",
       "      <td>97.96</td>\n",
       "    </tr>\n",
       "    <tr>\n",
       "      <th>9</th>\n",
       "      <td>wire_9</td>\n",
       "      <td>99.06</td>\n",
       "    </tr>\n",
       "    <tr>\n",
       "      <th>8</th>\n",
       "      <td>wire_8</td>\n",
       "      <td>99.38</td>\n",
       "    </tr>\n",
       "    <tr>\n",
       "      <th>4</th>\n",
       "      <td>wire_4</td>\n",
       "      <td>99.55</td>\n",
       "    </tr>\n",
       "    <tr>\n",
       "      <th>7</th>\n",
       "      <td>wire_7</td>\n",
       "      <td>99.64</td>\n",
       "    </tr>\n",
       "    <tr>\n",
       "      <th>5</th>\n",
       "      <td>wire_5</td>\n",
       "      <td>99.97</td>\n",
       "    </tr>\n",
       "  </tbody>\n",
       "</table>\n",
       "</div>"
      ],
      "text/plain": [
       "     name  value\n",
       "0     key   0.00\n",
       "1  wire_1   0.84\n",
       "2  wire_2  64.98\n",
       "6  wire_6  97.63\n",
       "3  wire_3  97.96\n",
       "9  wire_9  99.06\n",
       "8  wire_8  99.38\n",
       "4  wire_4  99.55\n",
       "7  wire_7  99.64\n",
       "5  wire_5  99.97"
      ]
     },
     "execution_count": 29,
     "metadata": {},
     "output_type": "execute_result"
    }
   ],
   "source": [
    "control_wire=pd.DataFrame(columns=['name','value'])\n",
    "for col_l in data_wire.columns:\n",
    "    control_wire = control_wire.append({'name': col_l,'value':round(data_wire[col_l].isna().sum()/len(data_wire)*100, 2)}, ignore_index=True)\n",
    "    \n",
    "control_wire.sort_values(by=['value'])"
   ]
  },
  {
   "cell_type": "code",
   "execution_count": 30,
   "id": "25533ca6",
   "metadata": {},
   "outputs": [],
   "source": [
    "control_wire=control_wire.loc[control_wire['value']>90]"
   ]
  },
  {
   "cell_type": "code",
   "execution_count": 31,
   "id": "b3ea06c4",
   "metadata": {},
   "outputs": [],
   "source": [
    "data_wire=data_wire.drop(control_wire['name'], axis=1)"
   ]
  },
  {
   "cell_type": "code",
   "execution_count": 32,
   "id": "9201e0ee",
   "metadata": {},
   "outputs": [
    {
     "name": "stdout",
     "output_type": "stream",
     "text": [
      "<class 'pandas.core.frame.DataFrame'>\n",
      "RangeIndex: 3081 entries, 0 to 3080\n",
      "Data columns (total 3 columns):\n",
      " #   Column  Non-Null Count  Dtype  \n",
      "---  ------  --------------  -----  \n",
      " 0   key     3081 non-null   int64  \n",
      " 1   wire_1  3055 non-null   float64\n",
      " 2   wire_2  1079 non-null   float64\n",
      "dtypes: float64(2), int64(1)\n",
      "memory usage: 72.3 KB\n"
     ]
    }
   ],
   "source": [
    "data_wire.info()"
   ]
  },
  {
   "cell_type": "markdown",
   "id": "7d4abb38",
   "metadata": {},
   "source": [
    "<b>Выводы:</b>  \n",
    "Таблица data_wire подготовлена к дальнейшему использованию. Оставлены наиболее важные значимые поля."
   ]
  },
  {
   "cell_type": "code",
   "execution_count": 33,
   "id": "aaff5176",
   "metadata": {},
   "outputs": [],
   "source": [
    "try:\n",
    "    data_gas=pd.read_csv('C:/Users/elve/Desktop/Обучение/data/final/data_gas.csv', sep=',')\n",
    "except:\n",
    "    data_gas=pd.read_csv('/datasets/final_steel/data_gas.csv', sep=',')\n"
   ]
  },
  {
   "cell_type": "code",
   "execution_count": 34,
   "id": "32464345",
   "metadata": {},
   "outputs": [
    {
     "name": "stdout",
     "output_type": "stream",
     "text": [
      "ОПИСАНИЕ ТАБЛИЦЫ:\n",
      "Кол-во дубликатов: 0\n",
      "\n",
      "<class 'pandas.core.frame.DataFrame'>\n",
      "RangeIndex: 3239 entries, 0 to 3238\n",
      "Data columns (total 2 columns):\n",
      " #   Column  Non-Null Count  Dtype  \n",
      "---  ------  --------------  -----  \n",
      " 0   key     3239 non-null   int64  \n",
      " 1   Газ 1   3239 non-null   float64\n",
      "dtypes: float64(1), int64(1)\n",
      "memory usage: 50.7 KB\n",
      "None\n",
      "-------------------------\n",
      "key [   1    2    3 ... 3239 3240 3241]\n",
      "key : кол-во NaN 0 , процент NaN 0.0 %\n",
      "-------------------------\n",
      "Газ 1 [8.39852910e-03 1.66956024e-02 2.63028954e-01 ... 5.21423726e+01\n",
      " 6.09356892e+01 7.79950397e+01]\n",
      "Газ 1 : кол-во NaN 0 , процент NaN 0.0 %\n",
      "-------------------------\n",
      "кол-во уникальных ключей 3239\n"
     ]
    }
   ],
   "source": [
    "control_data(data_gas)"
   ]
  },
  {
   "cell_type": "code",
   "execution_count": 35,
   "id": "cd94bd71",
   "metadata": {},
   "outputs": [],
   "source": [
    "data_gas.rename(columns={'Газ 1': 'gas'}, inplace=True)"
   ]
  },
  {
   "cell_type": "code",
   "execution_count": 36,
   "id": "76954a3f",
   "metadata": {},
   "outputs": [
    {
     "name": "stdout",
     "output_type": "stream",
     "text": [
      "<class 'pandas.core.frame.DataFrame'>\n",
      "RangeIndex: 3239 entries, 0 to 3238\n",
      "Data columns (total 2 columns):\n",
      " #   Column  Non-Null Count  Dtype  \n",
      "---  ------  --------------  -----  \n",
      " 0   key     3239 non-null   int64  \n",
      " 1   gas     3239 non-null   float64\n",
      "dtypes: float64(1), int64(1)\n",
      "memory usage: 50.7 KB\n"
     ]
    }
   ],
   "source": [
    "data_gas.info()"
   ]
  },
  {
   "cell_type": "code",
   "execution_count": 37,
   "id": "cfc159f8",
   "metadata": {},
   "outputs": [],
   "source": [
    "try:\n",
    "    data_temp=pd.read_csv('C:/Users/elve/Desktop/Обучение/data/final/data_temp.csv', sep=',')\n",
    "except:\n",
    "    data_temp=pd.read_csv('/datasets/final_steel/data_temp.csv', sep=',')\n"
   ]
  },
  {
   "cell_type": "code",
   "execution_count": 38,
   "id": "226e4453",
   "metadata": {},
   "outputs": [
    {
     "name": "stdout",
     "output_type": "stream",
     "text": [
      "ОПИСАНИЕ ТАБЛИЦЫ:\n",
      "Кол-во дубликатов: 0\n",
      "\n",
      "<class 'pandas.core.frame.DataFrame'>\n",
      "RangeIndex: 15907 entries, 0 to 15906\n",
      "Data columns (total 3 columns):\n",
      " #   Column        Non-Null Count  Dtype  \n",
      "---  ------        --------------  -----  \n",
      " 0   key           15907 non-null  int64  \n",
      " 1   Время замера  15907 non-null  object \n",
      " 2   Температура   13006 non-null  float64\n",
      "dtypes: float64(1), int64(1), object(1)\n",
      "memory usage: 372.9+ KB\n",
      "None\n",
      "-------------------------\n",
      "key [   1    2    3 ... 3239 3240 3241]\n",
      "key : кол-во NaN 0 , процент NaN 0.0 %\n",
      "-------------------------\n",
      "Время замера ['2019-05-03 11:16:18' '2019-05-03 11:25:53' '2019-05-03 11:29:11' ...\n",
      " '2019-09-01 04:22:39' '2019-09-01 04:33:42' '2019-09-01 04:38:08']\n",
      "Время замера : кол-во NaN 0 , процент NaN 0.0 %\n",
      "-------------------------\n",
      "Температура [1191. 1204. 1208. 1218. 1227. 1383. 1519. 1520. 1525. 1526. 1527. 1528.\n",
      " 1529. 1530. 1531. 1532. 1533. 1534. 1535. 1536. 1537. 1538. 1539. 1540.\n",
      " 1541. 1542. 1543. 1544. 1545. 1546. 1547. 1548. 1549. 1550. 1551. 1552.\n",
      " 1553. 1554. 1555. 1556. 1557. 1558. 1559. 1560. 1561. 1562. 1563. 1564.\n",
      " 1565. 1566. 1567. 1568. 1569. 1570. 1571. 1572. 1573. 1574. 1575. 1576.\n",
      " 1577. 1578. 1579. 1580. 1581. 1582. 1583. 1584. 1585. 1586. 1587. 1588.\n",
      " 1589. 1590. 1591. 1592. 1593. 1594. 1595. 1596. 1597. 1598. 1599. 1600.\n",
      " 1601. 1602. 1603. 1604. 1605. 1606. 1607. 1608. 1609. 1610. 1611. 1612.\n",
      " 1613. 1614. 1615. 1616. 1617. 1618. 1619. 1620. 1621. 1622. 1623. 1624.\n",
      " 1625. 1626. 1627. 1628. 1629. 1630. 1631. 1632. 1633. 1634. 1635. 1636.\n",
      " 1637. 1638. 1639. 1640. 1641. 1642. 1643. 1644. 1645. 1646. 1647. 1648.\n",
      " 1649. 1650. 1651. 1652. 1653. 1654. 1655. 1656. 1657. 1658. 1659. 1660.\n",
      " 1661. 1662. 1663. 1664. 1665. 1666. 1667. 1668. 1669. 1670. 1671. 1672.\n",
      " 1673. 1674. 1675. 1676. 1678. 1679. 1680. 1681. 1682. 1683. 1684. 1690.\n",
      " 1691. 1694. 1696. 1700. 1702. 1704. 1705.   nan]\n",
      "Температура : кол-во NaN 2901 , процент NaN 18.24 %\n",
      "-------------------------\n",
      "кол-во уникальных ключей 3216\n"
     ]
    }
   ],
   "source": [
    "control_data(data_temp)"
   ]
  },
  {
   "cell_type": "code",
   "execution_count": 39,
   "id": "fc67cfa7",
   "metadata": {},
   "outputs": [],
   "source": [
    "data_temp.rename(columns={'Время замера': 'time_measure'}, inplace=True)\n",
    "data_temp.rename(columns={'Температура': 'temperature'}, inplace=True)"
   ]
  },
  {
   "cell_type": "code",
   "execution_count": 40,
   "id": "0e5807bf",
   "metadata": {},
   "outputs": [
    {
     "data": {
      "text/html": [
       "<div>\n",
       "<style scoped>\n",
       "    .dataframe tbody tr th:only-of-type {\n",
       "        vertical-align: middle;\n",
       "    }\n",
       "\n",
       "    .dataframe tbody tr th {\n",
       "        vertical-align: top;\n",
       "    }\n",
       "\n",
       "    .dataframe thead th {\n",
       "        text-align: right;\n",
       "    }\n",
       "</style>\n",
       "<table border=\"1\" class=\"dataframe\">\n",
       "  <thead>\n",
       "    <tr style=\"text-align: right;\">\n",
       "      <th></th>\n",
       "      <th>key</th>\n",
       "      <th>time_measure</th>\n",
       "      <th>temperature</th>\n",
       "    </tr>\n",
       "  </thead>\n",
       "  <tbody>\n",
       "    <tr>\n",
       "      <th>0</th>\n",
       "      <td>1</td>\n",
       "      <td>2019-05-03 11:16:18</td>\n",
       "      <td>1571.0</td>\n",
       "    </tr>\n",
       "    <tr>\n",
       "      <th>1</th>\n",
       "      <td>1</td>\n",
       "      <td>2019-05-03 11:25:53</td>\n",
       "      <td>1604.0</td>\n",
       "    </tr>\n",
       "    <tr>\n",
       "      <th>2</th>\n",
       "      <td>1</td>\n",
       "      <td>2019-05-03 11:29:11</td>\n",
       "      <td>1618.0</td>\n",
       "    </tr>\n",
       "    <tr>\n",
       "      <th>3</th>\n",
       "      <td>1</td>\n",
       "      <td>2019-05-03 11:30:01</td>\n",
       "      <td>1601.0</td>\n",
       "    </tr>\n",
       "    <tr>\n",
       "      <th>4</th>\n",
       "      <td>1</td>\n",
       "      <td>2019-05-03 11:30:39</td>\n",
       "      <td>1613.0</td>\n",
       "    </tr>\n",
       "  </tbody>\n",
       "</table>\n",
       "</div>"
      ],
      "text/plain": [
       "   key         time_measure  temperature\n",
       "0    1  2019-05-03 11:16:18       1571.0\n",
       "1    1  2019-05-03 11:25:53       1604.0\n",
       "2    1  2019-05-03 11:29:11       1618.0\n",
       "3    1  2019-05-03 11:30:01       1601.0\n",
       "4    1  2019-05-03 11:30:39       1613.0"
      ]
     },
     "execution_count": 40,
     "metadata": {},
     "output_type": "execute_result"
    }
   ],
   "source": [
    " data_temp.head()"
   ]
  },
  {
   "cell_type": "code",
   "execution_count": 41,
   "id": "47c06c93",
   "metadata": {},
   "outputs": [
    {
     "data": {
      "text/html": [
       "<div>\n",
       "<style scoped>\n",
       "    .dataframe tbody tr th:only-of-type {\n",
       "        vertical-align: middle;\n",
       "    }\n",
       "\n",
       "    .dataframe tbody tr th {\n",
       "        vertical-align: top;\n",
       "    }\n",
       "\n",
       "    .dataframe thead th {\n",
       "        text-align: right;\n",
       "    }\n",
       "</style>\n",
       "<table border=\"1\" class=\"dataframe\">\n",
       "  <thead>\n",
       "    <tr style=\"text-align: right;\">\n",
       "      <th></th>\n",
       "      <th>key</th>\n",
       "      <th>time_min</th>\n",
       "      <th>temperature_min</th>\n",
       "    </tr>\n",
       "  </thead>\n",
       "  <tbody>\n",
       "    <tr>\n",
       "      <th>0</th>\n",
       "      <td>1</td>\n",
       "      <td>2019-05-03 11:16:18</td>\n",
       "      <td>1571.0</td>\n",
       "    </tr>\n",
       "    <tr>\n",
       "      <th>5</th>\n",
       "      <td>2</td>\n",
       "      <td>2019-05-03 11:37:27</td>\n",
       "      <td>1581.0</td>\n",
       "    </tr>\n",
       "    <tr>\n",
       "      <th>11</th>\n",
       "      <td>3</td>\n",
       "      <td>2019-05-03 12:13:17</td>\n",
       "      <td>1596.0</td>\n",
       "    </tr>\n",
       "  </tbody>\n",
       "</table>\n",
       "</div>"
      ],
      "text/plain": [
       "    key             time_min  temperature_min\n",
       "0     1  2019-05-03 11:16:18           1571.0\n",
       "5     2  2019-05-03 11:37:27           1581.0\n",
       "11    3  2019-05-03 12:13:17           1596.0"
      ]
     },
     "execution_count": 41,
     "metadata": {},
     "output_type": "execute_result"
    }
   ],
   "source": [
    "\n",
    "data_temp_min=pd.pivot_table(data_temp, index='key',aggfunc={'time_measure':  np.min})\n",
    "data_temp_min=data_temp_min.rename(columns={\"time_measure\": \"time_min\"})\n",
    "time_list_min=list(data_temp_min['time_min'])\n",
    "data_temp_min_t=data_temp.query('time_measure in @time_list_min')\n",
    "data_temp_min_t=data_temp_min_t.rename(columns={\"time_measure\": \"time_min\",\"temperature\":\"temperature_min\"})\n",
    "\n",
    "data_temp_min_t.head(3)\n"
   ]
  },
  {
   "cell_type": "code",
   "execution_count": 42,
   "id": "beaf971e",
   "metadata": {},
   "outputs": [
    {
     "data": {
      "text/html": [
       "<div>\n",
       "<style scoped>\n",
       "    .dataframe tbody tr th:only-of-type {\n",
       "        vertical-align: middle;\n",
       "    }\n",
       "\n",
       "    .dataframe tbody tr th {\n",
       "        vertical-align: top;\n",
       "    }\n",
       "\n",
       "    .dataframe thead th {\n",
       "        text-align: right;\n",
       "    }\n",
       "</style>\n",
       "<table border=\"1\" class=\"dataframe\">\n",
       "  <thead>\n",
       "    <tr style=\"text-align: right;\">\n",
       "      <th></th>\n",
       "      <th>key</th>\n",
       "      <th>time_max</th>\n",
       "      <th>temperature_max</th>\n",
       "    </tr>\n",
       "  </thead>\n",
       "  <tbody>\n",
       "    <tr>\n",
       "      <th>4</th>\n",
       "      <td>1</td>\n",
       "      <td>2019-05-03 11:30:39</td>\n",
       "      <td>1613.0</td>\n",
       "    </tr>\n",
       "    <tr>\n",
       "      <th>10</th>\n",
       "      <td>2</td>\n",
       "      <td>2019-05-03 11:59:12</td>\n",
       "      <td>1602.0</td>\n",
       "    </tr>\n",
       "    <tr>\n",
       "      <th>15</th>\n",
       "      <td>3</td>\n",
       "      <td>2019-05-03 12:34:57</td>\n",
       "      <td>1599.0</td>\n",
       "    </tr>\n",
       "  </tbody>\n",
       "</table>\n",
       "</div>"
      ],
      "text/plain": [
       "    key             time_max  temperature_max\n",
       "4     1  2019-05-03 11:30:39           1613.0\n",
       "10    2  2019-05-03 11:59:12           1602.0\n",
       "15    3  2019-05-03 12:34:57           1599.0"
      ]
     },
     "execution_count": 42,
     "metadata": {},
     "output_type": "execute_result"
    }
   ],
   "source": [
    "data_temp_max=pd.pivot_table(data_temp, index='key',aggfunc={'time_measure':  np.max})\n",
    "data_temp_max=data_temp_max.rename(columns={\"time_measure\": \"time_max\"})\n",
    "time_list_max=list(data_temp_max['time_max'])\n",
    "data_temp_max_t=data_temp.query('time_measure in @time_list_max')\n",
    "data_temp_max_t=data_temp_max_t.rename(columns={\"time_measure\": \"time_max\",\"temperature\":\"temperature_max\"})\n",
    "\n",
    "data_temp_max_t.head(3)"
   ]
  },
  {
   "cell_type": "code",
   "execution_count": 43,
   "id": "94159794",
   "metadata": {},
   "outputs": [
    {
     "data": {
      "text/html": [
       "<div>\n",
       "<style scoped>\n",
       "    .dataframe tbody tr th:only-of-type {\n",
       "        vertical-align: middle;\n",
       "    }\n",
       "\n",
       "    .dataframe tbody tr th {\n",
       "        vertical-align: top;\n",
       "    }\n",
       "\n",
       "    .dataframe thead th {\n",
       "        text-align: right;\n",
       "    }\n",
       "</style>\n",
       "<table border=\"1\" class=\"dataframe\">\n",
       "  <thead>\n",
       "    <tr style=\"text-align: right;\">\n",
       "      <th></th>\n",
       "      <th>avg_temperature</th>\n",
       "    </tr>\n",
       "    <tr>\n",
       "      <th>key</th>\n",
       "      <th></th>\n",
       "    </tr>\n",
       "  </thead>\n",
       "  <tbody>\n",
       "    <tr>\n",
       "      <th>1</th>\n",
       "      <td>1598.5</td>\n",
       "    </tr>\n",
       "    <tr>\n",
       "      <th>2</th>\n",
       "      <td>1591.8</td>\n",
       "    </tr>\n",
       "    <tr>\n",
       "      <th>3</th>\n",
       "      <td>1597.5</td>\n",
       "    </tr>\n",
       "  </tbody>\n",
       "</table>\n",
       "</div>"
      ],
      "text/plain": [
       "     avg_temperature\n",
       "key                 \n",
       "1             1598.5\n",
       "2             1591.8\n",
       "3             1597.5"
      ]
     },
     "execution_count": 43,
     "metadata": {},
     "output_type": "execute_result"
    }
   ],
   "source": [
    "\n",
    "data_temp_all=data_temp.query('time_measure not in @time_list_max')\n",
    "data_temp_all=pd.pivot_table(data_temp_all, index='key',aggfunc={'temperature':  np.mean})\n",
    "data_temp_all=data_temp_all.rename(columns={'temperature':'avg_temperature'})\n",
    "\n",
    "\n",
    "data_temp_all.head(3)"
   ]
  },
  {
   "cell_type": "code",
   "execution_count": 44,
   "id": "4ea6b7c6",
   "metadata": {},
   "outputs": [
    {
     "data": {
      "text/html": [
       "<div>\n",
       "<style scoped>\n",
       "    .dataframe tbody tr th:only-of-type {\n",
       "        vertical-align: middle;\n",
       "    }\n",
       "\n",
       "    .dataframe tbody tr th {\n",
       "        vertical-align: top;\n",
       "    }\n",
       "\n",
       "    .dataframe thead th {\n",
       "        text-align: right;\n",
       "    }\n",
       "</style>\n",
       "<table border=\"1\" class=\"dataframe\">\n",
       "  <thead>\n",
       "    <tr style=\"text-align: right;\">\n",
       "      <th></th>\n",
       "      <th>key</th>\n",
       "      <th>time_min</th>\n",
       "      <th>temperature_min</th>\n",
       "      <th>time_max</th>\n",
       "      <th>temperature_max</th>\n",
       "    </tr>\n",
       "  </thead>\n",
       "  <tbody>\n",
       "    <tr>\n",
       "      <th>0</th>\n",
       "      <td>1</td>\n",
       "      <td>2019-05-03 11:16:18</td>\n",
       "      <td>1571.0</td>\n",
       "      <td>2019-05-03 11:30:39</td>\n",
       "      <td>1613.0</td>\n",
       "    </tr>\n",
       "    <tr>\n",
       "      <th>1</th>\n",
       "      <td>2</td>\n",
       "      <td>2019-05-03 11:37:27</td>\n",
       "      <td>1581.0</td>\n",
       "      <td>2019-05-03 11:59:12</td>\n",
       "      <td>1602.0</td>\n",
       "    </tr>\n",
       "    <tr>\n",
       "      <th>2</th>\n",
       "      <td>3</td>\n",
       "      <td>2019-05-03 12:13:17</td>\n",
       "      <td>1596.0</td>\n",
       "      <td>2019-05-03 12:34:57</td>\n",
       "      <td>1599.0</td>\n",
       "    </tr>\n",
       "    <tr>\n",
       "      <th>3</th>\n",
       "      <td>4</td>\n",
       "      <td>2019-05-03 12:52:57</td>\n",
       "      <td>1601.0</td>\n",
       "      <td>2019-05-03 12:59:25</td>\n",
       "      <td>1625.0</td>\n",
       "    </tr>\n",
       "    <tr>\n",
       "      <th>4</th>\n",
       "      <td>5</td>\n",
       "      <td>2019-05-03 13:23:19</td>\n",
       "      <td>1576.0</td>\n",
       "      <td>2019-05-03 13:36:01</td>\n",
       "      <td>1602.0</td>\n",
       "    </tr>\n",
       "  </tbody>\n",
       "</table>\n",
       "</div>"
      ],
      "text/plain": [
       "   key             time_min  temperature_min             time_max  \\\n",
       "0    1  2019-05-03 11:16:18           1571.0  2019-05-03 11:30:39   \n",
       "1    2  2019-05-03 11:37:27           1581.0  2019-05-03 11:59:12   \n",
       "2    3  2019-05-03 12:13:17           1596.0  2019-05-03 12:34:57   \n",
       "3    4  2019-05-03 12:52:57           1601.0  2019-05-03 12:59:25   \n",
       "4    5  2019-05-03 13:23:19           1576.0  2019-05-03 13:36:01   \n",
       "\n",
       "   temperature_max  \n",
       "0           1613.0  \n",
       "1           1602.0  \n",
       "2           1599.0  \n",
       "3           1625.0  \n",
       "4           1602.0  "
      ]
     },
     "execution_count": 44,
     "metadata": {},
     "output_type": "execute_result"
    }
   ],
   "source": [
    "data_temp_rezult=pd.merge(data_temp_min_t,data_temp_max_t,on=[\"key\"] )\n",
    "data_temp_rezult.head()"
   ]
  },
  {
   "cell_type": "code",
   "execution_count": 45,
   "id": "7928efa4",
   "metadata": {},
   "outputs": [
    {
     "name": "stdout",
     "output_type": "stream",
     "text": [
      "<class 'pandas.core.frame.DataFrame'>\n",
      "Int64Index: 3216 entries, 0 to 3215\n",
      "Data columns (total 5 columns):\n",
      " #   Column           Non-Null Count  Dtype  \n",
      "---  ------           --------------  -----  \n",
      " 0   key              3216 non-null   int64  \n",
      " 1   time_min         3216 non-null   object \n",
      " 2   temperature_min  3216 non-null   float64\n",
      " 3   time_max         3216 non-null   object \n",
      " 4   temperature_max  2477 non-null   float64\n",
      "dtypes: float64(2), int64(1), object(2)\n",
      "memory usage: 150.8+ KB\n"
     ]
    }
   ],
   "source": [
    "data_temp_rezult.info()"
   ]
  },
  {
   "cell_type": "code",
   "execution_count": 46,
   "id": "b09d86f1",
   "metadata": {},
   "outputs": [],
   "source": [
    "data_temp_rezult['time_min']=pd.to_datetime(data_temp_rezult['time_min'])\n",
    "data_temp_rezult['time_max']=pd.to_datetime(data_temp_rezult['time_max'])"
   ]
  },
  {
   "cell_type": "code",
   "execution_count": 47,
   "id": "910e6200",
   "metadata": {},
   "outputs": [
    {
     "data": {
      "text/plain": [
       "<AxesSubplot:>"
      ]
     },
     "execution_count": 47,
     "metadata": {},
     "output_type": "execute_result"
    },
    {
     "data": {
      "image/png": "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\n",
      "text/plain": [
       "<Figure size 1080x360 with 1 Axes>"
      ]
     },
     "metadata": {
      "needs_background": "light"
     },
     "output_type": "display_data"
    }
   ],
   "source": [
    "data_temp_rezult['spend_time']=(data_temp_rezult['time_max']-data_temp_rezult['time_min'])\n",
    "\n",
    "data_temp_rezult['spend_time'] = data_temp_rezult['spend_time']/np.timedelta64(1, 'm')\n",
    "\n",
    "data_temp_rezult['spend_time'].hist(bins=50, figsize=(15,5), alpha=0.7)"
   ]
  },
  {
   "cell_type": "code",
   "execution_count": 48,
   "id": "8eab371b",
   "metadata": {},
   "outputs": [
    {
     "data": {
      "text/html": [
       "<div>\n",
       "<style scoped>\n",
       "    .dataframe tbody tr th:only-of-type {\n",
       "        vertical-align: middle;\n",
       "    }\n",
       "\n",
       "    .dataframe tbody tr th {\n",
       "        vertical-align: top;\n",
       "    }\n",
       "\n",
       "    .dataframe thead th {\n",
       "        text-align: right;\n",
       "    }\n",
       "</style>\n",
       "<table border=\"1\" class=\"dataframe\">\n",
       "  <thead>\n",
       "    <tr style=\"text-align: right;\">\n",
       "      <th></th>\n",
       "      <th>key</th>\n",
       "      <th>time_min</th>\n",
       "      <th>temperature_min</th>\n",
       "      <th>time_max</th>\n",
       "      <th>temperature_max</th>\n",
       "      <th>spend_time</th>\n",
       "    </tr>\n",
       "  </thead>\n",
       "  <tbody>\n",
       "    <tr>\n",
       "      <th>192</th>\n",
       "      <td>195</td>\n",
       "      <td>2019-05-10 14:10:23</td>\n",
       "      <td>1583.0</td>\n",
       "      <td>2019-05-10 14:10:23</td>\n",
       "      <td>1583.0</td>\n",
       "      <td>0.0</td>\n",
       "    </tr>\n",
       "    <tr>\n",
       "      <th>276</th>\n",
       "      <td>279</td>\n",
       "      <td>2019-05-13 23:07:28</td>\n",
       "      <td>1603.0</td>\n",
       "      <td>2019-05-13 23:07:28</td>\n",
       "      <td>1603.0</td>\n",
       "      <td>0.0</td>\n",
       "    </tr>\n",
       "  </tbody>\n",
       "</table>\n",
       "</div>"
      ],
      "text/plain": [
       "     key            time_min  temperature_min            time_max  \\\n",
       "192  195 2019-05-10 14:10:23           1583.0 2019-05-10 14:10:23   \n",
       "276  279 2019-05-13 23:07:28           1603.0 2019-05-13 23:07:28   \n",
       "\n",
       "     temperature_max  spend_time  \n",
       "192           1583.0         0.0  \n",
       "276           1603.0         0.0  "
      ]
     },
     "execution_count": 48,
     "metadata": {},
     "output_type": "execute_result"
    }
   ],
   "source": [
    "data_temp_rezult.loc[data_temp_rezult['spend_time']<=0]\n"
   ]
  },
  {
   "cell_type": "code",
   "execution_count": 49,
   "id": "6b5308c1",
   "metadata": {},
   "outputs": [],
   "source": [
    "data_temp_rezult=data_temp_rezult.loc[data_temp_rezult['spend_time']>0] # Убираем нулевое время"
   ]
  },
  {
   "cell_type": "code",
   "execution_count": 50,
   "id": "fe33c57e",
   "metadata": {},
   "outputs": [
    {
     "data": {
      "text/html": [
       "<div>\n",
       "<style scoped>\n",
       "    .dataframe tbody tr th:only-of-type {\n",
       "        vertical-align: middle;\n",
       "    }\n",
       "\n",
       "    .dataframe tbody tr th {\n",
       "        vertical-align: top;\n",
       "    }\n",
       "\n",
       "    .dataframe thead th {\n",
       "        text-align: right;\n",
       "    }\n",
       "</style>\n",
       "<table border=\"1\" class=\"dataframe\">\n",
       "  <thead>\n",
       "    <tr style=\"text-align: right;\">\n",
       "      <th></th>\n",
       "      <th>key</th>\n",
       "      <th>time_min</th>\n",
       "      <th>temperature_min</th>\n",
       "      <th>time_max</th>\n",
       "      <th>temperature_max</th>\n",
       "      <th>spend_time</th>\n",
       "    </tr>\n",
       "  </thead>\n",
       "  <tbody>\n",
       "  </tbody>\n",
       "</table>\n",
       "</div>"
      ],
      "text/plain": [
       "Empty DataFrame\n",
       "Columns: [key, time_min, temperature_min, time_max, temperature_max, spend_time]\n",
       "Index: []"
      ]
     },
     "execution_count": 50,
     "metadata": {},
     "output_type": "execute_result"
    }
   ],
   "source": [
    "data_temp_rezult.loc[data_temp_rezult['temperature_min'].isna()]"
   ]
  },
  {
   "cell_type": "code",
   "execution_count": 51,
   "id": "dd2e56c0",
   "metadata": {},
   "outputs": [
    {
     "data": {
      "text/html": [
       "<div>\n",
       "<style scoped>\n",
       "    .dataframe tbody tr th:only-of-type {\n",
       "        vertical-align: middle;\n",
       "    }\n",
       "\n",
       "    .dataframe tbody tr th {\n",
       "        vertical-align: top;\n",
       "    }\n",
       "\n",
       "    .dataframe thead th {\n",
       "        text-align: right;\n",
       "    }\n",
       "</style>\n",
       "<table border=\"1\" class=\"dataframe\">\n",
       "  <thead>\n",
       "    <tr style=\"text-align: right;\">\n",
       "      <th></th>\n",
       "      <th>key</th>\n",
       "      <th>time_min</th>\n",
       "      <th>temperature_min</th>\n",
       "      <th>time_max</th>\n",
       "      <th>temperature_max</th>\n",
       "      <th>spend_time</th>\n",
       "    </tr>\n",
       "  </thead>\n",
       "  <tbody>\n",
       "    <tr>\n",
       "      <th>0</th>\n",
       "      <td>1</td>\n",
       "      <td>2019-05-03 11:16:18</td>\n",
       "      <td>1571.0</td>\n",
       "      <td>2019-05-03 11:30:39</td>\n",
       "      <td>1613.0</td>\n",
       "      <td>14.350000</td>\n",
       "    </tr>\n",
       "    <tr>\n",
       "      <th>1</th>\n",
       "      <td>2</td>\n",
       "      <td>2019-05-03 11:37:27</td>\n",
       "      <td>1581.0</td>\n",
       "      <td>2019-05-03 11:59:12</td>\n",
       "      <td>1602.0</td>\n",
       "      <td>21.750000</td>\n",
       "    </tr>\n",
       "    <tr>\n",
       "      <th>2</th>\n",
       "      <td>3</td>\n",
       "      <td>2019-05-03 12:13:17</td>\n",
       "      <td>1596.0</td>\n",
       "      <td>2019-05-03 12:34:57</td>\n",
       "      <td>1599.0</td>\n",
       "      <td>21.666667</td>\n",
       "    </tr>\n",
       "    <tr>\n",
       "      <th>3</th>\n",
       "      <td>4</td>\n",
       "      <td>2019-05-03 12:52:57</td>\n",
       "      <td>1601.0</td>\n",
       "      <td>2019-05-03 12:59:25</td>\n",
       "      <td>1625.0</td>\n",
       "      <td>6.466667</td>\n",
       "    </tr>\n",
       "    <tr>\n",
       "      <th>4</th>\n",
       "      <td>5</td>\n",
       "      <td>2019-05-03 13:23:19</td>\n",
       "      <td>1576.0</td>\n",
       "      <td>2019-05-03 13:36:01</td>\n",
       "      <td>1602.0</td>\n",
       "      <td>12.700000</td>\n",
       "    </tr>\n",
       "    <tr>\n",
       "      <th>...</th>\n",
       "      <td>...</td>\n",
       "      <td>...</td>\n",
       "      <td>...</td>\n",
       "      <td>...</td>\n",
       "      <td>...</td>\n",
       "      <td>...</td>\n",
       "    </tr>\n",
       "    <tr>\n",
       "      <th>2472</th>\n",
       "      <td>2495</td>\n",
       "      <td>2019-08-06 00:35:45</td>\n",
       "      <td>1570.0</td>\n",
       "      <td>2019-08-06 00:54:42</td>\n",
       "      <td>1591.0</td>\n",
       "      <td>18.950000</td>\n",
       "    </tr>\n",
       "    <tr>\n",
       "      <th>2473</th>\n",
       "      <td>2496</td>\n",
       "      <td>2019-08-06 01:02:54</td>\n",
       "      <td>1554.0</td>\n",
       "      <td>2019-08-06 01:29:52</td>\n",
       "      <td>1591.0</td>\n",
       "      <td>26.966667</td>\n",
       "    </tr>\n",
       "    <tr>\n",
       "      <th>2474</th>\n",
       "      <td>2497</td>\n",
       "      <td>2019-08-06 01:41:53</td>\n",
       "      <td>1571.0</td>\n",
       "      <td>2019-08-06 01:53:50</td>\n",
       "      <td>1589.0</td>\n",
       "      <td>11.950000</td>\n",
       "    </tr>\n",
       "    <tr>\n",
       "      <th>2475</th>\n",
       "      <td>2498</td>\n",
       "      <td>2019-08-06 02:03:49</td>\n",
       "      <td>1591.0</td>\n",
       "      <td>2019-08-06 02:25:31</td>\n",
       "      <td>1594.0</td>\n",
       "      <td>21.700000</td>\n",
       "    </tr>\n",
       "    <tr>\n",
       "      <th>2476</th>\n",
       "      <td>2499</td>\n",
       "      <td>2019-08-06 02:40:25</td>\n",
       "      <td>1569.0</td>\n",
       "      <td>2019-08-06 03:00:28</td>\n",
       "      <td>1603.0</td>\n",
       "      <td>20.050000</td>\n",
       "    </tr>\n",
       "  </tbody>\n",
       "</table>\n",
       "<p>2475 rows × 6 columns</p>\n",
       "</div>"
      ],
      "text/plain": [
       "       key            time_min  temperature_min            time_max  \\\n",
       "0        1 2019-05-03 11:16:18           1571.0 2019-05-03 11:30:39   \n",
       "1        2 2019-05-03 11:37:27           1581.0 2019-05-03 11:59:12   \n",
       "2        3 2019-05-03 12:13:17           1596.0 2019-05-03 12:34:57   \n",
       "3        4 2019-05-03 12:52:57           1601.0 2019-05-03 12:59:25   \n",
       "4        5 2019-05-03 13:23:19           1576.0 2019-05-03 13:36:01   \n",
       "...    ...                 ...              ...                 ...   \n",
       "2472  2495 2019-08-06 00:35:45           1570.0 2019-08-06 00:54:42   \n",
       "2473  2496 2019-08-06 01:02:54           1554.0 2019-08-06 01:29:52   \n",
       "2474  2497 2019-08-06 01:41:53           1571.0 2019-08-06 01:53:50   \n",
       "2475  2498 2019-08-06 02:03:49           1591.0 2019-08-06 02:25:31   \n",
       "2476  2499 2019-08-06 02:40:25           1569.0 2019-08-06 03:00:28   \n",
       "\n",
       "      temperature_max  spend_time  \n",
       "0              1613.0   14.350000  \n",
       "1              1602.0   21.750000  \n",
       "2              1599.0   21.666667  \n",
       "3              1625.0    6.466667  \n",
       "4              1602.0   12.700000  \n",
       "...               ...         ...  \n",
       "2472           1591.0   18.950000  \n",
       "2473           1591.0   26.966667  \n",
       "2474           1589.0   11.950000  \n",
       "2475           1594.0   21.700000  \n",
       "2476           1603.0   20.050000  \n",
       "\n",
       "[2475 rows x 6 columns]"
      ]
     },
     "execution_count": 51,
     "metadata": {},
     "output_type": "execute_result"
    }
   ],
   "source": [
    "data_temp_rezult.loc[~data_temp_rezult['temperature_max'].isna()]"
   ]
  },
  {
   "cell_type": "code",
   "execution_count": 52,
   "id": "b16fdc6d",
   "metadata": {},
   "outputs": [
    {
     "data": {
      "text/plain": [
       "(2475, 6)"
      ]
     },
     "execution_count": 52,
     "metadata": {},
     "output_type": "execute_result"
    }
   ],
   "source": [
    "data_temp_rezult=data_temp_rezult.loc[~data_temp_rezult['temperature_max'].isna()]\n",
    "data_temp_rezult.shape"
   ]
  },
  {
   "cell_type": "markdown",
   "id": "e14e0cad",
   "metadata": {},
   "source": [
    "<b>Выводы:</b>  \n",
    "Получили таблицу температу для каждой партии и время затраченное для получение конечной температуры.  \n",
    "Убрали из таблицы данные с отсутсвующими значениями."
   ]
  },
  {
   "cell_type": "markdown",
   "id": "a89706cd",
   "metadata": {},
   "source": [
    "**Общие выводы по подготовке данных**  \n",
    "\n",
    "На этапе исследования и подготовки данных были отобраны значимые для результирующего сета таблицы и проведена работа по подготовки полей:  \n",
    "* Произведено пере название полей (привели к стандартному виду)\n",
    "* Проведена проверка на дубликаты\n",
    "* Проведена корректировка форматов полей \n",
    "* Рассчитаны необходимые агрегаты, такие как общая суммарная мощность, и время процесса\n",
    "* Данные очищены от явной аномалии.\n"
   ]
  },
  {
   "cell_type": "code",
   "execution_count": 53,
   "id": "f87130df",
   "metadata": {},
   "outputs": [],
   "source": [
    "data_bulk=data_bulk.set_index('key')\n",
    "data_wire=data_wire.set_index('key')\n",
    "data_gas=data_gas.set_index('key')\n",
    "data_temp_rezult=data_temp_rezult.set_index('key')\n"
   ]
  },
  {
   "cell_type": "code",
   "execution_count": 54,
   "id": "0434469e",
   "metadata": {},
   "outputs": [],
   "source": [
    "data_rezult=pd.concat([data_temp_rezult, data_arc_rezult,data_bulk,data_wire,data_gas],axis=1, join=\"inner\")"
   ]
  },
  {
   "cell_type": "code",
   "execution_count": 55,
   "id": "b07dbb01",
   "metadata": {},
   "outputs": [
    {
     "data": {
      "text/html": [
       "<div>\n",
       "<style scoped>\n",
       "    .dataframe tbody tr th:only-of-type {\n",
       "        vertical-align: middle;\n",
       "    }\n",
       "\n",
       "    .dataframe tbody tr th {\n",
       "        vertical-align: top;\n",
       "    }\n",
       "\n",
       "    .dataframe thead th {\n",
       "        text-align: right;\n",
       "    }\n",
       "</style>\n",
       "<table border=\"1\" class=\"dataframe\">\n",
       "  <thead>\n",
       "    <tr style=\"text-align: right;\">\n",
       "      <th></th>\n",
       "      <th>temperature_min</th>\n",
       "      <th>temperature_max</th>\n",
       "      <th>spend_time</th>\n",
       "      <th>sum_activ_power</th>\n",
       "      <th>sum_reactiv_power</th>\n",
       "      <th>bulk_3</th>\n",
       "      <th>bulk_4</th>\n",
       "      <th>bulk_6</th>\n",
       "      <th>bulk_12</th>\n",
       "      <th>bulk_14</th>\n",
       "      <th>bulk_15</th>\n",
       "      <th>wire_1</th>\n",
       "      <th>wire_2</th>\n",
       "      <th>gas</th>\n",
       "    </tr>\n",
       "    <tr>\n",
       "      <th>key</th>\n",
       "      <th></th>\n",
       "      <th></th>\n",
       "      <th></th>\n",
       "      <th></th>\n",
       "      <th></th>\n",
       "      <th></th>\n",
       "      <th></th>\n",
       "      <th></th>\n",
       "      <th></th>\n",
       "      <th></th>\n",
       "      <th></th>\n",
       "      <th></th>\n",
       "      <th></th>\n",
       "      <th></th>\n",
       "    </tr>\n",
       "  </thead>\n",
       "  <tbody>\n",
       "    <tr>\n",
       "      <th>1</th>\n",
       "      <td>1571.0</td>\n",
       "      <td>1613.0</td>\n",
       "      <td>14.350000</td>\n",
       "      <td>4.878147</td>\n",
       "      <td>3.183241</td>\n",
       "      <td>NaN</td>\n",
       "      <td>43.0</td>\n",
       "      <td>NaN</td>\n",
       "      <td>206.0</td>\n",
       "      <td>150.0</td>\n",
       "      <td>154.0</td>\n",
       "      <td>60.059998</td>\n",
       "      <td>NaN</td>\n",
       "      <td>29.749986</td>\n",
       "    </tr>\n",
       "    <tr>\n",
       "      <th>2</th>\n",
       "      <td>1581.0</td>\n",
       "      <td>1602.0</td>\n",
       "      <td>21.750000</td>\n",
       "      <td>3.052598</td>\n",
       "      <td>1.998112</td>\n",
       "      <td>NaN</td>\n",
       "      <td>73.0</td>\n",
       "      <td>NaN</td>\n",
       "      <td>206.0</td>\n",
       "      <td>149.0</td>\n",
       "      <td>154.0</td>\n",
       "      <td>96.052315</td>\n",
       "      <td>NaN</td>\n",
       "      <td>12.555561</td>\n",
       "    </tr>\n",
       "    <tr>\n",
       "      <th>3</th>\n",
       "      <td>1596.0</td>\n",
       "      <td>1599.0</td>\n",
       "      <td>21.666667</td>\n",
       "      <td>2.525882</td>\n",
       "      <td>1.599076</td>\n",
       "      <td>NaN</td>\n",
       "      <td>34.0</td>\n",
       "      <td>NaN</td>\n",
       "      <td>205.0</td>\n",
       "      <td>152.0</td>\n",
       "      <td>153.0</td>\n",
       "      <td>91.160157</td>\n",
       "      <td>NaN</td>\n",
       "      <td>28.554793</td>\n",
       "    </tr>\n",
       "  </tbody>\n",
       "</table>\n",
       "</div>"
      ],
      "text/plain": [
       "     temperature_min  temperature_max  spend_time  sum_activ_power  \\\n",
       "key                                                                  \n",
       "1             1571.0           1613.0   14.350000         4.878147   \n",
       "2             1581.0           1602.0   21.750000         3.052598   \n",
       "3             1596.0           1599.0   21.666667         2.525882   \n",
       "\n",
       "     sum_reactiv_power  bulk_3  bulk_4  bulk_6  bulk_12  bulk_14  bulk_15  \\\n",
       "key                                                                         \n",
       "1             3.183241     NaN    43.0     NaN    206.0    150.0    154.0   \n",
       "2             1.998112     NaN    73.0     NaN    206.0    149.0    154.0   \n",
       "3             1.599076     NaN    34.0     NaN    205.0    152.0    153.0   \n",
       "\n",
       "        wire_1  wire_2        gas  \n",
       "key                                \n",
       "1    60.059998     NaN  29.749986  \n",
       "2    96.052315     NaN  12.555561  \n",
       "3    91.160157     NaN  28.554793  "
      ]
     },
     "execution_count": 55,
     "metadata": {},
     "output_type": "execute_result"
    }
   ],
   "source": [
    "data_rezult=data_rezult.drop(['time_min','time_max'],axis=1)\n",
    "\n",
    "data_rezult.head(3)"
   ]
  },
  {
   "cell_type": "code",
   "execution_count": 56,
   "id": "608172bc",
   "metadata": {},
   "outputs": [
    {
     "name": "stdout",
     "output_type": "stream",
     "text": [
      "<class 'pandas.core.frame.DataFrame'>\n",
      "Int64Index: 2329 entries, 1 to 2499\n",
      "Data columns (total 14 columns):\n",
      " #   Column             Non-Null Count  Dtype  \n",
      "---  ------             --------------  -----  \n",
      " 0   temperature_min    2329 non-null   float64\n",
      " 1   temperature_max    2329 non-null   float64\n",
      " 2   spend_time         2329 non-null   float64\n",
      " 3   sum_activ_power    2329 non-null   float64\n",
      " 4   sum_reactiv_power  2329 non-null   float64\n",
      " 5   bulk_3             960 non-null    float64\n",
      " 6   bulk_4             812 non-null    float64\n",
      " 7   bulk_6             438 non-null    float64\n",
      " 8   bulk_12            1812 non-null   float64\n",
      " 9   bulk_14            2068 non-null   float64\n",
      " 10  bulk_15            1699 non-null   float64\n",
      " 11  wire_1             2306 non-null   float64\n",
      " 12  wire_2             811 non-null    float64\n",
      " 13  gas                2329 non-null   float64\n",
      "dtypes: float64(14)\n",
      "memory usage: 272.9 KB\n"
     ]
    }
   ],
   "source": [
    "data_rezult.info()"
   ]
  },
  {
   "cell_type": "markdown",
   "id": "fd7e6f30",
   "metadata": {},
   "source": [
    "**Корреляцию**"
   ]
  },
  {
   "cell_type": "code",
   "execution_count": 57,
   "id": "765f9f06",
   "metadata": {},
   "outputs": [
    {
     "data": {
      "text/plain": [
       "<matplotlib.image.AxesImage at 0x1e8ca786e88>"
      ]
     },
     "execution_count": 57,
     "metadata": {},
     "output_type": "execute_result"
    },
    {
     "data": {
      "image/png": "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\n",
      "text/plain": [
       "<Figure size 720x720 with 1 Axes>"
      ]
     },
     "metadata": {
      "needs_background": "light"
     },
     "output_type": "display_data"
    }
   ],
   "source": [
    "\n",
    "data_corr = data_rezult.corr()\n",
    "fig, ax = plt.subplots(figsize=(10,10))\n",
    "ax.set_xticks(np.arange(len(data_corr.index)))\n",
    "ax.set_yticks(np.arange(len(data_corr.index)))\n",
    "ax.set_xticklabels(data_corr.index)\n",
    "ax.set_yticklabels(data_corr.index)\n",
    "plt.setp(ax.get_xticklabels(), rotation=45, ha=\"right\",rotation_mode=\"anchor\")\n",
    "\n",
    "data = data_corr.values\n",
    "\n",
    "for i in range(len(data_corr.index)):\n",
    "    for j in range(len(data_corr.index)):\n",
    "        text = ax.text(j, i, '{:.2}'.format(data[i, j]), ha=\"center\", va=\"center\")\n",
    "        \n",
    "ax.imshow(data_corr.corr(), cmap='Blues')\n"
   ]
  },
  {
   "cell_type": "markdown",
   "id": "73e306d6",
   "metadata": {},
   "source": [
    "<b>Выводы:</b> Сильнокоррелирующий признаки  sum_activ_power и  sum_reactiv_power удалим один  из них."
   ]
  },
  {
   "cell_type": "code",
   "execution_count": 58,
   "id": "ca2e4805",
   "metadata": {},
   "outputs": [],
   "source": [
    " data_rezult=data_rezult.drop('sum_reactiv_power', axis=1)"
   ]
  },
  {
   "cell_type": "code",
   "execution_count": 59,
   "id": "c01f59d6",
   "metadata": {},
   "outputs": [],
   "source": [
    "for col_l in data_rezult.columns:\n",
    "        data_rezult[col_l]= data_rezult[col_l].fillna(0)"
   ]
  },
  {
   "cell_type": "code",
   "execution_count": 60,
   "id": "371b978f",
   "metadata": {},
   "outputs": [
    {
     "name": "stdout",
     "output_type": "stream",
     "text": [
      "<class 'pandas.core.frame.DataFrame'>\n",
      "Int64Index: 2329 entries, 1 to 2499\n",
      "Data columns (total 13 columns):\n",
      " #   Column           Non-Null Count  Dtype  \n",
      "---  ------           --------------  -----  \n",
      " 0   temperature_min  2329 non-null   float64\n",
      " 1   temperature_max  2329 non-null   float64\n",
      " 2   spend_time       2329 non-null   float64\n",
      " 3   sum_activ_power  2329 non-null   float64\n",
      " 4   bulk_3           2329 non-null   float64\n",
      " 5   bulk_4           2329 non-null   float64\n",
      " 6   bulk_6           2329 non-null   float64\n",
      " 7   bulk_12          2329 non-null   float64\n",
      " 8   bulk_14          2329 non-null   float64\n",
      " 9   bulk_15          2329 non-null   float64\n",
      " 10  wire_1           2329 non-null   float64\n",
      " 11  wire_2           2329 non-null   float64\n",
      " 12  gas              2329 non-null   float64\n",
      "dtypes: float64(13)\n",
      "memory usage: 254.7 KB\n"
     ]
    }
   ],
   "source": [
    "data_rezult.info()"
   ]
  },
  {
   "cell_type": "code",
   "execution_count": 61,
   "id": "1a22bc4f",
   "metadata": {},
   "outputs": [],
   "source": [
    "target = data_rezult['temperature_max']\n",
    "features = data_rezult.drop('temperature_max', axis=1)"
   ]
  },
  {
   "cell_type": "markdown",
   "id": "91b23131",
   "metadata": {},
   "source": [
    "<b>Выводы:</b>  \n",
    "Объединили поля из подготовленных таблиц по ключу (key)  \n",
    "Заменили отсутствующие значение в на 0 (0 означает отсутствие действия)  \n",
    "В итоге получили подготовленную таблицу по каждой партии.\n"
   ]
  },
  {
   "cell_type": "markdown",
   "id": "4fd6db3b",
   "metadata": {},
   "source": [
    "ВОПРОС: Можно считать что данные подготовлены для дальнейшего работы в моделях?"
   ]
  },
  {
   "cell_type": "markdown",
   "id": "38474d5f",
   "metadata": {},
   "source": [
    "**Обучение моделей и тестирование**"
   ]
  },
  {
   "cell_type": "code",
   "execution_count": 62,
   "id": "ca7b694d",
   "metadata": {},
   "outputs": [
    {
     "name": "stdout",
     "output_type": "stream",
     "text": [
      "Размеры обучающей выборки (1746, 12)\n",
      "Размеры тестовой выборки (583, 12)\n"
     ]
    }
   ],
   "source": [
    "features_train, features_test, target_train, target_test = train_test_split(features, target,\n",
    "                                                                            test_size=0.25, random_state=141122)\n",
    "print('Размеры обучающей выборки', features_train.shape)\n",
    "print('Размеры тестовой выборки', features_test.shape)"
   ]
  },
  {
   "cell_type": "markdown",
   "id": "ebc32c5b",
   "metadata": {},
   "source": [
    "**1) RandomForestRegressor**"
   ]
  },
  {
   "cell_type": "code",
   "execution_count": 63,
   "id": "26fdd10b",
   "metadata": {},
   "outputs": [
    {
     "name": "stdout",
     "output_type": "stream",
     "text": [
      "Wall time: 1min 9s\n"
     ]
    },
    {
     "data": {
      "text/plain": [
       "GridSearchCV(cv=5, estimator=RandomForestRegressor(random_state=141122),\n",
       "             param_grid={'max_depth': [1, 2, 3, 4, 5, 6, 8],\n",
       "                         'n_estimators': [100, 150, 200, 250]},\n",
       "             scoring='neg_mean_absolute_error')"
      ]
     },
     "execution_count": 63,
     "metadata": {},
     "output_type": "execute_result"
    }
   ],
   "source": [
    "%%time\n",
    "regr=RandomForestRegressor(random_state=141122)\n",
    "parameters = {\n",
    "    'n_estimators': [100, 150, 200, 250],\n",
    "    'max_depth': [1,2,3,4,5,6,8],\n",
    "}\n",
    "\n",
    "clf = GridSearchCV(regr, parameters,scoring='neg_mean_absolute_error', cv=5)\n",
    "clf.fit(features_train,target_train)\n"
   ]
  },
  {
   "cell_type": "code",
   "execution_count": 64,
   "id": "4b699b29",
   "metadata": {},
   "outputs": [
    {
     "name": "stdout",
     "output_type": "stream",
     "text": [
      "Лучший параметр: {'max_depth': 8, 'n_estimators': 250}\n",
      "MAE RandomForest: 5.89\n"
     ]
    }
   ],
   "source": [
    "best_params_rfr = clf.best_params_\n",
    "print('Лучший параметр:' ,best_params_rfr)\n",
    "print('MAE RandomForest: {:.2f}'.format(-clf.best_score_))"
   ]
  },
  {
   "cell_type": "markdown",
   "id": "ae725187",
   "metadata": {},
   "source": [
    "**2) LinearRegression**"
   ]
  },
  {
   "cell_type": "code",
   "execution_count": 65,
   "id": "29bc3d86",
   "metadata": {},
   "outputs": [
    {
     "name": "stdout",
     "output_type": "stream",
     "text": [
      "Wall time: 34.9 ms\n"
     ]
    }
   ],
   "source": [
    "%%time\n",
    "scaler= StandardScaler()\n",
    "scaler.fit(features_train) \n",
    "s_features_train= scaler.transform(features_train)\n",
    "lr= LinearRegression()\n",
    "cvs=cross_val_score(lr, s_features_train, target_train,cv=5, scoring='neg_mean_absolute_error')\n"
   ]
  },
  {
   "cell_type": "code",
   "execution_count": 66,
   "id": "39705545",
   "metadata": {},
   "outputs": [
    {
     "name": "stdout",
     "output_type": "stream",
     "text": [
      "MAE LinearRegression: 6.38\n"
     ]
    }
   ],
   "source": [
    "print('MAE LinearRegression: {:.2f}'.format(-cvs.mean()))"
   ]
  },
  {
   "cell_type": "markdown",
   "id": "6cd7e2fb",
   "metadata": {},
   "source": [
    "**3) CatBoostRegressor**"
   ]
  },
  {
   "cell_type": "code",
   "execution_count": 67,
   "id": "8f1c14de",
   "metadata": {},
   "outputs": [
    {
     "name": "stdout",
     "output_type": "stream",
     "text": [
      "Wall time: 9.54 s\n"
     ]
    }
   ],
   "source": [
    "%%time\n",
    "\n",
    "cbr = CatBoostRegressor(verbose=False, random_state=141122)\n",
    "cvs_crb=cross_val_score(cbr, features_train, target_train,cv=5, scoring='neg_mean_absolute_error')\n",
    "best_params_crb = CatBoostRegressor(verbose=False, random_state=141122).fit(features_train,target_train).get_all_params()\n"
   ]
  },
  {
   "cell_type": "code",
   "execution_count": 68,
   "id": "22e90dd5",
   "metadata": {},
   "outputs": [
    {
     "name": "stdout",
     "output_type": "stream",
     "text": [
      "MAE CatBoost: 5.47\n"
     ]
    }
   ],
   "source": [
    "\n",
    "print('MAE CatBoost: {:.2f}'.format(-cvs_crb.mean()))"
   ]
  },
  {
   "cell_type": "code",
   "execution_count": 69,
   "id": "b6439486",
   "metadata": {},
   "outputs": [
    {
     "name": "stdout",
     "output_type": "stream",
     "text": [
      "Лучший параметр:\n"
     ]
    },
    {
     "data": {
      "text/plain": [
       "{'nan_mode': 'Min',\n",
       " 'eval_metric': 'RMSE',\n",
       " 'iterations': 1000,\n",
       " 'sampling_frequency': 'PerTree',\n",
       " 'leaf_estimation_method': 'Newton',\n",
       " 'grow_policy': 'SymmetricTree',\n",
       " 'penalties_coefficient': 1,\n",
       " 'boosting_type': 'Plain',\n",
       " 'model_shrink_mode': 'Constant',\n",
       " 'feature_border_type': 'GreedyLogSum',\n",
       " 'bayesian_matrix_reg': 0.10000000149011612,\n",
       " 'force_unit_auto_pair_weights': False,\n",
       " 'l2_leaf_reg': 3,\n",
       " 'random_strength': 1,\n",
       " 'rsm': 1,\n",
       " 'boost_from_average': True,\n",
       " 'model_size_reg': 0.5,\n",
       " 'pool_metainfo_options': {'tags': {}},\n",
       " 'subsample': 0.800000011920929,\n",
       " 'use_best_model': False,\n",
       " 'random_seed': 141122,\n",
       " 'depth': 6,\n",
       " 'posterior_sampling': False,\n",
       " 'border_count': 254,\n",
       " 'classes_count': 0,\n",
       " 'auto_class_weights': 'None',\n",
       " 'sparse_features_conflict_fraction': 0,\n",
       " 'leaf_estimation_backtracking': 'AnyImprovement',\n",
       " 'best_model_min_trees': 1,\n",
       " 'model_shrink_rate': 0,\n",
       " 'min_data_in_leaf': 1,\n",
       " 'loss_function': 'RMSE',\n",
       " 'learning_rate': 0.04471199959516525,\n",
       " 'score_function': 'Cosine',\n",
       " 'task_type': 'CPU',\n",
       " 'leaf_estimation_iterations': 1,\n",
       " 'bootstrap_type': 'MVS',\n",
       " 'max_leaves': 64}"
      ]
     },
     "execution_count": 69,
     "metadata": {},
     "output_type": "execute_result"
    }
   ],
   "source": [
    "print('Лучший параметр:')\n",
    "best_params_crb"
   ]
  },
  {
   "cell_type": "markdown",
   "id": "2ca00a56",
   "metadata": {},
   "source": [
    "**4) Ridge**"
   ]
  },
  {
   "cell_type": "code",
   "execution_count": 70,
   "id": "d736c0a3",
   "metadata": {},
   "outputs": [
    {
     "data": {
      "text/plain": [
       "GridSearchCV(cv=5, estimator=Ridge(), param_grid={'alpha': [0.1, 1]},\n",
       "             scoring='neg_mean_absolute_error')"
      ]
     },
     "execution_count": 70,
     "metadata": {},
     "output_type": "execute_result"
    }
   ],
   "source": [
    "ridge=Ridge()\n",
    "parameters= {'alpha':[10**x for x in range(-1,1)]}\n",
    "\n",
    "ridge_reg=GridSearchCV(ridge, param_grid=parameters, scoring='neg_mean_absolute_error', cv=5)\n",
    "ridge_reg.fit(features_train, target_train)\n"
   ]
  },
  {
   "cell_type": "code",
   "execution_count": 71,
   "id": "24ed966a",
   "metadata": {},
   "outputs": [
    {
     "name": "stdout",
     "output_type": "stream",
     "text": [
      "Лучший параметр:  {'alpha': 0.1}\n",
      "MAE Ridge: 6.38\n"
     ]
    }
   ],
   "source": [
    "print('Лучший параметр: ',ridge_reg.best_params_)\n",
    "print('MAE Ridge: {:.2f}'.format(-ridge_reg.best_score_))"
   ]
  },
  {
   "cell_type": "markdown",
   "id": "8e5c8303",
   "metadata": {},
   "source": [
    "**Общая таблица по моделям**"
   ]
  },
  {
   "cell_type": "code",
   "execution_count": 72,
   "id": "cef2e4ec",
   "metadata": {},
   "outputs": [],
   "source": [
    "index = [ 'RandomForestRegressor','LinearRegression','CatBoostRegressor','Ridge']\n",
    "data = {'MAE ':[(-clf.best_score_), (-cvs.mean()), (-cvs_crb.mean()), (-ridge_reg.best_score_)],}\n",
    "rezult = pd.DataFrame(data=data, index=index)"
   ]
  },
  {
   "cell_type": "code",
   "execution_count": 73,
   "id": "892d6acc",
   "metadata": {},
   "outputs": [
    {
     "data": {
      "text/html": [
       "<div>\n",
       "<style scoped>\n",
       "    .dataframe tbody tr th:only-of-type {\n",
       "        vertical-align: middle;\n",
       "    }\n",
       "\n",
       "    .dataframe tbody tr th {\n",
       "        vertical-align: top;\n",
       "    }\n",
       "\n",
       "    .dataframe thead th {\n",
       "        text-align: right;\n",
       "    }\n",
       "</style>\n",
       "<table border=\"1\" class=\"dataframe\">\n",
       "  <thead>\n",
       "    <tr style=\"text-align: right;\">\n",
       "      <th></th>\n",
       "      <th>MAE</th>\n",
       "    </tr>\n",
       "  </thead>\n",
       "  <tbody>\n",
       "    <tr>\n",
       "      <th>RandomForestRegressor</th>\n",
       "      <td>5.888267</td>\n",
       "    </tr>\n",
       "    <tr>\n",
       "      <th>LinearRegression</th>\n",
       "      <td>6.375752</td>\n",
       "    </tr>\n",
       "    <tr>\n",
       "      <th>CatBoostRegressor</th>\n",
       "      <td>5.468577</td>\n",
       "    </tr>\n",
       "    <tr>\n",
       "      <th>Ridge</th>\n",
       "      <td>6.375778</td>\n",
       "    </tr>\n",
       "  </tbody>\n",
       "</table>\n",
       "</div>"
      ],
      "text/plain": [
       "                           MAE \n",
       "RandomForestRegressor  5.888267\n",
       "LinearRegression       6.375752\n",
       "CatBoostRegressor      5.468577\n",
       "Ridge                  6.375778"
      ]
     },
     "execution_count": 73,
     "metadata": {},
     "output_type": "execute_result"
    }
   ],
   "source": [
    "rezult\n"
   ]
  },
  {
   "cell_type": "markdown",
   "id": "159e2448",
   "metadata": {},
   "source": [
    "**Проверка модели на тестовой выборке**"
   ]
  },
  {
   "cell_type": "code",
   "execution_count": 74,
   "id": "097dabd9",
   "metadata": {},
   "outputs": [
    {
     "name": "stdout",
     "output_type": "stream",
     "text": [
      "Learning rate set to 0.138006\n",
      "0:\tlearn: 10.6082559\ttotal: 5.81ms\tremaining: 1.45s\n",
      "1:\tlearn: 10.2477615\ttotal: 11.4ms\tremaining: 1.41s\n",
      "2:\tlearn: 9.9196185\ttotal: 15.9ms\tremaining: 1.31s\n",
      "3:\tlearn: 9.6322583\ttotal: 20.9ms\tremaining: 1.28s\n",
      "4:\tlearn: 9.3490094\ttotal: 25.4ms\tremaining: 1.24s\n",
      "5:\tlearn: 9.1347133\ttotal: 30ms\tremaining: 1.22s\n",
      "6:\tlearn: 8.8901335\ttotal: 35.2ms\tremaining: 1.22s\n",
      "7:\tlearn: 8.6830304\ttotal: 40.5ms\tremaining: 1.22s\n",
      "8:\tlearn: 8.5044688\ttotal: 45.8ms\tremaining: 1.23s\n",
      "9:\tlearn: 8.3031624\ttotal: 51.9ms\tremaining: 1.25s\n",
      "10:\tlearn: 8.1465829\ttotal: 58.9ms\tremaining: 1.28s\n",
      "11:\tlearn: 8.0132744\ttotal: 65ms\tremaining: 1.29s\n",
      "12:\tlearn: 7.8921813\ttotal: 70.5ms\tremaining: 1.29s\n",
      "13:\tlearn: 7.7836128\ttotal: 75.4ms\tremaining: 1.27s\n",
      "14:\tlearn: 7.6610890\ttotal: 80.2ms\tremaining: 1.26s\n",
      "15:\tlearn: 7.5602436\ttotal: 85.4ms\tremaining: 1.25s\n",
      "16:\tlearn: 7.4753148\ttotal: 90ms\tremaining: 1.23s\n",
      "17:\tlearn: 7.3834740\ttotal: 94.8ms\tremaining: 1.22s\n",
      "18:\tlearn: 7.3017686\ttotal: 100ms\tremaining: 1.22s\n",
      "19:\tlearn: 7.1941964\ttotal: 105ms\tremaining: 1.21s\n",
      "20:\tlearn: 7.1509646\ttotal: 109ms\tremaining: 1.19s\n",
      "21:\tlearn: 7.0704805\ttotal: 114ms\tremaining: 1.18s\n",
      "22:\tlearn: 6.9867446\ttotal: 119ms\tremaining: 1.17s\n",
      "23:\tlearn: 6.9081008\ttotal: 124ms\tremaining: 1.16s\n",
      "24:\tlearn: 6.8436475\ttotal: 128ms\tremaining: 1.15s\n",
      "25:\tlearn: 6.7715313\ttotal: 133ms\tremaining: 1.14s\n",
      "26:\tlearn: 6.7344824\ttotal: 137ms\tremaining: 1.14s\n",
      "27:\tlearn: 6.6399844\ttotal: 143ms\tremaining: 1.13s\n",
      "28:\tlearn: 6.6073960\ttotal: 148ms\tremaining: 1.13s\n",
      "29:\tlearn: 6.5451400\ttotal: 154ms\tremaining: 1.13s\n",
      "30:\tlearn: 6.4716803\ttotal: 159ms\tremaining: 1.12s\n",
      "31:\tlearn: 6.4158823\ttotal: 163ms\tremaining: 1.11s\n",
      "32:\tlearn: 6.3739132\ttotal: 168ms\tremaining: 1.1s\n",
      "33:\tlearn: 6.3374465\ttotal: 172ms\tremaining: 1.09s\n",
      "34:\tlearn: 6.2841340\ttotal: 177ms\tremaining: 1.08s\n",
      "35:\tlearn: 6.2343288\ttotal: 182ms\tremaining: 1.08s\n",
      "36:\tlearn: 6.1866681\ttotal: 186ms\tremaining: 1.07s\n",
      "37:\tlearn: 6.1307658\ttotal: 191ms\tremaining: 1.07s\n",
      "38:\tlearn: 6.0738128\ttotal: 196ms\tremaining: 1.06s\n",
      "39:\tlearn: 6.0204472\ttotal: 201ms\tremaining: 1.05s\n",
      "40:\tlearn: 5.9888782\ttotal: 207ms\tremaining: 1.05s\n",
      "41:\tlearn: 5.9569138\ttotal: 211ms\tremaining: 1.04s\n",
      "42:\tlearn: 5.9237747\ttotal: 216ms\tremaining: 1.04s\n",
      "43:\tlearn: 5.9017617\ttotal: 221ms\tremaining: 1.03s\n",
      "44:\tlearn: 5.8508438\ttotal: 225ms\tremaining: 1.02s\n",
      "45:\tlearn: 5.8003310\ttotal: 230ms\tremaining: 1.02s\n",
      "46:\tlearn: 5.7742464\ttotal: 234ms\tremaining: 1.01s\n",
      "47:\tlearn: 5.7234641\ttotal: 239ms\tremaining: 1.01s\n",
      "48:\tlearn: 5.6917665\ttotal: 243ms\tremaining: 998ms\n",
      "49:\tlearn: 5.6488482\ttotal: 248ms\tremaining: 992ms\n",
      "50:\tlearn: 5.6154909\ttotal: 253ms\tremaining: 985ms\n",
      "51:\tlearn: 5.5791037\ttotal: 257ms\tremaining: 978ms\n",
      "52:\tlearn: 5.5647817\ttotal: 261ms\tremaining: 971ms\n",
      "53:\tlearn: 5.5440896\ttotal: 267ms\tremaining: 968ms\n",
      "54:\tlearn: 5.4929969\ttotal: 272ms\tremaining: 964ms\n",
      "55:\tlearn: 5.4519703\ttotal: 278ms\tremaining: 961ms\n",
      "56:\tlearn: 5.4383716\ttotal: 282ms\tremaining: 955ms\n",
      "57:\tlearn: 5.4153061\ttotal: 286ms\tremaining: 948ms\n",
      "58:\tlearn: 5.3923071\ttotal: 291ms\tremaining: 941ms\n",
      "59:\tlearn: 5.3672698\ttotal: 296ms\tremaining: 938ms\n",
      "60:\tlearn: 5.3377848\ttotal: 301ms\tremaining: 932ms\n",
      "61:\tlearn: 5.2864284\ttotal: 305ms\tremaining: 926ms\n",
      "62:\tlearn: 5.2465502\ttotal: 310ms\tremaining: 920ms\n",
      "63:\tlearn: 5.2163115\ttotal: 315ms\tremaining: 914ms\n",
      "64:\tlearn: 5.1725398\ttotal: 319ms\tremaining: 908ms\n",
      "65:\tlearn: 5.1274246\ttotal: 323ms\tremaining: 901ms\n",
      "66:\tlearn: 5.0893319\ttotal: 328ms\tremaining: 896ms\n",
      "67:\tlearn: 5.0642956\ttotal: 333ms\tremaining: 890ms\n",
      "68:\tlearn: 5.0361225\ttotal: 337ms\tremaining: 885ms\n",
      "69:\tlearn: 5.0089364\ttotal: 342ms\tremaining: 879ms\n",
      "70:\tlearn: 4.9860668\ttotal: 346ms\tremaining: 873ms\n",
      "71:\tlearn: 4.9729733\ttotal: 350ms\tremaining: 866ms\n",
      "72:\tlearn: 4.9530242\ttotal: 356ms\tremaining: 862ms\n",
      "73:\tlearn: 4.9069549\ttotal: 361ms\tremaining: 859ms\n",
      "74:\tlearn: 4.8899261\ttotal: 367ms\tremaining: 857ms\n",
      "75:\tlearn: 4.8749979\ttotal: 373ms\tremaining: 853ms\n",
      "76:\tlearn: 4.8427483\ttotal: 379ms\tremaining: 852ms\n",
      "77:\tlearn: 4.8241960\ttotal: 384ms\tremaining: 846ms\n",
      "78:\tlearn: 4.7912420\ttotal: 388ms\tremaining: 840ms\n",
      "79:\tlearn: 4.7649269\ttotal: 393ms\tremaining: 836ms\n",
      "80:\tlearn: 4.7270051\ttotal: 398ms\tremaining: 830ms\n",
      "81:\tlearn: 4.7129763\ttotal: 402ms\tremaining: 824ms\n",
      "82:\tlearn: 4.6855109\ttotal: 407ms\tremaining: 818ms\n",
      "83:\tlearn: 4.6607770\ttotal: 411ms\tremaining: 812ms\n",
      "84:\tlearn: 4.6273448\ttotal: 416ms\tremaining: 808ms\n",
      "85:\tlearn: 4.6089058\ttotal: 421ms\tremaining: 802ms\n",
      "86:\tlearn: 4.5867083\ttotal: 425ms\tremaining: 797ms\n",
      "87:\tlearn: 4.5639215\ttotal: 430ms\tremaining: 791ms\n",
      "88:\tlearn: 4.5462530\ttotal: 434ms\tremaining: 786ms\n",
      "89:\tlearn: 4.5307575\ttotal: 439ms\tremaining: 780ms\n",
      "90:\tlearn: 4.5268824\ttotal: 443ms\tremaining: 775ms\n",
      "91:\tlearn: 4.5041559\ttotal: 448ms\tremaining: 770ms\n",
      "92:\tlearn: 4.5011559\ttotal: 453ms\tremaining: 764ms\n",
      "93:\tlearn: 4.4639777\ttotal: 457ms\tremaining: 759ms\n",
      "94:\tlearn: 4.4453927\ttotal: 462ms\tremaining: 754ms\n",
      "95:\tlearn: 4.4317756\ttotal: 466ms\tremaining: 748ms\n",
      "96:\tlearn: 4.3996504\ttotal: 471ms\tremaining: 743ms\n",
      "97:\tlearn: 4.3932052\ttotal: 476ms\tremaining: 738ms\n",
      "98:\tlearn: 4.3871689\ttotal: 481ms\tremaining: 733ms\n",
      "99:\tlearn: 4.3472816\ttotal: 486ms\tremaining: 729ms\n",
      "100:\tlearn: 4.3280482\ttotal: 491ms\tremaining: 725ms\n",
      "101:\tlearn: 4.3082604\ttotal: 496ms\tremaining: 720ms\n",
      "102:\tlearn: 4.2948655\ttotal: 501ms\tremaining: 714ms\n",
      "103:\tlearn: 4.2688252\ttotal: 505ms\tremaining: 709ms\n",
      "104:\tlearn: 4.2563601\ttotal: 510ms\tremaining: 704ms\n",
      "105:\tlearn: 4.2482940\ttotal: 514ms\tremaining: 698ms\n",
      "106:\tlearn: 4.2259441\ttotal: 518ms\tremaining: 693ms\n",
      "107:\tlearn: 4.2060379\ttotal: 523ms\tremaining: 687ms\n",
      "108:\tlearn: 4.1928676\ttotal: 527ms\tremaining: 682ms\n",
      "109:\tlearn: 4.1866457\ttotal: 532ms\tremaining: 677ms\n",
      "110:\tlearn: 4.1654281\ttotal: 536ms\tremaining: 672ms\n",
      "111:\tlearn: 4.1313801\ttotal: 541ms\tremaining: 666ms\n",
      "112:\tlearn: 4.1227688\ttotal: 545ms\tremaining: 661ms\n",
      "113:\tlearn: 4.1095285\ttotal: 549ms\tremaining: 655ms\n",
      "114:\tlearn: 4.0991613\ttotal: 554ms\tremaining: 651ms\n",
      "115:\tlearn: 4.0838371\ttotal: 559ms\tremaining: 646ms\n",
      "116:\tlearn: 4.0660493\ttotal: 565ms\tremaining: 642ms\n",
      "117:\tlearn: 4.0453063\ttotal: 570ms\tremaining: 638ms\n",
      "118:\tlearn: 4.0417010\ttotal: 575ms\tremaining: 633ms\n",
      "119:\tlearn: 4.0159520\ttotal: 580ms\tremaining: 629ms\n",
      "120:\tlearn: 4.0006764\ttotal: 586ms\tremaining: 625ms\n",
      "121:\tlearn: 3.9827026\ttotal: 592ms\tremaining: 621ms\n",
      "122:\tlearn: 3.9650474\ttotal: 596ms\tremaining: 616ms\n",
      "123:\tlearn: 3.9467548\ttotal: 601ms\tremaining: 611ms\n",
      "124:\tlearn: 3.9373920\ttotal: 606ms\tremaining: 606ms\n",
      "125:\tlearn: 3.9325143\ttotal: 610ms\tremaining: 600ms\n",
      "126:\tlearn: 3.9200901\ttotal: 615ms\tremaining: 595ms\n",
      "127:\tlearn: 3.8969627\ttotal: 620ms\tremaining: 591ms\n",
      "128:\tlearn: 3.8816450\ttotal: 624ms\tremaining: 586ms\n",
      "129:\tlearn: 3.8682505\ttotal: 629ms\tremaining: 581ms\n",
      "130:\tlearn: 3.8601402\ttotal: 634ms\tremaining: 576ms\n",
      "131:\tlearn: 3.8491504\ttotal: 638ms\tremaining: 570ms\n",
      "132:\tlearn: 3.8355978\ttotal: 642ms\tremaining: 565ms\n",
      "133:\tlearn: 3.8270058\ttotal: 647ms\tremaining: 560ms\n",
      "134:\tlearn: 3.8067860\ttotal: 652ms\tremaining: 555ms\n",
      "135:\tlearn: 3.7966577\ttotal: 656ms\tremaining: 550ms\n",
      "136:\tlearn: 3.7664703\ttotal: 661ms\tremaining: 545ms\n",
      "137:\tlearn: 3.7537738\ttotal: 665ms\tremaining: 540ms\n",
      "138:\tlearn: 3.7325318\ttotal: 670ms\tremaining: 535ms\n",
      "139:\tlearn: 3.7050888\ttotal: 674ms\tremaining: 530ms\n",
      "140:\tlearn: 3.6881981\ttotal: 680ms\tremaining: 525ms\n",
      "141:\tlearn: 3.6601804\ttotal: 685ms\tremaining: 521ms\n",
      "142:\tlearn: 3.6475599\ttotal: 690ms\tremaining: 517ms\n",
      "143:\tlearn: 3.6269370\ttotal: 696ms\tremaining: 512ms\n",
      "144:\tlearn: 3.6128154\ttotal: 701ms\tremaining: 508ms\n",
      "145:\tlearn: 3.6008009\ttotal: 705ms\tremaining: 502ms\n",
      "146:\tlearn: 3.5899834\ttotal: 711ms\tremaining: 498ms\n",
      "147:\tlearn: 3.5772710\ttotal: 715ms\tremaining: 493ms\n",
      "148:\tlearn: 3.5611373\ttotal: 720ms\tremaining: 488ms\n",
      "149:\tlearn: 3.5530728\ttotal: 725ms\tremaining: 483ms\n",
      "150:\tlearn: 3.5420615\ttotal: 729ms\tremaining: 478ms\n",
      "151:\tlearn: 3.5297089\ttotal: 734ms\tremaining: 473ms\n",
      "152:\tlearn: 3.5135408\ttotal: 739ms\tremaining: 468ms\n",
      "153:\tlearn: 3.5069760\ttotal: 743ms\tremaining: 463ms\n",
      "154:\tlearn: 3.5037960\ttotal: 748ms\tremaining: 458ms\n",
      "155:\tlearn: 3.4914751\ttotal: 752ms\tremaining: 453ms\n",
      "156:\tlearn: 3.4801770\ttotal: 757ms\tremaining: 448ms\n",
      "157:\tlearn: 3.4716071\ttotal: 761ms\tremaining: 443ms\n",
      "158:\tlearn: 3.4498955\ttotal: 766ms\tremaining: 438ms\n",
      "159:\tlearn: 3.4491810\ttotal: 771ms\tremaining: 434ms\n",
      "160:\tlearn: 3.4344443\ttotal: 776ms\tremaining: 429ms\n",
      "161:\tlearn: 3.4142774\ttotal: 782ms\tremaining: 425ms\n",
      "162:\tlearn: 3.3996917\ttotal: 787ms\tremaining: 420ms\n",
      "163:\tlearn: 3.3819369\ttotal: 792ms\tremaining: 415ms\n",
      "164:\tlearn: 3.3717656\ttotal: 798ms\tremaining: 411ms\n",
      "165:\tlearn: 3.3456693\ttotal: 802ms\tremaining: 406ms\n",
      "166:\tlearn: 3.3233469\ttotal: 807ms\tremaining: 401ms\n",
      "167:\tlearn: 3.2928023\ttotal: 812ms\tremaining: 396ms\n",
      "168:\tlearn: 3.2802602\ttotal: 816ms\tremaining: 391ms\n",
      "169:\tlearn: 3.2596331\ttotal: 820ms\tremaining: 386ms\n",
      "170:\tlearn: 3.2471713\ttotal: 825ms\tremaining: 381ms\n",
      "171:\tlearn: 3.2321428\ttotal: 830ms\tremaining: 376ms\n",
      "172:\tlearn: 3.2255126\ttotal: 835ms\tremaining: 371ms\n",
      "173:\tlearn: 3.2081709\ttotal: 839ms\tremaining: 367ms\n",
      "174:\tlearn: 3.1930625\ttotal: 844ms\tremaining: 362ms\n",
      "175:\tlearn: 3.1923548\ttotal: 849ms\tremaining: 357ms\n",
      "176:\tlearn: 3.1852342\ttotal: 853ms\tremaining: 352ms\n",
      "177:\tlearn: 3.1784258\ttotal: 858ms\tremaining: 347ms\n",
      "178:\tlearn: 3.1614577\ttotal: 863ms\tremaining: 342ms\n",
      "179:\tlearn: 3.1499417\ttotal: 867ms\tremaining: 337ms\n",
      "180:\tlearn: 3.1320969\ttotal: 872ms\tremaining: 332ms\n",
      "181:\tlearn: 3.1179333\ttotal: 876ms\tremaining: 327ms\n",
      "182:\tlearn: 3.1082840\ttotal: 881ms\tremaining: 323ms\n",
      "183:\tlearn: 3.0951857\ttotal: 885ms\tremaining: 318ms\n",
      "184:\tlearn: 3.0807899\ttotal: 890ms\tremaining: 313ms\n",
      "185:\tlearn: 3.0686190\ttotal: 896ms\tremaining: 308ms\n",
      "186:\tlearn: 3.0568521\ttotal: 902ms\tremaining: 304ms\n",
      "187:\tlearn: 3.0511341\ttotal: 907ms\tremaining: 299ms\n",
      "188:\tlearn: 3.0375040\ttotal: 912ms\tremaining: 294ms\n",
      "189:\tlearn: 3.0237929\ttotal: 917ms\tremaining: 289ms\n",
      "190:\tlearn: 3.0149143\ttotal: 921ms\tremaining: 285ms\n",
      "191:\tlearn: 3.0029646\ttotal: 926ms\tremaining: 280ms\n",
      "192:\tlearn: 3.0007685\ttotal: 928ms\tremaining: 274ms\n",
      "193:\tlearn: 2.9844371\ttotal: 933ms\tremaining: 269ms\n",
      "194:\tlearn: 2.9731615\ttotal: 937ms\tremaining: 264ms\n",
      "195:\tlearn: 2.9499548\ttotal: 942ms\tremaining: 260ms\n",
      "196:\tlearn: 2.9388248\ttotal: 947ms\tremaining: 255ms\n",
      "197:\tlearn: 2.9222178\ttotal: 951ms\tremaining: 250ms\n",
      "198:\tlearn: 2.9090534\ttotal: 956ms\tremaining: 245ms\n",
      "199:\tlearn: 2.8949752\ttotal: 961ms\tremaining: 240ms\n",
      "200:\tlearn: 2.8806515\ttotal: 965ms\tremaining: 235ms\n",
      "201:\tlearn: 2.8691098\ttotal: 971ms\tremaining: 231ms\n",
      "202:\tlearn: 2.8540396\ttotal: 977ms\tremaining: 226ms\n",
      "203:\tlearn: 2.8450543\ttotal: 983ms\tremaining: 222ms\n",
      "204:\tlearn: 2.8367240\ttotal: 987ms\tremaining: 217ms\n",
      "205:\tlearn: 2.8218026\ttotal: 993ms\tremaining: 212ms\n",
      "206:\tlearn: 2.8104780\ttotal: 998ms\tremaining: 207ms\n",
      "207:\tlearn: 2.7961249\ttotal: 1s\tremaining: 202ms\n",
      "208:\tlearn: 2.7813816\ttotal: 1.01s\tremaining: 198ms\n",
      "209:\tlearn: 2.7706845\ttotal: 1.01s\tremaining: 193ms\n",
      "210:\tlearn: 2.7599022\ttotal: 1.02s\tremaining: 188ms\n",
      "211:\tlearn: 2.7507771\ttotal: 1.02s\tremaining: 183ms\n",
      "212:\tlearn: 2.7448511\ttotal: 1.03s\tremaining: 178ms\n",
      "213:\tlearn: 2.7389168\ttotal: 1.03s\tremaining: 173ms\n",
      "214:\tlearn: 2.7299815\ttotal: 1.03s\tremaining: 169ms\n",
      "215:\tlearn: 2.7228041\ttotal: 1.04s\tremaining: 164ms\n",
      "216:\tlearn: 2.7133592\ttotal: 1.04s\tremaining: 159ms\n",
      "217:\tlearn: 2.7036955\ttotal: 1.05s\tremaining: 154ms\n",
      "218:\tlearn: 2.6994695\ttotal: 1.05s\tremaining: 149ms\n",
      "219:\tlearn: 2.6940944\ttotal: 1.06s\tremaining: 144ms\n",
      "220:\tlearn: 2.6811859\ttotal: 1.06s\tremaining: 140ms\n",
      "221:\tlearn: 2.6722428\ttotal: 1.07s\tremaining: 135ms\n",
      "222:\tlearn: 2.6545428\ttotal: 1.07s\tremaining: 130ms\n",
      "223:\tlearn: 2.6516968\ttotal: 1.08s\tremaining: 125ms\n",
      "224:\tlearn: 2.6352920\ttotal: 1.08s\tremaining: 120ms\n",
      "225:\tlearn: 2.6279171\ttotal: 1.09s\tremaining: 116ms\n",
      "226:\tlearn: 2.6185965\ttotal: 1.09s\tremaining: 111ms\n",
      "227:\tlearn: 2.6114732\ttotal: 1.1s\tremaining: 106ms\n",
      "228:\tlearn: 2.6038113\ttotal: 1.1s\tremaining: 101ms\n",
      "229:\tlearn: 2.5994989\ttotal: 1.11s\tremaining: 96.4ms\n",
      "230:\tlearn: 2.5904050\ttotal: 1.12s\tremaining: 91.8ms\n",
      "231:\tlearn: 2.5896693\ttotal: 1.12s\tremaining: 87.2ms\n",
      "232:\tlearn: 2.5769300\ttotal: 1.13s\tremaining: 82.5ms\n",
      "233:\tlearn: 2.5713038\ttotal: 1.14s\tremaining: 77.7ms\n",
      "234:\tlearn: 2.5692947\ttotal: 1.14s\tremaining: 72.9ms\n",
      "235:\tlearn: 2.5660279\ttotal: 1.15s\tremaining: 68ms\n",
      "236:\tlearn: 2.5600284\ttotal: 1.15s\tremaining: 63.2ms\n",
      "237:\tlearn: 2.5532163\ttotal: 1.16s\tremaining: 58.3ms\n",
      "238:\tlearn: 2.5359687\ttotal: 1.16s\tremaining: 53.5ms\n",
      "239:\tlearn: 2.5262712\ttotal: 1.17s\tremaining: 48.6ms\n",
      "240:\tlearn: 2.5210140\ttotal: 1.17s\tremaining: 43.7ms\n",
      "241:\tlearn: 2.5179043\ttotal: 1.18s\tremaining: 38.9ms\n",
      "242:\tlearn: 2.5088301\ttotal: 1.18s\tremaining: 34ms\n",
      "243:\tlearn: 2.4990361\ttotal: 1.19s\tremaining: 29.2ms\n",
      "244:\tlearn: 2.4898094\ttotal: 1.19s\tremaining: 24.3ms\n",
      "245:\tlearn: 2.4752413\ttotal: 1.2s\tremaining: 19.5ms\n",
      "246:\tlearn: 2.4745429\ttotal: 1.2s\tremaining: 14.6ms\n",
      "247:\tlearn: 2.4636663\ttotal: 1.21s\tremaining: 9.74ms\n",
      "248:\tlearn: 2.4499554\ttotal: 1.21s\tremaining: 4.87ms\n",
      "249:\tlearn: 2.4411524\ttotal: 1.22s\tremaining: 0us\n",
      "MAE на тестовой выборке = 5.769299491222819\n",
      "Wall time: 1.29 s\n"
     ]
    }
   ],
   "source": [
    "%%time\n",
    "\n",
    "test =  CatBoostRegressor()\n",
    "test.set_params(**best_params_rfr)\n",
    "test.fit(features_train, target_train)\n",
    "test_predict = test.predict(features_test)\n",
    "test_MAE = mean_absolute_error(test_predict, target_test)\n",
    "print('MAE на тестовой выборке =', test_MAE)"
   ]
  },
  {
   "cell_type": "markdown",
   "id": "2ac2d5a4",
   "metadata": {},
   "source": [
    "**Константная модель**"
   ]
  },
  {
   "cell_type": "code",
   "execution_count": 75,
   "id": "4555d686",
   "metadata": {},
   "outputs": [
    {
     "name": "stdout",
     "output_type": "stream",
     "text": [
      "1593.1534936998855 1586.294959908362\n",
      "MAE тестовой выборки в константной модели: 18.01\n"
     ]
    }
   ],
   "source": [
    "c2=features_train['temperature_min'].mean()\n",
    "c1=target_train.mean()\n",
    "print(c1,c2)\n",
    "constant = features_test['temperature_min']*(c1/c2)\n",
    "print('MAE тестовой выборки в константной модели: {:.2f}'.format( \n",
    "      mean_absolute_error(constant ,target_test)))\n"
   ]
  },
  {
   "cell_type": "markdown",
   "id": "885935c9",
   "metadata": {},
   "source": [
    "<b> Общие Выводы:</b>  \n",
    "\n",
    "Было проведено исследование данных (EDA).  \n",
    "Данные были очищены и подготовлены согласна условию задачи и стандартной процедуры анализа данных.  \n",
    "Подготовлена таблица признаков. Необходимые поля сформированы в результирующую таблицу выделен целевой признак.  \n",
    "Проведено разбиение на тренировочную и тестовую выборку.   \n",
    "Рассмотрено 4 регрессионных модели такие как:\n",
    "- RandomForestRegressor\n",
    "- LinearRegression\n",
    "- CatBoostRegressor\n",
    "- Ridge\n",
    "\n",
    "Наилучший результата показала модель CatBoostRegressor и её выбрали для использования на тестовой выборке.  \n",
    "На тестовой выборке достигнуто пороговое значение MAE<6.  \n",
    "Данные, полученные на регрессивных моделях гораздо лучше константной модели."
   ]
  },
  {
   "cell_type": "markdown",
   "id": "5bc6fc37",
   "metadata": {},
   "source": [
    "_______________________________________________________________________________________________________________________________\n",
    "**Отчет о проделанной работе** (предыдущая версия- решил не удалять что бы было понимание того, что добавлено)\n",
    "\n",
    "При решении задачи мы придерживались такого плана работ:\n",
    "1. Подготовка и очистка данных \n",
    "2. Обучение модели и тестирование модели \n",
    "3. подготовка выводов\n",
    "\n",
    "Первый этап работы состоял из:\n",
    "\n",
    "* Импорт основных библиотек, используемых в задаче.\n",
    "* Распаковки датасетов, и создание первичных датафреймов.\n",
    "* Поиск и устранение дефектов в каждом датафрейме. (заполнили пропуски в данных, формат, нейминг)\n",
    "* Агрегирование признаков для каждой партии, и создание дополнительных мер: суммарная Активная мощность, суммарная Реактивной мощность, Начальная температура и Конечная температура.\n",
    "* Оценка значимости признаков(полей) и удаление малозначимых.\n",
    "* Поиск аномалий и проверка на мультиколлиниарность.\n",
    "* Проведение индексацию полей и соборка в итоговую таблицу.\n",
    "\n",
    "Результатом первого этапа стала подготовленная результирующая таблица, очищенная от избыточного кол-ва признаков и готовая для дальнейшего использования в моделях машинного обучения. Наиболее сложным на данном этапе было принятие решение о необходимом кол-ве признаков. \n",
    "\n",
    "Второй этапе состоял из:\n",
    " * Определения целевого признака \n",
    " * Разделение датасет на выборки: обучающую и тестовую\n",
    " * Выбора 4 моделей для работы: Random Forest, Linear Regression, CatBoostRegressor, Ridge\n",
    " * Обучение каждой модель\n",
    " * Выбор наиболее результативной по метрике MAE\n",
    " * Оценка константной модели\n",
    "\n",
    "В результате проведения второго этапа была выявлена наилучшая модель и проведена проверка на тестовой выборке \n",
    "Лучшую модель CatBoostRegressor и результат метрики МАЕ: 5.77\n",
    "\n",
    "Подготовили вывод по решению задачи.\n",
    "_______________________________________________________________________________________________________________________________\n"
   ]
  },
  {
   "cell_type": "code",
   "execution_count": 76,
   "id": "532c20c5",
   "metadata": {},
   "outputs": [
    {
     "data": {
      "image/png": "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\n",
      "text/plain": [
       "<Figure size 432x288 with 1 Axes>"
      ]
     },
     "metadata": {
      "needs_background": "light"
     },
     "output_type": "display_data"
    }
   ],
   "source": [
    "def chart_feature_imp(model):\n",
    "    feature_imp = pd.Series(model.feature_importances_, index=features_test.columns).sort_values(ascending=False)\n",
    "\n",
    "    ax = sns.barplot(x=feature_imp, y=feature_imp.index)\n",
    "    ax.set(xlabel='Степень важности', ylabel='Признаки')\n",
    "    \n",
    "chart_feature_imp(test)"
   ]
  },
  {
   "attachments": {
    "image-3.png": {
     "image/png": "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"
    }
   },
   "cell_type": "markdown",
   "id": "e42df8aa",
   "metadata": {},
   "source": [
    "_______________________________________________________________________________________________________________________________\n",
    "**Отчет о проделанной работе**\n",
    "\n",
    "При решении задачи мы придерживались такого плана работ:\n",
    "1. Подготовка и очистка данных \n",
    "2. Обучение модели и тестирование модели \n",
    "3. подготовка выводов\n",
    "\n",
    "Были выполнены все пунты план.\n",
    "\n",
    "Первый этап работы состоял из:\n",
    "\n",
    "* Импорт основных библиотек, используемых в задаче.\n",
    "* Распаковки датасетов, и создание первичных датафреймов.\n",
    "* Поиск и устранение дефектов в каждом датафрейме. (заполнили пропуски в данных, формат, нейминг)\n",
    "* Агрегирование признаков для каждой партии, и создание дополнительных мер: суммарная Активная мощность, суммарная Реактивной мощность, Начальная температура и Конечная температура.\n",
    "* Оценка значимости признаков(полей) и удаление малозначимых.\n",
    "* Поиск аномалий и проверка на мультиколлиниарность.\n",
    "* Проведение индексацию полей и сборка в итоговую таблицу.\n",
    "\n",
    "Результатом первого этапа стала подготовленная результирующая таблица, очищенная от избыточного кол-ва признаков и готовая для дальнейшего использования в моделях машинного обучения. Наиболее сложным на данном этапе было понять роль физических процессов  и принятие решение о необходимом наборе конечных признаков.\n",
    "\n",
    "В процессе исследования датасетов выяснилось, что датасеты bulk_time и wire_time не дают дополнительной информации и могут быть не используемы в дальнейшей работе. \n",
    "\n",
    "В данных присутствовала аномалия связанная с реактивной мощность, но она была устранена путем расчета пропорции от активной мощности. Это стало возможно, так как эти признаки зависимы. \n",
    "\n",
    "Так же в данных присутствовал ряд признаков с крайне низкой заполненностью данными.  В процессе решения задачи данные признаки не учитывались. Возможно, это связано с технологическим процессом или отсутствие измерений. Рекомендовал бы проверить датчики отвечающие за показания:\n",
    "Сыпучие материалы: bulk_1,bulk_11,bulk_10,bulk_5,bulk_7,bulk_2,bulk_9,bulk_13,bulk_8  \n",
    "Проволочные материалы: Wire 4,Wire 5,Wire 6,Wire 7,Wire 8,Wire 9\n",
    "\n",
    "Оценка мультиколлиниарность привела к устранению признака sum_reactiv_power. \n",
    "\n",
    "Второй этапе состоял из:\n",
    " * Определения целевого признака \n",
    " * Разделение датасет на выборки: обучающую и тестовую\n",
    " * Выбора 4 моделей для работы: Random Forest, Linear Regression, CatBoostRegressor, Ridge\n",
    " * Обучение каждой модель\n",
    " * Выбор наиболее результативной по метрике MAE\n",
    " * Оценка константной модели\n",
    "\n",
    "В результате проведения второго этапа была выявлена наилучшая модель и проведена проверка на тестовой выборке.  \n",
    "\n",
    "Лучшую модель CatBoostRegressor и результат метрики МАЕ: \n",
    " \n",
    " Тренировочной выборке= 5.45\n",
    "\n",
    " Тестовой выборке= 5.77\n",
    " \n",
    " Результат отвечает заданому требованию по MAE<6\n",
    "\n",
    "лучшие гиперпараметры модели: \n",
    "* Максимальное количество построенных деревьев=1000;\n",
    "* Глубина=6;\n",
    "* Генератор случайных чисел=141122. \n",
    "\n",
    "Третий этап:  \n",
    "Подготовили вывод по решению задачи.\n",
    "\n",
    "Ключевыми для данного проекта является и 1-ый и 2-ой этап, т.к. без предварительной обработки данных невозможно построить объективные ML модели. Второй этап является основным содержанием проекта: Поиск подходящей модели и подбор гиперпараметров. \n",
    "\n",
    "Наибольшее влияние на конечную температуру оказывают такие факторы как начальная температура, активная мощность, потраченное время, а также наличие сыпучих и проволочных материалов (bulk_14,15,12 и wire_1 и gas).\n",
    "![image-3.png](attachment:image-3.png)\n",
    "_______________________________________________________________________________________________________________________________\n"
   ]
  }
 ],
 "metadata": {
  "ExecuteTimeLog": [
   {
    "duration": 1670,
    "start_time": "2022-11-22T13:01:56.604Z"
   },
   {
    "duration": 5,
    "start_time": "2022-11-22T13:01:58.276Z"
   },
   {
    "duration": 226,
    "start_time": "2022-11-22T13:02:02.156Z"
   },
   {
    "duration": 60,
    "start_time": "2022-11-22T13:02:02.521Z"
   },
   {
    "duration": 12,
    "start_time": "2022-11-22T13:03:02.892Z"
   },
   {
    "duration": 11,
    "start_time": "2022-11-22T13:03:05.486Z"
   },
   {
    "duration": 219,
    "start_time": "2022-11-22T13:03:10.523Z"
   },
   {
    "duration": 195,
    "start_time": "2022-11-22T13:03:12.711Z"
   },
   {
    "duration": 16,
    "start_time": "2022-11-22T13:03:13.374Z"
   },
   {
    "duration": 10,
    "start_time": "2022-11-22T13:03:29.016Z"
   },
   {
    "duration": 81,
    "start_time": "2022-11-22T13:03:29.992Z"
   },
   {
    "duration": 10,
    "start_time": "2022-11-22T13:03:39.708Z"
   },
   {
    "duration": 174,
    "start_time": "2022-11-22T13:03:41.282Z"
   },
   {
    "duration": 173,
    "start_time": "2022-11-22T13:04:31.207Z"
   },
   {
    "duration": 20,
    "start_time": "2022-11-22T13:04:31.921Z"
   },
   {
    "duration": 306,
    "start_time": "2022-11-22T13:04:33.756Z"
   },
   {
    "duration": 139,
    "start_time": "2022-11-22T13:04:52.922Z"
   },
   {
    "duration": 70,
    "start_time": "2022-11-22T13:04:53.260Z"
   },
   {
    "duration": 4,
    "start_time": "2022-11-22T13:04:54.271Z"
   },
   {
    "duration": 53,
    "start_time": "2022-11-22T13:04:54.684Z"
   },
   {
    "duration": 245,
    "start_time": "2022-11-22T13:04:55.528Z"
   },
   {
    "duration": 7,
    "start_time": "2022-11-22T13:04:55.985Z"
   },
   {
    "duration": 4,
    "start_time": "2022-11-22T13:04:56.430Z"
   },
   {
    "duration": 11,
    "start_time": "2022-11-22T13:04:56.859Z"
   },
   {
    "duration": 98,
    "start_time": "2022-11-22T13:05:55.771Z"
   },
   {
    "duration": 39,
    "start_time": "2022-11-22T13:05:56.361Z"
   },
   {
    "duration": 4,
    "start_time": "2022-11-22T13:05:56.682Z"
   },
   {
    "duration": 35,
    "start_time": "2022-11-22T13:05:57.102Z"
   },
   {
    "duration": 3,
    "start_time": "2022-11-22T13:05:57.629Z"
   },
   {
    "duration": 4,
    "start_time": "2022-11-22T13:05:57.925Z"
   },
   {
    "duration": 10,
    "start_time": "2022-11-22T13:05:58.473Z"
   },
   {
    "duration": 131,
    "start_time": "2022-11-22T13:06:20.229Z"
   },
   {
    "duration": 17,
    "start_time": "2022-11-22T13:06:20.469Z"
   },
   {
    "duration": 4,
    "start_time": "2022-11-22T13:06:23.320Z"
   },
   {
    "duration": 10,
    "start_time": "2022-11-22T13:06:23.705Z"
   },
   {
    "duration": 178,
    "start_time": "2022-11-22T13:06:25.162Z"
   },
   {
    "duration": 33,
    "start_time": "2022-11-22T13:06:25.421Z"
   },
   {
    "duration": 4,
    "start_time": "2022-11-22T13:06:27.758Z"
   },
   {
    "duration": 8,
    "start_time": "2022-11-22T13:06:28.062Z"
   },
   {
    "duration": 262,
    "start_time": "2022-11-22T13:06:38.317Z"
   },
   {
    "duration": 271,
    "start_time": "2022-11-22T13:06:38.792Z"
   },
   {
    "duration": 16,
    "start_time": "2022-11-22T13:06:51.733Z"
   },
   {
    "duration": 17,
    "start_time": "2022-11-22T13:06:52.153Z"
   },
   {
    "duration": 8,
    "start_time": "2022-11-22T13:06:55.745Z"
   },
   {
    "duration": 204,
    "start_time": "2022-11-22T13:06:56.075Z"
   },
   {
    "duration": 11,
    "start_time": "2022-11-22T13:06:58.678Z"
   },
   {
    "duration": 4,
    "start_time": "2022-11-22T13:07:02.120Z"
   },
   {
    "duration": 8,
    "start_time": "2022-11-22T13:07:02.536Z"
   },
   {
    "duration": 18,
    "start_time": "2022-11-22T13:07:05.768Z"
   },
   {
    "duration": 6,
    "start_time": "2022-11-22T13:07:08.988Z"
   },
   {
    "duration": 89,
    "start_time": "2022-11-23T21:37:55.058Z"
   },
   {
    "duration": 78,
    "start_time": "2022-11-23T21:37:56.200Z"
   },
   {
    "duration": 533,
    "start_time": "2022-11-24T15:00:46.016Z"
   },
   {
    "duration": 0,
    "start_time": "2022-11-24T15:00:46.552Z"
   },
   {
    "duration": 0,
    "start_time": "2022-11-24T15:00:46.554Z"
   },
   {
    "duration": 0,
    "start_time": "2022-11-24T15:00:46.556Z"
   },
   {
    "duration": 0,
    "start_time": "2022-11-24T15:00:46.558Z"
   },
   {
    "duration": 0,
    "start_time": "2022-11-24T15:00:46.559Z"
   },
   {
    "duration": 0,
    "start_time": "2022-11-24T15:00:46.560Z"
   },
   {
    "duration": 0,
    "start_time": "2022-11-24T15:00:46.562Z"
   },
   {
    "duration": 0,
    "start_time": "2022-11-24T15:00:46.563Z"
   },
   {
    "duration": 0,
    "start_time": "2022-11-24T15:00:46.564Z"
   },
   {
    "duration": 0,
    "start_time": "2022-11-24T15:00:46.566Z"
   },
   {
    "duration": 0,
    "start_time": "2022-11-24T15:00:46.567Z"
   },
   {
    "duration": 0,
    "start_time": "2022-11-24T15:00:46.568Z"
   },
   {
    "duration": 0,
    "start_time": "2022-11-24T15:00:46.569Z"
   },
   {
    "duration": 0,
    "start_time": "2022-11-24T15:00:46.570Z"
   },
   {
    "duration": 0,
    "start_time": "2022-11-24T15:00:46.571Z"
   },
   {
    "duration": 0,
    "start_time": "2022-11-24T15:00:46.572Z"
   },
   {
    "duration": 0,
    "start_time": "2022-11-24T15:00:46.573Z"
   },
   {
    "duration": 0,
    "start_time": "2022-11-24T15:00:46.574Z"
   },
   {
    "duration": 0,
    "start_time": "2022-11-24T15:00:46.575Z"
   },
   {
    "duration": 0,
    "start_time": "2022-11-24T15:00:46.577Z"
   },
   {
    "duration": 0,
    "start_time": "2022-11-24T15:00:46.578Z"
   },
   {
    "duration": 0,
    "start_time": "2022-11-24T15:00:46.579Z"
   },
   {
    "duration": 0,
    "start_time": "2022-11-24T15:00:46.580Z"
   },
   {
    "duration": 0,
    "start_time": "2022-11-24T15:00:46.581Z"
   },
   {
    "duration": 0,
    "start_time": "2022-11-24T15:00:46.582Z"
   },
   {
    "duration": 0,
    "start_time": "2022-11-24T15:00:46.583Z"
   },
   {
    "duration": 0,
    "start_time": "2022-11-24T15:00:46.584Z"
   },
   {
    "duration": 0,
    "start_time": "2022-11-24T15:00:46.585Z"
   },
   {
    "duration": 0,
    "start_time": "2022-11-24T15:00:46.586Z"
   },
   {
    "duration": 0,
    "start_time": "2022-11-24T15:00:46.587Z"
   },
   {
    "duration": 0,
    "start_time": "2022-11-24T15:00:46.588Z"
   },
   {
    "duration": 0,
    "start_time": "2022-11-24T15:00:46.589Z"
   },
   {
    "duration": 0,
    "start_time": "2022-11-24T15:00:46.590Z"
   },
   {
    "duration": 0,
    "start_time": "2022-11-24T15:00:46.651Z"
   },
   {
    "duration": 0,
    "start_time": "2022-11-24T15:00:46.652Z"
   },
   {
    "duration": 0,
    "start_time": "2022-11-24T15:00:46.653Z"
   },
   {
    "duration": 0,
    "start_time": "2022-11-24T15:00:46.654Z"
   },
   {
    "duration": 0,
    "start_time": "2022-11-24T15:00:46.655Z"
   },
   {
    "duration": 0,
    "start_time": "2022-11-24T15:00:46.656Z"
   },
   {
    "duration": 0,
    "start_time": "2022-11-24T15:00:46.657Z"
   },
   {
    "duration": 0,
    "start_time": "2022-11-24T15:00:46.659Z"
   },
   {
    "duration": 0,
    "start_time": "2022-11-24T15:00:46.660Z"
   },
   {
    "duration": 0,
    "start_time": "2022-11-24T15:00:46.661Z"
   },
   {
    "duration": 0,
    "start_time": "2022-11-24T15:00:46.663Z"
   },
   {
    "duration": 0,
    "start_time": "2022-11-24T15:00:46.664Z"
   },
   {
    "duration": 0,
    "start_time": "2022-11-24T15:00:46.665Z"
   },
   {
    "duration": 0,
    "start_time": "2022-11-24T15:00:46.667Z"
   },
   {
    "duration": 0,
    "start_time": "2022-11-24T15:00:46.668Z"
   },
   {
    "duration": 0,
    "start_time": "2022-11-24T15:00:46.672Z"
   },
   {
    "duration": 0,
    "start_time": "2022-11-24T15:00:46.673Z"
   },
   {
    "duration": 0,
    "start_time": "2022-11-24T15:00:46.675Z"
   },
   {
    "duration": 0,
    "start_time": "2022-11-24T15:00:46.676Z"
   },
   {
    "duration": 1188,
    "start_time": "2022-11-24T15:04:48.175Z"
   },
   {
    "duration": 6,
    "start_time": "2022-11-24T15:04:49.364Z"
   },
   {
    "duration": 2,
    "start_time": "2022-11-24T15:04:56.302Z"
   },
   {
    "duration": 4,
    "start_time": "2022-11-24T15:04:57.088Z"
   },
   {
    "duration": 5,
    "start_time": "2022-11-24T15:04:57.301Z"
   },
   {
    "duration": 121,
    "start_time": "2022-11-24T15:04:57.807Z"
   },
   {
    "duration": 60,
    "start_time": "2022-11-24T15:04:58.054Z"
   },
   {
    "duration": 11,
    "start_time": "2022-11-24T15:04:58.481Z"
   },
   {
    "duration": 12,
    "start_time": "2022-11-24T15:04:58.775Z"
   },
   {
    "duration": 234,
    "start_time": "2022-11-24T15:04:58.952Z"
   },
   {
    "duration": 201,
    "start_time": "2022-11-24T15:04:59.188Z"
   },
   {
    "duration": 13,
    "start_time": "2022-11-24T15:04:59.391Z"
   },
   {
    "duration": 12,
    "start_time": "2022-11-24T15:04:59.675Z"
   },
   {
    "duration": 84,
    "start_time": "2022-11-24T15:05:00.037Z"
   },
   {
    "duration": 11,
    "start_time": "2022-11-24T15:05:00.233Z"
   },
   {
    "duration": 170,
    "start_time": "2022-11-24T15:05:00.410Z"
   },
   {
    "duration": 182,
    "start_time": "2022-11-24T15:05:00.929Z"
   },
   {
    "duration": 16,
    "start_time": "2022-11-24T15:05:01.124Z"
   },
   {
    "duration": 282,
    "start_time": "2022-11-24T15:05:01.301Z"
   },
   {
    "duration": 81,
    "start_time": "2022-11-24T15:05:01.831Z"
   },
   {
    "duration": 55,
    "start_time": "2022-11-24T15:05:02.008Z"
   },
   {
    "duration": 4,
    "start_time": "2022-11-24T15:05:02.369Z"
   },
   {
    "duration": 50,
    "start_time": "2022-11-24T15:05:02.546Z"
   },
   {
    "duration": 220,
    "start_time": "2022-11-24T15:05:02.731Z"
   },
   {
    "duration": 7,
    "start_time": "2022-11-24T15:05:02.953Z"
   },
   {
    "duration": 4,
    "start_time": "2022-11-24T15:05:03.115Z"
   },
   {
    "duration": 11,
    "start_time": "2022-11-24T15:05:03.288Z"
   },
   {
    "duration": 74,
    "start_time": "2022-11-24T15:05:03.891Z"
   },
   {
    "duration": 41,
    "start_time": "2022-11-24T15:05:04.111Z"
   },
   {
    "duration": 4,
    "start_time": "2022-11-24T15:05:04.261Z"
   },
   {
    "duration": 36,
    "start_time": "2022-11-24T15:05:04.446Z"
   },
   {
    "duration": 4,
    "start_time": "2022-11-24T15:05:04.622Z"
   },
   {
    "duration": 5,
    "start_time": "2022-11-24T15:05:04.798Z"
   },
   {
    "duration": 12,
    "start_time": "2022-11-24T15:05:04.992Z"
   },
   {
    "duration": 94,
    "start_time": "2022-11-24T15:05:05.541Z"
   },
   {
    "duration": 18,
    "start_time": "2022-11-24T15:05:05.745Z"
   },
   {
    "duration": 4,
    "start_time": "2022-11-24T15:05:05.940Z"
   },
   {
    "duration": 11,
    "start_time": "2022-11-24T15:05:06.117Z"
   },
   {
    "duration": 64,
    "start_time": "2022-11-24T15:05:06.321Z"
   },
   {
    "duration": 38,
    "start_time": "2022-11-24T15:05:06.533Z"
   },
   {
    "duration": 5,
    "start_time": "2022-11-24T15:05:06.691Z"
   },
   {
    "duration": 8,
    "start_time": "2022-11-24T15:05:06.868Z"
   },
   {
    "duration": 306,
    "start_time": "2022-11-24T15:05:07.063Z"
   },
   {
    "duration": 285,
    "start_time": "2022-11-24T15:05:07.371Z"
   },
   {
    "duration": 19,
    "start_time": "2022-11-24T15:05:07.658Z"
   },
   {
    "duration": 15,
    "start_time": "2022-11-24T15:05:07.679Z"
   },
   {
    "duration": 12,
    "start_time": "2022-11-24T15:05:07.848Z"
   },
   {
    "duration": 6,
    "start_time": "2022-11-24T15:05:07.990Z"
   },
   {
    "duration": 206,
    "start_time": "2022-11-24T15:05:08.167Z"
   },
   {
    "duration": 12,
    "start_time": "2022-11-24T15:05:08.378Z"
   },
   {
    "duration": 5,
    "start_time": "2022-11-24T15:05:08.583Z"
   },
   {
    "duration": 8,
    "start_time": "2022-11-24T15:05:08.787Z"
   },
   {
    "duration": 17,
    "start_time": "2022-11-24T15:05:09.334Z"
   },
   {
    "duration": 5,
    "start_time": "2022-11-24T15:05:09.529Z"
   },
   {
    "duration": 6,
    "start_time": "2022-11-24T15:05:11.975Z"
   },
   {
    "duration": 7,
    "start_time": "2022-11-24T15:05:13.105Z"
   },
   {
    "duration": 28,
    "start_time": "2022-11-24T15:05:16.390Z"
   },
   {
    "duration": 17,
    "start_time": "2022-11-24T15:05:27.108Z"
   },
   {
    "duration": 12,
    "start_time": "2022-11-24T15:05:33.611Z"
   },
   {
    "duration": 7,
    "start_time": "2022-11-24T15:05:33.997Z"
   },
   {
    "duration": 11,
    "start_time": "2022-11-24T15:05:34.380Z"
   },
   {
    "duration": 4,
    "start_time": "2022-11-24T15:05:37.957Z"
   },
   {
    "duration": 7,
    "start_time": "2022-11-24T15:06:31.089Z"
   },
   {
    "duration": 89400,
    "start_time": "2022-11-24T15:06:40.551Z"
   },
   {
    "duration": 4,
    "start_time": "2022-11-24T15:08:09.953Z"
   },
   {
    "duration": 29,
    "start_time": "2022-11-24T15:10:16.270Z"
   },
   {
    "duration": 3,
    "start_time": "2022-11-24T15:10:16.488Z"
   },
   {
    "duration": 482,
    "start_time": "2022-11-25T11:42:58.589Z"
   },
   {
    "duration": 0,
    "start_time": "2022-11-25T11:42:59.074Z"
   },
   {
    "duration": 0,
    "start_time": "2022-11-25T11:42:59.075Z"
   },
   {
    "duration": 0,
    "start_time": "2022-11-25T11:42:59.076Z"
   },
   {
    "duration": 0,
    "start_time": "2022-11-25T11:42:59.077Z"
   },
   {
    "duration": 0,
    "start_time": "2022-11-25T11:42:59.078Z"
   },
   {
    "duration": 0,
    "start_time": "2022-11-25T11:42:59.079Z"
   },
   {
    "duration": 0,
    "start_time": "2022-11-25T11:42:59.079Z"
   },
   {
    "duration": 0,
    "start_time": "2022-11-25T11:42:59.080Z"
   },
   {
    "duration": 0,
    "start_time": "2022-11-25T11:42:59.081Z"
   },
   {
    "duration": 0,
    "start_time": "2022-11-25T11:42:59.082Z"
   },
   {
    "duration": 0,
    "start_time": "2022-11-25T11:42:59.083Z"
   },
   {
    "duration": 0,
    "start_time": "2022-11-25T11:42:59.084Z"
   },
   {
    "duration": 0,
    "start_time": "2022-11-25T11:42:59.085Z"
   },
   {
    "duration": 0,
    "start_time": "2022-11-25T11:42:59.086Z"
   },
   {
    "duration": 0,
    "start_time": "2022-11-25T11:42:59.087Z"
   },
   {
    "duration": 0,
    "start_time": "2022-11-25T11:42:59.088Z"
   },
   {
    "duration": 0,
    "start_time": "2022-11-25T11:42:59.089Z"
   },
   {
    "duration": 0,
    "start_time": "2022-11-25T11:42:59.089Z"
   },
   {
    "duration": 0,
    "start_time": "2022-11-25T11:42:59.090Z"
   },
   {
    "duration": 0,
    "start_time": "2022-11-25T11:42:59.091Z"
   },
   {
    "duration": 0,
    "start_time": "2022-11-25T11:42:59.092Z"
   },
   {
    "duration": 0,
    "start_time": "2022-11-25T11:42:59.093Z"
   },
   {
    "duration": 0,
    "start_time": "2022-11-25T11:42:59.094Z"
   },
   {
    "duration": 0,
    "start_time": "2022-11-25T11:42:59.095Z"
   },
   {
    "duration": 0,
    "start_time": "2022-11-25T11:42:59.096Z"
   },
   {
    "duration": 0,
    "start_time": "2022-11-25T11:42:59.097Z"
   },
   {
    "duration": 0,
    "start_time": "2022-11-25T11:42:59.098Z"
   },
   {
    "duration": 0,
    "start_time": "2022-11-25T11:42:59.099Z"
   },
   {
    "duration": 0,
    "start_time": "2022-11-25T11:42:59.100Z"
   },
   {
    "duration": 0,
    "start_time": "2022-11-25T11:42:59.101Z"
   },
   {
    "duration": 0,
    "start_time": "2022-11-25T11:42:59.102Z"
   },
   {
    "duration": 0,
    "start_time": "2022-11-25T11:42:59.102Z"
   },
   {
    "duration": 0,
    "start_time": "2022-11-25T11:42:59.103Z"
   },
   {
    "duration": 0,
    "start_time": "2022-11-25T11:42:59.104Z"
   },
   {
    "duration": 0,
    "start_time": "2022-11-25T11:42:59.105Z"
   },
   {
    "duration": 0,
    "start_time": "2022-11-25T11:42:59.106Z"
   },
   {
    "duration": 0,
    "start_time": "2022-11-25T11:42:59.107Z"
   },
   {
    "duration": 0,
    "start_time": "2022-11-25T11:42:59.107Z"
   },
   {
    "duration": 0,
    "start_time": "2022-11-25T11:42:59.108Z"
   },
   {
    "duration": 0,
    "start_time": "2022-11-25T11:42:59.109Z"
   },
   {
    "duration": 0,
    "start_time": "2022-11-25T11:42:59.110Z"
   },
   {
    "duration": 0,
    "start_time": "2022-11-25T11:42:59.111Z"
   },
   {
    "duration": 0,
    "start_time": "2022-11-25T11:42:59.112Z"
   },
   {
    "duration": 0,
    "start_time": "2022-11-25T11:42:59.113Z"
   },
   {
    "duration": 0,
    "start_time": "2022-11-25T11:42:59.114Z"
   },
   {
    "duration": 0,
    "start_time": "2022-11-25T11:42:59.115Z"
   },
   {
    "duration": 0,
    "start_time": "2022-11-25T11:42:59.116Z"
   },
   {
    "duration": 0,
    "start_time": "2022-11-25T11:42:59.117Z"
   },
   {
    "duration": 0,
    "start_time": "2022-11-25T11:42:59.118Z"
   },
   {
    "duration": 0,
    "start_time": "2022-11-25T11:42:59.119Z"
   },
   {
    "duration": 0,
    "start_time": "2022-11-25T11:42:59.178Z"
   },
   {
    "duration": 0,
    "start_time": "2022-11-25T11:42:59.179Z"
   },
   {
    "duration": 0,
    "start_time": "2022-11-25T11:42:59.181Z"
   },
   {
    "duration": 0,
    "start_time": "2022-11-25T11:42:59.182Z"
   },
   {
    "duration": 0,
    "start_time": "2022-11-25T11:42:59.183Z"
   },
   {
    "duration": 0,
    "start_time": "2022-11-25T11:42:59.185Z"
   },
   {
    "duration": 0,
    "start_time": "2022-11-25T11:42:59.186Z"
   },
   {
    "duration": 0,
    "start_time": "2022-11-25T11:42:59.187Z"
   },
   {
    "duration": 0,
    "start_time": "2022-11-25T11:42:59.188Z"
   },
   {
    "duration": 2,
    "start_time": "2022-11-25T11:43:25.506Z"
   },
   {
    "duration": 1052,
    "start_time": "2022-11-25T11:43:25.509Z"
   },
   {
    "duration": 5,
    "start_time": "2022-11-25T11:43:26.562Z"
   },
   {
    "duration": 98,
    "start_time": "2022-11-25T11:43:26.569Z"
   },
   {
    "duration": 52,
    "start_time": "2022-11-25T11:43:26.670Z"
   },
   {
    "duration": 12,
    "start_time": "2022-11-25T11:43:26.723Z"
   },
   {
    "duration": 18,
    "start_time": "2022-11-25T11:43:26.736Z"
   },
   {
    "duration": 193,
    "start_time": "2022-11-25T11:43:26.755Z"
   },
   {
    "duration": 178,
    "start_time": "2022-11-25T11:43:26.950Z"
   },
   {
    "duration": 14,
    "start_time": "2022-11-25T11:43:27.129Z"
   },
   {
    "duration": 8,
    "start_time": "2022-11-25T11:43:27.144Z"
   },
   {
    "duration": 87,
    "start_time": "2022-11-25T11:43:27.154Z"
   },
   {
    "duration": 10,
    "start_time": "2022-11-25T11:43:27.243Z"
   },
   {
    "duration": 167,
    "start_time": "2022-11-25T11:43:27.257Z"
   },
   {
    "duration": 153,
    "start_time": "2022-11-25T11:43:27.426Z"
   },
   {
    "duration": 14,
    "start_time": "2022-11-25T11:43:27.581Z"
   },
   {
    "duration": 263,
    "start_time": "2022-11-25T11:43:27.597Z"
   },
   {
    "duration": 75,
    "start_time": "2022-11-25T11:43:27.862Z"
   },
   {
    "duration": 56,
    "start_time": "2022-11-25T11:43:27.939Z"
   },
   {
    "duration": 3,
    "start_time": "2022-11-25T11:43:27.996Z"
   },
   {
    "duration": 46,
    "start_time": "2022-11-25T11:43:28.000Z"
   },
   {
    "duration": 186,
    "start_time": "2022-11-25T11:43:28.047Z"
   },
   {
    "duration": 7,
    "start_time": "2022-11-25T11:43:28.234Z"
   },
   {
    "duration": 9,
    "start_time": "2022-11-25T11:43:28.242Z"
   },
   {
    "duration": 14,
    "start_time": "2022-11-25T11:43:28.252Z"
   },
   {
    "duration": 55,
    "start_time": "2022-11-25T11:43:28.277Z"
   },
   {
    "duration": 35,
    "start_time": "2022-11-25T11:43:28.334Z"
   },
   {
    "duration": 3,
    "start_time": "2022-11-25T11:43:28.370Z"
   },
   {
    "duration": 33,
    "start_time": "2022-11-25T11:43:28.375Z"
   },
   {
    "duration": 7,
    "start_time": "2022-11-25T11:43:28.409Z"
   },
   {
    "duration": 8,
    "start_time": "2022-11-25T11:43:28.417Z"
   },
   {
    "duration": 12,
    "start_time": "2022-11-25T11:43:28.426Z"
   },
   {
    "duration": 76,
    "start_time": "2022-11-25T11:43:28.440Z"
   },
   {
    "duration": 15,
    "start_time": "2022-11-25T11:43:28.517Z"
   },
   {
    "duration": 3,
    "start_time": "2022-11-25T11:43:28.533Z"
   },
   {
    "duration": 13,
    "start_time": "2022-11-25T11:43:28.537Z"
   },
   {
    "duration": 65,
    "start_time": "2022-11-25T11:43:28.552Z"
   },
   {
    "duration": 32,
    "start_time": "2022-11-25T11:43:28.618Z"
   },
   {
    "duration": 3,
    "start_time": "2022-11-25T11:43:28.651Z"
   },
   {
    "duration": 10,
    "start_time": "2022-11-25T11:43:28.656Z"
   },
   {
    "duration": 252,
    "start_time": "2022-11-25T11:43:28.669Z"
   },
   {
    "duration": 241,
    "start_time": "2022-11-25T11:43:28.922Z"
   },
   {
    "duration": 20,
    "start_time": "2022-11-25T11:43:29.165Z"
   },
   {
    "duration": 12,
    "start_time": "2022-11-25T11:43:29.186Z"
   },
   {
    "duration": 21,
    "start_time": "2022-11-25T11:43:29.199Z"
   },
   {
    "duration": 25,
    "start_time": "2022-11-25T11:43:29.222Z"
   },
   {
    "duration": 204,
    "start_time": "2022-11-25T11:43:29.249Z"
   },
   {
    "duration": 10,
    "start_time": "2022-11-25T11:43:29.454Z"
   },
   {
    "duration": 4,
    "start_time": "2022-11-25T11:43:29.477Z"
   },
   {
    "duration": 21,
    "start_time": "2022-11-25T11:43:29.482Z"
   },
   {
    "duration": 29,
    "start_time": "2022-11-25T11:43:29.504Z"
   },
   {
    "duration": 12,
    "start_time": "2022-11-25T11:43:29.534Z"
   },
   {
    "duration": 19,
    "start_time": "2022-11-25T11:43:29.547Z"
   },
   {
    "duration": 25,
    "start_time": "2022-11-25T11:43:29.568Z"
   },
   {
    "duration": 42,
    "start_time": "2022-11-25T11:43:29.594Z"
   },
   {
    "duration": 29,
    "start_time": "2022-11-25T11:43:29.637Z"
   },
   {
    "duration": 18,
    "start_time": "2022-11-25T11:43:29.668Z"
   },
   {
    "duration": 22,
    "start_time": "2022-11-25T11:43:29.688Z"
   },
   {
    "duration": 28,
    "start_time": "2022-11-25T11:43:29.711Z"
   },
   {
    "duration": 17,
    "start_time": "2022-11-25T11:43:29.741Z"
   },
   {
    "duration": 56,
    "start_time": "2022-11-25T11:44:52.480Z"
   },
   {
    "duration": 18,
    "start_time": "2022-11-25T11:44:56.677Z"
   },
   {
    "duration": 2,
    "start_time": "2022-11-25T11:46:25.296Z"
   },
   {
    "duration": 34,
    "start_time": "2022-11-25T11:46:25.300Z"
   },
   {
    "duration": 11,
    "start_time": "2022-11-25T11:46:25.336Z"
   },
   {
    "duration": 111,
    "start_time": "2022-11-25T11:46:25.349Z"
   },
   {
    "duration": 55,
    "start_time": "2022-11-25T11:46:25.462Z"
   },
   {
    "duration": 13,
    "start_time": "2022-11-25T11:46:25.519Z"
   },
   {
    "duration": 14,
    "start_time": "2022-11-25T11:46:25.534Z"
   },
   {
    "duration": 237,
    "start_time": "2022-11-25T11:46:25.550Z"
   },
   {
    "duration": 181,
    "start_time": "2022-11-25T11:46:25.789Z"
   },
   {
    "duration": 13,
    "start_time": "2022-11-25T11:46:25.972Z"
   },
   {
    "duration": 17,
    "start_time": "2022-11-25T11:46:25.987Z"
   },
   {
    "duration": 11,
    "start_time": "2022-11-25T11:46:26.005Z"
   },
   {
    "duration": 9,
    "start_time": "2022-11-25T11:46:26.017Z"
   },
   {
    "duration": 169,
    "start_time": "2022-11-25T11:46:26.027Z"
   },
   {
    "duration": 153,
    "start_time": "2022-11-25T11:46:26.198Z"
   },
   {
    "duration": 18,
    "start_time": "2022-11-25T11:46:26.353Z"
   },
   {
    "duration": 341,
    "start_time": "2022-11-25T11:46:26.378Z"
   },
   {
    "duration": 87,
    "start_time": "2022-11-25T11:46:26.720Z"
   },
   {
    "duration": 50,
    "start_time": "2022-11-25T11:46:26.808Z"
   },
   {
    "duration": 4,
    "start_time": "2022-11-25T11:46:26.860Z"
   },
   {
    "duration": 43,
    "start_time": "2022-11-25T11:46:26.865Z"
   },
   {
    "duration": 189,
    "start_time": "2022-11-25T11:46:26.909Z"
   },
   {
    "duration": 6,
    "start_time": "2022-11-25T11:46:27.100Z"
   },
   {
    "duration": 6,
    "start_time": "2022-11-25T11:46:27.108Z"
   },
   {
    "duration": 11,
    "start_time": "2022-11-25T11:46:27.116Z"
   },
   {
    "duration": 79,
    "start_time": "2022-11-25T11:46:27.129Z"
   },
   {
    "duration": 39,
    "start_time": "2022-11-25T11:46:27.209Z"
   },
   {
    "duration": 4,
    "start_time": "2022-11-25T11:46:27.249Z"
   },
   {
    "duration": 32,
    "start_time": "2022-11-25T11:46:27.257Z"
   },
   {
    "duration": 5,
    "start_time": "2022-11-25T11:46:27.290Z"
   },
   {
    "duration": 6,
    "start_time": "2022-11-25T11:46:27.296Z"
   },
   {
    "duration": 11,
    "start_time": "2022-11-25T11:46:27.303Z"
   },
   {
    "duration": 72,
    "start_time": "2022-11-25T11:46:27.316Z"
   },
   {
    "duration": 15,
    "start_time": "2022-11-25T11:46:27.389Z"
   },
   {
    "duration": 3,
    "start_time": "2022-11-25T11:46:27.406Z"
   },
   {
    "duration": 12,
    "start_time": "2022-11-25T11:46:27.411Z"
   },
   {
    "duration": 71,
    "start_time": "2022-11-25T11:46:27.424Z"
   },
   {
    "duration": 32,
    "start_time": "2022-11-25T11:46:27.497Z"
   },
   {
    "duration": 4,
    "start_time": "2022-11-25T11:46:27.531Z"
   },
   {
    "duration": 9,
    "start_time": "2022-11-25T11:46:27.536Z"
   },
   {
    "duration": 271,
    "start_time": "2022-11-25T11:46:27.547Z"
   },
   {
    "duration": 245,
    "start_time": "2022-11-25T11:46:27.820Z"
   },
   {
    "duration": 23,
    "start_time": "2022-11-25T11:46:28.066Z"
   },
   {
    "duration": 18,
    "start_time": "2022-11-25T11:46:28.090Z"
   },
   {
    "duration": 21,
    "start_time": "2022-11-25T11:46:28.110Z"
   },
   {
    "duration": 11,
    "start_time": "2022-11-25T11:46:28.133Z"
   },
   {
    "duration": 195,
    "start_time": "2022-11-25T11:46:28.145Z"
   },
   {
    "duration": 11,
    "start_time": "2022-11-25T11:46:28.342Z"
   },
   {
    "duration": 3,
    "start_time": "2022-11-25T11:46:28.354Z"
   },
   {
    "duration": 20,
    "start_time": "2022-11-25T11:46:28.359Z"
   },
   {
    "duration": 15,
    "start_time": "2022-11-25T11:46:28.380Z"
   },
   {
    "duration": 10,
    "start_time": "2022-11-25T11:46:28.396Z"
   },
   {
    "duration": 9,
    "start_time": "2022-11-25T11:46:28.407Z"
   },
   {
    "duration": 7,
    "start_time": "2022-11-25T11:46:28.418Z"
   },
   {
    "duration": 18,
    "start_time": "2022-11-25T11:46:28.427Z"
   },
   {
    "duration": 9,
    "start_time": "2022-11-25T11:46:28.447Z"
   },
   {
    "duration": 25,
    "start_time": "2022-11-25T11:46:28.457Z"
   },
   {
    "duration": 11,
    "start_time": "2022-11-25T11:46:28.483Z"
   },
   {
    "duration": 7,
    "start_time": "2022-11-25T11:46:28.495Z"
   },
   {
    "duration": 11,
    "start_time": "2022-11-25T11:46:28.504Z"
   },
   {
    "duration": 79956,
    "start_time": "2022-11-25T11:46:28.516Z"
   },
   {
    "duration": 3,
    "start_time": "2022-11-25T11:47:48.478Z"
   },
   {
    "duration": 21,
    "start_time": "2022-11-25T11:47:48.483Z"
   },
   {
    "duration": 3,
    "start_time": "2022-11-25T11:47:48.505Z"
   },
   {
    "duration": 20580,
    "start_time": "2022-11-25T11:47:48.509Z"
   },
   {
    "duration": 3,
    "start_time": "2022-11-25T11:48:09.091Z"
   },
   {
    "duration": 103,
    "start_time": "2022-11-25T11:48:09.096Z"
   },
   {
    "duration": 78,
    "start_time": "2022-11-25T11:48:09.200Z"
   },
   {
    "duration": 9,
    "start_time": "2022-11-25T11:48:09.280Z"
   },
   {
    "duration": 88,
    "start_time": "2022-11-25T11:48:09.291Z"
   },
   {
    "duration": 2209,
    "start_time": "2022-11-25T11:48:09.382Z"
   },
   {
    "duration": 5,
    "start_time": "2022-11-25T11:48:22.653Z"
   },
   {
    "duration": 92,
    "start_time": "2022-11-25T11:50:15.089Z"
   },
   {
    "duration": 105,
    "start_time": "2022-11-26T11:50:14.577Z"
   }
  ],
  "kernelspec": {
   "display_name": "Python 3 (ipykernel)",
   "language": "python",
   "name": "python3"
  },
  "language_info": {
   "codemirror_mode": {
    "name": "ipython",
    "version": 3
   },
   "file_extension": ".py",
   "mimetype": "text/x-python",
   "name": "python",
   "nbconvert_exporter": "python",
   "pygments_lexer": "ipython3",
   "version": "3.7.8"
  },
  "toc": {
   "base_numbering": 1,
   "nav_menu": {},
   "number_sections": true,
   "sideBar": true,
   "skip_h1_title": true,
   "title_cell": "Table of Contents",
   "title_sidebar": "Contents",
   "toc_cell": false,
   "toc_position": {},
   "toc_section_display": true,
   "toc_window_display": false
  }
 },
 "nbformat": 4,
 "nbformat_minor": 5
}
