{
 "cells": [
  {
   "cell_type": "markdown",
   "metadata": {},
   "source": [
    "<h1> Комментарий ревьюера </h1>\n",
    "\n",
    "Привет, Глеб!\n",
    "Меня зовут Виктория Ильина, и я буду проверять твой проект. Предлагаю общаться на \"ты\", но если тебе будет не комфортно, обязательно сообщи и мы перейдем на \"вы\". \n",
    "\n",
    "Моя основная цель - не указать на совершённые тобой ошибки, а поделиться своим опытом и помочь тебе стать специалистом по Data Science. Ты уже проделал большую работу над проектом, но давай сделаем его ещё лучше. Ниже ты найдёшь мои комментарии - пожалуйста, не перемещай, не изменяй и не удаляй их. Я буду использовать различные цвета, чтобы было легче воспринимать мои комментарии:\n",
    "\n",
    "<div class=\"alert alert-block alert-danger\">\n",
    "<b>Комментарий ревьюера❌:</b> Так выделены самые важные замечания. Без их отработки проект не будет принят.\n",
    "</div>\n",
    "\n",
    "<div class=\"alert alert-block alert-warning\">\n",
    "<b>Комментарий ревьюера🤔:</b> Так выделены небольшие замечания. Одно-два таких замечания в проекте допустимы, но если их будет больше - тебе будет необходимо внести исправления. Однако, если перед нами стоит цель не просто сдать проект и забыть, а приобрести новые знания и успешно применять их в будущем, я бы всё-таки рекомендовала тебе прорабатывать эти недочёты.\n",
    "</div>\n",
    "    \n",
    "<div class=\"alert alert-block alert-success\">\n",
    "<b>Комментарий ревьюера👍:</b> Так я выделю все остальные комментарии.\n",
    "</div>\n",
    "    \n",
    "Давай работать над проектом в диалоге: если ты что-то меняешь в проекте или отвечаешь на мои комментарии - пиши об этом. Мне будет легче отследить изменения, если ты выделишь свои комментарии:\n",
    "\n",
    "<div class=\"alert alert-block alert-info\">\n",
    "<b>Комментарий студента:</b> Например, вот так.\n",
    "</div>\n",
    "\n",
    "Давай посмотрим, что получилось!"
   ]
  },
  {
   "cell_type": "markdown",
   "metadata": {
    "toc": true
   },
   "source": [
    "<h1>Содержание<span class=\"tocSkip\"></span></h1>\n",
    "<div class=\"toc\"><ul class=\"toc-item\"><li><span><a href=\"#Загрузка-данных\" data-toc-modified-id=\"Загрузка-данных-1\"><span class=\"toc-item-num\">1&nbsp;&nbsp;</span>Загрузка данных</a></span></li><li><span><a href=\"#Умножение-матриц\" data-toc-modified-id=\"Умножение-матриц-2\"><span class=\"toc-item-num\">2&nbsp;&nbsp;</span>Умножение матриц</a></span></li><li><span><a href=\"#Алгоритм-преобразования\" data-toc-modified-id=\"Алгоритм-преобразования-3\"><span class=\"toc-item-num\">3&nbsp;&nbsp;</span>Алгоритм преобразования</a></span></li><li><span><a href=\"#Проверка-алгоритма\" data-toc-modified-id=\"Проверка-алгоритма-4\"><span class=\"toc-item-num\">4&nbsp;&nbsp;</span>Проверка алгоритма</a></span></li><li><span><a href=\"#Чек-лист-проверки\" data-toc-modified-id=\"Чек-лист-проверки-5\"><span class=\"toc-item-num\">5&nbsp;&nbsp;</span>Чек-лист проверки</a></span></li></ul></div>"
   ]
  },
  {
   "cell_type": "markdown",
   "metadata": {},
   "source": [
    "# Защита персональных данных клиентов"
   ]
  },
  {
   "cell_type": "markdown",
   "metadata": {},
   "source": [
    "Вам нужно защитить данные клиентов страховой компании «Хоть потоп». Разработайте такой метод преобразования данных, чтобы по ним было сложно восстановить персональную информацию. Обоснуйте корректность его работы.\n",
    "\n",
    "Нужно защитить данные, чтобы при преобразовании качество моделей машинного обучения не ухудшилось. Подбирать наилучшую модель не требуется."
   ]
  },
  {
   "cell_type": "markdown",
   "metadata": {},
   "source": [
    "## Загрузка данных"
   ]
  },
  {
   "cell_type": "code",
   "execution_count": 1,
   "metadata": {},
   "outputs": [],
   "source": [
    "import pandas as pd\n",
    "import numpy as np\n",
    "from sklearn.linear_model import LinearRegression\n",
    "from sklearn.metrics import r2_score\n",
    "from sklearn.model_selection import train_test_split\n"
   ]
  },
  {
   "cell_type": "code",
   "execution_count": 2,
   "metadata": {},
   "outputs": [
    {
     "name": "stdout",
     "output_type": "stream",
     "text": [
      "<class 'pandas.core.frame.DataFrame'>\n",
      "RangeIndex: 5000 entries, 0 to 4999\n",
      "Data columns (total 5 columns):\n",
      " #   Column             Non-Null Count  Dtype  \n",
      "---  ------             --------------  -----  \n",
      " 0   Пол                5000 non-null   int64  \n",
      " 1   Возраст            5000 non-null   int8   \n",
      " 2   Зарплата           5000 non-null   float64\n",
      " 3   Члены семьи        5000 non-null   int64  \n",
      " 4   Страховые выплаты  5000 non-null   int64  \n",
      "dtypes: float64(1), int64(3), int8(1)\n",
      "memory usage: 161.3 KB\n"
     ]
    }
   ],
   "source": [
    "data=pd.read_csv('/datasets/insurance.csv')\n",
    "data['Возраст'] = pd.to_numeric(data['Возраст'], downcast='integer')\n",
    "data.info()\n"
   ]
  },
  {
   "cell_type": "code",
   "execution_count": 3,
   "metadata": {},
   "outputs": [],
   "source": [
    "def check_data (data_i):\n",
    "    temp = data_i.copy() \n",
    "   \n",
    "    list_c=data_i.columns\n",
    "    for col_l in list_c:\n",
    "        print('-------------------------')\n",
    "        #print(col_l, temp[col_l].sort_values().unique())\n",
    "        print(col_l,'|кол-во строк',len(temp),'| кол-во NaN',temp[col_l].isna().sum(),\n",
    "        '| процент NaN', round(temp[col_l].isna().sum()/len(temp)*100, 2),'%')"
   ]
  },
  {
   "cell_type": "code",
   "execution_count": 4,
   "metadata": {},
   "outputs": [
    {
     "name": "stdout",
     "output_type": "stream",
     "text": [
      "-------------------------\n",
      "Пол |кол-во строк 5000 | кол-во NaN 0 | процент NaN 0.0 %\n",
      "-------------------------\n",
      "Возраст |кол-во строк 5000 | кол-во NaN 0 | процент NaN 0.0 %\n",
      "-------------------------\n",
      "Зарплата |кол-во строк 5000 | кол-во NaN 0 | процент NaN 0.0 %\n",
      "-------------------------\n",
      "Члены семьи |кол-во строк 5000 | кол-во NaN 0 | процент NaN 0.0 %\n",
      "-------------------------\n",
      "Страховые выплаты |кол-во строк 5000 | кол-во NaN 0 | процент NaN 0.0 %\n"
     ]
    }
   ],
   "source": [
    "check_data(data)"
   ]
  },
  {
   "cell_type": "code",
   "execution_count": 5,
   "metadata": {},
   "outputs": [
    {
     "name": "stdout",
     "output_type": "stream",
     "text": [
      "   Пол  Возраст  Зарплата  Члены семьи\n",
      "0    1       41   49600.0            1\n",
      "1    0       46   38000.0            1\n",
      "2    0       29   21000.0            0\n",
      "3    0       21   41700.0            2\n",
      "4    1       28   26100.0            0\n",
      "\n",
      "0    0\n",
      "1    1\n",
      "2    0\n",
      "3    0\n",
      "4    0\n",
      "Name: Страховые выплаты, dtype: int64\n"
     ]
    }
   ],
   "source": [
    "\n",
    "features = data.drop('Страховые выплаты', axis=1)\n",
    "target = data['Страховые выплаты']\n",
    "print(features.head())\n",
    "print()\n",
    "print(target.head())"
   ]
  },
  {
   "cell_type": "markdown",
   "metadata": {},
   "source": [
    "**Вывод:** Загруженные данные не имеют дефектов, пропусков, кол-во строк совпадает для каждого признака.  \n",
    "    Изменен тип данных у поля \"Возраст\""
   ]
  },
  {
   "cell_type": "markdown",
   "metadata": {},
   "source": [
    "\n",
    "<div class=\"alert alert-block alert-warning\">\n",
    "<b>Комментарий ревьюера🤔:</b> Отсутствует промежуточный вывод и твои комментарии по поводу данных\n",
    "</div>\n",
    "<div class=\"alert alert-block alert-info\">\n",
    "<b>Комментарий студента:</b> Вывод добавлен.\n",
    "</div>"
   ]
  },
  {
   "cell_type": "markdown",
   "metadata": {},
   "source": [
    "<div class=\"alert alert-block alert-success\">\n",
    "<b>Комментарий ревьюера V.2👍:</b> Принято\n",
    "</div>"
   ]
  },
  {
   "cell_type": "markdown",
   "metadata": {},
   "source": [
    "## Умножение матриц"
   ]
  },
  {
   "cell_type": "code",
   "execution_count": 6,
   "metadata": {},
   "outputs": [
    {
     "data": {
      "text/plain": [
       "array([ 7.92580543e-03,  3.57083050e-02, -1.70080492e-07, -1.35676623e-02])"
      ]
     },
     "metadata": {},
     "output_type": "display_data"
    },
    {
     "data": {
      "text/plain": [
       "array([ 7.92580543e-03,  3.57083050e-02, -1.70080492e-07, -1.35676623e-02])"
      ]
     },
     "execution_count": 6,
     "metadata": {},
     "output_type": "execute_result"
    }
   ],
   "source": [
    "X = np.concatenate((np.ones((features.shape[0], 1)), features), axis=1)\n",
    "y = target\n",
    "w = np.linalg.inv(X.T.dot(X)).dot(X.T).dot(y)\n",
    "display(w[1:])\n",
    "model = LinearRegression()\n",
    "model.fit(features, target)\n",
    "model.coef_\n"
   ]
  },
  {
   "cell_type": "code",
   "execution_count": 7,
   "metadata": {},
   "outputs": [
    {
     "name": "stdout",
     "output_type": "stream",
     "text": [
      "0.4249455028666801\n"
     ]
    }
   ],
   "source": [
    "prediction=model.predict(features)\n",
    "print(r2_score(target, prediction))"
   ]
  },
  {
   "cell_type": "markdown",
   "metadata": {},
   "source": [
    "В этом задании вы можете записывать формулы в *Jupyter Notebook.*\n",
    "\n",
    "Чтобы записать формулу внутри текста, окружите её символами доллара \\\\$; если снаружи —  двойными символами \\\\$\\\\$. Эти формулы записываются на языке вёрстки *LaTeX.* \n",
    "\n",
    "Для примера мы записали формулы линейной регрессии. Можете их скопировать и отредактировать, чтобы решить задачу.\n",
    "\n",
    "Работать в *LaTeX* необязательно."
   ]
  },
  {
   "cell_type": "markdown",
   "metadata": {},
   "source": [
    "Обозначения:\n",
    "\n",
    "- $X$ — матрица признаков (нулевой столбец состоит из единиц)\n",
    "\n",
    "- $y$ — вектор целевого признака\n",
    "\n",
    "- $P$ — матрица, на которую умножаются признаки\n",
    "\n",
    "- $w$ — вектор весов линейной регрессии (нулевой элемент равен сдвигу)"
   ]
  },
  {
   "cell_type": "markdown",
   "metadata": {},
   "source": [
    "Предсказания:\n",
    "\n",
    "$$\n",
    "a = Xw\n",
    "$$\n",
    "\n",
    "Задача обучения:\n",
    "\n",
    "$$\n",
    "w = \\arg\\min_w MSE(Xw, y)\n",
    "$$\n",
    "\n",
    "Формула обучения:\n",
    "\n",
    "$$\n",
    "w = (X^T X)^{-1} X^T y\n",
    "$$"
   ]
  },
  {
   "cell_type": "markdown",
   "metadata": {},
   "source": [
    "**Вопрос:** Измениться ли коф.R2 линейной регрессии при умножение матрицы признаков на обратимую квадратную матрицу?"
   ]
  },
  {
   "cell_type": "markdown",
   "metadata": {},
   "source": [
    "**Ответ:** Нет\n",
    "\n",
    "**Обоснование:** \n",
    "$$a = Xw$$\n",
    "\n",
    "$$a1=XPw$$\n",
    "\n",
    "$$a1=XP((XP)^T XP)^{-1} (XP)^T y$$\n",
    "воспользуемся правилом:$$ (A B)^T=B^TA^T$$\n",
    "\n",
    "$$a1=XP(P^TX^TXP)^{-1} P^TX^T y=XP(P^T(X^TX)P)^{-1} P^TX^T y$$\n",
    "\n",
    "воспользуемся правилом:$$ (A B)^{-1}=B^{-1}A^{-1}$$\n",
    "\n",
    "$$a1=XPP^{-1}(X^TX)^{-1}(P^T)^{-1} P^TX^T y$$\n",
    "$$a1=XE(X^TX)^{-1}EX^T y=X(X^TX)^{-1}X^T y=a$$\n",
    "\n"
   ]
  },
  {
   "cell_type": "markdown",
   "metadata": {},
   "source": [
    "**Вывод** Значение a не меняется при умножение мартицы на обратимую"
   ]
  },
  {
   "cell_type": "markdown",
   "metadata": {},
   "source": [
    "<div class=\"alert alert-block alert-danger\">\n",
    "<b>Комментарий ревьюера❌:</b> Тут нужно привести теоретическое обоснование неизменности качества регрессии с помощью формул или очень подробно словами\n",
    "</div>\n",
    "<div class=\"alert alert-block alert-info\">\n",
    "<b>Комментарий студента:</b> Добавил  теоритическое обоснование.\n",
    "</div>"
   ]
  },
  {
   "cell_type": "markdown",
   "metadata": {},
   "source": [
    "<div class=\"alert alert-block alert-danger\">\n",
    "<b>Комментарий ревьюера V.2❌:</b> К сожалению, у тебя допущена ошибка в доказательстве, так как для неквадратных матриц $X$ и $X^T$ обратных матриц не существует, то мы не можем раскрывать $(X^T X)^{-1}$\n",
    "    \n",
    "Теория по обратным матрицам: https://www.berdov.com/works/matrix/obratnaya-matrica/ \n",
    "</div>\n"
   ]
  },
  {
   "cell_type": "markdown",
   "metadata": {},
   "source": [
    "<div class=\"alert alert-block alert-success\">\n",
    "<b>Комментарий ревьюера V.3👍:</b> Теперь верно =)\n",
    "</div>"
   ]
  },
  {
   "cell_type": "markdown",
   "metadata": {},
   "source": [
    "## Алгоритм преобразования"
   ]
  },
  {
   "cell_type": "markdown",
   "metadata": {},
   "source": [
    "**Алгоритм**\n",
    "\n",
    "1) Умножаем матрицу признаков на обратимую матрицу  \n",
    "2) Умножаем на 100  \n",
    "3) Вычитаем 30\n"
   ]
  },
  {
   "cell_type": "markdown",
   "metadata": {},
   "source": [
    "**Обоснование**\n",
    "\n",
    "На линейную регрессию не влияют операции, связанные с умножение/делению/вычитанием/сложением матрицы признаков на число, а также умножение на обратимую квадратную матрицу."
   ]
  },
  {
   "cell_type": "code",
   "execution_count": null,
   "metadata": {},
   "outputs": [],
   "source": []
  },
  {
   "cell_type": "code",
   "execution_count": 43,
   "metadata": {},
   "outputs": [],
   "source": [
    "def change_features(features):\n",
    "    n = features.shape[1]\n",
    "    np.random.seed(1234567)\n",
    "    random_matrix = np.random.randint(1,5,(n,n))\n",
    "    \n",
    "    print(random_matrix)\n",
    "    \n",
    "    if (np.linalg.matrix_rank(random_matrix) < n):\n",
    "        print (\"Not invertible!\")\n",
    "    else:\n",
    "        print (\"Invertible!\")\n",
    "\n",
    "    \n",
    "    return ((features @random_matrix)*100)-30"
   ]
  },
  {
   "cell_type": "code",
   "execution_count": 44,
   "metadata": {},
   "outputs": [
    {
     "name": "stdout",
     "output_type": "stream",
     "text": [
      "[[4 4 1 3]\n",
      " [2 3 1 2]\n",
      " [1 2 3 3]\n",
      " [4 4 2 1]]\n",
      "Invertible!\n",
      "R2 0.41295701079948577\n"
     ]
    }
   ],
   "source": [
    "\n",
    "features_new=change_features(features)\n",
    "features_train, features_test, target_train, target_test = train_test_split( features_new, target, test_size=0.25, random_state=1234567)\n",
    "model = LinearRegression()\n",
    "model.fit(features_train, target_train)\n",
    "print(\"R2\",r2_score(target_test, model.predict(features_test)))"
   ]
  },
  {
   "cell_type": "code",
   "execution_count": 16,
   "metadata": {},
   "outputs": [
    {
     "name": "stdout",
     "output_type": "stream",
     "text": [
      "   Пол  Возраст  Зарплата  Члены семьи\n",
      "0    1       41   49600.0            1\n",
      "1    0       46   38000.0            1\n",
      "2    0       29   21000.0            0\n",
      "3    0       21   41700.0            2\n",
      "4    1       28   26100.0            0\n",
      "             0             1             2           3\n",
      "0  4196.713775  27629.444036  26050.067978  292.111222\n",
      "1  3216.708755  21179.980598  19971.513603  227.185517\n",
      "2  1777.712954  11707.408825  11040.199930  126.146795\n",
      "3  3527.011794  23217.979522  21887.581251  242.104494\n",
      "4  2209.015198  14544.066183  13714.243574  155.445955\n"
     ]
    }
   ],
   "source": [
    "P = np.random.rand(4,4)\n",
    "np.linalg.inv(P)\n",
    "features_new  =features@\n",
    "print(features.head())\n",
    "print(features_new.head())"
   ]
  },
  {
   "cell_type": "markdown",
   "metadata": {},
   "source": [
    "## Проверка алгоритма"
   ]
  },
  {
   "cell_type": "code",
   "execution_count": 45,
   "metadata": {},
   "outputs": [
    {
     "name": "stdout",
     "output_type": "stream",
     "text": [
      "R2 0.4129570107995183\n"
     ]
    }
   ],
   "source": [
    "\n",
    "features_train, features_test, target_train, target_test = train_test_split( features, target, test_size=0.25, random_state=1234567)\n",
    "model = LinearRegression()\n",
    "model.fit(features_train, target_train)\n",
    "print(\"R2\",r2_score(target_test, model.predict(features_test)))"
   ]
  },
  {
   "cell_type": "markdown",
   "metadata": {},
   "source": [
    "**Вывод:** Показатель качества лин.регрессии R2 не изменился после применения алгоритма шифрования данных. "
   ]
  },
  {
   "cell_type": "markdown",
   "metadata": {},
   "source": [
    "<div class=\"alert alert-block alert-success\">\n",
    "<b>Комментарий ревьюера👍:</b> Верно, таким образом в случае домножения матрицы признаков на случайную обратимую матрицу можно обеспечить защиту данных, не особо потеряв в качестве модели. (Незначительное отличие вызвано особенностью преобразования матриц и чисел с плавающей точкой, это норма)\n",
    "</div>\n"
   ]
  },
  {
   "cell_type": "markdown",
   "metadata": {},
   "source": [
    "## Чек-лист проверки"
   ]
  },
  {
   "cell_type": "markdown",
   "metadata": {},
   "source": [
    "Поставьте 'x' в выполненных пунктах. Далее нажмите Shift+Enter."
   ]
  },
  {
   "cell_type": "markdown",
   "metadata": {},
   "source": [
    "- [x]  Jupyter Notebook открыт\n",
    "- [ ]  Весь код выполняется без ошибок\n",
    "- [ ]  Ячейки с кодом расположены в порядке исполнения\n",
    "- [Х]  Выполнен шаг 1: данные загружены\n",
    "- []  Выполнен шаг 2: получен ответ на вопрос об умножении матриц\n",
    "    - [ ]  Указан правильный вариант ответа\n",
    "    - [ ]  Вариант обоснован\n",
    "- [ ]  Выполнен шаг 3: предложен алгоритм преобразования\n",
    "    - [Х]  Алгоритм описан\n",
    "    - [Х]  Алгоритм обоснован\n",
    "- [Х]  Выполнен шаг 4: алгоритм проверен\n",
    "    - [Х]  Алгоритм реализован\n",
    "    - [Х]  Проведено сравнение качества моделей до и после преобразования"
   ]
  },
  {
   "cell_type": "markdown",
   "metadata": {},
   "source": [
    "<div class=\"alert alert-block alert-danger\">\n",
    "<b>Комментарий ревьюера❌:</b> Спасибо тебе за проделанную работу, к сожалению, сейчас я не могу принять твой проект, поэтому тебе придётся ещё немного поработать:\n",
    "    \n",
    "- добавь промежуточный вывод и твои комментарии по поводу данных;\n",
    "- распиши доказательство.\n",
    "    \n",
    "До скорой встречи, если у тебя есть ещё какие-то вопросы или ты хочешь какую-то подборку статей, то обязательно пиши =)\n",
    "</div>"
   ]
  },
  {
   "cell_type": "markdown",
   "metadata": {},
   "source": [
    "<div class=\"alert alert-block alert-success\">\n",
    "<b>Комментарий ревьюера V.2👍:</b> Дополнительные материалы:\n",
    "        \n",
    "Обзоры по применению криптографии в машинном обучении: https://arxiv.org/pdf/1902.04109.pdf, https://www.researchgate.net/publication/342746786_Some_Applications_of_Machine_Learning_in_Cryptography\n",
    "\n",
    "Небольшой обзор на Шифр Хилла: https://habr.com/ru/post/595281/\n",
    "   \n",
    "Примеры использования линейной алгебры в машинном обучении:\n",
    "https://machinelearningmastery.com/examples-of-linear-algebra-in-machine-learning/\n",
    "    \n",
    "Для чего нужна математика в машинном обучении?\n",
    "https://proglib.io/p/dlya-chego-nuzhen-matematicheskiy-analiz-v-mashinnom-obuchenii-2021-02-15\n",
    "\n",
    "Большая статья по векторам:\n",
    "https://neptune.ai/blog/understanding-vectors-from-a-machine-learning-perspective  \n",
    "\n",
    "Можно ещё дополнительно посмотреть лекции от МФТИ https://www.youtube.com/playlist?list=PLk4h7dmY2eYHHTyfLyrl7HmP-H3mMAW08\n",
    "    \n",
    "Классная серия роликов по линейной алгебре на английском (можно включить автоматические русские субтитры): https://www.youtube.com/playlist?list=PLRDl2inPrWQW1QSWhBU0ki-jq_uElkh2a\n",
    "\n",
    "Удачи в будущих проектах и работе =)\n",
    "</div>"
   ]
  },
  {
   "cell_type": "code",
   "execution_count": null,
   "metadata": {},
   "outputs": [],
   "source": []
  }
 ],
 "metadata": {
  "ExecuteTimeLog": [
   {
    "duration": 454,
    "start_time": "2022-08-15T09:39:22.854Z"
   },
   {
    "duration": 65,
    "start_time": "2022-08-15T09:42:59.917Z"
   },
   {
    "duration": 3,
    "start_time": "2022-08-15T09:43:04.565Z"
   },
   {
    "duration": 97,
    "start_time": "2022-08-15T09:43:06.596Z"
   },
   {
    "duration": 37,
    "start_time": "2022-08-15T09:43:17.218Z"
   },
   {
    "duration": 19,
    "start_time": "2022-08-15T09:43:47.503Z"
   },
   {
    "duration": 5,
    "start_time": "2022-08-15T10:06:43.678Z"
   },
   {
    "duration": 10,
    "start_time": "2022-08-15T10:07:21.126Z"
   },
   {
    "duration": 6,
    "start_time": "2022-08-15T10:07:28.954Z"
   },
   {
    "duration": 6,
    "start_time": "2022-08-15T10:07:38.739Z"
   },
   {
    "duration": 7,
    "start_time": "2022-08-15T10:07:51.322Z"
   },
   {
    "duration": 10,
    "start_time": "2022-08-15T10:08:10.470Z"
   },
   {
    "duration": 8,
    "start_time": "2022-08-15T10:08:26.875Z"
   },
   {
    "duration": 9,
    "start_time": "2022-08-15T10:08:40.496Z"
   },
   {
    "duration": 13,
    "start_time": "2022-08-15T10:31:28.447Z"
   },
   {
    "duration": 1130,
    "start_time": "2022-08-15T10:31:55.480Z"
   },
   {
    "duration": 47,
    "start_time": "2022-08-15T10:31:56.613Z"
   },
   {
    "duration": 14,
    "start_time": "2022-08-15T10:31:56.662Z"
   },
   {
    "duration": 38,
    "start_time": "2022-08-15T10:31:56.679Z"
   },
   {
    "duration": 40,
    "start_time": "2022-08-15T10:45:28.227Z"
   },
   {
    "duration": 48,
    "start_time": "2022-08-15T10:45:59.879Z"
   },
   {
    "duration": 49,
    "start_time": "2022-08-15T10:46:06.359Z"
   },
   {
    "duration": 3,
    "start_time": "2022-08-15T10:47:07.685Z"
   },
   {
    "duration": 40,
    "start_time": "2022-08-15T10:47:08.476Z"
   },
   {
    "duration": 5,
    "start_time": "2022-08-15T10:47:09.435Z"
   },
   {
    "duration": 17,
    "start_time": "2022-08-15T10:47:10.604Z"
   },
   {
    "duration": 5,
    "start_time": "2022-08-15T10:48:26.631Z"
   },
   {
    "duration": 13,
    "start_time": "2022-08-15T10:48:29.872Z"
   },
   {
    "duration": 279,
    "start_time": "2022-08-15T11:06:14.969Z"
   },
   {
    "duration": 8,
    "start_time": "2022-08-15T11:06:32.259Z"
   },
   {
    "duration": 15,
    "start_time": "2022-08-15T11:07:06.591Z"
   },
   {
    "duration": 29,
    "start_time": "2022-08-15T11:07:30.598Z"
   },
   {
    "duration": 1107,
    "start_time": "2022-08-15T11:07:41.185Z"
   },
   {
    "duration": 40,
    "start_time": "2022-08-15T11:07:42.294Z"
   },
   {
    "duration": 4,
    "start_time": "2022-08-15T11:07:42.336Z"
   },
   {
    "duration": 13,
    "start_time": "2022-08-15T11:07:42.342Z"
   },
   {
    "duration": 8,
    "start_time": "2022-08-15T11:07:42.358Z"
   },
   {
    "duration": 100,
    "start_time": "2022-08-15T11:07:42.368Z"
   },
   {
    "duration": 95,
    "start_time": "2022-08-15T11:08:22.590Z"
   },
   {
    "duration": 19,
    "start_time": "2022-08-15T11:08:41.510Z"
   },
   {
    "duration": 96,
    "start_time": "2022-08-15T11:09:51.551Z"
   },
   {
    "duration": 77,
    "start_time": "2022-08-15T11:10:36.730Z"
   },
   {
    "duration": 14,
    "start_time": "2022-08-15T11:11:07.123Z"
   },
   {
    "duration": 22,
    "start_time": "2022-08-15T11:12:14.472Z"
   },
   {
    "duration": 15,
    "start_time": "2022-08-15T11:13:37.931Z"
   },
   {
    "duration": 16,
    "start_time": "2022-08-15T11:19:03.099Z"
   },
   {
    "duration": 15,
    "start_time": "2022-08-15T11:19:15.998Z"
   },
   {
    "duration": 15,
    "start_time": "2022-08-15T11:19:25.599Z"
   },
   {
    "duration": 14,
    "start_time": "2022-08-15T11:19:38.312Z"
   },
   {
    "duration": 14,
    "start_time": "2022-08-15T11:19:45.444Z"
   },
   {
    "duration": 8,
    "start_time": "2022-08-15T11:19:58.775Z"
   },
   {
    "duration": 7,
    "start_time": "2022-08-15T11:46:53.491Z"
   },
   {
    "duration": 6,
    "start_time": "2022-08-15T11:47:16.766Z"
   },
   {
    "duration": 15,
    "start_time": "2022-08-15T11:48:45.874Z"
   },
   {
    "duration": 11,
    "start_time": "2022-08-15T11:48:53.508Z"
   },
   {
    "duration": 48,
    "start_time": "2022-08-15T11:49:48.347Z"
   },
   {
    "duration": 53,
    "start_time": "2022-08-15T11:50:17.232Z"
   },
   {
    "duration": 1088,
    "start_time": "2022-08-15T11:50:26.711Z"
   },
   {
    "duration": 41,
    "start_time": "2022-08-15T11:50:29.281Z"
   },
   {
    "duration": 4,
    "start_time": "2022-08-15T11:50:29.806Z"
   },
   {
    "duration": 12,
    "start_time": "2022-08-15T11:50:30.157Z"
   },
   {
    "duration": 9,
    "start_time": "2022-08-15T11:50:30.404Z"
   },
   {
    "duration": 121,
    "start_time": "2022-08-15T11:50:31.153Z"
   },
   {
    "duration": 7,
    "start_time": "2022-08-15T11:50:31.702Z"
   },
   {
    "duration": 14,
    "start_time": "2022-08-15T11:50:36.368Z"
   },
   {
    "duration": 12,
    "start_time": "2022-08-15T11:51:30.639Z"
   },
   {
    "duration": 9,
    "start_time": "2022-08-15T11:52:12.176Z"
   },
   {
    "duration": 14,
    "start_time": "2022-08-15T11:52:23.498Z"
   },
   {
    "duration": 7,
    "start_time": "2022-08-15T11:52:26.853Z"
   },
   {
    "duration": 11,
    "start_time": "2022-08-15T11:52:33.233Z"
   },
   {
    "duration": 6,
    "start_time": "2022-08-15T11:52:35.933Z"
   },
   {
    "duration": 22,
    "start_time": "2022-08-15T11:54:04.549Z"
   },
   {
    "duration": 7,
    "start_time": "2022-08-15T11:54:53.969Z"
   },
   {
    "duration": 16,
    "start_time": "2022-08-15T11:54:58.479Z"
   },
   {
    "duration": 7,
    "start_time": "2022-08-15T11:55:00.180Z"
   },
   {
    "duration": 15,
    "start_time": "2022-08-15T11:55:21.834Z"
   },
   {
    "duration": 14,
    "start_time": "2022-08-15T11:55:31.497Z"
   },
   {
    "duration": 9,
    "start_time": "2022-08-15T11:55:36.952Z"
   },
   {
    "duration": 6,
    "start_time": "2022-08-15T11:57:00.823Z"
   },
   {
    "duration": 10,
    "start_time": "2022-08-15T11:57:04.686Z"
   },
   {
    "duration": 10,
    "start_time": "2022-08-15T11:57:09.073Z"
   },
   {
    "duration": 9,
    "start_time": "2022-08-15T11:57:12.078Z"
   },
   {
    "duration": 10,
    "start_time": "2022-08-15T11:57:33.115Z"
   },
   {
    "duration": 65,
    "start_time": "2022-08-15T11:57:40.703Z"
   },
   {
    "duration": 11,
    "start_time": "2022-08-15T11:57:45.581Z"
   },
   {
    "duration": 9,
    "start_time": "2022-08-15T11:57:48.608Z"
   },
   {
    "duration": 14,
    "start_time": "2022-08-15T11:58:07.511Z"
   },
   {
    "duration": 10,
    "start_time": "2022-08-15T11:58:31.635Z"
   },
   {
    "duration": 10,
    "start_time": "2022-08-15T11:58:54.590Z"
   },
   {
    "duration": 8,
    "start_time": "2022-08-15T11:58:58.173Z"
   },
   {
    "duration": 10,
    "start_time": "2022-08-15T12:00:17.364Z"
   },
   {
    "duration": 8,
    "start_time": "2022-08-15T12:00:20.969Z"
   },
   {
    "duration": 9,
    "start_time": "2022-08-15T12:00:37.573Z"
   },
   {
    "duration": 7,
    "start_time": "2022-08-15T12:00:40.948Z"
   },
   {
    "duration": 9,
    "start_time": "2022-08-15T12:01:08.976Z"
   },
   {
    "duration": 8,
    "start_time": "2022-08-15T12:01:13.357Z"
   },
   {
    "duration": 5,
    "start_time": "2022-08-15T12:03:04.651Z"
   },
   {
    "duration": 9,
    "start_time": "2022-08-15T12:03:17.370Z"
   },
   {
    "duration": 5,
    "start_time": "2022-08-15T12:05:30.626Z"
   },
   {
    "duration": 4,
    "start_time": "2022-08-15T12:05:39.637Z"
   },
   {
    "duration": 17,
    "start_time": "2022-08-15T12:05:42.476Z"
   },
   {
    "duration": 60,
    "start_time": "2022-08-15T12:06:35.140Z"
   },
   {
    "duration": 4,
    "start_time": "2022-08-15T12:06:52.702Z"
   },
   {
    "duration": 3,
    "start_time": "2022-08-15T12:06:55.550Z"
   },
   {
    "duration": 10,
    "start_time": "2022-08-15T12:06:59.074Z"
   },
   {
    "duration": 11,
    "start_time": "2022-08-15T12:08:40.868Z"
   },
   {
    "duration": 76,
    "start_time": "2022-08-15T12:09:36.420Z"
   },
   {
    "duration": 4,
    "start_time": "2022-08-15T12:09:54.333Z"
   },
   {
    "duration": 9,
    "start_time": "2022-08-15T12:09:56.743Z"
   },
   {
    "duration": 1167,
    "start_time": "2022-08-15T12:10:04.658Z"
   },
   {
    "duration": 40,
    "start_time": "2022-08-15T12:10:05.827Z"
   },
   {
    "duration": 4,
    "start_time": "2022-08-15T12:10:05.869Z"
   },
   {
    "duration": 21,
    "start_time": "2022-08-15T12:10:05.875Z"
   },
   {
    "duration": 9,
    "start_time": "2022-08-15T12:10:05.897Z"
   },
   {
    "duration": 65,
    "start_time": "2022-08-15T12:10:05.908Z"
   },
   {
    "duration": 93,
    "start_time": "2022-08-15T12:10:05.975Z"
   },
   {
    "duration": 8,
    "start_time": "2022-08-15T12:10:06.070Z"
   },
   {
    "duration": 15,
    "start_time": "2022-08-15T12:10:06.168Z"
   },
   {
    "duration": 8,
    "start_time": "2022-08-15T12:10:06.186Z"
   },
   {
    "duration": 74,
    "start_time": "2022-08-15T12:10:06.196Z"
   },
   {
    "duration": 4,
    "start_time": "2022-08-15T12:10:57.575Z"
   },
   {
    "duration": 12,
    "start_time": "2022-08-15T12:10:59.413Z"
   },
   {
    "duration": 3,
    "start_time": "2022-08-15T12:23:05.545Z"
   },
   {
    "duration": 11,
    "start_time": "2022-08-15T12:23:09.547Z"
   },
   {
    "duration": 10,
    "start_time": "2022-08-15T12:23:09.873Z"
   },
   {
    "duration": 13,
    "start_time": "2022-08-15T12:23:13.730Z"
   },
   {
    "duration": 103,
    "start_time": "2022-08-15T12:23:28.244Z"
   },
   {
    "duration": 4,
    "start_time": "2022-08-15T12:23:40.247Z"
   },
   {
    "duration": 4,
    "start_time": "2022-08-15T12:24:02.105Z"
   },
   {
    "duration": 4,
    "start_time": "2022-08-15T12:24:05.172Z"
   },
   {
    "duration": 113,
    "start_time": "2022-08-15T12:24:06.884Z"
   },
   {
    "duration": 5,
    "start_time": "2022-08-15T12:24:42.492Z"
   },
   {
    "duration": 123,
    "start_time": "2022-08-15T12:24:44.852Z"
   },
   {
    "duration": 99,
    "start_time": "2022-08-15T12:25:15.434Z"
   },
   {
    "duration": 5,
    "start_time": "2022-08-15T12:25:26.665Z"
   },
   {
    "duration": 1369,
    "start_time": "2022-08-15T12:25:30.783Z"
   },
   {
    "duration": 4,
    "start_time": "2022-08-15T12:26:03.733Z"
   },
   {
    "duration": 14,
    "start_time": "2022-08-15T12:26:06.414Z"
   },
   {
    "duration": 5,
    "start_time": "2022-08-15T12:26:31.255Z"
   },
   {
    "duration": 929,
    "start_time": "2022-08-15T12:26:33.075Z"
   },
   {
    "duration": 6,
    "start_time": "2022-08-15T12:26:53.528Z"
   },
   {
    "duration": 18,
    "start_time": "2022-08-15T12:26:55.811Z"
   },
   {
    "duration": 7,
    "start_time": "2022-08-15T12:27:42.182Z"
   },
   {
    "duration": 15,
    "start_time": "2022-08-15T12:27:45.364Z"
   },
   {
    "duration": 4,
    "start_time": "2022-08-15T12:29:08.549Z"
   },
   {
    "duration": 35,
    "start_time": "2022-08-15T12:29:11.060Z"
   },
   {
    "duration": 17,
    "start_time": "2022-08-15T12:29:28.652Z"
   },
   {
    "duration": 97,
    "start_time": "2022-08-15T12:30:20.580Z"
   },
   {
    "duration": 15,
    "start_time": "2022-08-15T12:30:33.398Z"
   },
   {
    "duration": 77,
    "start_time": "2022-08-15T12:34:34.523Z"
   },
   {
    "duration": 118,
    "start_time": "2022-08-15T12:34:51.592Z"
   },
   {
    "duration": 5,
    "start_time": "2022-08-15T12:35:11.147Z"
   },
   {
    "duration": 13,
    "start_time": "2022-08-15T12:35:14.066Z"
   },
   {
    "duration": 13,
    "start_time": "2022-08-15T12:36:38.637Z"
   },
   {
    "duration": 55,
    "start_time": "2022-08-17T12:27:10.268Z"
   },
   {
    "duration": 152,
    "start_time": "2022-08-17T13:58:25.260Z"
   }
  ],
  "kernelspec": {
   "display_name": "Python 3 (ipykernel)",
   "language": "python",
   "name": "python3"
  },
  "language_info": {
   "codemirror_mode": {
    "name": "ipython",
    "version": 3
   },
   "file_extension": ".py",
   "mimetype": "text/x-python",
   "name": "python",
   "nbconvert_exporter": "python",
   "pygments_lexer": "ipython3",
   "version": "3.9.5"
  },
  "toc": {
   "base_numbering": 1,
   "nav_menu": {},
   "number_sections": true,
   "sideBar": true,
   "skip_h1_title": true,
   "title_cell": "Содержание",
   "title_sidebar": "Contents",
   "toc_cell": true,
   "toc_position": {
    "height": "calc(100% - 180px)",
    "left": "10px",
    "top": "150px",
    "width": "323.903px"
   },
   "toc_section_display": true,
   "toc_window_display": true
  }
 },
 "nbformat": 4,
 "nbformat_minor": 2
}
