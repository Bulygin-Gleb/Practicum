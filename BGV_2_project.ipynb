{
 "cells": [
  {
   "cell_type": "markdown",
   "id": "98276774",
   "metadata": {},
   "source": [
    "<div style=\"border:solid green 3px; padding: 20px\">\n",
    "\n",
    "<b>Привет!</b>\n",
    "\n",
    "Меня зовут Сороколетов Илья и я буду проверять твой проект. \n",
    "\n",
    "Предлагаю общаться на «**ты**», но если тебе будет комфортнее общаться на «**вы**», то сообщи об этом в комментариях)\n",
    "\n",
    "\n",
    "Для твоего удобства, я буду выделять свои комментарии следующим образом:\n",
    "\n",
    "<div class=\"alert alert-danger\">\n",
    "<b>❌ Комментарий ревьюера v1:</b> Самые важные замечания. Они указывают на ключевые моменты, которые влияют на конечный результат проекта. </div>\n",
    "\n",
    "<div class=\"alert alert-warning\">\n",
    "<b>⚠️ Комментарий ревьюера v1:</b> Советы или замечания, которые помогут сделать твою работу лучше, но необязательны к выполнению.\n",
    "\n",
    "</div>\n",
    "\n",
    "<div class=\"alert alert-success\">\n",
    "<b>✔️ Комментарий ревьюера v1:</b> Так я выделяю все остальные комментарии.</div>\n",
    "\n",
    "\n",
    "Пометками <b>v1-v2-v3-...</b> я буду отмечать версию проверки. Так ты сможешь быстро найти мои новые комментарии.\n",
    "\n",
    "Давай работать над проектом в диалоге: если ты что-то меняешь в проекте по моим рекомендациям — пиши об этом. Выбери для своих комментариев какой-то заметный цвет, так мне будет легче отследить изменения, например вот так:\n",
    "    \n",
    "<div class=\"alert alert-info\">\n",
    "<b>Комментарий студента:</b>\n",
    "<br>\n",
    "</div>\n",
    "\n",
    "<b>Пожалуйста, не перемещай, не изменяй и не удаляй мои комментарии.</b> Если ты оставляешь свои комментарии, то делай это под моими, чтобы сообщения были расположены в хронологическом порядке. Всё это поможет выполнить повторную проверку твоего проекта быстрее. \n",
    "Если ты оставляешь свои комментарии, то делай это под моими, чтобы сообщения были расположены в хронологическом порядке. Всё это поможет выполнить повторную проверку твоего проекта быстрее. \n",
    "\n",
    "Перед отправкой работы я рекомендую нажимать Kernel -> Restart & Run All. Это перезапустит ядро и по очереди выполнит все ячейки. Так ты сможешь проверить, что всё работает корректно. Кнопка Kernel находится в панели сверху\n",
    "\n",
    "Обязательно задавай вопросы если они возникнут, а я перехожу к проверке)\n",
    "\n",
    "P.S. На всякий случай, я оставлю пустой шаблон для твоих комментариев ниже. Кликни два раза на мой комментарий, скопируй последние четыре строчки кода и вставляй их в пустую ячейку там, где ты хочешь оставить комментарий. Не забудь только перед этим сменить тип ячейки на Markdown. Быстро это можно сделать так: кликнуть на ячейку - нажать ESC - нажать M. \n",
    "    \n",
    "    \n",
    "<div class=\"alert alert-info\">\n",
    "<b>Комментарий студента:</b>\n",
    "<br>Место для твоего комментария\n",
    "</div>"
   ]
  },
  {
   "cell_type": "markdown",
   "id": "fb729e08",
   "metadata": {},
   "source": [
    "# Исследование надежности заемщиков."
   ]
  },
  {
   "cell_type": "markdown",
   "id": "9dc10b91",
   "metadata": {},
   "source": [
    "<div class=\"alert alert-warning\">\n",
    "<b>⚠️ Комментарий ревьюера v1:</b> \n",
    "<br>Лучше оставляй перед проектом краткое описание задачи. Это поможет тебе быстро вспомнить о чем проект, если спустя время ты решишь к нему вернуться)\n",
    "</div>"
   ]
  },
  {
   "cell_type": "markdown",
   "id": "e2f612c7",
   "metadata": {},
   "source": [
    "### Шаг 1. Обзор данных\n"
   ]
  },
  {
   "cell_type": "markdown",
   "id": "729a3d09",
   "metadata": {},
   "source": [
    "В данной таблице наблюдаются пропуски в столбцах: days_employed и total_income.\\\n",
    "Пропуски парные, то есть отсутствует значения в обоих столбцах.\n",
    "Доля пропусков порядка 10% пи этом группировка по остальным столбцам показала, что пропущенные значения некатегоризируются в какой-то группе, а носят органический характер (равно распределены во все группах).\n",
    "Следовательно, отсюда можно сделать вывод, что пропущенные значения можно заменить на медианные тем самым сохранив 10% данных при это не сместив выборку.\\\n",
    "\\\n",
    "Причина появления пропусков:\n",
    "- некорректное заведения данных формата Дата\n",
    "- отсутствие дохода следствие отсутствия трудового стажа (умножение на 0)"
   ]
  },
  {
   "cell_type": "code",
   "execution_count": 1,
   "id": "6d9e4448",
   "metadata": {
    "scrolled": true
   },
   "outputs": [
    {
     "name": "stdout",
     "output_type": "stream",
     "text": [
      "Доля пропущенные значения составляют в столбце days_employed = 0.10\n",
      "Доля пропущенные значения составляют в столбце total_income = 0.10\n",
      "purpose\n",
      "автомобили                                0.119247\n",
      "автомобиль                                0.082828\n",
      "высшее образование                        0.088300\n",
      "дополнительное образование                0.103896\n",
      "жилье                                     0.092736\n",
      "заняться высшим образованием              0.112903\n",
      "заняться образованием                     0.133495\n",
      "на покупку автомобиля                     0.063559\n",
      "на покупку подержанного автомобиля        0.087683\n",
      "на покупку своего автомобиля              0.104950\n",
      "на проведение свадьбы                     0.118404\n",
      "недвижимость                              0.097792\n",
      "образование                               0.093960\n",
      "операции с жильем                         0.113323\n",
      "операции с коммерческой недвижимостью     0.107527\n",
      "операции с недвижимостью                  0.090237\n",
      "операции со своей недвижимостью           0.112698\n",
      "покупка жилой недвижимости                0.100494\n",
      "покупка жилья                             0.080371\n",
      "покупка жилья для сдачи                   0.099541\n",
      "покупка жилья для семьи                   0.110764\n",
      "покупка коммерческой недвижимости         0.100904\n",
      "покупка недвижимости                      0.115385\n",
      "покупка своего жилья                      0.074194\n",
      "получение высшего образования             0.084507\n",
      "получение дополнительного образования     0.114094\n",
      "получение образования                     0.112867\n",
      "приобретение автомобиля                   0.093074\n",
      "профильное образование                    0.107798\n",
      "ремонт жилью                              0.114379\n",
      "свадьба                                   0.095358\n",
      "свой автомобиль                           0.108333\n",
      "сделка с автомобилем                      0.101099\n",
      "сделка с подержанным автомобилем          0.110429\n",
      "строительство жилой недвижимости          0.073482\n",
      "строительство недвижимости                0.095161\n",
      "строительство собственной недвижимости    0.118110\n",
      "сыграть свадьбу                           0.104651\n",
      "Name: children, dtype: float64\n"
     ]
    }
   ],
   "source": [
    "import pandas as pd\n",
    "data=pd.read_csv('/datasets/data.csv')\n",
    "#data.info()\n",
    "#print(data.head(20))\n",
    "mistake_1=data['days_employed'].isnull().sum()/data['children'].count() # Рассчет доли пропусков\n",
    "mistake_2=data['total_income'].isnull().sum()/data['children'].count() # Рассчет доли пропусков\n",
    "\n",
    "print('Доля пропущенные значения составляют в столбце days_employed = {:.2f}'.format(mistake_1))\n",
    "print('Доля пропущенные значения составляют в столбце total_income = {:.2f}'.format(mistake_2))\n",
    "\n",
    "# Проверка распределения пропусков  по категориям\n",
    "rows=(data['days_employed'].isnull())&(data['total_income'].isnull())\n",
    "data_n=data.loc[rows]\n",
    "print(data_n.groupby('purpose')['children'].count()/\n",
    "data.groupby('purpose')['children'].count())\n"
   ]
  },
  {
   "cell_type": "markdown",
   "id": "b469fcad",
   "metadata": {},
   "source": [
    "<div class=\"alert alert-warning\">\n",
    "<b>⚠️ Комментарий ревьюера v1:</b> \n",
    "<br>Все библиотеки лучше импортировать отдельно в первой ячейке. Это позволит тебе в любой момент добавить ещё одну библиотеку без перезаписи переменных.\n",
    "</div>"
   ]
  },
  {
   "cell_type": "markdown",
   "id": "b75e8083",
   "metadata": {},
   "source": [
    "<div class=\"alert alert-success\">\n",
    "<b>✔️ Комментарий ревьюера v1:</b> \n",
    "<br>Ещё можно посмотреть долю пропущенных значений среди всех данных следующим способом\n",
    "    \n",
    "    df.isna().mean()\n",
    "</div>"
   ]
  },
  {
   "cell_type": "markdown",
   "id": "9105d2b3",
   "metadata": {},
   "source": [
    "### Шаг 2.1 Заполнение пропусков"
   ]
  },
  {
   "cell_type": "markdown",
   "id": "bac09c83",
   "metadata": {},
   "source": [
    "Для расчёта корректного значения медианы для столбца 'days_employed' необходимо предварительно убрать все отрицательные значения.\\\n",
    "Предположу, что отрицательные значения были получены в связи с некорректно прописанной текущей датой ( когда клиент работает на момент взятия кредита).\\\n",
    "Исправлю значения на модуль.\n"
   ]
  },
  {
   "cell_type": "code",
   "execution_count": 2,
   "id": "30c76404",
   "metadata": {},
   "outputs": [
    {
     "name": "stdout",
     "output_type": "stream",
     "text": [
      "Медиана days_employed = 2194\n",
      "Медиана total_income = 145018\n",
      "\n",
      "<class 'pandas.core.frame.DataFrame'>\n",
      "RangeIndex: 21525 entries, 0 to 21524\n",
      "Data columns (total 12 columns):\n",
      " #   Column            Non-Null Count  Dtype  \n",
      "---  ------            --------------  -----  \n",
      " 0   children          21525 non-null  int64  \n",
      " 1   days_employed     21525 non-null  float64\n",
      " 2   dob_years         21525 non-null  int64  \n",
      " 3   education         21525 non-null  object \n",
      " 4   education_id      21525 non-null  int64  \n",
      " 5   family_status     21525 non-null  object \n",
      " 6   family_status_id  21525 non-null  int64  \n",
      " 7   gender            21525 non-null  object \n",
      " 8   income_type       21525 non-null  object \n",
      " 9   debt              21525 non-null  int64  \n",
      " 10  total_income      21525 non-null  float64\n",
      " 11  purpose           21525 non-null  object \n",
      "dtypes: float64(2), int64(5), object(5)\n",
      "memory usage: 2.0+ MB\n"
     ]
    }
   ],
   "source": [
    "\n",
    "data['days_employed']=abs(data['days_employed']) # Убрал отрицательные значения \n",
    "\n",
    "median_day=data['days_employed'].median(skipna=True)# Рассчет медианы по трудовым дням\n",
    "\n",
    "median_total_income=data['total_income'].median(skipna=True)# Рассчет медианы по Доходу\n",
    "\n",
    "print('Медиана days_employed = {:.0f}'.format(median_day)) \n",
    "print('Медиана total_income = {:.0f}'.format(median_total_income))\n",
    "\n",
    "data['days_employed']=data['days_employed'].fillna(value=median_day) # заполнение пустых значений\n",
    "data['total_income']=data['total_income'].fillna(value=median_total_income) # заполнение пустых значений\n",
    "print()\n",
    "data.info()# проверка"
   ]
  },
  {
   "cell_type": "markdown",
   "id": "4a2a489d",
   "metadata": {},
   "source": [
    "<div class=\"alert alert-success\">\n",
    "<b>✔️ Комментарий ревьюера v1:</b> \n",
    "<br>Всё верно! Также здесь можно заполнить пропуски более оптимальным способом - медианой, в зависимости от типа занятости. Для этого отлично подойдёт функция transform:\n",
    "\n",
    "    df['total_income'] = df['total_income'].fillna(df.groupby('income_type')['total_income'].transform(\"median\"))\n",
    "\n",
    "<br>Она создаёт новый столбец, который содержит столько же строк, сколько и изначальный, но только вместо оригинальных значений в каждой строке содержится медиана посчитанная по заданной группе. После этого вместо пропусков в оригинальном столбце мы подставляем значения из созданного столбца, то есть медианы в зависимости от группы.\n",
    "</div>"
   ]
  },
  {
   "cell_type": "markdown",
   "id": "283459c9",
   "metadata": {},
   "source": [
    "### Шаг 2.2 Проверка данных на аномалии и исправления."
   ]
  },
  {
   "cell_type": "markdown",
   "id": "f6f3178e",
   "metadata": {},
   "source": [
    "Первую аномалию убрали на предыдущем этапе - Отрицательные значения в столбце days_employed\\\n",
    "Следующие шаги поиск аномальных и экстремальных значений:\n"
   ]
  },
  {
   "cell_type": "code",
   "execution_count": 3,
   "id": "9a4801b6",
   "metadata": {},
   "outputs": [
    {
     "name": "stdout",
     "output_type": "stream",
     "text": [
      "Проверка значений по полю Дети\n",
      "\n",
      "максимальное 20\n",
      "минимальное -1\n",
      "\n",
      "Исключим экстремальные значения из распределения по детям \n",
      "\n",
      "0    14149\n",
      "1     4818\n",
      "2     2055\n",
      "3      330\n",
      "4       41\n",
      "5        9\n",
      "Name: children, dtype: int64\n"
     ]
    }
   ],
   "source": [
    "print('Проверка значений по полю Дети')\n",
    "print()\n",
    "print('максимальное',data['children'].max())# ищем максимум\n",
    "print('минимальное',data['children'].min())# ищим минимум\n",
    "#print(data['children'].value_counts())\n",
    "print()\n",
    "print('Исключим экстремальные значения из распределения по детям ')\n",
    "print()\n",
    "data= data.loc[data['children']!=20]\n",
    "data= data.loc[data['children']!=-1]\n",
    "\n",
    "print(data['children'].value_counts()) # оценка конечного распределения\n"
   ]
  },
  {
   "cell_type": "markdown",
   "id": "4b590eb1",
   "metadata": {},
   "source": [
    "<div class=\"alert alert-success\">\n",
    "<b>✔️ Комментарий ревьюера v1:</b>\n",
    "<br>Отличное решение!\n",
    "</div>"
   ]
  },
  {
   "cell_type": "code",
   "execution_count": 4,
   "id": "1c7e51df",
   "metadata": {
    "scrolled": true
   },
   "outputs": [
    {
     "name": "stdout",
     "output_type": "stream",
     "text": [
      "Проверка значений по полю Возраст\n",
      "\n",
      "максимальное 75\n",
      "минимальное 0\n",
      "\n",
      "Изменим возраст клиента на 19 т.к. минимальный возраст взятия кредита \n",
      "\n",
      "максимальное 75\n",
      "минимальное 19\n"
     ]
    }
   ],
   "source": [
    "print('Проверка значений по полю Возраст')\n",
    "print()\n",
    "print('максимальное',data['dob_years'].max())# ищем максимум\n",
    "print('минимальное',data['dob_years'].min())# ищем минимум\n",
    "#print(data['dob_years'].value_counts())\n",
    "print()\n",
    "print('Изменим возраст клиента на 19 т.к. минимальный возраст взятия кредита ')\n",
    "print()\n",
    "data['dob_years'].replace(0,19,inplace = True) # проводим замену значений\n",
    "print('максимальное',data['dob_years'].max())\n",
    "print('минимальное',data['dob_years'].min())\n"
   ]
  },
  {
   "cell_type": "markdown",
   "id": "bf6ad10c",
   "metadata": {},
   "source": [
    "<div class=\"alert alert-warning\">\n",
    "<b>⚠️ Комментарий ревьюера v1:</b> \n",
    "<br>Не стоит делать замену ради замены, очень важна аргументация, почему ты подставляешь именно такое значение и насколько оно реалистично. Если мы заполняем пропуски таким образом, то у нас могут появится пенсионеры которым по 19 лет. Так как нулевых значений в этом столбце меньше 1%, то их можно либо удалить либо вообще не трогать, так как сам столбец нам не нужен для дальнейшего исследования\n",
    "</div>"
   ]
  },
  {
   "cell_type": "code",
   "execution_count": 5,
   "id": "41548002",
   "metadata": {},
   "outputs": [
    {
     "name": "stdout",
     "output_type": "stream",
     "text": [
      "F      14154\n",
      "M       7247\n",
      "XNA        1\n",
      "Name: gender, dtype: int64\n",
      "\n",
      "удалим клиента с неопределённым полом\n",
      "\n",
      "F    14154\n",
      "M     7247\n",
      "Name: gender, dtype: int64\n"
     ]
    }
   ],
   "source": [
    "print(data['gender'].value_counts())  \n",
    "print()\n",
    "print('удалим клиента с неопределённым полом')\n",
    "print()\n",
    "data=data.loc[data['gender']!='XNA']\n",
    "print(data['gender'].value_counts()) "
   ]
  },
  {
   "cell_type": "markdown",
   "id": "e2cf4b82",
   "metadata": {},
   "source": [
    "<div class=\"alert alert-success\">\n",
    "<b>✔️ Комментарий ревьюера v1:</b>\n",
    "<br>Поддерживаю! Так как мы не можем достоверно сказать, к какому полу ближе это значение, его стоит или удалить или не трогать)\n",
    "</div>"
   ]
  },
  {
   "cell_type": "markdown",
   "id": "95ad3c1f",
   "metadata": {},
   "source": [
    "### Шаг 2.3. Изменение типов данных."
   ]
  },
  {
   "cell_type": "code",
   "execution_count": 6,
   "id": "3e2a386e",
   "metadata": {},
   "outputs": [
    {
     "name": "stdout",
     "output_type": "stream",
     "text": [
      "<class 'pandas.core.frame.DataFrame'>\n",
      "Int64Index: 21401 entries, 0 to 21524\n",
      "Data columns (total 12 columns):\n",
      " #   Column            Non-Null Count  Dtype  \n",
      "---  ------            --------------  -----  \n",
      " 0   children          21401 non-null  int64  \n",
      " 1   days_employed     21401 non-null  float64\n",
      " 2   dob_years         21401 non-null  int64  \n",
      " 3   education         21401 non-null  object \n",
      " 4   education_id      21401 non-null  int64  \n",
      " 5   family_status     21401 non-null  object \n",
      " 6   family_status_id  21401 non-null  int64  \n",
      " 7   gender            21401 non-null  object \n",
      " 8   income_type       21401 non-null  object \n",
      " 9   debt              21401 non-null  int64  \n",
      " 10  total_income      21401 non-null  int64  \n",
      " 11  purpose           21401 non-null  object \n",
      "dtypes: float64(1), int64(6), object(5)\n",
      "memory usage: 2.1+ MB\n"
     ]
    }
   ],
   "source": [
    "data['total_income']=data['total_income'].astype('int64') \n",
    "data.info()"
   ]
  },
  {
   "cell_type": "markdown",
   "id": "f30ca2ad",
   "metadata": {},
   "source": [
    "<div class=\"alert alert-success\">\n",
    "<b>✔️ Комментарий ревьюера v1:</b> \n",
    "<br>Тут всё верно!\n",
    "</div>"
   ]
  },
  {
   "cell_type": "markdown",
   "id": "44280471",
   "metadata": {},
   "source": [
    "### Шаг 2.4. Удаление дубликатов."
   ]
  },
  {
   "cell_type": "markdown",
   "id": "7e68f772",
   "metadata": {},
   "source": [
    "1) Дубликаты были выявлены в стобце 'education' убираем через приведение всех записей в строчный вид. \\\n",
    "2) Найдена 71 строчка полных  дубликатов. Удалены методом drop_duplicates()"
   ]
  },
  {
   "cell_type": "code",
   "execution_count": 7,
   "id": "128a032e",
   "metadata": {},
   "outputs": [
    {
     "name": "stdout",
     "output_type": "stream",
     "text": [
      "среднее                15136\n",
      "высшее                  5237\n",
      "неоконченное высшее      740\n",
      "начальное                282\n",
      "ученая степень             6\n",
      "Name: education, dtype: int64\n"
     ]
    }
   ],
   "source": [
    "#print(data['education'].value_counts())\n",
    "data['education']=data['education'].str.lower() # Приведем все записи к нижнему регистру.\n",
    "print(data['education'].value_counts())"
   ]
  },
  {
   "cell_type": "code",
   "execution_count": 8,
   "id": "5e9605b7",
   "metadata": {},
   "outputs": [
    {
     "name": "stdout",
     "output_type": "stream",
     "text": [
      "женат / замужем          12302\n",
      "гражданский брак          4159\n",
      "не женат / не замужем     2799\n",
      "в разводе                 1189\n",
      "вдовец / вдова             952\n",
      "Name: family_status, dtype: int64\n"
     ]
    }
   ],
   "source": [
    "\n",
    "data['family_status']=data['family_status'].str.lower()  # Приведем все записи к нижнему регистру.\n",
    "print(data['family_status'].value_counts())"
   ]
  },
  {
   "cell_type": "code",
   "execution_count": 9,
   "id": "7488e214",
   "metadata": {},
   "outputs": [
    {
     "name": "stdout",
     "output_type": "stream",
     "text": [
      "кол-во дубликатов: 71\n",
      "кол-во дубликатов после удаления: 0\n"
     ]
    }
   ],
   "source": [
    "print('кол-во дубликатов:',data.duplicated().sum()) # поиск полных дубликатов\n",
    "data=data.drop_duplicates()\n",
    "print('кол-во дубликатов после удаления:',data.duplicated().sum())\n",
    "\n"
   ]
  },
  {
   "cell_type": "markdown",
   "id": "8eeccb22",
   "metadata": {},
   "source": [
    "<div class=\"alert alert-success\">\n",
    "<b>✔️ Комментарий ревьюера v1:</b> \n",
    "<br>Супер! От дубликатов тоже избавились\n",
    "</div>"
   ]
  },
  {
   "cell_type": "markdown",
   "id": "9e426745",
   "metadata": {},
   "source": [
    "### Шаг 2.5. Формирование дополнительных датафреймов словарей, декомпозиция исходного датафрейма."
   ]
  },
  {
   "cell_type": "code",
   "execution_count": 10,
   "id": "93c9eee0",
   "metadata": {},
   "outputs": [
    {
     "name": "stdout",
     "output_type": "stream",
     "text": [
      "             education  education_id\n",
      "0               высшее             0\n",
      "1              среднее             1\n",
      "2  неоконченное высшее             2\n",
      "3            начальное             3\n",
      "4       ученая степень             4\n"
     ]
    }
   ],
   "source": [
    "educat = data[['education', 'education_id']]\n",
    "educat=educat.drop_duplicates().reset_index(drop = True)\n",
    "print(educat)"
   ]
  },
  {
   "cell_type": "code",
   "execution_count": 11,
   "id": "e064665e",
   "metadata": {},
   "outputs": [
    {
     "name": "stdout",
     "output_type": "stream",
     "text": [
      "           family_status  family_status_id\n",
      "0        женат / замужем                 0\n",
      "1       гражданский брак                 1\n",
      "2         вдовец / вдова                 2\n",
      "3              в разводе                 3\n",
      "4  не женат / не замужем                 4\n"
     ]
    }
   ],
   "source": [
    "family = data[['family_status', 'family_status_id']]\n",
    "family=family.drop_duplicates().reset_index(drop = True)\n",
    "print(family)"
   ]
  },
  {
   "cell_type": "code",
   "execution_count": 12,
   "id": "d60039ac",
   "metadata": {},
   "outputs": [
    {
     "name": "stdout",
     "output_type": "stream",
     "text": [
      "<class 'pandas.core.frame.DataFrame'>\n",
      "Int64Index: 21330 entries, 0 to 21524\n",
      "Data columns (total 10 columns):\n",
      " #   Column         Non-Null Count  Dtype  \n",
      "---  ------         --------------  -----  \n",
      " 0   children       21330 non-null  int64  \n",
      " 1   days_employed  21330 non-null  float64\n",
      " 2   dob_years      21330 non-null  int64  \n",
      " 3   education      21330 non-null  object \n",
      " 4   family_status  21330 non-null  object \n",
      " 5   gender         21330 non-null  object \n",
      " 6   income_type    21330 non-null  object \n",
      " 7   debt           21330 non-null  int64  \n",
      " 8   total_income   21330 non-null  int64  \n",
      " 9   purpose        21330 non-null  object \n",
      "dtypes: float64(1), int64(4), object(5)\n",
      "memory usage: 1.8+ MB\n",
      "0\n"
     ]
    }
   ],
   "source": [
    "data=data[['children','days_employed','dob_years','education','family_status','gender','income_type',\n",
    "           'debt','total_income','purpose']]\n",
    "data.info()\n",
    "print(data.duplicated().sum())"
   ]
  },
  {
   "cell_type": "markdown",
   "id": "febc6be0",
   "metadata": {},
   "source": [
    "<div class=\"alert alert-success\">\n",
    "<b>✔️ Комментарий ревьюера v1:</b> \n",
    "<br>Тут всё правильно 👌\n",
    "</div>"
   ]
  },
  {
   "cell_type": "markdown",
   "id": "8849fa80",
   "metadata": {},
   "source": [
    "### Шаг 2.6. Категоризация дохода."
   ]
  },
  {
   "cell_type": "code",
   "execution_count": 13,
   "id": "7ff567c5",
   "metadata": {},
   "outputs": [
    {
     "name": "stdout",
     "output_type": "stream",
     "text": [
      "   children  days_employed  dob_years education     family_status gender  \\\n",
      "0         1    8437.673028         42    высшее   женат / замужем      F   \n",
      "1         1    4024.803754         36   среднее   женат / замужем      F   \n",
      "2         0    5623.422610         33   среднее   женат / замужем      M   \n",
      "3         3    4124.747207         32   среднее   женат / замужем      M   \n",
      "4         0  340266.072047         53   среднее  гражданский брак      F   \n",
      "5         0     926.185831         27    высшее  гражданский брак      M   \n",
      "6         0    2879.202052         43    высшее   женат / замужем      F   \n",
      "7         0     152.779569         50   среднее   женат / замужем      M   \n",
      "8         2    6929.865299         35    высшее  гражданский брак      F   \n",
      "9         0    2188.756445         41   среднее   женат / замужем      M   \n",
      "\n",
      "  income_type  debt  total_income                     purpose  \\\n",
      "0   сотрудник     0        253875               покупка жилья   \n",
      "1   сотрудник     0        112080     приобретение автомобиля   \n",
      "2   сотрудник     0        145885               покупка жилья   \n",
      "3   сотрудник     0        267628  дополнительное образование   \n",
      "4   пенсионер     0        158616             сыграть свадьбу   \n",
      "5   компаньон     0        255763               покупка жилья   \n",
      "6   компаньон     0        240525           операции с жильем   \n",
      "7   сотрудник     0        135823                 образование   \n",
      "8   сотрудник     0         95856       на проведение свадьбы   \n",
      "9   сотрудник     0        144425     покупка жилья для семьи   \n",
      "\n",
      "  total_income_category  \n",
      "0                     B  \n",
      "1                     C  \n",
      "2                     C  \n",
      "3                     B  \n",
      "4                     C  \n",
      "5                     B  \n",
      "6                     B  \n",
      "7                     C  \n",
      "8                     C  \n",
      "9                     C  \n"
     ]
    }
   ],
   "source": [
    "def total_income_category (total_income):\n",
    "    if total_income<=30000:\n",
    "        return 'E'\n",
    "    if total_income<=50000:\n",
    "        return 'D'\n",
    "    if total_income<=200000:\n",
    "        return 'C'\n",
    "    if total_income<=1000000:\n",
    "        return 'B'\n",
    "    else:\n",
    "        return 'A'\n",
    "data['total_income_category']=data['total_income'].apply(total_income_category)\n",
    "print(data.head(10))\n"
   ]
  },
  {
   "cell_type": "markdown",
   "id": "9f3da8ab",
   "metadata": {},
   "source": [
    "<div class=\"alert alert-success\">\n",
    "<b>✔️ Комментарий ревьюера v1:</b> \n",
    "<br>Категоризация клиентов по уровню дохода произведена верно\n",
    "</div>"
   ]
  },
  {
   "cell_type": "markdown",
   "id": "aaee2a3e",
   "metadata": {},
   "source": [
    "### Шаг 2.7. Категоризация целей кредита."
   ]
  },
  {
   "cell_type": "code",
   "execution_count": 14,
   "id": "2638df24",
   "metadata": {},
   "outputs": [
    {
     "name": "stdout",
     "output_type": "stream",
     "text": [
      "   children  days_employed  dob_years education     family_status gender  \\\n",
      "0         1    8437.673028         42    высшее   женат / замужем      F   \n",
      "1         1    4024.803754         36   среднее   женат / замужем      F   \n",
      "2         0    5623.422610         33   среднее   женат / замужем      M   \n",
      "3         3    4124.747207         32   среднее   женат / замужем      M   \n",
      "4         0  340266.072047         53   среднее  гражданский брак      F   \n",
      "5         0     926.185831         27    высшее  гражданский брак      M   \n",
      "6         0    2879.202052         43    высшее   женат / замужем      F   \n",
      "7         0     152.779569         50   среднее   женат / замужем      M   \n",
      "8         2    6929.865299         35    высшее  гражданский брак      F   \n",
      "9         0    2188.756445         41   среднее   женат / замужем      M   \n",
      "\n",
      "  income_type  debt  total_income                     purpose  \\\n",
      "0   сотрудник     0        253875               покупка жилья   \n",
      "1   сотрудник     0        112080     приобретение автомобиля   \n",
      "2   сотрудник     0        145885               покупка жилья   \n",
      "3   сотрудник     0        267628  дополнительное образование   \n",
      "4   пенсионер     0        158616             сыграть свадьбу   \n",
      "5   компаньон     0        255763               покупка жилья   \n",
      "6   компаньон     0        240525           операции с жильем   \n",
      "7   сотрудник     0        135823                 образование   \n",
      "8   сотрудник     0         95856       на проведение свадьбы   \n",
      "9   сотрудник     0        144425     покупка жилья для семьи   \n",
      "\n",
      "  total_income_category              purpose_type  \n",
      "0                     B  операции с недвижимостью  \n",
      "1                     C    операции с автомобилем  \n",
      "2                     C  операции с недвижимостью  \n",
      "3                     B     получение образования  \n",
      "4                     C        проведение свадьбы  \n",
      "5                     B  операции с недвижимостью  \n",
      "6                     B  операции с недвижимостью  \n",
      "7                     C     получение образования  \n",
      "8                     C        проведение свадьбы  \n",
      "9                     C  операции с недвижимостью  \n"
     ]
    }
   ],
   "source": [
    "def purpose_type(row):\n",
    "    if 'авто' in row['purpose']:\n",
    "        return 'операции с автомобилем'\n",
    "    if 'свадьб' in row['purpose']:\n",
    "        return 'проведение свадьбы'\n",
    "    if 'жи' in row['purpose']:\n",
    "        return 'операции с недвижимостью'\n",
    "    if 'образов' in row['purpose']:\n",
    "        return 'получение образования'\n",
    "\n",
    "\n",
    "data['purpose_type']=data.apply(purpose_type, axis=1)\n",
    "\n",
    "\n",
    "print(data.head(10))"
   ]
  },
  {
   "cell_type": "markdown",
   "id": "13b3fbbf",
   "metadata": {},
   "source": [
    "<div class=\"alert alert-success\">\n",
    "<b>✔️ Комментарий ревьюера v1:</b> \n",
    "<br>Основные цели кредита определены правильно! 👍\n",
    "</div>"
   ]
  },
  {
   "cell_type": "markdown",
   "id": "ca6facbc",
   "metadata": {},
   "source": [
    "### Ответы на вопросы."
   ]
  },
  {
   "cell_type": "markdown",
   "id": "cd1c3a0c",
   "metadata": {},
   "source": [
    "<div class=\"alert alert-danger\">\n",
    "<b>❌ Комментарий ревьюера v1:</b> \n",
    "<br>В каждом вопросе необходимо выделить группу с минимальной и максимальной вероятностью к просрочке. Также нужно провести отдельный расчет для зависимости вероятности просрочки от уровня дохода\n",
    "</div>"
   ]
  },
  {
   "cell_type": "markdown",
   "id": "bfbc63b9",
   "metadata": {},
   "source": [
    "##### Вопрос 1:"
   ]
  },
  {
   "cell_type": "code",
   "execution_count": 15,
   "id": "e77c01ad",
   "metadata": {},
   "outputs": [
    {
     "name": "stdout",
     "output_type": "stream",
     "text": [
      "children_tip\n",
      "1-2 ребенка    0.093003\n",
      "без детей      0.075444\n",
      "многодетные    0.081579\n",
      "Name: debt, dtype: float64\n",
      "\n",
      "Минимальное значение: children_tip\n",
      "без детей    0.075444\n",
      "Name: debt, dtype: float64\n",
      "\n",
      "Максимальное значение: children_tip\n",
      "1-2 ребенка    0.093003\n",
      "Name: debt, dtype: float64\n"
     ]
    }
   ],
   "source": [
    "\n",
    "def children_tip(row):\n",
    "    if row['children']==0:\n",
    "        return 'без детей'\n",
    "    if row['children']<3:\n",
    "        return '1-2 ребенка'\n",
    "    if row['children']>=3:\n",
    "        return 'многодетные'\n",
    "\n",
    "data['children_tip']=data.apply(children_tip, axis=1)\n",
    "\n",
    "data_debt=data.loc[data['debt']==1]\n",
    "answer1=data_debt.groupby('children_tip')['debt'].count()/data.groupby('children_tip')['debt'].count()\n",
    "print(answer1)\n",
    "print()\n",
    "print( 'Минимальное значение:', answer1.sort_values().head(1))\n",
    "print()\n",
    "print('Максимальное значение:',answer1.sort_values(ascending= False).head(1))\n"
   ]
  },
  {
   "cell_type": "markdown",
   "id": "4dcd1153",
   "metadata": {},
   "source": [
    "Кол-во детей не влияет на возврат кредита. Зависимость отсутствует."
   ]
  },
  {
   "cell_type": "markdown",
   "id": "c873cb69",
   "metadata": {},
   "source": [
    "##### Вопрос 2:"
   ]
  },
  {
   "cell_type": "code",
   "execution_count": 16,
   "id": "58073877",
   "metadata": {
    "scrolled": true
   },
   "outputs": [
    {
     "name": "stdout",
     "output_type": "stream",
     "text": [
      "family_status\n",
      "в разводе                0.070648\n",
      "вдовец / вдова           0.066246\n",
      "гражданский брак         0.093153\n",
      "женат / замужем          0.075606\n",
      "не женат / не замужем    0.097639\n",
      "Name: debt, dtype: float64\n",
      "\n",
      "Минимальное значение: family_status\n",
      "вдовец / вдова    0.066246\n",
      "Name: debt, dtype: float64\n",
      "\n",
      "Максимальное значение: family_status\n",
      "не женат / не замужем    0.097639\n",
      "Name: debt, dtype: float64\n"
     ]
    }
   ],
   "source": [
    "answer1=data_debt.groupby('family_status')['debt'].count()/data.groupby('family_status')['debt'].count()\n",
    "print(answer1)\n",
    "print()\n",
    "print( 'Минимальное значение:', answer1.sort_values().head(1))\n",
    "print()\n",
    "print('Максимальное значение:',answer1.sort_values(ascending= False).head(1))"
   ]
  },
  {
   "cell_type": "markdown",
   "id": "1aa46cff",
   "metadata": {},
   "source": [
    "Явной зависимости не наблюдается, но можно сделать косвенный вывод, что статусы присущие \"молодым\" (гражданский брак, не женат/не замужем) имеют выше показатели невозврата кредитных средств. Возможно, корреляция с возрастом клиента."
   ]
  },
  {
   "cell_type": "markdown",
   "id": "46063f80",
   "metadata": {},
   "source": [
    "##### Вопрос 3:"
   ]
  },
  {
   "cell_type": "code",
   "execution_count": 17,
   "id": "f25994be",
   "metadata": {},
   "outputs": [
    {
     "name": "stdout",
     "output_type": "stream",
     "text": [
      "                           debt\n",
      "total_income_category          \n",
      "A                      0.080000\n",
      "B                      0.070630\n",
      "C                      0.084977\n",
      "D                      0.060172\n",
      "E                      0.090909\n",
      "\n",
      "Минимальное значение:                            debt\n",
      "total_income_category          \n",
      "D                      0.060172\n",
      "\n",
      "Максимальное значение:                            debt\n",
      "total_income_category          \n",
      "E                      0.090909\n"
     ]
    }
   ],
   "source": [
    "answer1=data.pivot_table(index=[ 'total_income_category'], values='debt', aggfunc='mean')\n",
    "print(answer1)\n",
    "print()\n",
    "print( 'Минимальное значение:', answer1.sort_values(by='debt').head(1))\n",
    "print()\n",
    "print('Максимальное значение:',answer1.sort_values(by='debt', ascending= False).head(1))"
   ]
  },
  {
   "cell_type": "markdown",
   "id": "d7fe2f6e",
   "metadata": {},
   "source": [
    "##### Вывод 1:"
   ]
  },
  {
   "cell_type": "code",
   "execution_count": 1,
   "id": "120f6fc5",
   "metadata": {},
   "outputs": [
    {
     "ename": "NameError",
     "evalue": "name 'data' is not defined",
     "output_type": "error",
     "traceback": [
      "\u001b[0;31m---------------------------------------------------------------------------\u001b[0m",
      "\u001b[0;31mNameError\u001b[0m                                 Traceback (most recent call last)",
      "\u001b[0;32m/tmp/ipykernel_220/4053701287.py\u001b[0m in \u001b[0;36m<module>\u001b[0;34m\u001b[0m\n\u001b[0;32m----> 1\u001b[0;31m \u001b[0mdata_pivot1\u001b[0m \u001b[0;34m=\u001b[0m \u001b[0mdata\u001b[0m\u001b[0;34m.\u001b[0m\u001b[0mpivot_table\u001b[0m\u001b[0;34m(\u001b[0m\u001b[0mindex\u001b[0m\u001b[0;34m=\u001b[0m\u001b[0;34m[\u001b[0m \u001b[0;34m'purpose_type'\u001b[0m\u001b[0;34m]\u001b[0m\u001b[0;34m,\u001b[0m \u001b[0mcolumns\u001b[0m\u001b[0;34m=\u001b[0m\u001b[0;34m'total_income_category'\u001b[0m\u001b[0;34m,\u001b[0m \u001b[0mvalues\u001b[0m\u001b[0;34m=\u001b[0m\u001b[0;34m'debt'\u001b[0m\u001b[0;34m,\u001b[0m \u001b[0maggfunc\u001b[0m\u001b[0;34m=\u001b[0m\u001b[0;34m'sum'\u001b[0m\u001b[0;34m)\u001b[0m\u001b[0;34m\u001b[0m\u001b[0;34m\u001b[0m\u001b[0m\n\u001b[0m\u001b[1;32m      2\u001b[0m \u001b[0mdata_pivot2\u001b[0m \u001b[0;34m=\u001b[0m \u001b[0mdata\u001b[0m\u001b[0;34m.\u001b[0m\u001b[0mpivot_table\u001b[0m\u001b[0;34m(\u001b[0m\u001b[0mindex\u001b[0m\u001b[0;34m=\u001b[0m\u001b[0;34m[\u001b[0m \u001b[0;34m'purpose_type'\u001b[0m\u001b[0;34m]\u001b[0m\u001b[0;34m,\u001b[0m \u001b[0mcolumns\u001b[0m\u001b[0;34m=\u001b[0m\u001b[0;34m'total_income_category'\u001b[0m\u001b[0;34m,\u001b[0m \u001b[0mvalues\u001b[0m\u001b[0;34m=\u001b[0m\u001b[0;34m'debt'\u001b[0m\u001b[0;34m,\u001b[0m \u001b[0maggfunc\u001b[0m\u001b[0;34m=\u001b[0m\u001b[0;34m'count'\u001b[0m\u001b[0;34m)\u001b[0m\u001b[0;34m\u001b[0m\u001b[0;34m\u001b[0m\u001b[0m\n\u001b[1;32m      3\u001b[0m \u001b[0mprint\u001b[0m\u001b[0;34m(\u001b[0m\u001b[0mdata_pivot1\u001b[0m\u001b[0;34m)\u001b[0m\u001b[0;34m\u001b[0m\u001b[0;34m\u001b[0m\u001b[0m\n\u001b[1;32m      4\u001b[0m \u001b[0mprint\u001b[0m\u001b[0;34m(\u001b[0m\u001b[0;34m)\u001b[0m\u001b[0;34m\u001b[0m\u001b[0;34m\u001b[0m\u001b[0m\n\u001b[1;32m      5\u001b[0m \u001b[0mprint\u001b[0m\u001b[0;34m(\u001b[0m\u001b[0mdata_pivot1\u001b[0m\u001b[0;34m/\u001b[0m\u001b[0mdata_pivot2\u001b[0m\u001b[0;34m)\u001b[0m\u001b[0;34m\u001b[0m\u001b[0;34m\u001b[0m\u001b[0m\n",
      "\u001b[0;31mNameError\u001b[0m: name 'data' is not defined"
     ]
    }
   ],
   "source": [
    "data_pivot1 = data.pivot_table(index=[ 'purpose_type'], columns='total_income_category', values='debt', aggfunc='sum')\n",
    "data_pivot2 = data.pivot_table(index=[ 'purpose_type'], columns='total_income_category', values='debt', aggfunc='count')\n",
    "print(data_pivot1)\n",
    "print()\n",
    "print(data_pivot1/data_pivot2)\n"
   ]
  },
  {
   "cell_type": "markdown",
   "id": "1fb5078f",
   "metadata": {},
   "source": [
    "Распределение по целям показывает, что наиболее востребованным является кредиты на недвижимость для клиентов у которых зарплата находятся в пределах  от  30 000  до 200 000  тыс. руб. \n"
   ]
  },
  {
   "cell_type": "markdown",
   "id": "c17f5d12",
   "metadata": {},
   "source": [
    "<div class=\"alert alert-danger\">\n",
    "<b>❌ Комментарий ревьюера v1:</b> \n",
    "<br>У тебя верные расчеты, но давай их сделаем более оптимальным способом, построив сводные таблицы используя метод pivot_table. Построй её для ответа на любой из вопросов и в расчитай внутри таблицы долю должников внутри каждой группы. С этим может помочь aggfunc='mean'\n",
    "</div>"
   ]
  },
  {
   "cell_type": "markdown",
   "id": "c2cc4fac",
   "metadata": {},
   "source": [
    "<div class=\"alert alert-success\">\n",
    "<b>✔️ Комментарий ревьюера v2:</b>\n",
    "<br>Сводная таблица построена верно!\n",
    "</div>"
   ]
  },
  {
   "cell_type": "code",
   "execution_count": 19,
   "id": "0216e7ef",
   "metadata": {},
   "outputs": [
    {
     "data": {
      "text/html": [
       "<style  type=\"text/css\" >\n",
       "#T_c7956_row0_col0,#T_c7956_row0_col4,#T_c7956_row1_col4,#T_c7956_row2_col0,#T_c7956_row2_col3,#T_c7956_row2_col4,#T_c7956_row3_col0,#T_c7956_row3_col4,#T_c7956_row4_col0,#T_c7956_row4_col4,#T_c7956_row5_col0,#T_c7956_row5_col4,#T_c7956_row6_col0,#T_c7956_row6_col4,#T_c7956_row7_col4,#T_c7956_row12_col4,#T_c7956_row13_col4,#T_c7956_row14_col0,#T_c7956_row14_col3,#T_c7956_row14_col4,#T_c7956_row15_col0,#T_c7956_row15_col3,#T_c7956_row15_col4,#T_c7956_row16_col0,#T_c7956_row16_col4,#T_c7956_row17_col4,#T_c7956_row18_col0,#T_c7956_row18_col4,#T_c7956_row19_col0,#T_c7956_row19_col4,#T_c7956_row20_col0,#T_c7956_row20_col4,#T_c7956_row21_col0,#T_c7956_row21_col4,#T_c7956_row22_col0,#T_c7956_row22_col4,#T_c7956_row23_col4,#T_c7956_row26_col0,#T_c7956_row26_col4,#T_c7956_row29_col0,#T_c7956_row29_col4,#T_c7956_row31_col0,#T_c7956_row31_col4,#T_c7956_row32_col0,#T_c7956_row32_col3,#T_c7956_row32_col4,#T_c7956_row33_col0,#T_c7956_row33_col3,#T_c7956_row33_col4,#T_c7956_row34_col0,#T_c7956_row34_col3,#T_c7956_row34_col4,#T_c7956_row35_col0,#T_c7956_row35_col3,#T_c7956_row35_col4,#T_c7956_row36_col0,#T_c7956_row36_col3,#T_c7956_row36_col4,#T_c7956_row37_col0,#T_c7956_row37_col3,#T_c7956_row37_col4,#T_c7956_row38_col0,#T_c7956_row38_col4,#T_c7956_row39_col0,#T_c7956_row39_col4,#T_c7956_row40_col0,#T_c7956_row40_col4,#T_c7956_row41_col4,#T_c7956_row42_col0,#T_c7956_row42_col3,#T_c7956_row42_col4,#T_c7956_row43_col0,#T_c7956_row43_col3,#T_c7956_row43_col4,#T_c7956_row44_col0,#T_c7956_row44_col1,#T_c7956_row44_col3,#T_c7956_row44_col4,#T_c7956_row45_col0,#T_c7956_row45_col1,#T_c7956_row45_col3,#T_c7956_row45_col4{\n",
       "            background-color:  #000000;\n",
       "            color:  #f1f1f1;\n",
       "        }#T_c7956_row0_col1,#T_c7956_row10_col1,#T_c7956_row15_col1{\n",
       "            background-color:  #e6f0f9;\n",
       "            color:  #000000;\n",
       "        }#T_c7956_row0_col2,#T_c7956_row4_col2{\n",
       "            background-color:  #ddeaf7;\n",
       "            color:  #000000;\n",
       "        }#T_c7956_row0_col3{\n",
       "            background-color:  #6aaed6;\n",
       "            color:  #000000;\n",
       "        }#T_c7956_row1_col0,#T_c7956_row3_col1,#T_c7956_row3_col3,#T_c7956_row4_col3,#T_c7956_row5_col1,#T_c7956_row5_col3,#T_c7956_row6_col3,#T_c7956_row7_col0,#T_c7956_row7_col3,#T_c7956_row8_col0,#T_c7956_row8_col3,#T_c7956_row8_col4,#T_c7956_row9_col0,#T_c7956_row9_col4,#T_c7956_row10_col0,#T_c7956_row10_col4,#T_c7956_row11_col4,#T_c7956_row12_col0,#T_c7956_row12_col3,#T_c7956_row13_col0,#T_c7956_row13_col3,#T_c7956_row16_col3,#T_c7956_row17_col0,#T_c7956_row17_col3,#T_c7956_row18_col3,#T_c7956_row19_col3,#T_c7956_row20_col3,#T_c7956_row21_col3,#T_c7956_row23_col0,#T_c7956_row24_col3,#T_c7956_row24_col4,#T_c7956_row25_col0,#T_c7956_row25_col4,#T_c7956_row27_col0,#T_c7956_row28_col0,#T_c7956_row28_col4,#T_c7956_row30_col0,#T_c7956_row30_col3,#T_c7956_row30_col4,#T_c7956_row32_col1,#T_c7956_row32_col2,#T_c7956_row33_col1,#T_c7956_row34_col1,#T_c7956_row34_col2,#T_c7956_row35_col1,#T_c7956_row35_col2,#T_c7956_row37_col1,#T_c7956_row37_col2,#T_c7956_row38_col1,#T_c7956_row38_col3,#T_c7956_row39_col1,#T_c7956_row40_col3,#T_c7956_row41_col0,#T_c7956_row41_col3,#T_c7956_row42_col1,#T_c7956_row43_col1,#T_c7956_row43_col2,#T_c7956_row45_col2{\n",
       "            background-color:  #f7fbff;\n",
       "            color:  #000000;\n",
       "        }#T_c7956_row1_col1,#T_c7956_row23_col1,#T_c7956_row28_col1{\n",
       "            background-color:  #ecf4fb;\n",
       "            color:  #000000;\n",
       "        }#T_c7956_row1_col2,#T_c7956_row17_col2,#T_c7956_row26_col2,#T_c7956_row31_col1,#T_c7956_row40_col1{\n",
       "            background-color:  #e3eef8;\n",
       "            color:  #000000;\n",
       "        }#T_c7956_row1_col3,#T_c7956_row29_col3{\n",
       "            background-color:  #abd0e6;\n",
       "            color:  #000000;\n",
       "        }#T_c7956_row2_col1,#T_c7956_row22_col1,#T_c7956_row27_col1{\n",
       "            background-color:  #ebf3fb;\n",
       "            color:  #000000;\n",
       "        }#T_c7956_row2_col2,#T_c7956_row19_col1{\n",
       "            background-color:  #e9f2fa;\n",
       "            color:  #000000;\n",
       "        }#T_c7956_row3_col2,#T_c7956_row14_col1,#T_c7956_row18_col2{\n",
       "            background-color:  #e2edf8;\n",
       "            color:  #000000;\n",
       "        }#T_c7956_row4_col1,#T_c7956_row18_col1{\n",
       "            background-color:  #dbe9f6;\n",
       "            color:  #000000;\n",
       "        }#T_c7956_row5_col2{\n",
       "            background-color:  #a8cee4;\n",
       "            color:  #000000;\n",
       "        }#T_c7956_row6_col1,#T_c7956_row7_col1,#T_c7956_row11_col2,#T_c7956_row25_col2,#T_c7956_row29_col1{\n",
       "            background-color:  #dfecf7;\n",
       "            color:  #000000;\n",
       "        }#T_c7956_row6_col2{\n",
       "            background-color:  #c7dcef;\n",
       "            color:  #000000;\n",
       "        }#T_c7956_row7_col2{\n",
       "            background-color:  #d2e3f3;\n",
       "            color:  #000000;\n",
       "        }#T_c7956_row8_col1,#T_c7956_row22_col2,#T_c7956_row33_col2{\n",
       "            background-color:  #d6e6f4;\n",
       "            color:  #000000;\n",
       "        }#T_c7956_row8_col2{\n",
       "            background-color:  #b5d4e9;\n",
       "            color:  #000000;\n",
       "        }#T_c7956_row9_col1{\n",
       "            background-color:  #f1f7fd;\n",
       "            color:  #000000;\n",
       "        }#T_c7956_row9_col2{\n",
       "            background-color:  #d9e8f5;\n",
       "            color:  #000000;\n",
       "        }#T_c7956_row9_col3,#T_c7956_row21_col2,#T_c7956_row23_col3,#T_c7956_row26_col3,#T_c7956_row27_col2,#T_c7956_row42_col2{\n",
       "            background-color:  #e3eef9;\n",
       "            color:  #000000;\n",
       "        }#T_c7956_row10_col2,#T_c7956_row12_col2{\n",
       "            background-color:  #d8e7f5;\n",
       "            color:  #000000;\n",
       "        }#T_c7956_row10_col3{\n",
       "            background-color:  #ccdff1;\n",
       "            color:  #000000;\n",
       "        }#T_c7956_row11_col0,#T_c7956_row36_col2,#T_c7956_row39_col2{\n",
       "            background-color:  #c6dbef;\n",
       "            color:  #000000;\n",
       "        }#T_c7956_row11_col1{\n",
       "            background-color:  #eaf2fb;\n",
       "            color:  #000000;\n",
       "        }#T_c7956_row11_col3,#T_c7956_row28_col3{\n",
       "            background-color:  #f2f7fd;\n",
       "            color:  #000000;\n",
       "        }#T_c7956_row12_col1,#T_c7956_row13_col1{\n",
       "            background-color:  #e5eff9;\n",
       "            color:  #000000;\n",
       "        }#T_c7956_row13_col2{\n",
       "            background-color:  #bfd8ed;\n",
       "            color:  #000000;\n",
       "        }#T_c7956_row14_col2{\n",
       "            background-color:  #d7e6f5;\n",
       "            color:  #000000;\n",
       "        }#T_c7956_row15_col2{\n",
       "            background-color:  #dae8f6;\n",
       "            color:  #000000;\n",
       "        }#T_c7956_row16_col1{\n",
       "            background-color:  #f3f8fe;\n",
       "            color:  #000000;\n",
       "        }#T_c7956_row16_col2,#T_c7956_row23_col2{\n",
       "            background-color:  #deebf7;\n",
       "            color:  #000000;\n",
       "        }#T_c7956_row17_col1,#T_c7956_row25_col1{\n",
       "            background-color:  #eaf3fb;\n",
       "            color:  #000000;\n",
       "        }#T_c7956_row19_col2{\n",
       "            background-color:  #d9e7f5;\n",
       "            color:  #000000;\n",
       "        }#T_c7956_row20_col1,#T_c7956_row27_col3{\n",
       "            background-color:  #f0f6fd;\n",
       "            color:  #000000;\n",
       "        }#T_c7956_row20_col2,#T_c7956_row24_col1,#T_c7956_row26_col1,#T_c7956_row30_col1,#T_c7956_row40_col2{\n",
       "            background-color:  #e8f1fa;\n",
       "            color:  #000000;\n",
       "        }#T_c7956_row21_col1{\n",
       "            background-color:  #e7f1fa;\n",
       "            color:  #000000;\n",
       "        }#T_c7956_row22_col3,#T_c7956_row31_col3{\n",
       "            background-color:  #d0e1f2;\n",
       "            color:  #000000;\n",
       "        }#T_c7956_row24_col0,#T_c7956_row27_col4,#T_c7956_row36_col1,#T_c7956_row39_col3,#T_c7956_row44_col2{\n",
       "            background-color:  #08306b;\n",
       "            color:  #f1f1f1;\n",
       "        }#T_c7956_row24_col2{\n",
       "            background-color:  #cbdef1;\n",
       "            color:  #000000;\n",
       "        }#T_c7956_row25_col3{\n",
       "            background-color:  #eef5fc;\n",
       "            color:  #000000;\n",
       "        }#T_c7956_row28_col2{\n",
       "            background-color:  #dfebf7;\n",
       "            color:  #000000;\n",
       "        }#T_c7956_row29_col2{\n",
       "            background-color:  #d3e3f3;\n",
       "            color:  #000000;\n",
       "        }#T_c7956_row30_col2{\n",
       "            background-color:  #e1edf8;\n",
       "            color:  #000000;\n",
       "        }#T_c7956_row31_col2{\n",
       "            background-color:  #d6e5f4;\n",
       "            color:  #000000;\n",
       "        }#T_c7956_row38_col2{\n",
       "            background-color:  #9dcae1;\n",
       "            color:  #000000;\n",
       "        }#T_c7956_row41_col1{\n",
       "            background-color:  #edf4fc;\n",
       "            color:  #000000;\n",
       "        }#T_c7956_row41_col2{\n",
       "            background-color:  #dce9f6;\n",
       "            color:  #000000;\n",
       "        }</style><table id=\"T_c7956_\" ><thead>    <tr>        <th class=\"blank\" ></th>        <th class=\"blank\" ></th>        <th class=\"index_name level0\" >total_income_category</th>        <th class=\"col_heading level0 col0\" >A</th>        <th class=\"col_heading level0 col1\" >B</th>        <th class=\"col_heading level0 col2\" >C</th>        <th class=\"col_heading level0 col3\" >D</th>        <th class=\"col_heading level0 col4\" >E</th>    </tr>    <tr>        <th class=\"index_name level0\" >children_tip</th>        <th class=\"index_name level1\" >family_status</th>        <th class=\"index_name level2\" >purpose_type</th>        <th class=\"blank\" ></th>        <th class=\"blank\" ></th>        <th class=\"blank\" ></th>        <th class=\"blank\" ></th>        <th class=\"blank\" ></th>    </tr></thead><tbody>\n",
       "                <tr>\n",
       "                        <th id=\"T_c7956_level0_row0\" class=\"row_heading level0 row0\" rowspan=\"16\">1-2 ребенка</th>\n",
       "                        <th id=\"T_c7956_level1_row0\" class=\"row_heading level1 row0\" rowspan=\"3\">в разводе</th>\n",
       "                        <th id=\"T_c7956_level2_row0\" class=\"row_heading level2 row0\" >операции с автомобилем</th>\n",
       "                        <td id=\"T_c7956_row0_col0\" class=\"data row0 col0\" >nan</td>\n",
       "                        <td id=\"T_c7956_row0_col1\" class=\"data row0 col1\" >0.086957</td>\n",
       "                        <td id=\"T_c7956_row0_col2\" class=\"data row0 col2\" >0.087719</td>\n",
       "                        <td id=\"T_c7956_row0_col3\" class=\"data row0 col3\" >0.500000</td>\n",
       "                        <td id=\"T_c7956_row0_col4\" class=\"data row0 col4\" >nan</td>\n",
       "            </tr>\n",
       "            <tr>\n",
       "                                        <th id=\"T_c7956_level2_row1\" class=\"row_heading level2 row1\" >операции с недвижимостью</th>\n",
       "                        <td id=\"T_c7956_row1_col0\" class=\"data row1 col0\" >0.000000</td>\n",
       "                        <td id=\"T_c7956_row1_col1\" class=\"data row1 col1\" >0.057692</td>\n",
       "                        <td id=\"T_c7956_row1_col2\" class=\"data row1 col2\" >0.068966</td>\n",
       "                        <td id=\"T_c7956_row1_col3\" class=\"data row1 col3\" >0.333333</td>\n",
       "                        <td id=\"T_c7956_row1_col4\" class=\"data row1 col4\" >nan</td>\n",
       "            </tr>\n",
       "            <tr>\n",
       "                                        <th id=\"T_c7956_level2_row2\" class=\"row_heading level2 row2\" >получение образования</th>\n",
       "                        <td id=\"T_c7956_row2_col0\" class=\"data row2 col0\" >nan</td>\n",
       "                        <td id=\"T_c7956_row2_col1\" class=\"data row2 col1\" >0.058824</td>\n",
       "                        <td id=\"T_c7956_row2_col2\" class=\"data row2 col2\" >0.047619</td>\n",
       "                        <td id=\"T_c7956_row2_col3\" class=\"data row2 col3\" >nan</td>\n",
       "                        <td id=\"T_c7956_row2_col4\" class=\"data row2 col4\" >nan</td>\n",
       "            </tr>\n",
       "            <tr>\n",
       "                                <th id=\"T_c7956_level1_row3\" class=\"row_heading level1 row3\" rowspan=\"3\">вдовец / вдова</th>\n",
       "                        <th id=\"T_c7956_level2_row3\" class=\"row_heading level2 row3\" >операции с автомобилем</th>\n",
       "                        <td id=\"T_c7956_row3_col0\" class=\"data row3 col0\" >nan</td>\n",
       "                        <td id=\"T_c7956_row3_col1\" class=\"data row3 col1\" >0.000000</td>\n",
       "                        <td id=\"T_c7956_row3_col2\" class=\"data row3 col2\" >0.071429</td>\n",
       "                        <td id=\"T_c7956_row3_col3\" class=\"data row3 col3\" >0.000000</td>\n",
       "                        <td id=\"T_c7956_row3_col4\" class=\"data row3 col4\" >nan</td>\n",
       "            </tr>\n",
       "            <tr>\n",
       "                                        <th id=\"T_c7956_level2_row4\" class=\"row_heading level2 row4\" >операции с недвижимостью</th>\n",
       "                        <td id=\"T_c7956_row4_col0\" class=\"data row4 col0\" >nan</td>\n",
       "                        <td id=\"T_c7956_row4_col1\" class=\"data row4 col1\" >0.142857</td>\n",
       "                        <td id=\"T_c7956_row4_col2\" class=\"data row4 col2\" >0.086957</td>\n",
       "                        <td id=\"T_c7956_row4_col3\" class=\"data row4 col3\" >0.000000</td>\n",
       "                        <td id=\"T_c7956_row4_col4\" class=\"data row4 col4\" >nan</td>\n",
       "            </tr>\n",
       "            <tr>\n",
       "                                        <th id=\"T_c7956_level2_row5\" class=\"row_heading level2 row5\" >получение образования</th>\n",
       "                        <td id=\"T_c7956_row5_col0\" class=\"data row5 col0\" >nan</td>\n",
       "                        <td id=\"T_c7956_row5_col1\" class=\"data row5 col1\" >0.000000</td>\n",
       "                        <td id=\"T_c7956_row5_col2\" class=\"data row5 col2\" >0.230769</td>\n",
       "                        <td id=\"T_c7956_row5_col3\" class=\"data row5 col3\" >0.000000</td>\n",
       "                        <td id=\"T_c7956_row5_col4\" class=\"data row5 col4\" >nan</td>\n",
       "            </tr>\n",
       "            <tr>\n",
       "                                <th id=\"T_c7956_level1_row6\" class=\"row_heading level1 row6\" rowspan=\"4\">гражданский брак</th>\n",
       "                        <th id=\"T_c7956_level2_row6\" class=\"row_heading level2 row6\" >операции с автомобилем</th>\n",
       "                        <td id=\"T_c7956_row6_col0\" class=\"data row6 col0\" >nan</td>\n",
       "                        <td id=\"T_c7956_row6_col1\" class=\"data row6 col1\" >0.117647</td>\n",
       "                        <td id=\"T_c7956_row6_col2\" class=\"data row6 col2\" >0.161905</td>\n",
       "                        <td id=\"T_c7956_row6_col3\" class=\"data row6 col3\" >0.000000</td>\n",
       "                        <td id=\"T_c7956_row6_col4\" class=\"data row6 col4\" >nan</td>\n",
       "            </tr>\n",
       "            <tr>\n",
       "                                        <th id=\"T_c7956_level2_row7\" class=\"row_heading level2 row7\" >операции с недвижимостью</th>\n",
       "                        <td id=\"T_c7956_row7_col0\" class=\"data row7 col0\" >0.000000</td>\n",
       "                        <td id=\"T_c7956_row7_col1\" class=\"data row7 col1\" >0.120482</td>\n",
       "                        <td id=\"T_c7956_row7_col2\" class=\"data row7 col2\" >0.127119</td>\n",
       "                        <td id=\"T_c7956_row7_col3\" class=\"data row7 col3\" >0.000000</td>\n",
       "                        <td id=\"T_c7956_row7_col4\" class=\"data row7 col4\" >nan</td>\n",
       "            </tr>\n",
       "            <tr>\n",
       "                                        <th id=\"T_c7956_level2_row8\" class=\"row_heading level2 row8\" >получение образования</th>\n",
       "                        <td id=\"T_c7956_row8_col0\" class=\"data row8 col0\" >0.000000</td>\n",
       "                        <td id=\"T_c7956_row8_col1\" class=\"data row8 col1\" >0.166667</td>\n",
       "                        <td id=\"T_c7956_row8_col2\" class=\"data row8 col2\" >0.202020</td>\n",
       "                        <td id=\"T_c7956_row8_col3\" class=\"data row8 col3\" >0.000000</td>\n",
       "                        <td id=\"T_c7956_row8_col4\" class=\"data row8 col4\" >0.000000</td>\n",
       "            </tr>\n",
       "            <tr>\n",
       "                                        <th id=\"T_c7956_level2_row9\" class=\"row_heading level2 row9\" >проведение свадьбы</th>\n",
       "                        <td id=\"T_c7956_row9_col0\" class=\"data row9 col0\" >0.000000</td>\n",
       "                        <td id=\"T_c7956_row9_col1\" class=\"data row9 col1\" >0.032787</td>\n",
       "                        <td id=\"T_c7956_row9_col2\" class=\"data row9 col2\" >0.101449</td>\n",
       "                        <td id=\"T_c7956_row9_col3\" class=\"data row9 col3\" >0.100000</td>\n",
       "                        <td id=\"T_c7956_row9_col4\" class=\"data row9 col4\" >0.000000</td>\n",
       "            </tr>\n",
       "            <tr>\n",
       "                                <th id=\"T_c7956_level1_row10\" class=\"row_heading level1 row10\" rowspan=\"3\">женат / замужем</th>\n",
       "                        <th id=\"T_c7956_level2_row10\" class=\"row_heading level2 row10\" >операции с автомобилем</th>\n",
       "                        <td id=\"T_c7956_row10_col0\" class=\"data row10 col0\" >0.000000</td>\n",
       "                        <td id=\"T_c7956_row10_col1\" class=\"data row10 col1\" >0.086142</td>\n",
       "                        <td id=\"T_c7956_row10_col2\" class=\"data row10 col2\" >0.105409</td>\n",
       "                        <td id=\"T_c7956_row10_col3\" class=\"data row10 col3\" >0.222222</td>\n",
       "                        <td id=\"T_c7956_row10_col4\" class=\"data row10 col4\" >0.000000</td>\n",
       "            </tr>\n",
       "            <tr>\n",
       "                                        <th id=\"T_c7956_level2_row11\" class=\"row_heading level2 row11\" >операции с недвижимостью</th>\n",
       "                        <td id=\"T_c7956_row11_col0\" class=\"data row11 col0\" >0.250000</td>\n",
       "                        <td id=\"T_c7956_row11_col1\" class=\"data row11 col1\" >0.066874</td>\n",
       "                        <td id=\"T_c7956_row11_col2\" class=\"data row11 col2\" >0.078919</td>\n",
       "                        <td id=\"T_c7956_row11_col3\" class=\"data row11 col3\" >0.027778</td>\n",
       "                        <td id=\"T_c7956_row11_col4\" class=\"data row11 col4\" >0.000000</td>\n",
       "            </tr>\n",
       "            <tr>\n",
       "                                        <th id=\"T_c7956_level2_row12\" class=\"row_heading level2 row12\" >получение образования</th>\n",
       "                        <td id=\"T_c7956_row12_col0\" class=\"data row12 col0\" >0.000000</td>\n",
       "                        <td id=\"T_c7956_row12_col1\" class=\"data row12 col1\" >0.093596</td>\n",
       "                        <td id=\"T_c7956_row12_col2\" class=\"data row12 col2\" >0.106686</td>\n",
       "                        <td id=\"T_c7956_row12_col3\" class=\"data row12 col3\" >0.000000</td>\n",
       "                        <td id=\"T_c7956_row12_col4\" class=\"data row12 col4\" >nan</td>\n",
       "            </tr>\n",
       "            <tr>\n",
       "                                <th id=\"T_c7956_level1_row13\" class=\"row_heading level1 row13\" rowspan=\"3\">не женат / не замужем</th>\n",
       "                        <th id=\"T_c7956_level2_row13\" class=\"row_heading level2 row13\" >операции с автомобилем</th>\n",
       "                        <td id=\"T_c7956_row13_col0\" class=\"data row13 col0\" >0.000000</td>\n",
       "                        <td id=\"T_c7956_row13_col1\" class=\"data row13 col1\" >0.090909</td>\n",
       "                        <td id=\"T_c7956_row13_col2\" class=\"data row13 col2\" >0.179775</td>\n",
       "                        <td id=\"T_c7956_row13_col3\" class=\"data row13 col3\" >0.000000</td>\n",
       "                        <td id=\"T_c7956_row13_col4\" class=\"data row13 col4\" >nan</td>\n",
       "            </tr>\n",
       "            <tr>\n",
       "                                        <th id=\"T_c7956_level2_row14\" class=\"row_heading level2 row14\" >операции с недвижимостью</th>\n",
       "                        <td id=\"T_c7956_row14_col0\" class=\"data row14 col0\" >nan</td>\n",
       "                        <td id=\"T_c7956_row14_col1\" class=\"data row14 col1\" >0.108108</td>\n",
       "                        <td id=\"T_c7956_row14_col2\" class=\"data row14 col2\" >0.108108</td>\n",
       "                        <td id=\"T_c7956_row14_col3\" class=\"data row14 col3\" >nan</td>\n",
       "                        <td id=\"T_c7956_row14_col4\" class=\"data row14 col4\" >nan</td>\n",
       "            </tr>\n",
       "            <tr>\n",
       "                                        <th id=\"T_c7956_level2_row15\" class=\"row_heading level2 row15\" >получение образования</th>\n",
       "                        <td id=\"T_c7956_row15_col0\" class=\"data row15 col0\" >nan</td>\n",
       "                        <td id=\"T_c7956_row15_col1\" class=\"data row15 col1\" >0.086957</td>\n",
       "                        <td id=\"T_c7956_row15_col2\" class=\"data row15 col2\" >0.097826</td>\n",
       "                        <td id=\"T_c7956_row15_col3\" class=\"data row15 col3\" >nan</td>\n",
       "                        <td id=\"T_c7956_row15_col4\" class=\"data row15 col4\" >nan</td>\n",
       "            </tr>\n",
       "            <tr>\n",
       "                        <th id=\"T_c7956_level0_row16\" class=\"row_heading level0 row16\" rowspan=\"16\">без детей</th>\n",
       "                        <th id=\"T_c7956_level1_row16\" class=\"row_heading level1 row16\" rowspan=\"3\">в разводе</th>\n",
       "                        <th id=\"T_c7956_level2_row16\" class=\"row_heading level2 row16\" >операции с автомобилем</th>\n",
       "                        <td id=\"T_c7956_row16_col0\" class=\"data row16 col0\" >nan</td>\n",
       "                        <td id=\"T_c7956_row16_col1\" class=\"data row16 col1\" >0.020408</td>\n",
       "                        <td id=\"T_c7956_row16_col2\" class=\"data row16 col2\" >0.083916</td>\n",
       "                        <td id=\"T_c7956_row16_col3\" class=\"data row16 col3\" >0.000000</td>\n",
       "                        <td id=\"T_c7956_row16_col4\" class=\"data row16 col4\" >nan</td>\n",
       "            </tr>\n",
       "            <tr>\n",
       "                                        <th id=\"T_c7956_level2_row17\" class=\"row_heading level2 row17\" >операции с недвижимостью</th>\n",
       "                        <td id=\"T_c7956_row17_col0\" class=\"data row17 col0\" >0.000000</td>\n",
       "                        <td id=\"T_c7956_row17_col1\" class=\"data row17 col1\" >0.063063</td>\n",
       "                        <td id=\"T_c7956_row17_col2\" class=\"data row17 col2\" >0.070064</td>\n",
       "                        <td id=\"T_c7956_row17_col3\" class=\"data row17 col3\" >0.000000</td>\n",
       "                        <td id=\"T_c7956_row17_col4\" class=\"data row17 col4\" >nan</td>\n",
       "            </tr>\n",
       "            <tr>\n",
       "                                        <th id=\"T_c7956_level2_row18\" class=\"row_heading level2 row18\" >получение образования</th>\n",
       "                        <td id=\"T_c7956_row18_col0\" class=\"data row18 col0\" >nan</td>\n",
       "                        <td id=\"T_c7956_row18_col1\" class=\"data row18 col1\" >0.142857</td>\n",
       "                        <td id=\"T_c7956_row18_col2\" class=\"data row18 col2\" >0.071429</td>\n",
       "                        <td id=\"T_c7956_row18_col3\" class=\"data row18 col3\" >0.000000</td>\n",
       "                        <td id=\"T_c7956_row18_col4\" class=\"data row18 col4\" >nan</td>\n",
       "            </tr>\n",
       "            <tr>\n",
       "                                <th id=\"T_c7956_level1_row19\" class=\"row_heading level1 row19\" rowspan=\"3\">вдовец / вдова</th>\n",
       "                        <th id=\"T_c7956_level2_row19\" class=\"row_heading level2 row19\" >операции с автомобилем</th>\n",
       "                        <td id=\"T_c7956_row19_col0\" class=\"data row19 col0\" >nan</td>\n",
       "                        <td id=\"T_c7956_row19_col1\" class=\"data row19 col1\" >0.071429</td>\n",
       "                        <td id=\"T_c7956_row19_col2\" class=\"data row19 col2\" >0.101796</td>\n",
       "                        <td id=\"T_c7956_row19_col3\" class=\"data row19 col3\" >0.000000</td>\n",
       "                        <td id=\"T_c7956_row19_col4\" class=\"data row19 col4\" >nan</td>\n",
       "            </tr>\n",
       "            <tr>\n",
       "                                        <th id=\"T_c7956_level2_row20\" class=\"row_heading level2 row20\" >операции с недвижимостью</th>\n",
       "                        <td id=\"T_c7956_row20_col0\" class=\"data row20 col0\" >nan</td>\n",
       "                        <td id=\"T_c7956_row20_col1\" class=\"data row20 col1\" >0.038961</td>\n",
       "                        <td id=\"T_c7956_row20_col2\" class=\"data row20 col2\" >0.049738</td>\n",
       "                        <td id=\"T_c7956_row20_col3\" class=\"data row20 col3\" >0.000000</td>\n",
       "                        <td id=\"T_c7956_row20_col4\" class=\"data row20 col4\" >nan</td>\n",
       "            </tr>\n",
       "            <tr>\n",
       "                                        <th id=\"T_c7956_level2_row21\" class=\"row_heading level2 row21\" >получение образования</th>\n",
       "                        <td id=\"T_c7956_row21_col0\" class=\"data row21 col0\" >nan</td>\n",
       "                        <td id=\"T_c7956_row21_col1\" class=\"data row21 col1\" >0.080000</td>\n",
       "                        <td id=\"T_c7956_row21_col2\" class=\"data row21 col2\" >0.067114</td>\n",
       "                        <td id=\"T_c7956_row21_col3\" class=\"data row21 col3\" >0.000000</td>\n",
       "                        <td id=\"T_c7956_row21_col4\" class=\"data row21 col4\" >nan</td>\n",
       "            </tr>\n",
       "            <tr>\n",
       "                                <th id=\"T_c7956_level1_row22\" class=\"row_heading level1 row22\" rowspan=\"4\">гражданский брак</th>\n",
       "                        <th id=\"T_c7956_level2_row22\" class=\"row_heading level2 row22\" >операции с автомобилем</th>\n",
       "                        <td id=\"T_c7956_row22_col0\" class=\"data row22 col0\" >nan</td>\n",
       "                        <td id=\"T_c7956_row22_col1\" class=\"data row22 col1\" >0.058824</td>\n",
       "                        <td id=\"T_c7956_row22_col2\" class=\"data row22 col2\" >0.110048</td>\n",
       "                        <td id=\"T_c7956_row22_col3\" class=\"data row22 col3\" >0.200000</td>\n",
       "                        <td id=\"T_c7956_row22_col4\" class=\"data row22 col4\" >nan</td>\n",
       "            </tr>\n",
       "            <tr>\n",
       "                                        <th id=\"T_c7956_level2_row23\" class=\"row_heading level2 row23\" >операции с недвижимостью</th>\n",
       "                        <td id=\"T_c7956_row23_col0\" class=\"data row23 col0\" >0.000000</td>\n",
       "                        <td id=\"T_c7956_row23_col1\" class=\"data row23 col1\" >0.054795</td>\n",
       "                        <td id=\"T_c7956_row23_col2\" class=\"data row23 col2\" >0.085540</td>\n",
       "                        <td id=\"T_c7956_row23_col3\" class=\"data row23 col3\" >0.100000</td>\n",
       "                        <td id=\"T_c7956_row23_col4\" class=\"data row23 col4\" >nan</td>\n",
       "            </tr>\n",
       "            <tr>\n",
       "                                        <th id=\"T_c7956_level2_row24\" class=\"row_heading level2 row24\" >получение образования</th>\n",
       "                        <td id=\"T_c7956_row24_col0\" class=\"data row24 col0\" >1.000000</td>\n",
       "                        <td id=\"T_c7956_row24_col1\" class=\"data row24 col1\" >0.074627</td>\n",
       "                        <td id=\"T_c7956_row24_col2\" class=\"data row24 col2\" >0.148718</td>\n",
       "                        <td id=\"T_c7956_row24_col3\" class=\"data row24 col3\" >0.000000</td>\n",
       "                        <td id=\"T_c7956_row24_col4\" class=\"data row24 col4\" >0.000000</td>\n",
       "            </tr>\n",
       "            <tr>\n",
       "                                        <th id=\"T_c7956_level2_row25\" class=\"row_heading level2 row25\" >проведение свадьбы</th>\n",
       "                        <td id=\"T_c7956_row25_col0\" class=\"data row25 col0\" >0.000000</td>\n",
       "                        <td id=\"T_c7956_row25_col1\" class=\"data row25 col1\" >0.062857</td>\n",
       "                        <td id=\"T_c7956_row25_col2\" class=\"data row25 col2\" >0.079792</td>\n",
       "                        <td id=\"T_c7956_row25_col3\" class=\"data row25 col3\" >0.043478</td>\n",
       "                        <td id=\"T_c7956_row25_col4\" class=\"data row25 col4\" >0.000000</td>\n",
       "            </tr>\n",
       "            <tr>\n",
       "                                <th id=\"T_c7956_level1_row26\" class=\"row_heading level1 row26\" rowspan=\"3\">женат / замужем</th>\n",
       "                        <th id=\"T_c7956_level2_row26\" class=\"row_heading level2 row26\" >операции с автомобилем</th>\n",
       "                        <td id=\"T_c7956_row26_col0\" class=\"data row26 col0\" >nan</td>\n",
       "                        <td id=\"T_c7956_row26_col1\" class=\"data row26 col1\" >0.077320</td>\n",
       "                        <td id=\"T_c7956_row26_col2\" class=\"data row26 col2\" >0.069862</td>\n",
       "                        <td id=\"T_c7956_row26_col3\" class=\"data row26 col3\" >0.100000</td>\n",
       "                        <td id=\"T_c7956_row26_col4\" class=\"data row26 col4\" >nan</td>\n",
       "            </tr>\n",
       "            <tr>\n",
       "                                        <th id=\"T_c7956_level2_row27\" class=\"row_heading level2 row27\" >операции с недвижимостью</th>\n",
       "                        <td id=\"T_c7956_row27_col0\" class=\"data row27 col0\" >0.000000</td>\n",
       "                        <td id=\"T_c7956_row27_col1\" class=\"data row27 col1\" >0.062124</td>\n",
       "                        <td id=\"T_c7956_row27_col2\" class=\"data row27 col2\" >0.067430</td>\n",
       "                        <td id=\"T_c7956_row27_col3\" class=\"data row27 col3\" >0.037037</td>\n",
       "                        <td id=\"T_c7956_row27_col4\" class=\"data row27 col4\" >0.250000</td>\n",
       "            </tr>\n",
       "            <tr>\n",
       "                                        <th id=\"T_c7956_level2_row28\" class=\"row_heading level2 row28\" >получение образования</th>\n",
       "                        <td id=\"T_c7956_row28_col0\" class=\"data row28 col0\" >0.000000</td>\n",
       "                        <td id=\"T_c7956_row28_col1\" class=\"data row28 col1\" >0.055249</td>\n",
       "                        <td id=\"T_c7956_row28_col2\" class=\"data row28 col2\" >0.082064</td>\n",
       "                        <td id=\"T_c7956_row28_col3\" class=\"data row28 col3\" >0.029412</td>\n",
       "                        <td id=\"T_c7956_row28_col4\" class=\"data row28 col4\" >0.000000</td>\n",
       "            </tr>\n",
       "            <tr>\n",
       "                                <th id=\"T_c7956_level1_row29\" class=\"row_heading level1 row29\" rowspan=\"3\">не женат / не замужем</th>\n",
       "                        <th id=\"T_c7956_level2_row29\" class=\"row_heading level2 row29\" >операции с автомобилем</th>\n",
       "                        <td id=\"T_c7956_row29_col0\" class=\"data row29 col0\" >nan</td>\n",
       "                        <td id=\"T_c7956_row29_col1\" class=\"data row29 col1\" >0.117647</td>\n",
       "                        <td id=\"T_c7956_row29_col2\" class=\"data row29 col2\" >0.123737</td>\n",
       "                        <td id=\"T_c7956_row29_col3\" class=\"data row29 col3\" >0.333333</td>\n",
       "                        <td id=\"T_c7956_row29_col4\" class=\"data row29 col4\" >nan</td>\n",
       "            </tr>\n",
       "            <tr>\n",
       "                                        <th id=\"T_c7956_level2_row30\" class=\"row_heading level2 row30\" >операции с недвижимостью</th>\n",
       "                        <td id=\"T_c7956_row30_col0\" class=\"data row30 col0\" >0.000000</td>\n",
       "                        <td id=\"T_c7956_row30_col1\" class=\"data row30 col1\" >0.076677</td>\n",
       "                        <td id=\"T_c7956_row30_col2\" class=\"data row30 col2\" >0.074346</td>\n",
       "                        <td id=\"T_c7956_row30_col3\" class=\"data row30 col3\" >0.000000</td>\n",
       "                        <td id=\"T_c7956_row30_col4\" class=\"data row30 col4\" >0.000000</td>\n",
       "            </tr>\n",
       "            <tr>\n",
       "                                        <th id=\"T_c7956_level2_row31\" class=\"row_heading level2 row31\" >получение образования</th>\n",
       "                        <td id=\"T_c7956_row31_col0\" class=\"data row31 col0\" >nan</td>\n",
       "                        <td id=\"T_c7956_row31_col1\" class=\"data row31 col1\" >0.104348</td>\n",
       "                        <td id=\"T_c7956_row31_col2\" class=\"data row31 col2\" >0.112760</td>\n",
       "                        <td id=\"T_c7956_row31_col3\" class=\"data row31 col3\" >0.200000</td>\n",
       "                        <td id=\"T_c7956_row31_col4\" class=\"data row31 col4\" >nan</td>\n",
       "            </tr>\n",
       "            <tr>\n",
       "                        <th id=\"T_c7956_level0_row32\" class=\"row_heading level0 row32\" rowspan=\"14\">многодетные</th>\n",
       "                        <th id=\"T_c7956_level1_row32\" class=\"row_heading level1 row32\" rowspan=\"2\">в разводе</th>\n",
       "                        <th id=\"T_c7956_level2_row32\" class=\"row_heading level2 row32\" >операции с автомобилем</th>\n",
       "                        <td id=\"T_c7956_row32_col0\" class=\"data row32 col0\" >nan</td>\n",
       "                        <td id=\"T_c7956_row32_col1\" class=\"data row32 col1\" >0.000000</td>\n",
       "                        <td id=\"T_c7956_row32_col2\" class=\"data row32 col2\" >0.000000</td>\n",
       "                        <td id=\"T_c7956_row32_col3\" class=\"data row32 col3\" >nan</td>\n",
       "                        <td id=\"T_c7956_row32_col4\" class=\"data row32 col4\" >nan</td>\n",
       "            </tr>\n",
       "            <tr>\n",
       "                                        <th id=\"T_c7956_level2_row33\" class=\"row_heading level2 row33\" >операции с недвижимостью</th>\n",
       "                        <td id=\"T_c7956_row33_col0\" class=\"data row33 col0\" >nan</td>\n",
       "                        <td id=\"T_c7956_row33_col1\" class=\"data row33 col1\" >0.000000</td>\n",
       "                        <td id=\"T_c7956_row33_col2\" class=\"data row33 col2\" >0.111111</td>\n",
       "                        <td id=\"T_c7956_row33_col3\" class=\"data row33 col3\" >nan</td>\n",
       "                        <td id=\"T_c7956_row33_col4\" class=\"data row33 col4\" >nan</td>\n",
       "            </tr>\n",
       "            <tr>\n",
       "                                <th id=\"T_c7956_level1_row34\" class=\"row_heading level1 row34\" rowspan=\"2\">вдовец / вдова</th>\n",
       "                        <th id=\"T_c7956_level2_row34\" class=\"row_heading level2 row34\" >операции с недвижимостью</th>\n",
       "                        <td id=\"T_c7956_row34_col0\" class=\"data row34 col0\" >nan</td>\n",
       "                        <td id=\"T_c7956_row34_col1\" class=\"data row34 col1\" >0.000000</td>\n",
       "                        <td id=\"T_c7956_row34_col2\" class=\"data row34 col2\" >0.000000</td>\n",
       "                        <td id=\"T_c7956_row34_col3\" class=\"data row34 col3\" >nan</td>\n",
       "                        <td id=\"T_c7956_row34_col4\" class=\"data row34 col4\" >nan</td>\n",
       "            </tr>\n",
       "            <tr>\n",
       "                                        <th id=\"T_c7956_level2_row35\" class=\"row_heading level2 row35\" >получение образования</th>\n",
       "                        <td id=\"T_c7956_row35_col0\" class=\"data row35 col0\" >nan</td>\n",
       "                        <td id=\"T_c7956_row35_col1\" class=\"data row35 col1\" >0.000000</td>\n",
       "                        <td id=\"T_c7956_row35_col2\" class=\"data row35 col2\" >0.000000</td>\n",
       "                        <td id=\"T_c7956_row35_col3\" class=\"data row35 col3\" >nan</td>\n",
       "                        <td id=\"T_c7956_row35_col4\" class=\"data row35 col4\" >nan</td>\n",
       "            </tr>\n",
       "            <tr>\n",
       "                                <th id=\"T_c7956_level1_row36\" class=\"row_heading level1 row36\" rowspan=\"4\">гражданский брак</th>\n",
       "                        <th id=\"T_c7956_level2_row36\" class=\"row_heading level2 row36\" >операции с автомобилем</th>\n",
       "                        <td id=\"T_c7956_row36_col0\" class=\"data row36 col0\" >nan</td>\n",
       "                        <td id=\"T_c7956_row36_col1\" class=\"data row36 col1\" >1.000000</td>\n",
       "                        <td id=\"T_c7956_row36_col2\" class=\"data row36 col2\" >0.166667</td>\n",
       "                        <td id=\"T_c7956_row36_col3\" class=\"data row36 col3\" >nan</td>\n",
       "                        <td id=\"T_c7956_row36_col4\" class=\"data row36 col4\" >nan</td>\n",
       "            </tr>\n",
       "            <tr>\n",
       "                                        <th id=\"T_c7956_level2_row37\" class=\"row_heading level2 row37\" >операции с недвижимостью</th>\n",
       "                        <td id=\"T_c7956_row37_col0\" class=\"data row37 col0\" >nan</td>\n",
       "                        <td id=\"T_c7956_row37_col1\" class=\"data row37 col1\" >0.000000</td>\n",
       "                        <td id=\"T_c7956_row37_col2\" class=\"data row37 col2\" >0.000000</td>\n",
       "                        <td id=\"T_c7956_row37_col3\" class=\"data row37 col3\" >nan</td>\n",
       "                        <td id=\"T_c7956_row37_col4\" class=\"data row37 col4\" >nan</td>\n",
       "            </tr>\n",
       "            <tr>\n",
       "                                        <th id=\"T_c7956_level2_row38\" class=\"row_heading level2 row38\" >получение образования</th>\n",
       "                        <td id=\"T_c7956_row38_col0\" class=\"data row38 col0\" >nan</td>\n",
       "                        <td id=\"T_c7956_row38_col1\" class=\"data row38 col1\" >0.000000</td>\n",
       "                        <td id=\"T_c7956_row38_col2\" class=\"data row38 col2\" >0.250000</td>\n",
       "                        <td id=\"T_c7956_row38_col3\" class=\"data row38 col3\" >0.000000</td>\n",
       "                        <td id=\"T_c7956_row38_col4\" class=\"data row38 col4\" >nan</td>\n",
       "            </tr>\n",
       "            <tr>\n",
       "                                        <th id=\"T_c7956_level2_row39\" class=\"row_heading level2 row39\" >проведение свадьбы</th>\n",
       "                        <td id=\"T_c7956_row39_col0\" class=\"data row39 col0\" >nan</td>\n",
       "                        <td id=\"T_c7956_row39_col1\" class=\"data row39 col1\" >0.000000</td>\n",
       "                        <td id=\"T_c7956_row39_col2\" class=\"data row39 col2\" >0.166667</td>\n",
       "                        <td id=\"T_c7956_row39_col3\" class=\"data row39 col3\" >1.000000</td>\n",
       "                        <td id=\"T_c7956_row39_col4\" class=\"data row39 col4\" >nan</td>\n",
       "            </tr>\n",
       "            <tr>\n",
       "                                <th id=\"T_c7956_level1_row40\" class=\"row_heading level1 row40\" rowspan=\"3\">женат / замужем</th>\n",
       "                        <th id=\"T_c7956_level2_row40\" class=\"row_heading level2 row40\" >операции с автомобилем</th>\n",
       "                        <td id=\"T_c7956_row40_col0\" class=\"data row40 col0\" >nan</td>\n",
       "                        <td id=\"T_c7956_row40_col1\" class=\"data row40 col1\" >0.105263</td>\n",
       "                        <td id=\"T_c7956_row40_col2\" class=\"data row40 col2\" >0.051282</td>\n",
       "                        <td id=\"T_c7956_row40_col3\" class=\"data row40 col3\" >0.000000</td>\n",
       "                        <td id=\"T_c7956_row40_col4\" class=\"data row40 col4\" >nan</td>\n",
       "            </tr>\n",
       "            <tr>\n",
       "                                        <th id=\"T_c7956_level2_row41\" class=\"row_heading level2 row41\" >операции с недвижимостью</th>\n",
       "                        <td id=\"T_c7956_row41_col0\" class=\"data row41 col0\" >0.000000</td>\n",
       "                        <td id=\"T_c7956_row41_col1\" class=\"data row41 col1\" >0.052632</td>\n",
       "                        <td id=\"T_c7956_row41_col2\" class=\"data row41 col2\" >0.092437</td>\n",
       "                        <td id=\"T_c7956_row41_col3\" class=\"data row41 col3\" >0.000000</td>\n",
       "                        <td id=\"T_c7956_row41_col4\" class=\"data row41 col4\" >nan</td>\n",
       "            </tr>\n",
       "            <tr>\n",
       "                                        <th id=\"T_c7956_level2_row42\" class=\"row_heading level2 row42\" >получение образования</th>\n",
       "                        <td id=\"T_c7956_row42_col0\" class=\"data row42 col0\" >nan</td>\n",
       "                        <td id=\"T_c7956_row42_col1\" class=\"data row42 col1\" >0.000000</td>\n",
       "                        <td id=\"T_c7956_row42_col2\" class=\"data row42 col2\" >0.065217</td>\n",
       "                        <td id=\"T_c7956_row42_col3\" class=\"data row42 col3\" >nan</td>\n",
       "                        <td id=\"T_c7956_row42_col4\" class=\"data row42 col4\" >nan</td>\n",
       "            </tr>\n",
       "            <tr>\n",
       "                                <th id=\"T_c7956_level1_row43\" class=\"row_heading level1 row43\" rowspan=\"3\">не женат / не замужем</th>\n",
       "                        <th id=\"T_c7956_level2_row43\" class=\"row_heading level2 row43\" >операции с автомобилем</th>\n",
       "                        <td id=\"T_c7956_row43_col0\" class=\"data row43 col0\" >nan</td>\n",
       "                        <td id=\"T_c7956_row43_col1\" class=\"data row43 col1\" >0.000000</td>\n",
       "                        <td id=\"T_c7956_row43_col2\" class=\"data row43 col2\" >0.000000</td>\n",
       "                        <td id=\"T_c7956_row43_col3\" class=\"data row43 col3\" >nan</td>\n",
       "                        <td id=\"T_c7956_row43_col4\" class=\"data row43 col4\" >nan</td>\n",
       "            </tr>\n",
       "            <tr>\n",
       "                                        <th id=\"T_c7956_level2_row44\" class=\"row_heading level2 row44\" >операции с недвижимостью</th>\n",
       "                        <td id=\"T_c7956_row44_col0\" class=\"data row44 col0\" >nan</td>\n",
       "                        <td id=\"T_c7956_row44_col1\" class=\"data row44 col1\" >nan</td>\n",
       "                        <td id=\"T_c7956_row44_col2\" class=\"data row44 col2\" >0.666667</td>\n",
       "                        <td id=\"T_c7956_row44_col3\" class=\"data row44 col3\" >nan</td>\n",
       "                        <td id=\"T_c7956_row44_col4\" class=\"data row44 col4\" >nan</td>\n",
       "            </tr>\n",
       "            <tr>\n",
       "                                        <th id=\"T_c7956_level2_row45\" class=\"row_heading level2 row45\" >получение образования</th>\n",
       "                        <td id=\"T_c7956_row45_col0\" class=\"data row45 col0\" >nan</td>\n",
       "                        <td id=\"T_c7956_row45_col1\" class=\"data row45 col1\" >nan</td>\n",
       "                        <td id=\"T_c7956_row45_col2\" class=\"data row45 col2\" >0.000000</td>\n",
       "                        <td id=\"T_c7956_row45_col3\" class=\"data row45 col3\" >nan</td>\n",
       "                        <td id=\"T_c7956_row45_col4\" class=\"data row45 col4\" >nan</td>\n",
       "            </tr>\n",
       "    </tbody></table>"
      ],
      "text/plain": [
       "<pandas.io.formats.style.Styler at 0x7fed6c4b82b0>"
      ]
     },
     "execution_count": 19,
     "metadata": {},
     "output_type": "execute_result"
    }
   ],
   "source": [
    "data_p=data.pivot_table(index=[ 'children_tip','family_status','purpose_type'], columns='total_income_category', values='debt', aggfunc='mean')\n",
    "data_p.style.background_gradient(cmap=\"Blues\")\n"
   ]
  },
  {
   "cell_type": "markdown",
   "id": "eff3d1af",
   "metadata": {},
   "source": [
    "## Общий вывод:"
   ]
  },
  {
   "cell_type": "markdown",
   "id": "183af182",
   "metadata": {},
   "source": [
    "Проведенное исследование показывает, что возврат /не возврат кредита слабо зависит от социального положения клиента.\\\n",
    "Востребованность кредитов характерна для клиентов со среднем заработком не превышающего 200 тыс. р.\\\n",
    "Наиболее популярная цели кредитования — это операции с недвижимостью.\n"
   ]
  },
  {
   "cell_type": "markdown",
   "id": "678958c9",
   "metadata": {},
   "source": [
    "<div class=\"alert alert-danger\">\n",
    "<b>❌ Комментарий ревьюера v1:</b> \n",
    "<br>Добавь в общий вывод описание клиента с наибольшей вероятностью просрочки, например, женат, 3е детей, доход - такой-то, цель кредита - такая-то. Для этого используй ответы на вопросы выше\n",
    "</div>"
   ]
  },
  {
   "cell_type": "markdown",
   "id": "cd1c3a67",
   "metadata": {},
   "source": [
    "Клиенты с наибольшей вероятностью просрочки:\n",
    "<br> 1-2 ребенка с доходом до 50 тыс. в разводе кредиты на недвижимость и автомобили\n",
    "<br> 1-2 ребенка с доходом до 200 тыс. получение образования в неполных семьях  или гражданском браке.\n",
    "<br> 1-2 ребенка с доходом больше милн. женат/замужем Недвижимость.\n",
    "<br> без детей при зарплате до 30 тыс. не женат/не замужем. Автомобиль и образование\n",
    "<br> без детей при зарплате больше милн. Гражанский брак Получение образования\n",
    "<br> Многодетные гражданский брак Получение образования и Свадьба\n",
    "<br> Многодетные не женат/не замужем до 50 тыс. Недвижимость"
   ]
  },
  {
   "cell_type": "markdown",
   "id": "cbfae651",
   "metadata": {},
   "source": [
    "<div class=\"alert alert-success\">\n",
    "<b>✔️ Комментарий ревьюера v2:</b> \n",
    "<br>Всё верно 👍\n",
    "</div>"
   ]
  },
  {
   "cell_type": "markdown",
   "id": "65a78015",
   "metadata": {},
   "source": [
    "<div class=\"alert alert-danger\">\n",
    "<b>❌ Итоговый комментарий ревьюера v1:</b> \n",
    "<br>Ты хорошо потрудился, большая часть работы сделана, но остаётся внести следующие правки:\n",
    "<br>- произвести отдельный расчет для ответа на третий вопрос\n",
    "<br>- поправить ответы на итоговые вопросы\n",
    "<br>- построить сводную таблицу используя метод pivot_table() для любого из вопросов в шаге 3. В таблице нужно произвести расчет доли должников внутри каждой группы клиентов. \n",
    "<br>- дописать  общий вывод\n",
    "</div>"
   ]
  },
  {
   "cell_type": "markdown",
   "id": "5b681aa4",
   "metadata": {},
   "source": [
    "<div class=\"alert alert-success\">\n",
    "<b>✔️ Итоговый комментарий ревьюера v2:</b>\n",
    "<br>Все правки выполнены. Молодец!\n",
    "<br>Ты проделал большую работу! У тебя точные выводы с хорошей аргументацией. Здорово, что ты пишешь свои рассуждения и предположения - это помогает видеть ход твоей мысли. Отдельно хочу выделить аккуратность и структурированность твоей работы. Рад был поработать над проверкой твоего проекта! Желаю удачи в дальнейшем обучении! 😉\n",
    "</div>"
   ]
  }
 ],
 "metadata": {
  "ExecuteTimeLog": [
   {
    "duration": 608,
    "start_time": "2022-03-28T07:03:15.144Z"
   },
   {
    "duration": 98,
    "start_time": "2022-03-28T07:09:17.105Z"
   },
   {
    "duration": 105,
    "start_time": "2022-03-28T07:10:29.834Z"
   },
   {
    "duration": 71,
    "start_time": "2022-03-28T07:34:24.855Z"
   },
   {
    "duration": 86,
    "start_time": "2022-03-28T07:36:00.527Z"
   },
   {
    "duration": 92,
    "start_time": "2022-03-28T07:36:47.767Z"
   },
   {
    "duration": 119,
    "start_time": "2022-03-28T07:36:48.644Z"
   },
   {
    "duration": 88,
    "start_time": "2022-03-28T07:36:49.509Z"
   },
   {
    "duration": 132,
    "start_time": "2022-03-28T07:42:25.353Z"
   },
   {
    "duration": 70,
    "start_time": "2022-03-28T07:42:41.151Z"
   },
   {
    "duration": 68,
    "start_time": "2022-03-28T07:45:58.593Z"
   },
   {
    "duration": 71,
    "start_time": "2022-03-28T07:46:16.939Z"
   },
   {
    "duration": 62,
    "start_time": "2022-03-28T07:46:46.446Z"
   },
   {
    "duration": 64,
    "start_time": "2022-03-28T07:47:00.879Z"
   },
   {
    "duration": 63,
    "start_time": "2022-03-28T07:47:36.752Z"
   },
   {
    "duration": 65,
    "start_time": "2022-03-28T07:47:57.961Z"
   },
   {
    "duration": 63,
    "start_time": "2022-03-28T07:48:25.990Z"
   },
   {
    "duration": 72,
    "start_time": "2022-03-28T07:49:20.617Z"
   },
   {
    "duration": 54,
    "start_time": "2022-03-28T07:51:39.033Z"
   },
   {
    "duration": 71,
    "start_time": "2022-03-28T07:51:56.167Z"
   },
   {
    "duration": 53,
    "start_time": "2022-03-28T07:55:16.499Z"
   },
   {
    "duration": 54,
    "start_time": "2022-03-28T08:02:39.459Z"
   },
   {
    "duration": 52,
    "start_time": "2022-03-28T08:02:47.026Z"
   },
   {
    "duration": 60,
    "start_time": "2022-03-28T08:03:24.394Z"
   },
   {
    "duration": 53,
    "start_time": "2022-03-28T08:04:01.899Z"
   },
   {
    "duration": 59,
    "start_time": "2022-03-28T08:04:11.195Z"
   },
   {
    "duration": 55,
    "start_time": "2022-03-28T08:04:16.824Z"
   },
   {
    "duration": 54,
    "start_time": "2022-03-28T08:04:24.153Z"
   },
   {
    "duration": 53,
    "start_time": "2022-03-28T08:04:51.770Z"
   },
   {
    "duration": 55,
    "start_time": "2022-03-28T08:05:00.900Z"
   },
   {
    "duration": 61,
    "start_time": "2022-03-28T08:05:29.802Z"
   },
   {
    "duration": 55,
    "start_time": "2022-03-28T08:05:58.321Z"
   },
   {
    "duration": 95,
    "start_time": "2022-03-28T08:08:13.050Z"
   },
   {
    "duration": 58,
    "start_time": "2022-03-28T08:10:20.695Z"
   },
   {
    "duration": 59,
    "start_time": "2022-03-28T08:13:08.834Z"
   },
   {
    "duration": 67,
    "start_time": "2022-03-28T08:14:41.146Z"
   },
   {
    "duration": 95,
    "start_time": "2022-03-28T08:15:08.121Z"
   },
   {
    "duration": 64,
    "start_time": "2022-03-28T08:15:21.275Z"
   },
   {
    "duration": 71,
    "start_time": "2022-03-28T08:16:24.999Z"
   },
   {
    "duration": 89,
    "start_time": "2022-03-28T08:16:55.376Z"
   },
   {
    "duration": 95,
    "start_time": "2022-03-28T08:17:17.228Z"
   },
   {
    "duration": 68,
    "start_time": "2022-03-28T08:26:55.851Z"
   },
   {
    "duration": 71,
    "start_time": "2022-03-28T08:27:25.806Z"
   },
   {
    "duration": 75,
    "start_time": "2022-03-28T08:28:29.760Z"
   },
   {
    "duration": 63,
    "start_time": "2022-03-28T08:29:04.217Z"
   },
   {
    "duration": 57,
    "start_time": "2022-03-28T08:29:51.546Z"
   },
   {
    "duration": 66,
    "start_time": "2022-03-28T08:30:24.895Z"
   },
   {
    "duration": 68,
    "start_time": "2022-03-28T08:38:24.317Z"
   },
   {
    "duration": 60,
    "start_time": "2022-03-28T08:39:03.168Z"
   },
   {
    "duration": 58,
    "start_time": "2022-03-28T08:39:39.578Z"
   },
   {
    "duration": 64,
    "start_time": "2022-03-28T08:40:10.313Z"
   },
   {
    "duration": 2841,
    "start_time": "2022-03-28T09:26:31.982Z"
   },
   {
    "duration": 5,
    "start_time": "2022-03-28T10:15:02.286Z"
   },
   {
    "duration": 602,
    "start_time": "2022-03-28T10:16:33.831Z"
   },
   {
    "duration": 12,
    "start_time": "2022-03-28T10:16:48.255Z"
   },
   {
    "duration": 6,
    "start_time": "2022-03-28T10:17:30.709Z"
   },
   {
    "duration": 7,
    "start_time": "2022-03-28T10:17:38.686Z"
   },
   {
    "duration": 68,
    "start_time": "2022-03-28T10:20:27.032Z"
   },
   {
    "duration": 6,
    "start_time": "2022-03-28T10:21:23.542Z"
   },
   {
    "duration": 6,
    "start_time": "2022-03-28T10:21:59.071Z"
   },
   {
    "duration": 176,
    "start_time": "2022-03-28T10:22:25.137Z"
   },
   {
    "duration": 6,
    "start_time": "2022-03-28T10:22:31.030Z"
   },
   {
    "duration": 8,
    "start_time": "2022-03-28T10:46:39.754Z"
   },
   {
    "duration": 6,
    "start_time": "2022-03-28T10:46:59.953Z"
   },
   {
    "duration": 6,
    "start_time": "2022-03-28T10:47:45.133Z"
   },
   {
    "duration": 6,
    "start_time": "2022-03-28T10:48:04.150Z"
   },
   {
    "duration": 67,
    "start_time": "2022-03-28T10:48:12.973Z"
   },
   {
    "duration": 7,
    "start_time": "2022-03-28T10:48:17.219Z"
   },
   {
    "duration": 6,
    "start_time": "2022-03-28T10:49:04.901Z"
   },
   {
    "duration": 7,
    "start_time": "2022-03-28T10:53:13.352Z"
   },
   {
    "duration": 8,
    "start_time": "2022-03-28T10:53:57.249Z"
   },
   {
    "duration": 8,
    "start_time": "2022-03-28T10:55:43.729Z"
   },
   {
    "duration": 7,
    "start_time": "2022-03-28T10:55:56.922Z"
   },
   {
    "duration": 8,
    "start_time": "2022-03-28T10:56:18.363Z"
   },
   {
    "duration": 8,
    "start_time": "2022-03-28T10:56:31.751Z"
   },
   {
    "duration": 11,
    "start_time": "2022-03-28T10:58:26.192Z"
   },
   {
    "duration": 9,
    "start_time": "2022-03-28T10:58:49.018Z"
   },
   {
    "duration": 9,
    "start_time": "2022-03-28T10:59:28.806Z"
   },
   {
    "duration": 19,
    "start_time": "2022-03-28T11:00:08.029Z"
   },
   {
    "duration": 18,
    "start_time": "2022-03-28T11:03:10.730Z"
   },
   {
    "duration": 19,
    "start_time": "2022-03-28T11:15:34.347Z"
   },
   {
    "duration": 5,
    "start_time": "2022-03-28T11:43:02.490Z"
   },
   {
    "duration": 164,
    "start_time": "2022-03-28T11:43:44.463Z"
   },
   {
    "duration": 5,
    "start_time": "2022-03-28T11:43:54.760Z"
   },
   {
    "duration": 5,
    "start_time": "2022-03-28T11:49:22.117Z"
   },
   {
    "duration": 6,
    "start_time": "2022-03-28T11:50:32.247Z"
   },
   {
    "duration": 11,
    "start_time": "2022-03-28T11:53:36.063Z"
   },
   {
    "duration": 11,
    "start_time": "2022-03-28T11:53:58.863Z"
   },
   {
    "duration": 11,
    "start_time": "2022-03-28T11:54:11.437Z"
   },
   {
    "duration": 7,
    "start_time": "2022-03-28T12:01:40.606Z"
   },
   {
    "duration": 9,
    "start_time": "2022-03-28T12:03:59.771Z"
   },
   {
    "duration": 75,
    "start_time": "2022-03-28T12:14:25.462Z"
   },
   {
    "duration": 12,
    "start_time": "2022-03-28T12:14:34.475Z"
   },
   {
    "duration": 683,
    "start_time": "2022-03-28T12:14:48.040Z"
   },
   {
    "duration": 30,
    "start_time": "2022-03-28T12:14:48.727Z"
   },
   {
    "duration": 38,
    "start_time": "2022-03-28T12:14:48.760Z"
   },
   {
    "duration": 15,
    "start_time": "2022-03-28T12:14:48.802Z"
   },
   {
    "duration": 575,
    "start_time": "2022-03-28T12:15:18.516Z"
   },
   {
    "duration": 27,
    "start_time": "2022-03-28T12:15:19.094Z"
   },
   {
    "duration": 17,
    "start_time": "2022-03-28T12:15:19.124Z"
   },
   {
    "duration": 43,
    "start_time": "2022-03-28T12:15:19.144Z"
   },
   {
    "duration": 608,
    "start_time": "2022-03-28T12:15:43.166Z"
   },
   {
    "duration": 30,
    "start_time": "2022-03-28T12:15:43.776Z"
   },
   {
    "duration": 18,
    "start_time": "2022-03-28T12:15:43.808Z"
   },
   {
    "duration": 13,
    "start_time": "2022-03-28T12:15:43.829Z"
   },
   {
    "duration": 9,
    "start_time": "2022-03-28T12:22:49.539Z"
   },
   {
    "duration": 10,
    "start_time": "2022-03-28T12:41:00.075Z"
   },
   {
    "duration": 9,
    "start_time": "2022-03-28T12:41:42.588Z"
   },
   {
    "duration": 131,
    "start_time": "2022-03-28T12:43:19.623Z"
   },
   {
    "duration": 19,
    "start_time": "2022-03-28T12:43:29.240Z"
   },
   {
    "duration": 96,
    "start_time": "2022-03-28T12:45:24.653Z"
   },
   {
    "duration": 20,
    "start_time": "2022-03-28T12:50:41.763Z"
   },
   {
    "duration": 22,
    "start_time": "2022-03-28T12:52:02.421Z"
   },
   {
    "duration": 22,
    "start_time": "2022-03-28T12:52:33.027Z"
   },
   {
    "duration": 11,
    "start_time": "2022-03-28T12:59:55.817Z"
   },
   {
    "duration": 9,
    "start_time": "2022-03-28T13:00:25.979Z"
   },
   {
    "duration": 19,
    "start_time": "2022-03-28T13:02:27.399Z"
   },
   {
    "duration": 27,
    "start_time": "2022-03-28T13:03:19.698Z"
   },
   {
    "duration": 23,
    "start_time": "2022-03-28T13:03:49.790Z"
   },
   {
    "duration": 22,
    "start_time": "2022-03-28T13:06:01.629Z"
   },
   {
    "duration": 2752,
    "start_time": "2022-03-28T13:06:40.177Z"
   },
   {
    "duration": 9,
    "start_time": "2022-03-28T13:06:45.176Z"
   },
   {
    "duration": 9,
    "start_time": "2022-03-28T13:10:14.383Z"
   },
   {
    "duration": 24,
    "start_time": "2022-03-28T13:11:29.434Z"
   },
   {
    "duration": 2356,
    "start_time": "2022-03-28T13:12:24.399Z"
   },
   {
    "duration": 24,
    "start_time": "2022-03-28T13:12:34.294Z"
   },
   {
    "duration": 12,
    "start_time": "2022-03-28T13:13:36.553Z"
   },
   {
    "duration": 298,
    "start_time": "2022-03-28T13:19:30.399Z"
   },
   {
    "duration": 134,
    "start_time": "2022-03-28T13:19:51.448Z"
   },
   {
    "duration": 38,
    "start_time": "2022-03-28T13:19:57.439Z"
   },
   {
    "duration": 29,
    "start_time": "2022-03-28T13:20:10.349Z"
   },
   {
    "duration": 42,
    "start_time": "2022-03-28T13:21:05.315Z"
   },
   {
    "duration": 31,
    "start_time": "2022-03-28T13:21:52.391Z"
   },
   {
    "duration": 71,
    "start_time": "2022-03-28T13:22:42.022Z"
   },
   {
    "duration": 10,
    "start_time": "2022-03-28T13:39:03.299Z"
   },
   {
    "duration": 19,
    "start_time": "2022-03-28T13:39:48.870Z"
   },
   {
    "duration": 19,
    "start_time": "2022-03-28T13:40:56.286Z"
   },
   {
    "duration": 18,
    "start_time": "2022-03-28T13:41:00.036Z"
   },
   {
    "duration": 14,
    "start_time": "2022-03-28T13:41:08.307Z"
   },
   {
    "duration": 17,
    "start_time": "2022-03-28T13:43:31.386Z"
   },
   {
    "duration": 17,
    "start_time": "2022-03-28T13:43:38.613Z"
   },
   {
    "duration": 14,
    "start_time": "2022-03-28T13:43:45.265Z"
   },
   {
    "duration": 168,
    "start_time": "2022-03-28T13:51:00.773Z"
   },
   {
    "duration": 7,
    "start_time": "2022-03-28T13:51:17.406Z"
   },
   {
    "duration": 39,
    "start_time": "2022-03-28T13:51:29.379Z"
   },
   {
    "duration": 67,
    "start_time": "2022-03-28T13:51:52.833Z"
   },
   {
    "duration": 134,
    "start_time": "2022-03-28T13:58:25.487Z"
   },
   {
    "duration": 141,
    "start_time": "2022-03-28T13:58:41.352Z"
   },
   {
    "duration": 153,
    "start_time": "2022-03-28T13:58:48.348Z"
   },
   {
    "duration": 159,
    "start_time": "2022-03-28T13:58:56.935Z"
   },
   {
    "duration": 162,
    "start_time": "2022-03-28T13:59:23.389Z"
   },
   {
    "duration": 23,
    "start_time": "2022-03-28T13:59:28.903Z"
   },
   {
    "duration": 51,
    "start_time": "2022-03-30T18:41:47.059Z"
   },
   {
    "duration": 8,
    "start_time": "2022-03-30T18:41:52.704Z"
   },
   {
    "duration": 538,
    "start_time": "2022-03-30T18:42:00.683Z"
   },
   {
    "duration": 23,
    "start_time": "2022-03-30T18:42:04.280Z"
   },
   {
    "duration": 13,
    "start_time": "2022-03-30T18:42:08.548Z"
   },
   {
    "duration": 8,
    "start_time": "2022-03-30T18:42:14.592Z"
   },
   {
    "duration": 15,
    "start_time": "2022-03-30T18:42:17.432Z"
   },
   {
    "duration": 18,
    "start_time": "2022-03-30T18:42:20.956Z"
   },
   {
    "duration": 17,
    "start_time": "2022-03-30T18:42:24.419Z"
   },
   {
    "duration": 19,
    "start_time": "2022-03-30T18:42:26.415Z"
   },
   {
    "duration": 56,
    "start_time": "2022-03-30T18:42:28.821Z"
   },
   {
    "duration": 12,
    "start_time": "2022-03-30T18:42:32.850Z"
   },
   {
    "duration": 11,
    "start_time": "2022-03-30T18:42:34.479Z"
   },
   {
    "duration": 33,
    "start_time": "2022-03-30T18:42:36.881Z"
   },
   {
    "duration": 17,
    "start_time": "2022-03-30T18:42:39.594Z"
   },
   {
    "duration": 8,
    "start_time": "2022-03-30T18:42:43.434Z"
   },
   {
    "duration": 126,
    "start_time": "2022-03-30T18:56:45.306Z"
   },
   {
    "duration": 31,
    "start_time": "2022-03-30T18:57:27.646Z"
   },
   {
    "duration": 200,
    "start_time": "2022-03-30T19:03:40.913Z"
   },
   {
    "duration": 37,
    "start_time": "2022-03-30T19:03:59.912Z"
   },
   {
    "duration": 5,
    "start_time": "2022-03-30T19:04:38.103Z"
   },
   {
    "duration": 12,
    "start_time": "2022-03-30T19:06:13.114Z"
   },
   {
    "duration": 12,
    "start_time": "2022-03-30T19:06:45.061Z"
   },
   {
    "duration": 9,
    "start_time": "2022-03-30T19:07:07.268Z"
   },
   {
    "duration": 3386,
    "start_time": "2022-03-30T19:08:07.144Z"
   },
   {
    "duration": 30,
    "start_time": "2022-03-30T19:08:19.026Z"
   },
   {
    "duration": 13,
    "start_time": "2022-03-30T19:08:42.185Z"
   },
   {
    "duration": 11,
    "start_time": "2022-03-30T19:11:14.696Z"
   },
   {
    "duration": 1613,
    "start_time": "2022-03-30T19:11:26.767Z"
   },
   {
    "duration": 1485,
    "start_time": "2022-03-30T19:12:29.789Z"
   },
   {
    "duration": 1254,
    "start_time": "2022-03-30T19:12:42.820Z"
   },
   {
    "duration": 3425,
    "start_time": "2022-03-30T19:13:42.122Z"
   },
   {
    "duration": 145,
    "start_time": "2022-03-30T19:14:22.553Z"
   },
   {
    "duration": 146,
    "start_time": "2022-03-30T19:14:48.484Z"
   },
   {
    "duration": 258,
    "start_time": "2022-03-30T19:22:26.755Z"
   },
   {
    "duration": 2415,
    "start_time": "2022-03-30T19:23:05.475Z"
   },
   {
    "duration": 256,
    "start_time": "2022-03-30T19:23:15.264Z"
   },
   {
    "duration": 253,
    "start_time": "2022-03-30T19:23:39.175Z"
   },
   {
    "duration": 258,
    "start_time": "2022-03-30T19:25:10.188Z"
   },
   {
    "duration": 274,
    "start_time": "2022-03-30T19:26:28.193Z"
   },
   {
    "duration": 269,
    "start_time": "2022-03-30T19:27:15.737Z"
   },
   {
    "duration": 252,
    "start_time": "2022-03-30T19:28:30.516Z"
   },
   {
    "duration": 255,
    "start_time": "2022-03-30T19:28:55.808Z"
   },
   {
    "duration": 264,
    "start_time": "2022-03-30T19:29:42.882Z"
   },
   {
    "duration": 5,
    "start_time": "2022-03-30T19:32:34.222Z"
   },
   {
    "duration": 19,
    "start_time": "2022-03-30T19:37:09.209Z"
   },
   {
    "duration": 8,
    "start_time": "2022-03-30T19:38:00.252Z"
   },
   {
    "duration": 118,
    "start_time": "2022-03-30T19:43:04.226Z"
   },
   {
    "duration": 1319,
    "start_time": "2022-03-30T19:43:10.009Z"
   },
   {
    "duration": 1347,
    "start_time": "2022-03-30T19:44:20.201Z"
   },
   {
    "duration": 1310,
    "start_time": "2022-03-30T19:44:34.017Z"
   },
   {
    "duration": 3294,
    "start_time": "2022-03-30T19:45:24.025Z"
   },
   {
    "duration": 174,
    "start_time": "2022-03-30T19:45:49.507Z"
   },
   {
    "duration": 163,
    "start_time": "2022-03-30T19:46:28.441Z"
   },
   {
    "duration": 163,
    "start_time": "2022-03-30T19:47:58.667Z"
   },
   {
    "duration": 179,
    "start_time": "2022-03-30T19:51:13.327Z"
   },
   {
    "duration": 171,
    "start_time": "2022-03-30T19:51:30.282Z"
   },
   {
    "duration": 180,
    "start_time": "2022-03-30T19:51:51.519Z"
   },
   {
    "duration": 185,
    "start_time": "2022-03-30T19:52:03.127Z"
   },
   {
    "duration": 192,
    "start_time": "2022-03-30T19:52:25.849Z"
   },
   {
    "duration": 167,
    "start_time": "2022-03-30T19:53:06.973Z"
   },
   {
    "duration": 166,
    "start_time": "2022-03-30T19:53:26.010Z"
   },
   {
    "duration": 176,
    "start_time": "2022-03-30T19:53:51.596Z"
   },
   {
    "duration": 153,
    "start_time": "2022-03-30T19:57:21.735Z"
   },
   {
    "duration": 165,
    "start_time": "2022-03-30T19:58:53.359Z"
   },
   {
    "duration": 174,
    "start_time": "2022-03-30T19:59:02.612Z"
   },
   {
    "duration": 49,
    "start_time": "2022-03-31T05:49:48.239Z"
   },
   {
    "duration": 77,
    "start_time": "2022-03-31T05:50:02.444Z"
   },
   {
    "duration": 451,
    "start_time": "2022-03-31T05:50:13.498Z"
   },
   {
    "duration": 20,
    "start_time": "2022-03-31T05:50:13.951Z"
   },
   {
    "duration": 16,
    "start_time": "2022-03-31T05:50:13.972Z"
   },
   {
    "duration": 44,
    "start_time": "2022-03-31T05:50:13.990Z"
   },
   {
    "duration": 24,
    "start_time": "2022-03-31T05:50:14.036Z"
   },
   {
    "duration": 37,
    "start_time": "2022-03-31T05:50:14.062Z"
   },
   {
    "duration": 45,
    "start_time": "2022-03-31T05:50:14.101Z"
   },
   {
    "duration": 32,
    "start_time": "2022-03-31T05:50:14.148Z"
   },
   {
    "duration": 86,
    "start_time": "2022-03-31T05:50:14.182Z"
   },
   {
    "duration": 12,
    "start_time": "2022-03-31T05:50:14.270Z"
   },
   {
    "duration": 16,
    "start_time": "2022-03-31T05:50:14.284Z"
   },
   {
    "duration": 52,
    "start_time": "2022-03-31T05:50:14.301Z"
   },
   {
    "duration": 14,
    "start_time": "2022-03-31T05:50:14.354Z"
   },
   {
    "duration": 251,
    "start_time": "2022-03-31T05:50:14.370Z"
   },
   {
    "duration": 154,
    "start_time": "2022-03-31T05:50:14.623Z"
   },
   {
    "duration": 11,
    "start_time": "2022-03-31T05:50:14.779Z"
   },
   {
    "duration": 9,
    "start_time": "2022-03-31T05:51:22.346Z"
   },
   {
    "duration": 20,
    "start_time": "2022-03-31T06:29:24.494Z"
   },
   {
    "duration": 19,
    "start_time": "2022-03-31T06:29:52.980Z"
   },
   {
    "duration": 30,
    "start_time": "2022-03-31T06:33:02.463Z"
   },
   {
    "duration": 29,
    "start_time": "2022-03-31T06:33:25.940Z"
   },
   {
    "duration": 31,
    "start_time": "2022-03-31T06:33:53.350Z"
   },
   {
    "duration": 31,
    "start_time": "2022-03-31T06:34:12.660Z"
   },
   {
    "duration": 89,
    "start_time": "2022-03-31T06:40:02.584Z"
   },
   {
    "duration": 30,
    "start_time": "2022-03-31T06:40:35.679Z"
   },
   {
    "duration": 32,
    "start_time": "2022-03-31T06:40:52.337Z"
   },
   {
    "duration": 31,
    "start_time": "2022-03-31T06:47:38.316Z"
   },
   {
    "duration": 21,
    "start_time": "2022-03-31T06:53:41.347Z"
   },
   {
    "duration": 32,
    "start_time": "2022-03-31T06:53:52.730Z"
   },
   {
    "duration": 36,
    "start_time": "2022-03-31T07:00:41.845Z"
   },
   {
    "duration": 22,
    "start_time": "2022-03-31T07:02:38.501Z"
   },
   {
    "duration": 31,
    "start_time": "2022-03-31T07:03:06.826Z"
   },
   {
    "duration": 69,
    "start_time": "2022-03-31T07:29:31.220Z"
   },
   {
    "duration": 7,
    "start_time": "2022-03-31T07:34:53.647Z"
   },
   {
    "duration": 12,
    "start_time": "2022-03-31T07:36:36.963Z"
   },
   {
    "duration": 13,
    "start_time": "2022-03-31T07:37:16.640Z"
   },
   {
    "duration": 474,
    "start_time": "2022-03-31T07:37:25.840Z"
   },
   {
    "duration": 20,
    "start_time": "2022-03-31T07:37:26.316Z"
   },
   {
    "duration": 10,
    "start_time": "2022-03-31T07:37:26.338Z"
   },
   {
    "duration": 7,
    "start_time": "2022-03-31T07:37:26.350Z"
   },
   {
    "duration": 12,
    "start_time": "2022-03-31T07:37:26.359Z"
   },
   {
    "duration": 16,
    "start_time": "2022-03-31T07:37:26.373Z"
   },
   {
    "duration": 15,
    "start_time": "2022-03-31T07:37:26.390Z"
   },
   {
    "duration": 18,
    "start_time": "2022-03-31T07:37:26.438Z"
   },
   {
    "duration": 60,
    "start_time": "2022-03-31T07:37:26.457Z"
   },
   {
    "duration": 27,
    "start_time": "2022-03-31T07:37:26.519Z"
   },
   {
    "duration": 11,
    "start_time": "2022-03-31T07:37:26.548Z"
   },
   {
    "duration": 34,
    "start_time": "2022-03-31T07:37:26.561Z"
   },
   {
    "duration": 42,
    "start_time": "2022-03-31T07:37:26.596Z"
   },
   {
    "duration": 240,
    "start_time": "2022-03-31T07:37:26.641Z"
   },
   {
    "duration": 162,
    "start_time": "2022-03-31T07:37:26.883Z"
   },
   {
    "duration": 8,
    "start_time": "2022-03-31T07:37:27.047Z"
   },
   {
    "duration": 37,
    "start_time": "2022-03-31T07:37:27.057Z"
   },
   {
    "duration": 14,
    "start_time": "2022-03-31T07:38:40.574Z"
   },
   {
    "duration": 59,
    "start_time": "2022-03-31T07:41:30.950Z"
   },
   {
    "duration": 69,
    "start_time": "2022-03-31T07:42:31.147Z"
   },
   {
    "duration": 14,
    "start_time": "2022-03-31T07:42:39.852Z"
   },
   {
    "duration": 10,
    "start_time": "2022-03-31T07:43:41.025Z"
   },
   {
    "duration": 11,
    "start_time": "2022-03-31T07:43:56.935Z"
   },
   {
    "duration": 11,
    "start_time": "2022-03-31T07:44:12.473Z"
   },
   {
    "duration": 12,
    "start_time": "2022-03-31T07:44:15.983Z"
   },
   {
    "duration": 509,
    "start_time": "2022-03-31T07:44:28.285Z"
   },
   {
    "duration": 21,
    "start_time": "2022-03-31T07:44:28.796Z"
   },
   {
    "duration": 20,
    "start_time": "2022-03-31T07:44:28.819Z"
   },
   {
    "duration": 6,
    "start_time": "2022-03-31T07:44:28.841Z"
   },
   {
    "duration": 14,
    "start_time": "2022-03-31T07:44:28.850Z"
   },
   {
    "duration": 16,
    "start_time": "2022-03-31T07:44:28.866Z"
   },
   {
    "duration": 16,
    "start_time": "2022-03-31T07:44:28.883Z"
   },
   {
    "duration": 53,
    "start_time": "2022-03-31T07:44:28.900Z"
   },
   {
    "duration": 49,
    "start_time": "2022-03-31T07:44:28.955Z"
   },
   {
    "duration": 39,
    "start_time": "2022-03-31T07:44:29.005Z"
   },
   {
    "duration": 84,
    "start_time": "2022-03-31T07:44:29.047Z"
   },
   {
    "duration": 0,
    "start_time": "2022-03-31T07:44:29.134Z"
   },
   {
    "duration": 0,
    "start_time": "2022-03-31T07:44:29.136Z"
   },
   {
    "duration": 0,
    "start_time": "2022-03-31T07:44:29.137Z"
   },
   {
    "duration": 0,
    "start_time": "2022-03-31T07:44:29.139Z"
   },
   {
    "duration": 0,
    "start_time": "2022-03-31T07:44:29.141Z"
   },
   {
    "duration": 0,
    "start_time": "2022-03-31T07:44:29.142Z"
   },
   {
    "duration": 17,
    "start_time": "2022-03-31T07:44:48.215Z"
   },
   {
    "duration": 14,
    "start_time": "2022-03-31T07:44:57.541Z"
   },
   {
    "duration": 42,
    "start_time": "2022-03-31T07:45:25.360Z"
   },
   {
    "duration": 428,
    "start_time": "2022-03-31T07:45:51.993Z"
   },
   {
    "duration": 21,
    "start_time": "2022-03-31T07:45:52.423Z"
   },
   {
    "duration": 12,
    "start_time": "2022-03-31T07:45:52.446Z"
   },
   {
    "duration": 7,
    "start_time": "2022-03-31T07:45:52.460Z"
   },
   {
    "duration": 14,
    "start_time": "2022-03-31T07:45:52.469Z"
   },
   {
    "duration": 16,
    "start_time": "2022-03-31T07:45:52.485Z"
   },
   {
    "duration": 49,
    "start_time": "2022-03-31T07:45:52.502Z"
   },
   {
    "duration": 21,
    "start_time": "2022-03-31T07:45:52.552Z"
   },
   {
    "duration": 73,
    "start_time": "2022-03-31T07:45:52.575Z"
   },
   {
    "duration": 10,
    "start_time": "2022-03-31T07:45:52.650Z"
   },
   {
    "duration": 12,
    "start_time": "2022-03-31T07:45:52.662Z"
   },
   {
    "duration": 33,
    "start_time": "2022-03-31T07:45:52.675Z"
   },
   {
    "duration": 15,
    "start_time": "2022-03-31T07:45:52.739Z"
   },
   {
    "duration": 258,
    "start_time": "2022-03-31T07:45:52.758Z"
   },
   {
    "duration": 172,
    "start_time": "2022-03-31T07:45:53.018Z"
   },
   {
    "duration": 11,
    "start_time": "2022-03-31T07:45:53.192Z"
   },
   {
    "duration": 51,
    "start_time": "2022-03-31T07:45:53.204Z"
   },
   {
    "duration": 216,
    "start_time": "2022-03-31T07:46:52.045Z"
   },
   {
    "duration": 506,
    "start_time": "2022-03-31T07:51:04.425Z"
   },
   {
    "duration": 20,
    "start_time": "2022-03-31T07:51:04.933Z"
   },
   {
    "duration": 11,
    "start_time": "2022-03-31T07:51:04.955Z"
   },
   {
    "duration": 10,
    "start_time": "2022-03-31T07:51:04.968Z"
   },
   {
    "duration": 18,
    "start_time": "2022-03-31T07:51:04.981Z"
   },
   {
    "duration": 45,
    "start_time": "2022-03-31T07:51:05.001Z"
   },
   {
    "duration": 15,
    "start_time": "2022-03-31T07:51:05.048Z"
   },
   {
    "duration": 26,
    "start_time": "2022-03-31T07:51:05.065Z"
   },
   {
    "duration": 70,
    "start_time": "2022-03-31T07:51:05.092Z"
   },
   {
    "duration": 10,
    "start_time": "2022-03-31T07:51:05.164Z"
   },
   {
    "duration": 9,
    "start_time": "2022-03-31T07:51:05.176Z"
   },
   {
    "duration": 57,
    "start_time": "2022-03-31T07:51:05.187Z"
   },
   {
    "duration": 15,
    "start_time": "2022-03-31T07:51:05.245Z"
   },
   {
    "duration": 245,
    "start_time": "2022-03-31T07:51:05.262Z"
   },
   {
    "duration": 167,
    "start_time": "2022-03-31T07:51:05.508Z"
   },
   {
    "duration": 8,
    "start_time": "2022-03-31T07:51:05.677Z"
   },
   {
    "duration": 47,
    "start_time": "2022-03-31T07:51:05.686Z"
   },
   {
    "duration": 441,
    "start_time": "2022-04-11T10:42:04.591Z"
   },
   {
    "duration": 19,
    "start_time": "2022-04-11T10:42:05.034Z"
   },
   {
    "duration": 10,
    "start_time": "2022-04-11T10:42:05.055Z"
   },
   {
    "duration": 26,
    "start_time": "2022-04-11T10:42:05.066Z"
   },
   {
    "duration": 25,
    "start_time": "2022-04-11T10:42:05.094Z"
   },
   {
    "duration": 26,
    "start_time": "2022-04-11T10:42:05.120Z"
   },
   {
    "duration": 16,
    "start_time": "2022-04-11T10:42:05.147Z"
   },
   {
    "duration": 29,
    "start_time": "2022-04-11T10:42:05.164Z"
   },
   {
    "duration": 63,
    "start_time": "2022-04-11T10:42:05.195Z"
   },
   {
    "duration": 11,
    "start_time": "2022-04-11T10:42:05.260Z"
   },
   {
    "duration": 18,
    "start_time": "2022-04-11T10:42:05.272Z"
   },
   {
    "duration": 40,
    "start_time": "2022-04-11T10:42:05.292Z"
   },
   {
    "duration": 27,
    "start_time": "2022-04-11T10:42:05.333Z"
   },
   {
    "duration": 239,
    "start_time": "2022-04-11T10:42:05.362Z"
   },
   {
    "duration": 162,
    "start_time": "2022-04-11T10:42:05.603Z"
   },
   {
    "duration": 9,
    "start_time": "2022-04-11T10:42:05.766Z"
   },
   {
    "duration": 51,
    "start_time": "2022-04-11T10:42:05.776Z"
   },
   {
    "duration": 20,
    "start_time": "2022-04-11T10:45:03.121Z"
   },
   {
    "duration": 8,
    "start_time": "2022-04-11T10:46:30.814Z"
   },
   {
    "duration": 2217,
    "start_time": "2022-04-11T10:46:44.355Z"
   },
   {
    "duration": 8,
    "start_time": "2022-04-11T10:46:49.922Z"
   },
   {
    "duration": 47,
    "start_time": "2022-04-14T18:43:40.108Z"
   },
   {
    "duration": 8,
    "start_time": "2022-04-14T18:43:54.638Z"
   },
   {
    "duration": 446,
    "start_time": "2022-04-14T18:44:00.542Z"
   },
   {
    "duration": 20,
    "start_time": "2022-04-14T18:44:00.990Z"
   },
   {
    "duration": 11,
    "start_time": "2022-04-14T18:44:01.012Z"
   },
   {
    "duration": 10,
    "start_time": "2022-04-14T18:44:01.025Z"
   },
   {
    "duration": 17,
    "start_time": "2022-04-14T18:44:01.037Z"
   },
   {
    "duration": 37,
    "start_time": "2022-04-14T18:44:01.055Z"
   },
   {
    "duration": 18,
    "start_time": "2022-04-14T18:44:01.094Z"
   },
   {
    "duration": 21,
    "start_time": "2022-04-14T18:44:01.114Z"
   },
   {
    "duration": 55,
    "start_time": "2022-04-14T18:44:01.138Z"
   },
   {
    "duration": 11,
    "start_time": "2022-04-14T18:44:01.209Z"
   },
   {
    "duration": 19,
    "start_time": "2022-04-14T18:44:01.222Z"
   },
   {
    "duration": 35,
    "start_time": "2022-04-14T18:44:01.244Z"
   },
   {
    "duration": 33,
    "start_time": "2022-04-14T18:44:01.280Z"
   },
   {
    "duration": 240,
    "start_time": "2022-04-14T18:44:01.315Z"
   },
   {
    "duration": 169,
    "start_time": "2022-04-14T18:44:01.556Z"
   },
   {
    "duration": 8,
    "start_time": "2022-04-14T18:44:01.727Z"
   },
   {
    "duration": 32,
    "start_time": "2022-04-14T18:44:01.737Z"
   },
   {
    "duration": 1699,
    "start_time": "2022-04-14T18:44:46.374Z"
   },
   {
    "duration": 159,
    "start_time": "2022-04-14T18:45:33.925Z"
   },
   {
    "duration": 177,
    "start_time": "2022-04-14T18:45:49.842Z"
   },
   {
    "duration": 154,
    "start_time": "2022-04-14T18:51:42.280Z"
   },
   {
    "duration": 163,
    "start_time": "2022-04-14T18:51:57.907Z"
   },
   {
    "duration": 166,
    "start_time": "2022-04-14T18:52:05.788Z"
   },
   {
    "duration": 159,
    "start_time": "2022-04-14T18:52:12.258Z"
   },
   {
    "duration": 150,
    "start_time": "2022-04-14T18:55:11.225Z"
   },
   {
    "duration": 153,
    "start_time": "2022-04-14T18:56:29.537Z"
   },
   {
    "duration": 146,
    "start_time": "2022-04-14T18:57:41.842Z"
   },
   {
    "duration": 160,
    "start_time": "2022-04-14T18:58:02.066Z"
   },
   {
    "duration": 12,
    "start_time": "2022-04-14T18:59:23.256Z"
   },
   {
    "duration": 85,
    "start_time": "2022-04-14T19:22:47.035Z"
   },
   {
    "duration": 50,
    "start_time": "2022-04-14T19:23:01.682Z"
   },
   {
    "duration": 81,
    "start_time": "2022-04-14T19:27:05.213Z"
   },
   {
    "duration": 897,
    "start_time": "2022-04-14T19:27:12.341Z"
   },
   {
    "duration": 41,
    "start_time": "2022-04-14T19:27:39.333Z"
   },
   {
    "duration": 24,
    "start_time": "2022-04-14T19:32:15.488Z"
   },
   {
    "duration": 431,
    "start_time": "2022-04-14T19:32:43.588Z"
   },
   {
    "duration": 40,
    "start_time": "2022-04-14T19:32:56.043Z"
   },
   {
    "duration": 95,
    "start_time": "2022-04-14T19:33:44.337Z"
   },
   {
    "duration": 16,
    "start_time": "2022-04-14T19:43:28.070Z"
   },
   {
    "duration": 27,
    "start_time": "2022-04-14T19:44:00.336Z"
   },
   {
    "duration": 24,
    "start_time": "2022-04-14T19:44:43.997Z"
   },
   {
    "duration": 27,
    "start_time": "2022-04-14T19:46:58.904Z"
   },
   {
    "duration": 494,
    "start_time": "2022-04-14T19:47:15.526Z"
   },
   {
    "duration": 22,
    "start_time": "2022-04-14T19:47:16.023Z"
   },
   {
    "duration": 12,
    "start_time": "2022-04-14T19:47:16.047Z"
   },
   {
    "duration": 8,
    "start_time": "2022-04-14T19:47:16.061Z"
   },
   {
    "duration": 52,
    "start_time": "2022-04-14T19:47:16.071Z"
   },
   {
    "duration": 24,
    "start_time": "2022-04-14T19:47:16.125Z"
   },
   {
    "duration": 24,
    "start_time": "2022-04-14T19:47:16.151Z"
   },
   {
    "duration": 47,
    "start_time": "2022-04-14T19:47:16.178Z"
   },
   {
    "duration": 50,
    "start_time": "2022-04-14T19:47:16.227Z"
   },
   {
    "duration": 41,
    "start_time": "2022-04-14T19:47:16.280Z"
   },
   {
    "duration": 16,
    "start_time": "2022-04-14T19:47:16.323Z"
   },
   {
    "duration": 39,
    "start_time": "2022-04-14T19:47:16.341Z"
   },
   {
    "duration": 47,
    "start_time": "2022-04-14T19:47:16.382Z"
   },
   {
    "duration": 292,
    "start_time": "2022-04-14T19:47:16.431Z"
   },
   {
    "duration": 213,
    "start_time": "2022-04-14T19:47:16.726Z"
   },
   {
    "duration": 13,
    "start_time": "2022-04-14T19:47:16.942Z"
   },
   {
    "duration": 18,
    "start_time": "2022-04-14T19:47:16.957Z"
   },
   {
    "duration": 62,
    "start_time": "2022-04-14T19:47:16.977Z"
   },
   {
    "duration": 47,
    "start_time": "2022-04-14T19:47:17.042Z"
   },
   {
    "duration": 372,
    "start_time": "2022-04-14T19:51:01.043Z"
   },
   {
    "duration": 610,
    "start_time": "2022-04-14T20:06:24.658Z"
   },
   {
    "duration": 21,
    "start_time": "2022-04-14T20:06:25.271Z"
   },
   {
    "duration": 12,
    "start_time": "2022-04-14T20:06:25.293Z"
   },
   {
    "duration": 14,
    "start_time": "2022-04-14T20:06:25.307Z"
   },
   {
    "duration": 20,
    "start_time": "2022-04-14T20:06:25.324Z"
   },
   {
    "duration": 20,
    "start_time": "2022-04-14T20:06:25.346Z"
   },
   {
    "duration": 57,
    "start_time": "2022-04-14T20:06:25.367Z"
   },
   {
    "duration": 20,
    "start_time": "2022-04-14T20:06:25.427Z"
   },
   {
    "duration": 102,
    "start_time": "2022-04-14T20:06:25.450Z"
   },
   {
    "duration": 19,
    "start_time": "2022-04-14T20:06:25.555Z"
   },
   {
    "duration": 34,
    "start_time": "2022-04-14T20:06:25.577Z"
   },
   {
    "duration": 36,
    "start_time": "2022-04-14T20:06:25.617Z"
   },
   {
    "duration": 15,
    "start_time": "2022-04-14T20:06:25.654Z"
   },
   {
    "duration": 295,
    "start_time": "2022-04-14T20:06:25.673Z"
   },
   {
    "duration": 186,
    "start_time": "2022-04-14T20:06:25.970Z"
   },
   {
    "duration": 12,
    "start_time": "2022-04-14T20:06:26.158Z"
   },
   {
    "duration": 39,
    "start_time": "2022-04-14T20:06:26.173Z"
   },
   {
    "duration": 43,
    "start_time": "2022-04-14T20:06:26.213Z"
   },
   {
    "duration": 425,
    "start_time": "2022-04-14T20:06:26.257Z"
   },
   {
    "duration": 539,
    "start_time": "2022-04-14T20:09:19.579Z"
   },
   {
    "duration": 33,
    "start_time": "2022-04-14T20:09:20.125Z"
   },
   {
    "duration": 14,
    "start_time": "2022-04-14T20:09:20.161Z"
   },
   {
    "duration": 10,
    "start_time": "2022-04-14T20:09:20.177Z"
   },
   {
    "duration": 44,
    "start_time": "2022-04-14T20:09:20.188Z"
   },
   {
    "duration": 25,
    "start_time": "2022-04-14T20:09:20.234Z"
   },
   {
    "duration": 16,
    "start_time": "2022-04-14T20:09:20.261Z"
   },
   {
    "duration": 55,
    "start_time": "2022-04-14T20:09:20.279Z"
   },
   {
    "duration": 54,
    "start_time": "2022-04-14T20:09:20.336Z"
   },
   {
    "duration": 32,
    "start_time": "2022-04-14T20:09:20.394Z"
   },
   {
    "duration": 17,
    "start_time": "2022-04-14T20:09:20.428Z"
   },
   {
    "duration": 64,
    "start_time": "2022-04-14T20:09:20.447Z"
   },
   {
    "duration": 23,
    "start_time": "2022-04-14T20:09:20.513Z"
   },
   {
    "duration": 290,
    "start_time": "2022-04-14T20:09:20.538Z"
   },
   {
    "duration": 207,
    "start_time": "2022-04-14T20:09:20.831Z"
   },
   {
    "duration": 20,
    "start_time": "2022-04-14T20:09:21.040Z"
   },
   {
    "duration": 62,
    "start_time": "2022-04-14T20:09:21.062Z"
   },
   {
    "duration": 45,
    "start_time": "2022-04-14T20:09:21.127Z"
   },
   {
    "duration": 404,
    "start_time": "2022-04-14T20:09:21.173Z"
   },
   {
    "duration": 46,
    "start_time": "2022-04-15T18:54:17.121Z"
   },
   {
    "duration": 449,
    "start_time": "2022-04-15T18:54:21.667Z"
   },
   {
    "duration": 19,
    "start_time": "2022-04-15T18:54:22.118Z"
   },
   {
    "duration": 12,
    "start_time": "2022-04-15T18:54:22.138Z"
   },
   {
    "duration": 7,
    "start_time": "2022-04-15T18:54:22.152Z"
   },
   {
    "duration": 11,
    "start_time": "2022-04-15T18:54:22.160Z"
   },
   {
    "duration": 14,
    "start_time": "2022-04-15T18:54:22.173Z"
   },
   {
    "duration": 14,
    "start_time": "2022-04-15T18:54:22.188Z"
   },
   {
    "duration": 50,
    "start_time": "2022-04-15T18:54:22.204Z"
   },
   {
    "duration": 45,
    "start_time": "2022-04-15T18:54:22.255Z"
   },
   {
    "duration": 11,
    "start_time": "2022-04-15T18:54:22.303Z"
   },
   {
    "duration": 8,
    "start_time": "2022-04-15T18:54:22.316Z"
   },
   {
    "duration": 50,
    "start_time": "2022-04-15T18:54:22.325Z"
   },
   {
    "duration": 13,
    "start_time": "2022-04-15T18:54:22.376Z"
   },
   {
    "duration": 241,
    "start_time": "2022-04-15T18:54:22.391Z"
   },
   {
    "duration": 161,
    "start_time": "2022-04-15T18:54:22.633Z"
   },
   {
    "duration": 9,
    "start_time": "2022-04-15T18:54:22.796Z"
   },
   {
    "duration": 15,
    "start_time": "2022-04-15T18:54:22.807Z"
   },
   {
    "duration": 48,
    "start_time": "2022-04-15T18:54:22.824Z"
   },
   {
    "duration": 474,
    "start_time": "2022-04-15T18:54:22.874Z"
   },
   {
    "duration": 14,
    "start_time": "2022-04-15T18:54:23.350Z"
   },
   {
    "duration": 74,
    "start_time": "2022-04-27T14:35:26.888Z"
   }
  ],
  "kernelspec": {
   "display_name": "Python 3 (ipykernel)",
   "language": "python",
   "name": "python3"
  },
  "language_info": {
   "codemirror_mode": {
    "name": "ipython",
    "version": 3
   },
   "file_extension": ".py",
   "mimetype": "text/x-python",
   "name": "python",
   "nbconvert_exporter": "python",
   "pygments_lexer": "ipython3",
   "version": "3.9.5"
  },
  "toc": {
   "base_numbering": 1,
   "nav_menu": {},
   "number_sections": true,
   "sideBar": true,
   "skip_h1_title": true,
   "title_cell": "Table of Contents",
   "title_sidebar": "Contents",
   "toc_cell": false,
   "toc_position": {},
   "toc_section_display": true,
   "toc_window_display": false
  }
 },
 "nbformat": 4,
 "nbformat_minor": 5
}
