{
 "cells": [
  {
   "cell_type": "markdown",
   "metadata": {},
   "source": [
    "# Комментарий ревьюера\n",
    "<div class=\"alert alert-block alert-info\">\n",
    "Привет, Глеб! Меня зовут Анвар Ганиев, и я буду проверять твой проект. Предлагаю общаться на «ты» :) Но если это не удобно - дай знать, и мы перейдем на \"вы\". Моя основная цель — не указать на совершенные тобою ошибки, а поделиться своим опытом и помочь тебе стать data scientist'ом.\n",
    "\n",
    "Видно, что ты старался, делая проект. Все ключевые этапы в работе выполнены, так что в целом справиться с задачей тебе удалось. Есть ещё несколько аспектов, которые требуют твоего внимания. Комментарии по ним помечены <span style='color:Red'> красным цветом  </span>. Комментарии я буду оставлять под ячейками, к которым они относятся. А еще писать в заголовке v{номер версии}, чтобы знать, при какой проверке, я их оставлял. После их доработки проект будет принят. Осталось совсем немного, буду ждать твою работу на повторное ревью 🙂\n",
    "\n",
    "<span style='color:Green'> Зелёным цветом </span> отмечены удачные и элегантные решения, на которые можно опираться в будущих проектах. <span style='color:Gold'> Жёлтым цветом </span>выделено то, что в следующий раз можно сделать по-другому. Ты можешь учесть эти комментарии при выполнении будущих заданий или доработать проект сейчас (однако это не обязательно).\n",
    "\n",
    "Давай работать над проектом в диалоге: если ты что-то меняешь в проекте по моим рекомендациям — пиши об этом. Выбери для своих комментариев какой-то заметный цвет, так мне будет легче отследить изменения. Пожалуйста, не перемещай, не изменяй и не удаляй мои комментарии. Всё это поможет выполнить повторную проверку твоего проекта оперативнее\n",
    "</div>"
   ]
  },
  {
   "cell_type": "markdown",
   "metadata": {
    "toc": true
   },
   "source": [
    "<h1>Содержание<span class=\"tocSkip\"></span></h1>\n",
    "<div class=\"toc\"><ul class=\"toc-item\"><li><span><a href=\"#Подготовка-данных\" data-toc-modified-id=\"Подготовка-данных-1\"><span class=\"toc-item-num\">1&nbsp;&nbsp;</span>Подготовка данных</a></span><ul class=\"toc-item\"><li><span><a href=\"#Подключение-библиотек\" data-toc-modified-id=\"Подключение-библиотек-1.1\"><span class=\"toc-item-num\">1.1&nbsp;&nbsp;</span>Подключение библиотек</a></span></li><li><span><a href=\"#Загрузка-данных\" data-toc-modified-id=\"Загрузка-данных-1.2\"><span class=\"toc-item-num\">1.2&nbsp;&nbsp;</span>Загрузка данных</a></span></li><li><span><a href=\"#Оценка-качества-данных\" data-toc-modified-id=\"Оценка-качества-данных-1.3\"><span class=\"toc-item-num\">1.3&nbsp;&nbsp;</span>Оценка качества данных</a></span></li><li><span><a href=\"#Проверка-качества-данных\" data-toc-modified-id=\"Проверка-качества-данных-1.4\"><span class=\"toc-item-num\">1.4&nbsp;&nbsp;</span>Проверка качества данных</a></span><ul class=\"toc-item\"><li><span><a href=\"#Расчет-эффективность-обогащения.\" data-toc-modified-id=\"Расчет-эффективность-обогащения.-1.4.1\"><span class=\"toc-item-num\">1.4.1&nbsp;&nbsp;</span>Расчет эффективность обогащения.</a></span></li></ul></li><li><span><a href=\"#-Комментарий-ревьюера-v1\" data-toc-modified-id=\"-Комментарий-ревьюера-v1-1.5\"><span class=\"toc-item-num\">1.5&nbsp;&nbsp;</span> Комментарий ревьюера v1</a></span></li><li><span><a href=\"#-Комментарий-ревьюера-v1\" data-toc-modified-id=\"-Комментарий-ревьюера-v1-1.6\"><span class=\"toc-item-num\">1.6&nbsp;&nbsp;</span> Комментарий ревьюера v1</a></span></li><li><span><a href=\"#-Комментарий-ревьюера-v1\" data-toc-modified-id=\"-Комментарий-ревьюера-v1-1.7\"><span class=\"toc-item-num\">1.7&nbsp;&nbsp;</span> Комментарий ревьюера v1</a></span></li></ul></li><li><span><a href=\"#Анализ-данных\" data-toc-modified-id=\"Анализ-данных-2\"><span class=\"toc-item-num\">2&nbsp;&nbsp;</span>Анализ данных</a></span><ul class=\"toc-item\"><li><span><a href=\"#Концентрация-на-этапах\" data-toc-modified-id=\"Концентрация-на-этапах-2.1\"><span class=\"toc-item-num\">2.1&nbsp;&nbsp;</span>Концентрация на этапах</a></span></li><li><span><a href=\"#Размер-гранул\" data-toc-modified-id=\"Размер-гранул-2.2\"><span class=\"toc-item-num\">2.2&nbsp;&nbsp;</span>Размер гранул</a></span></li><li><span><a href=\"#-Комментарий-ревьюера-v1\" data-toc-modified-id=\"-Комментарий-ревьюера-v1-2.3\"><span class=\"toc-item-num\">2.3&nbsp;&nbsp;</span> Комментарий ревьюера v1</a></span><ul class=\"toc-item\"><li><span><a href=\"#-Комментарий-студента\" data-toc-modified-id=\"-Комментарий-студента-2.3.1\"><span class=\"toc-item-num\">2.3.1&nbsp;&nbsp;</span> Комментарий студента</a></span></li></ul></li><li><span><a href=\"#Суммарная-концентрация-веществ\" data-toc-modified-id=\"Суммарная-концентрация-веществ-2.4\"><span class=\"toc-item-num\">2.4&nbsp;&nbsp;</span>Суммарная концентрация веществ</a></span></li><li><span><a href=\"#-Комментарий-ревьюера-v1\" data-toc-modified-id=\"-Комментарий-ревьюера-v1-2.5\"><span class=\"toc-item-num\">2.5&nbsp;&nbsp;</span> Комментарий ревьюера v1</a></span><ul class=\"toc-item\"><li><span><a href=\"#-Комментарий-студента\" data-toc-modified-id=\"-Комментарий-студента-2.5.1\"><span class=\"toc-item-num\">2.5.1&nbsp;&nbsp;</span> Комментарий студента</a></span></li></ul></li><li><span><a href=\"#-Комментарий-ревьюера-v2\" data-toc-modified-id=\"-Комментарий-ревьюера-v2-2.6\"><span class=\"toc-item-num\">2.6&nbsp;&nbsp;</span> Комментарий ревьюера v2</a></span></li><li><span><a href=\"#-Комментарий-ревьюера-v1\" data-toc-modified-id=\"-Комментарий-ревьюера-v1-2.7\"><span class=\"toc-item-num\">2.7&nbsp;&nbsp;</span> Комментарий ревьюера v1</a></span></li></ul></li><li><span><a href=\"#Модель\" data-toc-modified-id=\"Модель-3\"><span class=\"toc-item-num\">3&nbsp;&nbsp;</span>Модель</a></span><ul class=\"toc-item\"><li><span><a href=\"#Функция-вычисления-sMAPE\" data-toc-modified-id=\"Функция-вычисления-sMAPE-3.1\"><span class=\"toc-item-num\">3.1&nbsp;&nbsp;</span>Функция вычисления sMAPE</a></span></li><li><span><a href=\"#Подготовка-выборок\" data-toc-modified-id=\"Подготовка-выборок-3.2\"><span class=\"toc-item-num\">3.2&nbsp;&nbsp;</span>Подготовка выборок</a></span></li><li><span><a href=\"#-Комментарий-ревьюера-v1\" data-toc-modified-id=\"-Комментарий-ревьюера-v1-3.3\"><span class=\"toc-item-num\">3.3&nbsp;&nbsp;</span> Комментарий ревьюера v1</a></span></li><li><span><a href=\"#Модель-линейной-регресии-и-Дерева.-Определение-кросс-валидации\" data-toc-modified-id=\"Модель-линейной-регресии-и-Дерева.-Определение-кросс-валидации-3.4\"><span class=\"toc-item-num\">3.4&nbsp;&nbsp;</span>Модель линейной регресии и Дерева. Определение кросс-валидации</a></span></li><li><span><a href=\"#-Комментарий-ревьюера-v1\" data-toc-modified-id=\"-Комментарий-ревьюера-v1-3.5\"><span class=\"toc-item-num\">3.5&nbsp;&nbsp;</span> Комментарий ревьюера v1</a></span><ul class=\"toc-item\"><li><span><a href=\"#-Комментарий-студента\" data-toc-modified-id=\"-Комментарий-студента-3.5.1\"><span class=\"toc-item-num\">3.5.1&nbsp;&nbsp;</span> Комментарий студента</a></span></li></ul></li><li><span><a href=\"#-Комментарий-ревьюера-v2\" data-toc-modified-id=\"-Комментарий-ревьюера-v2-3.6\"><span class=\"toc-item-num\">3.6&nbsp;&nbsp;</span> Комментарий ревьюера v2</a></span></li><li><span><a href=\"#-Комментарий-ревьюера-v1\" data-toc-modified-id=\"-Комментарий-ревьюера-v1-3.7\"><span class=\"toc-item-num\">3.7&nbsp;&nbsp;</span> Комментарий ревьюера v1</a></span></li><li><span><a href=\"#Модель-дерева-подбор-гипер-параметра.-(не-использую-дальше)\" data-toc-modified-id=\"Модель-дерева-подбор-гипер-параметра.-(не-использую-дальше)-3.8\"><span class=\"toc-item-num\">3.8&nbsp;&nbsp;</span>Модель дерева подбор гипер параметра. (не использую дальше)</a></span></li><li><span><a href=\"#-Комментарий-ревьюера-v1\" data-toc-modified-id=\"-Комментарий-ревьюера-v1-3.9\"><span class=\"toc-item-num\">3.9&nbsp;&nbsp;</span> Комментарий ревьюера v1</a></span><ul class=\"toc-item\"><li><span><a href=\"#-Комментарий-студента\" data-toc-modified-id=\"-Комментарий-студента-3.9.1\"><span class=\"toc-item-num\">3.9.1&nbsp;&nbsp;</span> Комментарий студента</a></span></li></ul></li><li><span><a href=\"#Расчет-модели-линейной-регресси-на-тестовой-выборке\" data-toc-modified-id=\"Расчет-модели-линейной-регресси-на-тестовой-выборке-3.10\"><span class=\"toc-item-num\">3.10&nbsp;&nbsp;</span>Расчет модели линейной регресси на тестовой выборке</a></span></li><li><span><a href=\"#-Комментарий-ревьюера-v1\" data-toc-modified-id=\"-Комментарий-ревьюера-v1-3.11\"><span class=\"toc-item-num\">3.11&nbsp;&nbsp;</span> Комментарий ревьюера v1</a></span><ul class=\"toc-item\"><li><span><a href=\"#-Комментарий-студента\" data-toc-modified-id=\"-Комментарий-студента-3.11.1\"><span class=\"toc-item-num\">3.11.1&nbsp;&nbsp;</span> Комментарий студента</a></span></li></ul></li><li><span><a href=\"#-Комментарий-ревьюера-v1\" data-toc-modified-id=\"-Комментарий-ревьюера-v1-3.12\"><span class=\"toc-item-num\">3.12&nbsp;&nbsp;</span> Комментарий ревьюера v1</a></span></li><li><span><a href=\"#-Комментарий-ревьюера-v1\" data-toc-modified-id=\"-Комментарий-ревьюера-v1-3.13\"><span class=\"toc-item-num\">3.13&nbsp;&nbsp;</span> Комментарий ревьюера v1</a></span></li></ul></li><li><span><a href=\"#Чек-лист-готовности-проекта\" data-toc-modified-id=\"Чек-лист-готовности-проекта-4\"><span class=\"toc-item-num\">4&nbsp;&nbsp;</span>Чек-лист готовности проекта</a></span><ul class=\"toc-item\"><li><span><a href=\"#-Итоговый-комментарий\" data-toc-modified-id=\"-Итоговый-комментарий-4.1\"><span class=\"toc-item-num\">4.1&nbsp;&nbsp;</span> Итоговый комментарий</a></span></li><li><span><a href=\"#-Комментарий-ревьюера-v2\" data-toc-modified-id=\"-Комментарий-ревьюера-v2-4.2\"><span class=\"toc-item-num\">4.2&nbsp;&nbsp;</span> Комментарий ревьюера v2</a></span></li></ul></li></ul></div>"
   ]
  },
  {
   "cell_type": "markdown",
   "metadata": {},
   "source": [
    "# Восстановление золота из руды"
   ]
  },
  {
   "cell_type": "markdown",
   "metadata": {},
   "source": [
    "Подготовьте прототип модели машинного обучения для «Цифры». Компания разрабатывает решения для эффективной работы промышленных предприятий.\n",
    "\n",
    "Модель должна предсказать коэффициент восстановления золота из золотосодержащей руды. Используйте данные с параметрами добычи и очистки. \n",
    "\n",
    "Модель поможет оптимизировать производство, чтобы не запускать предприятие с убыточными характеристиками.\n",
    "\n",
    "Вам нужно:\n",
    "\n",
    "1. Подготовить данные;\n",
    "2. Провести исследовательский анализ данных;\n",
    "3. Построить и обучить модель.\n",
    "\n",
    "Чтобы выполнить проект, обращайтесь к библиотекам *pandas*, *matplotlib* и *sklearn.* Вам поможет их документация."
   ]
  },
  {
   "cell_type": "markdown",
   "metadata": {},
   "source": [
    "## Подготовка данных"
   ]
  },
  {
   "cell_type": "markdown",
   "metadata": {},
   "source": [
    " ###  Подключение библиотек"
   ]
  },
  {
   "cell_type": "code",
   "execution_count": 1,
   "metadata": {},
   "outputs": [],
   "source": [
    "import pandas as pd\n",
    "import numpy as np\n",
    "import matplotlib.pyplot as plt\n",
    "from sklearn.metrics import mean_absolute_error\n",
    "from sklearn.model_selection import train_test_split\n",
    "from sklearn.linear_model import LinearRegression\n",
    "from sklearn.ensemble import RandomForestClassifier\n",
    "from sklearn.tree import DecisionTreeRegressor\n",
    "from sklearn.metrics import mean_squared_error\n",
    "from sklearn.dummy import DummyRegressor\n",
    "from sklearn.model_selection import train_test_split\n",
    "from sklearn.metrics import mean_squared_error\n",
    "from sklearn.metrics import make_scorer\n",
    "from sklearn.model_selection import cross_val_score\n"
   ]
  },
  {
   "cell_type": "markdown",
   "metadata": {},
   "source": [
    " ###  Загрузка данных"
   ]
  },
  {
   "cell_type": "code",
   "execution_count": 2,
   "metadata": {
    "scrolled": false
   },
   "outputs": [],
   "source": [
    "data_train = pd.read_csv('/datasets/gold_recovery_train_new.csv')\n",
    "data_test = pd.read_csv('/datasets/gold_recovery_test_new.csv')\n",
    "data_full = pd.read_csv('/datasets/gold_recovery_full_new.csv')\n"
   ]
  },
  {
   "cell_type": "markdown",
   "metadata": {},
   "source": [
    "### Оценка качества данных"
   ]
  },
  {
   "cell_type": "code",
   "execution_count": 3,
   "metadata": {},
   "outputs": [],
   "source": [
    "\n",
    "def check_data (data_i):\n",
    "    temp = data_i.copy() \n",
    "    # проверяем дубликаты\n",
    "    print('Кол-во дубликатов:',temp.duplicated().sum())\n",
    "    list_c=data_i.columns\n",
    "    for col_l in list_c:\n",
    "        print('-------------------------')\n",
    "        #print(col_l, temp[col_l].sort_values().unique())\n",
    "        print(col_l,'|кол-во строк',len(temp),'| кол-во NaN',temp[col_l].isna().sum(),\n",
    "        '| процент NaN', round(temp[col_l].isna().sum()/len(temp)*100, 2),'%')"
   ]
  },
  {
   "cell_type": "code",
   "execution_count": 4,
   "metadata": {
    "scrolled": true
   },
   "outputs": [
    {
     "name": "stdout",
     "output_type": "stream",
     "text": [
      "Кол-во дубликатов: 0\n",
      "-------------------------\n",
      "date |кол-во строк 14149 | кол-во NaN 0 | процент NaN 0.0 %\n",
      "-------------------------\n",
      "final.output.concentrate_ag |кол-во строк 14149 | кол-во NaN 1 | процент NaN 0.01 %\n",
      "-------------------------\n",
      "final.output.concentrate_pb |кол-во строк 14149 | кол-во NaN 1 | процент NaN 0.01 %\n",
      "-------------------------\n",
      "final.output.concentrate_sol |кол-во строк 14149 | кол-во NaN 211 | процент NaN 1.49 %\n",
      "-------------------------\n",
      "final.output.concentrate_au |кол-во строк 14149 | кол-во NaN 0 | процент NaN 0.0 %\n",
      "-------------------------\n",
      "final.output.recovery |кол-во строк 14149 | кол-во NaN 0 | процент NaN 0.0 %\n",
      "-------------------------\n",
      "final.output.tail_ag |кол-во строк 14149 | кол-во NaN 0 | процент NaN 0.0 %\n",
      "-------------------------\n",
      "final.output.tail_pb |кол-во строк 14149 | кол-во NaN 100 | процент NaN 0.71 %\n",
      "-------------------------\n",
      "final.output.tail_sol |кол-во строк 14149 | кол-во NaN 5 | процент NaN 0.04 %\n",
      "-------------------------\n",
      "final.output.tail_au |кол-во строк 14149 | кол-во NaN 0 | процент NaN 0.0 %\n",
      "-------------------------\n",
      "primary_cleaner.input.sulfate |кол-во строк 14149 | кол-во NaN 20 | процент NaN 0.14 %\n",
      "-------------------------\n",
      "primary_cleaner.input.depressant |кол-во строк 14149 | кол-во NaN 32 | процент NaN 0.23 %\n",
      "-------------------------\n",
      "primary_cleaner.input.feed_size |кол-во строк 14149 | кол-во NaN 0 | процент NaN 0.0 %\n",
      "-------------------------\n",
      "primary_cleaner.input.xanthate |кол-во строк 14149 | кол-во NaN 100 | процент NaN 0.71 %\n",
      "-------------------------\n",
      "primary_cleaner.output.concentrate_ag |кол-во строк 14149 | кол-во NaN 0 | процент NaN 0.0 %\n",
      "-------------------------\n",
      "primary_cleaner.output.concentrate_pb |кол-во строк 14149 | кол-во NaN 86 | процент NaN 0.61 %\n",
      "-------------------------\n",
      "primary_cleaner.output.concentrate_sol |кол-во строк 14149 | кол-во NaN 286 | процент NaN 2.02 %\n",
      "-------------------------\n",
      "primary_cleaner.output.concentrate_au |кол-во строк 14149 | кол-во NaN 0 | процент NaN 0.0 %\n",
      "-------------------------\n",
      "primary_cleaner.output.tail_ag |кол-во строк 14149 | кол-во NaN 1 | процент NaN 0.01 %\n",
      "-------------------------\n",
      "primary_cleaner.output.tail_pb |кол-во строк 14149 | кол-во NaN 15 | процент NaN 0.11 %\n",
      "-------------------------\n",
      "primary_cleaner.output.tail_sol |кол-во строк 14149 | кол-во NaN 46 | процент NaN 0.33 %\n",
      "-------------------------\n",
      "primary_cleaner.output.tail_au |кол-во строк 14149 | кол-во NaN 0 | процент NaN 0.0 %\n",
      "-------------------------\n",
      "primary_cleaner.state.floatbank8_a_air |кол-во строк 14149 | кол-во NaN 4 | процент NaN 0.03 %\n",
      "-------------------------\n",
      "primary_cleaner.state.floatbank8_a_level |кол-во строк 14149 | кол-во NaN 1 | процент NaN 0.01 %\n",
      "-------------------------\n",
      "primary_cleaner.state.floatbank8_b_air |кол-во строк 14149 | кол-во NaN 4 | процент NaN 0.03 %\n",
      "-------------------------\n",
      "primary_cleaner.state.floatbank8_b_level |кол-во строк 14149 | кол-во NaN 1 | процент NaN 0.01 %\n",
      "-------------------------\n",
      "primary_cleaner.state.floatbank8_c_air |кол-во строк 14149 | кол-во NaN 2 | процент NaN 0.01 %\n",
      "-------------------------\n",
      "primary_cleaner.state.floatbank8_c_level |кол-во строк 14149 | кол-во NaN 1 | процент NaN 0.01 %\n",
      "-------------------------\n",
      "primary_cleaner.state.floatbank8_d_air |кол-во строк 14149 | кол-во NaN 3 | процент NaN 0.02 %\n",
      "-------------------------\n",
      "primary_cleaner.state.floatbank8_d_level |кол-во строк 14149 | кол-во NaN 1 | процент NaN 0.01 %\n",
      "-------------------------\n",
      "rougher.calculation.sulfate_to_au_concentrate |кол-во строк 14149 | кол-во NaN 1 | процент NaN 0.01 %\n",
      "-------------------------\n",
      "rougher.calculation.floatbank10_sulfate_to_au_feed |кол-во строк 14149 | кол-во NaN 1 | процент NaN 0.01 %\n",
      "-------------------------\n",
      "rougher.calculation.floatbank11_sulfate_to_au_feed |кол-во строк 14149 | кол-во NaN 1 | процент NaN 0.01 %\n",
      "-------------------------\n",
      "rougher.calculation.au_pb_ratio |кол-во строк 14149 | кол-во NaN 0 | процент NaN 0.0 %\n",
      "-------------------------\n",
      "rougher.input.feed_ag |кол-во строк 14149 | кол-во NaN 0 | процент NaN 0.0 %\n",
      "-------------------------\n",
      "rougher.input.feed_pb |кол-во строк 14149 | кол-во NaN 100 | процент NaN 0.71 %\n",
      "-------------------------\n",
      "rougher.input.feed_rate |кол-во строк 14149 | кол-во NaN 8 | процент NaN 0.06 %\n",
      "-------------------------\n",
      "rougher.input.feed_size |кол-во строк 14149 | кол-во NaN 144 | процент NaN 1.02 %\n",
      "-------------------------\n",
      "rougher.input.feed_sol |кол-во строк 14149 | кол-во NaN 78 | процент NaN 0.55 %\n",
      "-------------------------\n",
      "rougher.input.feed_au |кол-во строк 14149 | кол-во NaN 0 | процент NaN 0.0 %\n",
      "-------------------------\n",
      "rougher.input.floatbank10_sulfate |кол-во строк 14149 | кол-во NaN 29 | процент NaN 0.2 %\n",
      "-------------------------\n",
      "rougher.input.floatbank10_xanthate |кол-во строк 14149 | кол-во NaN 8 | процент NaN 0.06 %\n",
      "-------------------------\n",
      "rougher.input.floatbank11_sulfate |кол-во строк 14149 | кол-во NaN 36 | процент NaN 0.25 %\n",
      "-------------------------\n",
      "rougher.input.floatbank11_xanthate |кол-во строк 14149 | кол-во NaN 428 | процент NaN 3.02 %\n",
      "-------------------------\n",
      "rougher.output.concentrate_ag |кол-во строк 14149 | кол-во NaN 0 | процент NaN 0.0 %\n",
      "-------------------------\n",
      "rougher.output.concentrate_pb |кол-во строк 14149 | кол-во NaN 0 | процент NaN 0.0 %\n",
      "-------------------------\n",
      "rougher.output.concentrate_sol |кол-во строк 14149 | кол-во NaN 22 | процент NaN 0.16 %\n",
      "-------------------------\n",
      "rougher.output.concentrate_au |кол-во строк 14149 | кол-во NaN 0 | процент NaN 0.0 %\n",
      "-------------------------\n",
      "rougher.output.recovery |кол-во строк 14149 | кол-во NaN 0 | процент NaN 0.0 %\n",
      "-------------------------\n",
      "rougher.output.tail_ag |кол-во строк 14149 | кол-во NaN 1 | процент NaN 0.01 %\n",
      "-------------------------\n",
      "rougher.output.tail_pb |кол-во строк 14149 | кол-во NaN 0 | процент NaN 0.0 %\n",
      "-------------------------\n",
      "rougher.output.tail_sol |кол-во строк 14149 | кол-во NaN 0 | процент NaN 0.0 %\n",
      "-------------------------\n",
      "rougher.output.tail_au |кол-во строк 14149 | кол-во NaN 0 | процент NaN 0.0 %\n",
      "-------------------------\n",
      "rougher.state.floatbank10_a_air |кол-во строк 14149 | кол-во NaN 1 | процент NaN 0.01 %\n",
      "-------------------------\n",
      "rougher.state.floatbank10_a_level |кол-во строк 14149 | кол-во NaN 1 | процент NaN 0.01 %\n",
      "-------------------------\n",
      "rougher.state.floatbank10_b_air |кол-во строк 14149 | кол-во NaN 1 | процент NaN 0.01 %\n",
      "-------------------------\n",
      "rougher.state.floatbank10_b_level |кол-во строк 14149 | кол-во NaN 1 | процент NaN 0.01 %\n",
      "-------------------------\n",
      "rougher.state.floatbank10_c_air |кол-во строк 14149 | кол-во NaN 1 | процент NaN 0.01 %\n",
      "-------------------------\n",
      "rougher.state.floatbank10_c_level |кол-во строк 14149 | кол-во NaN 1 | процент NaN 0.01 %\n",
      "-------------------------\n",
      "rougher.state.floatbank10_d_air |кол-во строк 14149 | кол-во NaN 0 | процент NaN 0.0 %\n",
      "-------------------------\n",
      "rougher.state.floatbank10_d_level |кол-во строк 14149 | кол-во NaN 0 | процент NaN 0.0 %\n",
      "-------------------------\n",
      "rougher.state.floatbank10_e_air |кол-во строк 14149 | кол-во NaN 436 | процент NaN 3.08 %\n",
      "-------------------------\n",
      "rougher.state.floatbank10_e_level |кол-во строк 14149 | кол-во NaN 0 | процент NaN 0.0 %\n",
      "-------------------------\n",
      "rougher.state.floatbank10_f_air |кол-во строк 14149 | кол-во NaN 0 | процент NaN 0.0 %\n",
      "-------------------------\n",
      "rougher.state.floatbank10_f_level |кол-во строк 14149 | кол-во NaN 0 | процент NaN 0.0 %\n",
      "-------------------------\n",
      "secondary_cleaner.output.tail_ag |кол-во строк 14149 | кол-во NaN 2 | процент NaN 0.01 %\n",
      "-------------------------\n",
      "secondary_cleaner.output.tail_pb |кол-во строк 14149 | кол-во NaN 10 | процент NaN 0.07 %\n",
      "-------------------------\n",
      "secondary_cleaner.output.tail_sol |кол-во строк 14149 | кол-во NaN 1605 | процент NaN 11.34 %\n",
      "-------------------------\n",
      "secondary_cleaner.output.tail_au |кол-во строк 14149 | кол-во NaN 0 | процент NaN 0.0 %\n",
      "-------------------------\n",
      "secondary_cleaner.state.floatbank2_a_air |кол-во строк 14149 | кол-во NaN 217 | процент NaN 1.53 %\n",
      "-------------------------\n",
      "secondary_cleaner.state.floatbank2_a_level |кол-во строк 14149 | кол-во NaN 1 | процент NaN 0.01 %\n",
      "-------------------------\n",
      "secondary_cleaner.state.floatbank2_b_air |кол-во строк 14149 | кол-во NaN 21 | процент NaN 0.15 %\n",
      "-------------------------\n",
      "secondary_cleaner.state.floatbank2_b_level |кол-во строк 14149 | кол-во NaN 1 | процент NaN 0.01 %\n",
      "-------------------------\n",
      "secondary_cleaner.state.floatbank3_a_air |кол-во строк 14149 | кол-во NaN 4 | процент NaN 0.03 %\n",
      "-------------------------\n",
      "secondary_cleaner.state.floatbank3_a_level |кол-во строк 14149 | кол-во NaN 1 | процент NaN 0.01 %\n",
      "-------------------------\n",
      "secondary_cleaner.state.floatbank3_b_air |кол-во строк 14149 | кол-во NaN 1 | процент NaN 0.01 %\n",
      "-------------------------\n",
      "secondary_cleaner.state.floatbank3_b_level |кол-во строк 14149 | кол-во NaN 1 | процент NaN 0.01 %\n",
      "-------------------------\n",
      "secondary_cleaner.state.floatbank4_a_air |кол-во строк 14149 | кол-во NaN 6 | процент NaN 0.04 %\n",
      "-------------------------\n",
      "secondary_cleaner.state.floatbank4_a_level |кол-во строк 14149 | кол-во NaN 1 | процент NaN 0.01 %\n",
      "-------------------------\n",
      "secondary_cleaner.state.floatbank4_b_air |кол-во строк 14149 | кол-во NaN 1 | процент NaN 0.01 %\n",
      "-------------------------\n",
      "secondary_cleaner.state.floatbank4_b_level |кол-во строк 14149 | кол-во NaN 1 | процент NaN 0.01 %\n",
      "-------------------------\n",
      "secondary_cleaner.state.floatbank5_a_air |кол-во строк 14149 | кол-во NaN 1 | процент NaN 0.01 %\n",
      "-------------------------\n",
      "secondary_cleaner.state.floatbank5_a_level |кол-во строк 14149 | кол-во NaN 1 | процент NaN 0.01 %\n",
      "-------------------------\n",
      "secondary_cleaner.state.floatbank5_b_air |кол-во строк 14149 | кол-во NaN 1 | процент NaN 0.01 %\n",
      "-------------------------\n",
      "secondary_cleaner.state.floatbank5_b_level |кол-во строк 14149 | кол-во NaN 1 | процент NaN 0.01 %\n",
      "-------------------------\n",
      "secondary_cleaner.state.floatbank6_a_air |кол-во строк 14149 | кол-во NaN 2 | процент NaN 0.01 %\n",
      "-------------------------\n",
      "secondary_cleaner.state.floatbank6_a_level |кол-во строк 14149 | кол-во NaN 1 | процент NaN 0.01 %\n"
     ]
    }
   ],
   "source": [
    "check_data(data_train)"
   ]
  },
  {
   "cell_type": "code",
   "execution_count": 5,
   "metadata": {},
   "outputs": [
    {
     "name": "stdout",
     "output_type": "stream",
     "text": [
      "Кол-во дубликатов: 0\n",
      "-------------------------\n",
      "date |кол-во строк 5290 | кол-во NaN 0 | процент NaN 0.0 %\n",
      "-------------------------\n",
      "primary_cleaner.input.sulfate |кол-во строк 5290 | кол-во NaN 4 | процент NaN 0.08 %\n",
      "-------------------------\n",
      "primary_cleaner.input.depressant |кол-во строк 5290 | кол-во NaN 5 | процент NaN 0.09 %\n",
      "-------------------------\n",
      "primary_cleaner.input.feed_size |кол-во строк 5290 | кол-во NaN 0 | процент NaN 0.0 %\n",
      "-------------------------\n",
      "primary_cleaner.input.xanthate |кол-во строк 5290 | кол-во NaN 4 | процент NaN 0.08 %\n",
      "-------------------------\n",
      "primary_cleaner.state.floatbank8_a_air |кол-во строк 5290 | кол-во NaN 0 | процент NaN 0.0 %\n",
      "-------------------------\n",
      "primary_cleaner.state.floatbank8_a_level |кол-во строк 5290 | кол-во NaN 0 | процент NaN 0.0 %\n",
      "-------------------------\n",
      "primary_cleaner.state.floatbank8_b_air |кол-во строк 5290 | кол-во NaN 0 | процент NaN 0.0 %\n",
      "-------------------------\n",
      "primary_cleaner.state.floatbank8_b_level |кол-во строк 5290 | кол-во NaN 0 | процент NaN 0.0 %\n",
      "-------------------------\n",
      "primary_cleaner.state.floatbank8_c_air |кол-во строк 5290 | кол-во NaN 0 | процент NaN 0.0 %\n",
      "-------------------------\n",
      "primary_cleaner.state.floatbank8_c_level |кол-во строк 5290 | кол-во NaN 0 | процент NaN 0.0 %\n",
      "-------------------------\n",
      "primary_cleaner.state.floatbank8_d_air |кол-во строк 5290 | кол-во NaN 0 | процент NaN 0.0 %\n",
      "-------------------------\n",
      "primary_cleaner.state.floatbank8_d_level |кол-во строк 5290 | кол-во NaN 0 | процент NaN 0.0 %\n",
      "-------------------------\n",
      "rougher.input.feed_ag |кол-во строк 5290 | кол-во NaN 0 | процент NaN 0.0 %\n",
      "-------------------------\n",
      "rougher.input.feed_pb |кол-во строк 5290 | кол-во NaN 0 | процент NaN 0.0 %\n",
      "-------------------------\n",
      "rougher.input.feed_rate |кол-во строк 5290 | кол-во NaN 3 | процент NaN 0.06 %\n",
      "-------------------------\n",
      "rougher.input.feed_size |кол-во строк 5290 | кол-во NaN 1 | процент NaN 0.02 %\n",
      "-------------------------\n",
      "rougher.input.feed_sol |кол-во строк 5290 | кол-во NaN 21 | процент NaN 0.4 %\n",
      "-------------------------\n",
      "rougher.input.feed_au |кол-во строк 5290 | кол-во NaN 0 | процент NaN 0.0 %\n",
      "-------------------------\n",
      "rougher.input.floatbank10_sulfate |кол-во строк 5290 | кол-во NaN 5 | процент NaN 0.09 %\n",
      "-------------------------\n",
      "rougher.input.floatbank10_xanthate |кол-во строк 5290 | кол-во NaN 0 | процент NaN 0.0 %\n",
      "-------------------------\n",
      "rougher.input.floatbank11_sulfate |кол-во строк 5290 | кол-во NaN 8 | процент NaN 0.15 %\n",
      "-------------------------\n",
      "rougher.input.floatbank11_xanthate |кол-во строк 5290 | кол-во NaN 25 | процент NaN 0.47 %\n",
      "-------------------------\n",
      "rougher.state.floatbank10_a_air |кол-во строк 5290 | кол-во NaN 0 | процент NaN 0.0 %\n",
      "-------------------------\n",
      "rougher.state.floatbank10_a_level |кол-во строк 5290 | кол-во NaN 0 | процент NaN 0.0 %\n",
      "-------------------------\n",
      "rougher.state.floatbank10_b_air |кол-во строк 5290 | кол-во NaN 0 | процент NaN 0.0 %\n",
      "-------------------------\n",
      "rougher.state.floatbank10_b_level |кол-во строк 5290 | кол-во NaN 0 | процент NaN 0.0 %\n",
      "-------------------------\n",
      "rougher.state.floatbank10_c_air |кол-во строк 5290 | кол-во NaN 0 | процент NaN 0.0 %\n",
      "-------------------------\n",
      "rougher.state.floatbank10_c_level |кол-во строк 5290 | кол-во NaN 0 | процент NaN 0.0 %\n",
      "-------------------------\n",
      "rougher.state.floatbank10_d_air |кол-во строк 5290 | кол-во NaN 0 | процент NaN 0.0 %\n",
      "-------------------------\n",
      "rougher.state.floatbank10_d_level |кол-во строк 5290 | кол-во NaN 0 | процент NaN 0.0 %\n",
      "-------------------------\n",
      "rougher.state.floatbank10_e_air |кол-во строк 5290 | кол-во NaN 0 | процент NaN 0.0 %\n",
      "-------------------------\n",
      "rougher.state.floatbank10_e_level |кол-во строк 5290 | кол-во NaN 0 | процент NaN 0.0 %\n",
      "-------------------------\n",
      "rougher.state.floatbank10_f_air |кол-во строк 5290 | кол-во NaN 0 | процент NaN 0.0 %\n",
      "-------------------------\n",
      "rougher.state.floatbank10_f_level |кол-во строк 5290 | кол-во NaN 0 | процент NaN 0.0 %\n",
      "-------------------------\n",
      "secondary_cleaner.state.floatbank2_a_air |кол-во строк 5290 | кол-во NaN 3 | процент NaN 0.06 %\n",
      "-------------------------\n",
      "secondary_cleaner.state.floatbank2_a_level |кол-во строк 5290 | кол-во NaN 0 | процент NaN 0.0 %\n",
      "-------------------------\n",
      "secondary_cleaner.state.floatbank2_b_air |кол-во строк 5290 | кол-во NaN 2 | процент NaN 0.04 %\n",
      "-------------------------\n",
      "secondary_cleaner.state.floatbank2_b_level |кол-во строк 5290 | кол-во NaN 0 | процент NaN 0.0 %\n",
      "-------------------------\n",
      "secondary_cleaner.state.floatbank3_a_air |кол-во строк 5290 | кол-во NaN 9 | процент NaN 0.17 %\n",
      "-------------------------\n",
      "secondary_cleaner.state.floatbank3_a_level |кол-во строк 5290 | кол-во NaN 0 | процент NaN 0.0 %\n",
      "-------------------------\n",
      "secondary_cleaner.state.floatbank3_b_air |кол-во строк 5290 | кол-во NaN 0 | процент NaN 0.0 %\n",
      "-------------------------\n",
      "secondary_cleaner.state.floatbank3_b_level |кол-во строк 5290 | кол-во NaN 0 | процент NaN 0.0 %\n",
      "-------------------------\n",
      "secondary_cleaner.state.floatbank4_a_air |кол-во строк 5290 | кол-во NaN 0 | процент NaN 0.0 %\n",
      "-------------------------\n",
      "secondary_cleaner.state.floatbank4_a_level |кол-во строк 5290 | кол-во NaN 0 | процент NaN 0.0 %\n",
      "-------------------------\n",
      "secondary_cleaner.state.floatbank4_b_air |кол-во строк 5290 | кол-во NaN 0 | процент NaN 0.0 %\n",
      "-------------------------\n",
      "secondary_cleaner.state.floatbank4_b_level |кол-во строк 5290 | кол-во NaN 0 | процент NaN 0.0 %\n",
      "-------------------------\n",
      "secondary_cleaner.state.floatbank5_a_air |кол-во строк 5290 | кол-во NaN 0 | процент NaN 0.0 %\n",
      "-------------------------\n",
      "secondary_cleaner.state.floatbank5_a_level |кол-во строк 5290 | кол-во NaN 0 | процент NaN 0.0 %\n",
      "-------------------------\n",
      "secondary_cleaner.state.floatbank5_b_air |кол-во строк 5290 | кол-во NaN 0 | процент NaN 0.0 %\n",
      "-------------------------\n",
      "secondary_cleaner.state.floatbank5_b_level |кол-во строк 5290 | кол-во NaN 0 | процент NaN 0.0 %\n",
      "-------------------------\n",
      "secondary_cleaner.state.floatbank6_a_air |кол-во строк 5290 | кол-во NaN 0 | процент NaN 0.0 %\n",
      "-------------------------\n",
      "secondary_cleaner.state.floatbank6_a_level |кол-во строк 5290 | кол-во NaN 0 | процент NaN 0.0 %\n"
     ]
    }
   ],
   "source": [
    "check_data(data_test)"
   ]
  },
  {
   "cell_type": "code",
   "execution_count": 6,
   "metadata": {},
   "outputs": [
    {
     "name": "stdout",
     "output_type": "stream",
     "text": [
      "Кол-во дубликатов: 0\n",
      "-------------------------\n",
      "date |кол-во строк 19439 | кол-во NaN 0 | процент NaN 0.0 %\n",
      "-------------------------\n",
      "final.output.concentrate_ag |кол-во строк 19439 | кол-во NaN 1 | процент NaN 0.01 %\n",
      "-------------------------\n",
      "final.output.concentrate_pb |кол-во строк 19439 | кол-во NaN 1 | процент NaN 0.01 %\n",
      "-------------------------\n",
      "final.output.concentrate_sol |кол-во строк 19439 | кол-во NaN 211 | процент NaN 1.09 %\n",
      "-------------------------\n",
      "final.output.concentrate_au |кол-во строк 19439 | кол-во NaN 0 | процент NaN 0.0 %\n",
      "-------------------------\n",
      "final.output.recovery |кол-во строк 19439 | кол-во NaN 0 | процент NaN 0.0 %\n",
      "-------------------------\n",
      "final.output.tail_ag |кол-во строк 19439 | кол-во NaN 1 | процент NaN 0.01 %\n",
      "-------------------------\n",
      "final.output.tail_pb |кол-во строк 19439 | кол-во NaN 101 | процент NaN 0.52 %\n",
      "-------------------------\n",
      "final.output.tail_sol |кол-во строк 19439 | кол-во NaN 6 | процент NaN 0.03 %\n",
      "-------------------------\n",
      "final.output.tail_au |кол-во строк 19439 | кол-во NaN 0 | процент NaN 0.0 %\n",
      "-------------------------\n",
      "primary_cleaner.input.sulfate |кол-во строк 19439 | кол-во NaN 24 | процент NaN 0.12 %\n",
      "-------------------------\n",
      "primary_cleaner.input.depressant |кол-во строк 19439 | кол-во NaN 37 | процент NaN 0.19 %\n",
      "-------------------------\n",
      "primary_cleaner.input.feed_size |кол-во строк 19439 | кол-во NaN 0 | процент NaN 0.0 %\n",
      "-------------------------\n",
      "primary_cleaner.input.xanthate |кол-во строк 19439 | кол-во NaN 104 | процент NaN 0.54 %\n",
      "-------------------------\n",
      "primary_cleaner.output.concentrate_ag |кол-во строк 19439 | кол-во NaN 0 | процент NaN 0.0 %\n",
      "-------------------------\n",
      "primary_cleaner.output.concentrate_pb |кол-во строк 19439 | кол-во NaN 116 | процент NaN 0.6 %\n",
      "-------------------------\n",
      "primary_cleaner.output.concentrate_sol |кол-во строк 19439 | кол-во NaN 370 | процент NaN 1.9 %\n",
      "-------------------------\n",
      "primary_cleaner.output.concentrate_au |кол-во строк 19439 | кол-во NaN 0 | процент NaN 0.0 %\n",
      "-------------------------\n",
      "primary_cleaner.output.tail_ag |кол-во строк 19439 | кол-во NaN 4 | процент NaN 0.02 %\n",
      "-------------------------\n",
      "primary_cleaner.output.tail_pb |кол-во строк 19439 | кол-во NaN 21 | процент NaN 0.11 %\n",
      "-------------------------\n",
      "primary_cleaner.output.tail_sol |кол-во строк 19439 | кол-во NaN 62 | процент NaN 0.32 %\n",
      "-------------------------\n",
      "primary_cleaner.output.tail_au |кол-во строк 19439 | кол-во NaN 0 | процент NaN 0.0 %\n",
      "-------------------------\n",
      "primary_cleaner.state.floatbank8_a_air |кол-во строк 19439 | кол-во NaN 4 | процент NaN 0.02 %\n",
      "-------------------------\n",
      "primary_cleaner.state.floatbank8_a_level |кол-во строк 19439 | кол-во NaN 1 | процент NaN 0.01 %\n",
      "-------------------------\n",
      "primary_cleaner.state.floatbank8_b_air |кол-во строк 19439 | кол-во NaN 4 | процент NaN 0.02 %\n",
      "-------------------------\n",
      "primary_cleaner.state.floatbank8_b_level |кол-во строк 19439 | кол-во NaN 1 | процент NaN 0.01 %\n",
      "-------------------------\n",
      "primary_cleaner.state.floatbank8_c_air |кол-во строк 19439 | кол-во NaN 2 | процент NaN 0.01 %\n",
      "-------------------------\n",
      "primary_cleaner.state.floatbank8_c_level |кол-во строк 19439 | кол-во NaN 1 | процент NaN 0.01 %\n",
      "-------------------------\n",
      "primary_cleaner.state.floatbank8_d_air |кол-во строк 19439 | кол-во NaN 3 | процент NaN 0.02 %\n",
      "-------------------------\n",
      "primary_cleaner.state.floatbank8_d_level |кол-во строк 19439 | кол-во NaN 1 | процент NaN 0.01 %\n",
      "-------------------------\n",
      "rougher.calculation.sulfate_to_au_concentrate |кол-во строк 19439 | кол-во NaN 2 | процент NaN 0.01 %\n",
      "-------------------------\n",
      "rougher.calculation.floatbank10_sulfate_to_au_feed |кол-во строк 19439 | кол-во NaN 2 | процент NaN 0.01 %\n",
      "-------------------------\n",
      "rougher.calculation.floatbank11_sulfate_to_au_feed |кол-во строк 19439 | кол-во NaN 2 | процент NaN 0.01 %\n",
      "-------------------------\n",
      "rougher.calculation.au_pb_ratio |кол-во строк 19439 | кол-во NaN 0 | процент NaN 0.0 %\n",
      "-------------------------\n",
      "rougher.input.feed_ag |кол-во строк 19439 | кол-во NaN 0 | процент NaN 0.0 %\n",
      "-------------------------\n",
      "rougher.input.feed_pb |кол-во строк 19439 | кол-во NaN 100 | процент NaN 0.51 %\n",
      "-------------------------\n",
      "rougher.input.feed_rate |кол-во строк 19439 | кол-во NaN 11 | процент NaN 0.06 %\n",
      "-------------------------\n",
      "rougher.input.feed_size |кол-во строк 19439 | кол-во NaN 145 | процент NaN 0.75 %\n",
      "-------------------------\n",
      "rougher.input.feed_sol |кол-во строк 19439 | кол-во NaN 99 | процент NaN 0.51 %\n",
      "-------------------------\n",
      "rougher.input.feed_au |кол-во строк 19439 | кол-во NaN 0 | процент NaN 0.0 %\n",
      "-------------------------\n",
      "rougher.input.floatbank10_sulfate |кол-во строк 19439 | кол-во NaN 34 | процент NaN 0.17 %\n",
      "-------------------------\n",
      "rougher.input.floatbank10_xanthate |кол-во строк 19439 | кол-во NaN 8 | процент NaN 0.04 %\n",
      "-------------------------\n",
      "rougher.input.floatbank11_sulfate |кол-во строк 19439 | кол-во NaN 44 | процент NaN 0.23 %\n",
      "-------------------------\n",
      "rougher.input.floatbank11_xanthate |кол-во строк 19439 | кол-во NaN 453 | процент NaN 2.33 %\n",
      "-------------------------\n",
      "rougher.output.concentrate_ag |кол-во строк 19439 | кол-во NaN 0 | процент NaN 0.0 %\n",
      "-------------------------\n",
      "rougher.output.concentrate_pb |кол-во строк 19439 | кол-во NaN 0 | процент NaN 0.0 %\n",
      "-------------------------\n",
      "rougher.output.concentrate_sol |кол-во строк 19439 | кол-во NaN 23 | процент NaN 0.12 %\n",
      "-------------------------\n",
      "rougher.output.concentrate_au |кол-во строк 19439 | кол-во NaN 0 | процент NaN 0.0 %\n",
      "-------------------------\n",
      "rougher.output.recovery |кол-во строк 19439 | кол-во NaN 0 | процент NaN 0.0 %\n",
      "-------------------------\n",
      "rougher.output.tail_ag |кол-во строк 19439 | кол-во NaN 1 | процент NaN 0.01 %\n",
      "-------------------------\n",
      "rougher.output.tail_pb |кол-во строк 19439 | кол-во NaN 0 | процент NaN 0.0 %\n",
      "-------------------------\n",
      "rougher.output.tail_sol |кол-во строк 19439 | кол-во NaN 0 | процент NaN 0.0 %\n",
      "-------------------------\n",
      "rougher.output.tail_au |кол-во строк 19439 | кол-во NaN 0 | процент NaN 0.0 %\n",
      "-------------------------\n",
      "rougher.state.floatbank10_a_air |кол-во строк 19439 | кол-во NaN 1 | процент NaN 0.01 %\n",
      "-------------------------\n",
      "rougher.state.floatbank10_a_level |кол-во строк 19439 | кол-во NaN 1 | процент NaN 0.01 %\n",
      "-------------------------\n",
      "rougher.state.floatbank10_b_air |кол-во строк 19439 | кол-во NaN 1 | процент NaN 0.01 %\n",
      "-------------------------\n",
      "rougher.state.floatbank10_b_level |кол-во строк 19439 | кол-во NaN 1 | процент NaN 0.01 %\n",
      "-------------------------\n",
      "rougher.state.floatbank10_c_air |кол-во строк 19439 | кол-во NaN 1 | процент NaN 0.01 %\n",
      "-------------------------\n",
      "rougher.state.floatbank10_c_level |кол-во строк 19439 | кол-во NaN 1 | процент NaN 0.01 %\n",
      "-------------------------\n",
      "rougher.state.floatbank10_d_air |кол-во строк 19439 | кол-во NaN 0 | процент NaN 0.0 %\n",
      "-------------------------\n",
      "rougher.state.floatbank10_d_level |кол-во строк 19439 | кол-во NaN 0 | процент NaN 0.0 %\n",
      "-------------------------\n",
      "rougher.state.floatbank10_e_air |кол-во строк 19439 | кол-во NaN 436 | процент NaN 2.24 %\n",
      "-------------------------\n",
      "rougher.state.floatbank10_e_level |кол-во строк 19439 | кол-во NaN 0 | процент NaN 0.0 %\n",
      "-------------------------\n",
      "rougher.state.floatbank10_f_air |кол-во строк 19439 | кол-во NaN 0 | процент NaN 0.0 %\n",
      "-------------------------\n",
      "rougher.state.floatbank10_f_level |кол-во строк 19439 | кол-во NaN 0 | процент NaN 0.0 %\n",
      "-------------------------\n",
      "secondary_cleaner.output.tail_ag |кол-во строк 19439 | кол-во NaN 2 | процент NaN 0.01 %\n",
      "-------------------------\n",
      "secondary_cleaner.output.tail_pb |кол-во строк 19439 | кол-во NaN 12 | процент NaN 0.06 %\n",
      "-------------------------\n",
      "secondary_cleaner.output.tail_sol |кол-во строк 19439 | кол-во NaN 1748 | процент NaN 8.99 %\n",
      "-------------------------\n",
      "secondary_cleaner.output.tail_au |кол-во строк 19439 | кол-во NaN 0 | процент NaN 0.0 %\n",
      "-------------------------\n",
      "secondary_cleaner.state.floatbank2_a_air |кол-во строк 19439 | кол-во NaN 220 | процент NaN 1.13 %\n",
      "-------------------------\n",
      "secondary_cleaner.state.floatbank2_a_level |кол-во строк 19439 | кол-во NaN 1 | процент NaN 0.01 %\n",
      "-------------------------\n",
      "secondary_cleaner.state.floatbank2_b_air |кол-во строк 19439 | кол-во NaN 23 | процент NaN 0.12 %\n",
      "-------------------------\n",
      "secondary_cleaner.state.floatbank2_b_level |кол-во строк 19439 | кол-во NaN 1 | процент NaN 0.01 %\n",
      "-------------------------\n",
      "secondary_cleaner.state.floatbank3_a_air |кол-во строк 19439 | кол-во NaN 13 | процент NaN 0.07 %\n",
      "-------------------------\n",
      "secondary_cleaner.state.floatbank3_a_level |кол-во строк 19439 | кол-во NaN 1 | процент NaN 0.01 %\n",
      "-------------------------\n",
      "secondary_cleaner.state.floatbank3_b_air |кол-во строк 19439 | кол-во NaN 1 | процент NaN 0.01 %\n",
      "-------------------------\n",
      "secondary_cleaner.state.floatbank3_b_level |кол-во строк 19439 | кол-во NaN 1 | процент NaN 0.01 %\n",
      "-------------------------\n",
      "secondary_cleaner.state.floatbank4_a_air |кол-во строк 19439 | кол-во NaN 6 | процент NaN 0.03 %\n",
      "-------------------------\n",
      "secondary_cleaner.state.floatbank4_a_level |кол-во строк 19439 | кол-во NaN 1 | процент NaN 0.01 %\n",
      "-------------------------\n",
      "secondary_cleaner.state.floatbank4_b_air |кол-во строк 19439 | кол-во NaN 1 | процент NaN 0.01 %\n",
      "-------------------------\n",
      "secondary_cleaner.state.floatbank4_b_level |кол-во строк 19439 | кол-во NaN 1 | процент NaN 0.01 %\n",
      "-------------------------\n",
      "secondary_cleaner.state.floatbank5_a_air |кол-во строк 19439 | кол-во NaN 1 | процент NaN 0.01 %\n",
      "-------------------------\n",
      "secondary_cleaner.state.floatbank5_a_level |кол-во строк 19439 | кол-во NaN 1 | процент NaN 0.01 %\n",
      "-------------------------\n",
      "secondary_cleaner.state.floatbank5_b_air |кол-во строк 19439 | кол-во NaN 1 | процент NaN 0.01 %\n",
      "-------------------------\n",
      "secondary_cleaner.state.floatbank5_b_level |кол-во строк 19439 | кол-во NaN 1 | процент NaN 0.01 %\n",
      "-------------------------\n",
      "secondary_cleaner.state.floatbank6_a_air |кол-во строк 19439 | кол-во NaN 2 | процент NaN 0.01 %\n",
      "-------------------------\n",
      "secondary_cleaner.state.floatbank6_a_level |кол-во строк 19439 | кол-во NaN 1 | процент NaN 0.01 %\n"
     ]
    }
   ],
   "source": [
    "check_data(data_full)"
   ]
  },
  {
   "cell_type": "markdown",
   "metadata": {},
   "source": [
    "### Проверка качества данных\n"
   ]
  },
  {
   "cell_type": "markdown",
   "metadata": {},
   "source": [
    "#### Расчет эффективность обогащения."
   ]
  },
  {
   "cell_type": "code",
   "execution_count": 7,
   "metadata": {},
   "outputs": [
    {
     "name": "stdout",
     "output_type": "stream",
     "text": [
      "0    87.107763\n",
      "1    86.843261\n",
      "2    86.842308\n",
      "3    87.226430\n",
      "4    86.688794\n",
      "dtype: float64\n",
      "MAE =  9.73512347450521e-15\n"
     ]
    }
   ],
   "source": [
    "target_recovery=data_train['rougher.output.recovery'].dropna()\n",
    "#target_recovery=target_recovery.loc[target_recovery>0]\n",
    "c_recovery= data_train['rougher.output.concentrate_au'].dropna()\n",
    "f_recovery= data_train['rougher.input.feed_au'].dropna()\n",
    "t_recovery= data_train['rougher.output.tail_au'].dropna()\n",
    "predict_recovery=(c_recovery*(f_recovery-t_recovery))/(f_recovery*(c_recovery-t_recovery)) *100\n",
    "#predict_recovery=predict_recovery.loc[predict_recovery>0]\n",
    "\n",
    "print(predict_recovery.head())\n",
    "mae=mean_absolute_error(target_recovery, predict_recovery)\n",
    "print('MAE = ',mae)"
   ]
  },
  {
   "cell_type": "code",
   "execution_count": 8,
   "metadata": {},
   "outputs": [
    {
     "data": {
      "image/png": "[encoded data removed]",
      "text/plain": [
       "<Figure size 1152x360 with 1 Axes>"
      ]
     },
     "metadata": {
      "needs_background": "light"
     },
     "output_type": "display_data"
    }
   ],
   "source": [
    "plt.figure(figsize=(16,5))\n",
    "plt.hist(predict_recovery, bins=1000, alpha=0.5, label='predict_recovery')\n",
    "plt.hist(target_recovery, bins=1000, alpha=0.5, label='target_recovery')\n",
    "plt.legend(loc='upper right')\n",
    "plt.show()"
   ]
  },
  {
   "cell_type": "markdown",
   "metadata": {},
   "source": [
    "<b> Выводы: </b> Расчет эффективности обогащения произведен верно. Графики распределения совпали а MAE к нулю."
   ]
  },
  {
   "cell_type": "markdown",
   "metadata": {},
   "source": [
    "<div class=\"alert alert-success\"> ✅ \n",
    "<h3> Комментарий ревьюера v1</h3>\n",
    "\n",
    "Верно, полученное значение оказалось в достаточной степени маленьким, чтобы можно было утверждать о правильности рассчёта.\n",
    "\n"
   ]
  },
  {
   "cell_type": "code",
   "execution_count": 9,
   "metadata": {},
   "outputs": [
    {
     "data": {
      "text/plain": [
       "['final.output.recovery',\n",
       " 'final.output.tail_sol',\n",
       " 'final.output.tail_ag',\n",
       " 'final.output.concentrate_sol',\n",
       " 'final.output.concentrate_au',\n",
       " 'rougher.output.concentrate_au',\n",
       " 'primary_cleaner.output.tail_sol',\n",
       " 'secondary_cleaner.output.tail_ag',\n",
       " 'primary_cleaner.output.concentrate_sol',\n",
       " 'primary_cleaner.output.tail_au',\n",
       " 'primary_cleaner.output.tail_pb',\n",
       " 'rougher.output.tail_ag',\n",
       " 'primary_cleaner.output.concentrate_pb',\n",
       " 'final.output.concentrate_pb',\n",
       " 'rougher.calculation.floatbank11_sulfate_to_au_feed',\n",
       " 'rougher.output.tail_pb',\n",
       " 'secondary_cleaner.output.tail_sol',\n",
       " 'rougher.output.concentrate_pb',\n",
       " 'rougher.output.tail_sol',\n",
       " 'rougher.output.recovery',\n",
       " 'final.output.tail_pb',\n",
       " 'primary_cleaner.output.concentrate_au',\n",
       " 'rougher.calculation.floatbank10_sulfate_to_au_feed',\n",
       " 'rougher.output.concentrate_ag',\n",
       " 'primary_cleaner.output.tail_ag',\n",
       " 'secondary_cleaner.output.tail_pb',\n",
       " 'rougher.output.tail_au',\n",
       " 'rougher.calculation.au_pb_ratio',\n",
       " 'secondary_cleaner.output.tail_au',\n",
       " 'final.output.tail_au',\n",
       " 'rougher.calculation.sulfate_to_au_concentrate',\n",
       " 'rougher.output.concentrate_sol',\n",
       " 'final.output.concentrate_ag',\n",
       " 'primary_cleaner.output.concentrate_ag']"
      ]
     },
     "execution_count": 9,
     "metadata": {},
     "output_type": "execute_result"
    }
   ],
   "source": [
    "def srav_column(list1,list2):\n",
    "    list3=list(set(list1)-set(list2))  \n",
    "    return list3\n",
    "\n",
    "srav_column(data_train.columns,data_test.columns)"
   ]
  },
  {
   "cell_type": "markdown",
   "metadata": {},
   "source": [
    "Выше приведен список полей отсутсвующих в тестовой выборке. В основном это поля описывающие параметры продукта (output) полученнтого на разных стадиях. Так же есть поля отвечающие за расчетные характеристики(calculation).\n",
    "\n",
    "Для моделирования целевого признака \"эффективность обогащения чернового концентрата\" (rougher.output.recovery), будем использовать все признаки начинающиеся с \"rougher.\" из тестовой выборки.  \n",
    "Для моделирования целевого признака \"эффективность обогащения финального концентрата\" (final.output.recovery),возьмам все поля доступные в тестовой выборку.\n",
    "ТАже из всех выборок удалим поле data , строки с NAN "
   ]
  },
  {
   "cell_type": "markdown",
   "metadata": {},
   "source": [
    "<div class=\"alert alert-success\"> ✅ \n",
    "<h3> Комментарий ревьюера v1</h3>\n",
    "\n",
    "Правильно, нельзя обучать на признаках, которые затем не будут доступны на тестах\n"
   ]
  },
  {
   "cell_type": "code",
   "execution_count": 10,
   "metadata": {},
   "outputs": [],
   "source": [
    "data_train=data_train.drop('date', axis=1)\n",
    "data_test=data_test.drop('date', axis=1)"
   ]
  },
  {
   "cell_type": "markdown",
   "metadata": {},
   "source": [
    "<div class=\"alert alert-success\"> ✅ \n",
    "<h3> Комментарий ревьюера v1</h3>\n",
    "\n",
    "Верное решение по обработке пропусков, в признаках их не много. Все наблюдения представляют собой последовательные измерения, заполнить пропуски можно методами pandas: ffill/ bfill/ interpolate , это вполне уместно.\n",
    "Хочу посоветовать тебе статью, которая рассматривает разные способы обработки пропусков, выделяет их плюсы и минусы, думаю, тебе может быть интересно: https://loginom.ru/blog/missing\n",
    "\n"
   ]
  },
  {
   "cell_type": "code",
   "execution_count": 11,
   "metadata": {
    "scrolled": true
   },
   "outputs": [
    {
     "name": "stdout",
     "output_type": "stream",
     "text": [
      "<class 'pandas.core.frame.DataFrame'>\n",
      "Int64Index: 12741 entries, 0 to 14148\n",
      "Data columns (total 34 columns):\n",
      " #   Column                                              Non-Null Count  Dtype  \n",
      "---  ------                                              --------------  -----  \n",
      " 0   rougher.calculation.floatbank10_sulfate_to_au_feed  12741 non-null  float64\n",
      " 1   rougher.calculation.floatbank11_sulfate_to_au_feed  12741 non-null  float64\n",
      " 2   rougher.calculation.au_pb_ratio                     12741 non-null  float64\n",
      " 3   rougher.input.feed_ag                               12741 non-null  float64\n",
      " 4   rougher.input.feed_pb                               12741 non-null  float64\n",
      " 5   rougher.input.feed_rate                             12741 non-null  float64\n",
      " 6   rougher.input.feed_size                             12741 non-null  float64\n",
      " 7   rougher.input.feed_sol                              12741 non-null  float64\n",
      " 8   rougher.input.feed_au                               12741 non-null  float64\n",
      " 9   rougher.input.floatbank10_sulfate                   12741 non-null  float64\n",
      " 10  rougher.input.floatbank10_xanthate                  12741 non-null  float64\n",
      " 11  rougher.input.floatbank11_sulfate                   12741 non-null  float64\n",
      " 12  rougher.input.floatbank11_xanthate                  12741 non-null  float64\n",
      " 13  rougher.output.concentrate_ag                       12741 non-null  float64\n",
      " 14  rougher.output.concentrate_pb                       12741 non-null  float64\n",
      " 15  rougher.output.concentrate_sol                      12741 non-null  float64\n",
      " 16  rougher.output.concentrate_au                       12741 non-null  float64\n",
      " 17  rougher.output.recovery                             12741 non-null  float64\n",
      " 18  rougher.output.tail_ag                              12741 non-null  float64\n",
      " 19  rougher.output.tail_pb                              12741 non-null  float64\n",
      " 20  rougher.output.tail_sol                             12741 non-null  float64\n",
      " 21  rougher.output.tail_au                              12741 non-null  float64\n",
      " 22  rougher.state.floatbank10_a_air                     12741 non-null  float64\n",
      " 23  rougher.state.floatbank10_a_level                   12741 non-null  float64\n",
      " 24  rougher.state.floatbank10_b_air                     12741 non-null  float64\n",
      " 25  rougher.state.floatbank10_b_level                   12741 non-null  float64\n",
      " 26  rougher.state.floatbank10_c_air                     12741 non-null  float64\n",
      " 27  rougher.state.floatbank10_c_level                   12741 non-null  float64\n",
      " 28  rougher.state.floatbank10_d_air                     12741 non-null  float64\n",
      " 29  rougher.state.floatbank10_d_level                   12741 non-null  float64\n",
      " 30  rougher.state.floatbank10_e_air                     12741 non-null  float64\n",
      " 31  rougher.state.floatbank10_e_level                   12741 non-null  float64\n",
      " 32  rougher.state.floatbank10_f_air                     12741 non-null  float64\n",
      " 33  rougher.state.floatbank10_f_level                   12741 non-null  float64\n",
      "dtypes: float64(34)\n",
      "memory usage: 3.4 MB\n"
     ]
    }
   ],
   "source": [
    "\n",
    "data_train_rougher=data_train.iloc[:,30:64]\n",
    "data_train_rougher=data_train_rougher.loc[data_train_rougher['rougher.output.recovery']>0]\n",
    "data_train_rougher=data_train_rougher.dropna()\n",
    "\n",
    "data_train_rougher.info()"
   ]
  },
  {
   "cell_type": "code",
   "execution_count": 12,
   "metadata": {
    "scrolled": true
   },
   "outputs": [
    {
     "name": "stdout",
     "output_type": "stream",
     "text": [
      "<class 'pandas.core.frame.DataFrame'>\n",
      "Int64Index: 12679 entries, 0 to 14148\n",
      "Data columns (total 52 columns):\n",
      " #   Column                                      Non-Null Count  Dtype  \n",
      "---  ------                                      --------------  -----  \n",
      " 0   primary_cleaner.input.sulfate               12679 non-null  float64\n",
      " 1   primary_cleaner.input.depressant            12679 non-null  float64\n",
      " 2   primary_cleaner.input.feed_size             12679 non-null  float64\n",
      " 3   primary_cleaner.input.xanthate              12679 non-null  float64\n",
      " 4   primary_cleaner.state.floatbank8_a_air      12679 non-null  float64\n",
      " 5   primary_cleaner.state.floatbank8_a_level    12679 non-null  float64\n",
      " 6   primary_cleaner.state.floatbank8_b_air      12679 non-null  float64\n",
      " 7   primary_cleaner.state.floatbank8_b_level    12679 non-null  float64\n",
      " 8   primary_cleaner.state.floatbank8_c_air      12679 non-null  float64\n",
      " 9   primary_cleaner.state.floatbank8_c_level    12679 non-null  float64\n",
      " 10  primary_cleaner.state.floatbank8_d_air      12679 non-null  float64\n",
      " 11  primary_cleaner.state.floatbank8_d_level    12679 non-null  float64\n",
      " 12  rougher.input.feed_ag                       12679 non-null  float64\n",
      " 13  rougher.input.feed_pb                       12679 non-null  float64\n",
      " 14  rougher.input.feed_rate                     12679 non-null  float64\n",
      " 15  rougher.input.feed_size                     12679 non-null  float64\n",
      " 16  rougher.input.feed_sol                      12679 non-null  float64\n",
      " 17  rougher.input.feed_au                       12679 non-null  float64\n",
      " 18  rougher.input.floatbank10_sulfate           12679 non-null  float64\n",
      " 19  rougher.input.floatbank10_xanthate          12679 non-null  float64\n",
      " 20  rougher.input.floatbank11_sulfate           12679 non-null  float64\n",
      " 21  rougher.input.floatbank11_xanthate          12679 non-null  float64\n",
      " 22  rougher.state.floatbank10_a_air             12679 non-null  float64\n",
      " 23  rougher.state.floatbank10_a_level           12679 non-null  float64\n",
      " 24  rougher.state.floatbank10_b_air             12679 non-null  float64\n",
      " 25  rougher.state.floatbank10_b_level           12679 non-null  float64\n",
      " 26  rougher.state.floatbank10_c_air             12679 non-null  float64\n",
      " 27  rougher.state.floatbank10_c_level           12679 non-null  float64\n",
      " 28  rougher.state.floatbank10_d_air             12679 non-null  float64\n",
      " 29  rougher.state.floatbank10_d_level           12679 non-null  float64\n",
      " 30  rougher.state.floatbank10_e_air             12679 non-null  float64\n",
      " 31  rougher.state.floatbank10_e_level           12679 non-null  float64\n",
      " 32  rougher.state.floatbank10_f_air             12679 non-null  float64\n",
      " 33  rougher.state.floatbank10_f_level           12679 non-null  float64\n",
      " 34  secondary_cleaner.state.floatbank2_a_air    12679 non-null  float64\n",
      " 35  secondary_cleaner.state.floatbank2_a_level  12679 non-null  float64\n",
      " 36  secondary_cleaner.state.floatbank2_b_air    12679 non-null  float64\n",
      " 37  secondary_cleaner.state.floatbank2_b_level  12679 non-null  float64\n",
      " 38  secondary_cleaner.state.floatbank3_a_air    12679 non-null  float64\n",
      " 39  secondary_cleaner.state.floatbank3_a_level  12679 non-null  float64\n",
      " 40  secondary_cleaner.state.floatbank3_b_air    12679 non-null  float64\n",
      " 41  secondary_cleaner.state.floatbank3_b_level  12679 non-null  float64\n",
      " 42  secondary_cleaner.state.floatbank4_a_air    12679 non-null  float64\n",
      " 43  secondary_cleaner.state.floatbank4_a_level  12679 non-null  float64\n",
      " 44  secondary_cleaner.state.floatbank4_b_air    12679 non-null  float64\n",
      " 45  secondary_cleaner.state.floatbank4_b_level  12679 non-null  float64\n",
      " 46  secondary_cleaner.state.floatbank5_a_air    12679 non-null  float64\n",
      " 47  secondary_cleaner.state.floatbank5_a_level  12679 non-null  float64\n",
      " 48  secondary_cleaner.state.floatbank5_b_air    12679 non-null  float64\n",
      " 49  secondary_cleaner.state.floatbank5_b_level  12679 non-null  float64\n",
      " 50  secondary_cleaner.state.floatbank6_a_air    12679 non-null  float64\n",
      " 51  secondary_cleaner.state.floatbank6_a_level  12679 non-null  float64\n",
      "dtypes: float64(52)\n",
      "memory usage: 5.1 MB\n"
     ]
    }
   ],
   "source": [
    "\n",
    "data_test.columns\n",
    "data_train_final=data_train.loc[:,data_test.columns]\n",
    "srav_column(data_train_final,data_test.columns)\n",
    "data_train_final=data_train_final.dropna()\n",
    "data_train_final.info()\n"
   ]
  },
  {
   "cell_type": "markdown",
   "metadata": {},
   "source": [
    "<b>Выводы:</b>  \n",
    "В процессе подготовки данных были созданы две обучающие выборки в которых были:  \n",
    "1) удалено поле data.  \n",
    "2) удалены NAN в конечных выборках, тем самы минимизировались потери в выборке.  \n",
    "3) в выборке для rougher убраны нулевые значения по целевому признаку, так как данные строки нулевые по всем столбцам и являются мусором."
   ]
  },
  {
   "cell_type": "markdown",
   "metadata": {},
   "source": [
    "## Анализ данных"
   ]
  },
  {
   "cell_type": "markdown",
   "metadata": {},
   "source": [
    "### Концентрация на этапах"
   ]
  },
  {
   "cell_type": "code",
   "execution_count": 13,
   "metadata": {},
   "outputs": [],
   "source": [
    "\n",
    "def concentrate(source):\n",
    "    \n",
    "    concentrate_ag=data_train[source+'.output.concentrate_ag']\n",
    "    concentrate_au=data_train[source+'.output.concentrate_au']\n",
    "    concentrate_pb=data_train[source+'.output.concentrate_pb']\n",
    "    plt.figure(figsize=(15,5))\n",
    "    plt.hist(concentrate_ag, bins=500, alpha=0.5, label='concentrate_ag', color='silver')\n",
    "    plt.hist(concentrate_au, bins=500, alpha=0.5, label='concentrate_au', color='gold')\n",
    "    plt.hist(concentrate_pb, bins=500, alpha=0.5, label='concentrate_pb', color='plum')\n",
    "    plt.legend(loc='upper right')\n",
    "    plt.title(source, fontsize=14, loc=\"left\", pad=10)\n",
    "    plt.show()\n"
   ]
  },
  {
   "cell_type": "code",
   "execution_count": 14,
   "metadata": {},
   "outputs": [
    {
     "data": {
      "image/png": "[encoded data removed]",
      "text/plain": [
       "<Figure size 1080x360 with 1 Axes>"
      ]
     },
     "metadata": {
      "needs_background": "light"
     },
     "output_type": "display_data"
    },
    {
     "data": {
      "image/png": "[encoded data removed]",
      "text/plain": [
       "<Figure size 1080x360 with 1 Axes>"
      ]
     },
     "metadata": {
      "needs_background": "light"
     },
     "output_type": "display_data"
    },
    {
     "data": {
      "image/png": "[encoded data removed]",
      "text/plain": [
       "<Figure size 1080x360 with 1 Axes>"
      ]
     },
     "metadata": {
      "needs_background": "light"
     },
     "output_type": "display_data"
    }
   ],
   "source": [
    "\n",
    "concentrate('rougher')\n",
    "concentrate('primary_cleaner')\n",
    "concentrate('final')"
   ]
  },
  {
   "cell_type": "markdown",
   "metadata": {},
   "source": [
    "<b>Выводы:</b>  \n",
    "Концентрация золота на каждом этапе возрастает соответсвует технологическом процессу.  \n",
    "Концентрация снижежаеться, ято  так же не протеворечи процессу и подчеркивает, то  что конечной целью  являеться золото а не серебро.  \n",
    "Концентрация свинца повышаеться на этапе первичной очистки. На этапе 2 изменений не наблюдаеться.\n"
   ]
  },
  {
   "cell_type": "markdown",
   "metadata": {},
   "source": [
    "### Размер гранул"
   ]
  },
  {
   "cell_type": "code",
   "execution_count": 15,
   "metadata": {},
   "outputs": [
    {
     "data": {
      "image/png": "[encoded data removed]",
      "text/plain": [
       "<Figure size 1080x360 with 1 Axes>"
      ]
     },
     "metadata": {
      "needs_background": "light"
     },
     "output_type": "display_data"
    },
    {
     "data": {
      "image/png": "[encoded data removed]",
      "text/plain": [
       "<Figure size 1080x360 with 1 Axes>"
      ]
     },
     "metadata": {
      "needs_background": "light"
     },
     "output_type": "display_data"
    }
   ],
   "source": [
    "feed_size_train=data_train['rougher.input.feed_size']\n",
    "feed_size_test=data_test['rougher.input.feed_size']\n",
    "rougher_feed_size=data_train['rougher.input.feed_size']\n",
    "plt.figure(figsize=(15,5))\n",
    "plt.hist(feed_size_train, bins=500, alpha=0.5, label='Размер гранул в обучающей выборке', color='darkgrey',density=True)\n",
    "plt.hist(feed_size_test, bins=500, alpha=0.5, label='Размер гранул в тестовой выборке', color='deeppink',density=True)\n",
    "plt.legend(loc='upper right')\n",
    "plt.title('Размеры гранул rougher', fontsize=14, loc=\"left\")\n",
    "plt.xlim(0,150)\n",
    "plt.show()\n",
    "\n",
    "feed_size_train=data_train['primary_cleaner.input.feed_size']\n",
    "feed_size_test=data_test['primary_cleaner.input.feed_size']\n",
    "\n",
    "plt.figure(figsize=(15,5))\n",
    "plt.hist(feed_size_train, bins=500, alpha=0.5, label='Размер гранул в обучающей выборке', color='darkgrey',density=True)\n",
    "plt.hist(feed_size_test, bins=500, alpha=0.5, label='Размер гранул в тестовой выборке', color='deeppink',density=True)\n",
    "plt.legend(loc='upper right')\n",
    "plt.title('Размеры гранул primary_cleaner', fontsize=14, loc=\"left\")\n",
    "plt.xlim(4,10)\n",
    "plt.show()"
   ]
  },
  {
   "cell_type": "markdown",
   "metadata": {},
   "source": [
    "<b>Выводы:</b>  Размер гранул на этапе Флотации имеет нормальное распределение со смещением в лево.  Для первого этапа очиски характерно семитричное распределение размера гранул.   "
   ]
  },
  {
   "cell_type": "markdown",
   "metadata": {},
   "source": [
    "<div class=\"alert alert-warning\"> ⚠️\n",
    "<h3> Комментарий ревьюера v1</h3>\n",
    "\n",
    "Да, они действительно похожи. Только было бы корректнее строить гистограммы не с абсолютными значениями, а с относительными, так как количество данных в train/test датасетах отличается. Например, с помощью sns.distplot или же просто добавить `density=True` в параметры `plt.hist()`.\n",
    "\n",
    "\n",
    "Кстати, если тут провести ttest для этих выборок, то он скажет, что средние сильно отличаются и эти выборки из разных ГС. Но тут уже ничего не поделать, придется у заказчиков просить новые данные.\n",
    "<div style='color:blue '> \n",
    "<h4> Комментарий студента</h4>\n",
    "  Добавил `density=True`  \n",
    "    </div> "
   ]
  },
  {
   "cell_type": "markdown",
   "metadata": {},
   "source": [
    "### Суммарная концентрация веществ"
   ]
  },
  {
   "cell_type": "code",
   "execution_count": 16,
   "metadata": {},
   "outputs": [
    {
     "data": {
      "image/png": "[encoded data removed]",
      "text/plain": [
       "<Figure size 1080x360 with 1 Axes>"
      ]
     },
     "metadata": {
      "needs_background": "light"
     },
     "output_type": "display_data"
    }
   ],
   "source": [
    "concentrate_rougher=data_train['rougher.input.feed_ag']+data_train['rougher.input.feed_au']+data_train['rougher.input.feed_pb']+data_train['rougher.input.feed_sol']\n",
    "concentrate_primary_cleaner=data_train['rougher.output.concentrate_ag']+data_train['rougher.output.concentrate_au']+data_train['rougher.output.concentrate_pb']+data_train['rougher.output.concentrate_sol']\n",
    "concentrate_final=data_train['final.output.concentrate_ag']+data_train['final.output.concentrate_au']+data_train['final.output.concentrate_pb']+data_train['final.output.concentrate_sol']\n",
    "plt.figure(figsize=(15,5))\n",
    "plt.hist(concentrate_rougher, bins=500, alpha=0.5, label='сырье', color='indigo')\n",
    "plt.hist(concentrate_primary_cleaner, bins=500, alpha=0.5, label='черновой концентрат', color='tomato')\n",
    "plt.hist(concentrate_final, bins=500, alpha=0.5, label='финальный концентрат', color='lime')\n",
    "plt.legend(loc='upper right')\n",
    "plt.title('Суммарная концентрация веществ', fontsize=14, loc=\"left\", pad=10)\n",
    "plt.show()\n"
   ]
  },
  {
   "cell_type": "markdown",
   "metadata": {},
   "source": [
    "<div class=\"alert alert-danger\"> ❌\n",
    "<h3> Комментарий ревьюера v1</h3>\n",
    "\n",
    "В задании требуется следующее: Исследуйте суммарную концентрацию всех веществ на разных стадиях: в сырье, в черновом и финальном концентратах.\n",
    "    \n",
    "\n",
    "в сырье — это столбец rougher.input.feed_\n",
    "\n",
    "в черновом концентрате - это столбец rougher.output.concentrate_\n",
    "\n",
    "в финальном концентрате - это столбец final.output.concentrate_ ",
    "\n",
    "    <div style='color:blue '> \n",
    "<h4> Комментарий студента</h4>\n",
    " Выбрал правильные меры, перестроил график  \n",
    "    </div> \n"
   ]
  },
  {
   "cell_type": "markdown",
   "metadata": {},
   "source": [
    "<div class=\"alert alert-success\"> ✅ \n",
    "<h3> Комментарий ревьюера v2</h3>\n",
    "\n",
    "👍"
   ]
  },
  {
   "cell_type": "markdown",
   "metadata": {},
   "source": [
    "<b>Выводы:</b> На всех этапах присутсвуют анамальные значения нулевой концентрация.  \n",
    "    Необходимо очисти обучающую выборку от 0-вых значений. \n",
    "    "
   ]
  },
  {
   "cell_type": "markdown",
   "metadata": {},
   "source": [
    "<div class=\"alert alert-success\"> ✅ \n",
    "<h3> Комментарий ревьюера v1</h3>\n",
    "\n",
    "Все верно, такие выбросы маловероятны, лучше их убрать.\n"
   ]
  },
  {
   "cell_type": "markdown",
   "metadata": {},
   "source": [
    "## Модель"
   ]
  },
  {
   "cell_type": "markdown",
   "metadata": {},
   "source": [
    "### Функция вычисления sMAPE"
   ]
  },
  {
   "cell_type": "code",
   "execution_count": 37,
   "metadata": {},
   "outputs": [],
   "source": [
    "def FsMAPE (recovery_target_r,recovery_predict_r,recovery_target_f,recovery_predict_f):\n",
    "    sMape_r=1/len(recovery_target_r)*sum(abs(recovery_target_r-recovery_predict_r)*2/(abs(recovery_target_r)+abs(recovery_predict_r)))*100\n",
    "    sMape_f=1/len(recovery_target_f)*sum(abs(recovery_target_f-recovery_predict_f)*2/(abs(recovery_target_f)+abs(recovery_predict_f)))*100\n",
    "    smare=0.25*sMape_r+0.75*sMape_f\n",
    "    print('sMAPE = {:.2f}'.format(smare))\n",
    "def sMAPE(target,predict):\n",
    "    marks = np.mean(abs(target - predict)/((abs(target)+abs(predict))/2))*100\n",
    "    return marks\n",
    "    "
   ]
  },
  {
   "cell_type": "markdown",
   "metadata": {},
   "source": [
    "### Подготовка выборок"
   ]
  },
  {
   "cell_type": "code",
   "execution_count": 18,
   "metadata": {
    "scrolled": true
   },
   "outputs": [
    {
     "name": "stdout",
     "output_type": "stream",
     "text": [
      "<class 'pandas.core.frame.DataFrame'>\n",
      "Int64Index: 12741 entries, 0 to 14148\n",
      "Data columns (total 22 columns):\n",
      " #   Column                              Non-Null Count  Dtype  \n",
      "---  ------                              --------------  -----  \n",
      " 0   rougher.input.feed_ag               12741 non-null  float64\n",
      " 1   rougher.input.feed_pb               12741 non-null  float64\n",
      " 2   rougher.input.feed_rate             12741 non-null  float64\n",
      " 3   rougher.input.feed_size             12741 non-null  float64\n",
      " 4   rougher.input.feed_sol              12741 non-null  float64\n",
      " 5   rougher.input.feed_au               12741 non-null  float64\n",
      " 6   rougher.input.floatbank10_sulfate   12741 non-null  float64\n",
      " 7   rougher.input.floatbank10_xanthate  12741 non-null  float64\n",
      " 8   rougher.input.floatbank11_sulfate   12741 non-null  float64\n",
      " 9   rougher.input.floatbank11_xanthate  12741 non-null  float64\n",
      " 10  rougher.state.floatbank10_a_air     12741 non-null  float64\n",
      " 11  rougher.state.floatbank10_a_level   12741 non-null  float64\n",
      " 12  rougher.state.floatbank10_b_air     12741 non-null  float64\n",
      " 13  rougher.state.floatbank10_b_level   12741 non-null  float64\n",
      " 14  rougher.state.floatbank10_c_air     12741 non-null  float64\n",
      " 15  rougher.state.floatbank10_c_level   12741 non-null  float64\n",
      " 16  rougher.state.floatbank10_d_air     12741 non-null  float64\n",
      " 17  rougher.state.floatbank10_d_level   12741 non-null  float64\n",
      " 18  rougher.state.floatbank10_e_air     12741 non-null  float64\n",
      " 19  rougher.state.floatbank10_e_level   12741 non-null  float64\n",
      " 20  rougher.state.floatbank10_f_air     12741 non-null  float64\n",
      " 21  rougher.state.floatbank10_f_level   12741 non-null  float64\n",
      "dtypes: float64(22)\n",
      "memory usage: 2.2 MB\n",
      "<class 'pandas.core.frame.DataFrame'>\n",
      "Int64Index: 5244 entries, 0 to 5289\n",
      "Data columns (total 22 columns):\n",
      " #   Column                              Non-Null Count  Dtype  \n",
      "---  ------                              --------------  -----  \n",
      " 0   rougher.input.feed_ag               5244 non-null   float64\n",
      " 1   rougher.input.feed_pb               5244 non-null   float64\n",
      " 2   rougher.input.feed_rate             5244 non-null   float64\n",
      " 3   rougher.input.feed_size             5244 non-null   float64\n",
      " 4   rougher.input.feed_sol              5244 non-null   float64\n",
      " 5   rougher.input.feed_au               5244 non-null   float64\n",
      " 6   rougher.input.floatbank10_sulfate   5244 non-null   float64\n",
      " 7   rougher.input.floatbank10_xanthate  5244 non-null   float64\n",
      " 8   rougher.input.floatbank11_sulfate   5244 non-null   float64\n",
      " 9   rougher.input.floatbank11_xanthate  5244 non-null   float64\n",
      " 10  rougher.state.floatbank10_a_air     5244 non-null   float64\n",
      " 11  rougher.state.floatbank10_a_level   5244 non-null   float64\n",
      " 12  rougher.state.floatbank10_b_air     5244 non-null   float64\n",
      " 13  rougher.state.floatbank10_b_level   5244 non-null   float64\n",
      " 14  rougher.state.floatbank10_c_air     5244 non-null   float64\n",
      " 15  rougher.state.floatbank10_c_level   5244 non-null   float64\n",
      " 16  rougher.state.floatbank10_d_air     5244 non-null   float64\n",
      " 17  rougher.state.floatbank10_d_level   5244 non-null   float64\n",
      " 18  rougher.state.floatbank10_e_air     5244 non-null   float64\n",
      " 19  rougher.state.floatbank10_e_level   5244 non-null   float64\n",
      " 20  rougher.state.floatbank10_f_air     5244 non-null   float64\n",
      " 21  rougher.state.floatbank10_f_level   5244 non-null   float64\n",
      "dtypes: float64(22)\n",
      "memory usage: 942.3 KB\n",
      "5244\n"
     ]
    }
   ],
   "source": [
    "# уберем строки нулевой концентрации из data_train_rougher\n",
    "data_train_rougher=data_train_rougher.loc[(data_train['rougher.output.concentrate_ag']+data_train['rougher.output.concentrate_au']+data_train['rougher.output.concentrate_pb']+data_train['rougher.output.concentrate_sol'])>0]\n",
    "recovery_target_r = data_train_rougher['rougher.output.recovery']\n",
    "data_train_rougher=data_train_rougher.drop(set(srav_column(data_train_rougher.columns,data_test.columns)),axis=1)\n",
    "data_train_rougher.info()\n",
    "data_test_rougher=data_test.drop(set(srav_column(data_test.columns,data_train_rougher.columns)),axis=1)\n",
    "data_test_rougher=data_test_rougher.dropna()\n",
    "data_test_rougher.info()\n",
    "recovery_target_r_test=data_full.loc[data_test_rougher.index,'rougher.output.recovery']\n",
    "print(recovery_target_r_test.count())"
   ]
  },
  {
   "cell_type": "code",
   "execution_count": 19,
   "metadata": {
    "scrolled": true
   },
   "outputs": [
    {
     "name": "stdout",
     "output_type": "stream",
     "text": [
      "<class 'pandas.core.frame.DataFrame'>\n",
      "Int64Index: 12450 entries, 0 to 14148\n",
      "Data columns (total 52 columns):\n",
      " #   Column                                      Non-Null Count  Dtype  \n",
      "---  ------                                      --------------  -----  \n",
      " 0   primary_cleaner.input.sulfate               12450 non-null  float64\n",
      " 1   primary_cleaner.input.depressant            12450 non-null  float64\n",
      " 2   primary_cleaner.input.feed_size             12450 non-null  float64\n",
      " 3   primary_cleaner.input.xanthate              12450 non-null  float64\n",
      " 4   primary_cleaner.state.floatbank8_a_air      12450 non-null  float64\n",
      " 5   primary_cleaner.state.floatbank8_a_level    12450 non-null  float64\n",
      " 6   primary_cleaner.state.floatbank8_b_air      12450 non-null  float64\n",
      " 7   primary_cleaner.state.floatbank8_b_level    12450 non-null  float64\n",
      " 8   primary_cleaner.state.floatbank8_c_air      12450 non-null  float64\n",
      " 9   primary_cleaner.state.floatbank8_c_level    12450 non-null  float64\n",
      " 10  primary_cleaner.state.floatbank8_d_air      12450 non-null  float64\n",
      " 11  primary_cleaner.state.floatbank8_d_level    12450 non-null  float64\n",
      " 12  rougher.input.feed_ag                       12450 non-null  float64\n",
      " 13  rougher.input.feed_pb                       12450 non-null  float64\n",
      " 14  rougher.input.feed_rate                     12450 non-null  float64\n",
      " 15  rougher.input.feed_size                     12450 non-null  float64\n",
      " 16  rougher.input.feed_sol                      12450 non-null  float64\n",
      " 17  rougher.input.feed_au                       12450 non-null  float64\n",
      " 18  rougher.input.floatbank10_sulfate           12450 non-null  float64\n",
      " 19  rougher.input.floatbank10_xanthate          12450 non-null  float64\n",
      " 20  rougher.input.floatbank11_sulfate           12450 non-null  float64\n",
      " 21  rougher.input.floatbank11_xanthate          12450 non-null  float64\n",
      " 22  rougher.state.floatbank10_a_air             12450 non-null  float64\n",
      " 23  rougher.state.floatbank10_a_level           12450 non-null  float64\n",
      " 24  rougher.state.floatbank10_b_air             12450 non-null  float64\n",
      " 25  rougher.state.floatbank10_b_level           12450 non-null  float64\n",
      " 26  rougher.state.floatbank10_c_air             12450 non-null  float64\n",
      " 27  rougher.state.floatbank10_c_level           12450 non-null  float64\n",
      " 28  rougher.state.floatbank10_d_air             12450 non-null  float64\n",
      " 29  rougher.state.floatbank10_d_level           12450 non-null  float64\n",
      " 30  rougher.state.floatbank10_e_air             12450 non-null  float64\n",
      " 31  rougher.state.floatbank10_e_level           12450 non-null  float64\n",
      " 32  rougher.state.floatbank10_f_air             12450 non-null  float64\n",
      " 33  rougher.state.floatbank10_f_level           12450 non-null  float64\n",
      " 34  secondary_cleaner.state.floatbank2_a_air    12450 non-null  float64\n",
      " 35  secondary_cleaner.state.floatbank2_a_level  12450 non-null  float64\n",
      " 36  secondary_cleaner.state.floatbank2_b_air    12450 non-null  float64\n",
      " 37  secondary_cleaner.state.floatbank2_b_level  12450 non-null  float64\n",
      " 38  secondary_cleaner.state.floatbank3_a_air    12450 non-null  float64\n",
      " 39  secondary_cleaner.state.floatbank3_a_level  12450 non-null  float64\n",
      " 40  secondary_cleaner.state.floatbank3_b_air    12450 non-null  float64\n",
      " 41  secondary_cleaner.state.floatbank3_b_level  12450 non-null  float64\n",
      " 42  secondary_cleaner.state.floatbank4_a_air    12450 non-null  float64\n",
      " 43  secondary_cleaner.state.floatbank4_a_level  12450 non-null  float64\n",
      " 44  secondary_cleaner.state.floatbank4_b_air    12450 non-null  float64\n",
      " 45  secondary_cleaner.state.floatbank4_b_level  12450 non-null  float64\n",
      " 46  secondary_cleaner.state.floatbank5_a_air    12450 non-null  float64\n",
      " 47  secondary_cleaner.state.floatbank5_a_level  12450 non-null  float64\n",
      " 48  secondary_cleaner.state.floatbank5_b_air    12450 non-null  float64\n",
      " 49  secondary_cleaner.state.floatbank5_b_level  12450 non-null  float64\n",
      " 50  secondary_cleaner.state.floatbank6_a_air    12450 non-null  float64\n",
      " 51  secondary_cleaner.state.floatbank6_a_level  12450 non-null  float64\n",
      "dtypes: float64(52)\n",
      "memory usage: 5.0 MB\n",
      "<class 'pandas.core.frame.DataFrame'>\n",
      "Int64Index: 5229 entries, 0 to 5289\n",
      "Data columns (total 52 columns):\n",
      " #   Column                                      Non-Null Count  Dtype  \n",
      "---  ------                                      --------------  -----  \n",
      " 0   primary_cleaner.input.sulfate               5229 non-null   float64\n",
      " 1   primary_cleaner.input.depressant            5229 non-null   float64\n",
      " 2   primary_cleaner.input.feed_size             5229 non-null   float64\n",
      " 3   primary_cleaner.input.xanthate              5229 non-null   float64\n",
      " 4   primary_cleaner.state.floatbank8_a_air      5229 non-null   float64\n",
      " 5   primary_cleaner.state.floatbank8_a_level    5229 non-null   float64\n",
      " 6   primary_cleaner.state.floatbank8_b_air      5229 non-null   float64\n",
      " 7   primary_cleaner.state.floatbank8_b_level    5229 non-null   float64\n",
      " 8   primary_cleaner.state.floatbank8_c_air      5229 non-null   float64\n",
      " 9   primary_cleaner.state.floatbank8_c_level    5229 non-null   float64\n",
      " 10  primary_cleaner.state.floatbank8_d_air      5229 non-null   float64\n",
      " 11  primary_cleaner.state.floatbank8_d_level    5229 non-null   float64\n",
      " 12  rougher.input.feed_ag                       5229 non-null   float64\n",
      " 13  rougher.input.feed_pb                       5229 non-null   float64\n",
      " 14  rougher.input.feed_rate                     5229 non-null   float64\n",
      " 15  rougher.input.feed_size                     5229 non-null   float64\n",
      " 16  rougher.input.feed_sol                      5229 non-null   float64\n",
      " 17  rougher.input.feed_au                       5229 non-null   float64\n",
      " 18  rougher.input.floatbank10_sulfate           5229 non-null   float64\n",
      " 19  rougher.input.floatbank10_xanthate          5229 non-null   float64\n",
      " 20  rougher.input.floatbank11_sulfate           5229 non-null   float64\n",
      " 21  rougher.input.floatbank11_xanthate          5229 non-null   float64\n",
      " 22  rougher.state.floatbank10_a_air             5229 non-null   float64\n",
      " 23  rougher.state.floatbank10_a_level           5229 non-null   float64\n",
      " 24  rougher.state.floatbank10_b_air             5229 non-null   float64\n",
      " 25  rougher.state.floatbank10_b_level           5229 non-null   float64\n",
      " 26  rougher.state.floatbank10_c_air             5229 non-null   float64\n",
      " 27  rougher.state.floatbank10_c_level           5229 non-null   float64\n",
      " 28  rougher.state.floatbank10_d_air             5229 non-null   float64\n",
      " 29  rougher.state.floatbank10_d_level           5229 non-null   float64\n",
      " 30  rougher.state.floatbank10_e_air             5229 non-null   float64\n",
      " 31  rougher.state.floatbank10_e_level           5229 non-null   float64\n",
      " 32  rougher.state.floatbank10_f_air             5229 non-null   float64\n",
      " 33  rougher.state.floatbank10_f_level           5229 non-null   float64\n",
      " 34  secondary_cleaner.state.floatbank2_a_air    5229 non-null   float64\n",
      " 35  secondary_cleaner.state.floatbank2_a_level  5229 non-null   float64\n",
      " 36  secondary_cleaner.state.floatbank2_b_air    5229 non-null   float64\n",
      " 37  secondary_cleaner.state.floatbank2_b_level  5229 non-null   float64\n",
      " 38  secondary_cleaner.state.floatbank3_a_air    5229 non-null   float64\n",
      " 39  secondary_cleaner.state.floatbank3_a_level  5229 non-null   float64\n",
      " 40  secondary_cleaner.state.floatbank3_b_air    5229 non-null   float64\n",
      " 41  secondary_cleaner.state.floatbank3_b_level  5229 non-null   float64\n",
      " 42  secondary_cleaner.state.floatbank4_a_air    5229 non-null   float64\n",
      " 43  secondary_cleaner.state.floatbank4_a_level  5229 non-null   float64\n",
      " 44  secondary_cleaner.state.floatbank4_b_air    5229 non-null   float64\n",
      " 45  secondary_cleaner.state.floatbank4_b_level  5229 non-null   float64\n",
      " 46  secondary_cleaner.state.floatbank5_a_air    5229 non-null   float64\n",
      " 47  secondary_cleaner.state.floatbank5_a_level  5229 non-null   float64\n",
      " 48  secondary_cleaner.state.floatbank5_b_air    5229 non-null   float64\n",
      " 49  secondary_cleaner.state.floatbank5_b_level  5229 non-null   float64\n",
      " 50  secondary_cleaner.state.floatbank6_a_air    5229 non-null   float64\n",
      " 51  secondary_cleaner.state.floatbank6_a_level  5229 non-null   float64\n",
      "dtypes: float64(52)\n",
      "memory usage: 2.1 MB\n"
     ]
    }
   ],
   "source": [
    "# уберем строки нулевой концентрации из data_train_rougher\n",
    "data_train_final=data_train.loc[(data_train['rougher.output.concentrate_ag']+data_train['rougher.output.concentrate_au']+data_train['rougher.output.concentrate_pb']+data_train['rougher.output.concentrate_sol'])>0]\n",
    "data_train_final=data_train.loc[(data_train['primary_cleaner.output.concentrate_ag']+data_train['primary_cleaner.output.concentrate_au']+data_train['primary_cleaner.output.concentrate_pb']+data_train['primary_cleaner.output.concentrate_sol'])>0]\n",
    "data_train_final=data_train.loc[(data_train['final.output.concentrate_ag']+data_train['final.output.concentrate_au']+data_train['final.output.concentrate_pb']+data_train['final.output.concentrate_sol'])>0]\n",
    "\n",
    "\n",
    "recovery_target_f=data_train_final['final.output.recovery']\n",
    "data_train_final=data_train_final.drop(set(srav_column(data_train_final.columns,data_test.columns)),axis=1)\n",
    "\n",
    "data_test_final=data_test.drop(set(srav_column(data_test.columns,data_train_final.columns)),axis=1)\n",
    "data_train_final=data_train_final.dropna()\n",
    "recovery_target_f=recovery_target_f.loc[data_train_final.index]\n",
    "data_train_final.info()\n",
    "data_test_final=data_test_final.dropna()\n",
    "data_test_final.info()\n",
    "recovery_target_f_test=data_full.loc[data_test_final.index,'final.output.recovery']"
   ]
  },
  {
   "cell_type": "markdown",
   "metadata": {},
   "source": [
    "<div class=\"alert alert-warning\"> ⚠️\n",
    "<h3> Комментарий ревьюера v1</h3>\n",
    "\n",
    "Для линейной регрессии лучше масштабировать признаки, хотя конкретно в этой задаче, насколько я помню, это особо ничего не поменяет.\n",
    "\n",
    "Масштабирование в основном нужно в алгоритмах, основанных на \"расстоянии между признаками\" (Евклидово расстояние). И еще нейронные сети требуют масштабирования для быстрой сходимости. Случайный лес - это модель, основанная на дереве, и, следовательно, не требует масштабирования объектов. Этот алгоритм требует разбиения на разделы, даже если ты применишь нормализацию, то в целом результат будет таким же.\n",
    "\n",
    "Вот статья хорошая по методам масштабирования и их применению для разных случаев:\n",
    "\n",
    "https://www.atoti.io/articles/when-to-perform-a-feature-scaling/#:~:text=Just%20to%20give%20you%20an,(0%2C1)%20depending%20on\n"
   ]
  },
  {
   "cell_type": "code",
   "execution_count": 20,
   "metadata": {},
   "outputs": [
    {
     "name": "stdout",
     "output_type": "stream",
     "text": [
      "(9555, 22) (3186, 22)\n",
      "(9337, 52) (3113, 52)\n"
     ]
    }
   ],
   "source": [
    "features_r_train, features_r_valid, target_r_train, target_r_valid= train_test_split(data_train_rougher,recovery_target_r, train_size=0.75, random_state=101810)\n",
    "print(features_r_train.shape, features_r_valid.shape)\n",
    "features_f_train, features_f_valid, target_f_train, target_f_valid= train_test_split(data_train_final,recovery_target_f, train_size=0.75, random_state=101810)\n",
    "print(features_f_train.shape, features_f_valid.shape)"
   ]
  },
  {
   "cell_type": "markdown",
   "metadata": {},
   "source": [
    "### Модель линейной регресии и Дерева. Определение кросс-валидации"
   ]
  },
  {
   "cell_type": "code",
   "execution_count": 52,
   "metadata": {},
   "outputs": [
    {
     "name": "stdout",
     "output_type": "stream",
     "text": [
      "sMAPE LinearRegression_rougher  = -6.26\n",
      "sMAPE LinearRegression_final  = -10.06\n",
      "sMAPE DecisionTreeRegressor_rougher  = -8.34\n",
      "sMAPE DecisionTreeRegressor_final  = -17.33\n"
     ]
    }
   ],
   "source": [
    "\n",
    "features_r = data_train_rougher\n",
    "target_r=recovery_target_r\n",
    "model = LinearRegression()\n",
    "\n",
    "features_f = data_train_final\n",
    "target_f=recovery_target_f\n",
    "\n",
    "model.fit(features_r,target_r)\n",
    "score_r = cross_val_score(model, features_r, target_r,scoring=smape_scorer,cv=5)\n",
    "print('sMAPE LinearRegression_rougher  = {:.2f}'.format(sum((score_r))/len(score_r)))\n",
    "model.fit(features_f,target_f)\n",
    "score_f = cross_val_score(model, features_f, target_f,scoring=smape_scorer, cv=5)\n",
    "print('sMAPE LinearRegression_final  = {:.2f}'.format(sum((score_f))/len(score_f)))\n",
    "\n",
    "model = DecisionTreeRegressor(random_state=101810)\n",
    "model.fit(features_r,target_r)\n",
    "score_rd = cross_val_score(model, features_r, target_r,scoring=smape_scorer,cv=5)\n",
    "print('sMAPE DecisionTreeRegressor_rougher  = {:.2f}'.format(sum((score_rd))/len(score_rd)))\n",
    "\n",
    "model.fit(features_f,target_f)\n",
    "score_fd = cross_val_score(model, features_f, target_f,scoring=smape_scorer,cv=5)\n",
    "print('sMAPE DecisionTreeRegressor_final  = {:.2f}'.format(sum((score_fd))/len(score_fd)))\n"
   ]
  },
  {
   "cell_type": "code",
   "execution_count": 31,
   "metadata": {},
   "outputs": [
    {
     "data": {
      "image/png": "[encoded data removed]",
      "text/plain": [
       "<Figure size 1080x360 with 1 Axes>"
      ]
     },
     "metadata": {
      "needs_background": "light"
     },
     "output_type": "display_data"
    }
   ],
   "source": [
    "data = {'target_r': recovery_target_r_test, 'predict_r':recovery_predict_r}\n",
    "data_r = pd.DataFrame(data, columns = ['target_r', 'predict_r'] )\n",
    "data_r=data_r.loc[data_r['target_r']>0]\n",
    "data = {'target_f': recovery_target_f_test, 'predict_f':recovery_predict_f}\n",
    "data_f = pd.DataFrame(data, columns = ['target_f', 'predict_f'] )\n",
    "data_f=data_f.loc[data_f['target_f']>0]\n",
    "plt.figure(figsize=(15,5))\n",
    "plt.hist( data_r['target_r'], bins=500, alpha=0.5, label='recovery_target_r_test')\n",
    "plt.hist(data_r['predict_r'], bins=500, alpha=1, label='recovery_predict_r')\n",
    "plt.hist(data_f['target_f'], bins=500, alpha=0.5, label='recovery_target_f_test')\n",
    "plt.hist(data_f['predict_f'], bins=500, alpha=0.5, label='recovery_predict_f')\n",
    "plt.legend(loc='upper right')\n",
    "plt.show()"
   ]
  },
  {
   "cell_type": "markdown",
   "metadata": {},
   "source": [
    "<div class=\"alert alert-danger\"> ❌\n",
    "<h3> Комментарий ревьюера v1</h3>\n",
    "\n",
    "Суть задания заключается в использовании кросс-валидации. Здесь же ты обучаешь на тренировочных данных и сразу делаешь проверку на тестах. Нужно с помощью валидационной выборки подобрать лучшие гиперпараметры, и только затем тестировать на тестовых данных, никак их не используя до этого момента.\n",
    "       <div style='color:blue '> \n",
    "<h4> Комментарий студента</h4>\n",
    " Какие гиперпараметры нужно подобрать Линейной регрессии?  \n",
    "           \n",
    "Добавил оценку по кросс-валидации  \n",
    "           Выводы: Модель линейной регрессии показывает меньшую ошибку.\n",
    "    </div> "
   ]
  },
  {
   "cell_type": "markdown",
   "metadata": {},
   "source": [
    "<div class=\"alert alert-success\"> ✅ \n",
    "<h3> Комментарий ревьюера v2</h3>\n",
    "\n",
    "Для линейной регрессии можно не подбирать. Это не связано с кросс-валидацией)"
   ]
  },
  {
   "cell_type": "markdown",
   "metadata": {},
   "source": [
    "<div class=\"alert alert-warning\"> ⚠️\n",
    "<h3> Комментарий ревьюера v1</h3>\n",
    "\n",
    "Можно было использовать библиотечную функцию cross_val_score через make_scorer:\n",
    "    \n",
    "В `cross_val_score` есть параметр `scoring`, туда можно было написать `smape`, чтобы работать именно с этой метрикой. Выглядело бы это примерно так:\n",
    "    \n",
    "`from sklearn.metrics import make_scorer`\n",
    "    \n",
    "`from sklearn.model_selection import cross_val_score`\n",
    "   \n",
    "`smape_scorer = make_scorer(sMAPE, greater_is_better=False)`\n",
    "    \n",
    "`score = cross_val_score(model, features_train, target_train, scoring=smape_scorer, cv=5).mean()`\n",
    "    \n",
    "greater_is_better=False означает, что мы минимизируем метрику (дефолтно она максимизирует), так как используем функцию потерь.\n",
    "    \n",
    "Немного про кастомный скоринг и `greater_is_better=False`: вот очень хорошая статья - https://kiwidamien.github.io/custom-loss-vs-custom-scoring.html\n",
    "    \n",
    "Если кратко, то твой результат при использовании cross_val_score со своей метрикой и флагом `greater_is_better=False` остается таким же, только с отрицательным значением (знак минус - особенность библиотечной реализации скорера, можно брать значения по модулю), так как есть метрика (по которой мы выбираем модель) и есть лосс (по которой обучается модель). Так вот make_scorer создает метрику из лосса, по которой ты выбираешь лучшую модель, но сама модель будет обучаться по встроенной функции потерь (скорее всего MSE), так что это нужно только для выбора модели. Просто принято ставить флаг greater_is_better=False для метрик, которые являются лоссами (не все метрики лоссы, например, recall, precision и тп).\n",
    "    \n",
    "НО если ты используешься гридсерч, то `greater_is_better=False` нужно указывать обязательно, так как best_estimator_ выбирает лучшую модель по метрике уже самостоятельно =)"
   ]
  },
  {
   "cell_type": "markdown",
   "metadata": {},
   "source": [
    "### Модель дерева подбор гипер параметра. (не использую дальше)"
   ]
  },
  {
   "cell_type": "code",
   "execution_count": null,
   "metadata": {
    "scrolled": true
   },
   "outputs": [],
   "source": [
    "for depth in range(1, 50):\n",
    "    model = DecisionTreeRegressor(random_state=101810, max_depth=depth)\n",
    "    model.fit(features_r_train, target_r_train)\n",
    "    predictions_r_valid = model.predict(features_r_valid)\n",
    "    print(\"max_depth =\", depth, \": \", end='')\n",
    "    print( mean_squared_error(target_r_valid, predictions_r_valid))\n",
    "for depth in range(1, 50):\n",
    "    model = DecisionTreeRegressor(random_state=101810, max_depth=depth)\n",
    "    model.fit(features_f_train, target_f_train)\n",
    "    predictions_f_valid = model.predict(features_f_valid)\n",
    "    print(\"max_depth =\", depth, \": \", end='')\n",
    "    print( mean_squared_error(target_f_valid, predictions_f_valid))"
   ]
  },
  {
   "cell_type": "code",
   "execution_count": 50,
   "metadata": {},
   "outputs": [
    {
     "data": {
      "image/png": "[encoded data removed]",
      "text/plain": [
       "<Figure size 1080x360 with 1 Axes>"
      ]
     },
     "metadata": {
      "needs_background": "light"
     },
     "output_type": "display_data"
    }
   ],
   "source": [
    "r_max_depth=13\n",
    "f_max_depth=7\n",
    "\n",
    "model = DecisionTreeRegressor(random_state=101810, max_depth=r_max_depth)\n",
    "model.fit(features_r,target_r)\n",
    "recovery_predict_r = model.predict(data_test_rougher)\n",
    "\n",
    "data = {'target_r': recovery_target_r_test, 'predict_r':recovery_predict_r}\n",
    "data_r = pd.DataFrame(data, columns = ['target_r', 'predict_r'] )\n",
    "data_r=data_r.loc[data_r['target_r']>0]\n",
    "\n",
    "model = DecisionTreeRegressor(random_state=101810, max_depth=f_max_depth)\n",
    "model.fit(features_f,target_f)\n",
    "recovery_predict_f = model.predict(data_test_final)\n",
    "\n",
    "data = {'target_f': recovery_target_f_test, 'predict_f':recovery_predict_f}\n",
    "data_f = pd.DataFrame(data, columns = ['target_f', 'predict_f'] )\n",
    "data_f=data_f.loc[data_f['target_f']>0]\n",
    "plt.figure(figsize=(15,5))\n",
    "plt.hist( data_r['target_r'], bins=500, alpha=0.5, label='recovery_target_r_test')\n",
    "plt.hist(data_r['predict_r'], bins=500, alpha=1, label='recovery_predict_r')\n",
    "plt.hist(data_f['target_f'], bins=500, alpha=0.5, label='recovery_target_f_test')\n",
    "plt.hist(data_f['predict_f'], bins=500, alpha=0.5, label='recovery_predict_f')\n",
    "plt.legend(loc='upper right')\n",
    "plt.show()\n"
   ]
  },
  {
   "cell_type": "markdown",
   "metadata": {},
   "source": [
    "<div class=\"alert alert-danger\"> ❌\n",
    "<h3> Комментарий ревьюера v1</h3>\n",
    "\n",
    "Для подбора гиперпараметров рекомендую использовать гридсерч (или его аналоги), там тоже есть параметр scoring, куда можно приравнять свой скорер с метрикой (не забудь про флаг greater_is_better). Конечно, можно перебрать и в цикле, но такой код получится сильно короче и понятнее.\n",
    "    \n",
    "PS Обычный GridSearchCV довольно долго делает расчеты, так как проверяет все комбинации. На практике обычно какие-то параметры сильно важнее других, поэтому по ним нет особого смысла итерироваться, поэтому рекомендую использовать RandomizedSearchCV.\n",
    "\n",
    "<div style='color:blue '> \n",
    "<h4> Комментарий студента</h4>\n",
    " Произвел рачет максимальной губины для двух моделей\n",
    "    </div> "
   ]
  },
  {
   "cell_type": "markdown",
   "metadata": {},
   "source": [
    "### Расчет модели линейной регресси на тестовой выборке"
   ]
  },
  {
   "cell_type": "code",
   "execution_count": 49,
   "metadata": {},
   "outputs": [
    {
     "name": "stdout",
     "output_type": "stream",
     "text": [
      "sMAPE = 12.51\n"
     ]
    }
   ],
   "source": [
    "features_r = data_train_rougher\n",
    "features_r_test=data_test_rougher\n",
    "target_r=recovery_target_r\n",
    "\n",
    "model = LinearRegression()\n",
    "model.fit(features_r,target_r)\n",
    "recovery_predict_r = model.predict(data_test_rougher)\n",
    "\n",
    "features_f = data_train_final\n",
    "features_f_test=data_test_final\n",
    "target_f=recovery_target_f\n",
    "model = LinearRegression()\n",
    "model.fit(features_f,target_f)\n",
    "recovery_predict_f = model.predict(data_test_final)\n",
    "FsMAPE(recovery_target_r_test,recovery_predict_r,recovery_target_f_test,recovery_predict_f)"
   ]
  },
  {
   "cell_type": "code",
   "execution_count": 51,
   "metadata": {},
   "outputs": [
    {
     "name": "stdout",
     "output_type": "stream",
     "text": [
      "sMAPE константной модели = 11.36\n"
     ]
    }
   ],
   "source": [
    "dummy_regr = DummyRegressor(strategy=\"median\")\n",
    "dummy_regr.fit(features_r,target_r)\n",
    "recovery_const=dummy_regr.predict(features_r)\n",
    "recovery_const=pd.Series(recovery_const)\n",
    "recovery_const=recovery_const.loc[recovery_target_r_test.index]\n",
    "\n",
    "dummy_regr.fit(features_f,target_f)\n",
    "final_const=dummy_regr.predict(features_f)\n",
    "final_const=pd.Series(final_const)\n",
    "final_const=final_const.loc[recovery_target_f_test.index]\n",
    "def FsMAPE2 (recovery_target_r,recovery_predict_r,recovery_target_f,recovery_predict_f):   \n",
    "    smape_r=1/len(recovery_target_r)*sum(abs(recovery_target_r-recovery_predict_r)*2/(abs(recovery_target_r)+abs(recovery_predict_r)))*100\n",
    "    smape_f=1/len(recovery_target_f)*sum(abs(recovery_target_f-recovery_predict_f)*2/(abs(recovery_target_f)+abs(recovery_predict_f)))*100\n",
    "    smare=0.25*smape_r+0.75*smape_f\n",
    "    #print(smape_r)\n",
    "    #print(smape_f)\n",
    "    print('sMAPE константной модели = {:.2f}'.format(smare))\n",
    "    \n",
    "FsMAPE2(recovery_target_r_test,recovery_const,recovery_target_f_test,final_const)"
   ]
  },
  {
   "cell_type": "markdown",
   "metadata": {},
   "source": [
    "<div class=\"alert alert-danger\"> ❌\n",
    "<h3> Комментарий ревьюера v1</h3>\n",
    "\n",
    "Желательно сравнить с константной моделью, например с DummyRegressor. Из одного значения метрики не ясно, насколько адекватны предсказания моделей\n",
    "    <div style='color:blue '> \n",
    "<h4> Комментарий студента</h4>\n",
    "Рассчитал константную модель используя  DummyRegressor\n",
    "    </div> \n"
   ]
  },
  {
   "cell_type": "markdown",
   "metadata": {},
   "source": [
    "<b>Выводы:</b>  \n",
    "Были обучены две модели линей регрессии и дерево решений. По кросс валидации меньшую ошибку показала модель Линейной регрессии, которую мы взяли как основную. На расчете по тестовой выборке она показала sMAPE =12,5 что выше константной модели.  \n",
    "\n",
    "Тем самым мы можем признать что  данная модель качественней предсказывает  результат, чем усредненные значения по  медиане.\n"
   ]
  },
  {
   "cell_type": "markdown",
   "metadata": {},
   "source": [
    "<div class=\"alert alert-danger\"> ❌\n",
    "<h3> Комментарий ревьюера v1</h3>\n",
    "\n",
    "Очень не хорошего общего вывода. В выводах можно приводить полученные ранее значения. Также можно расписать все, что было сделано в ходе проведения работы."
   ]
  },
  {
   "cell_type": "markdown",
   "metadata": {},
   "source": [
    "\n",
    "<div class=\"alert alert-warning\"> ⚠️\n",
    "<h3> Комментарий ревьюера v1</h3>\n",
    "\n",
    "Я бы для такой задачки еще использовал catboost. Советую почитать-поразбираться, как эта штука запускается. Примерно так же, как рандом форест, на самом деле. И еще он может \"съесть\" категориальные фичи (например, страну и тп). Оставлю ссылочку на статью на Хабре:\n",
    "https://habr.com/ru/company/otus/blog/527554/\n",
    "\n",
    "\n",
    "Еще можно попробовать регрессионые модели с регуляризацией: Ridge, Lasso. Они отличаются только тем, что у одной модели L1, а у второй L2 регуляризация. И еще есть ElasticNet с комбинацией L1 и L2\n",
    "\n",
    "\n",
    "\n",
    "\n"
   ]
  },
  {
   "cell_type": "markdown",
   "metadata": {},
   "source": [
    "## Чек-лист готовности проекта"
   ]
  },
  {
   "cell_type": "markdown",
   "metadata": {},
   "source": [
    "- [x]  Jupyter Notebook открыт\n",
    "- [ ]  Весь код выполняется без ошибок\n",
    "- [ ]  Ячейки с кодом расположены в порядке выполнения\n",
    "- [X]  Выполнен шаг 1: данные подготовлены\n",
    "    - [X]  Проверена формула вычисления эффективности обогащения\n",
    "    - [X]  Проанализированы признаки, недоступные в тестовой выборке\n",
    "    - [X]  Проведена предобработка данных\n",
    "- [X]  Выполнен шаг 2: данные проанализированы\n",
    "    - [X]  Исследовано изменение концентрации элементов на каждом этапе\n",
    "    - [X]  Проанализированы распределения размеров гранул на обучающей и тестовой выборках\n",
    "    - [X]  Исследованы суммарные концентрации\n",
    "- [ ]  Выполнен шаг 3: построена модель прогнозирования\n",
    "    - [X]  Написана функция для вычисления итогового *sMAPE*\n",
    "    - [X]  Обучено и проверено несколько моделей\n",
    "    - [X]  Выбрана лучшая модель, её качество проверено на тестовой выборке"
   ]
  },
  {
   "cell_type": "markdown",
   "metadata": {},
   "source": [
    "<div class=\"alert alert-block alert-info\">\n",
    "<h3> Итоговый комментарий</h3>\n",
    "\n",
    "Большое спасибо за проделанную работу. Видно, что приложено много усилий в первой части работы. Работа в целом сделана хорошо. Я оставил несколько советов, надеюсь они будут учтены в этом или будущих проектах. Осталось совсем чуть-чуть, чтобы я принял твой проект:\n",
    "\n",
    "1) Выбрать верные признаки для анализа суммарных концетраций веществ\n",
    "\n",
    "2) Добавить сравнение с константной моделью\n",
    "\n",
    "3) Обучать с помощью кросс-валидации и подобрать параметры. Провести тестирование в самом конце, после подбора гиперпараметров\n",
    "    \n",
    "4) Написать общий вывод в конце\n",
    "\n",
    "Жду исправлений =)"
   ]
  },
  {
   "cell_type": "markdown",
   "metadata": {},
   "source": [
    "<div class=\"alert alert-success\"> ✅ \n",
    "<h3> Комментарий ревьюера v2</h3>\n",
    "\n",
    "Спасибо за исправления и ответные комментарии. Успехов в следующих проектах! Если остались вопросы, то можешь писать мне в слак"
   ]
  },
  {
   "cell_type": "code",
   "execution_count": null,
   "metadata": {},
   "outputs": [],
   "source": []
  }
 ],
 "metadata": {
  "ExecuteTimeLog": [
   {
    "duration": 1263,
    "start_time": "2022-06-28T07:53:15.776Z"
   },
   {
    "duration": 66,
    "start_time": "2022-06-28T12:21:29.202Z"
   },
   {
    "duration": 3,
    "start_time": "2022-06-28T12:22:03.493Z"
   },
   {
    "duration": 59,
    "start_time": "2022-06-28T12:23:55.696Z"
   },
   {
    "duration": 1557,
    "start_time": "2022-06-28T12:24:41.711Z"
   },
   {
    "duration": 671,
    "start_time": "2022-06-28T12:24:48.139Z"
   },
   {
    "duration": 801,
    "start_time": "2022-06-28T12:51:39.368Z"
   },
   {
    "duration": 804,
    "start_time": "2022-06-28T12:52:07.578Z"
   },
   {
    "duration": 778,
    "start_time": "2022-06-28T12:52:30.156Z"
   },
   {
    "duration": 1265,
    "start_time": "2022-06-28T12:52:37.118Z"
   },
   {
    "duration": 834,
    "start_time": "2022-06-28T12:52:38.386Z"
   },
   {
    "duration": 53,
    "start_time": "2022-06-28T12:53:48.743Z"
   },
   {
    "duration": 1388,
    "start_time": "2022-06-28T12:54:06.174Z"
   },
   {
    "duration": 1185,
    "start_time": "2022-06-28T12:55:27.316Z"
   },
   {
    "duration": 1019,
    "start_time": "2022-06-28T12:55:49.455Z"
   },
   {
    "duration": 1002,
    "start_time": "2022-06-28T12:57:38.639Z"
   },
   {
    "duration": 785,
    "start_time": "2022-06-28T12:58:44.319Z"
   },
   {
    "duration": 648,
    "start_time": "2022-06-28T12:59:25.446Z"
   },
   {
    "duration": 8,
    "start_time": "2022-06-28T12:59:39.765Z"
   },
   {
    "duration": 266,
    "start_time": "2022-06-28T13:00:04.191Z"
   },
   {
    "duration": 97,
    "start_time": "2022-06-28T13:00:55.943Z"
   },
   {
    "duration": 235,
    "start_time": "2022-06-28T13:01:31.656Z"
   },
   {
    "duration": 58,
    "start_time": "2022-06-28T13:03:13.600Z"
   },
   {
    "duration": 270,
    "start_time": "2022-06-28T13:03:17.498Z"
   },
   {
    "duration": 701,
    "start_time": "2022-06-28T13:03:35.039Z"
   },
   {
    "duration": 305,
    "start_time": "2022-06-28T13:03:39.092Z"
   },
   {
    "duration": 765,
    "start_time": "2022-06-28T13:05:38.198Z"
   },
   {
    "duration": 290,
    "start_time": "2022-06-28T13:05:41.243Z"
   },
   {
    "duration": 4,
    "start_time": "2022-06-28T13:44:21.153Z"
   },
   {
    "duration": 9,
    "start_time": "2022-06-28T14:03:29.989Z"
   },
   {
    "duration": 1121,
    "start_time": "2022-06-28T14:03:55.772Z"
   },
   {
    "duration": 783,
    "start_time": "2022-06-28T14:03:56.895Z"
   },
   {
    "duration": 3,
    "start_time": "2022-06-28T14:03:57.680Z"
   },
   {
    "duration": 292,
    "start_time": "2022-06-28T14:03:57.686Z"
   },
   {
    "duration": 112,
    "start_time": "2022-06-28T14:03:57.980Z"
   },
   {
    "duration": 281,
    "start_time": "2022-06-28T14:03:58.094Z"
   },
   {
    "duration": 118,
    "start_time": "2022-06-28T14:03:58.377Z"
   },
   {
    "duration": 17,
    "start_time": "2022-06-28T14:04:53.251Z"
   },
   {
    "duration": 8,
    "start_time": "2022-06-28T14:05:25.130Z"
   },
   {
    "duration": 6,
    "start_time": "2022-06-28T14:07:04.497Z"
   },
   {
    "duration": 7,
    "start_time": "2022-06-28T14:14:22.187Z"
   },
   {
    "duration": 59,
    "start_time": "2022-06-28T14:52:09.320Z"
   },
   {
    "duration": 0,
    "start_time": "2022-06-28T14:52:09.381Z"
   },
   {
    "duration": 0,
    "start_time": "2022-06-28T14:52:09.383Z"
   },
   {
    "duration": 0,
    "start_time": "2022-06-28T14:52:09.384Z"
   },
   {
    "duration": 1,
    "start_time": "2022-06-28T14:52:09.385Z"
   },
   {
    "duration": 0,
    "start_time": "2022-06-28T14:52:09.387Z"
   },
   {
    "duration": 0,
    "start_time": "2022-06-28T14:52:09.388Z"
   },
   {
    "duration": 45,
    "start_time": "2022-06-28T14:53:10.574Z"
   },
   {
    "duration": 56,
    "start_time": "2022-06-28T14:53:17.221Z"
   },
   {
    "duration": 0,
    "start_time": "2022-06-28T14:53:17.278Z"
   },
   {
    "duration": 0,
    "start_time": "2022-06-28T14:53:17.280Z"
   },
   {
    "duration": 0,
    "start_time": "2022-06-28T14:53:17.280Z"
   },
   {
    "duration": 0,
    "start_time": "2022-06-28T14:53:17.281Z"
   },
   {
    "duration": 0,
    "start_time": "2022-06-28T14:53:17.282Z"
   },
   {
    "duration": 0,
    "start_time": "2022-06-28T14:53:17.283Z"
   },
   {
    "duration": 43,
    "start_time": "2022-06-28T14:53:21.834Z"
   },
   {
    "duration": 6,
    "start_time": "2022-06-28T14:53:27.358Z"
   },
   {
    "duration": 1054,
    "start_time": "2022-06-28T14:53:37.275Z"
   },
   {
    "duration": 620,
    "start_time": "2022-06-28T14:53:38.331Z"
   },
   {
    "duration": 4,
    "start_time": "2022-06-28T14:53:38.953Z"
   },
   {
    "duration": 305,
    "start_time": "2022-06-28T14:53:38.959Z"
   },
   {
    "duration": 111,
    "start_time": "2022-06-28T14:53:39.265Z"
   },
   {
    "duration": 283,
    "start_time": "2022-06-28T14:53:39.378Z"
   },
   {
    "duration": 11,
    "start_time": "2022-06-28T14:53:39.664Z"
   },
   {
    "duration": 9,
    "start_time": "2022-06-28T14:54:43.974Z"
   },
   {
    "duration": 8,
    "start_time": "2022-06-28T14:55:18.872Z"
   },
   {
    "duration": 8,
    "start_time": "2022-06-28T14:56:13.778Z"
   },
   {
    "duration": 10,
    "start_time": "2022-06-28T14:56:22.521Z"
   },
   {
    "duration": 98,
    "start_time": "2022-06-28T14:56:40.442Z"
   },
   {
    "duration": 9,
    "start_time": "2022-06-28T14:56:49.915Z"
   },
   {
    "duration": 45,
    "start_time": "2022-06-28T20:09:14.620Z"
   },
   {
    "duration": 1446,
    "start_time": "2022-06-28T20:09:20.959Z"
   },
   {
    "duration": 1514,
    "start_time": "2022-06-28T20:09:22.407Z"
   },
   {
    "duration": 5,
    "start_time": "2022-06-28T20:09:23.923Z"
   },
   {
    "duration": 301,
    "start_time": "2022-06-28T20:09:23.930Z"
   },
   {
    "duration": 150,
    "start_time": "2022-06-28T20:09:24.232Z"
   },
   {
    "duration": 276,
    "start_time": "2022-06-28T20:09:24.384Z"
   },
   {
    "duration": 12,
    "start_time": "2022-06-28T20:09:24.661Z"
   },
   {
    "duration": 1370,
    "start_time": "2022-06-28T20:09:24.674Z"
   },
   {
    "duration": 112,
    "start_time": "2022-06-28T20:19:12.889Z"
   },
   {
    "duration": 10,
    "start_time": "2022-06-28T20:19:42.364Z"
   },
   {
    "duration": 351,
    "start_time": "2022-06-28T20:19:53.620Z"
   },
   {
    "duration": 462,
    "start_time": "2022-06-28T20:20:05.177Z"
   },
   {
    "duration": 340,
    "start_time": "2022-06-28T20:20:10.736Z"
   },
   {
    "duration": 336,
    "start_time": "2022-06-28T20:21:29.218Z"
   },
   {
    "duration": 2602,
    "start_time": "2022-06-28T20:21:40.383Z"
   },
   {
    "duration": 2676,
    "start_time": "2022-06-28T20:21:43.877Z"
   },
   {
    "duration": 64,
    "start_time": "2022-06-28T20:23:43.695Z"
   },
   {
    "duration": 9,
    "start_time": "2022-06-28T20:23:48.858Z"
   },
   {
    "duration": 2655,
    "start_time": "2022-06-28T20:24:42.923Z"
   },
   {
    "duration": 163,
    "start_time": "2022-06-28T20:26:23.758Z"
   },
   {
    "duration": 17,
    "start_time": "2022-06-28T20:29:57.157Z"
   },
   {
    "duration": 17,
    "start_time": "2022-06-28T20:31:31.992Z"
   },
   {
    "duration": 1600,
    "start_time": "2022-06-30T08:32:33.881Z"
   },
   {
    "duration": 1634,
    "start_time": "2022-06-30T08:32:35.483Z"
   },
   {
    "duration": 6,
    "start_time": "2022-06-30T08:32:37.118Z"
   },
   {
    "duration": 348,
    "start_time": "2022-06-30T08:32:37.126Z"
   },
   {
    "duration": 173,
    "start_time": "2022-06-30T08:32:37.477Z"
   },
   {
    "duration": 346,
    "start_time": "2022-06-30T08:32:37.651Z"
   },
   {
    "duration": 120,
    "start_time": "2022-06-30T08:32:38.000Z"
   },
   {
    "duration": 0,
    "start_time": "2022-06-30T08:32:38.123Z"
   },
   {
    "duration": 20,
    "start_time": "2022-06-30T08:32:56.169Z"
   },
   {
    "duration": 450,
    "start_time": "2022-06-30T08:33:02.083Z"
   },
   {
    "duration": 20,
    "start_time": "2022-06-30T08:33:23.873Z"
   },
   {
    "duration": 268,
    "start_time": "2022-06-30T08:33:27.551Z"
   },
   {
    "duration": 2976,
    "start_time": "2022-06-30T08:33:41.318Z"
   },
   {
    "duration": 2073,
    "start_time": "2022-06-30T08:34:00.326Z"
   },
   {
    "duration": 13,
    "start_time": "2022-06-30T08:34:25.911Z"
   },
   {
    "duration": 15,
    "start_time": "2022-06-30T08:34:35.593Z"
   },
   {
    "duration": 1616,
    "start_time": "2022-06-30T08:34:43.093Z"
   },
   {
    "duration": 650,
    "start_time": "2022-06-30T08:34:44.711Z"
   },
   {
    "duration": 5,
    "start_time": "2022-06-30T08:34:45.362Z"
   },
   {
    "duration": 334,
    "start_time": "2022-06-30T08:34:45.370Z"
   },
   {
    "duration": 148,
    "start_time": "2022-06-30T08:34:45.727Z"
   },
   {
    "duration": 354,
    "start_time": "2022-06-30T08:34:45.877Z"
   },
   {
    "duration": 126,
    "start_time": "2022-06-30T08:34:46.233Z"
   },
   {
    "duration": 0,
    "start_time": "2022-06-30T08:34:46.361Z"
   },
   {
    "duration": 12,
    "start_time": "2022-06-30T08:35:30.057Z"
   },
   {
    "duration": 1399,
    "start_time": "2022-06-30T08:35:41.765Z"
   },
   {
    "duration": 739,
    "start_time": "2022-06-30T08:35:43.166Z"
   },
   {
    "duration": 5,
    "start_time": "2022-06-30T08:35:43.908Z"
   },
   {
    "duration": 360,
    "start_time": "2022-06-30T08:35:43.916Z"
   },
   {
    "duration": 172,
    "start_time": "2022-06-30T08:35:44.278Z"
   },
   {
    "duration": 315,
    "start_time": "2022-06-30T08:35:44.453Z"
   },
   {
    "duration": 14,
    "start_time": "2022-06-30T08:35:44.770Z"
   },
   {
    "duration": 1590,
    "start_time": "2022-06-30T08:35:44.786Z"
   },
   {
    "duration": 144,
    "start_time": "2022-06-30T08:38:15.565Z"
   },
   {
    "duration": 15,
    "start_time": "2022-06-30T08:38:33.259Z"
   },
   {
    "duration": 14,
    "start_time": "2022-06-30T08:39:44.057Z"
   },
   {
    "duration": 1718,
    "start_time": "2022-06-30T08:40:07.438Z"
   },
   {
    "duration": 14,
    "start_time": "2022-06-30T08:40:44.551Z"
   },
   {
    "duration": 20,
    "start_time": "2022-06-30T08:42:36.909Z"
   },
   {
    "duration": 13,
    "start_time": "2022-06-30T08:43:01.227Z"
   },
   {
    "duration": 1578,
    "start_time": "2022-06-30T08:43:44.435Z"
   },
   {
    "duration": 1864,
    "start_time": "2022-06-30T08:57:00.644Z"
   },
   {
    "duration": 13,
    "start_time": "2022-06-30T08:57:28.064Z"
   },
   {
    "duration": 1921,
    "start_time": "2022-06-30T08:57:30.675Z"
   },
   {
    "duration": 15,
    "start_time": "2022-06-30T08:57:44.533Z"
   },
   {
    "duration": 3472,
    "start_time": "2022-06-30T08:58:48.924Z"
   },
   {
    "duration": 2628,
    "start_time": "2022-06-30T08:59:02.456Z"
   },
   {
    "duration": 554,
    "start_time": "2022-06-30T08:59:17.379Z"
   },
   {
    "duration": 526,
    "start_time": "2022-06-30T09:02:01.020Z"
   },
   {
    "duration": 556,
    "start_time": "2022-06-30T09:02:07.011Z"
   },
   {
    "duration": 742,
    "start_time": "2022-06-30T09:02:14.702Z"
   },
   {
    "duration": 521,
    "start_time": "2022-06-30T09:02:30.189Z"
   },
   {
    "duration": 714,
    "start_time": "2022-06-30T09:03:06.298Z"
   },
   {
    "duration": 723,
    "start_time": "2022-06-30T09:03:19.399Z"
   },
   {
    "duration": 497,
    "start_time": "2022-06-30T09:03:26.479Z"
   },
   {
    "duration": 3321,
    "start_time": "2022-06-30T09:03:35.403Z"
   },
   {
    "duration": 14,
    "start_time": "2022-06-30T09:07:13.195Z"
   },
   {
    "duration": 22,
    "start_time": "2022-06-30T09:13:41.846Z"
   },
   {
    "duration": 4336,
    "start_time": "2022-06-30T09:13:59.964Z"
   },
   {
    "duration": 22,
    "start_time": "2022-06-30T09:14:34.599Z"
   },
   {
    "duration": 19,
    "start_time": "2022-06-30T09:15:01.932Z"
   },
   {
    "duration": 4136,
    "start_time": "2022-06-30T09:15:08.173Z"
   },
   {
    "duration": 20,
    "start_time": "2022-06-30T09:15:26.388Z"
   },
   {
    "duration": 4417,
    "start_time": "2022-06-30T09:15:32.353Z"
   },
   {
    "duration": 48,
    "start_time": "2022-06-30T09:32:19.751Z"
   },
   {
    "duration": 6,
    "start_time": "2022-06-30T09:32:34.552Z"
   },
   {
    "duration": 6,
    "start_time": "2022-06-30T09:41:56.570Z"
   },
   {
    "duration": 10,
    "start_time": "2022-06-30T09:44:34.565Z"
   },
   {
    "duration": 6,
    "start_time": "2022-06-30T09:47:22.713Z"
   },
   {
    "duration": 5,
    "start_time": "2022-06-30T09:49:38.720Z"
   },
   {
    "duration": 9,
    "start_time": "2022-06-30T09:49:46.152Z"
   },
   {
    "duration": 78,
    "start_time": "2022-07-01T19:14:09.044Z"
   },
   {
    "duration": 8,
    "start_time": "2022-07-01T19:14:14.106Z"
   },
   {
    "duration": 1937,
    "start_time": "2022-07-01T19:14:19.008Z"
   },
   {
    "duration": 2316,
    "start_time": "2022-07-01T19:14:20.949Z"
   },
   {
    "duration": 6,
    "start_time": "2022-07-01T19:14:23.267Z"
   },
   {
    "duration": 417,
    "start_time": "2022-07-01T19:14:23.276Z"
   },
   {
    "duration": 182,
    "start_time": "2022-07-01T19:14:23.696Z"
   },
   {
    "duration": 383,
    "start_time": "2022-07-01T19:14:23.881Z"
   },
   {
    "duration": 18,
    "start_time": "2022-07-01T19:14:24.267Z"
   },
   {
    "duration": 4441,
    "start_time": "2022-07-01T19:14:24.287Z"
   },
   {
    "duration": 27,
    "start_time": "2022-07-01T19:14:28.730Z"
   },
   {
    "duration": 135,
    "start_time": "2022-07-01T19:14:28.759Z"
   },
   {
    "duration": 6,
    "start_time": "2022-07-01T19:18:10.615Z"
   },
   {
    "duration": 24,
    "start_time": "2022-07-01T19:22:41.759Z"
   },
   {
    "duration": 1421,
    "start_time": "2022-07-01T19:23:55.123Z"
   },
   {
    "duration": 771,
    "start_time": "2022-07-01T19:23:56.546Z"
   },
   {
    "duration": 10,
    "start_time": "2022-07-01T19:23:57.318Z"
   },
   {
    "duration": 303,
    "start_time": "2022-07-01T19:23:57.330Z"
   },
   {
    "duration": 122,
    "start_time": "2022-07-01T19:23:57.636Z"
   },
   {
    "duration": 284,
    "start_time": "2022-07-01T19:23:57.759Z"
   },
   {
    "duration": 12,
    "start_time": "2022-07-01T19:23:58.048Z"
   },
   {
    "duration": 3011,
    "start_time": "2022-07-01T19:23:58.062Z"
   },
   {
    "duration": 6,
    "start_time": "2022-07-01T19:24:01.075Z"
   },
   {
    "duration": 33,
    "start_time": "2022-07-01T19:24:01.083Z"
   },
   {
    "duration": 13,
    "start_time": "2022-07-01T19:24:12.740Z"
   },
   {
    "duration": 24,
    "start_time": "2022-07-01T19:25:18.607Z"
   },
   {
    "duration": 19,
    "start_time": "2022-07-01T19:48:17.863Z"
   },
   {
    "duration": 1473,
    "start_time": "2022-07-01T19:48:25.472Z"
   },
   {
    "duration": 1201,
    "start_time": "2022-07-01T19:48:26.950Z"
   },
   {
    "duration": 5,
    "start_time": "2022-07-01T19:48:28.153Z"
   },
   {
    "duration": 297,
    "start_time": "2022-07-01T19:48:28.160Z"
   },
   {
    "duration": 105,
    "start_time": "2022-07-01T19:48:28.460Z"
   },
   {
    "duration": 288,
    "start_time": "2022-07-01T19:48:28.579Z"
   },
   {
    "duration": 17,
    "start_time": "2022-07-01T19:48:28.869Z"
   },
   {
    "duration": 3568,
    "start_time": "2022-07-01T19:48:28.889Z"
   },
   {
    "duration": 6,
    "start_time": "2022-07-01T19:48:32.459Z"
   },
   {
    "duration": 39,
    "start_time": "2022-07-01T19:48:32.467Z"
   },
   {
    "duration": 15,
    "start_time": "2022-07-01T20:07:40.699Z"
   },
   {
    "duration": 23,
    "start_time": "2022-07-01T20:08:02.630Z"
   },
   {
    "duration": 49,
    "start_time": "2022-07-01T20:08:40.225Z"
   },
   {
    "duration": 20,
    "start_time": "2022-07-01T20:10:04.225Z"
   },
   {
    "duration": 24,
    "start_time": "2022-07-01T20:10:51.072Z"
   },
   {
    "duration": 26,
    "start_time": "2022-07-01T20:11:12.564Z"
   },
   {
    "duration": 133,
    "start_time": "2022-07-01T20:18:11.610Z"
   },
   {
    "duration": 32,
    "start_time": "2022-07-01T20:18:17.520Z"
   },
   {
    "duration": 122,
    "start_time": "2022-07-01T20:18:48.173Z"
   },
   {
    "duration": 39,
    "start_time": "2022-07-01T20:18:53.279Z"
   },
   {
    "duration": 24,
    "start_time": "2022-07-01T20:19:33.753Z"
   },
   {
    "duration": 26,
    "start_time": "2022-07-01T20:20:41.370Z"
   },
   {
    "duration": 19,
    "start_time": "2022-07-01T20:21:05.873Z"
   },
   {
    "duration": 10,
    "start_time": "2022-07-01T20:32:17.906Z"
   },
   {
    "duration": 5,
    "start_time": "2022-07-01T20:32:33.823Z"
   },
   {
    "duration": 5,
    "start_time": "2022-07-01T20:33:04.796Z"
   },
   {
    "duration": 17,
    "start_time": "2022-07-01T20:33:13.679Z"
   },
   {
    "duration": 6,
    "start_time": "2022-07-01T20:33:22.994Z"
   },
   {
    "duration": 7,
    "start_time": "2022-07-01T20:36:00.877Z"
   },
   {
    "duration": 5,
    "start_time": "2022-07-01T20:38:40.504Z"
   },
   {
    "duration": 3,
    "start_time": "2022-07-01T20:38:51.693Z"
   },
   {
    "duration": 3,
    "start_time": "2022-07-01T20:38:54.832Z"
   },
   {
    "duration": 5,
    "start_time": "2022-07-01T20:39:04.279Z"
   },
   {
    "duration": 8,
    "start_time": "2022-07-01T20:39:53.598Z"
   },
   {
    "duration": 807,
    "start_time": "2022-07-01T20:40:54.492Z"
   },
   {
    "duration": 32,
    "start_time": "2022-07-01T20:43:07.125Z"
   },
   {
    "duration": 73,
    "start_time": "2022-07-01T20:43:19.370Z"
   },
   {
    "duration": 9,
    "start_time": "2022-07-01T20:43:23.796Z"
   },
   {
    "duration": 21,
    "start_time": "2022-07-01T20:46:11.839Z"
   },
   {
    "duration": 16,
    "start_time": "2022-07-01T20:47:18.082Z"
   },
   {
    "duration": 19,
    "start_time": "2022-07-01T20:47:33.740Z"
   },
   {
    "duration": 17,
    "start_time": "2022-07-01T20:47:45.779Z"
   },
   {
    "duration": 18,
    "start_time": "2022-07-01T20:48:20.126Z"
   },
   {
    "duration": 1316,
    "start_time": "2022-07-01T20:50:37.568Z"
   },
   {
    "duration": 759,
    "start_time": "2022-07-01T20:50:38.886Z"
   },
   {
    "duration": 3,
    "start_time": "2022-07-01T20:50:39.647Z"
   },
   {
    "duration": 282,
    "start_time": "2022-07-01T20:50:39.652Z"
   },
   {
    "duration": 122,
    "start_time": "2022-07-01T20:50:39.936Z"
   },
   {
    "duration": 280,
    "start_time": "2022-07-01T20:50:40.060Z"
   },
   {
    "duration": 12,
    "start_time": "2022-07-01T20:50:40.341Z"
   },
   {
    "duration": 2840,
    "start_time": "2022-07-01T20:50:40.355Z"
   },
   {
    "duration": 5,
    "start_time": "2022-07-01T20:50:43.197Z"
   },
   {
    "duration": 8,
    "start_time": "2022-07-01T20:50:43.204Z"
   },
   {
    "duration": 32,
    "start_time": "2022-07-01T20:50:43.214Z"
   },
   {
    "duration": 119,
    "start_time": "2022-07-01T20:50:43.248Z"
   },
   {
    "duration": 18,
    "start_time": "2022-07-01T20:51:11.649Z"
   },
   {
    "duration": 1297,
    "start_time": "2022-07-01T20:51:49.150Z"
   },
   {
    "duration": 696,
    "start_time": "2022-07-01T20:51:50.449Z"
   },
   {
    "duration": 4,
    "start_time": "2022-07-01T20:51:51.147Z"
   },
   {
    "duration": 310,
    "start_time": "2022-07-01T20:51:51.153Z"
   },
   {
    "duration": 163,
    "start_time": "2022-07-01T20:51:51.466Z"
   },
   {
    "duration": 252,
    "start_time": "2022-07-01T20:51:51.631Z"
   },
   {
    "duration": 11,
    "start_time": "2022-07-01T20:51:51.884Z"
   },
   {
    "duration": 2683,
    "start_time": "2022-07-01T20:51:51.897Z"
   },
   {
    "duration": 5,
    "start_time": "2022-07-01T20:51:54.582Z"
   },
   {
    "duration": 10,
    "start_time": "2022-07-01T20:51:54.588Z"
   },
   {
    "duration": 43,
    "start_time": "2022-07-01T20:51:54.600Z"
   },
   {
    "duration": 23,
    "start_time": "2022-07-01T20:51:54.645Z"
   },
   {
    "duration": 1352,
    "start_time": "2022-07-04T10:51:26.741Z"
   },
   {
    "duration": 3011,
    "start_time": "2022-07-04T10:51:28.095Z"
   },
   {
    "duration": 3,
    "start_time": "2022-07-04T10:51:31.107Z"
   },
   {
    "duration": 243,
    "start_time": "2022-07-04T10:51:31.113Z"
   },
   {
    "duration": 102,
    "start_time": "2022-07-04T10:51:31.357Z"
   },
   {
    "duration": 257,
    "start_time": "2022-07-04T10:51:31.460Z"
   },
   {
    "duration": 10,
    "start_time": "2022-07-04T10:51:31.719Z"
   },
   {
    "duration": 2266,
    "start_time": "2022-07-04T10:51:31.731Z"
   },
   {
    "duration": 5,
    "start_time": "2022-07-04T10:51:33.998Z"
   },
   {
    "duration": 11,
    "start_time": "2022-07-04T10:51:34.004Z"
   },
   {
    "duration": 24,
    "start_time": "2022-07-04T10:51:34.016Z"
   },
   {
    "duration": 18,
    "start_time": "2022-07-04T10:51:34.042Z"
   },
   {
    "duration": 90,
    "start_time": "2022-07-04T11:40:53.665Z"
   },
   {
    "duration": 10,
    "start_time": "2022-07-04T11:41:05.403Z"
   },
   {
    "duration": 4,
    "start_time": "2022-07-04T11:41:20.847Z"
   },
   {
    "duration": 7,
    "start_time": "2022-07-04T11:41:38.420Z"
   },
   {
    "duration": 11,
    "start_time": "2022-07-04T11:41:50.995Z"
   },
   {
    "duration": 1234,
    "start_time": "2022-07-04T11:42:23.646Z"
   },
   {
    "duration": 589,
    "start_time": "2022-07-04T11:42:24.882Z"
   },
   {
    "duration": 4,
    "start_time": "2022-07-04T11:42:25.473Z"
   },
   {
    "duration": 329,
    "start_time": "2022-07-04T11:42:25.478Z"
   },
   {
    "duration": 120,
    "start_time": "2022-07-04T11:42:25.809Z"
   },
   {
    "duration": 287,
    "start_time": "2022-07-04T11:42:25.930Z"
   },
   {
    "duration": 12,
    "start_time": "2022-07-04T11:42:26.219Z"
   },
   {
    "duration": 3523,
    "start_time": "2022-07-04T11:42:26.232Z"
   },
   {
    "duration": 5,
    "start_time": "2022-07-04T11:42:29.756Z"
   },
   {
    "duration": 9,
    "start_time": "2022-07-04T11:42:29.763Z"
   },
   {
    "duration": 31,
    "start_time": "2022-07-04T11:42:29.774Z"
   },
   {
    "duration": 20,
    "start_time": "2022-07-04T11:42:29.807Z"
   },
   {
    "duration": 5,
    "start_time": "2022-07-04T11:42:29.829Z"
   },
   {
    "duration": 120,
    "start_time": "2022-07-04T11:42:29.836Z"
   },
   {
    "duration": 8,
    "start_time": "2022-07-04T11:42:44.735Z"
   },
   {
    "duration": 7,
    "start_time": "2022-07-04T11:43:20.834Z"
   },
   {
    "duration": 7,
    "start_time": "2022-07-04T11:43:34.832Z"
   },
   {
    "duration": 7,
    "start_time": "2022-07-04T11:44:51.798Z"
   },
   {
    "duration": 10,
    "start_time": "2022-07-04T11:45:21.443Z"
   },
   {
    "duration": 4,
    "start_time": "2022-07-04T11:45:57.561Z"
   },
   {
    "duration": 11,
    "start_time": "2022-07-04T11:45:59.737Z"
   },
   {
    "duration": 4,
    "start_time": "2022-07-04T11:50:19.230Z"
   },
   {
    "duration": 4,
    "start_time": "2022-07-04T11:50:35.397Z"
   },
   {
    "duration": 14,
    "start_time": "2022-07-04T11:50:37.106Z"
   },
   {
    "duration": 6,
    "start_time": "2022-07-04T11:51:58.912Z"
   },
   {
    "duration": 5,
    "start_time": "2022-07-04T11:52:01.425Z"
   },
   {
    "duration": 16,
    "start_time": "2022-07-04T11:52:04.052Z"
   },
   {
    "duration": 7,
    "start_time": "2022-07-04T11:52:24.219Z"
   },
   {
    "duration": 16,
    "start_time": "2022-07-04T11:52:27.541Z"
   },
   {
    "duration": 6,
    "start_time": "2022-07-04T11:52:32.357Z"
   },
   {
    "duration": 14,
    "start_time": "2022-07-04T11:52:35.018Z"
   },
   {
    "duration": 4,
    "start_time": "2022-07-04T11:52:56.991Z"
   },
   {
    "duration": 6,
    "start_time": "2022-07-04T11:52:59.586Z"
   },
   {
    "duration": 16,
    "start_time": "2022-07-04T11:53:01.502Z"
   },
   {
    "duration": 4,
    "start_time": "2022-07-04T11:53:25.101Z"
   },
   {
    "duration": 11,
    "start_time": "2022-07-04T11:53:27.791Z"
   },
   {
    "duration": 75,
    "start_time": "2022-07-04T11:53:39.642Z"
   },
   {
    "duration": 102,
    "start_time": "2022-07-04T11:53:46.400Z"
   },
   {
    "duration": 4,
    "start_time": "2022-07-04T11:53:55.251Z"
   },
   {
    "duration": 12,
    "start_time": "2022-07-04T11:53:57.703Z"
   },
   {
    "duration": 11,
    "start_time": "2022-07-04T11:54:25.609Z"
   },
   {
    "duration": 6,
    "start_time": "2022-07-04T11:54:38.212Z"
   },
   {
    "duration": 21,
    "start_time": "2022-07-04T11:54:40.526Z"
   },
   {
    "duration": 3,
    "start_time": "2022-07-04T11:57:41.094Z"
   },
   {
    "duration": 13,
    "start_time": "2022-07-04T11:57:41.157Z"
   },
   {
    "duration": 3,
    "start_time": "2022-07-04T11:57:46.608Z"
   },
   {
    "duration": 13,
    "start_time": "2022-07-04T11:57:48.498Z"
   },
   {
    "duration": 3,
    "start_time": "2022-07-04T12:00:19.009Z"
   },
   {
    "duration": 3,
    "start_time": "2022-07-04T12:00:21.982Z"
   },
   {
    "duration": 11,
    "start_time": "2022-07-04T12:00:24.135Z"
   },
   {
    "duration": 3,
    "start_time": "2022-07-04T12:02:19.201Z"
   },
   {
    "duration": 14,
    "start_time": "2022-07-04T12:02:21.445Z"
   },
   {
    "duration": 3,
    "start_time": "2022-07-04T12:02:34.140Z"
   },
   {
    "duration": 11,
    "start_time": "2022-07-04T12:02:36.694Z"
   },
   {
    "duration": 3,
    "start_time": "2022-07-04T12:03:32.256Z"
   },
   {
    "duration": 1336,
    "start_time": "2022-07-04T12:03:34.427Z"
   },
   {
    "duration": 69,
    "start_time": "2022-07-04T12:03:59.767Z"
   },
   {
    "duration": 1341,
    "start_time": "2022-07-04T12:04:15.139Z"
   },
   {
    "duration": 5,
    "start_time": "2022-07-04T12:04:47.938Z"
   },
   {
    "duration": 6,
    "start_time": "2022-07-04T12:04:57.126Z"
   },
   {
    "duration": 75,
    "start_time": "2022-07-04T12:05:45.629Z"
   },
   {
    "duration": 3,
    "start_time": "2022-07-04T12:06:12.621Z"
   },
   {
    "duration": 1262,
    "start_time": "2022-07-04T12:06:18.837Z"
   },
   {
    "duration": 3,
    "start_time": "2022-07-04T12:12:20.304Z"
   },
   {
    "duration": 3,
    "start_time": "2022-07-04T12:12:23.286Z"
   },
   {
    "duration": 4,
    "start_time": "2022-07-04T12:12:25.202Z"
   },
   {
    "duration": 5,
    "start_time": "2022-07-04T12:13:15.204Z"
   },
   {
    "duration": 3516,
    "start_time": "2022-07-04T12:13:17.330Z"
   },
   {
    "duration": 4,
    "start_time": "2022-07-04T12:14:03.810Z"
   },
   {
    "duration": 3976,
    "start_time": "2022-07-04T12:14:06.232Z"
   },
   {
    "duration": 4,
    "start_time": "2022-07-04T12:15:45.235Z"
   },
   {
    "duration": 3945,
    "start_time": "2022-07-04T12:15:46.917Z"
   },
   {
    "duration": 4,
    "start_time": "2022-07-04T12:17:36.896Z"
   },
   {
    "duration": 450,
    "start_time": "2022-07-04T12:17:39.400Z"
   },
   {
    "duration": 2402,
    "start_time": "2022-07-04T12:18:55.364Z"
   },
   {
    "duration": 2162,
    "start_time": "2022-07-04T12:19:56.964Z"
   },
   {
    "duration": 1573,
    "start_time": "2022-07-04T12:21:25.908Z"
   },
   {
    "duration": 5,
    "start_time": "2022-07-04T12:24:13.315Z"
   },
   {
    "duration": 6,
    "start_time": "2022-07-04T12:24:19.062Z"
   },
   {
    "duration": 1387,
    "start_time": "2022-07-04T12:24:21.220Z"
   },
   {
    "duration": 4,
    "start_time": "2022-07-04T12:24:32.303Z"
   },
   {
    "duration": 1453,
    "start_time": "2022-07-04T12:24:34.452Z"
   },
   {
    "duration": 4,
    "start_time": "2022-07-04T12:25:05.591Z"
   },
   {
    "duration": 1428,
    "start_time": "2022-07-04T12:25:07.492Z"
   },
   {
    "duration": 5,
    "start_time": "2022-07-04T12:26:57.843Z"
   },
   {
    "duration": 1467,
    "start_time": "2022-07-04T12:27:00.101Z"
   },
   {
    "duration": 5,
    "start_time": "2022-07-04T12:28:38.368Z"
   },
   {
    "duration": 5651,
    "start_time": "2022-07-04T12:28:42.097Z"
   },
   {
    "duration": 92,
    "start_time": "2022-07-04T13:19:27.730Z"
   },
   {
    "duration": 645,
    "start_time": "2022-07-04T13:19:37.466Z"
   },
   {
    "duration": 562,
    "start_time": "2022-07-04T13:20:45.226Z"
   },
   {
    "duration": 1545,
    "start_time": "2022-07-04T13:20:56.508Z"
   },
   {
    "duration": 1262,
    "start_time": "2022-07-04T13:21:45.666Z"
   },
   {
    "duration": 2494,
    "start_time": "2022-07-04T13:22:48.723Z"
   },
   {
    "duration": 2542,
    "start_time": "2022-07-04T13:23:01.703Z"
   },
   {
    "duration": 2507,
    "start_time": "2022-07-04T13:23:52.839Z"
   },
   {
    "duration": 1186,
    "start_time": "2022-07-04T13:24:50.996Z"
   },
   {
    "duration": 562,
    "start_time": "2022-07-04T13:24:52.184Z"
   },
   {
    "duration": 3,
    "start_time": "2022-07-04T13:24:52.748Z"
   },
   {
    "duration": 258,
    "start_time": "2022-07-04T13:24:52.752Z"
   },
   {
    "duration": 112,
    "start_time": "2022-07-04T13:24:53.012Z"
   },
   {
    "duration": 275,
    "start_time": "2022-07-04T13:24:53.126Z"
   },
   {
    "duration": 10,
    "start_time": "2022-07-04T13:24:53.402Z"
   },
   {
    "duration": 2338,
    "start_time": "2022-07-04T13:24:53.413Z"
   },
   {
    "duration": 4,
    "start_time": "2022-07-04T13:24:55.753Z"
   },
   {
    "duration": 36,
    "start_time": "2022-07-04T13:24:55.759Z"
   },
   {
    "duration": 25,
    "start_time": "2022-07-04T13:24:55.796Z"
   },
   {
    "duration": 22,
    "start_time": "2022-07-04T13:24:55.822Z"
   },
   {
    "duration": 4,
    "start_time": "2022-07-04T13:24:55.845Z"
   },
   {
    "duration": 5693,
    "start_time": "2022-07-04T13:24:55.852Z"
   },
   {
    "duration": 2576,
    "start_time": "2022-07-04T13:25:01.546Z"
   },
   {
    "duration": 83,
    "start_time": "2022-07-04T13:46:21.638Z"
   },
   {
    "duration": 1960,
    "start_time": "2022-07-04T13:46:46.156Z"
   },
   {
    "duration": 2262,
    "start_time": "2022-07-04T13:47:26.271Z"
   },
   {
    "duration": 1897,
    "start_time": "2022-07-04T13:57:14.598Z"
   },
   {
    "duration": 1950,
    "start_time": "2022-07-04T13:59:01.847Z"
   },
   {
    "duration": 1863,
    "start_time": "2022-07-04T13:59:20.873Z"
   },
   {
    "duration": 17,
    "start_time": "2022-07-04T14:02:05.398Z"
   },
   {
    "duration": 1173,
    "start_time": "2022-07-04T14:02:10.324Z"
   },
   {
    "duration": 574,
    "start_time": "2022-07-04T14:02:11.499Z"
   },
   {
    "duration": 4,
    "start_time": "2022-07-04T14:02:12.074Z"
   },
   {
    "duration": 251,
    "start_time": "2022-07-04T14:02:12.079Z"
   },
   {
    "duration": 111,
    "start_time": "2022-07-04T14:02:12.332Z"
   },
   {
    "duration": 248,
    "start_time": "2022-07-04T14:02:12.444Z"
   },
   {
    "duration": 110,
    "start_time": "2022-07-04T14:02:12.693Z"
   },
   {
    "duration": 0,
    "start_time": "2022-07-04T14:02:12.805Z"
   },
   {
    "duration": 0,
    "start_time": "2022-07-04T14:02:12.806Z"
   },
   {
    "duration": 0,
    "start_time": "2022-07-04T14:02:12.807Z"
   },
   {
    "duration": 0,
    "start_time": "2022-07-04T14:02:12.808Z"
   },
   {
    "duration": 0,
    "start_time": "2022-07-04T14:02:12.809Z"
   },
   {
    "duration": 0,
    "start_time": "2022-07-04T14:02:12.810Z"
   },
   {
    "duration": 0,
    "start_time": "2022-07-04T14:02:12.811Z"
   },
   {
    "duration": 0,
    "start_time": "2022-07-04T14:02:12.812Z"
   },
   {
    "duration": 0,
    "start_time": "2022-07-04T14:02:12.813Z"
   },
   {
    "duration": 1179,
    "start_time": "2022-07-04T14:04:10.205Z"
   },
   {
    "duration": 583,
    "start_time": "2022-07-04T14:04:11.386Z"
   },
   {
    "duration": 4,
    "start_time": "2022-07-04T14:04:11.970Z"
   },
   {
    "duration": 251,
    "start_time": "2022-07-04T14:04:11.975Z"
   },
   {
    "duration": 100,
    "start_time": "2022-07-04T14:04:12.228Z"
   },
   {
    "duration": 223,
    "start_time": "2022-07-04T14:04:12.330Z"
   },
   {
    "duration": 38,
    "start_time": "2022-07-04T14:04:12.554Z"
   },
   {
    "duration": 2232,
    "start_time": "2022-07-04T14:04:12.594Z"
   },
   {
    "duration": 5,
    "start_time": "2022-07-04T14:04:14.827Z"
   },
   {
    "duration": 39,
    "start_time": "2022-07-04T14:04:14.833Z"
   },
   {
    "duration": 22,
    "start_time": "2022-07-04T14:04:14.874Z"
   },
   {
    "duration": 18,
    "start_time": "2022-07-04T14:04:14.898Z"
   },
   {
    "duration": 4,
    "start_time": "2022-07-04T14:04:14.918Z"
   },
   {
    "duration": 7121,
    "start_time": "2022-07-04T14:04:14.924Z"
   },
   {
    "duration": 2546,
    "start_time": "2022-07-04T14:04:22.047Z"
   },
   {
    "duration": 1745,
    "start_time": "2022-07-04T14:04:24.595Z"
   },
   {
    "duration": 77,
    "start_time": "2022-07-04T14:09:10.821Z"
   },
   {
    "duration": 77,
    "start_time": "2022-07-04T14:32:02.143Z"
   },
   {
    "duration": 81,
    "start_time": "2022-07-04T14:34:54.991Z"
   },
   {
    "duration": 187,
    "start_time": "2022-07-04T14:35:17.424Z"
   },
   {
    "duration": 1369,
    "start_time": "2022-07-04T14:35:23.295Z"
   },
   {
    "duration": 3,
    "start_time": "2022-07-04T14:35:56.664Z"
   },
   {
    "duration": 3,
    "start_time": "2022-07-04T14:36:00.592Z"
   },
   {
    "duration": 4,
    "start_time": "2022-07-04T14:47:19.156Z"
   },
   {
    "duration": 19,
    "start_time": "2022-07-04T14:49:26.152Z"
   },
   {
    "duration": 89,
    "start_time": "2022-07-04T14:49:53.550Z"
   },
   {
    "duration": 4,
    "start_time": "2022-07-04T14:50:50.263Z"
   },
   {
    "duration": 9,
    "start_time": "2022-07-04T18:07:38.085Z"
   },
   {
    "duration": 53,
    "start_time": "2022-07-05T05:22:34.226Z"
   },
   {
    "duration": 1632,
    "start_time": "2022-07-05T05:22:39.842Z"
   },
   {
    "duration": 1731,
    "start_time": "2022-07-05T05:22:41.477Z"
   },
   {
    "duration": 4,
    "start_time": "2022-07-05T05:22:43.210Z"
   },
   {
    "duration": 328,
    "start_time": "2022-07-05T05:22:43.215Z"
   },
   {
    "duration": 138,
    "start_time": "2022-07-05T05:22:43.546Z"
   },
   {
    "duration": 297,
    "start_time": "2022-07-05T05:22:43.685Z"
   },
   {
    "duration": 11,
    "start_time": "2022-07-05T05:22:43.984Z"
   },
   {
    "duration": 3058,
    "start_time": "2022-07-05T05:22:44.025Z"
   },
   {
    "duration": 4,
    "start_time": "2022-07-05T05:22:47.085Z"
   },
   {
    "duration": 42,
    "start_time": "2022-07-05T05:22:47.091Z"
   },
   {
    "duration": 37,
    "start_time": "2022-07-05T05:22:47.139Z"
   },
   {
    "duration": 23,
    "start_time": "2022-07-05T05:22:47.178Z"
   },
   {
    "duration": 5,
    "start_time": "2022-07-05T05:22:47.203Z"
   },
   {
    "duration": 9181,
    "start_time": "2022-07-05T05:22:47.211Z"
   },
   {
    "duration": 7021,
    "start_time": "2022-07-05T05:22:56.394Z"
   },
   {
    "duration": 3987,
    "start_time": "2022-07-05T05:23:03.417Z"
   },
   {
    "duration": 12,
    "start_time": "2022-07-05T05:23:07.433Z"
   },
   {
    "duration": 31,
    "start_time": "2022-07-05T05:23:07.450Z"
   },
   {
    "duration": 180,
    "start_time": "2022-07-05T05:23:07.484Z"
   },
   {
    "duration": 18,
    "start_time": "2022-07-05T05:24:23.470Z"
   },
   {
    "duration": 25,
    "start_time": "2022-07-05T05:29:49.811Z"
   },
   {
    "duration": 16,
    "start_time": "2022-07-05T05:30:10.198Z"
   },
   {
    "duration": 23,
    "start_time": "2022-07-05T05:30:25.778Z"
   },
   {
    "duration": 23,
    "start_time": "2022-07-05T05:34:46.792Z"
   },
   {
    "duration": 25,
    "start_time": "2022-07-05T05:35:31.730Z"
   },
   {
    "duration": 12,
    "start_time": "2022-07-05T05:38:18.528Z"
   },
   {
    "duration": 11,
    "start_time": "2022-07-05T05:38:44.405Z"
   },
   {
    "duration": 15,
    "start_time": "2022-07-05T05:41:09.389Z"
   },
   {
    "duration": 36,
    "start_time": "2022-07-05T05:41:21.206Z"
   },
   {
    "duration": 797,
    "start_time": "2022-07-05T05:44:50.988Z"
   },
   {
    "duration": 784,
    "start_time": "2022-07-05T05:45:25.106Z"
   },
   {
    "duration": 23,
    "start_time": "2022-07-05T05:46:46.984Z"
   },
   {
    "duration": 774,
    "start_time": "2022-07-05T05:58:40.309Z"
   },
   {
    "duration": 1319,
    "start_time": "2022-07-05T05:58:55.951Z"
   },
   {
    "duration": 770,
    "start_time": "2022-07-05T05:58:57.271Z"
   },
   {
    "duration": 4,
    "start_time": "2022-07-05T05:58:58.042Z"
   },
   {
    "duration": 300,
    "start_time": "2022-07-05T05:58:58.048Z"
   },
   {
    "duration": 127,
    "start_time": "2022-07-05T05:58:58.350Z"
   },
   {
    "duration": 270,
    "start_time": "2022-07-05T05:58:58.479Z"
   },
   {
    "duration": 11,
    "start_time": "2022-07-05T05:58:58.751Z"
   },
   {
    "duration": 2765,
    "start_time": "2022-07-05T05:58:58.764Z"
   },
   {
    "duration": 5,
    "start_time": "2022-07-05T05:59:01.531Z"
   },
   {
    "duration": 79,
    "start_time": "2022-07-05T05:59:01.538Z"
   },
   {
    "duration": 92,
    "start_time": "2022-07-05T05:59:01.619Z"
   },
   {
    "duration": 32,
    "start_time": "2022-07-05T05:59:01.713Z"
   },
   {
    "duration": 49,
    "start_time": "2022-07-05T05:59:01.747Z"
   },
   {
    "duration": 10866,
    "start_time": "2022-07-05T05:59:01.800Z"
   },
   {
    "duration": 3046,
    "start_time": "2022-07-05T05:59:12.668Z"
   },
   {
    "duration": 2218,
    "start_time": "2022-07-05T05:59:15.715Z"
   },
   {
    "duration": 4,
    "start_time": "2022-07-05T05:59:17.934Z"
   },
   {
    "duration": 28,
    "start_time": "2022-07-05T05:59:17.940Z"
   },
   {
    "duration": 22,
    "start_time": "2022-07-05T05:59:17.969Z"
   },
   {
    "duration": 43,
    "start_time": "2022-07-05T05:59:17.992Z"
   },
   {
    "duration": 853,
    "start_time": "2022-07-05T06:01:06.060Z"
   },
   {
    "duration": 739,
    "start_time": "2022-07-05T06:09:06.166Z"
   },
   {
    "duration": 52,
    "start_time": "2022-07-05T06:09:51.992Z"
   },
   {
    "duration": 51,
    "start_time": "2022-07-05T06:10:34.033Z"
   },
   {
    "duration": 47,
    "start_time": "2022-07-05T06:10:46.250Z"
   },
   {
    "duration": 52,
    "start_time": "2022-07-05T06:11:54.816Z"
   },
   {
    "duration": 40,
    "start_time": "2022-07-05T06:12:33.540Z"
   },
   {
    "duration": 9,
    "start_time": "2022-07-05T06:18:39.920Z"
   },
   {
    "duration": 58,
    "start_time": "2022-07-05T06:19:21.177Z"
   },
   {
    "duration": 68,
    "start_time": "2022-07-05T06:21:22.958Z"
   },
   {
    "duration": 1315,
    "start_time": "2022-07-05T06:21:59.882Z"
   },
   {
    "duration": 741,
    "start_time": "2022-07-05T06:22:01.200Z"
   },
   {
    "duration": 4,
    "start_time": "2022-07-05T06:22:01.942Z"
   },
   {
    "duration": 321,
    "start_time": "2022-07-05T06:22:01.948Z"
   },
   {
    "duration": 157,
    "start_time": "2022-07-05T06:22:02.272Z"
   },
   {
    "duration": 266,
    "start_time": "2022-07-05T06:22:02.431Z"
   },
   {
    "duration": 41,
    "start_time": "2022-07-05T06:22:02.699Z"
   },
   {
    "duration": 3042,
    "start_time": "2022-07-05T06:22:02.741Z"
   },
   {
    "duration": 6,
    "start_time": "2022-07-05T06:22:05.786Z"
   },
   {
    "duration": 12,
    "start_time": "2022-07-05T06:22:05.794Z"
   },
   {
    "duration": 47,
    "start_time": "2022-07-05T06:22:05.808Z"
   },
   {
    "duration": 22,
    "start_time": "2022-07-05T06:22:05.857Z"
   },
   {
    "duration": 4,
    "start_time": "2022-07-05T06:22:05.881Z"
   },
   {
    "duration": 7177,
    "start_time": "2022-07-05T06:22:05.887Z"
   },
   {
    "duration": 3402,
    "start_time": "2022-07-05T06:22:13.066Z"
   },
   {
    "duration": 2527,
    "start_time": "2022-07-05T06:22:16.470Z"
   },
   {
    "duration": 5,
    "start_time": "2022-07-05T06:22:18.999Z"
   },
   {
    "duration": 51,
    "start_time": "2022-07-05T06:22:19.006Z"
   },
   {
    "duration": 50,
    "start_time": "2022-07-05T06:22:19.059Z"
   },
   {
    "duration": 328,
    "start_time": "2022-07-05T06:22:19.123Z"
   },
   {
    "duration": 53,
    "start_time": "2022-07-05T06:24:12.276Z"
   },
   {
    "duration": 110,
    "start_time": "2022-07-05T06:24:19.416Z"
   },
   {
    "duration": 762,
    "start_time": "2022-07-05T06:24:34.015Z"
   },
   {
    "duration": 1276,
    "start_time": "2022-07-05T06:24:40.610Z"
   },
   {
    "duration": 736,
    "start_time": "2022-07-05T06:24:41.888Z"
   },
   {
    "duration": 5,
    "start_time": "2022-07-05T06:24:42.626Z"
   },
   {
    "duration": 327,
    "start_time": "2022-07-05T06:24:42.634Z"
   },
   {
    "duration": 163,
    "start_time": "2022-07-05T06:24:42.963Z"
   },
   {
    "duration": 309,
    "start_time": "2022-07-05T06:24:43.128Z"
   },
   {
    "duration": 12,
    "start_time": "2022-07-05T06:24:43.439Z"
   },
   {
    "duration": 2797,
    "start_time": "2022-07-05T06:24:43.453Z"
   },
   {
    "duration": 5,
    "start_time": "2022-07-05T06:24:46.252Z"
   },
   {
    "duration": 19,
    "start_time": "2022-07-05T06:24:46.259Z"
   },
   {
    "duration": 42,
    "start_time": "2022-07-05T06:24:46.280Z"
   },
   {
    "duration": 23,
    "start_time": "2022-07-05T06:24:46.325Z"
   },
   {
    "duration": 6,
    "start_time": "2022-07-05T06:24:46.351Z"
   },
   {
    "duration": 6705,
    "start_time": "2022-07-05T06:24:46.359Z"
   },
   {
    "duration": 3386,
    "start_time": "2022-07-05T06:24:53.066Z"
   },
   {
    "duration": 2248,
    "start_time": "2022-07-05T06:24:56.454Z"
   },
   {
    "duration": 3,
    "start_time": "2022-07-05T06:24:58.705Z"
   },
   {
    "duration": 39,
    "start_time": "2022-07-05T06:24:58.710Z"
   },
   {
    "duration": 46,
    "start_time": "2022-07-05T06:24:58.751Z"
   },
   {
    "duration": 135,
    "start_time": "2022-07-05T06:24:58.799Z"
   },
   {
    "duration": 437,
    "start_time": "2022-07-05T06:26:53.903Z"
   },
   {
    "duration": 1114,
    "start_time": "2022-07-05T06:39:17.897Z"
   },
   {
    "duration": 893,
    "start_time": "2022-07-05T06:39:31.484Z"
   },
   {
    "duration": 1369,
    "start_time": "2022-07-05T06:40:11.489Z"
   },
   {
    "duration": 734,
    "start_time": "2022-07-05T06:40:12.860Z"
   },
   {
    "duration": 13,
    "start_time": "2022-07-05T06:40:13.596Z"
   },
   {
    "duration": 277,
    "start_time": "2022-07-05T06:40:13.612Z"
   },
   {
    "duration": 150,
    "start_time": "2022-07-05T06:40:13.891Z"
   },
   {
    "duration": 314,
    "start_time": "2022-07-05T06:40:14.043Z"
   },
   {
    "duration": 13,
    "start_time": "2022-07-05T06:40:14.359Z"
   },
   {
    "duration": 2985,
    "start_time": "2022-07-05T06:40:14.374Z"
   },
   {
    "duration": 9,
    "start_time": "2022-07-05T06:40:17.362Z"
   },
   {
    "duration": 27,
    "start_time": "2022-07-05T06:40:17.374Z"
   },
   {
    "duration": 34,
    "start_time": "2022-07-05T06:40:17.402Z"
   },
   {
    "duration": 25,
    "start_time": "2022-07-05T06:40:17.438Z"
   },
   {
    "duration": 6,
    "start_time": "2022-07-05T06:40:17.465Z"
   },
   {
    "duration": 7058,
    "start_time": "2022-07-05T06:40:17.473Z"
   },
   {
    "duration": 3412,
    "start_time": "2022-07-05T06:40:24.533Z"
   },
   {
    "duration": 2204,
    "start_time": "2022-07-05T06:40:27.947Z"
   },
   {
    "duration": 4,
    "start_time": "2022-07-05T06:40:30.152Z"
   },
   {
    "duration": 153,
    "start_time": "2022-07-05T06:40:30.158Z"
   },
   {
    "duration": 0,
    "start_time": "2022-07-05T06:40:30.313Z"
   },
   {
    "duration": 0,
    "start_time": "2022-07-05T06:40:30.315Z"
   },
   {
    "duration": 883,
    "start_time": "2022-07-05T06:41:03.677Z"
   },
   {
    "duration": 1388,
    "start_time": "2022-07-05T06:41:18.018Z"
   },
   {
    "duration": 746,
    "start_time": "2022-07-05T06:41:19.409Z"
   },
   {
    "duration": 4,
    "start_time": "2022-07-05T06:41:20.157Z"
   },
   {
    "duration": 317,
    "start_time": "2022-07-05T06:41:20.164Z"
   },
   {
    "duration": 153,
    "start_time": "2022-07-05T06:41:20.482Z"
   },
   {
    "duration": 262,
    "start_time": "2022-07-05T06:41:20.637Z"
   },
   {
    "duration": 19,
    "start_time": "2022-07-05T06:41:20.925Z"
   },
   {
    "duration": 3026,
    "start_time": "2022-07-05T06:41:20.945Z"
   },
   {
    "duration": 7,
    "start_time": "2022-07-05T06:41:23.973Z"
   },
   {
    "duration": 15,
    "start_time": "2022-07-05T06:41:23.983Z"
   },
   {
    "duration": 50,
    "start_time": "2022-07-05T06:41:24.000Z"
   },
   {
    "duration": 32,
    "start_time": "2022-07-05T06:41:24.052Z"
   },
   {
    "duration": 4,
    "start_time": "2022-07-05T06:41:24.086Z"
   },
   {
    "duration": 7111,
    "start_time": "2022-07-05T06:41:24.092Z"
   },
   {
    "duration": 3122,
    "start_time": "2022-07-05T06:41:31.205Z"
   },
   {
    "duration": 2244,
    "start_time": "2022-07-05T06:41:34.329Z"
   },
   {
    "duration": 3,
    "start_time": "2022-07-05T06:41:36.575Z"
   },
   {
    "duration": 47,
    "start_time": "2022-07-05T06:41:36.580Z"
   },
   {
    "duration": 46,
    "start_time": "2022-07-05T06:41:36.629Z"
   },
   {
    "duration": 617,
    "start_time": "2022-07-05T06:41:36.677Z"
   },
   {
    "duration": 281,
    "start_time": "2022-07-05T06:49:23.762Z"
   },
   {
    "duration": 1421,
    "start_time": "2022-07-05T06:49:52.393Z"
   },
   {
    "duration": 789,
    "start_time": "2022-07-05T06:49:53.816Z"
   },
   {
    "duration": 5,
    "start_time": "2022-07-05T06:49:54.608Z"
   },
   {
    "duration": 325,
    "start_time": "2022-07-05T06:49:54.615Z"
   },
   {
    "duration": 130,
    "start_time": "2022-07-05T06:49:54.944Z"
   },
   {
    "duration": 299,
    "start_time": "2022-07-05T06:49:55.076Z"
   },
   {
    "duration": 12,
    "start_time": "2022-07-05T06:49:55.377Z"
   },
   {
    "duration": 3219,
    "start_time": "2022-07-05T06:49:55.391Z"
   },
   {
    "duration": 19,
    "start_time": "2022-07-05T06:49:58.612Z"
   },
   {
    "duration": 11,
    "start_time": "2022-07-05T06:49:58.640Z"
   },
   {
    "duration": 29,
    "start_time": "2022-07-05T06:49:58.653Z"
   },
   {
    "duration": 22,
    "start_time": "2022-07-05T06:49:58.684Z"
   },
   {
    "duration": 4,
    "start_time": "2022-07-05T06:49:58.708Z"
   },
   {
    "duration": 7180,
    "start_time": "2022-07-05T06:49:58.714Z"
   },
   {
    "duration": 3400,
    "start_time": "2022-07-05T06:50:05.895Z"
   },
   {
    "duration": 2245,
    "start_time": "2022-07-05T06:50:09.297Z"
   },
   {
    "duration": 4,
    "start_time": "2022-07-05T06:50:11.544Z"
   },
   {
    "duration": 30,
    "start_time": "2022-07-05T06:50:11.550Z"
   },
   {
    "duration": 67,
    "start_time": "2022-07-05T06:50:11.582Z"
   },
   {
    "duration": 584,
    "start_time": "2022-07-05T06:50:11.651Z"
   },
   {
    "duration": 4,
    "start_time": "2022-07-05T06:51:05.703Z"
   },
   {
    "duration": 374,
    "start_time": "2022-07-05T06:51:11.968Z"
   },
   {
    "duration": 5,
    "start_time": "2022-07-05T06:52:53.607Z"
   },
   {
    "duration": 391,
    "start_time": "2022-07-05T06:52:57.544Z"
   },
   {
    "duration": 244,
    "start_time": "2022-07-05T06:53:29.684Z"
   },
   {
    "duration": 424,
    "start_time": "2022-07-05T06:53:36.912Z"
   },
   {
    "duration": 397,
    "start_time": "2022-07-05T06:54:08.130Z"
   },
   {
    "duration": 413,
    "start_time": "2022-07-05T06:54:39.915Z"
   },
   {
    "duration": 412,
    "start_time": "2022-07-05T06:54:58.215Z"
   },
   {
    "duration": 221,
    "start_time": "2022-07-05T06:55:27.116Z"
   },
   {
    "duration": 108,
    "start_time": "2022-07-05T06:56:25.021Z"
   },
   {
    "duration": 65,
    "start_time": "2022-07-05T06:57:00.037Z"
   },
   {
    "duration": 503,
    "start_time": "2022-07-05T06:57:04.827Z"
   },
   {
    "duration": 334,
    "start_time": "2022-07-05T06:57:24.501Z"
   },
   {
    "duration": 376,
    "start_time": "2022-07-05T06:59:16.262Z"
   },
   {
    "duration": 3402,
    "start_time": "2022-07-05T06:59:23.823Z"
   },
   {
    "duration": 3504,
    "start_time": "2022-07-05T07:00:06.844Z"
   },
   {
    "duration": 3405,
    "start_time": "2022-07-05T07:02:10.830Z"
   },
   {
    "duration": 3634,
    "start_time": "2022-07-05T07:02:47.036Z"
   },
   {
    "duration": 3641,
    "start_time": "2022-07-05T07:02:52.488Z"
   },
   {
    "duration": 2129,
    "start_time": "2022-07-05T07:03:10.422Z"
   },
   {
    "duration": 2173,
    "start_time": "2022-07-05T07:03:25.509Z"
   },
   {
    "duration": 3533,
    "start_time": "2022-07-05T07:03:59.106Z"
   },
   {
    "duration": 2057,
    "start_time": "2022-07-05T07:14:01.814Z"
   },
   {
    "duration": 238,
    "start_time": "2022-07-05T07:14:26.504Z"
   },
   {
    "duration": 8,
    "start_time": "2022-07-05T07:19:07.118Z"
   },
   {
    "duration": 65,
    "start_time": "2022-07-05T07:20:27.438Z"
   },
   {
    "duration": 10,
    "start_time": "2022-07-05T07:20:52.382Z"
   },
   {
    "duration": 1338,
    "start_time": "2022-07-05T07:21:17.468Z"
   },
   {
    "duration": 712,
    "start_time": "2022-07-05T07:21:18.808Z"
   },
   {
    "duration": 5,
    "start_time": "2022-07-05T07:21:19.524Z"
   },
   {
    "duration": 310,
    "start_time": "2022-07-05T07:21:19.531Z"
   },
   {
    "duration": 128,
    "start_time": "2022-07-05T07:21:19.844Z"
   },
   {
    "duration": 289,
    "start_time": "2022-07-05T07:21:19.974Z"
   },
   {
    "duration": 12,
    "start_time": "2022-07-05T07:21:20.265Z"
   },
   {
    "duration": 2849,
    "start_time": "2022-07-05T07:21:20.279Z"
   },
   {
    "duration": 6,
    "start_time": "2022-07-05T07:21:23.129Z"
   },
   {
    "duration": 15,
    "start_time": "2022-07-05T07:21:23.136Z"
   },
   {
    "duration": 28,
    "start_time": "2022-07-05T07:21:23.153Z"
   },
   {
    "duration": 42,
    "start_time": "2022-07-05T07:21:23.183Z"
   },
   {
    "duration": 6,
    "start_time": "2022-07-05T07:21:23.226Z"
   },
   {
    "duration": 7182,
    "start_time": "2022-07-05T07:21:23.235Z"
   },
   {
    "duration": 3275,
    "start_time": "2022-07-05T07:21:30.418Z"
   },
   {
    "duration": 2368,
    "start_time": "2022-07-05T07:21:33.696Z"
   },
   {
    "duration": 6,
    "start_time": "2022-07-05T07:21:36.066Z"
   },
   {
    "duration": 51,
    "start_time": "2022-07-05T07:21:36.073Z"
   },
   {
    "duration": 63,
    "start_time": "2022-07-05T07:21:36.126Z"
   },
   {
    "duration": 841,
    "start_time": "2022-07-05T07:21:36.191Z"
   },
   {
    "duration": 53,
    "start_time": "2022-07-05T07:22:42.379Z"
   },
   {
    "duration": 3613,
    "start_time": "2022-07-05T07:22:49.699Z"
   },
   {
    "duration": 4,
    "start_time": "2022-07-05T07:24:39.969Z"
   },
   {
    "duration": 3387,
    "start_time": "2022-07-05T07:24:44.921Z"
   },
   {
    "duration": 3392,
    "start_time": "2022-07-05T07:28:14.526Z"
   },
   {
    "duration": 739,
    "start_time": "2022-07-05T07:29:51.193Z"
   },
   {
    "duration": 451,
    "start_time": "2022-07-05T07:32:39.893Z"
   },
   {
    "duration": 73,
    "start_time": "2022-07-05T07:37:02.681Z"
   },
   {
    "duration": 345,
    "start_time": "2022-07-05T07:37:11.385Z"
   },
   {
    "duration": 541,
    "start_time": "2022-07-05T07:38:52.085Z"
   },
   {
    "duration": 463,
    "start_time": "2022-07-05T07:39:04.266Z"
   },
   {
    "duration": 806,
    "start_time": "2022-07-05T07:41:44.424Z"
   },
   {
    "duration": 1502,
    "start_time": "2022-07-05T07:41:56.011Z"
   },
   {
    "duration": 702,
    "start_time": "2022-07-05T07:41:57.515Z"
   },
   {
    "duration": 5,
    "start_time": "2022-07-05T07:41:58.219Z"
   },
   {
    "duration": 304,
    "start_time": "2022-07-05T07:41:58.225Z"
   },
   {
    "duration": 119,
    "start_time": "2022-07-05T07:41:58.531Z"
   },
   {
    "duration": 241,
    "start_time": "2022-07-05T07:41:58.651Z"
   },
   {
    "duration": 39,
    "start_time": "2022-07-05T07:41:58.894Z"
   },
   {
    "duration": 2663,
    "start_time": "2022-07-05T07:41:58.935Z"
   },
   {
    "duration": 5,
    "start_time": "2022-07-05T07:42:01.599Z"
   },
   {
    "duration": 41,
    "start_time": "2022-07-05T07:42:01.607Z"
   },
   {
    "duration": 47,
    "start_time": "2022-07-05T07:42:01.650Z"
   },
   {
    "duration": 21,
    "start_time": "2022-07-05T07:42:01.699Z"
   },
   {
    "duration": 22,
    "start_time": "2022-07-05T07:42:01.722Z"
   },
   {
    "duration": 6792,
    "start_time": "2022-07-05T07:42:01.746Z"
   },
   {
    "duration": 2963,
    "start_time": "2022-07-05T07:42:08.540Z"
   },
   {
    "duration": 2192,
    "start_time": "2022-07-05T07:42:11.505Z"
   },
   {
    "duration": 5,
    "start_time": "2022-07-05T07:42:13.699Z"
   },
   {
    "duration": 58,
    "start_time": "2022-07-05T07:42:13.706Z"
   },
   {
    "duration": 67,
    "start_time": "2022-07-05T07:42:13.766Z"
   },
   {
    "duration": 3713,
    "start_time": "2022-07-05T07:42:13.835Z"
   },
   {
    "duration": 1414,
    "start_time": "2022-07-05T07:43:52.978Z"
   },
   {
    "duration": 3442,
    "start_time": "2022-07-05T07:44:30.367Z"
   },
   {
    "duration": 4,
    "start_time": "2022-07-05T07:45:39.321Z"
   },
   {
    "duration": 3596,
    "start_time": "2022-07-05T07:45:44.297Z"
   },
   {
    "duration": 5,
    "start_time": "2022-07-05T07:48:35.489Z"
   },
   {
    "duration": 3599,
    "start_time": "2022-07-05T07:48:40.088Z"
   },
   {
    "duration": 20,
    "start_time": "2022-07-05T08:16:54.306Z"
   },
   {
    "duration": 1395,
    "start_time": "2022-07-05T08:17:01.309Z"
   },
   {
    "duration": 692,
    "start_time": "2022-07-05T08:17:02.706Z"
   },
   {
    "duration": 5,
    "start_time": "2022-07-05T08:17:03.400Z"
   },
   {
    "duration": 280,
    "start_time": "2022-07-05T08:17:03.407Z"
   },
   {
    "duration": 144,
    "start_time": "2022-07-05T08:17:03.689Z"
   },
   {
    "duration": 327,
    "start_time": "2022-07-05T08:17:03.836Z"
   },
   {
    "duration": 12,
    "start_time": "2022-07-05T08:17:04.165Z"
   },
   {
    "duration": 2900,
    "start_time": "2022-07-05T08:17:04.179Z"
   },
   {
    "duration": 6,
    "start_time": "2022-07-05T08:17:07.081Z"
   },
   {
    "duration": 18,
    "start_time": "2022-07-05T08:17:07.089Z"
   },
   {
    "duration": 34,
    "start_time": "2022-07-05T08:17:07.109Z"
   },
   {
    "duration": 33,
    "start_time": "2022-07-05T08:17:07.145Z"
   },
   {
    "duration": 7,
    "start_time": "2022-07-05T08:17:07.180Z"
   },
   {
    "duration": 6878,
    "start_time": "2022-07-05T08:17:07.189Z"
   },
   {
    "duration": 3300,
    "start_time": "2022-07-05T08:17:14.069Z"
   },
   {
    "duration": 2206,
    "start_time": "2022-07-05T08:17:17.371Z"
   },
   {
    "duration": 5,
    "start_time": "2022-07-05T08:17:19.580Z"
   },
   {
    "duration": 47,
    "start_time": "2022-07-05T08:17:19.587Z"
   },
   {
    "duration": 49,
    "start_time": "2022-07-05T08:17:19.636Z"
   },
   {
    "duration": 3550,
    "start_time": "2022-07-05T08:17:19.687Z"
   },
   {
    "duration": 167,
    "start_time": "2022-07-05T08:17:23.239Z"
   },
   {
    "duration": 24,
    "start_time": "2022-07-05T08:18:18.874Z"
   },
   {
    "duration": 19,
    "start_time": "2022-07-05T08:18:31.993Z"
   },
   {
    "duration": 19,
    "start_time": "2022-07-05T08:18:59.486Z"
   },
   {
    "duration": 22,
    "start_time": "2022-07-05T08:20:07.288Z"
   },
   {
    "duration": 1333,
    "start_time": "2022-07-05T08:20:51.377Z"
   },
   {
    "duration": 692,
    "start_time": "2022-07-05T08:20:52.711Z"
   },
   {
    "duration": 4,
    "start_time": "2022-07-05T08:20:53.405Z"
   },
   {
    "duration": 284,
    "start_time": "2022-07-05T08:20:53.411Z"
   },
   {
    "duration": 138,
    "start_time": "2022-07-05T08:20:53.724Z"
   },
   {
    "duration": 284,
    "start_time": "2022-07-05T08:20:53.864Z"
   },
   {
    "duration": 15,
    "start_time": "2022-07-05T08:20:54.149Z"
   },
   {
    "duration": 2847,
    "start_time": "2022-07-05T08:20:54.165Z"
   },
   {
    "duration": 10,
    "start_time": "2022-07-05T08:20:57.014Z"
   },
   {
    "duration": 13,
    "start_time": "2022-07-05T08:20:57.027Z"
   },
   {
    "duration": 29,
    "start_time": "2022-07-05T08:20:57.042Z"
   },
   {
    "duration": 24,
    "start_time": "2022-07-05T08:20:57.073Z"
   },
   {
    "duration": 28,
    "start_time": "2022-07-05T08:20:57.099Z"
   },
   {
    "duration": 6949,
    "start_time": "2022-07-05T08:20:57.129Z"
   },
   {
    "duration": 3044,
    "start_time": "2022-07-05T08:21:04.080Z"
   },
   {
    "duration": 2210,
    "start_time": "2022-07-05T08:21:07.125Z"
   },
   {
    "duration": 4,
    "start_time": "2022-07-05T08:21:09.337Z"
   },
   {
    "duration": 38,
    "start_time": "2022-07-05T08:21:09.342Z"
   },
   {
    "duration": 71,
    "start_time": "2022-07-05T08:21:09.381Z"
   },
   {
    "duration": 3420,
    "start_time": "2022-07-05T08:21:09.454Z"
   },
   {
    "duration": 129,
    "start_time": "2022-07-05T08:21:12.876Z"
   },
   {
    "duration": 25,
    "start_time": "2022-07-05T08:24:39.432Z"
   },
   {
    "duration": 1382,
    "start_time": "2022-07-05T08:27:40.017Z"
   },
   {
    "duration": 690,
    "start_time": "2022-07-05T08:27:41.401Z"
   },
   {
    "duration": 4,
    "start_time": "2022-07-05T08:27:42.093Z"
   },
   {
    "duration": 287,
    "start_time": "2022-07-05T08:27:42.100Z"
   },
   {
    "duration": 144,
    "start_time": "2022-07-05T08:27:42.389Z"
   },
   {
    "duration": 252,
    "start_time": "2022-07-05T08:27:42.535Z"
   },
   {
    "duration": 40,
    "start_time": "2022-07-05T08:27:42.789Z"
   },
   {
    "duration": 2732,
    "start_time": "2022-07-05T08:27:42.830Z"
   },
   {
    "duration": 5,
    "start_time": "2022-07-05T08:27:45.564Z"
   },
   {
    "duration": 22,
    "start_time": "2022-07-05T08:27:45.572Z"
   },
   {
    "duration": 42,
    "start_time": "2022-07-05T08:27:45.596Z"
   },
   {
    "duration": 23,
    "start_time": "2022-07-05T08:27:45.640Z"
   },
   {
    "duration": 5,
    "start_time": "2022-07-05T08:27:45.665Z"
   },
   {
    "duration": 6687,
    "start_time": "2022-07-05T08:27:45.671Z"
   },
   {
    "duration": 3164,
    "start_time": "2022-07-05T08:27:52.360Z"
   },
   {
    "duration": 2335,
    "start_time": "2022-07-05T08:27:55.526Z"
   },
   {
    "duration": 3,
    "start_time": "2022-07-05T08:27:57.863Z"
   },
   {
    "duration": 28,
    "start_time": "2022-07-05T08:27:57.868Z"
   },
   {
    "duration": 77,
    "start_time": "2022-07-05T08:27:57.898Z"
   },
   {
    "duration": 3411,
    "start_time": "2022-07-05T08:27:57.977Z"
   },
   {
    "duration": 126,
    "start_time": "2022-07-05T08:28:01.390Z"
   },
   {
    "duration": 17,
    "start_time": "2022-07-05T08:33:48.276Z"
   },
   {
    "duration": 1404,
    "start_time": "2022-07-05T08:33:54.994Z"
   },
   {
    "duration": 898,
    "start_time": "2022-07-05T08:33:56.400Z"
   },
   {
    "duration": 8,
    "start_time": "2022-07-05T08:33:57.300Z"
   },
   {
    "duration": 311,
    "start_time": "2022-07-05T08:33:57.324Z"
   },
   {
    "duration": 136,
    "start_time": "2022-07-05T08:33:57.637Z"
   },
   {
    "duration": 308,
    "start_time": "2022-07-05T08:33:57.775Z"
   },
   {
    "duration": 39,
    "start_time": "2022-07-05T08:33:58.089Z"
   },
   {
    "duration": 2810,
    "start_time": "2022-07-05T08:33:58.130Z"
   },
   {
    "duration": 5,
    "start_time": "2022-07-05T08:34:00.942Z"
   },
   {
    "duration": 16,
    "start_time": "2022-07-05T08:34:00.949Z"
   },
   {
    "duration": 29,
    "start_time": "2022-07-05T08:34:00.967Z"
   },
   {
    "duration": 39,
    "start_time": "2022-07-05T08:34:00.998Z"
   },
   {
    "duration": 5,
    "start_time": "2022-07-05T08:34:01.039Z"
   },
   {
    "duration": 7040,
    "start_time": "2022-07-05T08:34:01.047Z"
   },
   {
    "duration": 3093,
    "start_time": "2022-07-05T08:34:08.089Z"
   },
   {
    "duration": 2081,
    "start_time": "2022-07-05T08:34:11.184Z"
   },
   {
    "duration": 4,
    "start_time": "2022-07-05T08:34:13.267Z"
   },
   {
    "duration": 35,
    "start_time": "2022-07-05T08:34:13.272Z"
   },
   {
    "duration": 60,
    "start_time": "2022-07-05T08:34:13.309Z"
   },
   {
    "duration": 3376,
    "start_time": "2022-07-05T08:34:13.371Z"
   },
   {
    "duration": 3694,
    "start_time": "2022-07-05T08:34:16.749Z"
   },
   {
    "duration": 50,
    "start_time": "2022-07-05T11:46:38.024Z"
   },
   {
    "duration": 1545,
    "start_time": "2022-07-05T11:46:44.223Z"
   },
   {
    "duration": 1481,
    "start_time": "2022-07-05T11:46:45.770Z"
   },
   {
    "duration": 4,
    "start_time": "2022-07-05T11:46:47.253Z"
   },
   {
    "duration": 297,
    "start_time": "2022-07-05T11:46:47.259Z"
   },
   {
    "duration": 112,
    "start_time": "2022-07-05T11:46:47.559Z"
   },
   {
    "duration": 273,
    "start_time": "2022-07-05T11:46:47.673Z"
   },
   {
    "duration": 11,
    "start_time": "2022-07-05T11:46:47.947Z"
   },
   {
    "duration": 2918,
    "start_time": "2022-07-05T11:46:47.960Z"
   },
   {
    "duration": 5,
    "start_time": "2022-07-05T11:46:50.880Z"
   },
   {
    "duration": 20,
    "start_time": "2022-07-05T11:46:50.887Z"
   },
   {
    "duration": 33,
    "start_time": "2022-07-05T11:46:50.909Z"
   },
   {
    "duration": 22,
    "start_time": "2022-07-05T11:46:50.944Z"
   },
   {
    "duration": 4,
    "start_time": "2022-07-05T11:46:50.968Z"
   },
   {
    "duration": 6946,
    "start_time": "2022-07-05T11:46:50.975Z"
   },
   {
    "duration": 3135,
    "start_time": "2022-07-05T11:46:57.924Z"
   },
   {
    "duration": 2196,
    "start_time": "2022-07-05T11:47:01.061Z"
   },
   {
    "duration": 4,
    "start_time": "2022-07-05T11:47:03.259Z"
   },
   {
    "duration": 30,
    "start_time": "2022-07-05T11:47:03.264Z"
   },
   {
    "duration": 68,
    "start_time": "2022-07-05T11:47:03.295Z"
   },
   {
    "duration": 3619,
    "start_time": "2022-07-05T11:47:03.365Z"
   },
   {
    "duration": 3778,
    "start_time": "2022-07-05T11:47:06.986Z"
   },
   {
    "duration": 3096,
    "start_time": "2022-07-05T11:48:14.599Z"
   },
   {
    "duration": 1134,
    "start_time": "2022-07-05T12:12:00.899Z"
   },
   {
    "duration": 2147,
    "start_time": "2022-07-05T12:13:00.157Z"
   },
   {
    "duration": 10,
    "start_time": "2022-07-05T13:04:48.211Z"
   },
   {
    "duration": 1526,
    "start_time": "2022-07-05T13:04:56.083Z"
   },
   {
    "duration": 672,
    "start_time": "2022-07-05T13:04:57.611Z"
   },
   {
    "duration": 4,
    "start_time": "2022-07-05T13:04:58.285Z"
   },
   {
    "duration": 287,
    "start_time": "2022-07-05T13:04:58.291Z"
   },
   {
    "duration": 115,
    "start_time": "2022-07-05T13:04:58.579Z"
   },
   {
    "duration": 307,
    "start_time": "2022-07-05T13:04:58.696Z"
   },
   {
    "duration": 13,
    "start_time": "2022-07-05T13:04:59.005Z"
   },
   {
    "duration": 2944,
    "start_time": "2022-07-05T13:04:59.046Z"
   },
   {
    "duration": 5,
    "start_time": "2022-07-05T13:05:01.992Z"
   },
   {
    "duration": 18,
    "start_time": "2022-07-05T13:05:02.000Z"
   },
   {
    "duration": 43,
    "start_time": "2022-07-05T13:05:02.020Z"
   },
   {
    "duration": 24,
    "start_time": "2022-07-05T13:05:02.065Z"
   },
   {
    "duration": 18,
    "start_time": "2022-07-05T13:05:02.091Z"
   },
   {
    "duration": 7085,
    "start_time": "2022-07-05T13:05:02.112Z"
   },
   {
    "duration": 3097,
    "start_time": "2022-07-05T13:05:09.198Z"
   },
   {
    "duration": 2203,
    "start_time": "2022-07-05T13:05:12.297Z"
   },
   {
    "duration": 5,
    "start_time": "2022-07-05T13:05:14.502Z"
   },
   {
    "duration": 46,
    "start_time": "2022-07-05T13:05:14.508Z"
   },
   {
    "duration": 49,
    "start_time": "2022-07-05T13:05:14.556Z"
   },
   {
    "duration": 3671,
    "start_time": "2022-07-05T13:05:14.607Z"
   },
   {
    "duration": 3921,
    "start_time": "2022-07-05T13:05:18.280Z"
   },
   {
    "duration": 7,
    "start_time": "2022-07-05T13:05:22.203Z"
   },
   {
    "duration": 121,
    "start_time": "2022-07-05T13:05:22.212Z"
   },
   {
    "duration": 117,
    "start_time": "2022-07-05T13:18:49.186Z"
   },
   {
    "duration": 7,
    "start_time": "2022-07-05T13:18:53.747Z"
   },
   {
    "duration": 10,
    "start_time": "2022-07-05T13:19:36.768Z"
   },
   {
    "duration": 23,
    "start_time": "2022-07-05T13:30:46.160Z"
   },
   {
    "duration": 12,
    "start_time": "2022-07-05T13:33:04.895Z"
   },
   {
    "duration": 12,
    "start_time": "2022-07-05T13:33:20.664Z"
   },
   {
    "duration": 16,
    "start_time": "2022-07-05T13:33:32.335Z"
   },
   {
    "duration": 11,
    "start_time": "2022-07-05T13:33:37.599Z"
   },
   {
    "duration": 23,
    "start_time": "2022-07-05T13:35:35.342Z"
   },
   {
    "duration": 31,
    "start_time": "2022-07-05T13:37:57.530Z"
   },
   {
    "duration": 25,
    "start_time": "2022-07-05T13:38:10.712Z"
   },
   {
    "duration": 24,
    "start_time": "2022-07-05T13:38:50.157Z"
   },
   {
    "duration": 228,
    "start_time": "2022-07-05T13:39:11.746Z"
   },
   {
    "duration": 14,
    "start_time": "2022-07-05T13:40:06.354Z"
   },
   {
    "duration": 17,
    "start_time": "2022-07-05T13:40:30.255Z"
   },
   {
    "duration": 26,
    "start_time": "2022-07-05T13:42:01.065Z"
   },
   {
    "duration": 20,
    "start_time": "2022-07-05T13:42:29.713Z"
   },
   {
    "duration": 20,
    "start_time": "2022-07-05T13:42:44.163Z"
   },
   {
    "duration": 19,
    "start_time": "2022-07-05T13:43:11.433Z"
   },
   {
    "duration": 117,
    "start_time": "2022-07-05T13:45:26.174Z"
   },
   {
    "duration": 31,
    "start_time": "2022-07-05T13:45:42.946Z"
   },
   {
    "duration": 28,
    "start_time": "2022-07-05T13:46:00.623Z"
   },
   {
    "duration": 25,
    "start_time": "2022-07-05T13:46:35.571Z"
   },
   {
    "duration": 32,
    "start_time": "2022-07-05T13:47:13.300Z"
   },
   {
    "duration": 33,
    "start_time": "2022-07-05T13:47:40.515Z"
   },
   {
    "duration": 37,
    "start_time": "2022-07-05T13:48:05.409Z"
   },
   {
    "duration": 26,
    "start_time": "2022-07-05T13:48:43.597Z"
   },
   {
    "duration": 47,
    "start_time": "2022-07-05T13:49:57.961Z"
   },
   {
    "duration": 30,
    "start_time": "2022-07-05T13:50:12.108Z"
   },
   {
    "duration": 29,
    "start_time": "2022-07-05T13:51:12.163Z"
   },
   {
    "duration": 24,
    "start_time": "2022-07-05T13:51:37.129Z"
   },
   {
    "duration": 26,
    "start_time": "2022-07-05T13:52:00.875Z"
   },
   {
    "duration": 26,
    "start_time": "2022-07-05T13:52:23.460Z"
   },
   {
    "duration": 30,
    "start_time": "2022-07-05T13:52:33.751Z"
   },
   {
    "duration": 23,
    "start_time": "2022-07-05T13:53:01.272Z"
   },
   {
    "duration": 25,
    "start_time": "2022-07-05T13:53:31.902Z"
   },
   {
    "duration": 25,
    "start_time": "2022-07-05T13:54:00.997Z"
   },
   {
    "duration": 25,
    "start_time": "2022-07-05T13:54:15.744Z"
   },
   {
    "duration": 11,
    "start_time": "2022-07-05T13:54:29.644Z"
   },
   {
    "duration": 12,
    "start_time": "2022-07-05T13:56:08.003Z"
   },
   {
    "duration": 14,
    "start_time": "2022-07-05T13:56:17.477Z"
   },
   {
    "duration": 5,
    "start_time": "2022-07-05T13:58:06.904Z"
   },
   {
    "duration": 18,
    "start_time": "2022-07-05T13:58:14.632Z"
   },
   {
    "duration": 13,
    "start_time": "2022-07-05T13:58:42.597Z"
   },
   {
    "duration": 15,
    "start_time": "2022-07-05T13:58:52.285Z"
   },
   {
    "duration": 15,
    "start_time": "2022-07-05T13:59:00.373Z"
   },
   {
    "duration": 15,
    "start_time": "2022-07-05T14:00:37.401Z"
   },
   {
    "duration": 7,
    "start_time": "2022-07-05T14:11:00.487Z"
   },
   {
    "duration": 9,
    "start_time": "2022-07-05T14:11:57.001Z"
   },
   {
    "duration": 12,
    "start_time": "2022-07-05T14:13:06.475Z"
   },
   {
    "duration": 10,
    "start_time": "2022-07-05T14:14:22.400Z"
   },
   {
    "duration": 4,
    "start_time": "2022-07-05T14:15:11.689Z"
   },
   {
    "duration": 1383,
    "start_time": "2022-07-05T14:15:15.797Z"
   },
   {
    "duration": 741,
    "start_time": "2022-07-05T14:15:17.182Z"
   },
   {
    "duration": 4,
    "start_time": "2022-07-05T14:15:17.925Z"
   },
   {
    "duration": 315,
    "start_time": "2022-07-05T14:15:17.931Z"
   },
   {
    "duration": 147,
    "start_time": "2022-07-05T14:15:18.248Z"
   },
   {
    "duration": 262,
    "start_time": "2022-07-05T14:15:18.397Z"
   },
   {
    "duration": 18,
    "start_time": "2022-07-05T14:15:18.665Z"
   },
   {
    "duration": 3165,
    "start_time": "2022-07-05T14:15:18.685Z"
   },
   {
    "duration": 19,
    "start_time": "2022-07-05T14:15:21.857Z"
   },
   {
    "duration": 17,
    "start_time": "2022-07-05T14:15:21.878Z"
   },
   {
    "duration": 27,
    "start_time": "2022-07-05T14:15:21.897Z"
   },
   {
    "duration": 27,
    "start_time": "2022-07-05T14:15:21.926Z"
   },
   {
    "duration": 20,
    "start_time": "2022-07-05T14:15:21.956Z"
   },
   {
    "duration": 7695,
    "start_time": "2022-07-05T14:15:21.979Z"
   },
   {
    "duration": 3443,
    "start_time": "2022-07-05T14:15:29.676Z"
   },
   {
    "duration": 2469,
    "start_time": "2022-07-05T14:15:33.121Z"
   },
   {
    "duration": 4,
    "start_time": "2022-07-05T14:15:35.591Z"
   },
   {
    "duration": 31,
    "start_time": "2022-07-05T14:15:35.597Z"
   },
   {
    "duration": 69,
    "start_time": "2022-07-05T14:15:35.630Z"
   },
   {
    "duration": 11,
    "start_time": "2022-07-05T14:15:35.701Z"
   },
   {
    "duration": 4136,
    "start_time": "2022-07-05T14:15:35.714Z"
   },
   {
    "duration": 152,
    "start_time": "2022-07-05T14:15:39.854Z"
   },
   {
    "duration": 0,
    "start_time": "2022-07-05T14:15:40.007Z"
   },
   {
    "duration": 0,
    "start_time": "2022-07-05T14:15:40.008Z"
   },
   {
    "duration": 1466,
    "start_time": "2022-07-05T14:16:10.934Z"
   },
   {
    "duration": 788,
    "start_time": "2022-07-05T14:16:12.402Z"
   },
   {
    "duration": 4,
    "start_time": "2022-07-05T14:16:13.192Z"
   },
   {
    "duration": 308,
    "start_time": "2022-07-05T14:16:13.198Z"
   },
   {
    "duration": 166,
    "start_time": "2022-07-05T14:16:13.509Z"
   },
   {
    "duration": 294,
    "start_time": "2022-07-05T14:16:13.676Z"
   },
   {
    "duration": 18,
    "start_time": "2022-07-05T14:16:13.972Z"
   },
   {
    "duration": 3281,
    "start_time": "2022-07-05T14:16:13.992Z"
   },
   {
    "duration": 6,
    "start_time": "2022-07-05T14:16:17.275Z"
   },
   {
    "duration": 14,
    "start_time": "2022-07-05T14:16:17.283Z"
   },
   {
    "duration": 24,
    "start_time": "2022-07-05T14:16:17.298Z"
   },
   {
    "duration": 36,
    "start_time": "2022-07-05T14:16:17.323Z"
   },
   {
    "duration": 11,
    "start_time": "2022-07-05T14:16:17.363Z"
   },
   {
    "duration": 7631,
    "start_time": "2022-07-05T14:16:17.375Z"
   },
   {
    "duration": 3296,
    "start_time": "2022-07-05T14:16:25.008Z"
   },
   {
    "duration": 2383,
    "start_time": "2022-07-05T14:16:28.306Z"
   },
   {
    "duration": 5,
    "start_time": "2022-07-05T14:16:30.691Z"
   },
   {
    "duration": 45,
    "start_time": "2022-07-05T14:16:30.698Z"
   },
   {
    "duration": 57,
    "start_time": "2022-07-05T14:16:30.745Z"
   },
   {
    "duration": 11,
    "start_time": "2022-07-05T14:16:30.804Z"
   },
   {
    "duration": 3960,
    "start_time": "2022-07-05T14:16:30.817Z"
   },
   {
    "duration": 142,
    "start_time": "2022-07-05T14:16:34.779Z"
   },
   {
    "duration": 0,
    "start_time": "2022-07-05T14:16:34.922Z"
   },
   {
    "duration": 0,
    "start_time": "2022-07-05T14:16:34.924Z"
   },
   {
    "duration": 46,
    "start_time": "2022-07-05T14:17:55.434Z"
   },
   {
    "duration": 46,
    "start_time": "2022-07-05T14:18:34.505Z"
   },
   {
    "duration": 1350,
    "start_time": "2022-07-05T14:21:58.599Z"
   },
   {
    "duration": 701,
    "start_time": "2022-07-05T14:21:59.952Z"
   },
   {
    "duration": 5,
    "start_time": "2022-07-05T14:22:00.654Z"
   },
   {
    "duration": 316,
    "start_time": "2022-07-05T14:22:00.661Z"
   },
   {
    "duration": 130,
    "start_time": "2022-07-05T14:22:00.980Z"
   },
   {
    "duration": 278,
    "start_time": "2022-07-05T14:22:01.112Z"
   },
   {
    "duration": 12,
    "start_time": "2022-07-05T14:22:01.393Z"
   },
   {
    "duration": 3059,
    "start_time": "2022-07-05T14:22:01.407Z"
   },
   {
    "duration": 5,
    "start_time": "2022-07-05T14:22:04.468Z"
   },
   {
    "duration": 17,
    "start_time": "2022-07-05T14:22:04.475Z"
   },
   {
    "duration": 26,
    "start_time": "2022-07-05T14:22:04.493Z"
   },
   {
    "duration": 35,
    "start_time": "2022-07-05T14:22:04.520Z"
   },
   {
    "duration": 5,
    "start_time": "2022-07-05T14:22:04.557Z"
   },
   {
    "duration": 6885,
    "start_time": "2022-07-05T14:22:04.565Z"
   },
   {
    "duration": 3076,
    "start_time": "2022-07-05T14:22:11.452Z"
   },
   {
    "duration": 2114,
    "start_time": "2022-07-05T14:22:14.530Z"
   },
   {
    "duration": 4,
    "start_time": "2022-07-05T14:22:16.646Z"
   },
   {
    "duration": 29,
    "start_time": "2022-07-05T14:22:16.652Z"
   },
   {
    "duration": 70,
    "start_time": "2022-07-05T14:22:16.682Z"
   },
   {
    "duration": 12,
    "start_time": "2022-07-05T14:22:16.753Z"
   },
   {
    "duration": 3621,
    "start_time": "2022-07-05T14:22:16.767Z"
   },
   {
    "duration": 885,
    "start_time": "2022-07-05T14:22:20.390Z"
   },
   {
    "duration": 3804,
    "start_time": "2022-07-05T14:22:21.277Z"
   },
   {
    "duration": 282,
    "start_time": "2022-07-05T14:22:25.082Z"
   },
   {
    "duration": 24356,
    "start_time": "2022-07-05T14:24:40.603Z"
   },
   {
    "duration": 91698,
    "start_time": "2022-07-05T14:26:42.178Z"
   },
   {
    "duration": 3652,
    "start_time": "2022-07-05T14:30:23.015Z"
   },
   {
    "duration": 1405,
    "start_time": "2022-07-05T14:45:13.659Z"
   },
   {
    "duration": 753,
    "start_time": "2022-07-05T14:45:15.066Z"
   },
   {
    "duration": 5,
    "start_time": "2022-07-05T14:45:15.821Z"
   },
   {
    "duration": 318,
    "start_time": "2022-07-05T14:45:15.828Z"
   },
   {
    "duration": 148,
    "start_time": "2022-07-05T14:45:16.149Z"
   },
   {
    "duration": 282,
    "start_time": "2022-07-05T14:45:16.299Z"
   },
   {
    "duration": 16,
    "start_time": "2022-07-05T14:45:16.583Z"
   },
   {
    "duration": 3068,
    "start_time": "2022-07-05T14:45:16.600Z"
   },
   {
    "duration": 5,
    "start_time": "2022-07-05T14:45:19.670Z"
   },
   {
    "duration": 15,
    "start_time": "2022-07-05T14:45:19.677Z"
   },
   {
    "duration": 37,
    "start_time": "2022-07-05T14:45:19.695Z"
   },
   {
    "duration": 33,
    "start_time": "2022-07-05T14:45:19.745Z"
   },
   {
    "duration": 5,
    "start_time": "2022-07-05T14:45:19.779Z"
   },
   {
    "duration": 7087,
    "start_time": "2022-07-05T14:45:19.787Z"
   },
   {
    "duration": 3268,
    "start_time": "2022-07-05T14:45:26.876Z"
   },
   {
    "duration": 2178,
    "start_time": "2022-07-05T14:45:30.146Z"
   },
   {
    "duration": 4,
    "start_time": "2022-07-05T14:45:32.326Z"
   },
   {
    "duration": 42,
    "start_time": "2022-07-05T14:45:32.331Z"
   },
   {
    "duration": 50,
    "start_time": "2022-07-05T14:45:32.375Z"
   },
   {
    "duration": 29,
    "start_time": "2022-07-05T14:45:32.427Z"
   },
   {
    "duration": 3700,
    "start_time": "2022-07-05T14:45:32.458Z"
   },
   {
    "duration": 39521,
    "start_time": "2022-07-05T14:45:36.160Z"
   },
   {
    "duration": 3892,
    "start_time": "2022-07-05T14:46:15.683Z"
   },
   {
    "duration": 268,
    "start_time": "2022-07-05T14:46:19.577Z"
   },
   {
    "duration": 1850,
    "start_time": "2022-07-05T14:51:56.978Z"
   },
   {
    "duration": 1385,
    "start_time": "2022-07-05T14:52:04.261Z"
   },
   {
    "duration": 742,
    "start_time": "2022-07-05T14:52:05.649Z"
   },
   {
    "duration": 4,
    "start_time": "2022-07-05T14:52:06.393Z"
   },
   {
    "duration": 290,
    "start_time": "2022-07-05T14:52:06.399Z"
   },
   {
    "duration": 110,
    "start_time": "2022-07-05T14:52:06.691Z"
   },
   {
    "duration": 287,
    "start_time": "2022-07-05T14:52:06.803Z"
   },
   {
    "duration": 11,
    "start_time": "2022-07-05T14:52:07.091Z"
   },
   {
    "duration": 3122,
    "start_time": "2022-07-05T14:52:07.104Z"
   },
   {
    "duration": 5,
    "start_time": "2022-07-05T14:52:10.228Z"
   },
   {
    "duration": 12,
    "start_time": "2022-07-05T14:52:10.251Z"
   },
   {
    "duration": 27,
    "start_time": "2022-07-05T14:52:10.266Z"
   },
   {
    "duration": 24,
    "start_time": "2022-07-05T14:52:10.295Z"
   },
   {
    "duration": 5,
    "start_time": "2022-07-05T14:52:10.321Z"
   },
   {
    "duration": 7267,
    "start_time": "2022-07-05T14:52:10.347Z"
   },
   {
    "duration": 3579,
    "start_time": "2022-07-05T14:52:17.616Z"
   },
   {
    "duration": 2385,
    "start_time": "2022-07-05T14:52:21.198Z"
   },
   {
    "duration": 4,
    "start_time": "2022-07-05T14:52:23.585Z"
   },
   {
    "duration": 47,
    "start_time": "2022-07-05T14:52:23.590Z"
   },
   {
    "duration": 58,
    "start_time": "2022-07-05T14:52:23.639Z"
   },
   {
    "duration": 14,
    "start_time": "2022-07-05T14:52:23.699Z"
   },
   {
    "duration": 2053,
    "start_time": "2022-07-05T14:52:23.715Z"
   },
   {
    "duration": 0,
    "start_time": "2022-07-05T14:52:25.769Z"
   },
   {
    "duration": 0,
    "start_time": "2022-07-05T14:52:25.771Z"
   },
   {
    "duration": 0,
    "start_time": "2022-07-05T14:52:25.772Z"
   },
   {
    "duration": 4517,
    "start_time": "2022-07-05T14:53:01.584Z"
   },
   {
    "duration": 5632,
    "start_time": "2022-07-05T14:54:20.420Z"
   },
   {
    "duration": 5070,
    "start_time": "2022-07-05T14:54:32.727Z"
   },
   {
    "duration": 5145,
    "start_time": "2022-07-05T14:55:06.306Z"
   },
   {
    "duration": 1545,
    "start_time": "2022-07-05T14:56:01.200Z"
   },
   {
    "duration": 5293,
    "start_time": "2022-07-05T15:10:27.858Z"
   },
   {
    "duration": 7506,
    "start_time": "2022-07-05T15:11:25.773Z"
   },
   {
    "duration": 3344,
    "start_time": "2022-07-05T15:14:07.348Z"
   },
   {
    "duration": 3295,
    "start_time": "2022-07-05T15:14:14.563Z"
   },
   {
    "duration": 3265,
    "start_time": "2022-07-05T15:14:59.180Z"
   },
   {
    "duration": 4958,
    "start_time": "2022-07-05T15:15:07.723Z"
   },
   {
    "duration": 3043,
    "start_time": "2022-07-05T15:19:46.006Z"
   },
   {
    "duration": 606,
    "start_time": "2022-07-05T15:20:06.767Z"
   },
   {
    "duration": 4963,
    "start_time": "2022-07-05T15:20:40.695Z"
   },
   {
    "duration": 545,
    "start_time": "2022-07-05T15:20:58.908Z"
   },
   {
    "duration": 5,
    "start_time": "2022-07-05T15:26:06.789Z"
   },
   {
    "duration": 5961,
    "start_time": "2022-07-05T15:26:13.685Z"
   },
   {
    "duration": 5341,
    "start_time": "2022-07-05T15:26:35.920Z"
   },
   {
    "duration": 5759,
    "start_time": "2022-07-05T15:32:58.102Z"
   },
   {
    "duration": 4120,
    "start_time": "2022-07-05T15:34:57.530Z"
   },
   {
    "duration": 6388,
    "start_time": "2022-07-05T15:37:01.791Z"
   },
   {
    "duration": 7772,
    "start_time": "2022-07-05T15:59:23.594Z"
   },
   {
    "duration": 7831,
    "start_time": "2022-07-05T16:05:22.413Z"
   },
   {
    "duration": 7697,
    "start_time": "2022-07-05T16:05:53.381Z"
   },
   {
    "duration": 10028,
    "start_time": "2022-07-05T16:06:16.124Z"
   },
   {
    "duration": 9465,
    "start_time": "2022-07-05T16:07:23.627Z"
   },
   {
    "duration": 3795,
    "start_time": "2022-07-05T16:12:26.375Z"
   },
   {
    "duration": 520,
    "start_time": "2022-07-05T16:16:14.826Z"
   },
   {
    "duration": 3876,
    "start_time": "2022-07-05T16:18:13.755Z"
   },
   {
    "duration": 14,
    "start_time": "2022-07-05T16:18:30.702Z"
   },
   {
    "duration": 9868,
    "start_time": "2022-07-05T16:19:05.517Z"
   }
  ],
  "kernelspec": {
   "display_name": "Python 3 (ipykernel)",
   "language": "python",
   "name": "python3"
  },
  "language_info": {
   "codemirror_mode": {
    "name": "ipython",
    "version": 3
   },
   "file_extension": ".py",
   "mimetype": "text/x-python",
   "name": "python",
   "nbconvert_exporter": "python",
   "pygments_lexer": "ipython3",
   "version": "3.9.5"
  },
  "toc": {
   "base_numbering": 1,
   "nav_menu": {},
   "number_sections": true,
   "sideBar": true,
   "skip_h1_title": true,
   "title_cell": "Содержание",
   "title_sidebar": "Contents",
   "toc_cell": true,
   "toc_position": {
    "height": "calc(100% - 180px)",
    "left": "10px",
    "top": "150px",
    "width": "294px"
   },
   "toc_section_display": true,
   "toc_window_display": true
  }
 },
 "nbformat": 4,
 "nbformat_minor": 2
}
