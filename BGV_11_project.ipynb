{
 "cells": [
  {
   "cell_type": "markdown",
   "metadata": {},
   "source": [
    "<div class=\"alert alert-block alert-info\">\n",
    "<b>V2 Комментарий ревьюера:</b>\n",
    "\n",
    "Привет! Вторичные комментарии начинаю с V2\n",
    "\n",
    "Вот как можно увеличить RMSE:\n",
    "\n",
    "1. Попробуй увеличить lag до 24\n",
    "2. Для fit можешь объединить тренировочную и валидационную выборки\n",
    "\n",
    "Удачи!)\n",
    "</div>"
   ]
  },
  {
   "cell_type": "markdown",
   "metadata": {},
   "source": [
    "Привет, Глеб! Как дела?) ☺️\n",
    "<br> Меня зовут Дуолан 👋 Буду проверять твой проект. Давай вместе доведем его до идеала 😉\n",
    "<br> Дальнейшее общение будет происходить на «ты», если это не вызывает никаких проблем.\n",
    "<br> Желательно реагировать на каждый мой комментарий («исправил», «не понятно как исправить ошибку», ...)\n",
    "<br> Пожалуйста, не удаляй мои комментарии, они будут необходимы для повторного ревью.\n",
    "\n",
    "Комментарии будут в <font color='green'>зеленой</font>, <font color='blue'>синей</font> или <font color='red'>красной</font> рамках:\n",
    "\n",
    "<div class=\"alert alert-block alert-success\">\n",
    "<b>✔️ Успех:</b> Если все сделано отлично\n",
    "</div>\n",
    "\n",
    "<div class=\"alert alert-block alert-warning\">\n",
    "<b>⚠️ Совет:</b> Если можно немного улучшить\n",
    "</div>\n",
    "\n",
    "<div class=\"alert alert-block alert-danger\">\n",
    "<b>❌ Замечание:</b> Если требуются исправления\n",
    "</div>\n",
    "\n",
    "Работа не может быть принята с красными комментариями.\n",
    "\n",
    "-------------------\n",
    "\n",
    "Будет очень хорошо, если ты будешь помечать свои действия следующим образом:\n",
    "\n",
    "<div class=\"alert alert-block alert-info\">\n",
    "<b>Комментарий студента:</b> ...\n",
    "</div>\n",
    "\n",
    "<div class=\"alert alert-block alert-info\">\n",
    "<b>Изменения:</b> Были внесены следующие изменения ...\n",
    "</div>"
   ]
  },
  {
   "cell_type": "markdown",
   "metadata": {
    "toc": true
   },
   "source": [
    "<h1>Содержание<span class=\"tocSkip\"></span></h1>\n",
    "<div class=\"toc\"><ul class=\"toc-item\"><li><span><a href=\"#Подготовка\" data-toc-modified-id=\"Подготовка-1\"><span class=\"toc-item-num\">1&nbsp;&nbsp;</span>Подготовка</a></span></li><li><span><a href=\"#Анализ\" data-toc-modified-id=\"Анализ-2\"><span class=\"toc-item-num\">2&nbsp;&nbsp;</span>Анализ</a></span></li><li><span><a href=\"#Обучение\" data-toc-modified-id=\"Обучение-3\"><span class=\"toc-item-num\">3&nbsp;&nbsp;</span>Обучение</a></span></li><li><span><a href=\"#Тестирование\" data-toc-modified-id=\"Тестирование-4\"><span class=\"toc-item-num\">4&nbsp;&nbsp;</span>Тестирование</a></span></li></ul></div>"
   ]
  },
  {
   "cell_type": "markdown",
   "metadata": {},
   "source": [
    "#  Прогнозирование заказов такси"
   ]
  },
  {
   "cell_type": "markdown",
   "metadata": {},
   "source": [
    "Компания «Чётенькое такси» собрала исторические данные о заказах такси в аэропортах. Чтобы привлекать больше водителей в период пиковой нагрузки, нужно спрогнозировать количество заказов такси на следующий час. Постройте модель для такого предсказания.\n",
    "\n",
    "Значение метрики *RMSE* на тестовой выборке должно быть не больше 48.\n",
    "\n",
    "Вам нужно:\n",
    "\n",
    "1. Загрузить данные и выполнить их ресемплирование по одному часу.\n",
    "2. Проанализировать данные.\n",
    "3. Обучить разные модели с различными гиперпараметрами. Сделать тестовую выборку размером 10% от исходных данных.\n",
    "4. Проверить данные на тестовой выборке и сделать выводы.\n",
    "\n",
    "\n",
    "Данные лежат в файле `taxi.csv`. Количество заказов находится в столбце `num_orders` (от англ. *number of orders*, «число заказов»)."
   ]
  },
  {
   "cell_type": "markdown",
   "metadata": {},
   "source": [
    "<div class=\"alert alert-block alert-warning\">\n",
    "<b>⚠️ Совет:</b> \n",
    "\n",
    "Важно чтобы в проектах было подробное описание: когда потенциальные работодатели будут смотреть твой проект в портфолио, им нужно будет понимать задачу, чтобы можно было оценить её решение. Вот что можно добавить:\n",
    "    \n",
    "* Описание целей и задачи проекта\n",
    "* Описание данных\n",
    "* План работы\n",
    "\n",
    "И рекомендую писать введение от первого лица множественного числа. Так работа выглядит более самостоятельной)\n",
    "</div>"
   ]
  },
  {
   "cell_type": "markdown",
   "metadata": {},
   "source": [
    "## Подготовка"
   ]
  },
  {
   "cell_type": "code",
   "execution_count": 1,
   "metadata": {},
   "outputs": [],
   "source": [
    "import pandas as pd\n",
    "import numpy as np\n",
    "import math\n",
    "import matplotlib.pyplot as plt\n",
    "plt.rc(\"figure\",figsize=(20,10))\n",
    "import time\n",
    "import seaborn as sns\n",
    "from statsmodels.tsa.seasonal import seasonal_decompose\n",
    "from sklearn.model_selection import train_test_split\n",
    "from sklearn.linear_model import LinearRegression\n",
    "from sklearn.ensemble import RandomForestRegressor\n",
    "from sklearn.metrics import mean_squared_error\n",
    "from sklearn.model_selection import TimeSeriesSplit\n",
    "from sklearn.model_selection import GridSearchCV\n",
    "from statsmodels.tsa.stattools import adfuller\n",
    "from catboost import CatBoostRegressor\n",
    "import lightgbm as lgb\n"
   ]
  },
  {
   "cell_type": "markdown",
   "metadata": {},
   "source": [
    "<div class=\"alert alert-block alert-success\">\n",
    "<b>✔️ Успех:</b>\n",
    "\n",
    "Правильное решение — выделять отдельную ячейку в начале проекта под подключение библиотек и настройки. Tак код легче поддерживать 👌 Но также стоит соблюдать рекомендации PEP-8 при написании кода. У импортов есть тоже определенные правила. Это сделано для повышения читабельности и простоты работы с кодом. <br>\n",
    "\n",
    "https://pythonworld.ru/osnovy/pep-8-rukovodstvo-po-napisaniyu-koda-na-python.html\n",
    "</div>"
   ]
  },
  {
   "cell_type": "code",
   "execution_count": 2,
   "metadata": {},
   "outputs": [],
   "source": [
    "try:\n",
    "    data=pd.read_csv( 'C:/Users/elve/Desktop/Обучение/data/taxi.csv', index_col=[0], parse_dates=[0])\n",
    "except:\n",
    "    data=pd.read_csv('/datasets/taxi.csv',index_col=[0], parse_dates=[0])"
   ]
  },
  {
   "cell_type": "markdown",
   "metadata": {},
   "source": [
    "<div class=\"alert alert-block alert-success\">\n",
    "<b>✔️ Успех:</b>\n",
    "\n",
    "Признак даты сделали индексом, тем самым преобразовали датафрейм во временной ряд 👍\n",
    "</div>"
   ]
  },
  {
   "cell_type": "code",
   "execution_count": 3,
   "metadata": {},
   "outputs": [
    {
     "data": {
      "text/plain": [
       "Index(['num_orders'], dtype='object')"
      ]
     },
     "execution_count": 3,
     "metadata": {},
     "output_type": "execute_result"
    }
   ],
   "source": [
    "data.sort_index(inplace=True)\n",
    "data = data.resample('1H').sum()\n",
    "data.columns"
   ]
  },
  {
   "cell_type": "markdown",
   "metadata": {},
   "source": [
    "<div class=\"alert alert-block alert-success\">\n",
    "<b>✔️ Успех:</b>\n",
    "   \n",
    "Значения индекса расположены в хронологическом порядке 👍\n",
    "</div>"
   ]
  },
  {
   "cell_type": "markdown",
   "metadata": {},
   "source": [
    "<div class=\"alert alert-block alert-success\">\n",
    "<b>✔️ Успех:</b>\n",
    "\n",
    "Ресемплирование выполнено верно 👍 Суммирование проще интерпретируется, чем использование других агрегационных функций\n",
    "</div>"
   ]
  },
  {
   "cell_type": "code",
   "execution_count": 4,
   "metadata": {},
   "outputs": [
    {
     "data": {
      "text/html": [
       "<div>\n",
       "<style scoped>\n",
       "    .dataframe tbody tr th:only-of-type {\n",
       "        vertical-align: middle;\n",
       "    }\n",
       "\n",
       "    .dataframe tbody tr th {\n",
       "        vertical-align: top;\n",
       "    }\n",
       "\n",
       "    .dataframe thead th {\n",
       "        text-align: right;\n",
       "    }\n",
       "</style>\n",
       "<table border=\"1\" class=\"dataframe\">\n",
       "  <thead>\n",
       "    <tr style=\"text-align: right;\">\n",
       "      <th></th>\n",
       "      <th>num_orders</th>\n",
       "      <th>hour</th>\n",
       "      <th>day</th>\n",
       "      <th>dayofweek</th>\n",
       "      <th>month</th>\n",
       "    </tr>\n",
       "    <tr>\n",
       "      <th>datetime</th>\n",
       "      <th></th>\n",
       "      <th></th>\n",
       "      <th></th>\n",
       "      <th></th>\n",
       "      <th></th>\n",
       "    </tr>\n",
       "  </thead>\n",
       "  <tbody>\n",
       "    <tr>\n",
       "      <th>2018-03-01 00:00:00</th>\n",
       "      <td>124</td>\n",
       "      <td>0</td>\n",
       "      <td>1</td>\n",
       "      <td>3</td>\n",
       "      <td>3</td>\n",
       "    </tr>\n",
       "    <tr>\n",
       "      <th>2018-03-01 01:00:00</th>\n",
       "      <td>85</td>\n",
       "      <td>1</td>\n",
       "      <td>1</td>\n",
       "      <td>3</td>\n",
       "      <td>3</td>\n",
       "    </tr>\n",
       "    <tr>\n",
       "      <th>2018-03-01 02:00:00</th>\n",
       "      <td>71</td>\n",
       "      <td>2</td>\n",
       "      <td>1</td>\n",
       "      <td>3</td>\n",
       "      <td>3</td>\n",
       "    </tr>\n",
       "    <tr>\n",
       "      <th>2018-03-01 03:00:00</th>\n",
       "      <td>66</td>\n",
       "      <td>3</td>\n",
       "      <td>1</td>\n",
       "      <td>3</td>\n",
       "      <td>3</td>\n",
       "    </tr>\n",
       "    <tr>\n",
       "      <th>2018-03-01 04:00:00</th>\n",
       "      <td>43</td>\n",
       "      <td>4</td>\n",
       "      <td>1</td>\n",
       "      <td>3</td>\n",
       "      <td>3</td>\n",
       "    </tr>\n",
       "    <tr>\n",
       "      <th>2018-03-01 05:00:00</th>\n",
       "      <td>6</td>\n",
       "      <td>5</td>\n",
       "      <td>1</td>\n",
       "      <td>3</td>\n",
       "      <td>3</td>\n",
       "    </tr>\n",
       "    <tr>\n",
       "      <th>2018-03-01 06:00:00</th>\n",
       "      <td>12</td>\n",
       "      <td>6</td>\n",
       "      <td>1</td>\n",
       "      <td>3</td>\n",
       "      <td>3</td>\n",
       "    </tr>\n",
       "    <tr>\n",
       "      <th>2018-03-01 07:00:00</th>\n",
       "      <td>15</td>\n",
       "      <td>7</td>\n",
       "      <td>1</td>\n",
       "      <td>3</td>\n",
       "      <td>3</td>\n",
       "    </tr>\n",
       "    <tr>\n",
       "      <th>2018-03-01 08:00:00</th>\n",
       "      <td>34</td>\n",
       "      <td>8</td>\n",
       "      <td>1</td>\n",
       "      <td>3</td>\n",
       "      <td>3</td>\n",
       "    </tr>\n",
       "    <tr>\n",
       "      <th>2018-03-01 09:00:00</th>\n",
       "      <td>69</td>\n",
       "      <td>9</td>\n",
       "      <td>1</td>\n",
       "      <td>3</td>\n",
       "      <td>3</td>\n",
       "    </tr>\n",
       "  </tbody>\n",
       "</table>\n",
       "</div>"
      ],
      "text/plain": [
       "                     num_orders  hour  day  dayofweek  month\n",
       "datetime                                                    \n",
       "2018-03-01 00:00:00         124     0    1          3      3\n",
       "2018-03-01 01:00:00          85     1    1          3      3\n",
       "2018-03-01 02:00:00          71     2    1          3      3\n",
       "2018-03-01 03:00:00          66     3    1          3      3\n",
       "2018-03-01 04:00:00          43     4    1          3      3\n",
       "2018-03-01 05:00:00           6     5    1          3      3\n",
       "2018-03-01 06:00:00          12     6    1          3      3\n",
       "2018-03-01 07:00:00          15     7    1          3      3\n",
       "2018-03-01 08:00:00          34     8    1          3      3\n",
       "2018-03-01 09:00:00          69     9    1          3      3"
      ]
     },
     "execution_count": 4,
     "metadata": {},
     "output_type": "execute_result"
    }
   ],
   "source": [
    "data['hour'] = data.index.hour\n",
    "data['day'] = data.index.day\n",
    "data['dayofweek'] = data.index.dayofweek\n",
    "data['month'] = data.index.month\n",
    "data.head(10)"
   ]
  },
  {
   "cell_type": "markdown",
   "metadata": {},
   "source": [
    "<b>Выводы:</b>\n",
    "Получены данные и добавлены календарные признаки. Годовой признак не добавлялся так как датасет лежит в пределах одного года."
   ]
  },
  {
   "cell_type": "markdown",
   "metadata": {},
   "source": [
    "<div class=\"alert alert-block alert-success\">\n",
    "<b>✔️ Успех:</b>\n",
    "\n",
    "Дополнительные признаки успешно добавлены 👍\n",
    "</div>"
   ]
  },
  {
   "cell_type": "markdown",
   "metadata": {},
   "source": [
    "## Анализ"
   ]
  },
  {
   "cell_type": "markdown",
   "metadata": {},
   "source": [
    "В данных можно предположить наличие двух  вложенных  сезонностей:  \n",
    "* Дневная сезонность с переиодом 24 часа\n",
    "* Недельная сезонность с периодом 168 часов\n",
    "    "
   ]
  },
  {
   "cell_type": "code",
   "execution_count": 5,
   "metadata": {},
   "outputs": [],
   "source": [
    "data_check=data.copy()"
   ]
  },
  {
   "cell_type": "code",
   "execution_count": 6,
   "metadata": {},
   "outputs": [],
   "source": [
    "data_check['rolling_mean_day'] = data_check['num_orders'].rolling(24).mean()\n",
    "data_check['rolling_mean_week'] = data_check['num_orders'].rolling(168).mean()"
   ]
  },
  {
   "cell_type": "code",
   "execution_count": 7,
   "metadata": {},
   "outputs": [
    {
     "data": {
      "image/png": "[encoded data removed]",
      "text/plain": [
       "<Figure size 1600x480 with 1 Axes>"
      ]
     },
     "metadata": {
      "needs_background": "light"
     },
     "output_type": "display_data"
    }
   ],
   "source": [
    "\n",
    "plt.figure(figsize=(20, 6), dpi=80)\n",
    "plt.plot(data_check['rolling_mean_day'], label='скользящая среднее 24')\n",
    "plt.plot(data_check['rolling_mean_week'], label='скользящая среднее 168')\n",
    "plt.plot(data_check['num_orders'], label='кол-во заказов', alpha=0.2, color=\"green\")\n",
    "plt.legend()\n",
    "plt.ylabel('Заказы')\n",
    "plt.xlabel('Период')\n",
    "plt.show()"
   ]
  },
  {
   "cell_type": "markdown",
   "metadata": {},
   "source": [
    "<div class=\"alert alert-block alert-success\">\n",
    "<b>✔️ Успех:</b>\n",
    "\n",
    "Визуализировали исходный и сглаженный временной ряд - отлично!\n",
    "</div>"
   ]
  },
  {
   "cell_type": "code",
   "execution_count": 8,
   "metadata": {},
   "outputs": [
    {
     "name": "stdout",
     "output_type": "stream",
     "text": [
      "1\n",
      " RMSE= 0.00\n",
      "2\n",
      " RMSE= 19.65\n",
      "3\n",
      " RMSE= 25.72\n",
      "4\n",
      " RMSE= 29.97\n",
      "5\n",
      " RMSE= 32.71\n",
      "6\n",
      " RMSE= 34.38\n",
      "7\n",
      " RMSE= 35.38\n",
      "8\n",
      " RMSE= 35.74\n",
      "9\n",
      " RMSE= 35.89\n",
      "10\n",
      " RMSE= 36.26\n",
      "11\n",
      " RMSE= 36.57\n",
      "12\n",
      " RMSE= 36.60\n",
      "13\n",
      " RMSE= 36.57\n",
      "14\n",
      " RMSE= 36.63\n",
      "15\n",
      " RMSE= 36.83\n",
      "16\n",
      " RMSE= 37.14\n",
      "17\n",
      " RMSE= 37.29\n",
      "18\n",
      " RMSE= 37.47\n",
      "19\n",
      " RMSE= 37.78\n",
      "20\n",
      " RMSE= 38.09\n",
      "21\n",
      " RMSE= 38.29\n",
      "22\n",
      " RMSE= 38.34\n",
      "23\n",
      " RMSE= 38.14\n",
      "24\n",
      " RMSE= 37.57\n",
      "25\n",
      " RMSE= 36.83\n",
      "26\n",
      " RMSE= 36.47\n",
      "27\n",
      " RMSE= 36.44\n",
      "28\n",
      " RMSE= 36.73\n",
      "29\n",
      " RMSE= 37.03\n",
      "30\n",
      " RMSE= 37.30\n",
      "31\n",
      " RMSE= 37.58\n",
      "32\n",
      " RMSE= 37.81\n",
      "33\n",
      " RMSE= 37.98\n",
      "34\n",
      " RMSE= 38.17\n",
      "35\n",
      " RMSE= 38.39\n",
      "36\n",
      " RMSE= 38.50\n",
      "37\n",
      " RMSE= 38.64\n",
      "38\n",
      " RMSE= 38.78\n",
      "39\n",
      " RMSE= 38.92\n",
      "40\n",
      " RMSE= 39.07\n",
      "41\n",
      " RMSE= 39.25\n",
      "42\n",
      " RMSE= 39.40\n",
      "43\n",
      " RMSE= 39.60\n",
      "44\n",
      " RMSE= 39.77\n",
      "45\n",
      " RMSE= 40.03\n",
      "46\n",
      " RMSE= 40.15\n",
      "47\n",
      " RMSE= 40.10\n",
      "48\n",
      " RMSE= 39.87\n",
      "49\n",
      " RMSE= 39.43\n"
     ]
    }
   ],
   "source": [
    "\n",
    "for roll in range(1,50):\n",
    "    data_check['rolling_mean'] = data_check['num_orders'].rolling(roll).mean()\n",
    "    data_check.dropna(inplace=True)\n",
    "    RMSE=math.sqrt(mean_squared_error(data_check['num_orders'], data_check['rolling_mean']))\n",
    "    print(roll)\n",
    "    print(' RMSE= {:.2f}'.format(RMSE))\n",
    "\n",
    "    "
   ]
  },
  {
   "cell_type": "code",
   "execution_count": 9,
   "metadata": {},
   "outputs": [
    {
     "data": {
      "text/plain": [
       "count    4416.000000\n",
       "mean       84.422781\n",
       "std        45.023853\n",
       "min         0.000000\n",
       "25%        54.000000\n",
       "50%        78.000000\n",
       "75%       107.000000\n",
       "max       462.000000\n",
       "Name: num_orders, dtype: float64"
      ]
     },
     "execution_count": 9,
     "metadata": {},
     "output_type": "execute_result"
    }
   ],
   "source": [
    "data['num_orders'].describe()"
   ]
  },
  {
   "cell_type": "code",
   "execution_count": 10,
   "metadata": {},
   "outputs": [
    {
     "data": {
      "image/png": "[encoded data removed]",
      "text/plain": [
       "<Figure size 1440x720 with 4 Axes>"
      ]
     },
     "metadata": {
      "needs_background": "light"
     },
     "output_type": "display_data"
    },
    {
     "data": {
      "text/plain": [
       "<Figure size 1600x480 with 0 Axes>"
      ]
     },
     "metadata": {},
     "output_type": "display_data"
    }
   ],
   "source": [
    "\n",
    "decompose = seasonal_decompose(data['num_orders'])\n",
    "decompose.plot()\n",
    "plt.figure(figsize=(20, 6), dpi=80)\n",
    "plt.show()"
   ]
  },
  {
   "cell_type": "code",
   "execution_count": 11,
   "metadata": {},
   "outputs": [
    {
     "name": "stdout",
     "output_type": "stream",
     "text": [
      "p-value = 0.028940051402612906\n",
      "Ряд стационарный\n"
     ]
    }
   ],
   "source": [
    "# Проверим стационарность\n",
    "adf_test = adfuller(data['num_orders'])\n",
    " \n",
    "# выведем p-value\n",
    "print('p-value = ' +str(adf_test[1]))\n",
    "if float(str(adf_test[1]))<0.05:\n",
    "    print(\"Ряд стационарный\")\n",
    "else:\n",
    "    print(\"Ряд не стационарный\")"
   ]
  },
  {
   "cell_type": "code",
   "execution_count": 12,
   "metadata": {
    "scrolled": true
   },
   "outputs": [
    {
     "data": {
      "text/plain": [
       "{'whiskers': [<matplotlib.lines.Line2D at 0x7f40c3eba550>,\n",
       "  <matplotlib.lines.Line2D at 0x7f40c3eba8b0>],\n",
       " 'caps': [<matplotlib.lines.Line2D at 0x7f40c3ebac10>,\n",
       "  <matplotlib.lines.Line2D at 0x7f40c3ebaf70>],\n",
       " 'boxes': [<matplotlib.lines.Line2D at 0x7f40c3eba1f0>],\n",
       " 'medians': [<matplotlib.lines.Line2D at 0x7f40c3ec7310>],\n",
       " 'fliers': [<matplotlib.lines.Line2D at 0x7f40c3ec7670>],\n",
       " 'means': []}"
      ]
     },
     "execution_count": 12,
     "metadata": {},
     "output_type": "execute_result"
    },
    {
     "data": {
      "image/png": "[encoded data removed]",
      "text/plain": [
       "<Figure size 1080x216 with 1 Axes>"
      ]
     },
     "metadata": {
      "needs_background": "light"
     },
     "output_type": "display_data"
    }
   ],
   "source": [
    "plt.figure(figsize=(15, 3))\n",
    "plt.boxplot(x=data['num_orders'] ,vert=0)"
   ]
  },
  {
   "cell_type": "markdown",
   "metadata": {},
   "source": [
    "<div class=\"alert alert-block alert-danger\">\n",
    "<b>❌ Замечание:</b>\n",
    "\n",
    "Можешь добавить анализ временного ряда на тренды и сезонность?) Эти составляющие можно исследовать методом декомпозиции.\n",
    "\n",
    "Также стоит сопроводить исследовательский анализ промежуточными выводами.\n",
    "</div>\n",
    "\n",
    "<div class=\"alert alert-block alert-info\">\n",
    "    \n",
    "<b>Комментарий студента:</b>  \n",
    "> Добавлена декомпозиция ряда.  \n",
    "> Добавлен проверка на стационарность ряда.  \n",
    "> Выводы добавил ниже.    \n",
    "</div>\n"
   ]
  },
  {
   "cell_type": "markdown",
   "metadata": {},
   "source": [
    "<div class=\"alert alert-block alert-success\">\n",
    "<b>V2 ✔️ Успешно исправлено</b>\n",
    "</div>"
   ]
  },
  {
   "cell_type": "code",
   "execution_count": 13,
   "metadata": {},
   "outputs": [],
   "source": [
    "def make_features(data, max_lag, rolling_mean_size):\n",
    "    \n",
    "    data['hour'] = data.index.hour\n",
    "    data['day'] = data.index.day\n",
    "    data['dayofweek'] = data.index.dayofweek\n",
    "    data['month'] = data.index.month\n",
    "    \n",
    "    for lag in range(1, max_lag + 1):\n",
    "        data['lag_{}'.format(lag)] = data['num_orders'].shift(lag)\n",
    "\n",
    "    data['rolling_mean'] = data['num_orders'].shift().rolling(rolling_mean_size).mean()\n",
    " \n",
    "\n",
    "make_features(data, 24, 24)"
   ]
  },
  {
   "cell_type": "markdown",
   "metadata": {},
   "source": [
    "<div class=\"alert alert-block alert-danger\">\n",
    "<b>❌ Замечание:</b>\n",
    "\n",
    "Вычисление скользящего среднего не должно включать в себя значение текущего ряда.\n",
    "\n",
    "Чтобы не учитывать это, вызови метод shift():\n",
    "</div>\n",
    "\n",
    "```python\n",
    "df['rolling_mean'] = df['num_orders'].shift().rolling(rolling_mean_size).mean()\n",
    "```"
   ]
  },
  {
   "cell_type": "markdown",
   "metadata": {},
   "source": [
    "\n",
    "<div class=\"alert alert-block alert-info\">\n",
    "    \n",
    "<b>Комментарий студента:</b>  \n",
    "Исправил \n",
    "</div>\n"
   ]
  },
  {
   "cell_type": "markdown",
   "metadata": {},
   "source": [
    "<div class=\"alert alert-block alert-success\">\n",
    "<b>V2 ✔️ Успешно исправлено</b>\n",
    "</div>"
   ]
  },
  {
   "cell_type": "markdown",
   "metadata": {},
   "source": [
    "<div class=\"alert alert-block alert-warning\">\n",
    "<b>⚠️ Совет:</b>\n",
    "\n",
    "Какие начальные значения можно подобрать для lag и скользящего среднего:\n",
    "\n",
    "Lag. Его называют ещё параметром авторегрессии. На бытовом уровне его можно понять так: допустим вчера мы собрались с друзьями и немного закусили. Повлияет ли это на сегодняшний настрой на жизнь? Скорее да)))) Так вот с авторегрессией так же. Допустим, lag = 1 учитывает (для удобства будем считать, что продажи собраны по дням) как вчерашние продажи - вчерашние события - повлияли на сегодняшние. Тогда lag = 2 учитывает как позавчерашние продажи влияют на сегодняшние.\n",
    "    \n",
    "Скользящее среднее. Предположим, rolling = 10 - скользящее среднее. По сути, ищем среднее по 10 точкам, потом следующие 10 точек, и т.д. Это будет некое подобие тренда - средней линии. Т.е. - сглаживание колебаний/выбросов.\n",
    "    \n",
    "Поэтому, если выставить сезонности - час и день недели, то дополнительные факторы могут быть такие: lag = 1 (максимум 2), а скользящее среднее = 24 (среднее за сутки). Т.е. начинать с этого. В итоге модель будет приемлемая по точности и не много факторов. А это значит и для бизнеса будет легче доносить решение)\n",
    "\n",
    "Советую для начала lag добавить за предыдущий час (1) и значением за вчерашний день (24), rolling_mean задать 24 (суточная сезонность)\n",
    "\n",
    "</div>\n",
    "\n",
    "<div class=\"alert alert-block alert-info\">\n",
    "    \n",
    "<b>Комментарий студента:</b>  \n",
    "Я попробовал применить Lag 1 и rolling_mean 24, но в этом случае расчет RSME по тестовой выборке улетает за 48. Что  в этом случае делать? как наиболее точно подобрать два этих  гиперпараметра? \n",
    "</div>\n"
   ]
  },
  {
   "cell_type": "markdown",
   "metadata": {},
   "source": [
    "<div class=\"alert alert-block alert-info\">\n",
    "<b>V2 Комментарий ревьюера:</b>\n",
    "\n",
    "Для подбора этих параметров нужно смотреть на то, какие сезонности есть в данных. Если есть только дневная, то lag и rolling_mean можно выбрать по 24.\n",
    "\n",
    "Также можешь в цикле подобрать оптимальные значения с помощью Линейной регрессии\n",
    "</div>"
   ]
  },
  {
   "cell_type": "markdown",
   "metadata": {},
   "source": [
    "<b>Выводы:</b>  \n",
    "При анализе временного ряда мы визуально убедились в наличие двух вложенных сезонностей : кратность 24(дневная) и кратность 7 (недельная). Так же выяснили что ряд  являеться стационарным. (Хотя тренд  заметен? )"
   ]
  },
  {
   "cell_type": "markdown",
   "metadata": {},
   "source": [
    "## Обучение"
   ]
  },
  {
   "cell_type": "code",
   "execution_count": 14,
   "metadata": {},
   "outputs": [],
   "source": [
    "train,t_valid = train_test_split(data, shuffle=False, test_size=0.2)\n",
    "valid,test = train_test_split(t_valid, shuffle=False, test_size=0.5)\n",
    "\n",
    "train = train.dropna()\n",
    "X_train=train.drop('num_orders', axis=1)\n",
    "y_train=train['num_orders']\n",
    "X_valid=valid.drop('num_orders', axis=1)\n",
    "y_valid=valid['num_orders']\n",
    "X_test=test.drop('num_orders', axis=1)\n",
    "y_test=test['num_orders']\n",
    "\n"
   ]
  },
  {
   "cell_type": "markdown",
   "metadata": {},
   "source": [
    "<div class=\"alert alert-block alert-danger\">\n",
    "<b>❌ Замечание:</b>\n",
    "\n",
    "Можешь сделать размер тестовой выборки равной 10% от исходных данных? Будем придерживаться тз заказчика)\n",
    "</div>"
   ]
  },
  {
   "cell_type": "markdown",
   "metadata": {},
   "source": [
    "<div class=\"alert alert-block alert-info\">\n",
    "    \n",
    "<b>Комментарий студента:</b>  \n",
    "Сделал\n",
    "</div>\n"
   ]
  },
  {
   "cell_type": "markdown",
   "metadata": {},
   "source": [
    "<div class=\"alert alert-block alert-success\">\n",
    "<b>V2 ✔️ Успешно исправлено</b>\n",
    "</div>"
   ]
  },
  {
   "cell_type": "code",
   "execution_count": 15,
   "metadata": {},
   "outputs": [
    {
     "name": "stdout",
     "output_type": "stream",
     "text": [
      "Fitting 7 folds for each of 9 candidates, totalling 63 fits\n"
     ]
    },
    {
     "data": {
      "text/plain": [
       "GridSearchCV(cv=TimeSeriesSplit(gap=0, max_train_size=None, n_splits=7, test_size=None),\n",
       "             estimator=RandomForestRegressor(random_state=42), n_jobs=-1,\n",
       "             param_grid={'max_depth': [1, 10, 1],\n",
       "                         'n_estimators': [1, 1000, 50]},\n",
       "             scoring='neg_root_mean_squared_error', verbose=True)"
      ]
     },
     "execution_count": 15,
     "metadata": {},
     "output_type": "execute_result"
    }
   ],
   "source": [
    "splits = TimeSeriesSplit(n_splits=7)\n",
    "# RandomForest\n",
    "RF = RandomForestRegressor(random_state=42)\n",
    "parametrs = {\"max_depth\": [1,10,1],\"n_estimators\":[1,1000,50]}\n",
    "\n",
    "RF_grid = GridSearchCV(RF,parametrs,cv = splits,scoring='neg_root_mean_squared_error',verbose=True,n_jobs=-1)\n",
    "RF_grid.fit(X_train,y_train)"
   ]
  },
  {
   "cell_type": "markdown",
   "metadata": {},
   "source": [
    "<div class=\"alert alert-block alert-danger\">\n",
    "<b>❌ Замечание:</b>\n",
    "\n",
    "В GridSearchCV по-умолчанию используется R2  метрика. Проверить значение можно, вызвав `.best_score_`.  Тебе во всех GridSearchCV следует задать RMSE-метрику через параметр `scoring='neg_root_mean_squared_error'`. \n",
    "</div>"
   ]
  },
  {
   "cell_type": "markdown",
   "metadata": {},
   "source": [
    "<div class=\"alert alert-block alert-warning\">\n",
    "<b>⚠️ Совет:</b>\n",
    "\n",
    "n_splits , обычно, задают так, чтобы размер валидационной выборки при проведении кросс-валидации примерно совпадал с размером тестовой выборки. Размер тестовой выборки у нас 10%, а размер валидационной равен 1/(n_splits+1) части от обучающей выборки (см. документацию к TimeSeriesSplit). К примеру, если n_splits=2, то размер валидационной равен 1/3 от обучающей выборки, т.е. 1/3*90%=30% от исходной выборки.\n",
    "</div>"
   ]
  },
  {
   "cell_type": "markdown",
   "metadata": {},
   "source": [
    "<div class=\"alert alert-block alert-info\">\n",
    "    \n",
    "<b>Комментарий студента:</b>  \n",
    "> Исравил метрику на RMSE.  \n",
    "> Показатель n_splits поставил 7, что бы 1/8*90%=10%  соответсвовало тестовой выборке\n",
    "    </div>\n"
   ]
  },
  {
   "cell_type": "markdown",
   "metadata": {},
   "source": [
    "<div class=\"alert alert-block alert-success\">\n",
    "<b>V2 ✔️ Успешно исправлено</b>\n",
    "</div>"
   ]
  },
  {
   "cell_type": "code",
   "execution_count": 16,
   "metadata": {},
   "outputs": [
    {
     "name": "stdout",
     "output_type": "stream",
     "text": [
      "RMSE = 32.80\n",
      "RandomForestRegressor(max_depth=10, n_estimators=1000, random_state=42)\n"
     ]
    }
   ],
   "source": [
    "\n",
    "preds_RF_valid = RF_grid.best_estimator_.predict(X_valid)\n",
    "RMSE_RF=math.sqrt(mean_squared_error(y_valid, preds_RF_valid))\n",
    "print('RMSE = {:.2f}'.format(RMSE_RF))\n",
    "print (RF_grid.best_estimator_)"
   ]
  },
  {
   "cell_type": "code",
   "execution_count": 17,
   "metadata": {},
   "outputs": [
    {
     "name": "stdout",
     "output_type": "stream",
     "text": [
      "RMSE= 34.15\n"
     ]
    }
   ],
   "source": [
    "#LinearRegression\n",
    "LR=LinearRegression()\n",
    "LR.fit(X_train,y_train)\n",
    "pred_LR=LR.predict(X_valid)\n",
    "RMSE_LR=math.sqrt(mean_squared_error(y_valid, pred_LR))\n",
    "\n",
    "print('RMSE= {:.2f}'.format(RMSE_LR))\n"
   ]
  },
  {
   "cell_type": "code",
   "execution_count": 18,
   "metadata": {
    "scrolled": true
   },
   "outputs": [
    {
     "name": "stdout",
     "output_type": "stream",
     "text": [
      "[LightGBM] [Warning] Accuracy may be bad since you didn't explicitly set num_leaves OR 2^max_depth > num_leaves. (num_leaves=31).\n",
      "[LightGBM] [Warning] Accuracy may be bad since you didn't explicitly set num_leaves OR 2^max_depth > num_leaves. (num_leaves=31).\n",
      "[LightGBM] [Warning] Auto-choosing col-wise multi-threading, the overhead of testing was 0.000800 seconds.\n",
      "You can set `force_col_wise=true` to remove the overhead.\n",
      "[LightGBM] [Info] Total Bins 4548\n",
      "[LightGBM] [Info] Number of data points in the train set: 3508, number of used features: 29\n",
      "[LightGBM] [Warning] Accuracy may be bad since you didn't explicitly set num_leaves OR 2^max_depth > num_leaves. (num_leaves=31).\n",
      "[LightGBM] [Info] Start training from score 74.427024\n"
     ]
    },
    {
     "name": "stderr",
     "output_type": "stream",
     "text": [
      "/opt/conda/lib/python3.9/site-packages/lightgbm/engine.py:239: UserWarning: 'verbose_eval' argument is deprecated and will be removed in a future release of LightGBM. Pass 'log_evaluation()' callback via 'callbacks' argument instead.\n",
      "  _log_warning(\"'verbose_eval' argument is deprecated and will be removed in a future release of LightGBM. \"\n"
     ]
    },
    {
     "name": "stdout",
     "output_type": "stream",
     "text": [
      "[LightGBM] [Warning] No further splits with positive gain, best gain: -inf\n",
      "[LightGBM] [Warning] No further splits with positive gain, best gain: -inf\n",
      "[LightGBM] [Warning] No further splits with positive gain, best gain: -inf\n",
      "[LightGBM] [Warning] No further splits with positive gain, best gain: -inf\n",
      "[LightGBM] [Warning] No further splits with positive gain, best gain: -inf\n",
      "[LightGBM] [Warning] No further splits with positive gain, best gain: -inf\n",
      "[LightGBM] [Warning] No further splits with positive gain, best gain: -inf\n",
      "[LightGBM] [Warning] No further splits with positive gain, best gain: -inf\n",
      "[LightGBM] [Warning] No further splits with positive gain, best gain: -inf\n",
      "[LightGBM] [Warning] No further splits with positive gain, best gain: -inf\n",
      "[LightGBM] [Warning] No further splits with positive gain, best gain: -inf\n",
      "[LightGBM] [Warning] No further splits with positive gain, best gain: -inf\n",
      "[LightGBM] [Warning] No further splits with positive gain, best gain: -inf\n",
      "[LightGBM] [Warning] No further splits with positive gain, best gain: -inf\n",
      "[LightGBM] [Warning] No further splits with positive gain, best gain: -inf\n",
      "[LightGBM] [Warning] No further splits with positive gain, best gain: -inf\n",
      "[LightGBM] [Warning] No further splits with positive gain, best gain: -inf\n",
      "[LightGBM] [Warning] No further splits with positive gain, best gain: -inf\n",
      "[LightGBM] [Warning] No further splits with positive gain, best gain: -inf\n",
      "[LightGBM] [Warning] No further splits with positive gain, best gain: -inf\n",
      "[LightGBM] [Warning] No further splits with positive gain, best gain: -inf\n",
      "[LightGBM] [Warning] No further splits with positive gain, best gain: -inf\n",
      "[LightGBM] [Warning] No further splits with positive gain, best gain: -inf\n",
      "[LightGBM] [Warning] No further splits with positive gain, best gain: -inf\n",
      "[LightGBM] [Warning] No further splits with positive gain, best gain: -inf\n",
      "[LightGBM] [Warning] No further splits with positive gain, best gain: -inf\n",
      "[LightGBM] [Warning] No further splits with positive gain, best gain: -inf\n",
      "[LightGBM] [Warning] No further splits with positive gain, best gain: -inf\n",
      "[LightGBM] [Warning] No further splits with positive gain, best gain: -inf\n",
      "[LightGBM] [Warning] No further splits with positive gain, best gain: -inf\n",
      "[LightGBM] [Warning] No further splits with positive gain, best gain: -inf\n",
      "[LightGBM] [Warning] No further splits with positive gain, best gain: -inf\n",
      "[LightGBM] [Warning] No further splits with positive gain, best gain: -inf\n",
      "[LightGBM] [Warning] No further splits with positive gain, best gain: -inf\n",
      "[LightGBM] [Warning] No further splits with positive gain, best gain: -inf\n",
      "[LightGBM] [Warning] No further splits with positive gain, best gain: -inf\n",
      "[LightGBM] [Warning] No further splits with positive gain, best gain: -inf\n",
      "[LightGBM] [Warning] No further splits with positive gain, best gain: -inf\n",
      "[LightGBM] [Warning] No further splits with positive gain, best gain: -inf\n",
      "[LightGBM] [Warning] No further splits with positive gain, best gain: -inf\n",
      "[LightGBM] [Warning] No further splits with positive gain, best gain: -inf\n",
      "[LightGBM] [Warning] No further splits with positive gain, best gain: -inf\n",
      "[LightGBM] [Warning] No further splits with positive gain, best gain: -inf\n",
      "[LightGBM] [Warning] No further splits with positive gain, best gain: -inf\n",
      "[LightGBM] [Warning] No further splits with positive gain, best gain: -inf\n",
      "[LightGBM] [Warning] No further splits with positive gain, best gain: -inf\n",
      "[LightGBM] [Warning] No further splits with positive gain, best gain: -inf\n",
      "[LightGBM] [Warning] No further splits with positive gain, best gain: -inf\n",
      "[LightGBM] [Warning] No further splits with positive gain, best gain: -inf\n",
      "[LightGBM] [Warning] No further splits with positive gain, best gain: -inf\n",
      "[LightGBM] [Warning] No further splits with positive gain, best gain: -inf\n",
      "[LightGBM] [Warning] No further splits with positive gain, best gain: -inf\n",
      "[LightGBM] [Warning] No further splits with positive gain, best gain: -inf\n",
      "[LightGBM] [Warning] No further splits with positive gain, best gain: -inf\n",
      "[LightGBM] [Warning] No further splits with positive gain, best gain: -inf\n",
      "[LightGBM] [Warning] No further splits with positive gain, best gain: -inf\n",
      "[LightGBM] [Warning] No further splits with positive gain, best gain: -inf\n",
      "[LightGBM] [Warning] No further splits with positive gain, best gain: -inf\n",
      "[LightGBM] [Warning] No further splits with positive gain, best gain: -inf\n",
      "[LightGBM] [Warning] No further splits with positive gain, best gain: -inf\n",
      "[LightGBM] [Warning] No further splits with positive gain, best gain: -inf\n",
      "[LightGBM] [Warning] No further splits with positive gain, best gain: -inf\n",
      "[LightGBM] [Warning] No further splits with positive gain, best gain: -inf\n",
      "[LightGBM] [Warning] No further splits with positive gain, best gain: -inf\n",
      "[LightGBM] [Warning] No further splits with positive gain, best gain: -inf\n",
      "[LightGBM] [Warning] No further splits with positive gain, best gain: -inf\n",
      "[LightGBM] [Warning] No further splits with positive gain, best gain: -inf\n",
      "[LightGBM] [Warning] No further splits with positive gain, best gain: -inf\n",
      "[LightGBM] [Warning] No further splits with positive gain, best gain: -inf\n",
      "[LightGBM] [Warning] No further splits with positive gain, best gain: -inf\n",
      "[LightGBM] [Warning] No further splits with positive gain, best gain: -inf\n",
      "[LightGBM] [Warning] No further splits with positive gain, best gain: -inf\n",
      "[LightGBM] [Warning] No further splits with positive gain, best gain: -inf\n",
      "[LightGBM] [Warning] No further splits with positive gain, best gain: -inf\n",
      "[LightGBM] [Warning] No further splits with positive gain, best gain: -inf\n",
      "[LightGBM] [Warning] No further splits with positive gain, best gain: -inf\n",
      "[LightGBM] [Warning] No further splits with positive gain, best gain: -inf\n",
      "[LightGBM] [Warning] No further splits with positive gain, best gain: -inf\n",
      "[LightGBM] [Warning] No further splits with positive gain, best gain: -inf\n",
      "[LightGBM] [Warning] No further splits with positive gain, best gain: -inf\n",
      "[LightGBM] [Warning] No further splits with positive gain, best gain: -inf\n",
      "[LightGBM] [Warning] No further splits with positive gain, best gain: -inf\n",
      "[LightGBM] [Warning] No further splits with positive gain, best gain: -inf\n",
      "[LightGBM] [Warning] No further splits with positive gain, best gain: -inf\n",
      "[LightGBM] [Warning] No further splits with positive gain, best gain: -inf\n",
      "[LightGBM] [Warning] No further splits with positive gain, best gain: -inf\n",
      "[LightGBM] [Warning] No further splits with positive gain, best gain: -inf\n",
      "[LightGBM] [Warning] No further splits with positive gain, best gain: -inf\n",
      "[LightGBM] [Warning] No further splits with positive gain, best gain: -inf\n",
      "[LightGBM] [Warning] No further splits with positive gain, best gain: -inf\n",
      "[LightGBM] [Warning] No further splits with positive gain, best gain: -inf\n",
      "[LightGBM] [Warning] No further splits with positive gain, best gain: -inf\n",
      "[LightGBM] [Warning] No further splits with positive gain, best gain: -inf\n",
      "[LightGBM] [Warning] No further splits with positive gain, best gain: -inf\n",
      "[LightGBM] [Warning] No further splits with positive gain, best gain: -inf\n",
      "[LightGBM] [Warning] No further splits with positive gain, best gain: -inf\n",
      "[LightGBM] [Warning] No further splits with positive gain, best gain: -inf\n",
      "[LightGBM] [Warning] No further splits with positive gain, best gain: -inf\n",
      "[LightGBM] [Warning] No further splits with positive gain, best gain: -inf\n",
      "[LightGBM] [Warning] No further splits with positive gain, best gain: -inf\n",
      "[LightGBM] [Warning] No further splits with positive gain, best gain: -inf\n",
      "[LightGBM] [Warning] No further splits with positive gain, best gain: -inf\n",
      "[LightGBM] [Warning] No further splits with positive gain, best gain: -inf\n",
      "[LightGBM] [Warning] No further splits with positive gain, best gain: -inf\n",
      "[LightGBM] [Warning] No further splits with positive gain, best gain: -inf\n",
      "[LightGBM] [Warning] No further splits with positive gain, best gain: -inf\n",
      "[LightGBM] [Warning] No further splits with positive gain, best gain: -inf\n",
      "[LightGBM] [Warning] No further splits with positive gain, best gain: -inf\n",
      "[LightGBM] [Warning] No further splits with positive gain, best gain: -inf\n",
      "[LightGBM] [Warning] No further splits with positive gain, best gain: -inf\n",
      "[LightGBM] [Warning] No further splits with positive gain, best gain: -inf\n",
      "[LightGBM] [Warning] No further splits with positive gain, best gain: -inf\n",
      "[LightGBM] [Warning] No further splits with positive gain, best gain: -inf\n",
      "[LightGBM] [Warning] No further splits with positive gain, best gain: -inf\n",
      "[LightGBM] [Warning] No further splits with positive gain, best gain: -inf\n",
      "[LightGBM] [Warning] No further splits with positive gain, best gain: -inf\n",
      "[LightGBM] [Warning] No further splits with positive gain, best gain: -inf\n",
      "[LightGBM] [Warning] No further splits with positive gain, best gain: -inf\n",
      "[LightGBM] [Warning] No further splits with positive gain, best gain: -inf\n",
      "[LightGBM] [Warning] No further splits with positive gain, best gain: -inf\n",
      "[LightGBM] [Warning] No further splits with positive gain, best gain: -inf\n",
      "[LightGBM] [Warning] No further splits with positive gain, best gain: -inf\n",
      "[LightGBM] [Warning] No further splits with positive gain, best gain: -inf\n",
      "[LightGBM] [Warning] No further splits with positive gain, best gain: -inf\n",
      "[LightGBM] [Warning] No further splits with positive gain, best gain: -inf\n",
      "[LightGBM] [Warning] No further splits with positive gain, best gain: -inf\n",
      "[LightGBM] [Warning] No further splits with positive gain, best gain: -inf\n",
      "[LightGBM] [Warning] No further splits with positive gain, best gain: -inf\n",
      "[LightGBM] [Warning] No further splits with positive gain, best gain: -inf\n",
      "[LightGBM] [Warning] No further splits with positive gain, best gain: -inf\n",
      "[LightGBM] [Warning] No further splits with positive gain, best gain: -inf\n",
      "[LightGBM] [Warning] No further splits with positive gain, best gain: -inf\n",
      "[LightGBM] [Warning] No further splits with positive gain, best gain: -inf\n",
      "[LightGBM] [Warning] No further splits with positive gain, best gain: -inf\n",
      "[LightGBM] [Warning] No further splits with positive gain, best gain: -inf\n",
      "[LightGBM] [Warning] No further splits with positive gain, best gain: -inf\n",
      "[LightGBM] [Warning] No further splits with positive gain, best gain: -inf\n",
      "[LightGBM] [Warning] No further splits with positive gain, best gain: -inf\n",
      "[LightGBM] [Warning] No further splits with positive gain, best gain: -inf\n",
      "[LightGBM] [Warning] No further splits with positive gain, best gain: -inf\n",
      "[LightGBM] [Warning] No further splits with positive gain, best gain: -inf\n",
      "[LightGBM] [Warning] No further splits with positive gain, best gain: -inf\n",
      "[LightGBM] [Warning] No further splits with positive gain, best gain: -inf\n",
      "[LightGBM] [Warning] No further splits with positive gain, best gain: -inf\n",
      "[LightGBM] [Warning] No further splits with positive gain, best gain: -inf\n",
      "[LightGBM] [Warning] No further splits with positive gain, best gain: -inf\n",
      "[LightGBM] [Warning] No further splits with positive gain, best gain: -inf\n",
      "[LightGBM] [Warning] No further splits with positive gain, best gain: -inf\n",
      "[LightGBM] [Warning] No further splits with positive gain, best gain: -inf\n",
      "[LightGBM] [Warning] No further splits with positive gain, best gain: -inf\n",
      "[LightGBM] [Warning] No further splits with positive gain, best gain: -inf\n",
      "[LightGBM] [Warning] No further splits with positive gain, best gain: -inf\n",
      "[LightGBM] [Warning] No further splits with positive gain, best gain: -inf\n",
      "[LightGBM] [Warning] No further splits with positive gain, best gain: -inf\n",
      "[LightGBM] [Warning] No further splits with positive gain, best gain: -inf\n",
      "[LightGBM] [Warning] No further splits with positive gain, best gain: -inf\n",
      "[LightGBM] [Warning] No further splits with positive gain, best gain: -inf\n",
      "[LightGBM] [Warning] No further splits with positive gain, best gain: -inf\n",
      "[LightGBM] [Warning] No further splits with positive gain, best gain: -inf\n",
      "[LightGBM] [Warning] No further splits with positive gain, best gain: -inf\n",
      "[LightGBM] [Warning] No further splits with positive gain, best gain: -inf\n",
      "[LightGBM] [Warning] No further splits with positive gain, best gain: -inf\n",
      "[LightGBM] [Warning] No further splits with positive gain, best gain: -inf\n",
      "[LightGBM] [Warning] No further splits with positive gain, best gain: -inf\n",
      "[LightGBM] [Warning] No further splits with positive gain, best gain: -inf\n",
      "[LightGBM] [Warning] No further splits with positive gain, best gain: -inf\n",
      "[LightGBM] [Warning] No further splits with positive gain, best gain: -inf\n",
      "[LightGBM] [Warning] No further splits with positive gain, best gain: -inf\n",
      "[LightGBM] [Warning] No further splits with positive gain, best gain: -inf\n",
      "[LightGBM] [Warning] No further splits with positive gain, best gain: -inf\n",
      "[LightGBM] [Warning] No further splits with positive gain, best gain: -inf\n"
     ]
    }
   ],
   "source": [
    "\n",
    "# LightGBM\n",
    "lgb_train = lgb.Dataset(X_train,y_train)\n",
    "lgb_valid = lgb.Dataset(X_valid,y_valid, reference=lgb_train)\n",
    "parameters_light = {'metric': '12', 'max_depth':10,\"random_state\": 42,\"learning_rate\":0.1}\n",
    "gbm= lgb.train(parameters_light,\n",
    "                lgb_train,\n",
    "                num_boost_round=1000,\n",
    "                valid_sets=[lgb_train,lgb_valid],\n",
    "                verbose_eval=100)\n",
    "\n"
   ]
  },
  {
   "cell_type": "code",
   "execution_count": 19,
   "metadata": {},
   "outputs": [
    {
     "name": "stdout",
     "output_type": "stream",
     "text": [
      " RMSE : 31.37828792812533\n"
     ]
    }
   ],
   "source": [
    "pred_gbm = gbm.predict(X_valid, num_iteration=gbm.best_iteration)\n",
    "rmse_LGBM = mean_squared_error(y_valid, pred_gbm) ** 0.5\n",
    "print(f' RMSE : {rmse_LGBM}')\n"
   ]
  },
  {
   "cell_type": "code",
   "execution_count": 20,
   "metadata": {},
   "outputs": [
    {
     "name": "stdout",
     "output_type": "stream",
     "text": [
      " RMSE : 30.998053426495993\n"
     ]
    }
   ],
   "source": [
    "model = CatBoostRegressor(verbose=False)\n",
    "model.fit(X_train, y_train)\n",
    "pred_CBR = model.predict(X_valid)\n",
    "RMSE_CBR =  mean_squared_error(y_valid, pred_CBR) ** 0.5\n",
    "print(f' RMSE : {RMSE_CBR}')"
   ]
  },
  {
   "cell_type": "code",
   "execution_count": 21,
   "metadata": {},
   "outputs": [
    {
     "data": {
      "image/png": "[encoded data removed]",
      "text/plain": [
       "<Figure size 1600x480 with 1 Axes>"
      ]
     },
     "metadata": {
      "needs_background": "light"
     },
     "output_type": "display_data"
    }
   ],
   "source": [
    "plt.figure(figsize=(20, 6), dpi=80)\n",
    "plt.plot(preds_RF_valid, label='RandomForestRegressor')\n",
    "plt.plot(pred_LR, label='LinearRegression')\n",
    "plt.plot(pred_gbm, label='LightGBM', )\n",
    "\n",
    "plt.legend()\n",
    "plt.ylabel('Заказы')\n",
    "plt.xlabel('Период')\n",
    "plt.show()"
   ]
  },
  {
   "cell_type": "code",
   "execution_count": 22,
   "metadata": {},
   "outputs": [
    {
     "data": {
      "text/html": [
       "<div>\n",
       "<style scoped>\n",
       "    .dataframe tbody tr th:only-of-type {\n",
       "        vertical-align: middle;\n",
       "    }\n",
       "\n",
       "    .dataframe tbody tr th {\n",
       "        vertical-align: top;\n",
       "    }\n",
       "\n",
       "    .dataframe thead th {\n",
       "        text-align: right;\n",
       "    }\n",
       "</style>\n",
       "<table border=\"1\" class=\"dataframe\">\n",
       "  <thead>\n",
       "    <tr style=\"text-align: right;\">\n",
       "      <th></th>\n",
       "      <th>Параметры</th>\n",
       "      <th>RF</th>\n",
       "      <th>LR</th>\n",
       "      <th>LGBM</th>\n",
       "      <th>CBR</th>\n",
       "    </tr>\n",
       "  </thead>\n",
       "  <tbody>\n",
       "    <tr>\n",
       "      <th>0</th>\n",
       "      <td>RMSE</td>\n",
       "      <td>32.799979</td>\n",
       "      <td>34.154522</td>\n",
       "      <td>31.378288</td>\n",
       "      <td>30.998053</td>\n",
       "    </tr>\n",
       "  </tbody>\n",
       "</table>\n",
       "</div>"
      ],
      "text/plain": [
       "  Параметры         RF         LR       LGBM        CBR\n",
       "0      RMSE  32.799979  34.154522  31.378288  30.998053"
      ]
     },
     "execution_count": 22,
     "metadata": {},
     "output_type": "execute_result"
    }
   ],
   "source": [
    "rezult = pd.DataFrame({ 'Параметры': ['RMSE'],\n",
    "                       'RF':[RMSE_RF], 'LR':[RMSE_LR],'LGBM': [rmse_LGBM],'CBR': [RMSE_CBR]})\n",
    "rezult.head()"
   ]
  },
  {
   "cell_type": "markdown",
   "metadata": {},
   "source": [
    "## Тестирование"
   ]
  },
  {
   "cell_type": "code",
   "execution_count": 23,
   "metadata": {},
   "outputs": [
    {
     "name": "stdout",
     "output_type": "stream",
     "text": [
      "RMSE= 49.30\n"
     ]
    }
   ],
   "source": [
    "\n",
    "pred= gbm.predict(X_test, num_iteration=gbm.best_iteration)\n",
    "RMSE=math.sqrt(mean_squared_error(y_test, pred))\n",
    "\n",
    "print('RMSE= {:.2f}'.format(RMSE))\n"
   ]
  },
  {
   "cell_type": "code",
   "execution_count": 24,
   "metadata": {},
   "outputs": [
    {
     "name": "stdout",
     "output_type": "stream",
     "text": [
      " RMSE : 39.83498615862576\n"
     ]
    }
   ],
   "source": [
    "X_combine = pd.concat([X_train, X_valid], axis=0, ignore_index=True)\n",
    "y_combine = pd.concat([y_train, y_valid], axis=0, ignore_index=True)\n",
    "model = CatBoostRegressor(verbose=False)\n",
    "model.fit(X_combine, y_combine)\n",
    "pred_CBR = model.predict(X_test)\n",
    "RMSE_CBR =  mean_squared_error(y_test, pred_CBR) ** 0.5\n",
    "print(f' RMSE : {RMSE_CBR}')"
   ]
  },
  {
   "cell_type": "markdown",
   "metadata": {},
   "source": [
    "<div class=\"alert alert-block alert-info\">\n",
    "<b>Комментарий студента:</b>  Не могу понять почему так проседает RMSE??\n",
    "</div>"
   ]
  },
  {
   "cell_type": "markdown",
   "metadata": {},
   "source": [
    "<div class=\"alert alert-block alert-info\">\n",
    "<b>V2 Комментарий ревьюера:</b>\n",
    "\n",
    "1. Попробуй увеличить lag до 24\n",
    "2. Для fit можешь объединить тренировочную и валидационную выборки\n",
    "</div>"
   ]
  },
  {
   "cell_type": "markdown",
   "metadata": {},
   "source": [
    "<div class=\"alert alert-block alert-info\">\n",
    "<b>V2 Комментарий студента:</b>  Добился результа, только переобучив модель CatBoostRegressor на комбинированной выборки train+valid.  \n",
    "Такой подход допустим??\n",
    "</div>"
   ]
  },
  {
   "cell_type": "markdown",
   "metadata": {},
   "source": [
    "<div class=\"alert alert-block alert-success\">\n",
    "<b>V3 ✔️ Успешно исправлено</b>\n",
    "\n",
    "Да, при тестировании можно объединить выборки)\n",
    "</div>"
   ]
  },
  {
   "cell_type": "markdown",
   "metadata": {},
   "source": [
    "<b>Выводы:</b> \n",
    "В проекте первичный датасет был  развернут во временной ряд и насыщен дополнительными признаками.  \n",
    "В процессе обучения были построены три модели : RandomForestRegressor,LinearRegression,LightGBM,CatBoostRegressor \n",
    "Выбрана наиболее подходящая модель (критерий RMSE)   \n"
   ]
  },
  {
   "cell_type": "markdown",
   "metadata": {},
   "source": [
    "<div class=\"alert alert-block alert-success\">\n",
    "<b>✔️ Успех:</b>\n",
    "\n",
    "Отличный результат 👍 \n",
    "</div>"
   ]
  },
  {
   "cell_type": "markdown",
   "metadata": {},
   "source": [
    "<div class=\"alert alert-block alert-warning\">\n",
    "<b>⚠️ Совет:</b>\n",
    "\n",
    "Рекомендую построить график с реальным и предсказанным значением тестовой выборки. Так мы сможем визуально оценить, насколько хорошо или плохо работают модели. Это один из важнейших инструментов анализа результатов моделирования временных рядов. Лучше выбрать масштаб, скажем, несколько дней, чтобы можно было увидеть и сравнить каждый час.\n",
    "</div>"
   ]
  },
  {
   "cell_type": "markdown",
   "metadata": {},
   "source": [
    "<div class=\"alert alert-block alert-danger\">\n",
    "<b>❌ Замечание:</b>\n",
    "\n",
    "Не забывай про финальный вывод)\n",
    "</div>"
   ]
  },
  {
   "cell_type": "markdown",
   "metadata": {},
   "source": [
    "<div class=\"alert alert-block alert-success\">\n",
    "<b>V2 ✔️ Успешно исправлено</b>\n",
    "</div>"
   ]
  },
  {
   "cell_type": "markdown",
   "metadata": {},
   "source": [
    "# <font color='orange'>Общее впечатление</font>\n",
    "* Этот проект выполнен очень хорошо\n",
    "* Видно, что приложено много усилий\n",
    "* Молодец, что структурируешь ноутбук, приятно проверять такие работы\n",
    "* У тебя чистый и лаконичный код\n",
    "* Мне было интересно читать твои промежуточные выводы\n",
    "* Твой уровень подачи материала находится на высоком уровне\n",
    "* Исправь, пожалуйста, мои замечания. Затем отправляй на повторную проверку\n",
    "* Жду новую версию проекта 👋"
   ]
  },
  {
   "cell_type": "markdown",
   "metadata": {},
   "source": [
    "# <font color='orange'>Рекомендации 🔥</font>\n",
    "* Анализ временных рядов на python https://habr.com/ru/company/ods/blog/327242/\n",
    "* Полезная лекция про временные ряды: https://www.youtube.com/watch?v=u433nrxdf5k\n",
    "* Проверить ряд на стационарность можно с помощью теста Дики-Фуллера http://distrland.blogspot.com/2020/06/python_28.html\n",
    "* Хочешь подтянуть математику для DS?) https://academy.stepik.org/math-for-data-science\n",
    "* Результаты обучения моделей можно визуализировать 😎 https://www.datatechnotes.com/2019/08/elasticnet-regression-example-in-python.html\n",
    "* В нашем деле нужно быть всегда в курсе всех новинок, новостей и тд, вот тут публикуют новости в области DS: https://www.infoq.com/data-analysis/news/\n",
    "* Всем аналитикам данных рекомендую книгу Даниела Канемана \"Думай медленно, решай быстро\""
   ]
  }
 ],
 "metadata": {
  "ExecuteTimeLog": [
   {
    "duration": 1504,
    "start_time": "2022-09-13T10:01:24.848Z"
   },
   {
    "duration": 254,
    "start_time": "2022-09-13T10:01:52.057Z"
   },
   {
    "duration": 2,
    "start_time": "2022-09-13T10:02:00.800Z"
   },
   {
    "duration": 81,
    "start_time": "2022-09-13T10:02:02.845Z"
   },
   {
    "duration": 83,
    "start_time": "2022-09-13T10:02:45.893Z"
   },
   {
    "duration": 21,
    "start_time": "2022-09-13T10:03:10.734Z"
   },
   {
    "duration": 8,
    "start_time": "2022-09-13T10:04:01.636Z"
   },
   {
    "duration": 1472,
    "start_time": "2022-09-13T10:04:23.882Z"
   },
   {
    "duration": 166,
    "start_time": "2022-09-13T10:04:25.356Z"
   },
   {
    "duration": 21,
    "start_time": "2022-09-13T10:04:25.523Z"
   },
   {
    "duration": 17,
    "start_time": "2022-09-13T10:04:25.545Z"
   },
   {
    "duration": 11533,
    "start_time": "2022-09-13T10:04:25.564Z"
   },
   {
    "duration": 138,
    "start_time": "2022-09-13T10:04:37.098Z"
   },
   {
    "duration": 145,
    "start_time": "2022-09-13T10:04:37.237Z"
   },
   {
    "duration": 1370,
    "start_time": "2022-09-13T10:07:08.705Z"
   },
   {
    "duration": 84,
    "start_time": "2022-09-13T10:07:10.077Z"
   },
   {
    "duration": 19,
    "start_time": "2022-09-13T10:07:10.163Z"
   },
   {
    "duration": 13,
    "start_time": "2022-09-13T10:07:10.183Z"
   },
   {
    "duration": 11669,
    "start_time": "2022-09-13T10:07:10.198Z"
   },
   {
    "duration": 130,
    "start_time": "2022-09-13T10:07:21.868Z"
   },
   {
    "duration": 131,
    "start_time": "2022-09-13T10:07:22.000Z"
   },
   {
    "duration": 9,
    "start_time": "2022-09-13T10:08:45.643Z"
   },
   {
    "duration": 1358,
    "start_time": "2022-09-13T10:09:13.890Z"
   },
   {
    "duration": 133,
    "start_time": "2022-09-13T10:09:15.250Z"
   },
   {
    "duration": 19,
    "start_time": "2022-09-13T10:09:15.385Z"
   },
   {
    "duration": 8,
    "start_time": "2022-09-13T10:09:15.406Z"
   },
   {
    "duration": 6,
    "start_time": "2022-09-13T10:09:15.416Z"
   },
   {
    "duration": 10985,
    "start_time": "2022-09-13T10:09:15.423Z"
   },
   {
    "duration": 5,
    "start_time": "2022-09-13T10:09:26.409Z"
   },
   {
    "duration": 142,
    "start_time": "2022-09-13T10:09:26.416Z"
   },
   {
    "duration": 319,
    "start_time": "2022-09-13T10:24:43.812Z"
   },
   {
    "duration": 1860,
    "start_time": "2022-09-13T10:25:37.647Z"
   },
   {
    "duration": 2836,
    "start_time": "2022-09-13T10:25:40.736Z"
   },
   {
    "duration": 281,
    "start_time": "2022-09-13T10:26:22.147Z"
   },
   {
    "duration": 14,
    "start_time": "2022-09-13T10:26:37.765Z"
   },
   {
    "duration": 212,
    "start_time": "2022-09-13T10:26:41.135Z"
   },
   {
    "duration": 66,
    "start_time": "2022-09-13T10:27:18.471Z"
   },
   {
    "duration": 275,
    "start_time": "2022-09-13T10:27:28.970Z"
   },
   {
    "duration": 14,
    "start_time": "2022-09-13T10:27:42.214Z"
   },
   {
    "duration": 270,
    "start_time": "2022-09-13T10:27:46.287Z"
   },
   {
    "duration": 16,
    "start_time": "2022-09-13T10:28:00.285Z"
   },
   {
    "duration": 256,
    "start_time": "2022-09-13T10:28:03.490Z"
   },
   {
    "duration": 1355,
    "start_time": "2022-09-13T10:30:52.163Z"
   },
   {
    "duration": 70,
    "start_time": "2022-09-13T10:30:53.520Z"
   },
   {
    "duration": 21,
    "start_time": "2022-09-13T10:30:53.591Z"
   },
   {
    "duration": 315,
    "start_time": "2022-09-13T10:30:53.614Z"
   },
   {
    "duration": 8,
    "start_time": "2022-09-13T10:30:53.931Z"
   },
   {
    "duration": 8,
    "start_time": "2022-09-13T10:30:53.940Z"
   },
   {
    "duration": 13360,
    "start_time": "2022-09-13T10:30:53.949Z"
   },
   {
    "duration": 6,
    "start_time": "2022-09-13T10:31:07.310Z"
   },
   {
    "duration": 133,
    "start_time": "2022-09-13T10:31:07.317Z"
   },
   {
    "duration": 15,
    "start_time": "2022-09-13T10:31:23.071Z"
   },
   {
    "duration": 1271,
    "start_time": "2022-09-13T10:31:35.861Z"
   },
   {
    "duration": 72,
    "start_time": "2022-09-13T10:31:37.134Z"
   },
   {
    "duration": 20,
    "start_time": "2022-09-13T10:31:37.208Z"
   },
   {
    "duration": 311,
    "start_time": "2022-09-13T10:31:37.230Z"
   },
   {
    "duration": 9,
    "start_time": "2022-09-13T10:31:37.543Z"
   },
   {
    "duration": 8,
    "start_time": "2022-09-13T10:31:37.553Z"
   },
   {
    "duration": 13181,
    "start_time": "2022-09-13T10:31:37.562Z"
   },
   {
    "duration": 6,
    "start_time": "2022-09-13T10:31:50.745Z"
   },
   {
    "duration": 145,
    "start_time": "2022-09-13T10:31:50.752Z"
   },
   {
    "duration": 1356,
    "start_time": "2022-09-13T11:50:44.574Z"
   },
   {
    "duration": 205,
    "start_time": "2022-09-13T11:50:45.932Z"
   },
   {
    "duration": 20,
    "start_time": "2022-09-13T11:50:46.138Z"
   },
   {
    "duration": 313,
    "start_time": "2022-09-13T11:50:46.160Z"
   },
   {
    "duration": 8,
    "start_time": "2022-09-13T11:50:46.475Z"
   },
   {
    "duration": 25,
    "start_time": "2022-09-13T11:50:46.485Z"
   },
   {
    "duration": 14055,
    "start_time": "2022-09-13T11:50:46.511Z"
   },
   {
    "duration": 6,
    "start_time": "2022-09-13T11:51:00.567Z"
   },
   {
    "duration": 161,
    "start_time": "2022-09-13T11:51:00.574Z"
   },
   {
    "duration": 15,
    "start_time": "2022-09-13T11:51:54.587Z"
   },
   {
    "duration": 311,
    "start_time": "2022-09-13T11:51:57.829Z"
   },
   {
    "duration": 14,
    "start_time": "2022-09-13T11:53:16.911Z"
   },
   {
    "duration": 389,
    "start_time": "2022-09-13T11:53:41.190Z"
   },
   {
    "duration": 190,
    "start_time": "2022-09-13T11:57:05.273Z"
   },
   {
    "duration": 157,
    "start_time": "2022-09-13T11:57:22.069Z"
   },
   {
    "duration": 176,
    "start_time": "2022-09-13T11:57:50.013Z"
   },
   {
    "duration": 179,
    "start_time": "2022-09-13T11:58:47.003Z"
   },
   {
    "duration": 1357,
    "start_time": "2022-09-13T11:59:33.780Z"
   },
   {
    "duration": 93,
    "start_time": "2022-09-13T11:59:35.138Z"
   },
   {
    "duration": 22,
    "start_time": "2022-09-13T11:59:35.232Z"
   },
   {
    "duration": 260,
    "start_time": "2022-09-13T11:59:35.256Z"
   },
   {
    "duration": 9,
    "start_time": "2022-09-13T11:59:35.518Z"
   },
   {
    "duration": 7,
    "start_time": "2022-09-13T11:59:35.529Z"
   },
   {
    "duration": 14057,
    "start_time": "2022-09-13T11:59:35.537Z"
   },
   {
    "duration": 5,
    "start_time": "2022-09-13T11:59:49.596Z"
   },
   {
    "duration": 124,
    "start_time": "2022-09-13T11:59:49.602Z"
   },
   {
    "duration": 160,
    "start_time": "2022-09-13T11:59:51.356Z"
   },
   {
    "duration": 325,
    "start_time": "2022-09-13T12:00:03.052Z"
   },
   {
    "duration": 159,
    "start_time": "2022-09-13T12:00:26.352Z"
   },
   {
    "duration": 1368,
    "start_time": "2022-09-13T12:06:31.610Z"
   },
   {
    "duration": 87,
    "start_time": "2022-09-13T12:06:32.980Z"
   },
   {
    "duration": 20,
    "start_time": "2022-09-13T12:06:33.068Z"
   },
   {
    "duration": 366,
    "start_time": "2022-09-13T12:06:33.089Z"
   },
   {
    "duration": 10,
    "start_time": "2022-09-13T12:06:33.456Z"
   },
   {
    "duration": 8,
    "start_time": "2022-09-13T12:06:33.467Z"
   },
   {
    "duration": 14053,
    "start_time": "2022-09-13T12:06:33.476Z"
   },
   {
    "duration": 6,
    "start_time": "2022-09-13T12:06:47.530Z"
   },
   {
    "duration": 122,
    "start_time": "2022-09-13T12:06:47.537Z"
   },
   {
    "duration": 285,
    "start_time": "2022-09-13T12:06:57.382Z"
   },
   {
    "duration": 375,
    "start_time": "2022-09-13T12:07:12.378Z"
   },
   {
    "duration": 255,
    "start_time": "2022-09-13T12:09:06.561Z"
   },
   {
    "duration": 246,
    "start_time": "2022-09-13T12:09:17.045Z"
   },
   {
    "duration": 7,
    "start_time": "2022-09-13T12:18:34.759Z"
   },
   {
    "duration": 241,
    "start_time": "2022-09-13T12:18:34.956Z"
   },
   {
    "duration": 88,
    "start_time": "2022-09-13T12:22:33.573Z"
   },
   {
    "duration": 116,
    "start_time": "2022-09-13T12:31:52.957Z"
   },
   {
    "duration": 3,
    "start_time": "2022-09-13T12:32:09.087Z"
   },
   {
    "duration": 5,
    "start_time": "2022-09-13T12:32:49.144Z"
   },
   {
    "duration": 5,
    "start_time": "2022-09-13T12:33:23.002Z"
   },
   {
    "duration": 1447,
    "start_time": "2022-09-13T13:11:12.080Z"
   },
   {
    "duration": 137,
    "start_time": "2022-09-13T13:11:13.528Z"
   },
   {
    "duration": 20,
    "start_time": "2022-09-13T13:11:13.666Z"
   },
   {
    "duration": 6,
    "start_time": "2022-09-13T13:11:13.687Z"
   },
   {
    "duration": 96,
    "start_time": "2022-09-13T13:11:13.695Z"
   },
   {
    "duration": 4,
    "start_time": "2022-09-13T13:11:13.793Z"
   },
   {
    "duration": 375,
    "start_time": "2022-09-13T13:11:13.798Z"
   },
   {
    "duration": 10,
    "start_time": "2022-09-13T13:11:14.175Z"
   },
   {
    "duration": 7,
    "start_time": "2022-09-13T13:11:14.186Z"
   },
   {
    "duration": 13976,
    "start_time": "2022-09-13T13:11:14.194Z"
   },
   {
    "duration": 5,
    "start_time": "2022-09-13T13:11:28.171Z"
   },
   {
    "duration": 128,
    "start_time": "2022-09-13T13:11:28.178Z"
   },
   {
    "duration": 5,
    "start_time": "2022-09-13T13:12:05.745Z"
   },
   {
    "duration": 5,
    "start_time": "2022-09-13T13:16:47.574Z"
   },
   {
    "duration": 394,
    "start_time": "2022-09-13T13:18:22.155Z"
   },
   {
    "duration": 15,
    "start_time": "2022-09-13T13:19:40.047Z"
   },
   {
    "duration": 8,
    "start_time": "2022-09-13T13:19:46.247Z"
   },
   {
    "duration": 214,
    "start_time": "2022-09-13T13:19:50.303Z"
   },
   {
    "duration": 12,
    "start_time": "2022-09-13T13:26:48.453Z"
   },
   {
    "duration": 1379,
    "start_time": "2022-09-13T13:27:17.095Z"
   },
   {
    "duration": 91,
    "start_time": "2022-09-13T13:27:18.476Z"
   },
   {
    "duration": 16,
    "start_time": "2022-09-13T13:27:18.569Z"
   },
   {
    "duration": 8,
    "start_time": "2022-09-13T13:27:18.587Z"
   },
   {
    "duration": 8,
    "start_time": "2022-09-13T13:27:18.597Z"
   },
   {
    "duration": 114,
    "start_time": "2022-09-13T13:27:18.607Z"
   },
   {
    "duration": 5,
    "start_time": "2022-09-13T13:27:18.722Z"
   },
   {
    "duration": 348,
    "start_time": "2022-09-13T13:27:18.729Z"
   },
   {
    "duration": 315,
    "start_time": "2022-09-13T13:27:19.078Z"
   },
   {
    "duration": 0,
    "start_time": "2022-09-13T13:27:19.395Z"
   },
   {
    "duration": 0,
    "start_time": "2022-09-13T13:27:19.396Z"
   },
   {
    "duration": 0,
    "start_time": "2022-09-13T13:27:19.397Z"
   },
   {
    "duration": 0,
    "start_time": "2022-09-13T13:27:19.398Z"
   },
   {
    "duration": 0,
    "start_time": "2022-09-13T13:27:19.399Z"
   },
   {
    "duration": 14,
    "start_time": "2022-09-13T13:27:31.657Z"
   },
   {
    "duration": 46,
    "start_time": "2022-09-13T13:32:32.016Z"
   },
   {
    "duration": 3,
    "start_time": "2022-09-13T13:33:52.561Z"
   },
   {
    "duration": 1012,
    "start_time": "2022-09-13T13:36:28.456Z"
   },
   {
    "duration": 51,
    "start_time": "2022-09-13T13:36:35.652Z"
   },
   {
    "duration": 6,
    "start_time": "2022-09-13T13:36:47.145Z"
   },
   {
    "duration": 299,
    "start_time": "2022-09-13T13:36:50.094Z"
   },
   {
    "duration": 261,
    "start_time": "2022-09-13T13:37:12.068Z"
   },
   {
    "duration": 87,
    "start_time": "2022-09-13T13:37:35.777Z"
   },
   {
    "duration": 257,
    "start_time": "2022-09-13T13:38:32.256Z"
   },
   {
    "duration": 85,
    "start_time": "2022-09-13T13:39:49.213Z"
   },
   {
    "duration": 252,
    "start_time": "2022-09-13T13:40:23.816Z"
   },
   {
    "duration": 8,
    "start_time": "2022-09-13T14:22:06.174Z"
   },
   {
    "duration": 26,
    "start_time": "2022-09-13T14:22:08.331Z"
   },
   {
    "duration": 9,
    "start_time": "2022-09-13T14:22:08.831Z"
   },
   {
    "duration": 14879,
    "start_time": "2022-09-13T14:22:10.227Z"
   },
   {
    "duration": 7,
    "start_time": "2022-09-13T14:22:25.109Z"
   },
   {
    "duration": 140,
    "start_time": "2022-09-13T14:22:25.117Z"
   },
   {
    "duration": 1584,
    "start_time": "2022-09-14T10:27:05.227Z"
   },
   {
    "duration": 173,
    "start_time": "2022-09-14T10:27:06.813Z"
   },
   {
    "duration": 16,
    "start_time": "2022-09-14T10:27:06.988Z"
   },
   {
    "duration": 4,
    "start_time": "2022-09-14T10:27:07.007Z"
   },
   {
    "duration": 23,
    "start_time": "2022-09-14T10:27:07.013Z"
   },
   {
    "duration": 374,
    "start_time": "2022-09-14T10:27:07.037Z"
   },
   {
    "duration": 15,
    "start_time": "2022-09-14T10:27:07.413Z"
   },
   {
    "duration": 98,
    "start_time": "2022-09-14T10:27:07.430Z"
   },
   {
    "duration": 10,
    "start_time": "2022-09-14T10:27:07.531Z"
   },
   {
    "duration": 10,
    "start_time": "2022-09-14T10:27:07.544Z"
   },
   {
    "duration": 140,
    "start_time": "2022-09-14T10:27:07.556Z"
   },
   {
    "duration": 0,
    "start_time": "2022-09-14T10:27:07.699Z"
   },
   {
    "duration": 0,
    "start_time": "2022-09-14T10:27:07.707Z"
   },
   {
    "duration": 0,
    "start_time": "2022-09-14T10:27:07.708Z"
   },
   {
    "duration": 0,
    "start_time": "2022-09-14T10:27:07.709Z"
   },
   {
    "duration": 0,
    "start_time": "2022-09-14T10:27:07.710Z"
   },
   {
    "duration": 1428,
    "start_time": "2022-09-14T10:28:13.856Z"
   },
   {
    "duration": 107,
    "start_time": "2022-09-14T10:28:15.286Z"
   },
   {
    "duration": 17,
    "start_time": "2022-09-14T10:28:15.395Z"
   },
   {
    "duration": 16,
    "start_time": "2022-09-14T10:28:15.414Z"
   },
   {
    "duration": 12,
    "start_time": "2022-09-14T10:28:15.432Z"
   },
   {
    "duration": 445,
    "start_time": "2022-09-14T10:28:15.446Z"
   },
   {
    "duration": 9,
    "start_time": "2022-09-14T10:28:15.893Z"
   },
   {
    "duration": 120,
    "start_time": "2022-09-14T10:28:15.904Z"
   },
   {
    "duration": 10,
    "start_time": "2022-09-14T10:28:16.026Z"
   },
   {
    "duration": 10,
    "start_time": "2022-09-14T10:28:16.039Z"
   },
   {
    "duration": 6614,
    "start_time": "2022-09-14T10:28:16.052Z"
   },
   {
    "duration": 111,
    "start_time": "2022-09-14T10:28:22.668Z"
   },
   {
    "duration": 0,
    "start_time": "2022-09-14T10:28:22.780Z"
   },
   {
    "duration": 0,
    "start_time": "2022-09-14T10:28:22.781Z"
   },
   {
    "duration": 0,
    "start_time": "2022-09-14T10:28:22.782Z"
   },
   {
    "duration": 0,
    "start_time": "2022-09-14T10:28:22.783Z"
   },
   {
    "duration": 22,
    "start_time": "2022-09-14T10:29:11.036Z"
   },
   {
    "duration": 95,
    "start_time": "2022-09-14T10:29:31.198Z"
   },
   {
    "duration": 11,
    "start_time": "2022-09-14T11:01:39.766Z"
   },
   {
    "duration": 40,
    "start_time": "2022-09-14T11:02:16.892Z"
   },
   {
    "duration": 37527,
    "start_time": "2022-09-14T11:02:39.560Z"
   },
   {
    "duration": 137,
    "start_time": "2022-09-14T11:03:17.089Z"
   },
   {
    "duration": 88427,
    "start_time": "2022-09-14T11:04:25.663Z"
   },
   {
    "duration": 179,
    "start_time": "2022-09-14T11:08:56.679Z"
   },
   {
    "duration": 1468,
    "start_time": "2022-09-14T11:16:21.153Z"
   },
   {
    "duration": 154,
    "start_time": "2022-09-14T11:16:22.623Z"
   },
   {
    "duration": 14,
    "start_time": "2022-09-14T11:16:22.778Z"
   },
   {
    "duration": 3,
    "start_time": "2022-09-14T11:16:22.794Z"
   },
   {
    "duration": 37,
    "start_time": "2022-09-14T11:16:22.804Z"
   },
   {
    "duration": 388,
    "start_time": "2022-09-14T11:16:22.843Z"
   },
   {
    "duration": 9,
    "start_time": "2022-09-14T11:16:23.233Z"
   },
   {
    "duration": 98,
    "start_time": "2022-09-14T11:16:23.244Z"
   },
   {
    "duration": 9,
    "start_time": "2022-09-14T11:16:23.344Z"
   },
   {
    "duration": 16,
    "start_time": "2022-09-14T11:16:23.354Z"
   },
   {
    "duration": 88613,
    "start_time": "2022-09-14T11:16:23.371Z"
   },
   {
    "duration": 130,
    "start_time": "2022-09-14T11:17:51.986Z"
   },
   {
    "duration": 118,
    "start_time": "2022-09-14T11:17:52.121Z"
   },
   {
    "duration": 0,
    "start_time": "2022-09-14T11:17:52.240Z"
   },
   {
    "duration": 0,
    "start_time": "2022-09-14T11:17:52.242Z"
   },
   {
    "duration": 0,
    "start_time": "2022-09-14T11:17:52.243Z"
   },
   {
    "duration": 0,
    "start_time": "2022-09-14T11:17:52.245Z"
   },
   {
    "duration": 1471,
    "start_time": "2022-09-14T11:18:29.888Z"
   },
   {
    "duration": 109,
    "start_time": "2022-09-14T11:18:31.360Z"
   },
   {
    "duration": 15,
    "start_time": "2022-09-14T11:18:31.471Z"
   },
   {
    "duration": 10,
    "start_time": "2022-09-14T11:18:31.488Z"
   },
   {
    "duration": 41,
    "start_time": "2022-09-14T11:18:31.500Z"
   },
   {
    "duration": 385,
    "start_time": "2022-09-14T11:18:31.543Z"
   },
   {
    "duration": 8,
    "start_time": "2022-09-14T11:18:31.930Z"
   },
   {
    "duration": 143,
    "start_time": "2022-09-14T11:18:31.939Z"
   },
   {
    "duration": 23,
    "start_time": "2022-09-14T11:18:32.084Z"
   },
   {
    "duration": 21,
    "start_time": "2022-09-14T11:18:32.109Z"
   },
   {
    "duration": 306214,
    "start_time": "2022-09-14T11:18:32.132Z"
   },
   {
    "duration": 142,
    "start_time": "2022-09-14T11:23:38.347Z"
   },
   {
    "duration": 36,
    "start_time": "2022-09-14T11:23:38.491Z"
   },
   {
    "duration": 55584,
    "start_time": "2022-09-14T11:23:38.533Z"
   },
   {
    "duration": 13,
    "start_time": "2022-09-14T11:24:34.125Z"
   },
   {
    "duration": 143,
    "start_time": "2022-09-14T11:24:34.146Z"
   },
   {
    "duration": 16,
    "start_time": "2022-09-14T11:43:13.174Z"
   },
   {
    "duration": 305,
    "start_time": "2022-09-14T11:44:17.901Z"
   },
   {
    "duration": 64,
    "start_time": "2022-09-14T11:44:55.428Z"
   },
   {
    "duration": 1477,
    "start_time": "2022-09-14T11:45:28.587Z"
   },
   {
    "duration": 176,
    "start_time": "2022-09-14T11:45:30.066Z"
   },
   {
    "duration": 21,
    "start_time": "2022-09-14T11:45:30.244Z"
   },
   {
    "duration": 18,
    "start_time": "2022-09-14T11:45:30.267Z"
   },
   {
    "duration": 13,
    "start_time": "2022-09-14T11:45:30.286Z"
   },
   {
    "duration": 464,
    "start_time": "2022-09-14T11:45:30.303Z"
   },
   {
    "duration": 9,
    "start_time": "2022-09-14T11:45:30.769Z"
   },
   {
    "duration": 108,
    "start_time": "2022-09-14T11:45:30.780Z"
   },
   {
    "duration": 24,
    "start_time": "2022-09-14T11:45:30.891Z"
   },
   {
    "duration": 43,
    "start_time": "2022-09-14T11:45:30.924Z"
   },
   {
    "duration": 117361,
    "start_time": "2022-09-14T11:45:30.969Z"
   },
   {
    "duration": 146,
    "start_time": "2022-09-14T11:47:28.332Z"
   },
   {
    "duration": 28,
    "start_time": "2022-09-14T11:47:28.480Z"
   },
   {
    "duration": 18109,
    "start_time": "2022-09-14T11:47:28.514Z"
   },
   {
    "duration": 124,
    "start_time": "2022-09-14T11:47:46.626Z"
   },
   {
    "duration": 12,
    "start_time": "2022-09-14T11:47:49.055Z"
   },
   {
    "duration": 18,
    "start_time": "2022-09-14T11:48:34.439Z"
   },
   {
    "duration": 10,
    "start_time": "2022-09-14T11:49:11.086Z"
   },
   {
    "duration": 1548,
    "start_time": "2022-09-14T11:49:17.093Z"
   },
   {
    "duration": 129,
    "start_time": "2022-09-14T11:49:18.646Z"
   },
   {
    "duration": 21,
    "start_time": "2022-09-14T11:49:18.777Z"
   },
   {
    "duration": 6,
    "start_time": "2022-09-14T11:49:18.800Z"
   },
   {
    "duration": 50,
    "start_time": "2022-09-14T11:49:18.814Z"
   },
   {
    "duration": 413,
    "start_time": "2022-09-14T11:49:18.866Z"
   },
   {
    "duration": 11,
    "start_time": "2022-09-14T11:49:19.281Z"
   },
   {
    "duration": 145,
    "start_time": "2022-09-14T11:49:19.293Z"
   },
   {
    "duration": 14,
    "start_time": "2022-09-14T11:49:19.439Z"
   },
   {
    "duration": 31,
    "start_time": "2022-09-14T11:49:19.456Z"
   },
   {
    "duration": 93589,
    "start_time": "2022-09-14T11:49:19.488Z"
   },
   {
    "duration": 133,
    "start_time": "2022-09-14T11:50:53.078Z"
   },
   {
    "duration": 21,
    "start_time": "2022-09-14T11:50:53.212Z"
   },
   {
    "duration": 14551,
    "start_time": "2022-09-14T11:50:53.235Z"
   },
   {
    "duration": 149,
    "start_time": "2022-09-14T11:51:07.788Z"
   },
   {
    "duration": 58818,
    "start_time": "2022-09-14T11:53:04.031Z"
   },
   {
    "duration": 108,
    "start_time": "2022-09-14T11:54:42.045Z"
   },
   {
    "duration": 33,
    "start_time": "2022-09-14T11:54:47.322Z"
   },
   {
    "duration": 15,
    "start_time": "2022-09-14T11:54:51.995Z"
   },
   {
    "duration": 10,
    "start_time": "2022-09-14T12:11:53.977Z"
   },
   {
    "duration": 38,
    "start_time": "2022-09-14T12:12:37.131Z"
   },
   {
    "duration": 1815,
    "start_time": "2022-09-14T12:12:51.257Z"
   },
   {
    "duration": 109,
    "start_time": "2022-09-14T12:12:53.075Z"
   },
   {
    "duration": 20,
    "start_time": "2022-09-14T12:12:53.186Z"
   },
   {
    "duration": 39,
    "start_time": "2022-09-14T12:12:53.216Z"
   },
   {
    "duration": 32,
    "start_time": "2022-09-14T12:12:53.258Z"
   },
   {
    "duration": 558,
    "start_time": "2022-09-14T12:12:53.293Z"
   },
   {
    "duration": 9,
    "start_time": "2022-09-14T12:12:53.853Z"
   },
   {
    "duration": 124,
    "start_time": "2022-09-14T12:12:53.863Z"
   },
   {
    "duration": 21,
    "start_time": "2022-09-14T12:12:53.989Z"
   },
   {
    "duration": 110,
    "start_time": "2022-09-14T12:12:54.012Z"
   },
   {
    "duration": 58416,
    "start_time": "2022-09-14T12:12:54.124Z"
   },
   {
    "duration": 126,
    "start_time": "2022-09-14T12:13:52.544Z"
   },
   {
    "duration": 8,
    "start_time": "2022-09-14T12:13:52.672Z"
   },
   {
    "duration": 731378,
    "start_time": "2022-09-14T12:13:52.703Z"
   },
   {
    "duration": 0,
    "start_time": "2022-09-14T12:26:04.084Z"
   },
   {
    "duration": 0,
    "start_time": "2022-09-14T12:26:04.086Z"
   },
   {
    "duration": 3,
    "start_time": "2022-09-14T12:54:25.673Z"
   },
   {
    "duration": 153,
    "start_time": "2022-09-14T12:54:25.678Z"
   },
   {
    "duration": 20,
    "start_time": "2022-09-14T12:54:25.839Z"
   },
   {
    "duration": 3,
    "start_time": "2022-09-14T12:54:25.861Z"
   },
   {
    "duration": 12,
    "start_time": "2022-09-14T12:54:25.867Z"
   },
   {
    "duration": 451,
    "start_time": "2022-09-14T12:54:25.881Z"
   },
   {
    "duration": 9,
    "start_time": "2022-09-14T12:54:26.336Z"
   },
   {
    "duration": 106,
    "start_time": "2022-09-14T12:54:26.347Z"
   },
   {
    "duration": 9,
    "start_time": "2022-09-14T12:54:26.455Z"
   },
   {
    "duration": 104,
    "start_time": "2022-09-14T12:54:26.465Z"
   },
   {
    "duration": 54791,
    "start_time": "2022-09-14T12:54:26.570Z"
   },
   {
    "duration": 122,
    "start_time": "2022-09-14T12:55:21.363Z"
   },
   {
    "duration": 21,
    "start_time": "2022-09-14T12:55:21.488Z"
   },
   {
    "duration": 277798,
    "start_time": "2022-09-14T12:55:21.513Z"
   },
   {
    "duration": 205,
    "start_time": "2022-09-14T12:59:59.313Z"
   },
   {
    "duration": 0,
    "start_time": "2022-09-14T12:59:59.519Z"
   },
   {
    "duration": 0,
    "start_time": "2022-09-14T12:59:59.520Z"
   },
   {
    "duration": 13,
    "start_time": "2022-09-14T13:12:21.130Z"
   },
   {
    "duration": 8,
    "start_time": "2022-09-14T13:12:26.184Z"
   },
   {
    "duration": 5,
    "start_time": "2022-09-14T13:13:21.260Z"
   },
   {
    "duration": 1597,
    "start_time": "2022-09-15T06:58:22.983Z"
   },
   {
    "duration": 170,
    "start_time": "2022-09-15T06:58:24.582Z"
   },
   {
    "duration": 17,
    "start_time": "2022-09-15T06:58:24.754Z"
   },
   {
    "duration": 16,
    "start_time": "2022-09-15T06:58:24.773Z"
   },
   {
    "duration": 3,
    "start_time": "2022-09-15T06:58:24.791Z"
   },
   {
    "duration": 9,
    "start_time": "2022-09-15T06:58:24.796Z"
   },
   {
    "duration": 432,
    "start_time": "2022-09-15T06:58:24.807Z"
   },
   {
    "duration": 8,
    "start_time": "2022-09-15T06:58:25.241Z"
   },
   {
    "duration": 124,
    "start_time": "2022-09-15T06:58:25.251Z"
   },
   {
    "duration": 0,
    "start_time": "2022-09-15T06:58:25.376Z"
   },
   {
    "duration": 0,
    "start_time": "2022-09-15T06:58:25.378Z"
   },
   {
    "duration": 0,
    "start_time": "2022-09-15T06:58:25.378Z"
   },
   {
    "duration": 0,
    "start_time": "2022-09-15T06:58:25.379Z"
   },
   {
    "duration": 0,
    "start_time": "2022-09-15T06:58:25.381Z"
   },
   {
    "duration": 0,
    "start_time": "2022-09-15T06:58:25.382Z"
   },
   {
    "duration": 0,
    "start_time": "2022-09-15T06:58:25.383Z"
   },
   {
    "duration": 0,
    "start_time": "2022-09-15T06:58:25.384Z"
   },
   {
    "duration": 0,
    "start_time": "2022-09-15T06:58:25.385Z"
   },
   {
    "duration": 0,
    "start_time": "2022-09-15T06:58:25.386Z"
   },
   {
    "duration": 16,
    "start_time": "2022-09-15T07:06:00.375Z"
   },
   {
    "duration": 5,
    "start_time": "2022-09-15T07:06:16.913Z"
   },
   {
    "duration": 16,
    "start_time": "2022-09-15T07:06:22.505Z"
   },
   {
    "duration": 34,
    "start_time": "2022-09-15T09:05:27.711Z"
   },
   {
    "duration": 11,
    "start_time": "2022-09-15T09:05:48.010Z"
   },
   {
    "duration": 647,
    "start_time": "2022-09-15T09:05:54.598Z"
   },
   {
    "duration": 558,
    "start_time": "2022-09-15T09:06:21.558Z"
   },
   {
    "duration": 581,
    "start_time": "2022-09-15T09:08:46.757Z"
   },
   {
    "duration": 1399,
    "start_time": "2022-09-15T09:10:38.357Z"
   },
   {
    "duration": 70,
    "start_time": "2022-09-15T09:10:39.758Z"
   },
   {
    "duration": 11,
    "start_time": "2022-09-15T09:10:39.829Z"
   },
   {
    "duration": 14,
    "start_time": "2022-09-15T09:10:39.841Z"
   },
   {
    "duration": 3,
    "start_time": "2022-09-15T09:10:39.856Z"
   },
   {
    "duration": 7,
    "start_time": "2022-09-15T09:10:39.860Z"
   },
   {
    "duration": 355,
    "start_time": "2022-09-15T09:10:39.869Z"
   },
   {
    "duration": 10,
    "start_time": "2022-09-15T09:10:40.226Z"
   },
   {
    "duration": 687,
    "start_time": "2022-09-15T09:10:40.237Z"
   },
   {
    "duration": 97,
    "start_time": "2022-09-15T09:10:40.926Z"
   },
   {
    "duration": 126,
    "start_time": "2022-09-15T09:10:41.025Z"
   },
   {
    "duration": 0,
    "start_time": "2022-09-15T09:10:41.153Z"
   },
   {
    "duration": 0,
    "start_time": "2022-09-15T09:10:41.154Z"
   },
   {
    "duration": 0,
    "start_time": "2022-09-15T09:10:41.155Z"
   },
   {
    "duration": 0,
    "start_time": "2022-09-15T09:10:41.156Z"
   },
   {
    "duration": 0,
    "start_time": "2022-09-15T09:10:41.157Z"
   },
   {
    "duration": 0,
    "start_time": "2022-09-15T09:10:41.158Z"
   },
   {
    "duration": 0,
    "start_time": "2022-09-15T09:10:41.159Z"
   },
   {
    "duration": 0,
    "start_time": "2022-09-15T09:10:41.160Z"
   },
   {
    "duration": 4,
    "start_time": "2022-09-15T09:11:15.539Z"
   },
   {
    "duration": 1356,
    "start_time": "2022-09-15T09:11:21.736Z"
   },
   {
    "duration": 205,
    "start_time": "2022-09-15T09:11:23.094Z"
   },
   {
    "duration": 11,
    "start_time": "2022-09-15T09:11:23.300Z"
   },
   {
    "duration": 13,
    "start_time": "2022-09-15T09:11:23.313Z"
   },
   {
    "duration": 3,
    "start_time": "2022-09-15T09:11:23.328Z"
   },
   {
    "duration": 8,
    "start_time": "2022-09-15T09:11:23.333Z"
   },
   {
    "duration": 351,
    "start_time": "2022-09-15T09:11:23.342Z"
   },
   {
    "duration": 10,
    "start_time": "2022-09-15T09:11:23.695Z"
   },
   {
    "duration": 774,
    "start_time": "2022-09-15T09:11:23.706Z"
   },
   {
    "duration": 99,
    "start_time": "2022-09-15T09:11:24.482Z"
   },
   {
    "duration": 123,
    "start_time": "2022-09-15T09:11:24.582Z"
   },
   {
    "duration": 1,
    "start_time": "2022-09-15T09:11:24.706Z"
   },
   {
    "duration": 0,
    "start_time": "2022-09-15T09:11:24.708Z"
   },
   {
    "duration": 0,
    "start_time": "2022-09-15T09:11:24.709Z"
   },
   {
    "duration": 0,
    "start_time": "2022-09-15T09:11:24.710Z"
   },
   {
    "duration": 0,
    "start_time": "2022-09-15T09:11:24.711Z"
   },
   {
    "duration": 0,
    "start_time": "2022-09-15T09:11:24.722Z"
   },
   {
    "duration": 0,
    "start_time": "2022-09-15T09:11:24.723Z"
   },
   {
    "duration": 0,
    "start_time": "2022-09-15T09:11:24.724Z"
   },
   {
    "duration": 12,
    "start_time": "2022-09-15T09:12:05.103Z"
   },
   {
    "duration": 1432,
    "start_time": "2022-09-15T09:13:06.291Z"
   },
   {
    "duration": 86,
    "start_time": "2022-09-15T09:13:07.724Z"
   },
   {
    "duration": 11,
    "start_time": "2022-09-15T09:13:07.812Z"
   },
   {
    "duration": 14,
    "start_time": "2022-09-15T09:13:07.825Z"
   },
   {
    "duration": 3,
    "start_time": "2022-09-15T09:13:07.841Z"
   },
   {
    "duration": 11,
    "start_time": "2022-09-15T09:13:07.845Z"
   },
   {
    "duration": 386,
    "start_time": "2022-09-15T09:13:07.857Z"
   },
   {
    "duration": 11,
    "start_time": "2022-09-15T09:13:08.245Z"
   },
   {
    "duration": 861,
    "start_time": "2022-09-15T09:13:08.258Z"
   },
   {
    "duration": 105,
    "start_time": "2022-09-15T09:13:09.121Z"
   },
   {
    "duration": 8,
    "start_time": "2022-09-15T09:13:09.228Z"
   },
   {
    "duration": 11,
    "start_time": "2022-09-15T09:13:09.237Z"
   },
   {
    "duration": 36216,
    "start_time": "2022-09-15T09:13:09.249Z"
   },
   {
    "duration": 107,
    "start_time": "2022-09-15T09:13:45.467Z"
   },
   {
    "duration": 8,
    "start_time": "2022-09-15T09:13:45.576Z"
   },
   {
    "duration": 845,
    "start_time": "2022-09-15T09:13:45.586Z"
   },
   {
    "duration": 93,
    "start_time": "2022-09-15T09:13:46.432Z"
   },
   {
    "duration": 9,
    "start_time": "2022-09-15T09:13:46.526Z"
   },
   {
    "duration": 42,
    "start_time": "2022-09-15T09:13:46.536Z"
   },
   {
    "duration": 50172,
    "start_time": "2022-09-15T09:16:52.744Z"
   },
   {
    "duration": 110,
    "start_time": "2022-09-15T09:17:48.718Z"
   },
   {
    "duration": 15,
    "start_time": "2022-09-15T09:19:09.320Z"
   },
   {
    "duration": 1418,
    "start_time": "2022-09-15T09:19:18.457Z"
   },
   {
    "duration": 68,
    "start_time": "2022-09-15T09:19:19.877Z"
   },
   {
    "duration": 11,
    "start_time": "2022-09-15T09:19:19.946Z"
   },
   {
    "duration": 14,
    "start_time": "2022-09-15T09:19:19.959Z"
   },
   {
    "duration": 3,
    "start_time": "2022-09-15T09:19:19.974Z"
   },
   {
    "duration": 7,
    "start_time": "2022-09-15T09:19:19.979Z"
   },
   {
    "duration": 361,
    "start_time": "2022-09-15T09:19:19.987Z"
   },
   {
    "duration": 8,
    "start_time": "2022-09-15T09:19:20.350Z"
   },
   {
    "duration": 814,
    "start_time": "2022-09-15T09:19:20.360Z"
   },
   {
    "duration": 98,
    "start_time": "2022-09-15T09:19:21.176Z"
   },
   {
    "duration": 8,
    "start_time": "2022-09-15T09:19:21.276Z"
   },
   {
    "duration": 13,
    "start_time": "2022-09-15T09:19:21.285Z"
   },
   {
    "duration": 49740,
    "start_time": "2022-09-15T09:19:21.299Z"
   },
   {
    "duration": 117,
    "start_time": "2022-09-15T09:20:11.042Z"
   },
   {
    "duration": 9,
    "start_time": "2022-09-15T09:20:11.160Z"
   },
   {
    "duration": 88556,
    "start_time": "2022-09-15T09:20:11.171Z"
   },
   {
    "duration": 9,
    "start_time": "2022-09-15T09:21:39.729Z"
   },
   {
    "duration": 89,
    "start_time": "2022-09-15T09:21:39.739Z"
   },
   {
    "duration": 10,
    "start_time": "2022-09-15T09:21:39.829Z"
   },
   {
    "duration": 1349,
    "start_time": "2022-09-15T09:23:03.073Z"
   },
   {
    "duration": 88,
    "start_time": "2022-09-15T09:23:04.424Z"
   },
   {
    "duration": 11,
    "start_time": "2022-09-15T09:23:04.514Z"
   },
   {
    "duration": 14,
    "start_time": "2022-09-15T09:23:04.526Z"
   },
   {
    "duration": 4,
    "start_time": "2022-09-15T09:23:04.541Z"
   },
   {
    "duration": 14,
    "start_time": "2022-09-15T09:23:04.546Z"
   },
   {
    "duration": 386,
    "start_time": "2022-09-15T09:23:04.562Z"
   },
   {
    "duration": 8,
    "start_time": "2022-09-15T09:23:04.950Z"
   },
   {
    "duration": 795,
    "start_time": "2022-09-15T09:23:04.959Z"
   },
   {
    "duration": 130,
    "start_time": "2022-09-15T09:23:05.756Z"
   },
   {
    "duration": 0,
    "start_time": "2022-09-15T09:23:05.888Z"
   },
   {
    "duration": 0,
    "start_time": "2022-09-15T09:23:05.889Z"
   },
   {
    "duration": 0,
    "start_time": "2022-09-15T09:23:05.891Z"
   },
   {
    "duration": 0,
    "start_time": "2022-09-15T09:23:05.892Z"
   },
   {
    "duration": 0,
    "start_time": "2022-09-15T09:23:05.893Z"
   },
   {
    "duration": 0,
    "start_time": "2022-09-15T09:23:05.894Z"
   },
   {
    "duration": 0,
    "start_time": "2022-09-15T09:23:05.895Z"
   },
   {
    "duration": 0,
    "start_time": "2022-09-15T09:23:05.896Z"
   },
   {
    "duration": 0,
    "start_time": "2022-09-15T09:23:05.897Z"
   },
   {
    "duration": 0,
    "start_time": "2022-09-15T09:23:05.898Z"
   },
   {
    "duration": 1971,
    "start_time": "2022-09-15T09:23:36.652Z"
   },
   {
    "duration": 1981,
    "start_time": "2022-09-15T09:27:24.343Z"
   },
   {
    "duration": 1879,
    "start_time": "2022-09-15T09:27:44.745Z"
   },
   {
    "duration": 1983,
    "start_time": "2022-09-15T09:28:15.739Z"
   },
   {
    "duration": 1742,
    "start_time": "2022-09-15T09:28:26.081Z"
   },
   {
    "duration": 1511,
    "start_time": "2022-09-15T09:29:59.998Z"
   },
   {
    "duration": 121,
    "start_time": "2022-09-15T09:30:01.511Z"
   },
   {
    "duration": 12,
    "start_time": "2022-09-15T09:30:01.634Z"
   },
   {
    "duration": 44,
    "start_time": "2022-09-15T09:30:01.649Z"
   },
   {
    "duration": 14,
    "start_time": "2022-09-15T09:30:01.695Z"
   },
   {
    "duration": 32,
    "start_time": "2022-09-15T09:30:01.710Z"
   },
   {
    "duration": 401,
    "start_time": "2022-09-15T09:30:01.744Z"
   },
   {
    "duration": 9,
    "start_time": "2022-09-15T09:30:02.146Z"
   },
   {
    "duration": 827,
    "start_time": "2022-09-15T09:30:02.157Z"
   },
   {
    "duration": 1941,
    "start_time": "2022-09-15T09:30:02.987Z"
   },
   {
    "duration": 260,
    "start_time": "2022-09-15T09:30:04.930Z"
   },
   {
    "duration": 8,
    "start_time": "2022-09-15T09:30:05.191Z"
   },
   {
    "duration": 35,
    "start_time": "2022-09-15T09:30:05.200Z"
   },
   {
    "duration": 49106,
    "start_time": "2022-09-15T09:30:05.236Z"
   },
   {
    "duration": 123,
    "start_time": "2022-09-15T09:30:54.345Z"
   },
   {
    "duration": 9,
    "start_time": "2022-09-15T09:30:54.470Z"
   },
   {
    "duration": 158441,
    "start_time": "2022-09-15T09:30:54.481Z"
   },
   {
    "duration": 13,
    "start_time": "2022-09-15T09:33:32.924Z"
   },
   {
    "duration": 17,
    "start_time": "2022-09-15T09:33:32.939Z"
   },
   {
    "duration": 71,
    "start_time": "2022-09-15T09:33:32.957Z"
   },
   {
    "duration": 64,
    "start_time": "2022-09-15T09:42:00.134Z"
   },
   {
    "duration": 9,
    "start_time": "2022-09-15T09:43:47.148Z"
   },
   {
    "duration": 1504,
    "start_time": "2022-09-15T09:43:52.517Z"
   },
   {
    "duration": 111,
    "start_time": "2022-09-15T09:43:54.023Z"
   },
   {
    "duration": 19,
    "start_time": "2022-09-15T09:43:54.137Z"
   },
   {
    "duration": 24,
    "start_time": "2022-09-15T09:43:54.158Z"
   },
   {
    "duration": 3,
    "start_time": "2022-09-15T09:43:54.185Z"
   },
   {
    "duration": 35,
    "start_time": "2022-09-15T09:43:54.190Z"
   },
   {
    "duration": 363,
    "start_time": "2022-09-15T09:43:54.227Z"
   },
   {
    "duration": 11,
    "start_time": "2022-09-15T09:43:54.591Z"
   },
   {
    "duration": 868,
    "start_time": "2022-09-15T09:43:54.603Z"
   },
   {
    "duration": 1450,
    "start_time": "2022-09-15T09:43:55.473Z"
   },
   {
    "duration": 236,
    "start_time": "2022-09-15T09:43:56.931Z"
   },
   {
    "duration": 12,
    "start_time": "2022-09-15T09:43:57.170Z"
   },
   {
    "duration": 20,
    "start_time": "2022-09-15T09:43:57.184Z"
   },
   {
    "duration": 58039,
    "start_time": "2022-09-15T09:43:57.207Z"
   },
   {
    "duration": 161,
    "start_time": "2022-09-15T09:44:55.248Z"
   },
   {
    "duration": 17,
    "start_time": "2022-09-15T09:44:55.410Z"
   },
   {
    "duration": 121498,
    "start_time": "2022-09-15T09:44:55.429Z"
   },
   {
    "duration": 13,
    "start_time": "2022-09-15T09:46:56.929Z"
   },
   {
    "duration": 92,
    "start_time": "2022-09-15T09:46:56.943Z"
   },
   {
    "duration": 12,
    "start_time": "2022-09-15T09:46:57.037Z"
   },
   {
    "duration": 1424,
    "start_time": "2022-09-15T09:59:16.120Z"
   },
   {
    "duration": 69,
    "start_time": "2022-09-15T09:59:17.546Z"
   },
   {
    "duration": 13,
    "start_time": "2022-09-15T09:59:17.617Z"
   },
   {
    "duration": 21,
    "start_time": "2022-09-15T09:59:17.631Z"
   },
   {
    "duration": 3,
    "start_time": "2022-09-15T09:59:17.655Z"
   },
   {
    "duration": 9,
    "start_time": "2022-09-15T09:59:17.660Z"
   },
   {
    "duration": 381,
    "start_time": "2022-09-15T09:59:17.671Z"
   },
   {
    "duration": 8,
    "start_time": "2022-09-15T09:59:18.054Z"
   },
   {
    "duration": 817,
    "start_time": "2022-09-15T09:59:18.064Z"
   },
   {
    "duration": 1740,
    "start_time": "2022-09-15T09:59:18.883Z"
   },
   {
    "duration": 174,
    "start_time": "2022-09-15T09:59:20.626Z"
   },
   {
    "duration": 23,
    "start_time": "2022-09-15T09:59:20.802Z"
   },
   {
    "duration": 10,
    "start_time": "2022-09-15T09:59:20.827Z"
   },
   {
    "duration": 54953,
    "start_time": "2022-09-15T09:59:20.839Z"
   },
   {
    "duration": 127,
    "start_time": "2022-09-15T10:00:15.793Z"
   },
   {
    "duration": 10,
    "start_time": "2022-09-15T10:00:15.922Z"
   },
   {
    "duration": 94194,
    "start_time": "2022-09-15T10:00:15.934Z"
   },
   {
    "duration": 93,
    "start_time": "2022-09-15T10:01:50.129Z"
   },
   {
    "duration": 13,
    "start_time": "2022-09-15T10:01:50.224Z"
   },
   {
    "duration": 20,
    "start_time": "2022-09-15T10:01:50.239Z"
   },
   {
    "duration": 9,
    "start_time": "2022-09-15T10:02:46.153Z"
   },
   {
    "duration": 56,
    "start_time": "2022-09-15T10:03:58.606Z"
   },
   {
    "duration": 77,
    "start_time": "2022-09-15T10:04:57.934Z"
   },
   {
    "duration": 72,
    "start_time": "2022-09-15T10:05:14.742Z"
   },
   {
    "duration": 1363,
    "start_time": "2022-09-15T10:07:34.863Z"
   },
   {
    "duration": 73,
    "start_time": "2022-09-15T10:07:36.228Z"
   },
   {
    "duration": 12,
    "start_time": "2022-09-15T10:07:36.303Z"
   },
   {
    "duration": 15,
    "start_time": "2022-09-15T10:07:36.316Z"
   },
   {
    "duration": 3,
    "start_time": "2022-09-15T10:07:36.334Z"
   },
   {
    "duration": 9,
    "start_time": "2022-09-15T10:07:36.339Z"
   },
   {
    "duration": 355,
    "start_time": "2022-09-15T10:07:36.349Z"
   },
   {
    "duration": 8,
    "start_time": "2022-09-15T10:07:36.706Z"
   },
   {
    "duration": 774,
    "start_time": "2022-09-15T10:07:36.715Z"
   },
   {
    "duration": 1632,
    "start_time": "2022-09-15T10:07:37.491Z"
   },
   {
    "duration": 169,
    "start_time": "2022-09-15T10:07:39.126Z"
   },
   {
    "duration": 25,
    "start_time": "2022-09-15T10:07:39.297Z"
   },
   {
    "duration": 11,
    "start_time": "2022-09-15T10:07:39.324Z"
   },
   {
    "duration": 65191,
    "start_time": "2022-09-15T10:07:39.337Z"
   },
   {
    "duration": 118,
    "start_time": "2022-09-15T10:08:44.530Z"
   },
   {
    "duration": 8,
    "start_time": "2022-09-15T10:08:44.650Z"
   },
   {
    "duration": 966,
    "start_time": "2022-09-15T10:08:44.659Z"
   },
   {
    "duration": 10,
    "start_time": "2022-09-15T10:08:45.627Z"
   },
   {
    "duration": 89,
    "start_time": "2022-09-15T10:08:45.638Z"
   },
   {
    "duration": 50,
    "start_time": "2022-09-15T10:08:45.729Z"
   },
   {
    "duration": 126,
    "start_time": "2022-09-15T10:09:46.502Z"
   },
   {
    "duration": 1335,
    "start_time": "2022-09-15T10:15:09.673Z"
   },
   {
    "duration": 78,
    "start_time": "2022-09-15T10:15:11.010Z"
   },
   {
    "duration": 10,
    "start_time": "2022-09-15T10:15:11.090Z"
   },
   {
    "duration": 16,
    "start_time": "2022-09-15T10:15:11.102Z"
   },
   {
    "duration": 3,
    "start_time": "2022-09-15T10:15:11.119Z"
   },
   {
    "duration": 9,
    "start_time": "2022-09-15T10:15:11.123Z"
   },
   {
    "duration": 343,
    "start_time": "2022-09-15T10:15:11.133Z"
   },
   {
    "duration": 8,
    "start_time": "2022-09-15T10:15:11.478Z"
   },
   {
    "duration": 765,
    "start_time": "2022-09-15T10:15:11.487Z"
   },
   {
    "duration": 1674,
    "start_time": "2022-09-15T10:15:12.253Z"
   },
   {
    "duration": 261,
    "start_time": "2022-09-15T10:15:13.929Z"
   },
   {
    "duration": 9,
    "start_time": "2022-09-15T10:15:14.191Z"
   },
   {
    "duration": 30,
    "start_time": "2022-09-15T10:15:14.201Z"
   },
   {
    "duration": 53860,
    "start_time": "2022-09-15T10:15:14.233Z"
   },
   {
    "duration": 116,
    "start_time": "2022-09-15T10:16:08.094Z"
   },
   {
    "duration": 14,
    "start_time": "2022-09-15T10:16:08.211Z"
   },
   {
    "duration": 1301,
    "start_time": "2022-09-15T10:16:08.226Z"
   },
   {
    "duration": 16,
    "start_time": "2022-09-15T10:16:09.528Z"
   },
   {
    "duration": 82,
    "start_time": "2022-09-15T10:16:09.545Z"
   },
   {
    "duration": 9,
    "start_time": "2022-09-15T10:16:09.628Z"
   },
   {
    "duration": 1349,
    "start_time": "2022-09-15T10:35:36.548Z"
   },
   {
    "duration": 107,
    "start_time": "2022-09-15T10:35:37.899Z"
   },
   {
    "duration": 11,
    "start_time": "2022-09-15T10:35:38.008Z"
   },
   {
    "duration": 14,
    "start_time": "2022-09-15T10:35:38.021Z"
   },
   {
    "duration": 4,
    "start_time": "2022-09-15T10:35:38.037Z"
   },
   {
    "duration": 9,
    "start_time": "2022-09-15T10:35:38.042Z"
   },
   {
    "duration": 352,
    "start_time": "2022-09-15T10:35:38.052Z"
   },
   {
    "duration": 9,
    "start_time": "2022-09-15T10:35:38.406Z"
   },
   {
    "duration": 827,
    "start_time": "2022-09-15T10:35:38.417Z"
   },
   {
    "duration": 1586,
    "start_time": "2022-09-15T10:35:39.245Z"
   },
   {
    "duration": 174,
    "start_time": "2022-09-15T10:35:40.924Z"
   },
   {
    "duration": 24,
    "start_time": "2022-09-15T10:35:41.099Z"
   },
   {
    "duration": 11,
    "start_time": "2022-09-15T10:35:41.124Z"
   },
   {
    "duration": 64487,
    "start_time": "2022-09-15T10:35:41.137Z"
   },
   {
    "duration": 121,
    "start_time": "2022-09-15T10:36:45.626Z"
   },
   {
    "duration": 9,
    "start_time": "2022-09-15T10:36:45.749Z"
   },
   {
    "duration": 1069,
    "start_time": "2022-09-15T10:36:45.760Z"
   },
   {
    "duration": 9,
    "start_time": "2022-09-15T10:36:46.830Z"
   },
   {
    "duration": 89,
    "start_time": "2022-09-15T10:36:46.841Z"
   },
   {
    "duration": 10,
    "start_time": "2022-09-15T10:36:46.931Z"
   },
   {
    "duration": 11,
    "start_time": "2022-09-15T10:38:02.024Z"
   },
   {
    "duration": 192582,
    "start_time": "2022-09-15T10:38:42.749Z"
   },
   {
    "duration": 105,
    "start_time": "2022-09-15T10:42:50.917Z"
   },
   {
    "duration": 12,
    "start_time": "2022-09-15T10:42:56.525Z"
   },
   {
    "duration": 99,
    "start_time": "2022-09-15T10:43:40.842Z"
   },
   {
    "duration": 1348,
    "start_time": "2022-09-15T10:46:13.474Z"
   },
   {
    "duration": 71,
    "start_time": "2022-09-15T10:46:14.824Z"
   },
   {
    "duration": 12,
    "start_time": "2022-09-15T10:46:14.896Z"
   },
   {
    "duration": 14,
    "start_time": "2022-09-15T10:46:14.909Z"
   },
   {
    "duration": 3,
    "start_time": "2022-09-15T10:46:14.925Z"
   },
   {
    "duration": 10,
    "start_time": "2022-09-15T10:46:14.929Z"
   },
   {
    "duration": 332,
    "start_time": "2022-09-15T10:46:14.940Z"
   },
   {
    "duration": 8,
    "start_time": "2022-09-15T10:46:15.274Z"
   },
   {
    "duration": 804,
    "start_time": "2022-09-15T10:46:15.283Z"
   },
   {
    "duration": 1642,
    "start_time": "2022-09-15T10:46:16.089Z"
   },
   {
    "duration": 292,
    "start_time": "2022-09-15T10:46:17.732Z"
   },
   {
    "duration": 10,
    "start_time": "2022-09-15T10:46:18.026Z"
   },
   {
    "duration": 13,
    "start_time": "2022-09-15T10:46:18.037Z"
   },
   {
    "duration": 65639,
    "start_time": "2022-09-15T10:46:18.052Z"
   },
   {
    "duration": 108,
    "start_time": "2022-09-15T10:47:23.692Z"
   },
   {
    "duration": 10,
    "start_time": "2022-09-15T10:47:23.801Z"
   },
   {
    "duration": 9204,
    "start_time": "2022-09-15T10:47:23.821Z"
   },
   {
    "duration": 100,
    "start_time": "2022-09-15T10:47:33.026Z"
   },
   {
    "duration": 9,
    "start_time": "2022-09-15T10:47:33.127Z"
   },
   {
    "duration": 134,
    "start_time": "2022-09-15T10:47:33.138Z"
   },
   {
    "duration": 223,
    "start_time": "2022-09-15T10:50:59.837Z"
   },
   {
    "duration": 114,
    "start_time": "2022-09-15T10:51:36.844Z"
   },
   {
    "duration": 13,
    "start_time": "2022-09-15T10:52:40.740Z"
   },
   {
    "duration": 13,
    "start_time": "2022-09-15T10:52:53.321Z"
   },
   {
    "duration": 13,
    "start_time": "2022-09-15T10:53:03.922Z"
   },
   {
    "duration": 14,
    "start_time": "2022-09-15T10:53:12.201Z"
   },
   {
    "duration": 60,
    "start_time": "2022-09-15T10:53:25.413Z"
   },
   {
    "duration": 203,
    "start_time": "2022-09-15T10:53:35.093Z"
   },
   {
    "duration": 218,
    "start_time": "2022-09-15T10:54:48.908Z"
   },
   {
    "duration": 209,
    "start_time": "2022-09-15T10:56:07.457Z"
   },
   {
    "duration": 212,
    "start_time": "2022-09-15T10:57:22.579Z"
   },
   {
    "duration": 1658,
    "start_time": "2022-09-15T14:17:45.468Z"
   },
   {
    "duration": 248,
    "start_time": "2022-09-15T14:17:47.128Z"
   },
   {
    "duration": 13,
    "start_time": "2022-09-15T14:17:47.388Z"
   },
   {
    "duration": 14,
    "start_time": "2022-09-15T14:17:47.403Z"
   },
   {
    "duration": 3,
    "start_time": "2022-09-15T14:17:47.419Z"
   },
   {
    "duration": 8,
    "start_time": "2022-09-15T14:17:47.424Z"
   },
   {
    "duration": 394,
    "start_time": "2022-09-15T14:17:47.434Z"
   },
   {
    "duration": 9,
    "start_time": "2022-09-15T14:17:47.830Z"
   },
   {
    "duration": 916,
    "start_time": "2022-09-15T14:17:47.841Z"
   },
   {
    "duration": 6135,
    "start_time": "2022-09-15T14:17:48.759Z"
   },
   {
    "duration": 256,
    "start_time": "2022-09-15T14:17:54.899Z"
   },
   {
    "duration": 37,
    "start_time": "2022-09-15T14:17:55.157Z"
   },
   {
    "duration": 21,
    "start_time": "2022-09-15T14:17:55.196Z"
   },
   {
    "duration": 191989,
    "start_time": "2022-09-15T14:17:55.220Z"
   },
   {
    "duration": 139,
    "start_time": "2022-09-15T14:21:07.211Z"
   },
   {
    "duration": 41,
    "start_time": "2022-09-15T14:21:07.352Z"
   },
   {
    "duration": 120392,
    "start_time": "2022-09-15T14:21:07.396Z"
   },
   {
    "duration": 95,
    "start_time": "2022-09-15T14:23:07.789Z"
   },
   {
    "duration": 310,
    "start_time": "2022-09-15T14:23:07.887Z"
   },
   {
    "duration": 10,
    "start_time": "2022-09-15T14:23:08.198Z"
   },
   {
    "duration": 134,
    "start_time": "2022-09-15T14:23:08.210Z"
   },
   {
    "duration": 81,
    "start_time": "2022-09-15T14:31:13.205Z"
   },
   {
    "duration": 1412,
    "start_time": "2022-09-15T14:32:27.717Z"
   },
   {
    "duration": 73,
    "start_time": "2022-09-15T14:32:29.131Z"
   },
   {
    "duration": 12,
    "start_time": "2022-09-15T14:32:29.205Z"
   },
   {
    "duration": 15,
    "start_time": "2022-09-15T14:32:29.219Z"
   },
   {
    "duration": 2,
    "start_time": "2022-09-15T14:32:29.237Z"
   },
   {
    "duration": 10,
    "start_time": "2022-09-15T14:32:29.241Z"
   },
   {
    "duration": 371,
    "start_time": "2022-09-15T14:32:29.253Z"
   },
   {
    "duration": 8,
    "start_time": "2022-09-15T14:32:29.626Z"
   },
   {
    "duration": 859,
    "start_time": "2022-09-15T14:32:29.636Z"
   },
   {
    "duration": 1588,
    "start_time": "2022-09-15T14:32:30.497Z"
   },
   {
    "duration": 176,
    "start_time": "2022-09-15T14:32:32.178Z"
   },
   {
    "duration": 21,
    "start_time": "2022-09-15T14:32:32.356Z"
   },
   {
    "duration": 11,
    "start_time": "2022-09-15T14:32:32.379Z"
   },
   {
    "duration": 51779,
    "start_time": "2022-09-15T14:32:32.393Z"
   },
   {
    "duration": 124,
    "start_time": "2022-09-15T14:33:24.173Z"
   },
   {
    "duration": 13,
    "start_time": "2022-09-15T14:33:24.299Z"
   },
   {
    "duration": 28181,
    "start_time": "2022-09-15T14:33:24.314Z"
   },
   {
    "duration": 180,
    "start_time": "2022-09-15T14:33:52.497Z"
   },
   {
    "duration": 244,
    "start_time": "2022-09-15T14:33:52.679Z"
   },
   {
    "duration": 10,
    "start_time": "2022-09-15T14:33:52.924Z"
   },
   {
    "duration": 56,
    "start_time": "2022-09-15T14:33:52.936Z"
   },
   {
    "duration": 1606,
    "start_time": "2022-09-15T16:48:08.547Z"
   },
   {
    "duration": 183,
    "start_time": "2022-09-15T16:48:10.155Z"
   },
   {
    "duration": 20,
    "start_time": "2022-09-15T16:48:10.340Z"
   },
   {
    "duration": 18,
    "start_time": "2022-09-15T16:48:10.362Z"
   },
   {
    "duration": 4,
    "start_time": "2022-09-15T16:48:10.383Z"
   },
   {
    "duration": 8,
    "start_time": "2022-09-15T16:48:10.389Z"
   },
   {
    "duration": 446,
    "start_time": "2022-09-15T16:48:10.399Z"
   },
   {
    "duration": 9,
    "start_time": "2022-09-15T16:48:10.846Z"
   },
   {
    "duration": 802,
    "start_time": "2022-09-15T16:48:10.856Z"
   },
   {
    "duration": 1639,
    "start_time": "2022-09-15T16:48:11.660Z"
   },
   {
    "duration": 180,
    "start_time": "2022-09-15T16:48:13.390Z"
   },
   {
    "duration": 36,
    "start_time": "2022-09-15T16:48:13.572Z"
   },
   {
    "duration": 15,
    "start_time": "2022-09-15T16:48:13.609Z"
   },
   {
    "duration": 191185,
    "start_time": "2022-09-15T16:48:13.626Z"
   },
   {
    "duration": 134,
    "start_time": "2022-09-15T16:51:24.813Z"
   },
   {
    "duration": 140,
    "start_time": "2022-09-15T16:51:24.949Z"
   },
   {
    "duration": 13312,
    "start_time": "2022-09-15T16:51:25.094Z"
   },
   {
    "duration": 90,
    "start_time": "2022-09-15T16:51:38.408Z"
   },
   {
    "duration": 322,
    "start_time": "2022-09-15T16:51:38.499Z"
   },
   {
    "duration": 11,
    "start_time": "2022-09-15T16:51:38.822Z"
   },
   {
    "duration": 62,
    "start_time": "2022-09-15T16:51:38.834Z"
   },
   {
    "duration": 10912,
    "start_time": "2022-09-15T18:02:22.988Z"
   },
   {
    "duration": 1626,
    "start_time": "2022-09-15T18:03:29.161Z"
   },
   {
    "duration": 136,
    "start_time": "2022-09-15T18:03:30.789Z"
   },
   {
    "duration": 11,
    "start_time": "2022-09-15T18:03:30.927Z"
   },
   {
    "duration": 42,
    "start_time": "2022-09-15T18:03:30.939Z"
   },
   {
    "duration": 20,
    "start_time": "2022-09-15T18:03:30.984Z"
   },
   {
    "duration": 25,
    "start_time": "2022-09-15T18:03:31.005Z"
   },
   {
    "duration": 385,
    "start_time": "2022-09-15T18:03:31.032Z"
   },
   {
    "duration": 9,
    "start_time": "2022-09-15T18:03:31.418Z"
   },
   {
    "duration": 942,
    "start_time": "2022-09-15T18:03:31.429Z"
   },
   {
    "duration": 1921,
    "start_time": "2022-09-15T18:03:32.373Z"
   },
   {
    "duration": 207,
    "start_time": "2022-09-15T18:03:34.388Z"
   },
   {
    "duration": 28,
    "start_time": "2022-09-15T18:03:34.597Z"
   },
   {
    "duration": 16,
    "start_time": "2022-09-15T18:03:34.627Z"
   },
   {
    "duration": 190428,
    "start_time": "2022-09-15T18:03:34.645Z"
   },
   {
    "duration": 132,
    "start_time": "2022-09-15T18:06:45.075Z"
   },
   {
    "duration": 88,
    "start_time": "2022-09-15T18:06:45.208Z"
   },
   {
    "duration": 16305,
    "start_time": "2022-09-15T18:06:45.298Z"
   },
   {
    "duration": 185,
    "start_time": "2022-09-15T18:07:01.605Z"
   },
   {
    "duration": 313,
    "start_time": "2022-09-15T18:07:01.793Z"
   },
   {
    "duration": 10,
    "start_time": "2022-09-15T18:07:02.108Z"
   },
   {
    "duration": 79,
    "start_time": "2022-09-15T18:07:02.119Z"
   },
   {
    "duration": 75,
    "start_time": "2022-09-15T18:08:13.814Z"
   },
   {
    "duration": 1570,
    "start_time": "2022-09-15T18:08:53.167Z"
   },
   {
    "duration": 91,
    "start_time": "2022-09-15T18:08:54.739Z"
   },
   {
    "duration": 12,
    "start_time": "2022-09-15T18:08:54.832Z"
   },
   {
    "duration": 15,
    "start_time": "2022-09-15T18:08:54.846Z"
   },
   {
    "duration": 3,
    "start_time": "2022-09-15T18:08:54.864Z"
   },
   {
    "duration": 10,
    "start_time": "2022-09-15T18:08:54.869Z"
   },
   {
    "duration": 348,
    "start_time": "2022-09-15T18:08:54.881Z"
   },
   {
    "duration": 9,
    "start_time": "2022-09-15T18:08:55.231Z"
   },
   {
    "duration": 828,
    "start_time": "2022-09-15T18:08:55.242Z"
   },
   {
    "duration": 1817,
    "start_time": "2022-09-15T18:08:56.072Z"
   },
   {
    "duration": 169,
    "start_time": "2022-09-15T18:08:57.892Z"
   },
   {
    "duration": 33,
    "start_time": "2022-09-15T18:08:58.063Z"
   },
   {
    "duration": 13,
    "start_time": "2022-09-15T18:08:58.097Z"
   },
   {
    "duration": 106716,
    "start_time": "2022-09-15T18:08:58.112Z"
   },
   {
    "duration": 113,
    "start_time": "2022-09-15T18:10:44.830Z"
   },
   {
    "duration": 9,
    "start_time": "2022-09-15T18:10:44.945Z"
   },
   {
    "duration": 9608,
    "start_time": "2022-09-15T18:10:44.991Z"
   },
   {
    "duration": 98,
    "start_time": "2022-09-15T18:10:54.601Z"
   },
   {
    "duration": 305,
    "start_time": "2022-09-15T18:10:54.700Z"
   },
   {
    "duration": 9,
    "start_time": "2022-09-15T18:10:55.007Z"
   },
   {
    "duration": 76,
    "start_time": "2022-09-15T18:10:55.018Z"
   },
   {
    "duration": 5,
    "start_time": "2022-09-15T18:18:38.324Z"
   },
   {
    "duration": 255,
    "start_time": "2022-09-15T18:18:40.465Z"
   },
   {
    "duration": 137,
    "start_time": "2022-09-15T18:32:24.425Z"
   },
   {
    "duration": 19,
    "start_time": "2022-09-15T18:32:46.081Z"
   },
   {
    "duration": 32,
    "start_time": "2022-09-15T18:33:52.989Z"
   },
   {
    "duration": 308,
    "start_time": "2022-09-15T18:34:02.321Z"
   },
   {
    "duration": 18,
    "start_time": "2022-09-15T18:34:51.472Z"
   },
   {
    "duration": 20,
    "start_time": "2022-09-15T18:35:17.540Z"
   },
   {
    "duration": 2750,
    "start_time": "2022-09-15T18:35:31.712Z"
   },
   {
    "duration": 355,
    "start_time": "2022-09-15T18:35:34.464Z"
   },
   {
    "duration": 13,
    "start_time": "2022-09-15T18:35:34.821Z"
   },
   {
    "duration": 15,
    "start_time": "2022-09-15T18:35:34.836Z"
   },
   {
    "duration": 4,
    "start_time": "2022-09-15T18:35:34.853Z"
   },
   {
    "duration": 7,
    "start_time": "2022-09-15T18:35:34.859Z"
   },
   {
    "duration": 401,
    "start_time": "2022-09-15T18:35:34.868Z"
   },
   {
    "duration": 117,
    "start_time": "2022-09-15T18:35:35.270Z"
   },
   {
    "duration": 9,
    "start_time": "2022-09-15T18:35:35.388Z"
   },
   {
    "duration": 768,
    "start_time": "2022-09-15T18:35:35.400Z"
   },
   {
    "duration": 1918,
    "start_time": "2022-09-15T18:35:36.170Z"
   },
   {
    "duration": 201,
    "start_time": "2022-09-15T18:35:38.091Z"
   },
   {
    "duration": 13,
    "start_time": "2022-09-15T18:35:38.294Z"
   },
   {
    "duration": 12,
    "start_time": "2022-09-15T18:35:38.309Z"
   },
   {
    "duration": 107246,
    "start_time": "2022-09-15T18:35:38.323Z"
   },
   {
    "duration": 116,
    "start_time": "2022-09-15T18:37:25.571Z"
   },
   {
    "duration": 10,
    "start_time": "2022-09-15T18:37:25.689Z"
   },
   {
    "duration": 8896,
    "start_time": "2022-09-15T18:37:25.701Z"
   },
   {
    "duration": 95,
    "start_time": "2022-09-15T18:37:34.599Z"
   },
   {
    "duration": 272,
    "start_time": "2022-09-15T18:37:34.696Z"
   },
   {
    "duration": 20,
    "start_time": "2022-09-15T18:37:34.969Z"
   },
   {
    "duration": 17,
    "start_time": "2022-09-15T18:37:34.990Z"
   },
   {
    "duration": 116,
    "start_time": "2022-09-15T18:41:28.908Z"
   },
   {
    "duration": 187,
    "start_time": "2022-09-15T18:42:03.613Z"
   },
   {
    "duration": 297,
    "start_time": "2022-09-15T18:42:25.874Z"
   },
   {
    "duration": 1613,
    "start_time": "2022-09-15T18:42:38.653Z"
   },
   {
    "duration": 101,
    "start_time": "2022-09-15T18:42:40.268Z"
   },
   {
    "duration": 15,
    "start_time": "2022-09-15T18:42:40.371Z"
   },
   {
    "duration": 15,
    "start_time": "2022-09-15T18:42:40.387Z"
   },
   {
    "duration": 5,
    "start_time": "2022-09-15T18:42:40.405Z"
   },
   {
    "duration": 10,
    "start_time": "2022-09-15T18:42:40.412Z"
   },
   {
    "duration": 413,
    "start_time": "2022-09-15T18:42:40.424Z"
   },
   {
    "duration": 524,
    "start_time": "2022-09-15T18:42:40.839Z"
   },
   {
    "duration": 0,
    "start_time": "2022-09-15T18:42:41.365Z"
   },
   {
    "duration": 0,
    "start_time": "2022-09-15T18:42:41.367Z"
   },
   {
    "duration": 0,
    "start_time": "2022-09-15T18:42:41.368Z"
   },
   {
    "duration": 0,
    "start_time": "2022-09-15T18:42:41.369Z"
   },
   {
    "duration": 0,
    "start_time": "2022-09-15T18:42:41.371Z"
   },
   {
    "duration": 0,
    "start_time": "2022-09-15T18:42:41.372Z"
   },
   {
    "duration": 0,
    "start_time": "2022-09-15T18:42:41.374Z"
   },
   {
    "duration": 0,
    "start_time": "2022-09-15T18:42:41.375Z"
   },
   {
    "duration": 0,
    "start_time": "2022-09-15T18:42:41.390Z"
   },
   {
    "duration": 0,
    "start_time": "2022-09-15T18:42:41.391Z"
   },
   {
    "duration": 0,
    "start_time": "2022-09-15T18:42:41.392Z"
   },
   {
    "duration": 0,
    "start_time": "2022-09-15T18:42:41.393Z"
   },
   {
    "duration": 0,
    "start_time": "2022-09-15T18:42:41.394Z"
   },
   {
    "duration": 0,
    "start_time": "2022-09-15T18:42:41.395Z"
   },
   {
    "duration": 16,
    "start_time": "2022-09-15T18:43:11.089Z"
   },
   {
    "duration": 1522,
    "start_time": "2022-09-15T18:43:17.690Z"
   },
   {
    "duration": 115,
    "start_time": "2022-09-15T18:43:19.213Z"
   },
   {
    "duration": 13,
    "start_time": "2022-09-15T18:43:19.330Z"
   },
   {
    "duration": 16,
    "start_time": "2022-09-15T18:43:19.344Z"
   },
   {
    "duration": 8,
    "start_time": "2022-09-15T18:43:19.362Z"
   },
   {
    "duration": 10,
    "start_time": "2022-09-15T18:43:19.372Z"
   },
   {
    "duration": 366,
    "start_time": "2022-09-15T18:43:19.383Z"
   },
   {
    "duration": 226,
    "start_time": "2022-09-15T18:43:19.751Z"
   },
   {
    "duration": 17,
    "start_time": "2022-09-15T18:43:19.978Z"
   },
   {
    "duration": 775,
    "start_time": "2022-09-15T18:43:19.997Z"
   },
   {
    "duration": 1720,
    "start_time": "2022-09-15T18:43:20.773Z"
   },
   {
    "duration": 269,
    "start_time": "2022-09-15T18:43:22.498Z"
   },
   {
    "duration": 26,
    "start_time": "2022-09-15T18:43:22.768Z"
   },
   {
    "duration": 11,
    "start_time": "2022-09-15T18:43:22.797Z"
   },
   {
    "duration": 1564,
    "start_time": "2022-09-15T18:44:17.712Z"
   },
   {
    "duration": 104,
    "start_time": "2022-09-15T18:44:19.278Z"
   },
   {
    "duration": 15,
    "start_time": "2022-09-15T18:44:19.384Z"
   },
   {
    "duration": 16,
    "start_time": "2022-09-15T18:44:19.400Z"
   },
   {
    "duration": 3,
    "start_time": "2022-09-15T18:44:19.418Z"
   },
   {
    "duration": 14,
    "start_time": "2022-09-15T18:44:19.422Z"
   },
   {
    "duration": 388,
    "start_time": "2022-09-15T18:44:19.437Z"
   },
   {
    "duration": 234,
    "start_time": "2022-09-15T18:44:19.827Z"
   },
   {
    "duration": 9,
    "start_time": "2022-09-15T18:44:20.063Z"
   },
   {
    "duration": 801,
    "start_time": "2022-09-15T18:44:20.090Z"
   },
   {
    "duration": 2006,
    "start_time": "2022-09-15T18:44:20.894Z"
   },
   {
    "duration": 179,
    "start_time": "2022-09-15T18:44:22.992Z"
   },
   {
    "duration": 24,
    "start_time": "2022-09-15T18:44:23.188Z"
   },
   {
    "duration": 13,
    "start_time": "2022-09-15T18:44:23.215Z"
   },
   {
    "duration": 193626,
    "start_time": "2022-09-15T18:44:23.230Z"
   },
   {
    "duration": 139,
    "start_time": "2022-09-15T18:47:36.858Z"
   },
   {
    "duration": 99,
    "start_time": "2022-09-15T18:47:36.999Z"
   },
   {
    "duration": 19119,
    "start_time": "2022-09-15T18:47:37.190Z"
   },
   {
    "duration": 178,
    "start_time": "2022-09-15T18:47:56.311Z"
   },
   {
    "duration": 238,
    "start_time": "2022-09-15T18:47:56.491Z"
   },
   {
    "duration": 10,
    "start_time": "2022-09-15T18:47:56.731Z"
   },
   {
    "duration": 65,
    "start_time": "2022-09-15T18:47:56.743Z"
   },
   {
    "duration": 140,
    "start_time": "2022-09-15T18:52:37.306Z"
   },
   {
    "duration": 1529,
    "start_time": "2022-09-15T19:03:22.192Z"
   },
   {
    "duration": 98,
    "start_time": "2022-09-15T19:03:23.723Z"
   },
   {
    "duration": 11,
    "start_time": "2022-09-15T19:03:23.823Z"
   },
   {
    "duration": 14,
    "start_time": "2022-09-15T19:03:23.836Z"
   },
   {
    "duration": 3,
    "start_time": "2022-09-15T19:03:23.852Z"
   },
   {
    "duration": 11,
    "start_time": "2022-09-15T19:03:23.856Z"
   },
   {
    "duration": 372,
    "start_time": "2022-09-15T19:03:23.869Z"
   },
   {
    "duration": 230,
    "start_time": "2022-09-15T19:03:24.243Z"
   },
   {
    "duration": 17,
    "start_time": "2022-09-15T19:03:24.475Z"
   },
   {
    "duration": 808,
    "start_time": "2022-09-15T19:03:24.494Z"
   },
   {
    "duration": 1991,
    "start_time": "2022-09-15T19:03:25.304Z"
   },
   {
    "duration": 265,
    "start_time": "2022-09-15T19:03:27.297Z"
   },
   {
    "duration": 43,
    "start_time": "2022-09-15T19:03:27.564Z"
   },
   {
    "duration": 13,
    "start_time": "2022-09-15T19:03:27.609Z"
   },
   {
    "duration": 194497,
    "start_time": "2022-09-15T19:03:27.624Z"
   },
   {
    "duration": 129,
    "start_time": "2022-09-15T19:06:42.123Z"
   },
   {
    "duration": 139,
    "start_time": "2022-09-15T19:06:42.254Z"
   },
   {
    "duration": 12604,
    "start_time": "2022-09-15T19:06:42.395Z"
   },
   {
    "duration": 99,
    "start_time": "2022-09-15T19:06:55.001Z"
   },
   {
    "duration": 332,
    "start_time": "2022-09-15T19:06:55.102Z"
   },
   {
    "duration": 13,
    "start_time": "2022-09-15T19:06:55.435Z"
   },
   {
    "duration": 57,
    "start_time": "2022-09-15T19:06:55.450Z"
   },
   {
    "duration": 124,
    "start_time": "2022-09-15T19:08:40.873Z"
   },
   {
    "duration": 21,
    "start_time": "2022-09-15T19:09:17.281Z"
   },
   {
    "duration": 7227,
    "start_time": "2022-09-15T19:09:29.627Z"
   },
   {
    "duration": 10,
    "start_time": "2022-09-15T19:10:37.997Z"
   },
   {
    "duration": 6,
    "start_time": "2022-09-15T19:11:04.300Z"
   },
   {
    "duration": 18,
    "start_time": "2022-09-15T19:11:12.640Z"
   },
   {
    "duration": 7002,
    "start_time": "2022-09-15T19:13:20.346Z"
   },
   {
    "duration": 68,
    "start_time": "2022-09-15T19:15:08.062Z"
   },
   {
    "duration": 1633,
    "start_time": "2022-10-04T07:22:04.122Z"
   },
   {
    "duration": 310,
    "start_time": "2022-10-04T07:22:05.757Z"
   },
   {
    "duration": 12,
    "start_time": "2022-10-04T07:22:06.069Z"
   },
   {
    "duration": 14,
    "start_time": "2022-10-04T07:22:06.083Z"
   },
   {
    "duration": 3,
    "start_time": "2022-10-04T07:22:06.098Z"
   },
   {
    "duration": 8,
    "start_time": "2022-10-04T07:22:06.102Z"
   },
   {
    "duration": 353,
    "start_time": "2022-10-04T07:22:06.112Z"
   },
   {
    "duration": 265,
    "start_time": "2022-10-04T07:22:06.469Z"
   },
   {
    "duration": 7,
    "start_time": "2022-10-04T07:22:06.736Z"
   },
   {
    "duration": 805,
    "start_time": "2022-10-04T07:22:06.745Z"
   },
   {
    "duration": 1451,
    "start_time": "2022-10-04T07:22:07.552Z"
   },
   {
    "duration": 262,
    "start_time": "2022-10-04T07:22:09.004Z"
   },
   {
    "duration": 37,
    "start_time": "2022-10-04T07:22:09.267Z"
   },
   {
    "duration": 13,
    "start_time": "2022-10-04T07:22:09.305Z"
   },
   {
    "duration": 175013,
    "start_time": "2022-10-04T07:22:09.319Z"
   },
   {
    "duration": 127,
    "start_time": "2022-10-04T07:25:04.334Z"
   },
   {
    "duration": 136,
    "start_time": "2022-10-04T07:25:04.462Z"
   },
   {
    "duration": 11305,
    "start_time": "2022-10-04T07:25:04.600Z"
   },
   {
    "duration": 96,
    "start_time": "2022-10-04T07:25:15.907Z"
   },
   {
    "duration": 6490,
    "start_time": "2022-10-04T07:25:16.005Z"
   },
   {
    "duration": 242,
    "start_time": "2022-10-04T07:25:22.496Z"
   },
   {
    "duration": 10,
    "start_time": "2022-10-04T07:25:22.739Z"
   },
   {
    "duration": 52,
    "start_time": "2022-10-04T07:25:22.751Z"
   },
   {
    "duration": 6751,
    "start_time": "2022-10-04T07:25:22.804Z"
   }
  ],
  "kernelspec": {
   "display_name": "Python 3 (ipykernel)",
   "language": "python",
   "name": "python3"
  },
  "language_info": {
   "codemirror_mode": {
    "name": "ipython",
    "version": 3
   },
   "file_extension": ".py",
   "mimetype": "text/x-python",
   "name": "python",
   "nbconvert_exporter": "python",
   "pygments_lexer": "ipython3",
   "version": "3.9.5"
  },
  "toc": {
   "base_numbering": 1,
   "nav_menu": {},
   "number_sections": true,
   "sideBar": true,
   "skip_h1_title": true,
   "title_cell": "Содержание",
   "title_sidebar": "Contents",
   "toc_cell": true,
   "toc_position": {
    "height": "calc(100% - 180px)",
    "left": "10px",
    "top": "150px",
    "width": "165px"
   },
   "toc_section_display": true,
   "toc_window_display": true
  }
 },
 "nbformat": 4,
 "nbformat_minor": 2
}
